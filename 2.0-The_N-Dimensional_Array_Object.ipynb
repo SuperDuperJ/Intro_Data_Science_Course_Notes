{
 "cells": [
  {
   "cell_type": "markdown",
   "id": "e9baa678",
   "metadata": {},
   "source": [
    "### Getting Started\n",
    "\n",
    "In this chapter we will use the NumPy library.  To tell Python that we want to use this library, we run the folowing code."
   ]
  },
  {
   "cell_type": "code",
   "execution_count": 1,
   "id": "70205991",
   "metadata": {},
   "outputs": [],
   "source": [
    "import numpy as np"
   ]
  },
  {
   "cell_type": "markdown",
   "id": "4260b25d",
   "metadata": {},
   "source": [
    "This tells Python that we want to use NumPy.  The 'as np' part creates an *alias* so that we don't have to write 'numpy' all the time.  Instead we can just write np.\n",
    "\n",
    "### N-Dimensional Arrays\n",
    "\n",
    "The N-Dimensional Array (often abbreviated ndarray) is a multidimensional data structure for holding data.  The most common way to define an ndarray is to use the np.array function.\n",
    "\n",
    "##### Example 1"
   ]
  },
  {
   "cell_type": "code",
   "execution_count": 2,
   "id": "e40660c5",
   "metadata": {},
   "outputs": [
    {
     "data": {
      "text/plain": [
       "array([[1, 2, 3],\n",
       "       [4, 5, 6]])"
      ]
     },
     "execution_count": 2,
     "metadata": {},
     "output_type": "execute_result"
    }
   ],
   "source": [
    "#An ndarray\n",
    "A = np.array([[1,2,3],[4,5,6]])\n",
    "A"
   ]
  },
  {
   "cell_type": "markdown",
   "id": "e242cb36",
   "metadata": {},
   "source": [
    "The *shape* of this ndarray is $2 \\times 3$, since there are 2 rows and 3 columns.  In NumPy, we use the convention that the shape of an array is given by \n",
    "\n",
    "number of rows $\\times$ number of columns.\n",
    "\n",
    "Since there are two dimensions (rows and columns), $A$ is a 2-Dimensional Array of shape $2 \\times 3$.\n",
    "\n",
    "We can determine the dimension of an ndarray using the *ndim* attribute."
   ]
  },
  {
   "cell_type": "code",
   "execution_count": 7,
   "id": "4d34bdba",
   "metadata": {},
   "outputs": [
    {
     "data": {
      "text/plain": [
       "2"
      ]
     },
     "execution_count": 7,
     "metadata": {},
     "output_type": "execute_result"
    }
   ],
   "source": [
    "A.ndim"
   ]
  },
  {
   "cell_type": "markdown",
   "id": "59a7c585",
   "metadata": {},
   "source": [
    "We can determine the shape of an ndarray using the *shape* attribute."
   ]
  },
  {
   "cell_type": "code",
   "execution_count": 6,
   "id": "f5c43ba4",
   "metadata": {},
   "outputs": [
    {
     "data": {
      "text/plain": [
       "(2, 3)"
      ]
     },
     "execution_count": 6,
     "metadata": {},
     "output_type": "execute_result"
    }
   ],
   "source": [
    "A.shape"
   ]
  },
  {
   "cell_type": "markdown",
   "id": "7ca2eae7",
   "metadata": {},
   "source": [
    "It is relatively clear that $A$ contains all integers.  So, the data type of $A$ should be of integer type.  We can check this using the *dtype* attribute."
   ]
  },
  {
   "cell_type": "code",
   "execution_count": 12,
   "id": "15864fa9",
   "metadata": {},
   "outputs": [
    {
     "data": {
      "text/plain": [
       "dtype('int32')"
      ]
     },
     "execution_count": 12,
     "metadata": {},
     "output_type": "execute_result"
    }
   ],
   "source": [
    "A.dtype"
   ]
  },
  {
   "cell_type": "markdown",
   "id": "4ed03849",
   "metadata": {},
   "source": [
    "To illustrate a little bit of the beauty of working with ndarrays, notice how we can treat our array $A$ like a single integer."
   ]
  },
  {
   "cell_type": "code",
   "execution_count": 13,
   "id": "2247c5c6",
   "metadata": {},
   "outputs": [
    {
     "data": {
      "text/plain": [
       "array([[ 2,  4,  6],\n",
       "       [ 8, 10, 12]])"
      ]
     },
     "execution_count": 13,
     "metadata": {},
     "output_type": "execute_result"
    }
   ],
   "source": [
    "2*A"
   ]
  },
  {
   "cell_type": "code",
   "execution_count": 14,
   "id": "449e24e3",
   "metadata": {},
   "outputs": [
    {
     "data": {
      "text/plain": [
       "array([[4, 5, 6],\n",
       "       [7, 8, 9]])"
      ]
     },
     "execution_count": 14,
     "metadata": {},
     "output_type": "execute_result"
    }
   ],
   "source": [
    "3+A"
   ]
  },
  {
   "cell_type": "code",
   "execution_count": 15,
   "id": "8d1b995f",
   "metadata": {},
   "outputs": [
    {
     "data": {
      "text/plain": [
       "array([[ 1,  4,  9],\n",
       "       [16, 25, 36]], dtype=int32)"
      ]
     },
     "execution_count": 15,
     "metadata": {},
     "output_type": "execute_result"
    }
   ],
   "source": [
    "A**2"
   ]
  },
  {
   "cell_type": "markdown",
   "id": "9edffe8e",
   "metadata": {},
   "source": [
    "$\\Box$\n",
    "\n",
    "A nice way to create an array is using the *reshape* method.\n",
    "\n",
    "##### Example 2"
   ]
  },
  {
   "cell_type": "code",
   "execution_count": 3,
   "id": "65219cbc",
   "metadata": {},
   "outputs": [
    {
     "data": {
      "text/plain": [
       "array([ 1,  2,  3,  4,  5,  6,  7,  8,  9, 10])"
      ]
     },
     "execution_count": 3,
     "metadata": {},
     "output_type": "execute_result"
    }
   ],
   "source": [
    "B = np.array([1,2,3,4,5,6,7,8,9,10])\n",
    "B"
   ]
  },
  {
   "cell_type": "code",
   "execution_count": 6,
   "id": "c6276375",
   "metadata": {},
   "outputs": [
    {
     "data": {
      "text/plain": [
       "array([[ 1,  2],\n",
       "       [ 3,  4],\n",
       "       [ 5,  6],\n",
       "       [ 7,  8],\n",
       "       [ 9, 10]])"
      ]
     },
     "execution_count": 6,
     "metadata": {},
     "output_type": "execute_result"
    }
   ],
   "source": [
    "B.reshape(5,2)"
   ]
  },
  {
   "cell_type": "markdown",
   "id": "4eba52c2",
   "metadata": {},
   "source": [
    "If -1 is passed as a shape parameter, NumPy will try to figure out what the shape must be.  In the example below, if we are going to have 5 rows, then there must be 2 columns.  So, when NumPy sees 5 rows, it replaces the -1 with 2. "
   ]
  },
  {
   "cell_type": "code",
   "execution_count": 7,
   "id": "08bb5e62",
   "metadata": {},
   "outputs": [
    {
     "data": {
      "text/plain": [
       "array([[ 1,  2],\n",
       "       [ 3,  4],\n",
       "       [ 5,  6],\n",
       "       [ 7,  8],\n",
       "       [ 9, 10]])"
      ]
     },
     "execution_count": 7,
     "metadata": {},
     "output_type": "execute_result"
    }
   ],
   "source": [
    "B.reshape(5,-1)"
   ]
  },
  {
   "cell_type": "markdown",
   "id": "9ccaaf5e",
   "metadata": {},
   "source": [
    "$\\Box$\n",
    "\n",
    "##### Example 3\n",
    "\n",
    "We can access elements in a 2D-array using two indices.  Just like in lists, indexing starts at 0."
   ]
  },
  {
   "cell_type": "code",
   "execution_count": 34,
   "id": "9462a3d5",
   "metadata": {},
   "outputs": [
    {
     "data": {
      "text/plain": [
       "array([[1, 2, 3],\n",
       "       [4, 5, 6]])"
      ]
     },
     "execution_count": 34,
     "metadata": {},
     "output_type": "execute_result"
    }
   ],
   "source": [
    "#Recall A\n",
    "A"
   ]
  },
  {
   "cell_type": "code",
   "execution_count": 25,
   "id": "9dac272d",
   "metadata": {},
   "outputs": [
    {
     "data": {
      "text/plain": [
       "6"
      ]
     },
     "execution_count": 25,
     "metadata": {},
     "output_type": "execute_result"
    }
   ],
   "source": [
    "A[1][2]"
   ]
  },
  {
   "cell_type": "code",
   "execution_count": 26,
   "id": "18bf8767",
   "metadata": {},
   "outputs": [
    {
     "data": {
      "text/plain": [
       "2"
      ]
     },
     "execution_count": 26,
     "metadata": {},
     "output_type": "execute_result"
    }
   ],
   "source": [
    "A[0][1]"
   ]
  },
  {
   "cell_type": "markdown",
   "id": "30389bd5",
   "metadata": {},
   "source": [
    "Using a single index returns a row."
   ]
  },
  {
   "cell_type": "code",
   "execution_count": 27,
   "id": "4d52fa6a",
   "metadata": {},
   "outputs": [
    {
     "data": {
      "text/plain": [
       "array([1, 2, 3])"
      ]
     },
     "execution_count": 27,
     "metadata": {},
     "output_type": "execute_result"
    }
   ],
   "source": [
    "A[0]"
   ]
  },
  {
   "cell_type": "markdown",
   "id": "6a6bf22f",
   "metadata": {},
   "source": [
    "$\\Box$\n",
    "\n",
    "##### Example 4"
   ]
  },
  {
   "cell_type": "code",
   "execution_count": 3,
   "id": "2f802444",
   "metadata": {},
   "outputs": [
    {
     "data": {
      "text/plain": [
       "[2, 3, 4, 5]"
      ]
     },
     "execution_count": 3,
     "metadata": {},
     "output_type": "execute_result"
    }
   ],
   "source": [
    "x = [1,2,3,4,5,6,7,8]\n",
    "x[1:5]"
   ]
  },
  {
   "cell_type": "code",
   "execution_count": 2,
   "id": "6929c2f4",
   "metadata": {},
   "outputs": [
    {
     "data": {
      "text/plain": [
       "array([[ 0,  1,  2,  3,  4],\n",
       "       [ 5,  6,  7,  8,  9],\n",
       "       [10, 11, 12, 13, 14],\n",
       "       [15, 16, 17, 18, 19]])"
      ]
     },
     "execution_count": 2,
     "metadata": {},
     "output_type": "execute_result"
    }
   ],
   "source": [
    "#A new array\n",
    "C = np.array(list(range(20))).reshape(4,-1)\n",
    "C"
   ]
  },
  {
   "cell_type": "code",
   "execution_count": 9,
   "id": "a8f85fa2",
   "metadata": {},
   "outputs": [
    {
     "data": {
      "text/plain": [
       "array([[ 0,  1,  2,  3,  4],\n",
       "       [ 5,  6,  7,  8,  9],\n",
       "       [10, 11, 12, 13, 14]])"
      ]
     },
     "execution_count": 9,
     "metadata": {},
     "output_type": "execute_result"
    }
   ],
   "source": [
    "C[0:-1]"
   ]
  },
  {
   "cell_type": "markdown",
   "id": "671860db",
   "metadata": {},
   "source": [
    "*Slicing* works much the same as it did with lists, only there can be more dimensions to deal with.  Keep in mind that, just like with .shape, we use the convention that rows come before columns."
   ]
  },
  {
   "cell_type": "code",
   "execution_count": 36,
   "id": "94a73510",
   "metadata": {},
   "outputs": [
    {
     "data": {
      "text/plain": [
       "array([[ 7,  8],\n",
       "       [12, 13]])"
      ]
     },
     "execution_count": 36,
     "metadata": {},
     "output_type": "execute_result"
    }
   ],
   "source": [
    "C[1:3, 2:4]"
   ]
  },
  {
   "cell_type": "code",
   "execution_count": 4,
   "id": "6a40f53a",
   "metadata": {},
   "outputs": [
    {
     "data": {
      "text/plain": [
       "array([[ 7,  8,  9],\n",
       "       [12, 13, 14],\n",
       "       [17, 18, 19]])"
      ]
     },
     "execution_count": 4,
     "metadata": {},
     "output_type": "execute_result"
    }
   ],
   "source": [
    "C[1:4, 2:5]"
   ]
  },
  {
   "cell_type": "code",
   "execution_count": 7,
   "id": "cb808ae0",
   "metadata": {},
   "outputs": [
    {
     "data": {
      "text/plain": [
       "array([[ 7,  8,  9],\n",
       "       [12, 13, 14],\n",
       "       [17, 18, 19]])"
      ]
     },
     "execution_count": 7,
     "metadata": {},
     "output_type": "execute_result"
    }
   ],
   "source": [
    "C[1:, 2:]"
   ]
  },
  {
   "cell_type": "code",
   "execution_count": 6,
   "id": "4da92f3b",
   "metadata": {},
   "outputs": [
    {
     "data": {
      "text/plain": [
       "array([[0, 1, 2],\n",
       "       [5, 6, 7]])"
      ]
     },
     "execution_count": 6,
     "metadata": {},
     "output_type": "execute_result"
    }
   ],
   "source": [
    "C[:2, :3]"
   ]
  },
  {
   "cell_type": "markdown",
   "id": "5ad6732d",
   "metadata": {},
   "source": [
    "To grab column 1, we have to tell NumPy first, that we want all rows, then columns 1 to 2-1=1."
   ]
  },
  {
   "cell_type": "code",
   "execution_count": 12,
   "id": "b92013fe",
   "metadata": {},
   "outputs": [
    {
     "data": {
      "text/plain": [
       "array([[ 1],\n",
       "       [ 6],\n",
       "       [11],\n",
       "       [16]])"
      ]
     },
     "execution_count": 12,
     "metadata": {},
     "output_type": "execute_result"
    }
   ],
   "source": [
    "C[:, 1:2]"
   ]
  },
  {
   "cell_type": "markdown",
   "id": "d2666795",
   "metadata": {},
   "source": [
    "To grab rows 1 and 2, we don't have to explicitly pass a second parameter."
   ]
  },
  {
   "cell_type": "code",
   "execution_count": 14,
   "id": "b91bf5f8",
   "metadata": {},
   "outputs": [
    {
     "data": {
      "text/plain": [
       "array([[ 5,  6,  7,  8,  9],\n",
       "       [10, 11, 12, 13, 14]])"
      ]
     },
     "execution_count": 14,
     "metadata": {},
     "output_type": "execute_result"
    }
   ],
   "source": [
    "C[1:3]"
   ]
  },
  {
   "cell_type": "markdown",
   "id": "eedf5a59",
   "metadata": {},
   "source": [
    "$\\Box$\n",
    "\n",
    "### Other Ways to Define an ndarray\n",
    "\n",
    "There are other ways to define an ndarry than using the np.array function.  These usually involve defining arrays that have a special form.  \n",
    "\n",
    "##### Example 5"
   ]
  },
  {
   "cell_type": "code",
   "execution_count": 17,
   "id": "391b3dd4",
   "metadata": {},
   "outputs": [
    {
     "data": {
      "text/plain": [
       "array([[1., 1., 1.],\n",
       "       [1., 1., 1.]])"
      ]
     },
     "execution_count": 17,
     "metadata": {},
     "output_type": "execute_result"
    }
   ],
   "source": [
    "#Define an array with all entries 1\n",
    "np.ones((2,3))"
   ]
  },
  {
   "cell_type": "markdown",
   "id": "6176be7b",
   "metadata": {},
   "source": [
    "$\\Box$\n",
    "\n",
    "##### Example 6"
   ]
  },
  {
   "cell_type": "code",
   "execution_count": 35,
   "id": "5fe847a8",
   "metadata": {},
   "outputs": [
    {
     "data": {
      "text/plain": [
       "array([[1., 0., 0.],\n",
       "       [0., 1., 0.],\n",
       "       [0., 0., 1.]])"
      ]
     },
     "execution_count": 35,
     "metadata": {},
     "output_type": "execute_result"
    }
   ],
   "source": [
    "#Define an identity matrix\n",
    "np.eye(3)"
   ]
  },
  {
   "cell_type": "markdown",
   "id": "56ea22ce",
   "metadata": {},
   "source": [
    "$\\Box$\n",
    "\n",
    "##### Example 7"
   ]
  },
  {
   "cell_type": "code",
   "execution_count": 18,
   "id": "a00be90a",
   "metadata": {},
   "outputs": [
    {
     "data": {
      "text/plain": [
       "array([[0., 0., 0., 0., 0.],\n",
       "       [0., 0., 0., 0., 0.],\n",
       "       [0., 0., 0., 0., 0.],\n",
       "       [0., 0., 0., 0., 0.]])"
      ]
     },
     "execution_count": 18,
     "metadata": {},
     "output_type": "execute_result"
    }
   ],
   "source": [
    "#Define an array of all zeros\n",
    "np.zeros((4,5))"
   ]
  },
  {
   "cell_type": "markdown",
   "id": "fe5208d8",
   "metadata": {},
   "source": [
    "$\\Box$\n",
    "\n",
    "This last example is especially useful.  Once an ndarray is defined, its size cannot change.  So, if you plan to populate an array (using a for-loop or other constructs), you need to have an array already initialized.\n",
    "\n",
    "This drawback to using arrays is reconciled by the speed with which computations can be performed."
   ]
  },
  {
   "cell_type": "markdown",
   "id": "7e86ba2b",
   "metadata": {},
   "source": [
    "##### Exercise 1\n",
    "\n",
    "Write code so that the following function performs the way that its docstring indicates.  **The first step, initializing a matrix of size (n,n) has been done for you**.\n",
    "\n",
    "Example: times_table(3) should output a $3 \\times 3$ array that looks like $\\begin{pmatrix}\n",
    "    1& 2& 3\\\\\n",
    "    2& 4& 6 \\\\\n",
    "    3& 6& 9 \\\\\n",
    "\\end{pmatrix}$.\n",
    "\n",
    "times_table(5) should output a $5 \\times 5$ array that looks like $\\begin{pmatrix}\n",
    "    1& 2& 3&4 &5\\\\\n",
    "    2& 4& 6& 8& 10 \\\\\n",
    "    3& 6& 9& 12& 15 \\\\\n",
    "    4&8&12&16&20\\\\\n",
    "    5&10&15&20&25\n",
    "\\end{pmatrix}$.\n",
    "\n",
    "Hint: You will probably need to use nested a for-loop to do this.  Later in this chapter, when we get to vectorization, you will learn a way to do this without nested loops."
   ]
  },
  {
   "cell_type": "code",
   "execution_count": 19,
   "id": "29e543fe",
   "metadata": {},
   "outputs": [],
   "source": [
    "def times_table(n):\n",
    "    \"\"\"\n",
    "    Parameters\n",
    "    -----------\n",
    "    n: positive integer\n",
    "    \n",
    "    Returns\n",
    "    -----------\n",
    "    ndarray of shape (n,n) that forms a times table\n",
    "    \"\"\"\n",
    "    A = np.zeros((n,n), dtype = 'int32')"
   ]
  },
  {
   "cell_type": "code",
   "execution_count": null,
   "id": "2cab47b5",
   "metadata": {},
   "outputs": [],
   "source": [
    "A = np.array(list(range(1,11))*10).reshape(10,-1)\n",
    "\n",
    "if not np.allclose(times_table(3), np.array([1,2,3,2,4,6,3,6,9]).reshape(3,3)):\n",
    "    print(\"Something is wrong with your code.\")\n",
    "elif not np.allclose(times_table(10), A.T * A):\n",
    "    print(\"Something is wrong with your code.\")\n",
    "else:\n",
    "    print(\"All tests passed.\")"
   ]
  },
  {
   "cell_type": "markdown",
   "id": "e6753d32",
   "metadata": {},
   "source": [
    "### Exotic Indexing Methods\n",
    "\n",
    "We saw in Examples 3 and 4 how to index a 2D-array using extensions (to handle more dimensions) of the indexing methods we learned for lists.  We will now see other ways to select values from an ndarray.\n",
    "\n",
    "##### Example 8"
   ]
  },
  {
   "cell_type": "code",
   "execution_count": 21,
   "id": "e997c1cb",
   "metadata": {},
   "outputs": [
    {
     "data": {
      "text/plain": [
       "array([[ 1,  2,  3,  4,  5,  6,  7],\n",
       "       [ 8,  9, 10, 11, 12, 13, 14],\n",
       "       [15, 16, 17, 18, 19, 20, 21],\n",
       "       [22, 23, 24, 25, 26, 27, 28],\n",
       "       [29, 30, 31, 32, 33, 34, 35]])"
      ]
     },
     "execution_count": 21,
     "metadata": {},
     "output_type": "execute_result"
    }
   ],
   "source": [
    "X = np.array(range(1,36)).reshape(5,7)\n",
    "X"
   ]
  },
  {
   "cell_type": "markdown",
   "id": "0ab7b935",
   "metadata": {},
   "source": [
    "We can index using an array of boolean values."
   ]
  },
  {
   "cell_type": "code",
   "execution_count": 22,
   "id": "b4ea4def",
   "metadata": {},
   "outputs": [
    {
     "data": {
      "text/plain": [
       "array([False,  True,  True, False, False])"
      ]
     },
     "execution_count": 22,
     "metadata": {},
     "output_type": "execute_result"
    }
   ],
   "source": [
    "boolean_array_rows = np.array([False, True, True, False, False])\n",
    "boolean_array_rows"
   ]
  },
  {
   "cell_type": "code",
   "execution_count": 25,
   "id": "80f7724d",
   "metadata": {},
   "outputs": [
    {
     "data": {
      "text/plain": [
       "array([[ 8,  9, 10, 11, 12, 13, 14],\n",
       "       [15, 16, 17, 18, 19, 20, 21]])"
      ]
     },
     "execution_count": 25,
     "metadata": {},
     "output_type": "execute_result"
    }
   ],
   "source": [
    "X[boolean_array_rows]"
   ]
  },
  {
   "cell_type": "markdown",
   "id": "e69d3cd7",
   "metadata": {},
   "source": [
    "If we want to index columns, we need seven boolean values since the array A has shape (5,7)."
   ]
  },
  {
   "cell_type": "code",
   "execution_count": 26,
   "id": "a727444d",
   "metadata": {},
   "outputs": [
    {
     "data": {
      "text/plain": [
       "array([ True, False,  True, False,  True, False,  True])"
      ]
     },
     "execution_count": 26,
     "metadata": {},
     "output_type": "execute_result"
    }
   ],
   "source": [
    "boolean_array_cols = np.array([True if x%2==0 else False for x in range(7) ])\n",
    "boolean_array_cols"
   ]
  },
  {
   "cell_type": "code",
   "execution_count": 27,
   "id": "8e719104",
   "metadata": {},
   "outputs": [
    {
     "data": {
      "text/plain": [
       "array([[ 1,  3,  5,  7],\n",
       "       [ 8, 10, 12, 14],\n",
       "       [15, 17, 19, 21],\n",
       "       [22, 24, 26, 28],\n",
       "       [29, 31, 33, 35]])"
      ]
     },
     "execution_count": 27,
     "metadata": {},
     "output_type": "execute_result"
    }
   ],
   "source": [
    "X[:, boolean_array_cols]"
   ]
  },
  {
   "cell_type": "markdown",
   "id": "cb8cdebc",
   "metadata": {},
   "source": [
    "We can even mix indexing methods."
   ]
  },
  {
   "cell_type": "code",
   "execution_count": 28,
   "id": "dd1108ca",
   "metadata": {},
   "outputs": [
    {
     "data": {
      "text/plain": [
       "array([[10, 11],\n",
       "       [17, 18]])"
      ]
     },
     "execution_count": 28,
     "metadata": {},
     "output_type": "execute_result"
    }
   ],
   "source": [
    "X[boolean_array_rows, 2:4]"
   ]
  },
  {
   "cell_type": "markdown",
   "id": "42cf57be",
   "metadata": {},
   "source": [
    "$\\Box$\n",
    "\n",
    "##### Example 9\n",
    "\n",
    "As an application to the methods in Example 8, suppose that each row of $X$ (from Example 8) corresponds to a letter grade in a class.  Suppose that the grades assigned are A, B, B, C, A and we want to select only the rows corresponding to a letter grade of B."
   ]
  },
  {
   "cell_type": "code",
   "execution_count": 29,
   "id": "12396309",
   "metadata": {},
   "outputs": [
    {
     "data": {
      "text/plain": [
       "array([[ 1,  2,  3,  4,  5,  6,  7],\n",
       "       [ 8,  9, 10, 11, 12, 13, 14],\n",
       "       [15, 16, 17, 18, 19, 20, 21],\n",
       "       [22, 23, 24, 25, 26, 27, 28],\n",
       "       [29, 30, 31, 32, 33, 34, 35]])"
      ]
     },
     "execution_count": 29,
     "metadata": {},
     "output_type": "execute_result"
    }
   ],
   "source": [
    "X"
   ]
  },
  {
   "cell_type": "code",
   "execution_count": 30,
   "id": "b54e2dc6",
   "metadata": {},
   "outputs": [],
   "source": [
    "grades = np.array(['A','B','B','C','A'])"
   ]
  },
  {
   "cell_type": "code",
   "execution_count": 32,
   "id": "25aa9685",
   "metadata": {},
   "outputs": [
    {
     "data": {
      "text/plain": [
       "array([[ 1,  2,  3,  4,  5,  6,  7],\n",
       "       [29, 30, 31, 32, 33, 34, 35]])"
      ]
     },
     "execution_count": 32,
     "metadata": {},
     "output_type": "execute_result"
    }
   ],
   "source": [
    "X[grades == 'A', :]"
   ]
  },
  {
   "cell_type": "markdown",
   "id": "69eb0642",
   "metadata": {},
   "source": [
    "Now suppose that the columns of X are the grades on HW Assignments 0-6 and we only want to see the scores for Assignments 0,2,4, and 6."
   ]
  },
  {
   "cell_type": "code",
   "execution_count": 34,
   "id": "dce93c8f",
   "metadata": {},
   "outputs": [
    {
     "data": {
      "text/plain": [
       "array([0, 1, 2, 3, 4, 5, 6])"
      ]
     },
     "execution_count": 34,
     "metadata": {},
     "output_type": "execute_result"
    }
   ],
   "source": [
    "assignments = np.array(range(7))\n",
    "assignments"
   ]
  },
  {
   "cell_type": "code",
   "execution_count": 45,
   "id": "199b284b",
   "metadata": {},
   "outputs": [
    {
     "data": {
      "text/plain": [
       "array([[ 1,  3,  5,  7],\n",
       "       [ 8, 10, 12, 14],\n",
       "       [15, 17, 19, 21],\n",
       "       [22, 24, 26, 28],\n",
       "       [29, 31, 33, 35]])"
      ]
     },
     "execution_count": 45,
     "metadata": {},
     "output_type": "execute_result"
    }
   ],
   "source": [
    "X[:, assignments%2 == 0]"
   ]
  },
  {
   "cell_type": "markdown",
   "id": "9b2fa222",
   "metadata": {},
   "source": [
    "$\\Box$\n",
    "\n",
    "##### Example 10\n",
    "\n",
    "Here, we pass a list of indices to get the rows we want."
   ]
  },
  {
   "cell_type": "code",
   "execution_count": 35,
   "id": "28a03809",
   "metadata": {},
   "outputs": [
    {
     "data": {
      "text/plain": [
       "array([[ 1,  2,  3,  4,  5,  6,  7],\n",
       "       [ 8,  9, 10, 11, 12, 13, 14],\n",
       "       [15, 16, 17, 18, 19, 20, 21],\n",
       "       [22, 23, 24, 25, 26, 27, 28],\n",
       "       [29, 30, 31, 32, 33, 34, 35]])"
      ]
     },
     "execution_count": 35,
     "metadata": {},
     "output_type": "execute_result"
    }
   ],
   "source": [
    "#Recall X\n",
    "X"
   ]
  },
  {
   "cell_type": "code",
   "execution_count": 36,
   "id": "439ebeb3",
   "metadata": {},
   "outputs": [
    {
     "data": {
      "text/plain": [
       "array([[15, 16, 17, 18, 19, 20, 21],\n",
       "       [29, 30, 31, 32, 33, 34, 35]])"
      ]
     },
     "execution_count": 36,
     "metadata": {},
     "output_type": "execute_result"
    }
   ],
   "source": [
    "X[[2,4]]"
   ]
  },
  {
   "cell_type": "markdown",
   "id": "e8c604cd",
   "metadata": {},
   "source": [
    "Now we pass a list of indices to the columns we want."
   ]
  },
  {
   "cell_type": "code",
   "execution_count": 37,
   "id": "5fbf1b10",
   "metadata": {},
   "outputs": [
    {
     "data": {
      "text/plain": [
       "array([[ 4,  5],\n",
       "       [11, 12],\n",
       "       [18, 19],\n",
       "       [25, 26],\n",
       "       [32, 33]])"
      ]
     },
     "execution_count": 37,
     "metadata": {},
     "output_type": "execute_result"
    }
   ],
   "source": [
    "X[:, [3,4]]"
   ]
  },
  {
   "cell_type": "markdown",
   "id": "7c8e3360",
   "metadata": {},
   "source": [
    "When we pass lists of indices for both the rows and the columns, something unexpected happens."
   ]
  },
  {
   "cell_type": "code",
   "execution_count": 38,
   "id": "10baa402",
   "metadata": {},
   "outputs": [
    {
     "data": {
      "text/plain": [
       "array([[ 1,  2,  3,  4,  5,  6,  7],\n",
       "       [ 8,  9, 10, 11, 12, 13, 14],\n",
       "       [15, 16, 17, 18, 19, 20, 21],\n",
       "       [22, 23, 24, 25, 26, 27, 28],\n",
       "       [29, 30, 31, 32, 33, 34, 35]])"
      ]
     },
     "execution_count": 38,
     "metadata": {},
     "output_type": "execute_result"
    }
   ],
   "source": [
    "X"
   ]
  },
  {
   "cell_type": "code",
   "execution_count": 39,
   "id": "876018a9",
   "metadata": {},
   "outputs": [
    {
     "data": {
      "text/plain": [
       "array([12, 21])"
      ]
     },
     "execution_count": 39,
     "metadata": {},
     "output_type": "execute_result"
    }
   ],
   "source": [
    "X[[1,2], [4,6]]"
   ]
  },
  {
   "cell_type": "markdown",
   "id": "0f762496",
   "metadata": {},
   "source": [
    "Here, we get an array whose elements are X[1][4] and X[2][6].\n",
    "\n",
    "$\\Box$\n",
    "\n",
    "### Combining Arrays\n",
    "\n",
    "We can combine (concatenate) two arrays using the *np.concatenate* function.  \n",
    "\n",
    "For a 2D-array we could do this by concatenating the rows or by concatenating the columns.  So, we need to tell NumPy whether to concatenate along the rows or the columns.\n",
    "\n",
    "The way we accomplish this is to pass an *axis* argument to the concatenate function.\n",
    "\n",
    "For a 2D-array, axis $0$ is the vertical (or row) axis and axis $1$ is the horizontal (or column) axis.\n",
    "\n",
    "##### Example 11"
   ]
  },
  {
   "cell_type": "code",
   "execution_count": 41,
   "id": "99d4fd8e",
   "metadata": {},
   "outputs": [
    {
     "data": {
      "text/plain": [
       "array([[1, 2, 3],\n",
       "       [4, 5, 6]])"
      ]
     },
     "execution_count": 41,
     "metadata": {},
     "output_type": "execute_result"
    }
   ],
   "source": [
    "A = np.array(range(1,7)).reshape(2,-1)\n",
    "A"
   ]
  },
  {
   "cell_type": "code",
   "execution_count": 42,
   "id": "0926f8ae",
   "metadata": {},
   "outputs": [
    {
     "data": {
      "text/plain": [
       "array([[10, 11, 12, 13, 14, 15, 16, 17, 18, 19],\n",
       "       [20, 21, 22, 23, 24, 25, 26, 27, 28, 29]])"
      ]
     },
     "execution_count": 42,
     "metadata": {},
     "output_type": "execute_result"
    }
   ],
   "source": [
    "B = np.array(range(10,30)).reshape(2,-1)\n",
    "B"
   ]
  },
  {
   "cell_type": "code",
   "execution_count": 43,
   "id": "3c0bd23b",
   "metadata": {},
   "outputs": [
    {
     "data": {
      "text/plain": [
       "array([[30, 31, 32],\n",
       "       [33, 34, 35],\n",
       "       [36, 37, 38],\n",
       "       [39, 40, 41],\n",
       "       [42, 43, 44]])"
      ]
     },
     "execution_count": 43,
     "metadata": {},
     "output_type": "execute_result"
    }
   ],
   "source": [
    "C = np.array(range(30,45)).reshape(-1,3)\n",
    "C"
   ]
  },
  {
   "cell_type": "code",
   "execution_count": 44,
   "id": "06939fb7",
   "metadata": {},
   "outputs": [
    {
     "data": {
      "text/plain": [
       "array([[ 1,  2,  3, 10, 11, 12, 13, 14, 15, 16, 17, 18, 19],\n",
       "       [ 4,  5,  6, 20, 21, 22, 23, 24, 25, 26, 27, 28, 29]])"
      ]
     },
     "execution_count": 44,
     "metadata": {},
     "output_type": "execute_result"
    }
   ],
   "source": [
    "np.concatenate([A,B], axis = 1)"
   ]
  },
  {
   "cell_type": "code",
   "execution_count": 45,
   "id": "50503dab",
   "metadata": {},
   "outputs": [
    {
     "ename": "ValueError",
     "evalue": "all the input array dimensions for the concatenation axis must match exactly, but along dimension 1, the array at index 0 has size 3 and the array at index 1 has size 10",
     "output_type": "error",
     "traceback": [
      "\u001b[1;31m---------------------------------------------------------------------------\u001b[0m",
      "\u001b[1;31mValueError\u001b[0m                                Traceback (most recent call last)",
      "Input \u001b[1;32mIn [45]\u001b[0m, in \u001b[0;36m<cell line: 1>\u001b[1;34m()\u001b[0m\n\u001b[1;32m----> 1\u001b[0m \u001b[43mnp\u001b[49m\u001b[38;5;241;43m.\u001b[39;49m\u001b[43mconcatenate\u001b[49m\u001b[43m(\u001b[49m\u001b[43m[\u001b[49m\u001b[43mA\u001b[49m\u001b[43m,\u001b[49m\u001b[43mB\u001b[49m\u001b[43m]\u001b[49m\u001b[43m,\u001b[49m\u001b[43m \u001b[49m\u001b[43maxis\u001b[49m\u001b[43m \u001b[49m\u001b[38;5;241;43m=\u001b[39;49m\u001b[43m \u001b[49m\u001b[38;5;241;43m0\u001b[39;49m\u001b[43m)\u001b[49m\n",
      "File \u001b[1;32m<__array_function__ internals>:5\u001b[0m, in \u001b[0;36mconcatenate\u001b[1;34m(*args, **kwargs)\u001b[0m\n",
      "\u001b[1;31mValueError\u001b[0m: all the input array dimensions for the concatenation axis must match exactly, but along dimension 1, the array at index 0 has size 3 and the array at index 1 has size 10"
     ]
    }
   ],
   "source": [
    "np.concatenate([A,B], axis = 0)"
   ]
  },
  {
   "cell_type": "code",
   "execution_count": 65,
   "id": "7824cdd7",
   "metadata": {},
   "outputs": [
    {
     "data": {
      "text/plain": [
       "array([[ 1,  2,  3],\n",
       "       [ 4,  5,  6],\n",
       "       [30, 31, 32],\n",
       "       [33, 34, 35],\n",
       "       [36, 37, 38],\n",
       "       [39, 40, 41],\n",
       "       [42, 43, 44]])"
      ]
     },
     "execution_count": 65,
     "metadata": {},
     "output_type": "execute_result"
    }
   ],
   "source": [
    "np.concatenate([A,C], axis = 0)"
   ]
  },
  {
   "cell_type": "markdown",
   "id": "547ecfa9",
   "metadata": {},
   "source": [
    "$\\Box$\n",
    "\n",
    "### Splitting Arrays\n",
    "\n",
    "We can split an array into two or more sub-arrays using the *np.split* function.\n",
    "\n",
    "##### Example 12"
   ]
  },
  {
   "cell_type": "code",
   "execution_count": 90,
   "id": "fa406981",
   "metadata": {},
   "outputs": [
    {
     "data": {
      "text/plain": [
       "array([[ 0,  1,  2,  3,  4,  5,  6,  7,  8,  9],\n",
       "       [10, 11, 12, 13, 14, 15, 16, 17, 18, 19],\n",
       "       [20, 21, 22, 23, 24, 25, 26, 27, 28, 29],\n",
       "       [30, 31, 32, 33, 34, 35, 36, 37, 38, 39],\n",
       "       [40, 41, 42, 43, 44, 45, 46, 47, 48, 49],\n",
       "       [50, 51, 52, 53, 54, 55, 56, 57, 58, 59],\n",
       "       [60, 61, 62, 63, 64, 65, 66, 67, 68, 69],\n",
       "       [70, 71, 72, 73, 74, 75, 76, 77, 78, 79],\n",
       "       [80, 81, 82, 83, 84, 85, 86, 87, 88, 89],\n",
       "       [90, 91, 92, 93, 94, 95, 96, 97, 98, 99]])"
      ]
     },
     "execution_count": 90,
     "metadata": {},
     "output_type": "execute_result"
    }
   ],
   "source": [
    "A = np.array([range(100)]).reshape(10,10)\n",
    "A"
   ]
  },
  {
   "cell_type": "code",
   "execution_count": 91,
   "id": "f9895aa3",
   "metadata": {},
   "outputs": [
    {
     "data": {
      "text/plain": [
       "[array([[ 0,  1,  2,  3,  4],\n",
       "        [10, 11, 12, 13, 14],\n",
       "        [20, 21, 22, 23, 24],\n",
       "        [30, 31, 32, 33, 34],\n",
       "        [40, 41, 42, 43, 44],\n",
       "        [50, 51, 52, 53, 54],\n",
       "        [60, 61, 62, 63, 64],\n",
       "        [70, 71, 72, 73, 74],\n",
       "        [80, 81, 82, 83, 84],\n",
       "        [90, 91, 92, 93, 94]]),\n",
       " array([[ 5,  6,  7,  8,  9],\n",
       "        [15, 16, 17, 18, 19],\n",
       "        [25, 26, 27, 28, 29],\n",
       "        [35, 36, 37, 38, 39],\n",
       "        [45, 46, 47, 48, 49],\n",
       "        [55, 56, 57, 58, 59],\n",
       "        [65, 66, 67, 68, 69],\n",
       "        [75, 76, 77, 78, 79],\n",
       "        [85, 86, 87, 88, 89],\n",
       "        [95, 96, 97, 98, 99]])]"
      ]
     },
     "execution_count": 91,
     "metadata": {},
     "output_type": "execute_result"
    }
   ],
   "source": [
    "np.split(A, [5], axis = 1)"
   ]
  },
  {
   "cell_type": "code",
   "execution_count": 92,
   "id": "423b3767",
   "metadata": {},
   "outputs": [
    {
     "data": {
      "text/plain": [
       "[array([[ 0,  1,  2,  3,  4,  5,  6,  7,  8,  9],\n",
       "        [10, 11, 12, 13, 14, 15, 16, 17, 18, 19],\n",
       "        [20, 21, 22, 23, 24, 25, 26, 27, 28, 29],\n",
       "        [30, 31, 32, 33, 34, 35, 36, 37, 38, 39],\n",
       "        [40, 41, 42, 43, 44, 45, 46, 47, 48, 49]]),\n",
       " array([[50, 51, 52, 53, 54, 55, 56, 57, 58, 59],\n",
       "        [60, 61, 62, 63, 64, 65, 66, 67, 68, 69],\n",
       "        [70, 71, 72, 73, 74, 75, 76, 77, 78, 79],\n",
       "        [80, 81, 82, 83, 84, 85, 86, 87, 88, 89],\n",
       "        [90, 91, 92, 93, 94, 95, 96, 97, 98, 99]])]"
      ]
     },
     "execution_count": 92,
     "metadata": {},
     "output_type": "execute_result"
    }
   ],
   "source": [
    "np.split(A, [5], axis = 0)"
   ]
  },
  {
   "cell_type": "code",
   "execution_count": 93,
   "id": "f622742c",
   "metadata": {},
   "outputs": [],
   "source": [
    "x,y,z = np.split(A, [3,7], axis = 1)"
   ]
  },
  {
   "cell_type": "code",
   "execution_count": 94,
   "id": "468a06ed",
   "metadata": {},
   "outputs": [
    {
     "data": {
      "text/plain": [
       "array([[ 0,  1,  2],\n",
       "       [10, 11, 12],\n",
       "       [20, 21, 22],\n",
       "       [30, 31, 32],\n",
       "       [40, 41, 42],\n",
       "       [50, 51, 52],\n",
       "       [60, 61, 62],\n",
       "       [70, 71, 72],\n",
       "       [80, 81, 82],\n",
       "       [90, 91, 92]])"
      ]
     },
     "execution_count": 94,
     "metadata": {},
     "output_type": "execute_result"
    }
   ],
   "source": [
    "x"
   ]
  },
  {
   "cell_type": "code",
   "execution_count": 95,
   "id": "7a4eb374",
   "metadata": {},
   "outputs": [
    {
     "data": {
      "text/plain": [
       "array([[ 3,  4,  5,  6],\n",
       "       [13, 14, 15, 16],\n",
       "       [23, 24, 25, 26],\n",
       "       [33, 34, 35, 36],\n",
       "       [43, 44, 45, 46],\n",
       "       [53, 54, 55, 56],\n",
       "       [63, 64, 65, 66],\n",
       "       [73, 74, 75, 76],\n",
       "       [83, 84, 85, 86],\n",
       "       [93, 94, 95, 96]])"
      ]
     },
     "execution_count": 95,
     "metadata": {},
     "output_type": "execute_result"
    }
   ],
   "source": [
    "y"
   ]
  },
  {
   "cell_type": "code",
   "execution_count": 96,
   "id": "20845c9f",
   "metadata": {},
   "outputs": [
    {
     "data": {
      "text/plain": [
       "array([[ 7,  8,  9],\n",
       "       [17, 18, 19],\n",
       "       [27, 28, 29],\n",
       "       [37, 38, 39],\n",
       "       [47, 48, 49],\n",
       "       [57, 58, 59],\n",
       "       [67, 68, 69],\n",
       "       [77, 78, 79],\n",
       "       [87, 88, 89],\n",
       "       [97, 98, 99]])"
      ]
     },
     "execution_count": 96,
     "metadata": {},
     "output_type": "execute_result"
    }
   ],
   "source": [
    "z"
   ]
  },
  {
   "cell_type": "markdown",
   "id": "86b5f85f",
   "metadata": {},
   "source": [
    "$\\Box$\n",
    "\n",
    "##### Exercise 2\n",
    "\n",
    "Write code so that the following function performs the way that is illustrated in the following examples.  \n",
    "\n",
    "Example: If $A =\\begin{pmatrix}\n",
    "    1& 2& 3& 4\\\\\n",
    "    5& 6& 7& 8 \\\\\n",
    "    9& 10& 11& 12 \\\\\n",
    "    13& 14& 15& 16\\\\\n",
    "\\end{pmatrix}$, then swap_regions(A) should return $\\begin{pmatrix}\n",
    "    11& 12& 9& 10\\\\\n",
    "    15& 16& 13& 14 \\\\\n",
    "    3& 4& 1& 2 \\\\\n",
    "    7& 8& 5& 6\\\\\n",
    "\\end{pmatrix}$.\n",
    "\n",
    "If $A =\\begin{pmatrix}\n",
    "    1& 2& 3& 4& 5& 6\\\\\n",
    "    7& 8& 9& 10& 11& 12 \\\\\n",
    "\\end{pmatrix}$, then swap_regions(A) should return $\\begin{pmatrix}\n",
    "    10& 11& 12& 7& 8& 9\\\\\n",
    "    4& 5& 6& 1& 2& 3 \\\\\n",
    "\\end{pmatrix}$."
   ]
  },
  {
   "cell_type": "code",
   "execution_count": 15,
   "id": "49b96c04",
   "metadata": {},
   "outputs": [],
   "source": [
    "def swap_regions(array):\n",
    "    \"\"\"\n",
    "    Parameters\n",
    "    -----------\n",
    "    array: ndarray of shape (m, n) where m and n are even positive integers\n",
    "    \"\"\""
   ]
  },
  {
   "cell_type": "code",
   "execution_count": null,
   "id": "2f12ef5e",
   "metadata": {},
   "outputs": [],
   "source": [
    "A = np.array(range(1,17)).reshape(4,4)\n",
    "A1 = np.array([11,12,9,10,15,16,13,14,3,4,1,2,7,8,5,6]).reshape(4,4)\n",
    "B = np.array(range(1,13)).reshape(2,6)\n",
    "B1 = np.array([10,11,12,7,8,9,4,5,6,1,2,3]).reshape(2,6)\n",
    "\n",
    "if not np.allclose(swap_regions(A), A1):\n",
    "    print(\"Something is wrong with your code.\")\n",
    "elif not np.allclose(swap_regions(B), B1):\n",
    "    print(\"Something is wrong with your code.\")\n",
    "else:\n",
    "    print(\"All tests passed.\")"
   ]
  },
  {
   "cell_type": "markdown",
   "id": "f5be3777",
   "metadata": {},
   "source": [
    "### Reshaping Arrays\n",
    "\n",
    "When performing operations on arrays, it is often the case that the shapes don't match up.  NumPy has many methods and functions defined to help change the shape of an ndarray.  \n",
    "\n",
    "##### Reshape\n",
    "\n",
    "We have seen the reshape method used a lot so far in this notebook.\n",
    "\n",
    "##### Example 13    "
   ]
  },
  {
   "cell_type": "code",
   "execution_count": 10,
   "id": "5bbb633e",
   "metadata": {},
   "outputs": [
    {
     "data": {
      "text/plain": [
       "array([ 1,  2,  3,  4,  5,  6,  7,  8,  9, 10])"
      ]
     },
     "execution_count": 10,
     "metadata": {},
     "output_type": "execute_result"
    }
   ],
   "source": [
    "#An array\n",
    "A = np.array([1,2,3,4,5,6,7,8,9,10])\n",
    "A"
   ]
  },
  {
   "cell_type": "code",
   "execution_count": 11,
   "id": "3d7059bb",
   "metadata": {},
   "outputs": [
    {
     "data": {
      "text/plain": [
       "(10,)"
      ]
     },
     "execution_count": 11,
     "metadata": {},
     "output_type": "execute_result"
    }
   ],
   "source": [
    "A.shape"
   ]
  },
  {
   "cell_type": "code",
   "execution_count": 12,
   "id": "02fd4671",
   "metadata": {},
   "outputs": [
    {
     "data": {
      "text/plain": [
       "1"
      ]
     },
     "execution_count": 12,
     "metadata": {},
     "output_type": "execute_result"
    }
   ],
   "source": [
    "A.ndim"
   ]
  },
  {
   "cell_type": "code",
   "execution_count": 13,
   "id": "27c63878",
   "metadata": {},
   "outputs": [
    {
     "data": {
      "text/plain": [
       "array([[ 1,  2,  3,  4,  5],\n",
       "       [ 6,  7,  8,  9, 10]])"
      ]
     },
     "execution_count": 13,
     "metadata": {},
     "output_type": "execute_result"
    }
   ],
   "source": [
    "A_reshaped = A.reshape(2,5)\n",
    "A_reshaped"
   ]
  },
  {
   "cell_type": "code",
   "execution_count": 14,
   "id": "eb6e58a2",
   "metadata": {},
   "outputs": [
    {
     "data": {
      "text/plain": [
       "(2, 5)"
      ]
     },
     "execution_count": 14,
     "metadata": {},
     "output_type": "execute_result"
    }
   ],
   "source": [
    "A_reshaped.shape"
   ]
  },
  {
   "cell_type": "markdown",
   "id": "88c13d4f",
   "metadata": {},
   "source": [
    "$\\Box$\n",
    "\n",
    "##### Ravel\n",
    "\n",
    "The *.ravel* method provides an opposite operation to the *.reshape* operation. \n",
    "\n",
    "##### Example 14"
   ]
  },
  {
   "cell_type": "code",
   "execution_count": 15,
   "id": "4df6e041",
   "metadata": {},
   "outputs": [
    {
     "data": {
      "text/plain": [
       "array([ 1,  2,  3,  4,  5,  6,  7,  8,  9, 10])"
      ]
     },
     "execution_count": 15,
     "metadata": {},
     "output_type": "execute_result"
    }
   ],
   "source": [
    "A"
   ]
  },
  {
   "cell_type": "code",
   "execution_count": 16,
   "id": "1a56212a",
   "metadata": {},
   "outputs": [
    {
     "data": {
      "text/plain": [
       "array([[ 1,  2,  3,  4,  5],\n",
       "       [ 6,  7,  8,  9, 10]])"
      ]
     },
     "execution_count": 16,
     "metadata": {},
     "output_type": "execute_result"
    }
   ],
   "source": [
    "#From above\n",
    "A_reshaped"
   ]
  },
  {
   "cell_type": "code",
   "execution_count": 17,
   "id": "01778b92",
   "metadata": {},
   "outputs": [
    {
     "data": {
      "text/plain": [
       "array([ 1,  2,  3,  4,  5,  6,  7,  8,  9, 10])"
      ]
     },
     "execution_count": 17,
     "metadata": {},
     "output_type": "execute_result"
    }
   ],
   "source": [
    "A_reshaped.ravel()"
   ]
  },
  {
   "cell_type": "markdown",
   "id": "715d0ffd",
   "metadata": {},
   "source": [
    "$\\Box$\n",
    "\n",
    "##### Transpose\n",
    "\n",
    "Given an array $A$, the transpose $A.T$ is the array whose columns and rows are the rows and columns, respectively, of $A$.\n",
    "\n",
    "##### Example 14"
   ]
  },
  {
   "cell_type": "code",
   "execution_count": 18,
   "id": "6012bad2",
   "metadata": {},
   "outputs": [
    {
     "data": {
      "text/plain": [
       "array([[ 0,  1,  2,  3,  4],\n",
       "       [ 5,  6,  7,  8,  9],\n",
       "       [10, 11, 12, 13, 14],\n",
       "       [15, 16, 17, 18, 19]])"
      ]
     },
     "execution_count": 18,
     "metadata": {},
     "output_type": "execute_result"
    }
   ],
   "source": [
    "#An array A\n",
    "A = np.array(range(20)).reshape(4,5)\n",
    "A"
   ]
  },
  {
   "cell_type": "code",
   "execution_count": 19,
   "id": "eb9dea06",
   "metadata": {},
   "outputs": [
    {
     "data": {
      "text/plain": [
       "array([[ 0,  5, 10, 15],\n",
       "       [ 1,  6, 11, 16],\n",
       "       [ 2,  7, 12, 17],\n",
       "       [ 3,  8, 13, 18],\n",
       "       [ 4,  9, 14, 19]])"
      ]
     },
     "execution_count": 19,
     "metadata": {},
     "output_type": "execute_result"
    }
   ],
   "source": [
    "#The transpose of A\n",
    "A.T"
   ]
  },
  {
   "cell_type": "markdown",
   "id": "913fa0fa",
   "metadata": {},
   "source": [
    "$\\Box$\n",
    "\n",
    "### Repeating Elements\n",
    "\n",
    "##### Repeat\n",
    "\n",
    "\n",
    "\n",
    "##### Example 15"
   ]
  },
  {
   "cell_type": "code",
   "execution_count": 20,
   "id": "ff17b828",
   "metadata": {},
   "outputs": [
    {
     "data": {
      "text/plain": [
       "array([[0, 1, 2],\n",
       "       [3, 4, 5]])"
      ]
     },
     "execution_count": 20,
     "metadata": {},
     "output_type": "execute_result"
    }
   ],
   "source": [
    "B = np.array([[0,1,2], [3,4,5]])\n",
    "B"
   ]
  },
  {
   "cell_type": "code",
   "execution_count": 22,
   "id": "354f0724",
   "metadata": {},
   "outputs": [
    {
     "data": {
      "text/plain": [
       "array([[0, 1, 2],\n",
       "       [0, 1, 2],\n",
       "       [0, 1, 2],\n",
       "       [3, 4, 5],\n",
       "       [3, 4, 5],\n",
       "       [3, 4, 5]])"
      ]
     },
     "execution_count": 22,
     "metadata": {},
     "output_type": "execute_result"
    }
   ],
   "source": [
    "B.repeat([3,3], axis = 0)"
   ]
  },
  {
   "cell_type": "markdown",
   "id": "bfa3d95f",
   "metadata": {},
   "source": [
    "If a single integer value is passed, it is interpreted as a list (of the appropriate size) with all entries equal to that integer."
   ]
  },
  {
   "cell_type": "code",
   "execution_count": 23,
   "id": "47309b93",
   "metadata": {},
   "outputs": [
    {
     "data": {
      "text/plain": [
       "array([[0, 1, 2],\n",
       "       [0, 1, 2],\n",
       "       [0, 1, 2],\n",
       "       [3, 4, 5],\n",
       "       [3, 4, 5],\n",
       "       [3, 4, 5]])"
      ]
     },
     "execution_count": 23,
     "metadata": {},
     "output_type": "execute_result"
    }
   ],
   "source": [
    "B.repeat(3, axis = 0)"
   ]
  },
  {
   "cell_type": "code",
   "execution_count": 24,
   "id": "5469d179",
   "metadata": {},
   "outputs": [
    {
     "data": {
      "text/plain": [
       "array([[0, 1, 2],\n",
       "       [3, 4, 5]])"
      ]
     },
     "execution_count": 24,
     "metadata": {},
     "output_type": "execute_result"
    }
   ],
   "source": [
    "B"
   ]
  },
  {
   "cell_type": "code",
   "execution_count": 27,
   "id": "dc548aa3",
   "metadata": {},
   "outputs": [
    {
     "data": {
      "text/plain": [
       "array([[0, 0, 0, 1, 1, 2],\n",
       "       [3, 3, 3, 4, 4, 5]])"
      ]
     },
     "execution_count": 27,
     "metadata": {},
     "output_type": "execute_result"
    }
   ],
   "source": [
    "B.repeat([3,2,1], axis = 1)"
   ]
  },
  {
   "cell_type": "code",
   "execution_count": 26,
   "id": "15c7233f",
   "metadata": {},
   "outputs": [
    {
     "data": {
      "text/plain": [
       "array([[0, 0, 0, 1, 1, 1, 2, 2, 2],\n",
       "       [3, 3, 3, 4, 4, 4, 5, 5, 5]])"
      ]
     },
     "execution_count": 26,
     "metadata": {},
     "output_type": "execute_result"
    }
   ],
   "source": [
    "B.repeat(3, axis = 1)"
   ]
  },
  {
   "cell_type": "code",
   "execution_count": 34,
   "id": "79de8c98",
   "metadata": {},
   "outputs": [
    {
     "data": {
      "text/plain": [
       "array([[0, 1, 2],\n",
       "       [0, 1, 2],\n",
       "       [0, 1, 2],\n",
       "       [3, 4, 5],\n",
       "       [3, 4, 5],\n",
       "       [3, 4, 5],\n",
       "       [3, 4, 5],\n",
       "       [3, 4, 5]])"
      ]
     },
     "execution_count": 34,
     "metadata": {},
     "output_type": "execute_result"
    }
   ],
   "source": [
    "B.repeat([3,5], axis = 0)"
   ]
  },
  {
   "cell_type": "markdown",
   "id": "41eef743",
   "metadata": {},
   "source": [
    "Note that repeat does not modify the original array in-place."
   ]
  },
  {
   "cell_type": "code",
   "execution_count": 36,
   "id": "7ec9e1d8",
   "metadata": {},
   "outputs": [
    {
     "data": {
      "text/plain": [
       "array([[0, 1, 2],\n",
       "       [3, 4, 5]])"
      ]
     },
     "execution_count": 36,
     "metadata": {},
     "output_type": "execute_result"
    }
   ],
   "source": [
    "B"
   ]
  },
  {
   "cell_type": "markdown",
   "id": "c223893a",
   "metadata": {},
   "source": [
    "$\\Box$\n",
    "\n",
    "##### Tile\n",
    "\n",
    "##### Example 16"
   ]
  },
  {
   "cell_type": "code",
   "execution_count": 37,
   "id": "7d3c1283",
   "metadata": {},
   "outputs": [
    {
     "data": {
      "text/plain": [
       "array([[0, 1, 2],\n",
       "       [3, 4, 5]])"
      ]
     },
     "execution_count": 37,
     "metadata": {},
     "output_type": "execute_result"
    }
   ],
   "source": [
    "B"
   ]
  },
  {
   "cell_type": "markdown",
   "id": "8e280640",
   "metadata": {},
   "source": [
    "Think of the array $B$ as a tile.  A tiling of shape (2,1) has two copies vertically (along axis 0) and one horizontally (along axis 1)."
   ]
  },
  {
   "cell_type": "code",
   "execution_count": 39,
   "id": "0748c50e",
   "metadata": {},
   "outputs": [
    {
     "data": {
      "text/plain": [
       "array([[0, 1, 2],\n",
       "       [3, 4, 5],\n",
       "       [0, 1, 2],\n",
       "       [3, 4, 5]])"
      ]
     },
     "execution_count": 39,
     "metadata": {},
     "output_type": "execute_result"
    }
   ],
   "source": [
    "np.tile(B, (2,1))"
   ]
  },
  {
   "cell_type": "markdown",
   "id": "05c37c00",
   "metadata": {},
   "source": [
    "A tiling of shape (3,2) has three copies along axis 0 and two copies along axis 1. "
   ]
  },
  {
   "cell_type": "code",
   "execution_count": 40,
   "id": "c06119ff",
   "metadata": {},
   "outputs": [
    {
     "data": {
      "text/plain": [
       "array([[0, 1, 2, 0, 1, 2],\n",
       "       [3, 4, 5, 3, 4, 5],\n",
       "       [0, 1, 2, 0, 1, 2],\n",
       "       [3, 4, 5, 3, 4, 5],\n",
       "       [0, 1, 2, 0, 1, 2],\n",
       "       [3, 4, 5, 3, 4, 5]])"
      ]
     },
     "execution_count": 40,
     "metadata": {},
     "output_type": "execute_result"
    }
   ],
   "source": [
    "np.tile(B, (3,2))"
   ]
  },
  {
   "cell_type": "markdown",
   "id": "6b1cc5f8",
   "metadata": {},
   "source": [
    "$\\Box$\n",
    "\n",
    "##### Exercise 3\n",
    "\n",
    "Write code so that the following function performs the way that is illustrated in the following examples.  \n",
    "\n",
    "Example: If $A =\\begin{pmatrix}\n",
    "    1& 2& 3\\\\\n",
    "    5& 6& 7\\\\\n",
    "\\end{pmatrix}$ and $B =\\begin{pmatrix}\n",
    "    a& b\\\\\n",
    "    c& d\\\\\n",
    "\\end{pmatrix}$, then prod(A, B) should return $\\begin{pmatrix}\n",
    "    1& 2& 3& a& b\\\\\n",
    "    1& 2& 3& c& d\\\\\n",
    "    5& 6& 7& a& b\\\\\n",
    "    5& 6& 7& c& d\\\\\n",
    "\\end{pmatrix}$.\n",
    "\n",
    "If $A =\\begin{pmatrix}\n",
    "    1& 2\\\\\n",
    "    5& 6\\\\\n",
    "\\end{pmatrix}$ and $B =\\begin{pmatrix}\n",
    "    a& b\\\\\n",
    "    c& d\\\\\n",
    "    e& f\\\\\n",
    "    g& h\\\\\n",
    "\\end{pmatrix}$, then prod(A, B) should return $\\begin{pmatrix}\n",
    "    1& 2& a& b\\\\\n",
    "    1& 2& c& d\\\\\n",
    "    1& 2& e& f\\\\\n",
    "    1& 2& g& h\\\\\n",
    "    5& 6& a& b\\\\\n",
    "    5& 6& c& d\\\\\n",
    "    5& 6& e& f\\\\\n",
    "    5& 6& g& h\\\\\n",
    "\\end{pmatrix}$."
   ]
  },
  {
   "cell_type": "code",
   "execution_count": null,
   "id": "8867a6d7",
   "metadata": {},
   "outputs": [],
   "source": [
    "def prod(A,B):\n",
    "    \"\"\"\n",
    "    Parameters\n",
    "    -----------\n",
    "    A: ndarray \n",
    "    B: ndarray \n",
    "    \"\"\""
   ]
  },
  {
   "cell_type": "code",
   "execution_count": null,
   "id": "51f968c4",
   "metadata": {},
   "outputs": [],
   "source": [
    "A1 = np.array([1,2]).reshape(1,2)\n",
    "B1 = np.array([3,4,5]).reshape(3,1)\n",
    "C1 = np.array([1,2,3,1,2,4,1,2,5]).reshape(3,3)\n",
    "A2 = np.array(range(9)).reshape(3,3)\n",
    "B2 = np.array(range(9,11)).reshape(2,1)\n",
    "C2 = np.array([0,1,2,9,3,4,5,9,6,7,8,9,0,1,2,10,3,4,5,10,6,7,8,10]).reshape(6,4)\n",
    "\n",
    "if not np.allclose(prod(A1, B1), C1):\n",
    "    print(\"Something is wrong with your code.\")\n",
    "elif not np.allclose(prod(A2, B2), C2):\n",
    "    print(\"Something is wrong with your code.\")\n",
    "else:\n",
    "    print(\"All tests passed.\")"
   ]
  }
 ],
 "metadata": {
  "kernelspec": {
   "display_name": "Python 3 (ipykernel)",
   "language": "python",
   "name": "python3"
  },
  "language_info": {
   "codemirror_mode": {
    "name": "ipython",
    "version": 3
   },
   "file_extension": ".py",
   "mimetype": "text/x-python",
   "name": "python",
   "nbconvert_exporter": "python",
   "pygments_lexer": "ipython3",
   "version": "3.9.12"
  }
 },
 "nbformat": 4,
 "nbformat_minor": 5
}
