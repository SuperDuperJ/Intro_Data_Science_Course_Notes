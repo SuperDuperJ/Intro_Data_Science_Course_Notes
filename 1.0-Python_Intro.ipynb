{
 "cells": [
  {
   "cell_type": "markdown",
   "id": "ad727736",
   "metadata": {},
   "source": [
    "The environment that we are mainly going to work, in this class, is Jupyter Notebooks.  This notebook (labeled *1.0-Python_Intro*) is a Jupyter Notebook.\n",
    "\n",
    "Jupyter Notebooks are an excellent tool for both teaching and real-world development because they allow for executable computer programming code to be embedded within text.  This text can be simply typed or Markdown and Latex typesetting can be used.\n",
    "\n",
    "Note that you can double-click on a Markdown block to see the underlying code.  To run the code in any block (Markdown or code) click the button above labelled *Run*.  A shortcut for *Run* is Shift+Enter."
   ]
  },
  {
   "cell_type": "markdown",
   "id": "46cb943b",
   "metadata": {},
   "source": [
    "### Markdown\n",
    "\n",
    "Just the very basics of Markdown will be covered here.  To switch between Markdown and Python code, use the dropdown menu above.  The default is code, but you can select Markdown if you want to write some text.\n",
    "\n",
    "To create bold headings use the \\# symbol.  Double click this block to see how to use this symbol.  \n",
    "\n",
    "# Big\n",
    "## Not as big\n",
    "### Smaller\n",
    "#### Smaller still\n",
    "\n",
    "Use the asterix \\* around text to make it *italisized*.\n",
    "\n",
    "Use the - symbol to make bullets.\n",
    "\n",
    "- bullet point\n",
    "    - Don't indent.\n",
    "     \n",
    "Math can be expressed using the Latex typsetting language.  All math should be enclosed in \\$ symbols.  Double click on this code block to see how the following was written.\n",
    "\n",
    "$$(2+3)\\cdot 5 = 5^2$$\n",
    "\n",
    "A good cheat sheet for Markdown can be found [here.](https://www.markdownguide.org/cheat-sheet/)"
   ]
  },
  {
   "cell_type": "markdown",
   "id": "0e2b6190",
   "metadata": {},
   "source": [
    "### Python\n",
    "\n",
    "Python is an *interpreted* computer programming language.  More about what this means [here.](https://www.geeksforgeeks.org/difference-between-compiled-and-interpreted-language/)\n",
    "\n",
    "#### Comments\n",
    "\n",
    "In a computer program, it is comon for the programmer to write comments indicating what they are doing in the program.  These comments are NOT part of the actual computer program.  Comments are a construct that helps humans to understand what the program is doing.\n",
    "\n",
    "Comments in python come after the \\# symbol.  Now lets do some actual programming."
   ]
  },
  {
   "cell_type": "code",
   "execution_count": 1,
   "id": "ed53cac7",
   "metadata": {},
   "outputs": [
    {
     "name": "stdout",
     "output_type": "stream",
     "text": [
      "Hello World!\n"
     ]
    }
   ],
   "source": [
    "#This code prints the phrase \"Hello World!\".  Note that print here does not mean print as in with a printer.\n",
    "#Click Run above or hold Shift and press Enter to run this code.\n",
    "print(\"Hello World!\")"
   ]
  },
  {
   "cell_type": "markdown",
   "id": "1a4c76eb",
   "metadata": {},
   "source": [
    "### Scalar (Single Value) Data Types\n",
    "\n",
    "The basic data types commonly used in python are int, float, bool, and None.\n",
    "\n",
    "ints are integers.  These are the positive and negative whole numbers including $0$: $0, \\pm 1, \\pm2, \\pm3,...$\n",
    "\n",
    "floats are decimal numbers: $2.5, 3.999...,4.0,...$\n",
    "\n",
    "bool stands for boolean.  These are data types that can have one of two possible values: True or False.\n",
    "\n",
    "None is the Python null value.  "
   ]
  },
  {
   "cell_type": "markdown",
   "id": "5b5c9052",
   "metadata": {},
   "source": [
    "### Variables\n",
    "\n",
    "In Python, a variable (or name) is a *reference* to a data type.  \n",
    "\n",
    "##### Example 1"
   ]
  },
  {
   "cell_type": "code",
   "execution_count": 2,
   "id": "8a0ed0d1",
   "metadata": {},
   "outputs": [
    {
     "name": "stdout",
     "output_type": "stream",
     "text": [
      "9\n"
     ]
    }
   ],
   "source": [
    "#Assign 4 to the variable a.\n",
    "a=4\n",
    "#Assign 5 to the variable b.\n",
    "b=5\n",
    "#Print the sum a+b.\n",
    "print(a+b)"
   ]
  },
  {
   "cell_type": "code",
   "execution_count": 2,
   "id": "ca88e0ec",
   "metadata": {},
   "outputs": [
    {
     "data": {
      "text/plain": [
       "8"
      ]
     },
     "execution_count": 2,
     "metadata": {},
     "output_type": "execute_result"
    }
   ],
   "source": [
    "x=3\n",
    "y=5\n",
    "x+y"
   ]
  },
  {
   "cell_type": "markdown",
   "id": "953523c0",
   "metadata": {},
   "source": [
    "$\\Box$\n",
    "\n",
    "##### Example 2\n",
    "Once you assign a variable, that piece of computer memory holds that value until it is changed."
   ]
  },
  {
   "cell_type": "code",
   "execution_count": 5,
   "id": "29b52047",
   "metadata": {},
   "outputs": [
    {
     "name": "stdout",
     "output_type": "stream",
     "text": [
      "4\n",
      "----------\n",
      "3\n"
     ]
    }
   ],
   "source": [
    "print(a)\n",
    "print(\"----------\")\n",
    "a=3\n",
    "print(a)"
   ]
  },
  {
   "cell_type": "markdown",
   "id": "6205760c",
   "metadata": {},
   "source": [
    "$\\Box$\n",
    "\n",
    "##### Example 3\n",
    "The type function can be used to determine the data type that a variable references."
   ]
  },
  {
   "cell_type": "code",
   "execution_count": 8,
   "id": "20e7c3ff",
   "metadata": {},
   "outputs": [
    {
     "data": {
      "text/plain": [
       "int"
      ]
     },
     "execution_count": 8,
     "metadata": {},
     "output_type": "execute_result"
    }
   ],
   "source": [
    "type(a)"
   ]
  },
  {
   "cell_type": "code",
   "execution_count": 9,
   "id": "79cf1027",
   "metadata": {},
   "outputs": [
    {
     "data": {
      "text/plain": [
       "float"
      ]
     },
     "execution_count": 9,
     "metadata": {},
     "output_type": "execute_result"
    }
   ],
   "source": [
    "c=2.5\n",
    "type(c)"
   ]
  },
  {
   "cell_type": "code",
   "execution_count": 4,
   "id": "4336bee3",
   "metadata": {},
   "outputs": [
    {
     "data": {
      "text/plain": [
       "bool"
      ]
     },
     "execution_count": 4,
     "metadata": {},
     "output_type": "execute_result"
    }
   ],
   "source": [
    "d=True\n",
    "type(d)"
   ]
  },
  {
   "cell_type": "markdown",
   "id": "26b529a8",
   "metadata": {},
   "source": [
    "$\\Box$\n",
    "\n",
    "##### Note\n",
    "You may notice that in this last example we did not use the *print* function to print the types.  This is because, in Jupyter Notebooks, the last line of code is automatically printed, provided there is something to print.  This convention will be used moving forward."
   ]
  },
  {
   "cell_type": "markdown",
   "id": "03613233",
   "metadata": {},
   "source": [
    "### Mathematical Operations\n",
    "\n",
    "##### Example 4"
   ]
  },
  {
   "cell_type": "code",
   "execution_count": 5,
   "id": "7245e8ea",
   "metadata": {},
   "outputs": [],
   "source": [
    "a=2\n",
    "b=3"
   ]
  },
  {
   "cell_type": "code",
   "execution_count": 6,
   "id": "7e99ed89",
   "metadata": {},
   "outputs": [
    {
     "data": {
      "text/plain": [
       "5"
      ]
     },
     "execution_count": 6,
     "metadata": {},
     "output_type": "execute_result"
    }
   ],
   "source": [
    "#Addition\n",
    "a+b"
   ]
  },
  {
   "cell_type": "code",
   "execution_count": 7,
   "id": "135e50fa",
   "metadata": {},
   "outputs": [
    {
     "data": {
      "text/plain": [
       "-1"
      ]
     },
     "execution_count": 7,
     "metadata": {},
     "output_type": "execute_result"
    }
   ],
   "source": [
    "#Subtraction\n",
    "a-b"
   ]
  },
  {
   "cell_type": "code",
   "execution_count": 8,
   "id": "744da6ec",
   "metadata": {},
   "outputs": [
    {
     "data": {
      "text/plain": [
       "6"
      ]
     },
     "execution_count": 8,
     "metadata": {},
     "output_type": "execute_result"
    }
   ],
   "source": [
    "#Multiplication\n",
    "a*b"
   ]
  },
  {
   "cell_type": "code",
   "execution_count": 9,
   "id": "0cce29ca",
   "metadata": {},
   "outputs": [
    {
     "data": {
      "text/plain": [
       "8"
      ]
     },
     "execution_count": 9,
     "metadata": {},
     "output_type": "execute_result"
    }
   ],
   "source": [
    "#Exponentiation\n",
    "2**3"
   ]
  },
  {
   "cell_type": "code",
   "execution_count": 10,
   "id": "eef50193",
   "metadata": {},
   "outputs": [
    {
     "data": {
      "text/plain": [
       "1.3333333333333333"
      ]
     },
     "execution_count": 10,
     "metadata": {},
     "output_type": "execute_result"
    }
   ],
   "source": [
    "#Division\n",
    "4/3"
   ]
  },
  {
   "cell_type": "code",
   "execution_count": 23,
   "id": "b3091cd8",
   "metadata": {},
   "outputs": [
    {
     "data": {
      "text/plain": [
       "1"
      ]
     },
     "execution_count": 23,
     "metadata": {},
     "output_type": "execute_result"
    }
   ],
   "source": [
    "#Floor-Divide\n",
    "#Note that the remainder is ignored.\n",
    "4//3"
   ]
  },
  {
   "cell_type": "markdown",
   "id": "0260c116",
   "metadata": {},
   "source": [
    "$\\Box$\n",
    "\n",
    "### Comparison Operations\n",
    "Comparison operations are at the heart of computer programming.  Notice that the examples herein evaluate to exactly one of True or False.\n",
    "\n",
    "##### Example 5"
   ]
  },
  {
   "cell_type": "code",
   "execution_count": 11,
   "id": "a2c9adcf",
   "metadata": {},
   "outputs": [],
   "source": [
    "x=5\n",
    "y=7"
   ]
  },
  {
   "cell_type": "code",
   "execution_count": 12,
   "id": "f196e3ad",
   "metadata": {},
   "outputs": [
    {
     "data": {
      "text/plain": [
       "True"
      ]
     },
     "execution_count": 12,
     "metadata": {},
     "output_type": "execute_result"
    }
   ],
   "source": [
    "#Less than\n",
    "x<y"
   ]
  },
  {
   "cell_type": "code",
   "execution_count": 13,
   "id": "9f6add13",
   "metadata": {},
   "outputs": [
    {
     "data": {
      "text/plain": [
       "False"
      ]
     },
     "execution_count": 13,
     "metadata": {},
     "output_type": "execute_result"
    }
   ],
   "source": [
    "y<x"
   ]
  },
  {
   "cell_type": "code",
   "execution_count": 14,
   "id": "66ec5c47",
   "metadata": {},
   "outputs": [
    {
     "data": {
      "text/plain": [
       "True"
      ]
     },
     "execution_count": 14,
     "metadata": {},
     "output_type": "execute_result"
    }
   ],
   "source": [
    "#Less than or equal to\n",
    "x<=y"
   ]
  },
  {
   "cell_type": "code",
   "execution_count": 15,
   "id": "d4bee3de",
   "metadata": {},
   "outputs": [
    {
     "data": {
      "text/plain": [
       "True"
      ]
     },
     "execution_count": 15,
     "metadata": {},
     "output_type": "execute_result"
    }
   ],
   "source": [
    "z=7\n",
    "z<=y"
   ]
  },
  {
   "cell_type": "markdown",
   "id": "fbb454cd",
   "metadata": {},
   "source": [
    "In computer programming, the $=$ sign does not mean the same thing as the $=$ sign in mathematics.  In programming, the $=$ is the *assignment operator* and is meant for assigning one thing to another.\n",
    "\n",
    "The $=$ sign in computer programming is the $==$ sign.\n",
    "\n",
    "The $\\neq$ symbol is expressed in Python as $!=$."
   ]
  },
  {
   "cell_type": "code",
   "execution_count": 16,
   "id": "ae3a5092",
   "metadata": {},
   "outputs": [
    {
     "data": {
      "text/plain": [
       "7"
      ]
     },
     "execution_count": 16,
     "metadata": {},
     "output_type": "execute_result"
    }
   ],
   "source": [
    "y"
   ]
  },
  {
   "cell_type": "code",
   "execution_count": 17,
   "id": "b67ce9f7",
   "metadata": {},
   "outputs": [
    {
     "data": {
      "text/plain": [
       "True"
      ]
     },
     "execution_count": 17,
     "metadata": {},
     "output_type": "execute_result"
    }
   ],
   "source": [
    "#Equal to\n",
    "y==7"
   ]
  },
  {
   "cell_type": "code",
   "execution_count": 18,
   "id": "eb18205a",
   "metadata": {},
   "outputs": [
    {
     "data": {
      "text/plain": [
       "False"
      ]
     },
     "execution_count": 18,
     "metadata": {},
     "output_type": "execute_result"
    }
   ],
   "source": [
    "y==4"
   ]
  },
  {
   "cell_type": "markdown",
   "id": "2b969873",
   "metadata": {},
   "source": [
    "$\\Box$\n",
    "\n",
    "#### Logical Operators\n",
    "\n",
    "A *statement* is a sentence that can be evaluated as true or false.\n",
    "\n",
    "##### Example 6"
   ]
  },
  {
   "cell_type": "code",
   "execution_count": 19,
   "id": "5ac23c1e",
   "metadata": {},
   "outputs": [
    {
     "data": {
      "text/plain": [
       "True"
      ]
     },
     "execution_count": 19,
     "metadata": {},
     "output_type": "execute_result"
    }
   ],
   "source": [
    "a=1\n",
    "b=2\n",
    "#A statement\n",
    "a+b>2"
   ]
  },
  {
   "cell_type": "code",
   "execution_count": 20,
   "id": "ce201b6f",
   "metadata": {},
   "outputs": [
    {
     "data": {
      "text/plain": [
       "False"
      ]
     },
     "execution_count": 20,
     "metadata": {},
     "output_type": "execute_result"
    }
   ],
   "source": [
    "#Another statement, note that this says that a=b-3.  Recall = vs ==.\n",
    "a==b-3"
   ]
  },
  {
   "cell_type": "code",
   "execution_count": 21,
   "id": "e4bac0a7",
   "metadata": {},
   "outputs": [
    {
     "data": {
      "text/plain": [
       "True"
      ]
     },
     "execution_count": 21,
     "metadata": {},
     "output_type": "execute_result"
    }
   ],
   "source": [
    "a==b-1"
   ]
  },
  {
   "cell_type": "markdown",
   "id": "5d879c85",
   "metadata": {},
   "source": [
    "Some *Logical operators* are used to connect statements.  The most common logical operators are *and*, *or*, and *not*.\n",
    "\n",
    "An *and* is true when both statements being connected are true and false otherwise."
   ]
  },
  {
   "cell_type": "code",
   "execution_count": 34,
   "id": "7ffac7fa",
   "metadata": {},
   "outputs": [
    {
     "data": {
      "text/plain": [
       "True"
      ]
     },
     "execution_count": 34,
     "metadata": {},
     "output_type": "execute_result"
    }
   ],
   "source": [
    "(a+b>2) and (a==b-1)"
   ]
  },
  {
   "cell_type": "code",
   "execution_count": 35,
   "id": "d3a743dc",
   "metadata": {},
   "outputs": [
    {
     "data": {
      "text/plain": [
       "False"
      ]
     },
     "execution_count": 35,
     "metadata": {},
     "output_type": "execute_result"
    }
   ],
   "source": [
    "(a+b>2) and (a==b-3)"
   ]
  },
  {
   "cell_type": "markdown",
   "id": "2c965038",
   "metadata": {},
   "source": [
    "An *or* statement is true when one or both of the statements being connected are true.  An *or* is only false when both statements being connected are false."
   ]
  },
  {
   "cell_type": "code",
   "execution_count": 22,
   "id": "3a8f62a3",
   "metadata": {},
   "outputs": [
    {
     "data": {
      "text/plain": [
       "1"
      ]
     },
     "execution_count": 22,
     "metadata": {},
     "output_type": "execute_result"
    }
   ],
   "source": [
    "a"
   ]
  },
  {
   "cell_type": "code",
   "execution_count": 23,
   "id": "8535eda3",
   "metadata": {},
   "outputs": [
    {
     "data": {
      "text/plain": [
       "2"
      ]
     },
     "execution_count": 23,
     "metadata": {},
     "output_type": "execute_result"
    }
   ],
   "source": [
    "b"
   ]
  },
  {
   "cell_type": "code",
   "execution_count": 36,
   "id": "dd123e26",
   "metadata": {},
   "outputs": [
    {
     "data": {
      "text/plain": [
       "True"
      ]
     },
     "execution_count": 36,
     "metadata": {},
     "output_type": "execute_result"
    }
   ],
   "source": [
    "(a==b) or (a<b)"
   ]
  },
  {
   "cell_type": "code",
   "execution_count": 37,
   "id": "10943bcc",
   "metadata": {},
   "outputs": [
    {
     "data": {
      "text/plain": [
       "False"
      ]
     },
     "execution_count": 37,
     "metadata": {},
     "output_type": "execute_result"
    }
   ],
   "source": [
    "(a==b) or (b<a)"
   ]
  },
  {
   "cell_type": "markdown",
   "id": "3cff223a",
   "metadata": {},
   "source": [
    "A *not* statement is used to find the \"opposite\" truth value of a given statement. "
   ]
  },
  {
   "cell_type": "code",
   "execution_count": 38,
   "id": "5a1ba080",
   "metadata": {},
   "outputs": [
    {
     "data": {
      "text/plain": [
       "False"
      ]
     },
     "execution_count": 38,
     "metadata": {},
     "output_type": "execute_result"
    }
   ],
   "source": [
    "a==b"
   ]
  },
  {
   "cell_type": "code",
   "execution_count": 39,
   "id": "d3943d44",
   "metadata": {},
   "outputs": [
    {
     "data": {
      "text/plain": [
       "True"
      ]
     },
     "execution_count": 39,
     "metadata": {},
     "output_type": "execute_result"
    }
   ],
   "source": [
    "not a==b"
   ]
  },
  {
   "cell_type": "code",
   "execution_count": 40,
   "id": "4b35236b",
   "metadata": {},
   "outputs": [
    {
     "data": {
      "text/plain": [
       "True"
      ]
     },
     "execution_count": 40,
     "metadata": {},
     "output_type": "execute_result"
    }
   ],
   "source": [
    "a!=b"
   ]
  },
  {
   "cell_type": "code",
   "execution_count": 41,
   "id": "639a23c3",
   "metadata": {},
   "outputs": [
    {
     "data": {
      "text/plain": [
       "False"
      ]
     },
     "execution_count": 41,
     "metadata": {},
     "output_type": "execute_result"
    }
   ],
   "source": [
    "not (a!=b)"
   ]
  },
  {
   "cell_type": "code",
   "execution_count": 25,
   "id": "bff76fac",
   "metadata": {},
   "outputs": [
    {
     "data": {
      "text/plain": [
       "True"
      ]
     },
     "execution_count": 25,
     "metadata": {},
     "output_type": "execute_result"
    }
   ],
   "source": [
    "not False"
   ]
  },
  {
   "cell_type": "markdown",
   "id": "62d4bd2f",
   "metadata": {},
   "source": [
    "$\\Box$\n",
    "\n",
    "##### Example 7: The Change Making Problem\n",
    "The *Change Making Problem* is a typical interview question for programmers.  We will simplify it somewhat here, but the idea is the same.\n",
    "\n",
    "Input: Some whole number amount of money less than \\$100.\n",
    "\n",
    "Output: A 4-number ordered sequence that gives the maximum number of 20 dollar bills, 10 dollar bills, 5 dollar bills, and 1 dollar bills needed to make chane for the given amount.\n",
    "\n",
    "Example: An input of $\\$27$ would have an output of $1,0,1,2$.  This is because $27 = 1*20+0*10+1*5+2*1$.  An incorrect answer would be $0,2,1,2$.\n",
    "\n",
    "Example: An input of $\\$94$ would have an output of $4,1,0,4$.  This is because $94 = 4*20+1*10+0*5+4*1$"
   ]
  },
  {
   "cell_type": "code",
   "execution_count": 5,
   "id": "60cca1c6",
   "metadata": {},
   "outputs": [
    {
     "name": "stdout",
     "output_type": "stream",
     "text": [
      "4 1 0 4\n"
     ]
    }
   ],
   "source": [
    "#Change Making Problem Solution 1\n",
    "#------------------------------\n",
    "\n",
    "#The dollar amount below can be changed.\n",
    "dollar_amount=94\n",
    "#Initalize counts\n",
    "num_20=0\n",
    "num_10=0\n",
    "num_5=0\n",
    "num_1=0\n",
    "\n",
    "#Get number of 20 dollar bills\n",
    "num_20 = dollar_amount//20\n",
    "#Get remaining dollar amount\n",
    "dollar_amount = dollar_amount - num_20*20\n",
    "\n",
    "#Get number of 10 dollar bills\n",
    "num_10 = dollar_amount//10\n",
    "#Get remaining dollar amount\n",
    "dollar_amount = dollar_amount - num_10*10\n",
    "\n",
    "#Get number of 5 dollar bills\n",
    "num_5 = dollar_amount//5\n",
    "#Get remaining dollar amount\n",
    "dollar_amount = dollar_amount - num_5*5\n",
    "\n",
    "#Get number of 1 dollar bills\n",
    "num_1 = dollar_amount//1\n",
    "#Get remaining dollar amount\n",
    "dollar_amount = dollar_amount - num_1*1\n",
    "\n",
    "print(num_20,num_10,num_5,num_1)"
   ]
  },
  {
   "cell_type": "code",
   "execution_count": 4,
   "id": "543bfc4d",
   "metadata": {},
   "outputs": [
    {
     "data": {
      "text/plain": [
       "1"
      ]
     },
     "execution_count": 4,
     "metadata": {},
     "output_type": "execute_result"
    }
   ],
   "source": [
    "27//20"
   ]
  },
  {
   "cell_type": "markdown",
   "id": "0a2393e1",
   "metadata": {},
   "source": [
    "$\\Box$\n",
    "\n",
    "#### Functions\n",
    "Functions are used to organize and reuse code.  \n",
    "\n",
    "Notice that, in the solution to the Change Making Problem, we essentially reused the following piece of code four times.  "
   ]
  },
  {
   "cell_type": "code",
   "execution_count": null,
   "id": "a8a74020",
   "metadata": {},
   "outputs": [],
   "source": [
    "#Get number of $$ dollar bills\n",
    "num_$$ = dollar_amount//$$\n",
    "#Get remaining dollar amount\n",
    "dollar_amount = dollar_amount - num_$$*$$"
   ]
  },
  {
   "cell_type": "markdown",
   "id": "440379e1",
   "metadata": {},
   "source": [
    "To refine our solution to the Change Making Problem we can *reuse* the following function. The details of defining functions will be covered later."
   ]
  },
  {
   "cell_type": "code",
   "execution_count": 16,
   "id": "482b144d",
   "metadata": {},
   "outputs": [],
   "source": [
    "def my_function(dollar_amount, denomination):\n",
    "    #Get number of $$ dollar bills\n",
    "    num_bills = dollar_amount//denomination\n",
    "    #Get remaining dollar amount\n",
    "    left_over_amount = dollar_amount - num_bills*denomination\n",
    "    \n",
    "    return left_over_amount, num_bills"
   ]
  },
  {
   "cell_type": "markdown",
   "id": "8ec4c364",
   "metadata": {},
   "source": [
    "Now we can refine our original solution to the Change Making Problem.\n",
    "\n",
    "##### Example 8"
   ]
  },
  {
   "cell_type": "code",
   "execution_count": 52,
   "id": "8219b6eb",
   "metadata": {},
   "outputs": [
    {
     "name": "stdout",
     "output_type": "stream",
     "text": [
      "4 1 0 4\n"
     ]
    }
   ],
   "source": [
    "#Change Making Problem Solution 2\n",
    "#--------------------------------\n",
    "#The dollar amount below can be changed.\n",
    "dollar_amount=94\n",
    "#Initalize counts\n",
    "num_20=0\n",
    "num_10=0\n",
    "num_5=0\n",
    "num_1=0\n",
    "\n",
    "dollar_amount, num_20 = my_function(dollar_amount, 20)\n",
    "\n",
    "dollar_amount, num_10 = my_function(dollar_amount, 10)\n",
    "\n",
    "dollar_amount, num_5 = my_function(dollar_amount, 5)\n",
    "\n",
    "dollar_amount, num_1 = my_function(dollar_amount, 1)\n",
    "\n",
    "print(num_20,num_10,num_5,num_1)"
   ]
  },
  {
   "cell_type": "markdown",
   "id": "91edde17",
   "metadata": {},
   "source": [
    "$\\Box$\n",
    "\n",
    "#### Function Mechanics\n",
    "\n",
    "Functions are declared using the *def* keyword.  The first line of a function declaration includes (in order) def, the name of the function, any input values, and ends with a colon \":\".\n",
    "\n",
    "A function often, but not always, returns something.  The keyword *return* is used to indicate what is being returned.  Some examples of functions and their outputs (for given input values) are given below.\n",
    "\n",
    "##### Example 9"
   ]
  },
  {
   "cell_type": "code",
   "execution_count": 53,
   "id": "d220b48d",
   "metadata": {},
   "outputs": [],
   "source": [
    "def add(x,y):\n",
    "    result = x+y\n",
    "    return result"
   ]
  },
  {
   "cell_type": "code",
   "execution_count": 54,
   "id": "ef17e562",
   "metadata": {},
   "outputs": [
    {
     "data": {
      "text/plain": [
       "8"
      ]
     },
     "execution_count": 54,
     "metadata": {},
     "output_type": "execute_result"
    }
   ],
   "source": [
    "add(3,5)"
   ]
  },
  {
   "cell_type": "code",
   "execution_count": 55,
   "id": "3bac1097",
   "metadata": {},
   "outputs": [
    {
     "data": {
      "text/plain": [
       "15"
      ]
     },
     "execution_count": 55,
     "metadata": {},
     "output_type": "execute_result"
    }
   ],
   "source": [
    "add(5,10)"
   ]
  },
  {
   "cell_type": "code",
   "execution_count": 12,
   "id": "117c1d09",
   "metadata": {},
   "outputs": [],
   "source": [
    "def is_cool(name, other_name):\n",
    "    print(name+' is cool and so is '+ other_name+'!')"
   ]
  },
  {
   "cell_type": "code",
   "execution_count": 13,
   "id": "f878f72d",
   "metadata": {},
   "outputs": [
    {
     "name": "stdout",
     "output_type": "stream",
     "text": [
      "Josh is cool and so is Parker!\n"
     ]
    }
   ],
   "source": [
    "is_cool('Josh', 'Parker')"
   ]
  },
  {
   "cell_type": "markdown",
   "id": "f1bc9e1b",
   "metadata": {},
   "source": [
    "$\\Box$\n",
    "\n",
    "It is possible to use a function within another function.\n",
    "\n",
    "##### Example 9"
   ]
  },
  {
   "cell_type": "code",
   "execution_count": 56,
   "id": "3bb451f5",
   "metadata": {},
   "outputs": [],
   "source": [
    "def subtract(x,y):\n",
    "    result = add(x,-y)\n",
    "    return result"
   ]
  },
  {
   "cell_type": "code",
   "execution_count": 57,
   "id": "486290d1",
   "metadata": {},
   "outputs": [
    {
     "data": {
      "text/plain": [
       "1"
      ]
     },
     "execution_count": 57,
     "metadata": {},
     "output_type": "execute_result"
    }
   ],
   "source": [
    "subtract(5,4)"
   ]
  },
  {
   "cell_type": "code",
   "execution_count": 58,
   "id": "2b25d3bf",
   "metadata": {},
   "outputs": [
    {
     "data": {
      "text/plain": [
       "3"
      ]
     },
     "execution_count": 58,
     "metadata": {},
     "output_type": "execute_result"
    }
   ],
   "source": [
    "subtract(10,7)"
   ]
  },
  {
   "cell_type": "markdown",
   "id": "e14d930b",
   "metadata": {},
   "source": [
    "$\\Box$\n",
    "\n",
    "##### Example 10: Change Making Problem Solution 3\n",
    "The Change Making Problem Solution 2 is not quite up to standard.  A better way to structure this solution is with a function.  That way we don't have to keep changing the dollar amount variable each time we change the dollar amount."
   ]
  },
  {
   "cell_type": "code",
   "execution_count": 59,
   "id": "7bd17eed",
   "metadata": {},
   "outputs": [],
   "source": [
    "def change_making_problem(dollar_amount):\n",
    "    dollar_amount, num_20 = my_function(dollar_amount, 20)\n",
    "    dollar_amount, num_10 = my_function(dollar_amount, 10)\n",
    "    dollar_amount, num_5 = my_function(dollar_amount, 5)\n",
    "    dollar_amount, num_1 = my_function(dollar_amount, 1)\n",
    "    \n",
    "    print(num_20,num_10,num_5,num_1)"
   ]
  },
  {
   "cell_type": "code",
   "execution_count": 60,
   "id": "07a22b5b",
   "metadata": {},
   "outputs": [
    {
     "name": "stdout",
     "output_type": "stream",
     "text": [
      "1 0 1 2\n"
     ]
    }
   ],
   "source": [
    "change_making_problem(27)"
   ]
  },
  {
   "cell_type": "code",
   "execution_count": 61,
   "id": "85920006",
   "metadata": {},
   "outputs": [
    {
     "name": "stdout",
     "output_type": "stream",
     "text": [
      "4 1 0 4\n"
     ]
    }
   ],
   "source": [
    "change_making_problem(94)"
   ]
  },
  {
   "cell_type": "markdown",
   "id": "b0a59f8b",
   "metadata": {},
   "source": [
    "$\\Box$\n",
    "\n",
    "##### Exercise 1\n",
    "\n",
    "Write a function named *product* that takes two integers or floats as input and outputs the product (multiplication) of the two inputted numbers.  Write your function in the code block below.\n",
    "\n",
    "Examples: product(2,3) should have an output of 6.\n",
    "\n",
    "product(1.1,5.3) should have an output of 5.83."
   ]
  },
  {
   "cell_type": "code",
   "execution_count": null,
   "id": "4ec06f01",
   "metadata": {},
   "outputs": [],
   "source": []
  },
  {
   "cell_type": "markdown",
   "id": "94d60ef3",
   "metadata": {},
   "source": [
    "##### Test Your Code\n",
    "Run the following code block to see if your function is working correctly."
   ]
  },
  {
   "cell_type": "code",
   "execution_count": null,
   "id": "39c1afa0",
   "metadata": {},
   "outputs": [],
   "source": [
    "import numpy as np\n",
    "\n",
    "if not np.allclose(product(4,7),28,atol=1e-10):\n",
    "    print(\"Something is wrong with your code.\")\n",
    "elif not np.allclose(product(0.1,20),2.0,atol=1e-10):\n",
    "    print(\"Something is wrong with your code.\")\n",
    "else:\n",
    "    print(\"All tests passed.\")"
   ]
  },
  {
   "cell_type": "markdown",
   "id": "69f22676",
   "metadata": {},
   "source": [
    "##### Exercise 2\n",
    "\n",
    "Finish writing the code for the *remainder* function below.\n",
    "\n",
    "Examples: remainder(10,3) should have an output of 1.\n",
    "\n",
    "remainder(50,35) should have an output of 15.\n",
    "\n",
    "remainder(25,40) should have an output of 25."
   ]
  },
  {
   "cell_type": "code",
   "execution_count": 11,
   "id": "47c49650",
   "metadata": {},
   "outputs": [],
   "source": [
    "def remainder(number, divisor):\n",
    "    #Delete the statement below and put in your code.\n",
    "    remainder = -1\n",
    "    \n",
    "    return remainder"
   ]
  },
  {
   "cell_type": "markdown",
   "id": "66299cff",
   "metadata": {},
   "source": [
    "##### Test Your Code\n",
    "Run the following code block to see if your function is working correctly."
   ]
  },
  {
   "cell_type": "code",
   "execution_count": null,
   "id": "052473ea",
   "metadata": {},
   "outputs": [],
   "source": [
    "import numpy as np\n",
    "\n",
    "if not np.allclose(remainder(20,3),2,atol=1e-10):\n",
    "    print(\"Something is wrong with your code.\")\n",
    "elif not np.allclose(remainder(10,15),10,atol=1e-10):\n",
    "    print(\"Something is wrong with your code.\")\n",
    "else:\n",
    "    print(\"All tests passed.\")"
   ]
  },
  {
   "cell_type": "markdown",
   "id": "257312a1",
   "metadata": {},
   "source": [
    "##### Note\n",
    "The Change Making Problem solution is a *greedy* algorithm. "
   ]
  },
  {
   "cell_type": "code",
   "execution_count": 14,
   "id": "445d4654",
   "metadata": {},
   "outputs": [],
   "source": [
    "def change_making_problem_example(dollar_amount):\n",
    "    dollar_amount, num_5 = my_function(dollar_amount, 5)\n",
    "    dollar_amount, num_3 = my_function(dollar_amount, 3)\n",
    "    \n",
    "    print(num_5,num_3)"
   ]
  },
  {
   "cell_type": "code",
   "execution_count": 17,
   "id": "329d7891",
   "metadata": {},
   "outputs": [
    {
     "name": "stdout",
     "output_type": "stream",
     "text": [
      "1 1\n"
     ]
    }
   ],
   "source": [
    "change_making_problem_example(8)"
   ]
  },
  {
   "cell_type": "code",
   "execution_count": 20,
   "id": "8546590f",
   "metadata": {},
   "outputs": [
    {
     "name": "stdout",
     "output_type": "stream",
     "text": [
      "1 0\n"
     ]
    }
   ],
   "source": [
    "change_making_problem_example(6)"
   ]
  },
  {
   "cell_type": "code",
   "execution_count": null,
   "id": "6d97557f",
   "metadata": {},
   "outputs": [],
   "source": []
  }
 ],
 "metadata": {
  "kernelspec": {
   "display_name": "Python 3 (ipykernel)",
   "language": "python",
   "name": "python3"
  },
  "language_info": {
   "codemirror_mode": {
    "name": "ipython",
    "version": 3
   },
   "file_extension": ".py",
   "mimetype": "text/x-python",
   "name": "python",
   "nbconvert_exporter": "python",
   "pygments_lexer": "ipython3",
   "version": "3.9.12"
  }
 },
 "nbformat": 4,
 "nbformat_minor": 5
}
