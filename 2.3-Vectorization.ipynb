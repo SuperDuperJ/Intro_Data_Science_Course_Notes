{
 "cells": [
  {
   "cell_type": "code",
   "execution_count": 1,
   "id": "6230867f",
   "metadata": {},
   "outputs": [],
   "source": [
    "import numpy as np"
   ]
  },
  {
   "cell_type": "markdown",
   "id": "b641b82e",
   "metadata": {},
   "source": [
    "### What is Vectorization?\n",
    "\n",
    "\"*Vectorization* is the practice of replacing explicit loops with array expressions.\"  McKinney 2e, page 110\n",
    "\n",
    "A simple example will illustrate.\n",
    "\n",
    "##### Example 1"
   ]
  },
  {
   "cell_type": "code",
   "execution_count": 2,
   "id": "cd7492c7",
   "metadata": {},
   "outputs": [
    {
     "data": {
      "text/plain": [
       "array([2, 1, 2, 4, 1, 1, 3, 4, 4, 1])"
      ]
     },
     "execution_count": 2,
     "metadata": {},
     "output_type": "execute_result"
    }
   ],
   "source": [
    "A = np.random.randint(1, 5, size = (10,))\n",
    "A"
   ]
  },
  {
   "cell_type": "markdown",
   "id": "4b28888f",
   "metadata": {},
   "source": [
    "Suppose that we want to sum all of the values in A.  \n",
    "\n",
    "One way to accomplish this task is *explicitly* write a for loop. This approach is NOT vectorization."
   ]
  },
  {
   "cell_type": "code",
   "execution_count": 3,
   "id": "ac519bab",
   "metadata": {},
   "outputs": [
    {
     "data": {
      "text/plain": [
       "23"
      ]
     },
     "execution_count": 3,
     "metadata": {},
     "output_type": "execute_result"
    }
   ],
   "source": [
    "sum = 0\n",
    "for x in A:\n",
    "    sum+=x\n",
    "sum"
   ]
  },
  {
   "cell_type": "markdown",
   "id": "a964ecd3",
   "metadata": {},
   "source": [
    "The vectorization approach is to use the ndarray *sum* method."
   ]
  },
  {
   "cell_type": "code",
   "execution_count": 4,
   "id": "e1dce9a4",
   "metadata": {},
   "outputs": [
    {
     "data": {
      "text/plain": [
       "23"
      ]
     },
     "execution_count": 4,
     "metadata": {},
     "output_type": "execute_result"
    }
   ],
   "source": [
    "A.sum()"
   ]
  },
  {
   "cell_type": "markdown",
   "id": "0f72f8ff",
   "metadata": {},
   "source": [
    "$\\Box$\n",
    "\n",
    "\"In general, vectorized array operations will often be one or two (or more) orders of magnitude faster than their pure Python equivalents.\" McKinney 2e, Page 110\n",
    "\n",
    "##### Example 2"
   ]
  },
  {
   "cell_type": "code",
   "execution_count": 5,
   "id": "b9465bf4",
   "metadata": {},
   "outputs": [
    {
     "data": {
      "text/plain": [
       "array([3, 1, 2, 3, 2, 2, 3, 1, 2, 3])"
      ]
     },
     "execution_count": 5,
     "metadata": {},
     "output_type": "execute_result"
    }
   ],
   "source": [
    "A = np.random.randint(1, 5, size = (90000000,))\n",
    "A[:10]"
   ]
  },
  {
   "cell_type": "code",
   "execution_count": 6,
   "id": "e60533c0",
   "metadata": {},
   "outputs": [
    {
     "data": {
      "text/plain": [
       "224997265"
      ]
     },
     "execution_count": 6,
     "metadata": {},
     "output_type": "execute_result"
    }
   ],
   "source": [
    "sum = 0\n",
    "for x in A:\n",
    "    sum+=x\n",
    "sum"
   ]
  },
  {
   "cell_type": "code",
   "execution_count": 7,
   "id": "fa402f59",
   "metadata": {},
   "outputs": [
    {
     "data": {
      "text/plain": [
       "224997265"
      ]
     },
     "execution_count": 7,
     "metadata": {},
     "output_type": "execute_result"
    }
   ],
   "source": [
    "A.sum()"
   ]
  },
  {
   "cell_type": "markdown",
   "id": "ab503e67",
   "metadata": {},
   "source": [
    "$\\Box$\n",
    "\n",
    "##### Exercise 1\n",
    "\n",
    "Given a sequence of *observed values* $y_0,y_1,...,y_N$ and a sequence of *predicted values* $\\hat{y_0},\\hat{y_1},...,\\hat{y_N}$, the *Mean Squared Error* is defined as $$\\text{MSE} =\\frac{1}{N}((y_1-\\hat{y_1})^2+(y_2-\\hat{y_2})^2+...+(y_N-\\hat{y_N})^2)$$ \n",
    "\n",
    "Using summation notation this can be written as $$\\text{MSE} = \\frac{1}{N}\\sum_{i=0}^N(y_i-\\hat{y_i})^2$$\n",
    "\n",
    "In this exercise, your job is to write a function that computes the MSE given an array of observed values and an array of observed values.  You should try to do this using vectorization (no explicit loops)."
   ]
  },
  {
   "cell_type": "code",
   "execution_count": null,
   "id": "949477d3",
   "metadata": {},
   "outputs": [],
   "source": [
    "def MSE(observed_values, predicted_values):\n",
    "    \"\"\"\n",
    "    Parameters\n",
    "    -----------\n",
    "    observed_values: ndarray of shape (N,)\n",
    "    predicted_values: ndarray of shape (N,)\n",
    "    \n",
    "    Returns\n",
    "    -----------\n",
    "    float: the MSE of the parameters\n",
    "    \"\"\""
   ]
  },
  {
   "cell_type": "code",
   "execution_count": null,
   "id": "c1901b6f",
   "metadata": {},
   "outputs": [],
   "source": [
    "A1 = np.ones((10,))\n",
    "B1 = np.array([2.0]*10)\n",
    "A2 = np.array(range(1,11))\n",
    "B2 = np.array(range(10,0,-1))\n",
    "\n",
    "if MSE(A1, B1) != 1.0:\n",
    "    print(\"Something is wrong with your code.\")\n",
    "elif MSE(A2,B2) != 33.0:\n",
    "    print(\"Something is wrong with your code.\")\n",
    "else:\n",
    "    print(\"All tests passed.\")"
   ]
  },
  {
   "cell_type": "markdown",
   "id": "0d997f27",
   "metadata": {},
   "source": [
    "$\\Box$\n",
    "\n",
    "### Mathematical Array Methods\n",
    "\n",
    "NumPy provides many mathematical functions that can be applied to a whole array or along an axis.  Below we show how this is done using the *.sum()* and *.mean()* methods.  Similar usage can be performed for all of the mathematical array methods given in table 4-5 in our course text.\n",
    "\n",
    "##### Example 3"
   ]
  },
  {
   "cell_type": "code",
   "execution_count": 8,
   "id": "623a60ae",
   "metadata": {},
   "outputs": [
    {
     "data": {
      "text/plain": [
       "array([[1, 1, 1],\n",
       "       [2, 2, 2],\n",
       "       [3, 3, 3]])"
      ]
     },
     "execution_count": 8,
     "metadata": {},
     "output_type": "execute_result"
    }
   ],
   "source": [
    "A = np.array([[1]*3, [2]*3, [3]*3])\n",
    "A"
   ]
  },
  {
   "cell_type": "markdown",
   "id": "464d9c6a",
   "metadata": {},
   "source": [
    "When we don't pass an axis, all values in the entire array are summed."
   ]
  },
  {
   "cell_type": "code",
   "execution_count": 22,
   "id": "ff3e71fd",
   "metadata": {},
   "outputs": [
    {
     "data": {
      "text/plain": [
       "18"
      ]
     },
     "execution_count": 22,
     "metadata": {},
     "output_type": "execute_result"
    }
   ],
   "source": [
    "A.sum()"
   ]
  },
  {
   "cell_type": "markdown",
   "id": "5119cb3e",
   "metadata": {},
   "source": [
    "We can sum along an axis."
   ]
  },
  {
   "cell_type": "code",
   "execution_count": 9,
   "id": "b9e54678",
   "metadata": {},
   "outputs": [
    {
     "data": {
      "text/plain": [
       "array([3, 6, 9])"
      ]
     },
     "execution_count": 9,
     "metadata": {},
     "output_type": "execute_result"
    }
   ],
   "source": [
    "#Summing the rows\n",
    "A.sum(axis = 1)"
   ]
  },
  {
   "cell_type": "code",
   "execution_count": 10,
   "id": "b98c8fb2",
   "metadata": {},
   "outputs": [
    {
     "data": {
      "text/plain": [
       "array([6, 6, 6])"
      ]
     },
     "execution_count": 10,
     "metadata": {},
     "output_type": "execute_result"
    }
   ],
   "source": [
    "#Summing the columns\n",
    "A.sum(axis = 0)"
   ]
  },
  {
   "cell_type": "markdown",
   "id": "d0c917ee",
   "metadata": {},
   "source": [
    "$\\Box$\n",
    "\n",
    "##### Example 4"
   ]
  },
  {
   "cell_type": "code",
   "execution_count": 13,
   "id": "9904a1be",
   "metadata": {},
   "outputs": [
    {
     "data": {
      "text/plain": [
       "array([[9, 9, 9, 0],\n",
       "       [1, 6, 7, 6],\n",
       "       [1, 0, 5, 5],\n",
       "       [7, 2, 3, 1],\n",
       "       [2, 1, 8, 7]])"
      ]
     },
     "execution_count": 13,
     "metadata": {},
     "output_type": "execute_result"
    }
   ],
   "source": [
    "A = np.random.randint(0,10, size = (5,4))\n",
    "A"
   ]
  },
  {
   "cell_type": "markdown",
   "id": "d6e9adab",
   "metadata": {},
   "source": [
    "Passing no index gives the mean of all elements in $A$."
   ]
  },
  {
   "cell_type": "code",
   "execution_count": 14,
   "id": "38f23afa",
   "metadata": {},
   "outputs": [
    {
     "data": {
      "text/plain": [
       "4.45"
      ]
     },
     "execution_count": 14,
     "metadata": {},
     "output_type": "execute_result"
    }
   ],
   "source": [
    "A.mean()"
   ]
  },
  {
   "cell_type": "markdown",
   "id": "639b6fa5",
   "metadata": {},
   "source": [
    "We can compute the mean along an axis."
   ]
  },
  {
   "cell_type": "code",
   "execution_count": 15,
   "id": "4db6610a",
   "metadata": {},
   "outputs": [
    {
     "data": {
      "text/plain": [
       "array([4. , 3.6, 6.4, 3.8])"
      ]
     },
     "execution_count": 15,
     "metadata": {},
     "output_type": "execute_result"
    }
   ],
   "source": [
    "A.mean(axis = 0)"
   ]
  },
  {
   "cell_type": "code",
   "execution_count": 16,
   "id": "8140ca65",
   "metadata": {},
   "outputs": [
    {
     "data": {
      "text/plain": [
       "array([6.75, 5.  , 2.75, 3.25, 4.5 ])"
      ]
     },
     "execution_count": 16,
     "metadata": {},
     "output_type": "execute_result"
    }
   ],
   "source": [
    "A.mean(axis = 1)"
   ]
  },
  {
   "cell_type": "markdown",
   "id": "20b32125",
   "metadata": {},
   "source": [
    "$\\Box$\n",
    "\n",
    "##### Exercise 2\n",
    "\n",
    "In many Machine Learning applications, it is assumed that the data is *mean-centered*.  A mean-centered data set has the following property:\n",
    "\n",
    "**The mean (or average) of each column is 0**.\n",
    "\n",
    "-------------\n",
    "\n",
    "As a sub-example, consider the following data set: $\\begin{pmatrix}\n",
    "    1& 2& 3\\\\\n",
    "    2& 4& 6 \\\\\n",
    "    3& 6& 9 \\\\\n",
    "\\end{pmatrix}$.  The mean of the colums are 2, 4, 6, respectively.  The mean-centered version of the data is then $\\begin{pmatrix}\n",
    "    1-2& 2-4& 3-6\\\\\n",
    "    2-2& 4-4& 6-6 \\\\\n",
    "    3-2& 6-4& 9-6 \\\\\n",
    "\\end{pmatrix}=\\begin{pmatrix}\n",
    "    -1& -2& -3\\\\\n",
    "    0& 0& 0 \\\\\n",
    "    1& 2& 3 \\\\\n",
    "\\end{pmatrix}$.  Notice that the mean (or average) of each column is 0.\n",
    "\n",
    "-----------------\n",
    "\n",
    "In this exercise, you are given a data set and it is your job to return the mean-centered version of this data set.  Mean-centering is often called *normalization*."
   ]
  },
  {
   "cell_type": "code",
   "execution_count": 50,
   "id": "34a4eff4",
   "metadata": {},
   "outputs": [],
   "source": [
    "def normalize(data):\n",
    "    \"\"\"\n",
    "    Parameters\n",
    "    -----------\n",
    "    data: ndarray\n",
    "    \n",
    "    Returns\n",
    "    -----------\n",
    "    ndarray that is the mean-centered version of the data\n",
    "    \"\"\""
   ]
  },
  {
   "cell_type": "code",
   "execution_count": null,
   "id": "2adc2d38",
   "metadata": {},
   "outputs": [],
   "source": [
    "D1 = np.array(range(20)).reshape(5,4)\n",
    "D1_bar = np.array([[-8.0]*4, [-4.0]*4, [0.0]*4, [4.0]*4, [8.0]*4])\n",
    "D2 = np.array([[1,5,2], [10,30,25], [-1,-3,0]])\n",
    "D2_bar = np.array([[-2.333, -5.666, -7.0],[6.666, 19.333, 16.0],[-4.333,-13.666, -9.0]])\n",
    "\n",
    "if not np.allclose(normalize(D1), D1_bar, rtol=1e-7):\n",
    "    print(\"Something is wrong with your code.\")\n",
    "elif not np.allclose(normalize(D2), D2_bar, rtol=1e-3):\n",
    "    print(\"Something is wrong with your code.\")\n",
    "else:\n",
    "    print(\"All tests passed.\")"
   ]
  },
  {
   "cell_type": "markdown",
   "id": "160fbc2e",
   "metadata": {},
   "source": [
    "##### Example 5: The Times Table Function\n",
    "\n",
    "In Exercise 1 on Section 2.0, you created a multiplication times table.  An inefficient way to do this is with nested for-loops.\n",
    "\n",
    "##### Solution 1"
   ]
  },
  {
   "cell_type": "code",
   "execution_count": 17,
   "id": "d7a5d571",
   "metadata": {},
   "outputs": [],
   "source": [
    "def times_table(n):\n",
    "    A = np.zeros((n,n), dtype = 'int32')\n",
    "    for i in range(n):\n",
    "        for j in range(n):\n",
    "            A[i][j] = (i+1)*(j+1)\n",
    "    return A"
   ]
  },
  {
   "cell_type": "code",
   "execution_count": 18,
   "id": "8a28039e",
   "metadata": {},
   "outputs": [
    {
     "data": {
      "text/plain": [
       "array([[1, 2, 3],\n",
       "       [2, 4, 6],\n",
       "       [3, 6, 9]])"
      ]
     },
     "execution_count": 18,
     "metadata": {},
     "output_type": "execute_result"
    }
   ],
   "source": [
    "times_table(3)"
   ]
  },
  {
   "cell_type": "markdown",
   "id": "30a4bd9f",
   "metadata": {},
   "source": [
    "The issue with this method is that it is very slow, especially for large values of n.  A faster way is using vectorization.\n",
    "\n",
    "The key to seeing how to vectorize these operations is to write\n",
    "\n",
    "$\\begin{pmatrix}\n",
    "    1& 2& 3\\\\\n",
    "    2& 4& 6 \\\\\n",
    "    3& 6& 9 \\\\\n",
    "\\end{pmatrix}=\\begin{pmatrix}\n",
    "    1\\cdot 1& 2\\cdot 1& 3\\cdot 1\\\\\n",
    "    1 \\cdot 2& 2\\cdot 2& 3 \\cdot 2 \\\\\n",
    "    1 \\cdot 3& 2\\cdot 3& 3 \\cdot 3 \\\\\n",
    "\\end{pmatrix}=\\begin{pmatrix}\n",
    "    1& 2& 3\\\\\n",
    "    1& 2& 3 \\\\\n",
    "    1& 2& 3 \\\\\n",
    "\\end{pmatrix} * \\begin{pmatrix}\n",
    "    1& 1& 1\\\\\n",
    "    2& 2& 2 \\\\\n",
    "    3& 3& 3 \\\\\n",
    "\\end{pmatrix}=\\begin{pmatrix}\n",
    "    1& 2& 3\\\\\n",
    "    1& 2& 3 \\\\\n",
    "    1& 2& 3 \\\\\n",
    "\\end{pmatrix} * \\begin{pmatrix}\n",
    "    1& 2& 3\\\\\n",
    "    1& 2& 3 \\\\\n",
    "    1& 2& 3 \\\\\n",
    "\\end{pmatrix}^T$, where $*$ is element-wise (or ufunc) multiplication and the exponent T indicates the transpose operation.\n",
    "\n",
    "##### Solution 2"
   ]
  },
  {
   "cell_type": "code",
   "execution_count": 19,
   "id": "d8f60fa0",
   "metadata": {},
   "outputs": [],
   "source": [
    "def times_table(n):\n",
    "    A = np.array(list(range(1,n+1))*n).reshape(n,n)\n",
    "    return A*A.T"
   ]
  },
  {
   "cell_type": "code",
   "execution_count": 20,
   "id": "b6d4a184",
   "metadata": {},
   "outputs": [
    {
     "data": {
      "text/plain": [
       "array([[1, 2, 3],\n",
       "       [2, 4, 6],\n",
       "       [3, 6, 9]])"
      ]
     },
     "execution_count": 20,
     "metadata": {},
     "output_type": "execute_result"
    }
   ],
   "source": [
    "times_table(3)"
   ]
  },
  {
   "cell_type": "code",
   "execution_count": 21,
   "id": "439de016",
   "metadata": {},
   "outputs": [
    {
     "data": {
      "text/plain": [
       "array([[  1,   2,   3,   4,   5,   6,   7,   8,   9,  10],\n",
       "       [  2,   4,   6,   8,  10,  12,  14,  16,  18,  20],\n",
       "       [  3,   6,   9,  12,  15,  18,  21,  24,  27,  30],\n",
       "       [  4,   8,  12,  16,  20,  24,  28,  32,  36,  40],\n",
       "       [  5,  10,  15,  20,  25,  30,  35,  40,  45,  50],\n",
       "       [  6,  12,  18,  24,  30,  36,  42,  48,  54,  60],\n",
       "       [  7,  14,  21,  28,  35,  42,  49,  56,  63,  70],\n",
       "       [  8,  16,  24,  32,  40,  48,  56,  64,  72,  80],\n",
       "       [  9,  18,  27,  36,  45,  54,  63,  72,  81,  90],\n",
       "       [ 10,  20,  30,  40,  50,  60,  70,  80,  90, 100]])"
      ]
     },
     "execution_count": 21,
     "metadata": {},
     "output_type": "execute_result"
    }
   ],
   "source": [
    "times_table(10)"
   ]
  },
  {
   "cell_type": "markdown",
   "id": "973306f6",
   "metadata": {},
   "source": [
    "Lets compare the speed of these two solutions."
   ]
  },
  {
   "cell_type": "code",
   "execution_count": 22,
   "id": "6b95c542",
   "metadata": {},
   "outputs": [],
   "source": [
    "import time\n",
    "n=5000"
   ]
  },
  {
   "cell_type": "code",
   "execution_count": 23,
   "id": "61848567",
   "metadata": {},
   "outputs": [
    {
     "name": "stdout",
     "output_type": "stream",
     "text": [
      "--- 11.700715780258179 seconds ---\n"
     ]
    }
   ],
   "source": [
    "#Solution 1\n",
    "start_time = time.time()\n",
    "A = np.zeros((n,n), dtype = 'int32')\n",
    "for i in range(n):\n",
    "    for j in range(n):\n",
    "        A[i][j] = (i+1)*(j+1)\n",
    "print(\"--- %s seconds ---\" % (time.time() - start_time))"
   ]
  },
  {
   "cell_type": "code",
   "execution_count": 24,
   "id": "3091a79c",
   "metadata": {},
   "outputs": [
    {
     "name": "stdout",
     "output_type": "stream",
     "text": [
      "--- 2.023688316345215 seconds ---\n"
     ]
    }
   ],
   "source": [
    "#Solution 2\n",
    "start_time = time.time()\n",
    "A = np.array(list(range(1,n+1))*n).reshape(n,n)\n",
    "X = A*A.T\n",
    "print(\"--- %s seconds ---\" % (time.time() - start_time))"
   ]
  },
  {
   "cell_type": "markdown",
   "id": "f004e61b",
   "metadata": {},
   "source": [
    "$\\Box$\n",
    "\n"
   ]
  },
  {
   "cell_type": "code",
   "execution_count": null,
   "id": "fee4151c",
   "metadata": {},
   "outputs": [],
   "source": []
  }
 ],
 "metadata": {
  "kernelspec": {
   "display_name": "Python 3 (ipykernel)",
   "language": "python",
   "name": "python3"
  },
  "language_info": {
   "codemirror_mode": {
    "name": "ipython",
    "version": 3
   },
   "file_extension": ".py",
   "mimetype": "text/x-python",
   "name": "python",
   "nbconvert_exporter": "python",
   "pygments_lexer": "ipython3",
   "version": "3.9.12"
  }
 },
 "nbformat": 4,
 "nbformat_minor": 5
}
