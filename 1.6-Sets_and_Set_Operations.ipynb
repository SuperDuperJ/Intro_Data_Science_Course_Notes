{
 "cells": [
  {
   "cell_type": "markdown",
   "id": "e0b9998e",
   "metadata": {},
   "source": [
    "### What is a Set?\n",
    "\n",
    "From our course text, a *set* is an unordered collection of unique elements.\n",
    "\n",
    "Sets are used *A LOT* in mathematics.  Without sets, humanity's current level of mathematical sophistication would be much less.  \n",
    "\n",
    "In mathematics, sets are usually denoted with the $\\{$ and $\\}$ symbols.  As an example consider the set $A$ defined as $\\{1,2,3,4\\}$.\n",
    "\n",
    "Sets *do not allow for repeats*.  So, $$\\{1,2,3,3,4,4,4\\}=\\{1,2,3,4\\}$$\n",
    "\n",
    "Also, *there is no order to a set*.  So, $$\\{1,3,2,4\\}=\\{4,3,2,1\\}=\\{1,2,3,4\\}$$\n",
    "\n",
    "The numbers (or whatever else is in there) are called *elements*.\n",
    "\n",
    "In Python, sets can be defined by using the *set* type function on a list or by using the set brackets.\n",
    "\n",
    "##### Example 1"
   ]
  },
  {
   "cell_type": "code",
   "execution_count": 1,
   "id": "5a661d0d",
   "metadata": {},
   "outputs": [
    {
     "data": {
      "text/plain": [
       "{1, 2, 3, 4}"
      ]
     },
     "execution_count": 1,
     "metadata": {},
     "output_type": "execute_result"
    }
   ],
   "source": [
    "set([1,2,3,4])"
   ]
  },
  {
   "cell_type": "code",
   "execution_count": 2,
   "id": "0f761289",
   "metadata": {},
   "outputs": [
    {
     "data": {
      "text/plain": [
       "True"
      ]
     },
     "execution_count": 2,
     "metadata": {},
     "output_type": "execute_result"
    }
   ],
   "source": [
    "set([1,2,3,4])==set([2,3,4,1])"
   ]
  },
  {
   "cell_type": "markdown",
   "id": "2e95ea43",
   "metadata": {},
   "source": [
    "$\\Box$\n",
    "\n",
    "##### Example 2"
   ]
  },
  {
   "cell_type": "code",
   "execution_count": 3,
   "id": "0ab4019e",
   "metadata": {},
   "outputs": [
    {
     "data": {
      "text/plain": [
       "{3, 4, 5, 6, 7}"
      ]
     },
     "execution_count": 3,
     "metadata": {},
     "output_type": "execute_result"
    }
   ],
   "source": [
    "{3,4,5,6,7}"
   ]
  },
  {
   "cell_type": "code",
   "execution_count": 4,
   "id": "bddf2c7f",
   "metadata": {},
   "outputs": [
    {
     "data": {
      "text/plain": [
       "True"
      ]
     },
     "execution_count": 4,
     "metadata": {},
     "output_type": "execute_result"
    }
   ],
   "source": [
    "{3,4,5,6,7}=={7,6,5,4,3}"
   ]
  },
  {
   "cell_type": "markdown",
   "id": "5573a773",
   "metadata": {},
   "source": [
    "$\\Box$\n",
    "\n",
    "Often we will want to give a name (assign a variable) to a set.\n",
    "\n",
    "##### Example 3"
   ]
  },
  {
   "cell_type": "code",
   "execution_count": 5,
   "id": "1602da8c",
   "metadata": {},
   "outputs": [
    {
     "data": {
      "text/plain": [
       "{'cat', 'dog', 'gerbil'}"
      ]
     },
     "execution_count": 5,
     "metadata": {},
     "output_type": "execute_result"
    }
   ],
   "source": [
    "A = set(['dog', 'cat', 'gerbil'])\n",
    "A"
   ]
  },
  {
   "cell_type": "markdown",
   "id": "c33ce207",
   "metadata": {},
   "source": [
    "We can use the *in* keyword with sets too.  This makes sense since sets are *iterable*."
   ]
  },
  {
   "cell_type": "code",
   "execution_count": 6,
   "id": "0d317dd3",
   "metadata": {},
   "outputs": [
    {
     "data": {
      "text/plain": [
       "True"
      ]
     },
     "execution_count": 6,
     "metadata": {},
     "output_type": "execute_result"
    }
   ],
   "source": [
    "'cat' in A"
   ]
  },
  {
   "cell_type": "code",
   "execution_count": 7,
   "id": "1eda86eb",
   "metadata": {},
   "outputs": [
    {
     "data": {
      "text/plain": [
       "False"
      ]
     },
     "execution_count": 7,
     "metadata": {},
     "output_type": "execute_result"
    }
   ],
   "source": [
    "'hamster' in A"
   ]
  },
  {
   "cell_type": "markdown",
   "id": "08f8f883",
   "metadata": {},
   "source": [
    "$\\Box$\n",
    "\n",
    "A common use for a set in Python, is to reduce the number of iterations when iterating over a list.\n",
    "\n",
    "##### Example 4"
   ]
  },
  {
   "cell_type": "code",
   "execution_count": 9,
   "id": "855fe8d1",
   "metadata": {},
   "outputs": [
    {
     "data": {
      "text/plain": [
       "[0, 1, 2, 0, 1, 2, 0, 1, 2, 0, 1, 2, 0, 1, 2, 0, 1, 2, 0, 1, 2, 0, 1, 2]"
      ]
     },
     "execution_count": 9,
     "metadata": {},
     "output_type": "execute_result"
    }
   ],
   "source": [
    "#Consider the following list\n",
    "x = [0,1,2]*8\n",
    "x"
   ]
  },
  {
   "cell_type": "code",
   "execution_count": 17,
   "id": "9fad3575",
   "metadata": {},
   "outputs": [
    {
     "data": {
      "text/plain": [
       "[1, 2, 3, 1, 2, 3, 1, 2, 3, 1, 2, 3, 1, 2, 3, 1, 2, 3, 1, 2, 3, 1, 2, 3]"
      ]
     },
     "execution_count": 17,
     "metadata": {},
     "output_type": "execute_result"
    }
   ],
   "source": [
    "#Clearly, it is redundant to iterate over all of these, if all we want to know is the unique values of m+1 for all m in x\n",
    "y = [m+1 for m in x]\n",
    "y"
   ]
  },
  {
   "cell_type": "code",
   "execution_count": 18,
   "id": "5c234735",
   "metadata": {},
   "outputs": [
    {
     "data": {
      "text/plain": [
       "[1, 2, 3]"
      ]
     },
     "execution_count": 18,
     "metadata": {},
     "output_type": "execute_result"
    }
   ],
   "source": [
    "y = [m+1 for m in set(x)]\n",
    "y"
   ]
  },
  {
   "cell_type": "markdown",
   "id": "50c7efa7",
   "metadata": {},
   "source": [
    "$\\Box$\n",
    "\n",
    "##### Exercise 1\n",
    "\n",
    "Write code so that the following function performs the way that its docstring indicates.\n",
    "\n",
    "Example: unique_elements($[$1,2,3,1$]$ should return False.\n",
    "\n",
    "unique_elements($[$1,2,3,4$]$ should return True."
   ]
  },
  {
   "cell_type": "code",
   "execution_count": 25,
   "id": "0981e71c",
   "metadata": {},
   "outputs": [],
   "source": [
    "def unique_elements(some_list):\n",
    "    \"\"\"\n",
    "    Parameters\n",
    "    -----------\n",
    "    some_list: list\n",
    "    \n",
    "    Returns\n",
    "    -----------\n",
    "    Boolean: True, if all elements in some_list are unique and False otherwise.\n",
    "    \"\"\""
   ]
  },
  {
   "cell_type": "code",
   "execution_count": null,
   "id": "7cbbd217",
   "metadata": {},
   "outputs": [],
   "source": [
    "if unique_elements(['a','b','c','a', 'c']):\n",
    "    print(\"Something is wrong with your code.\")\n",
    "elif not unique_elements([1,2,3,4,5]):\n",
    "    print(\"Something is wrong with your code.\")\n",
    "else:\n",
    "    print(\"All tests passed.\")"
   ]
  },
  {
   "cell_type": "markdown",
   "id": "2a197743",
   "metadata": {},
   "source": [
    "##### Exercise 2\n",
    "\n",
    "Write code so that the following function performs the way that its docstring indicates.\n",
    "\n",
    "Example: list_of_unique_elements($[$1,2,3,4,5,1,4,5$]$ should return $[$2,3$]$.\n",
    "\n",
    "unique_elements($[$1,2,3,4$]$ should return $[$1,2,3,4$]$."
   ]
  },
  {
   "cell_type": "code",
   "execution_count": 5,
   "id": "c0b43b35",
   "metadata": {},
   "outputs": [],
   "source": [
    "def list_of_unique_elements(some_list):\n",
    "    \"\"\"\n",
    "    Parameters\n",
    "    -----------\n",
    "    some_list: list\n",
    "    \n",
    "    Returns\n",
    "    -----------\n",
    "    list containing all elements of some_list that appear in some_list only once\n",
    "    \"\"\""
   ]
  },
  {
   "cell_type": "code",
   "execution_count": null,
   "id": "d7a22711",
   "metadata": {},
   "outputs": [],
   "source": [
    "#Add test with randomly generated long list\n",
    "\n",
    "if list_of_unique_elements(['a','b','c','a', 'c','d','d','e']) != ['e', 'b']:\n",
    "    print(\"Something is wrong with your code.\")\n",
    "elif list_of_unique_elements([1,2,3,4,5]) != [1,2,3,4,5]:\n",
    "    print(\"Something is wrong with your code.\")\n",
    "else:\n",
    "    print(\"All tests passed.\")"
   ]
  },
  {
   "cell_type": "markdown",
   "id": "ea7d1b8d",
   "metadata": {},
   "source": [
    "### Subsets and Supersets\n",
    "\n",
    "A *subset* is a set whose elements are themselves elements in a bigger set.  The bigger set is called a *superset*.\n",
    "\n",
    "The set $A=\\{1,2,3\\}$ is a subset of the set $B=\\{1,2,3,4,5\\}$, since all elements in $A$ are also elements in $B$.\n",
    "\n",
    "In math, the symbol for subset is $\\subseteq$.  So, $A\\subseteq B$.  This stands for $\\subset$ or $=$.  Using this symbol, $A\\subseteq C$, where $C=\\{1,2,3\\}$.  This is because $\\subseteq = \\subset$ or $=$.\n",
    "\n",
    "In Python, the *issubset* and *issuperset* methods implement these ideas.\n",
    "\n",
    "##### Example 5"
   ]
  },
  {
   "cell_type": "code",
   "execution_count": 10,
   "id": "9c05e333",
   "metadata": {},
   "outputs": [
    {
     "data": {
      "text/plain": [
       "{1, 2, 3}"
      ]
     },
     "execution_count": 10,
     "metadata": {},
     "output_type": "execute_result"
    }
   ],
   "source": [
    "A = {1,2,3}\n",
    "A"
   ]
  },
  {
   "cell_type": "code",
   "execution_count": 11,
   "id": "0635b0d7",
   "metadata": {},
   "outputs": [
    {
     "data": {
      "text/plain": [
       "{1, 2, 3}"
      ]
     },
     "execution_count": 11,
     "metadata": {},
     "output_type": "execute_result"
    }
   ],
   "source": [
    "C = A\n",
    "C"
   ]
  },
  {
   "cell_type": "code",
   "execution_count": 12,
   "id": "943373ac",
   "metadata": {},
   "outputs": [
    {
     "data": {
      "text/plain": [
       "{1, 2, 3, 4, 5}"
      ]
     },
     "execution_count": 12,
     "metadata": {},
     "output_type": "execute_result"
    }
   ],
   "source": [
    "B = {1,2,3,4,5}\n",
    "B"
   ]
  },
  {
   "cell_type": "code",
   "execution_count": 13,
   "id": "55eb8716",
   "metadata": {},
   "outputs": [
    {
     "data": {
      "text/plain": [
       "True"
      ]
     },
     "execution_count": 13,
     "metadata": {},
     "output_type": "execute_result"
    }
   ],
   "source": [
    "A.issubset(B)"
   ]
  },
  {
   "cell_type": "code",
   "execution_count": 14,
   "id": "8c93df3c",
   "metadata": {},
   "outputs": [
    {
     "data": {
      "text/plain": [
       "True"
      ]
     },
     "execution_count": 14,
     "metadata": {},
     "output_type": "execute_result"
    }
   ],
   "source": [
    "A.issubset(C)"
   ]
  },
  {
   "cell_type": "code",
   "execution_count": 15,
   "id": "96e47b7a",
   "metadata": {},
   "outputs": [
    {
     "data": {
      "text/plain": [
       "True"
      ]
     },
     "execution_count": 15,
     "metadata": {},
     "output_type": "execute_result"
    }
   ],
   "source": [
    "B.issuperset(A)"
   ]
  },
  {
   "cell_type": "markdown",
   "id": "d8b98aa6",
   "metadata": {},
   "source": [
    "$\\Box$\n",
    "\n",
    "### Set Union\n",
    "\n",
    "In Math, the *union* of two sets $A$ and $B$ is the set (possibly new) that contains all elements that are in $A$ or $B$ (or both $A$ and $B$).\n",
    "\n",
    "To denote the union of two sets $A$ and $B$, we use the symbol $\\bigcup$.\n",
    "\n",
    "As an example, consider $A=\\{1,2,3\\}$ and $B=\\{2,3,4,5\\}$.\n",
    "\n",
    "Then, $A\\bigcup B = \\{1,2,3,4,5\\}$.\n",
    "\n",
    "In Python, the *union* method implements the mathematical conception of a set.\n",
    "\n",
    "##### Example 6"
   ]
  },
  {
   "cell_type": "code",
   "execution_count": 17,
   "id": "68397548",
   "metadata": {},
   "outputs": [
    {
     "data": {
      "text/plain": [
       "{1, 2, 3, 4, 5}"
      ]
     },
     "execution_count": 17,
     "metadata": {},
     "output_type": "execute_result"
    }
   ],
   "source": [
    "A = {1,2,3}\n",
    "B = {2,3,4,5}\n",
    "A.union(B)"
   ]
  },
  {
   "cell_type": "code",
   "execution_count": 19,
   "id": "75f0c704",
   "metadata": {},
   "outputs": [
    {
     "data": {
      "text/plain": [
       "{1, 2, 3, 4, 5}"
      ]
     },
     "execution_count": 19,
     "metadata": {},
     "output_type": "execute_result"
    }
   ],
   "source": [
    "B.union(A)"
   ]
  },
  {
   "cell_type": "markdown",
   "id": "c34bbf3c",
   "metadata": {},
   "source": [
    "This example shows that set union is commutative: $A\\bigcup B = B\\bigcup A$.\n",
    "\n",
    "$\\Box$\n",
    "\n",
    "### Set Intersection\n",
    "\n",
    "In Math, the *intersection* of two sets $A$ and $B$ is the set that contains all elements that are in $A$ and $B$.\n",
    "\n",
    "To denote the intersection of two sets $A$ and $B$, we use the symbol $\\bigcap$.\n",
    "\n",
    "As an example, consider $A=\\{1,2,3\\}$ and $B=\\{2,3,4,5\\}$.\n",
    "\n",
    "Then, $A\\bigcap B = \\{2,3\\}$.\n",
    "\n",
    "In Python, the *intersection* method implements the mathematical conception of a set.\n",
    "\n",
    "##### Example 7"
   ]
  },
  {
   "cell_type": "code",
   "execution_count": 20,
   "id": "51bd26fc",
   "metadata": {},
   "outputs": [
    {
     "data": {
      "text/plain": [
       "{1, 2, 3}"
      ]
     },
     "execution_count": 20,
     "metadata": {},
     "output_type": "execute_result"
    }
   ],
   "source": [
    "#From above\n",
    "A"
   ]
  },
  {
   "cell_type": "code",
   "execution_count": 21,
   "id": "ccc86924",
   "metadata": {},
   "outputs": [
    {
     "data": {
      "text/plain": [
       "{1, 2, 3}"
      ]
     },
     "execution_count": 21,
     "metadata": {},
     "output_type": "execute_result"
    }
   ],
   "source": [
    "C"
   ]
  },
  {
   "cell_type": "code",
   "execution_count": 22,
   "id": "efd648ef",
   "metadata": {},
   "outputs": [
    {
     "data": {
      "text/plain": [
       "{2, 3, 4, 5}"
      ]
     },
     "execution_count": 22,
     "metadata": {},
     "output_type": "execute_result"
    }
   ],
   "source": [
    "B"
   ]
  },
  {
   "cell_type": "code",
   "execution_count": 23,
   "id": "249010a3",
   "metadata": {},
   "outputs": [
    {
     "data": {
      "text/plain": [
       "{2, 3}"
      ]
     },
     "execution_count": 23,
     "metadata": {},
     "output_type": "execute_result"
    }
   ],
   "source": [
    "A.intersection(B)"
   ]
  },
  {
   "cell_type": "code",
   "execution_count": 24,
   "id": "6bb0e049",
   "metadata": {},
   "outputs": [
    {
     "data": {
      "text/plain": [
       "{2, 3}"
      ]
     },
     "execution_count": 24,
     "metadata": {},
     "output_type": "execute_result"
    }
   ],
   "source": [
    "B.intersection(A)"
   ]
  },
  {
   "cell_type": "code",
   "execution_count": 39,
   "id": "bcccc3a2",
   "metadata": {},
   "outputs": [
    {
     "data": {
      "text/plain": [
       "{1, 2, 3}"
      ]
     },
     "execution_count": 39,
     "metadata": {},
     "output_type": "execute_result"
    }
   ],
   "source": [
    "A.intersection(C)"
   ]
  },
  {
   "cell_type": "code",
   "execution_count": 40,
   "id": "607ffc08",
   "metadata": {},
   "outputs": [
    {
     "data": {
      "text/plain": [
       "{10, 20, 30}"
      ]
     },
     "execution_count": 40,
     "metadata": {},
     "output_type": "execute_result"
    }
   ],
   "source": [
    "D = {10,20,30}\n",
    "D"
   ]
  },
  {
   "cell_type": "markdown",
   "id": "d5049076",
   "metadata": {},
   "source": [
    "$\\Box$\n",
    "\n",
    "##### Exercise 3\n",
    "\n",
    "Write code so that the following function performs the way that its docstring indicates.\n",
    "\n",
    "Example: intersect($[${1,2,3}, {2,3,4}, {3,4,5}$]$ should return {3}.\n",
    "\n",
    "intersect([{1,2,3,4,5},{2,3,4,5},{3,4,5,6},{4,5,6,7}]) should return {4,5}."
   ]
  },
  {
   "cell_type": "code",
   "execution_count": 13,
   "id": "4cc33356",
   "metadata": {},
   "outputs": [],
   "source": [
    "def intersect(list_of_sets):\n",
    "    \"\"\"\n",
    "    Parameters\n",
    "    -----------\n",
    "    list_of_sets: list whose elements are sets\n",
    "    \n",
    "    Returns\n",
    "    -----------\n",
    "    set containing the intersection of all sets in list_of_sets\n",
    "    \"\"\"  "
   ]
  },
  {
   "cell_type": "code",
   "execution_count": null,
   "id": "6232f84d",
   "metadata": {},
   "outputs": [],
   "source": [
    "if intersect([{1,2,3}, {2,3,4}, {3,4,5}]) != {3}:\n",
    "    print(\"Something is wrong with your code.\")\n",
    "elif intersect([{1,2,3,'dude'}, {2,3,4,'dude'}, {3,4,5,'dude'}]) != {3,'dude'}:\n",
    "    print(\"Something is wrong with your code.\")\n",
    "else:\n",
    "    print(\"All tests passed.\")"
   ]
  },
  {
   "cell_type": "markdown",
   "id": "f07db9d4",
   "metadata": {},
   "source": [
    "### The Empty Set\n",
    "\n",
    "The *empty set* is the set that contains no elements.  In math, this is the set $\\{$ $\\}$.  Although somewhat of a weird concept, the empty set is necessary in mathematics.\n",
    "\n",
    "In math, the empty set is denoted by the symbol $\\emptyset$. \n",
    "\n",
    "In Python, the empty set is constructed in the same ways that non-empty sets are constructed, except that no elements are defined.\n",
    "\n",
    "##### Example 8"
   ]
  },
  {
   "cell_type": "code",
   "execution_count": 1,
   "id": "f0882e61",
   "metadata": {},
   "outputs": [
    {
     "data": {
      "text/plain": [
       "{}"
      ]
     },
     "execution_count": 1,
     "metadata": {},
     "output_type": "execute_result"
    }
   ],
   "source": [
    "{ }"
   ]
  },
  {
   "cell_type": "code",
   "execution_count": 2,
   "id": "59f4c69c",
   "metadata": {},
   "outputs": [
    {
     "data": {
      "text/plain": [
       "set()"
      ]
     },
     "execution_count": 2,
     "metadata": {},
     "output_type": "execute_result"
    }
   ],
   "source": [
    "set([])"
   ]
  },
  {
   "cell_type": "markdown",
   "id": "9cc4fa46",
   "metadata": {},
   "source": [
    "Since the two above sets are empty (no elements), it makes sense that their length is 0."
   ]
  },
  {
   "cell_type": "code",
   "execution_count": 4,
   "id": "8611118c",
   "metadata": {},
   "outputs": [
    {
     "data": {
      "text/plain": [
       "0"
      ]
     },
     "execution_count": 4,
     "metadata": {},
     "output_type": "execute_result"
    }
   ],
   "source": [
    "len({ })"
   ]
  },
  {
   "cell_type": "code",
   "execution_count": 5,
   "id": "1008ce79",
   "metadata": {},
   "outputs": [
    {
     "data": {
      "text/plain": [
       "0"
      ]
     },
     "execution_count": 5,
     "metadata": {},
     "output_type": "execute_result"
    }
   ],
   "source": [
    "len(set([]))"
   ]
  },
  {
   "cell_type": "markdown",
   "id": "d11a2ca1",
   "metadata": {},
   "source": [
    "$\\Box$\n",
    "\n",
    "### Disjoint Sets\n",
    "\n",
    "Two sets are said to be *disjoint*, if their intersection is the empty set.\n",
    "\n",
    "For example consider the sets $A=\\{1,2,3,4\\}$ and $B=\\{100,200,300\\}$.  These sets are disjoint, since $A\\bigcap B =\\emptyset$.\n",
    "\n",
    "##### Example 9"
   ]
  },
  {
   "cell_type": "code",
   "execution_count": 6,
   "id": "70b0fec2",
   "metadata": {},
   "outputs": [],
   "source": [
    "A = set([1,2,3,4])\n",
    "B = set([100,200,300])"
   ]
  },
  {
   "cell_type": "code",
   "execution_count": 9,
   "id": "6b744b5b",
   "metadata": {},
   "outputs": [
    {
     "data": {
      "text/plain": [
       "{1, 2, 3, 4}"
      ]
     },
     "execution_count": 9,
     "metadata": {},
     "output_type": "execute_result"
    }
   ],
   "source": [
    "A"
   ]
  },
  {
   "cell_type": "code",
   "execution_count": 10,
   "id": "cc999336",
   "metadata": {},
   "outputs": [
    {
     "data": {
      "text/plain": [
       "{100, 200, 300}"
      ]
     },
     "execution_count": 10,
     "metadata": {},
     "output_type": "execute_result"
    }
   ],
   "source": [
    "B"
   ]
  },
  {
   "cell_type": "code",
   "execution_count": 7,
   "id": "69b7c408",
   "metadata": {},
   "outputs": [
    {
     "data": {
      "text/plain": [
       "set()"
      ]
     },
     "execution_count": 7,
     "metadata": {},
     "output_type": "execute_result"
    }
   ],
   "source": [
    "A.intersection(B)"
   ]
  },
  {
   "cell_type": "markdown",
   "id": "bcfdc157",
   "metadata": {},
   "source": [
    "$\\Box$\n",
    "\n",
    "In Python, there is a set method for checking disjointedness.\n",
    "\n",
    "##### Example 10"
   ]
  },
  {
   "cell_type": "code",
   "execution_count": 11,
   "id": "d206ba0a",
   "metadata": {},
   "outputs": [
    {
     "data": {
      "text/plain": [
       "True"
      ]
     },
     "execution_count": 11,
     "metadata": {},
     "output_type": "execute_result"
    }
   ],
   "source": [
    "#Using A and B from Example 9\n",
    "A.isdisjoint(B)"
   ]
  },
  {
   "cell_type": "code",
   "execution_count": 12,
   "id": "737f611b",
   "metadata": {},
   "outputs": [],
   "source": [
    "#Define two new sets\n",
    "C = {1,2,3}\n",
    "D = {2,3,4,5}"
   ]
  },
  {
   "cell_type": "code",
   "execution_count": 13,
   "id": "da7e0668",
   "metadata": {},
   "outputs": [
    {
     "data": {
      "text/plain": [
       "False"
      ]
     },
     "execution_count": 13,
     "metadata": {},
     "output_type": "execute_result"
    }
   ],
   "source": [
    "C.isdisjoint(D)"
   ]
  },
  {
   "cell_type": "code",
   "execution_count": 15,
   "id": "3fa9a1c1",
   "metadata": {},
   "outputs": [
    {
     "data": {
      "text/plain": [
       "False"
      ]
     },
     "execution_count": 15,
     "metadata": {},
     "output_type": "execute_result"
    }
   ],
   "source": [
    "C.intersection(D) == {}"
   ]
  },
  {
   "cell_type": "markdown",
   "id": "b3f00dd6",
   "metadata": {},
   "source": [
    "$\\Box$\n",
    "\n",
    "##### Exercise 4\n",
    "\n",
    "Write code so that the following function performs the way that its docstring indicates.\n",
    "\n",
    "Example: is_disjoint($[${1,2,3}, {2,3,4}, {3,4,5}$]$ should return False.\n",
    "\n",
    "is_disjoint([{1,2},{2,3},{1,3}]) should return True."
   ]
  },
  {
   "cell_type": "code",
   "execution_count": 14,
   "id": "bf3ed134",
   "metadata": {},
   "outputs": [],
   "source": [
    "def is_disjoint(list_of_sets):\n",
    "    \"\"\"\n",
    "    Parameters\n",
    "    -----------\n",
    "    list_of_sets: list whose elements are sets\n",
    "    \n",
    "    Returns\n",
    "    -----------\n",
    "    boolean: True if there does not exist any elements common to all sets in list_of_sets.  False, otherwise\n",
    "    \"\"\""
   ]
  },
  {
   "cell_type": "code",
   "execution_count": null,
   "id": "405ff00a",
   "metadata": {},
   "outputs": [],
   "source": [
    "if not is_disjoint([{1,2}, {2,3}, {1,3}]):\n",
    "    print(\"Something is wrong with your code.\")\n",
    "elif is_disjoint([{1,2,3,4,5},{2,3,4,5},{4,5,6,7,8},{4,5}]):\n",
    "    print(\"Something is wrong with your code.\")\n",
    "else:\n",
    "    print(\"All tests passed.\")"
   ]
  },
  {
   "cell_type": "markdown",
   "id": "520819b5",
   "metadata": {},
   "source": [
    "### Set Difference\n",
    "\n",
    "The *difference* of two sets $A$ and $B$ is the set that contains all elements of $A$ that are not in $B$.\n",
    "\n",
    "In math, the difference of two sets is the set $A-B$.\n",
    "\n",
    "As an example, consider $A=\\{1,2,3,4\\}$ and $B=\\{3,4,5\\}$.\n",
    "\n",
    "Then, $A-B=\\{1,2\\}$, since 1 and 2 are in $A$ and not in $B$.\n",
    "\n",
    "In Python, set difference is implemented with the *difference* method.\n",
    "\n",
    "##### Example 11"
   ]
  },
  {
   "cell_type": "code",
   "execution_count": 16,
   "id": "a4069b23",
   "metadata": {},
   "outputs": [],
   "source": [
    "#Define two sets\n",
    "A = {1,2,3,4}\n",
    "B = {3,4,5}"
   ]
  },
  {
   "cell_type": "code",
   "execution_count": 17,
   "id": "8ba7bae5",
   "metadata": {},
   "outputs": [
    {
     "data": {
      "text/plain": [
       "{1, 2, 3, 4}"
      ]
     },
     "execution_count": 17,
     "metadata": {},
     "output_type": "execute_result"
    }
   ],
   "source": [
    "A"
   ]
  },
  {
   "cell_type": "code",
   "execution_count": 18,
   "id": "950cdb33",
   "metadata": {},
   "outputs": [
    {
     "data": {
      "text/plain": [
       "{3, 4, 5}"
      ]
     },
     "execution_count": 18,
     "metadata": {},
     "output_type": "execute_result"
    }
   ],
   "source": [
    "B"
   ]
  },
  {
   "cell_type": "code",
   "execution_count": 19,
   "id": "3076d882",
   "metadata": {},
   "outputs": [
    {
     "data": {
      "text/plain": [
       "{1, 2}"
      ]
     },
     "execution_count": 19,
     "metadata": {},
     "output_type": "execute_result"
    }
   ],
   "source": [
    "A.difference(B)"
   ]
  },
  {
   "cell_type": "markdown",
   "id": "a299c9c3",
   "metadata": {},
   "source": [
    "$\\Box$\n",
    "\n"
   ]
  },
  {
   "cell_type": "markdown",
   "id": "8499c7e9",
   "metadata": {},
   "source": [
    "##### Exercise 5\n",
    "Suppose that we have a data set with the following column names."
   ]
  },
  {
   "cell_type": "code",
   "execution_count": 23,
   "id": "30a34bfd",
   "metadata": {},
   "outputs": [],
   "source": [
    "all_columns = ['col'+str(x) for x in range(10000)]"
   ]
  },
  {
   "cell_type": "markdown",
   "id": "526e0e23",
   "metadata": {},
   "source": [
    "Now, that is A LOT of columns."
   ]
  },
  {
   "cell_type": "code",
   "execution_count": 24,
   "id": "2e461c83",
   "metadata": {},
   "outputs": [
    {
     "data": {
      "text/plain": [
       "10000"
      ]
     },
     "execution_count": 24,
     "metadata": {},
     "output_type": "execute_result"
    }
   ],
   "source": [
    "len(all_columns)"
   ]
  },
  {
   "cell_type": "markdown",
   "id": "1f27beb7",
   "metadata": {},
   "source": [
    "Now, lets suppose that the columns that we want are given below."
   ]
  },
  {
   "cell_type": "code",
   "execution_count": 25,
   "id": "e96e8ff7",
   "metadata": {},
   "outputs": [
    {
     "data": {
      "text/plain": [
       "['col5125', 'col7887', 'col1140', 'col9727', 'col9069']"
      ]
     },
     "execution_count": 25,
     "metadata": {},
     "output_type": "execute_result"
    }
   ],
   "source": [
    "import numpy as np\n",
    "\n",
    "columns_wanted = ['col'+str(np.random.randint(0,10001)) for x in range(5)]\n",
    "\n",
    "columns_wanted"
   ]
  },
  {
   "cell_type": "markdown",
   "id": "0bd2eca5",
   "metadata": {},
   "source": [
    "Now, suppose that you want to pass a list of all the columns you don't want to a *drop* function.\n",
    "\n",
    "Give a list of the names of all columns that you want to drop as a list called *columns_to_drop*.  Put your answer below."
   ]
  },
  {
   "cell_type": "code",
   "execution_count": null,
   "id": "35cb51a2",
   "metadata": {},
   "outputs": [],
   "source": []
  },
  {
   "cell_type": "markdown",
   "id": "d7b2e4cf",
   "metadata": {},
   "source": [
    "### Set Comprehensions\n",
    "\n",
    "Sets can be constructed using a *comprehension* similar to those of lists and dicts.\n",
    "\n",
    "The syntax for a set comprehension is $\\{$ *expression* for *value* in *collection* if *condition*$\\}$\n",
    "\n",
    "##### Example 12"
   ]
  },
  {
   "cell_type": "code",
   "execution_count": 21,
   "id": "5e763d2a",
   "metadata": {},
   "outputs": [
    {
     "data": {
      "text/plain": [
       "{0, 8, 64, 216, 512, 1000, 1728, 2744, 4096, 5832}"
      ]
     },
     "execution_count": 21,
     "metadata": {},
     "output_type": "execute_result"
    }
   ],
   "source": [
    "even_cubes = {x**3 for x in range(20) if x**3%2 == 0}\n",
    "even_cubes"
   ]
  },
  {
   "cell_type": "markdown",
   "id": "d688ebbc",
   "metadata": {},
   "source": [
    "$\\Box$"
   ]
  },
  {
   "cell_type": "code",
   "execution_count": null,
   "id": "4c7816f7",
   "metadata": {},
   "outputs": [],
   "source": []
  }
 ],
 "metadata": {
  "kernelspec": {
   "display_name": "Python 3 (ipykernel)",
   "language": "python",
   "name": "python3"
  },
  "language_info": {
   "codemirror_mode": {
    "name": "ipython",
    "version": 3
   },
   "file_extension": ".py",
   "mimetype": "text/x-python",
   "name": "python",
   "nbconvert_exporter": "python",
   "pygments_lexer": "ipython3",
   "version": "3.9.12"
  }
 },
 "nbformat": 4,
 "nbformat_minor": 5
}
