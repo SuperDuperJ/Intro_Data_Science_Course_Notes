{
 "cells": [
  {
   "cell_type": "code",
   "execution_count": 1,
   "id": "9115d87d",
   "metadata": {},
   "outputs": [],
   "source": [
    "import numpy as np\n",
    "import random"
   ]
  },
  {
   "cell_type": "markdown",
   "id": "212a720f",
   "metadata": {},
   "source": [
    "### Universal Functions\n",
    "\n",
    "Universal Functions are often called *ufuncs*.  ufuncs are functions that perform element-wise operations on ndarrays.  A good first example is the NumPy square root function *np.sqrt*.\n",
    "\n",
    "##### Example 1"
   ]
  },
  {
   "cell_type": "code",
   "execution_count": 4,
   "id": "f839de39",
   "metadata": {},
   "outputs": [
    {
     "data": {
      "text/plain": [
       "array([[ 4,  9],\n",
       "       [16, 25],\n",
       "       [36, 49]])"
      ]
     },
     "execution_count": 4,
     "metadata": {},
     "output_type": "execute_result"
    }
   ],
   "source": [
    "#An array\n",
    "A = np.array([[4, 9],[16, 25],[36, 49]])\n",
    "A"
   ]
  },
  {
   "cell_type": "code",
   "execution_count": 8,
   "id": "0b1b0b13",
   "metadata": {},
   "outputs": [
    {
     "data": {
      "text/plain": [
       "array([[2., 3.],\n",
       "       [4., 5.],\n",
       "       [6., 7.]])"
      ]
     },
     "execution_count": 8,
     "metadata": {},
     "output_type": "execute_result"
    }
   ],
   "source": [
    "np.sqrt(A)"
   ]
  },
  {
   "cell_type": "markdown",
   "id": "1289f4d5",
   "metadata": {},
   "source": [
    "$\\Box$\n",
    "\n",
    "### Unary Ufuncs\n",
    "\n",
    "A *unary* universal function is a ufunc that acts on a single ndarray.  The ufunc *np.sqrt* used in Example 1 is an example of a unary ufunc.  A list of unary ufuncs is given in table 4-3 in our course text.\n",
    "\n",
    "### Binary Ufuncs\n",
    "\n",
    "*Binary* ufuncs act on two ndarrays.  The most common binary ufunc usage is given in the next example.  \n",
    "\n",
    "Table 4-4 gives a list of binary ufuncs in our course text.\n",
    "\n",
    "##### Example 2"
   ]
  },
  {
   "cell_type": "code",
   "execution_count": 9,
   "id": "06d76f28",
   "metadata": {},
   "outputs": [
    {
     "data": {
      "text/plain": [
       "array([[3, 5, 2, 3, 9],\n",
       "       [3, 1, 5, 9, 6],\n",
       "       [8, 5, 5, 5, 5],\n",
       "       [9, 6, 9, 2, 9]])"
      ]
     },
     "execution_count": 9,
     "metadata": {},
     "output_type": "execute_result"
    }
   ],
   "source": [
    "#An array\n",
    "A = np.random.randint(1, 10, size = (4,5))\n",
    "A"
   ]
  },
  {
   "cell_type": "code",
   "execution_count": 10,
   "id": "082944b0",
   "metadata": {},
   "outputs": [
    {
     "data": {
      "text/plain": [
       "array([[1, 0, 1, 0, 0],\n",
       "       [1, 1, 1, 0, 1],\n",
       "       [0, 1, 1, 1, 0],\n",
       "       [0, 0, 1, 0, 0]])"
      ]
     },
     "execution_count": 10,
     "metadata": {},
     "output_type": "execute_result"
    }
   ],
   "source": [
    "#Another array\n",
    "B = np.random.randint(0, 2, size = (4,5))\n",
    "B"
   ]
  },
  {
   "cell_type": "markdown",
   "id": "049f38d1",
   "metadata": {},
   "source": [
    "Addition"
   ]
  },
  {
   "cell_type": "code",
   "execution_count": 11,
   "id": "6dc987c0",
   "metadata": {},
   "outputs": [
    {
     "data": {
      "text/plain": [
       "array([[ 4,  5,  3,  3,  9],\n",
       "       [ 4,  2,  6,  9,  7],\n",
       "       [ 8,  6,  6,  6,  5],\n",
       "       [ 9,  6, 10,  2,  9]])"
      ]
     },
     "execution_count": 11,
     "metadata": {},
     "output_type": "execute_result"
    }
   ],
   "source": [
    "A+B"
   ]
  },
  {
   "cell_type": "markdown",
   "id": "49036c14",
   "metadata": {},
   "source": [
    "Subtraction"
   ]
  },
  {
   "cell_type": "code",
   "execution_count": 12,
   "id": "d2aac15a",
   "metadata": {},
   "outputs": [
    {
     "data": {
      "text/plain": [
       "array([[2, 5, 1, 3, 9],\n",
       "       [2, 0, 4, 9, 5],\n",
       "       [8, 4, 4, 4, 5],\n",
       "       [9, 6, 8, 2, 9]])"
      ]
     },
     "execution_count": 12,
     "metadata": {},
     "output_type": "execute_result"
    }
   ],
   "source": [
    "A-B"
   ]
  },
  {
   "cell_type": "markdown",
   "id": "2f1ba20b",
   "metadata": {},
   "source": [
    "Element-wise Multiplication.  Don't confuse this with matrix multiplication."
   ]
  },
  {
   "cell_type": "code",
   "execution_count": 13,
   "id": "a0f9aee4",
   "metadata": {},
   "outputs": [
    {
     "data": {
      "text/plain": [
       "array([[3, 5, 2, 3, 9],\n",
       "       [3, 1, 5, 9, 6],\n",
       "       [8, 5, 5, 5, 5],\n",
       "       [9, 6, 9, 2, 9]])"
      ]
     },
     "execution_count": 13,
     "metadata": {},
     "output_type": "execute_result"
    }
   ],
   "source": [
    "A"
   ]
  },
  {
   "cell_type": "code",
   "execution_count": 14,
   "id": "b23e3e17",
   "metadata": {},
   "outputs": [
    {
     "data": {
      "text/plain": [
       "array([[1, 0, 1, 0, 0],\n",
       "       [1, 1, 1, 0, 1],\n",
       "       [0, 1, 1, 1, 0],\n",
       "       [0, 0, 1, 0, 0]])"
      ]
     },
     "execution_count": 14,
     "metadata": {},
     "output_type": "execute_result"
    }
   ],
   "source": [
    "B"
   ]
  },
  {
   "cell_type": "code",
   "execution_count": 15,
   "id": "0623ca9c",
   "metadata": {},
   "outputs": [
    {
     "data": {
      "text/plain": [
       "array([[3, 0, 2, 0, 0],\n",
       "       [3, 1, 5, 0, 6],\n",
       "       [0, 5, 5, 5, 0],\n",
       "       [0, 0, 9, 0, 0]])"
      ]
     },
     "execution_count": 15,
     "metadata": {},
     "output_type": "execute_result"
    }
   ],
   "source": [
    "A*B"
   ]
  },
  {
   "cell_type": "markdown",
   "id": "58cc70af",
   "metadata": {},
   "source": [
    "Element-wise Division  "
   ]
  },
  {
   "cell_type": "code",
   "execution_count": 16,
   "id": "f3e4258d",
   "metadata": {},
   "outputs": [
    {
     "data": {
      "text/plain": [
       "array([[0.33333333, 0.        , 0.5       , 0.        , 0.        ],\n",
       "       [0.33333333, 1.        , 0.2       , 0.        , 0.16666667],\n",
       "       [0.        , 0.2       , 0.2       , 0.2       , 0.        ],\n",
       "       [0.        , 0.        , 0.11111111, 0.        , 0.        ]])"
      ]
     },
     "execution_count": 16,
     "metadata": {},
     "output_type": "execute_result"
    }
   ],
   "source": [
    "B/A"
   ]
  },
  {
   "cell_type": "markdown",
   "id": "1957b115",
   "metadata": {},
   "source": [
    "Floor Division"
   ]
  },
  {
   "cell_type": "code",
   "execution_count": 17,
   "id": "b862cded",
   "metadata": {},
   "outputs": [
    {
     "data": {
      "text/plain": [
       "array([[0, 0, 0, 0, 0],\n",
       "       [0, 1, 0, 0, 0],\n",
       "       [0, 0, 0, 0, 0],\n",
       "       [0, 0, 0, 0, 0]], dtype=int32)"
      ]
     },
     "execution_count": 17,
     "metadata": {},
     "output_type": "execute_result"
    }
   ],
   "source": [
    "B//A"
   ]
  },
  {
   "cell_type": "markdown",
   "id": "c2d34379",
   "metadata": {},
   "source": [
    "$\\Box$\n",
    "\n",
    "##### Exercise 1\n",
    "\n",
    "Write code so that the following function performs the way that its docstring indicates.\n",
    "\n",
    "Example: If $A =\\begin{pmatrix}\n",
    "    1& 2\\\\\n",
    "    5& 6\\\\\n",
    "\\end{pmatrix}$ and $B =\\begin{pmatrix}\n",
    "    2& 2\\\\\n",
    "    3& 3\\\\\n",
    "\\end{pmatrix}$, then distance(A, B) should return $\\begin{pmatrix}\n",
    "    1& 0\\\\\n",
    "    2& 3\\\\\n",
    "\\end{pmatrix}$.\n",
    "\n",
    "Symbolically, if $A =\\begin{pmatrix}\n",
    "    a& b\\\\\n",
    "    c& d\\\\\n",
    "    e& f\\\\\n",
    "    g& h\\\\\n",
    "\\end{pmatrix}$ and $B =\\begin{pmatrix}\n",
    "    i& j\\\\\n",
    "    k& l\\\\\n",
    "    m& n\\\\\n",
    "    p& q\\\\\n",
    "\\end{pmatrix}$, then distance(A, B) should return $\\begin{pmatrix}\n",
    "    |a-i|& |b-j|\\\\\n",
    "    |c-k|& |d-l|\\\\\n",
    "    |e-m|& |f-n|\\\\\n",
    "    |g-p|& |h-q|\\\\\n",
    "\\end{pmatrix}$, where a,b,c,d,e,f,g,h,i,j,k,l,m,n,p,q are numbers."
   ]
  },
  {
   "cell_type": "code",
   "execution_count": 2,
   "id": "69508bd6",
   "metadata": {},
   "outputs": [],
   "source": [
    "def distance(A,B):\n",
    "    \"\"\"\n",
    "    Parameters\n",
    "    -----------\n",
    "    A: ndarray of type int or float\n",
    "    B: ndarray of type int or float\n",
    "    \n",
    "    Returns\n",
    "    -----------\n",
    "    ndarray whose elements have the form |a-b|, where a is an element of A and b is an elment of B\n",
    "    \"\"\"\n",
    "    \n",
    "    return np.absolute(A-B)"
   ]
  },
  {
   "cell_type": "code",
   "execution_count": 11,
   "id": "e1812c8d",
   "metadata": {},
   "outputs": [
    {
     "name": "stdout",
     "output_type": "stream",
     "text": [
      "All tests passed.\n"
     ]
    }
   ],
   "source": [
    "A1 = np.array([1,2,5,6]).reshape(2,2)\n",
    "B1 = np.array([2,2,3,3]).reshape(2,2)\n",
    "C1 = np.array([1,0,2,3]).reshape(2,2)\n",
    "A2 = np.array(range(9)).reshape(3,3)\n",
    "B2 = np.array(range(9,18)).reshape(3,3)\n",
    "C2 = np.array([9]*9).reshape(3,3)\n",
    "\n",
    "if not np.allclose(distance(A1, B1), C1):\n",
    "    print(\"Something is wrong with your code.\")\n",
    "elif not np.allclose(distance(A2, B2), C2):\n",
    "    print(\"Something is wrong with your code.\")\n",
    "else:\n",
    "    print(\"All tests passed.\")"
   ]
  },
  {
   "cell_type": "markdown",
   "id": "a938b96b",
   "metadata": {},
   "source": [
    "##### Example 3\n",
    "\n",
    "What happens when we add two arrays of different shapes?"
   ]
  },
  {
   "cell_type": "code",
   "execution_count": 41,
   "id": "876e2ed2",
   "metadata": {},
   "outputs": [
    {
     "data": {
      "text/plain": [
       "array([[ 0,  1,  2],\n",
       "       [ 3,  4,  5],\n",
       "       [ 6,  7,  8],\n",
       "       [ 9, 10, 11]])"
      ]
     },
     "execution_count": 41,
     "metadata": {},
     "output_type": "execute_result"
    }
   ],
   "source": [
    "A = np.array(range(12)).reshape(4,3)\n",
    "A"
   ]
  },
  {
   "cell_type": "code",
   "execution_count": 42,
   "id": "4d03cf28",
   "metadata": {},
   "outputs": [
    {
     "data": {
      "text/plain": [
       "array([[5, 5, 5]])"
      ]
     },
     "execution_count": 42,
     "metadata": {},
     "output_type": "execute_result"
    }
   ],
   "source": [
    "B = np.array([5,5,5]).reshape(1,3)\n",
    "B"
   ]
  },
  {
   "cell_type": "code",
   "execution_count": 43,
   "id": "eb3607d4",
   "metadata": {},
   "outputs": [
    {
     "data": {
      "text/plain": [
       "array([[ 5,  6,  7],\n",
       "       [ 8,  9, 10],\n",
       "       [11, 12, 13],\n",
       "       [14, 15, 16]])"
      ]
     },
     "execution_count": 43,
     "metadata": {},
     "output_type": "execute_result"
    }
   ],
   "source": [
    "A+B"
   ]
  },
  {
   "cell_type": "markdown",
   "id": "bc1776c2",
   "metadata": {},
   "source": [
    "This is an example of *broadcasting*.  \n",
    "\n",
    "The shape of $A$ is $4 \\times 3$ and the shape of $B$ is $1 \\times 3$.  Since the dimensions match in the horizontal (axis = 1) direction, NumPy performs a (3,1) tiling of B to create matrices that can be added.\n",
    "\n",
    "$\\Box$"
   ]
  },
  {
   "cell_type": "code",
   "execution_count": null,
   "id": "d3645cab",
   "metadata": {},
   "outputs": [],
   "source": []
  }
 ],
 "metadata": {
  "kernelspec": {
   "display_name": "Python 3 (ipykernel)",
   "language": "python",
   "name": "python3"
  },
  "language_info": {
   "codemirror_mode": {
    "name": "ipython",
    "version": 3
   },
   "file_extension": ".py",
   "mimetype": "text/x-python",
   "name": "python",
   "nbconvert_exporter": "python",
   "pygments_lexer": "ipython3",
   "version": "3.9.12"
  }
 },
 "nbformat": 4,
 "nbformat_minor": 5
}
