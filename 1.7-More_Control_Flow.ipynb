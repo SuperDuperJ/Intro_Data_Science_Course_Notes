{
 "cells": [
  {
   "cell_type": "markdown",
   "id": "3b822df5",
   "metadata": {},
   "source": [
    "### Control Flow\n",
    "\n",
    "Thus far we have solely been using a single *for-loop* and the standard *if-else* structure to control the logical flow of our programs.  In this section we will learn the other logical structures that are typically used in programming.\n",
    "\n",
    "#### If-Elif-Else\n",
    "\n",
    "Often, there are more situations than a single if-else stucture can handle.  The *if-elif-else* syntax is given below.\n",
    "\n",
    "if *condition*:\n",
    "\n",
    "    do something\n",
    "    \n",
    "elif *other condition*:\n",
    "\n",
    "    do something\n",
    "    \n",
    "else:\n",
    "\n",
    "    do something\n",
    "    \n",
    "Note that as many elif statements as is necessary can be used.\n",
    "\n",
    "##### Example 1\n",
    "\n",
    "The following function asignes a job title based on pay."
   ]
  },
  {
   "cell_type": "code",
   "execution_count": 1,
   "id": "55803dd6",
   "metadata": {},
   "outputs": [],
   "source": [
    "def job_title(yearly_pay):\n",
    "    job_title = ' '\n",
    "    if yearly_pay >= 250000:\n",
    "        job_title = 'Director of Data Science'        \n",
    "    elif yearly_pay >=150000 and yearly_pay < 250000:\n",
    "        job_title = 'Senior Data Scientist'\n",
    "    elif yearly_pay >=90000 and yearly_pay < 150000:\n",
    "        job_title = 'Data Scientist'\n",
    "    else:\n",
    "        job_title = 'Junior Data Scientist'\n",
    "    return job_title"
   ]
  },
  {
   "cell_type": "code",
   "execution_count": 3,
   "id": "38ae3fc8",
   "metadata": {},
   "outputs": [
    {
     "data": {
      "text/plain": [
       "'Junior Data Scientist'"
      ]
     },
     "execution_count": 3,
     "metadata": {},
     "output_type": "execute_result"
    }
   ],
   "source": [
    "job_title(85000)"
   ]
  },
  {
   "cell_type": "code",
   "execution_count": 4,
   "id": "083b6965",
   "metadata": {},
   "outputs": [
    {
     "data": {
      "text/plain": [
       "'Data Scientist'"
      ]
     },
     "execution_count": 4,
     "metadata": {},
     "output_type": "execute_result"
    }
   ],
   "source": [
    "job_title(125000)"
   ]
  },
  {
   "cell_type": "markdown",
   "id": "ce0b0c75",
   "metadata": {},
   "source": [
    "$\\Box$\n",
    "\n",
    "##### Exercise 1\n",
    "\n",
    "Write code so that the following function performs the way that its docstring indicates.\n",
    "\n",
    "Example: day_of_week(23) should return Saturday.\n",
    "\n",
    "day_of_week(15) should return Friday."
   ]
  },
  {
   "cell_type": "code",
   "execution_count": 5,
   "id": "d0c33156",
   "metadata": {},
   "outputs": [],
   "source": [
    "def day_of_week(day):\n",
    "    \"\"\"\n",
    "    Parameters\n",
    "    -----------\n",
    "    day: int, the numeric day as in 12-day-2023.  For example, if the date is 12-25-2023, day is 25.\n",
    "    \n",
    "    Returns\n",
    "    -----------\n",
    "    String: The day of the week (Sunday, Monday, ... , Saturday) that 12-day-2023 falls on.\n",
    "    \"\"\""
   ]
  },
  {
   "cell_type": "code",
   "execution_count": null,
   "id": "d0b79988",
   "metadata": {},
   "outputs": [],
   "source": [
    "if day_of_week(25).lower() != 'monday':\n",
    "    print(\"Something is wrong with your code.\")\n",
    "elif day_of_week(5).lower() != 'tuesday':\n",
    "    print(\"Something is wrong with your code.\")\n",
    "else:\n",
    "    print(\"All tests passed.\")"
   ]
  },
  {
   "cell_type": "markdown",
   "id": "0ada8e35",
   "metadata": {},
   "source": [
    "#### While Loops\n",
    "\n",
    "A *while* loop is good for a situation where you do not know how many times something must be done, but you can check a condition that tells you whether or not you should proceed.\n",
    "\n",
    "##### Example 2"
   ]
  },
  {
   "cell_type": "code",
   "execution_count": 2,
   "id": "f5a2c114",
   "metadata": {},
   "outputs": [
    {
     "name": "stdout",
     "output_type": "stream",
     "text": [
      "Enter a number: 1\n",
      "Enter zero to quit: 1\n",
      "Enter zero to quit: 1\n",
      "Enter zero to quit: 1\n",
      "Enter zero to quit: 1\n",
      "Enter zero to quit: 1\n",
      "Enter zero to quit: 1\n",
      "Enter zero to quit: 1\n",
      "Enter zero to quit: 1\n",
      "Enter zero to quit: 1\n",
      "Enter zero to quit: 1\n",
      "Enter zero to quit: 0\n"
     ]
    }
   ],
   "source": [
    "n = int(input(\"Enter a number: \"))\n",
    "\n",
    "while n != 0:\n",
    "    n = int(input(\"Enter zero to quit: \"))"
   ]
  },
  {
   "cell_type": "markdown",
   "id": "76381a49",
   "metadata": {},
   "source": [
    "$\\Box$\n",
    "\n",
    "##### Example 3: Euclidean Algorithm\n",
    "\n",
    "The *Euclidean algorithm* always finds the greatest common divisor(GCD) of two positive integers.\n",
    "\n",
    "-----------\n",
    "\n",
    "As a sub-example consider finding the GCD of the integers 12 and 18.  The divisors of 12 and 18 are:\n",
    "\n",
    "12: 1,2,3,4,6,12\n",
    "\n",
    "18: 1,2,3,6,9,18\n",
    "\n",
    "The common divisors of 12 and 18 are: 1,2,3,6.  The greatest of the common divisors is 6.  The GCD of 12 and 18 is 6.  We can denote this as GCD(12,18)=6.\n",
    "\n",
    "-----------\n",
    "\n",
    "The Euclidean Algorithm revolves around the following identity:\n",
    "\n",
    "When $A = B \\cdot Q +R$ and $0\\leq R<B$, we have $$GCD(A,B) = GCD(B,R)$$\n",
    "\n",
    "------------\n",
    "\n",
    "Continuing our sub-example, lets set $A=18$ and $B=12$.  Then, $18=12\\cdot 1+6$.  So, the identity above would say that $GCD(18,12) = GCD(12,6)$ which one can verify is True.\n",
    "\n",
    "So, we have reduced our problem of finding $GCD(18,12)$ to the problem of finding $GCD(12,6)$.  But, why stop here?\n",
    "\n",
    "$12 = 6\\cdot 2 +0$.  So, $GCD(12,6) = GCD(6,0)$ and the GCD of 6 and 0 is 6, since every positive integer divides 0.\n",
    "\n",
    "So, $GCD(18,12) = GCD(12,6)=GCD(6,0)=6$.\n",
    "\n",
    "----------------\n",
    "\n",
    "The Point: We will use a *while* loop to implement the Euclidean Algorithm.   "
   ]
  },
  {
   "cell_type": "code",
   "execution_count": 1,
   "id": "402e88ef",
   "metadata": {},
   "outputs": [],
   "source": [
    "def euclidean_algorithm(A,B):\n",
    "    #Rearrange so that A>=B\n",
    "    if A < B:\n",
    "        A,B = B,A\n",
    "    #By Math, 0<=Remainder<B\n",
    "    while B!=0:\n",
    "        A,B = B,A%B\n",
    "    return A"
   ]
  },
  {
   "cell_type": "code",
   "execution_count": 2,
   "id": "af939329",
   "metadata": {},
   "outputs": [
    {
     "data": {
      "text/plain": [
       "6"
      ]
     },
     "execution_count": 2,
     "metadata": {},
     "output_type": "execute_result"
    }
   ],
   "source": [
    "euclidean_algorithm(270,192)"
   ]
  },
  {
   "cell_type": "markdown",
   "id": "03c92035",
   "metadata": {},
   "source": [
    "$\\Box$\n",
    "\n",
    "##### Exercise 2\n",
    "\n",
    "Write code so that the following function performs the way that its docstring indicates.\n",
    "\n",
    "Example: least_common_multiple(2,3) should output 6.\n",
    "\n",
    "least_common_multiple(12,8) should output 24.\n",
    "\n",
    "------------\n",
    "\n",
    "So, what is the Least Common Multiple (LCM)?\n",
    "\n",
    "------------\n",
    "\n",
    "Sub-Example: Find the LCM of 2 and 3.\n",
    "\n",
    "Multiples of 2: 2, 4, 6, 8, 10, 12, ...\n",
    "\n",
    "Multiples of 3: 3, 6, 9, 12, 15,...\n",
    "\n",
    "Common Multiples of 2 and 3: 6, 12, 18, ...\n",
    "\n",
    "Least of the Common Multiples: 6\n",
    "\n",
    "LCM(2,3) = 6\n",
    "\n",
    "------------------\n",
    "\n",
    "Sub-Example: LCM(12,8) = ?\n",
    "\n",
    "Bigger of 12 and 8: 12\n",
    "\n",
    "Multiples of 12: 12, 24, 36, ...\n",
    "\n",
    "Smallest Multiple of 12 that 8 Divides Evenly Into: 24\n",
    "\n",
    "LCM(12,8) = 24"
   ]
  },
  {
   "cell_type": "code",
   "execution_count": 33,
   "id": "a409c116",
   "metadata": {},
   "outputs": [],
   "source": [
    "def least_common_multiple(A,B):\n",
    "    \"\"\"\n",
    "    Parameters\n",
    "    -----------\n",
    "    A: positive integer\n",
    "    B: positive integer\n",
    "    \n",
    "    Returns\n",
    "    -----------\n",
    "    Integer: The least common multiple of A and B.\n",
    "    \"\"\"\n",
    "    #Ensure A>=B\n",
    "    if A<B:\n",
    "        A, B = B, A\n",
    "    while A%B != 0:\n",
    "        A += A\n",
    "    return A"
   ]
  },
  {
   "cell_type": "code",
   "execution_count": 38,
   "id": "1a498e09",
   "metadata": {},
   "outputs": [
    {
     "name": "stdout",
     "output_type": "stream",
     "text": [
      "All tests passed.\n"
     ]
    }
   ],
   "source": [
    "if least_common_multiple(2,3) != 6:\n",
    "    print(\"Something is wrong with your code.\")\n",
    "elif least_common_multiple(270, 192) != 8640:\n",
    "    print(\"Something is wrong with your code.\")\n",
    "else:\n",
    "    print(\"All tests passed.\")"
   ]
  },
  {
   "cell_type": "markdown",
   "id": "a3f768e7",
   "metadata": {},
   "source": [
    "### Pass Keyword \n",
    "\n",
    "The *pass* keyword is used to skip over a section of code where the Python interpreter expects instructions to exist.\n",
    "\n",
    "##### Example 4"
   ]
  },
  {
   "cell_type": "code",
   "execution_count": 3,
   "id": "127e368f",
   "metadata": {},
   "outputs": [
    {
     "ename": "IndentationError",
     "evalue": "expected an indented block (496235128.py, line 4)",
     "output_type": "error",
     "traceback": [
      "\u001b[1;36m  Input \u001b[1;32mIn [3]\u001b[1;36m\u001b[0m\n\u001b[1;33m    if y>3:\u001b[0m\n\u001b[1;37m           ^\u001b[0m\n\u001b[1;31mIndentationError\u001b[0m\u001b[1;31m:\u001b[0m expected an indented block\n"
     ]
    }
   ],
   "source": [
    "x = [2,5,7,3,8]\n",
    "#Running this code produces an error, since Python expects some code after the if statement\n",
    "for y in x:\n",
    "    if y>3:"
   ]
  },
  {
   "cell_type": "code",
   "execution_count": 4,
   "id": "cf1e744d",
   "metadata": {},
   "outputs": [],
   "source": [
    "x = [2,5,7,3,8]\n",
    "#Running this code does not produce an error, since the Pass keyword is used\n",
    "for y in x:\n",
    "    if y>3:\n",
    "        pass"
   ]
  },
  {
   "cell_type": "markdown",
   "id": "515dc2fa",
   "metadata": {},
   "source": [
    "$\\Box$\n",
    "\n",
    "### Break Keyword\n",
    "\n",
    "The *break* keyword is used to terminate the loop for which it resides.\n",
    "\n",
    "##### Example 5\n",
    "\n",
    "Suppose that we want to search a list, say X, to see if a particular element, say 3, appears in X."
   ]
  },
  {
   "cell_type": "code",
   "execution_count": 5,
   "id": "993d1674",
   "metadata": {},
   "outputs": [],
   "source": [
    "import numpy as np\n",
    "\n",
    "X = [1,2,3,3]+[np.random.randint(0,100) for y in range(9000000)]"
   ]
  },
  {
   "cell_type": "code",
   "execution_count": 6,
   "id": "2cc12c2e",
   "metadata": {},
   "outputs": [
    {
     "data": {
      "text/plain": [
       "[1, 2, 3, 3, 71, 64, 54, 50, 10, 82]"
      ]
     },
     "execution_count": 6,
     "metadata": {},
     "output_type": "execute_result"
    }
   ],
   "source": [
    "X[:10]"
   ]
  },
  {
   "cell_type": "markdown",
   "id": "953445c1",
   "metadata": {},
   "source": [
    "One way to do this is to search through the entire list."
   ]
  },
  {
   "cell_type": "code",
   "execution_count": 11,
   "id": "08396cf2",
   "metadata": {},
   "outputs": [
    {
     "name": "stdout",
     "output_type": "stream",
     "text": [
      "True\n"
     ]
    }
   ],
   "source": [
    "#Solution 1\n",
    "count=0\n",
    "for x in X:\n",
    "    if x == 3:\n",
    "        count+=1\n",
    "\n",
    "#Output results\n",
    "if count >= 1:\n",
    "    print('True')\n",
    "else:\n",
    "    print('False')"
   ]
  },
  {
   "cell_type": "markdown",
   "id": "ce516431",
   "metadata": {},
   "source": [
    "Note that the code above takes a little while to execute.  "
   ]
  },
  {
   "cell_type": "code",
   "execution_count": 12,
   "id": "b71b36bb",
   "metadata": {},
   "outputs": [
    {
     "name": "stdout",
     "output_type": "stream",
     "text": [
      "True\n"
     ]
    }
   ],
   "source": [
    "#Solution 2\n",
    "count = 0\n",
    "for x in X:\n",
    "    if x == 3:\n",
    "        count+=1\n",
    "        break\n",
    "\n",
    "#Output results\n",
    "if count == 1:\n",
    "    print('True')\n",
    "else:\n",
    "    print('False')"
   ]
  },
  {
   "cell_type": "markdown",
   "id": "49d78922",
   "metadata": {},
   "source": [
    "Of course, the best way to accomplish this task is to use the in keyword."
   ]
  },
  {
   "cell_type": "code",
   "execution_count": 85,
   "id": "932bf651",
   "metadata": {},
   "outputs": [
    {
     "name": "stdout",
     "output_type": "stream",
     "text": [
      "True\n"
     ]
    }
   ],
   "source": [
    "#Solution 3\n",
    "if 3 in X:\n",
    "    print('True')\n",
    "else:\n",
    "    print('False')"
   ]
  },
  {
   "cell_type": "markdown",
   "id": "a781539d",
   "metadata": {},
   "source": [
    "$\\Box$\n",
    "\n",
    "### Ternary Expressions\n",
    "\n",
    "*Ternary Expressions* allow one write an If-Else code block in one line.\n",
    "\n",
    "##### Example 6"
   ]
  },
  {
   "cell_type": "code",
   "execution_count": 13,
   "id": "04333f60",
   "metadata": {},
   "outputs": [],
   "source": [
    "x=-3"
   ]
  },
  {
   "cell_type": "code",
   "execution_count": 14,
   "id": "256484e9",
   "metadata": {},
   "outputs": [
    {
     "name": "stdout",
     "output_type": "stream",
     "text": [
      "x is negative\n"
     ]
    }
   ],
   "source": [
    "#Typical If-Else code block\n",
    "if x>=0:\n",
    "    print('x is non-negative.')\n",
    "else:\n",
    "    print('x is negative')"
   ]
  },
  {
   "cell_type": "code",
   "execution_count": 15,
   "id": "e3186dd2",
   "metadata": {},
   "outputs": [
    {
     "name": "stdout",
     "output_type": "stream",
     "text": [
      "x is negative\n"
     ]
    }
   ],
   "source": [
    "#Using a ternary expression\n",
    "print('x is non-negative') if x>=0 else print('x is negative')"
   ]
  },
  {
   "cell_type": "markdown",
   "id": "986ea9df",
   "metadata": {},
   "source": [
    "$\\Box$\n",
    "\n",
    "### Nested Loops\n",
    "\n",
    "Sometimes it is necessary to use a loop within a loop.  When a loop is written inside another loop, we call this a *nested* loop.\n",
    "\n",
    "Nested loops are often SLOW and since Python is already slow, it is always a good idea to avoid nested loops, if possible.  Sometimes nested loops are just necessary.\n",
    "\n",
    "##### Example 7\n",
    "\n",
    "Suppose we have two lists X and Y and we want to count how many elements of Y are also elements of X.  "
   ]
  },
  {
   "cell_type": "code",
   "execution_count": 16,
   "id": "b349ebb3",
   "metadata": {},
   "outputs": [],
   "source": [
    "import numpy as np\n",
    "\n",
    "X = [np.random.randint(0,500) for y in range(100000)]\n",
    "Y = [np.random.randint(0,500) for y in range(100000)]"
   ]
  },
  {
   "cell_type": "markdown",
   "id": "9bf9cd80",
   "metadata": {},
   "source": [
    "One way to solve this problem is to use a nested for-loop."
   ]
  },
  {
   "cell_type": "code",
   "execution_count": 19,
   "id": "82995eb6",
   "metadata": {},
   "outputs": [
    {
     "data": {
      "text/plain": [
       "100000"
      ]
     },
     "execution_count": 19,
     "metadata": {},
     "output_type": "execute_result"
    }
   ],
   "source": [
    "#Solution 1\n",
    "count = 0\n",
    "for y in Y:\n",
    "    for x in X:\n",
    "        if y == x:\n",
    "            count+=1\n",
    "            break\n",
    "count"
   ]
  },
  {
   "cell_type": "markdown",
   "id": "b726dbfb",
   "metadata": {},
   "source": [
    "Another way to solve this problem is to use one for-loop and the in keyword."
   ]
  },
  {
   "cell_type": "code",
   "execution_count": 20,
   "id": "0c928d14",
   "metadata": {},
   "outputs": [
    {
     "data": {
      "text/plain": [
       "100000"
      ]
     },
     "execution_count": 20,
     "metadata": {},
     "output_type": "execute_result"
    }
   ],
   "source": [
    "#Solution 2\n",
    "count = 0\n",
    "for y in Y:\n",
    "    if y in X:\n",
    "        count+=1\n",
    "count"
   ]
  },
  {
   "cell_type": "markdown",
   "id": "9e6c0fe5",
   "metadata": {},
   "source": [
    "$\\Box$\n",
    "\n",
    "##### Example 8: The Two-Sum Problem\n",
    "\n",
    "The two-sum problem is a common question for programming interviews.\n",
    "\n",
    "Problem: Given an array of integers, say X, and a target value, return a 2-tuple containing the indices of two elements whose sum is the target.  If no such elements exist, return (-1,-1).\n",
    "\n",
    "-------------\n",
    "\n",
    "Sub-Example: X = [1,2,12,8,5,9,7], target = 11.\n",
    "\n",
    "Solution: (1,5), since X[1]+X[5] = 2+9 = 11.\n",
    "\n",
    "-------------\n",
    "\n",
    "One way to solve this is to use nested for-loops."
   ]
  },
  {
   "cell_type": "code",
   "execution_count": 104,
   "id": "36de70b7",
   "metadata": {},
   "outputs": [],
   "source": [
    "#Solution 1\n",
    "def two_sum_solution1(X, target):\n",
    "    for x in X:\n",
    "        for y in X:\n",
    "            if x != y and x+y == target:\n",
    "                return (X.index(x), X.index(y))\n",
    "    return (-1,-1)"
   ]
  },
  {
   "cell_type": "code",
   "execution_count": 110,
   "id": "b748869e",
   "metadata": {},
   "outputs": [
    {
     "data": {
      "text/plain": [
       "(1, 5)"
      ]
     },
     "execution_count": 110,
     "metadata": {},
     "output_type": "execute_result"
    }
   ],
   "source": [
    "two_sum_solution1([1,2,12,8,5,9,7], 11)"
   ]
  },
  {
   "cell_type": "markdown",
   "id": "f6d745af",
   "metadata": {},
   "source": [
    "A clever way to solve this is to populate a dictionary."
   ]
  },
  {
   "cell_type": "code",
   "execution_count": 23,
   "id": "1d2eaff3",
   "metadata": {},
   "outputs": [],
   "source": [
    "#Solution 2\n",
    "def two_sum_solution2(X, target):\n",
    "    D = {}\n",
    "    for x in X:\n",
    "        if (target - x) in D:\n",
    "            print(D)\n",
    "            return X.index(x), D[target-x]\n",
    "        else:\n",
    "            D[x] = X.index(x)\n",
    "    return (-1,-1)"
   ]
  },
  {
   "cell_type": "code",
   "execution_count": 24,
   "id": "06bde107",
   "metadata": {},
   "outputs": [
    {
     "name": "stdout",
     "output_type": "stream",
     "text": [
      "{1: 0, 2: 1, 12: 2, 8: 3, 5: 4}\n"
     ]
    },
    {
     "data": {
      "text/plain": [
       "(5, 1)"
      ]
     },
     "execution_count": 24,
     "metadata": {},
     "output_type": "execute_result"
    }
   ],
   "source": [
    "two_sum_solution2([1,2,12,8,5,9,7], 11)"
   ]
  },
  {
   "cell_type": "markdown",
   "id": "d16943f3",
   "metadata": {},
   "source": [
    "$\\Box$\n",
    "\n",
    "##### Exercise 3\n",
    "\n",
    "Write code so that the following function performs the way that its docstring indicates.\n",
    "\n",
    "Example: two_product_problem([2,5,4,7,3], 6) should return (0,4) or (4,0).\n",
    "\n",
    "two_product_problem([2,5,4,7,3,9,10,23,15], 27) should return (4,5) or (5,4)."
   ]
  },
  {
   "cell_type": "code",
   "execution_count": 2,
   "id": "453df640",
   "metadata": {},
   "outputs": [],
   "source": [
    "def two_product_problem(X, target):\n",
    "    \"\"\"\n",
    "    Parameters\n",
    "    -----------\n",
    "    X: list\n",
    "    target: integer\n",
    "    \n",
    "    Returns\n",
    "    -----------\n",
    "    tuple containing the indices of elements of X whose product is target, if they exist and (-1,-1) otherwise.\n",
    "    \"\"\""
   ]
  },
  {
   "cell_type": "code",
   "execution_count": null,
   "id": "608e6324",
   "metadata": {},
   "outputs": [],
   "source": [
    "if two_product_problem([2,5,4,7,3], 6) != (0,4) and two_product_problem([2,5,4,7,3], 6) != (4,0):\n",
    "    print(\"Something is wrong with your code.\")\n",
    "elif two_product_problem([2,5,4,7,3,9,10,23,15], 27) != (4,5) and two_product_problem([2,5,4,7,3,9,10,23,15], 27) != (5,4):\n",
    "    print(\"Something is wrong with your code.\")\n",
    "else:\n",
    "    print(\"All tests passed.\")"
   ]
  }
 ],
 "metadata": {
  "kernelspec": {
   "display_name": "Python 3 (ipykernel)",
   "language": "python",
   "name": "python3"
  },
  "language_info": {
   "codemirror_mode": {
    "name": "ipython",
    "version": 3
   },
   "file_extension": ".py",
   "mimetype": "text/x-python",
   "name": "python",
   "nbconvert_exporter": "python",
   "pygments_lexer": "ipython3",
   "version": "3.9.12"
  }
 },
 "nbformat": 4,
 "nbformat_minor": 5
}
