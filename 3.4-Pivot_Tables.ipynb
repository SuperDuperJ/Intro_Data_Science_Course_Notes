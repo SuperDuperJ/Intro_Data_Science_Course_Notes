{
 "cells": [
  {
   "cell_type": "code",
   "execution_count": 1,
   "id": "3cf729a9",
   "metadata": {},
   "outputs": [],
   "source": [
    "import numpy as np\n",
    "import pandas as pd"
   ]
  },
  {
   "cell_type": "markdown",
   "id": "87ab90dc",
   "metadata": {},
   "source": [
    "### Pivot Tables\n",
    "\n",
    "Pivot Tables can be produced using groupby operations and hierarchical indexing, although these operations can be complicated.  To simplify our work, DataFrames have a *pivot_table* method. \n",
    "\n",
    "The pivot_table method has many optional and one required argument.  The required argument, index indicates where the pivot will take place.  The aggfunc argument indicates how individual group computations will be performed.   \n",
    "\n",
    "##### Example 1"
   ]
  },
  {
   "cell_type": "code",
   "execution_count": 8,
   "id": "b644f8c8",
   "metadata": {},
   "outputs": [
    {
     "data": {
      "text/html": [
       "<div>\n",
       "<style scoped>\n",
       "    .dataframe tbody tr th:only-of-type {\n",
       "        vertical-align: middle;\n",
       "    }\n",
       "\n",
       "    .dataframe tbody tr th {\n",
       "        vertical-align: top;\n",
       "    }\n",
       "\n",
       "    .dataframe thead th {\n",
       "        text-align: right;\n",
       "    }\n",
       "</style>\n",
       "<table border=\"1\" class=\"dataframe\">\n",
       "  <thead>\n",
       "    <tr style=\"text-align: right;\">\n",
       "      <th></th>\n",
       "      <th>gender</th>\n",
       "      <th>type</th>\n",
       "      <th>weight</th>\n",
       "      <th>num_feet</th>\n",
       "    </tr>\n",
       "  </thead>\n",
       "  <tbody>\n",
       "    <tr>\n",
       "      <th>0</th>\n",
       "      <td>F</td>\n",
       "      <td>cat</td>\n",
       "      <td>20.236837</td>\n",
       "      <td>4</td>\n",
       "    </tr>\n",
       "    <tr>\n",
       "      <th>1</th>\n",
       "      <td>M</td>\n",
       "      <td>dog</td>\n",
       "      <td>27.085906</td>\n",
       "      <td>3</td>\n",
       "    </tr>\n",
       "    <tr>\n",
       "      <th>2</th>\n",
       "      <td>F</td>\n",
       "      <td>cat</td>\n",
       "      <td>41.589539</td>\n",
       "      <td>4</td>\n",
       "    </tr>\n",
       "    <tr>\n",
       "      <th>3</th>\n",
       "      <td>F</td>\n",
       "      <td>dog</td>\n",
       "      <td>34.345957</td>\n",
       "      <td>4</td>\n",
       "    </tr>\n",
       "    <tr>\n",
       "      <th>4</th>\n",
       "      <td>M</td>\n",
       "      <td>dog</td>\n",
       "      <td>28.293106</td>\n",
       "      <td>3</td>\n",
       "    </tr>\n",
       "    <tr>\n",
       "      <th>5</th>\n",
       "      <td>M</td>\n",
       "      <td>cat</td>\n",
       "      <td>42.184208</td>\n",
       "      <td>4</td>\n",
       "    </tr>\n",
       "    <tr>\n",
       "      <th>6</th>\n",
       "      <td>F</td>\n",
       "      <td>cat</td>\n",
       "      <td>37.143714</td>\n",
       "      <td>4</td>\n",
       "    </tr>\n",
       "    <tr>\n",
       "      <th>7</th>\n",
       "      <td>F</td>\n",
       "      <td>dog</td>\n",
       "      <td>22.093624</td>\n",
       "      <td>4</td>\n",
       "    </tr>\n",
       "    <tr>\n",
       "      <th>8</th>\n",
       "      <td>F</td>\n",
       "      <td>cat</td>\n",
       "      <td>34.792727</td>\n",
       "      <td>4</td>\n",
       "    </tr>\n",
       "    <tr>\n",
       "      <th>9</th>\n",
       "      <td>M</td>\n",
       "      <td>cat</td>\n",
       "      <td>19.776972</td>\n",
       "      <td>2</td>\n",
       "    </tr>\n",
       "  </tbody>\n",
       "</table>\n",
       "</div>"
      ],
      "text/plain": [
       "  gender type     weight  num_feet\n",
       "0      F  cat  20.236837         4\n",
       "1      M  dog  27.085906         3\n",
       "2      F  cat  41.589539         4\n",
       "3      F  dog  34.345957         4\n",
       "4      M  dog  28.293106         3\n",
       "5      M  cat  42.184208         4\n",
       "6      F  cat  37.143714         4\n",
       "7      F  dog  22.093624         4\n",
       "8      F  cat  34.792727         4\n",
       "9      M  cat  19.776972         2"
      ]
     },
     "execution_count": 8,
     "metadata": {},
     "output_type": "execute_result"
    }
   ],
   "source": [
    "pets = pd.DataFrame({'gender':np.random.choice(np.array(['M','F']), size = (10,)),\n",
    "                    'type':np.random.choice(np.array(['dog','cat']), size = (10,)),\n",
    "                    'weight':10*np.random.normal(size = (10,))+25,\n",
    "                    'num_feet':np.random.choice(range(1,5), size = (10,), p=[0.05, 0.05, 0.3, 0.6])})\n",
    "pets"
   ]
  },
  {
   "cell_type": "markdown",
   "id": "8f39e0c1",
   "metadata": {},
   "source": [
    "We pivot on gender."
   ]
  },
  {
   "cell_type": "code",
   "execution_count": 9,
   "id": "f73478ad",
   "metadata": {},
   "outputs": [
    {
     "data": {
      "text/html": [
       "<div>\n",
       "<style scoped>\n",
       "    .dataframe tbody tr th:only-of-type {\n",
       "        vertical-align: middle;\n",
       "    }\n",
       "\n",
       "    .dataframe tbody tr th {\n",
       "        vertical-align: top;\n",
       "    }\n",
       "\n",
       "    .dataframe thead th {\n",
       "        text-align: right;\n",
       "    }\n",
       "</style>\n",
       "<table border=\"1\" class=\"dataframe\">\n",
       "  <thead>\n",
       "    <tr style=\"text-align: right;\">\n",
       "      <th></th>\n",
       "      <th>num_feet</th>\n",
       "      <th>weight</th>\n",
       "    </tr>\n",
       "    <tr>\n",
       "      <th>gender</th>\n",
       "      <th></th>\n",
       "      <th></th>\n",
       "    </tr>\n",
       "  </thead>\n",
       "  <tbody>\n",
       "    <tr>\n",
       "      <th>F</th>\n",
       "      <td>4</td>\n",
       "      <td>31.700400</td>\n",
       "    </tr>\n",
       "    <tr>\n",
       "      <th>M</th>\n",
       "      <td>3</td>\n",
       "      <td>29.335048</td>\n",
       "    </tr>\n",
       "  </tbody>\n",
       "</table>\n",
       "</div>"
      ],
      "text/plain": [
       "        num_feet     weight\n",
       "gender                     \n",
       "F              4  31.700400\n",
       "M              3  29.335048"
      ]
     },
     "execution_count": 9,
     "metadata": {},
     "output_type": "execute_result"
    }
   ],
   "source": [
    "pets.pivot_table(index = ['gender'], aggfunc = 'mean')"
   ]
  },
  {
   "cell_type": "markdown",
   "id": "90491767",
   "metadata": {},
   "source": [
    "Now, we will pivot on both gender and type."
   ]
  },
  {
   "cell_type": "code",
   "execution_count": 10,
   "id": "823886c2",
   "metadata": {},
   "outputs": [
    {
     "data": {
      "text/html": [
       "<div>\n",
       "<style scoped>\n",
       "    .dataframe tbody tr th:only-of-type {\n",
       "        vertical-align: middle;\n",
       "    }\n",
       "\n",
       "    .dataframe tbody tr th {\n",
       "        vertical-align: top;\n",
       "    }\n",
       "\n",
       "    .dataframe thead th {\n",
       "        text-align: right;\n",
       "    }\n",
       "</style>\n",
       "<table border=\"1\" class=\"dataframe\">\n",
       "  <thead>\n",
       "    <tr style=\"text-align: right;\">\n",
       "      <th></th>\n",
       "      <th></th>\n",
       "      <th>num_feet</th>\n",
       "      <th>weight</th>\n",
       "    </tr>\n",
       "    <tr>\n",
       "      <th>gender</th>\n",
       "      <th>type</th>\n",
       "      <th></th>\n",
       "      <th></th>\n",
       "    </tr>\n",
       "  </thead>\n",
       "  <tbody>\n",
       "    <tr>\n",
       "      <th rowspan=\"2\" valign=\"top\">F</th>\n",
       "      <th>cat</th>\n",
       "      <td>4</td>\n",
       "      <td>33.440704</td>\n",
       "    </tr>\n",
       "    <tr>\n",
       "      <th>dog</th>\n",
       "      <td>4</td>\n",
       "      <td>28.219790</td>\n",
       "    </tr>\n",
       "    <tr>\n",
       "      <th rowspan=\"2\" valign=\"top\">M</th>\n",
       "      <th>cat</th>\n",
       "      <td>3</td>\n",
       "      <td>30.980590</td>\n",
       "    </tr>\n",
       "    <tr>\n",
       "      <th>dog</th>\n",
       "      <td>3</td>\n",
       "      <td>27.689506</td>\n",
       "    </tr>\n",
       "  </tbody>\n",
       "</table>\n",
       "</div>"
      ],
      "text/plain": [
       "             num_feet     weight\n",
       "gender type                     \n",
       "F      cat          4  33.440704\n",
       "       dog          4  28.219790\n",
       "M      cat          3  30.980590\n",
       "       dog          3  27.689506"
      ]
     },
     "execution_count": 10,
     "metadata": {},
     "output_type": "execute_result"
    }
   ],
   "source": [
    "pets.pivot_table(index = ['gender', 'type'], aggfunc = 'mean')"
   ]
  },
  {
   "cell_type": "markdown",
   "id": "94e50d72",
   "metadata": {},
   "source": [
    "Now, we change the aggfunc argument."
   ]
  },
  {
   "cell_type": "code",
   "execution_count": 11,
   "id": "6640fc06",
   "metadata": {},
   "outputs": [
    {
     "data": {
      "text/html": [
       "<div>\n",
       "<style scoped>\n",
       "    .dataframe tbody tr th:only-of-type {\n",
       "        vertical-align: middle;\n",
       "    }\n",
       "\n",
       "    .dataframe tbody tr th {\n",
       "        vertical-align: top;\n",
       "    }\n",
       "\n",
       "    .dataframe thead th {\n",
       "        text-align: right;\n",
       "    }\n",
       "</style>\n",
       "<table border=\"1\" class=\"dataframe\">\n",
       "  <thead>\n",
       "    <tr style=\"text-align: right;\">\n",
       "      <th></th>\n",
       "      <th></th>\n",
       "      <th>num_feet</th>\n",
       "      <th>weight</th>\n",
       "    </tr>\n",
       "    <tr>\n",
       "      <th>gender</th>\n",
       "      <th>type</th>\n",
       "      <th></th>\n",
       "      <th></th>\n",
       "    </tr>\n",
       "  </thead>\n",
       "  <tbody>\n",
       "    <tr>\n",
       "      <th rowspan=\"2\" valign=\"top\">F</th>\n",
       "      <th>cat</th>\n",
       "      <td>16</td>\n",
       "      <td>133.762818</td>\n",
       "    </tr>\n",
       "    <tr>\n",
       "      <th>dog</th>\n",
       "      <td>8</td>\n",
       "      <td>56.439581</td>\n",
       "    </tr>\n",
       "    <tr>\n",
       "      <th rowspan=\"2\" valign=\"top\">M</th>\n",
       "      <th>cat</th>\n",
       "      <td>6</td>\n",
       "      <td>61.961180</td>\n",
       "    </tr>\n",
       "    <tr>\n",
       "      <th>dog</th>\n",
       "      <td>6</td>\n",
       "      <td>55.379012</td>\n",
       "    </tr>\n",
       "  </tbody>\n",
       "</table>\n",
       "</div>"
      ],
      "text/plain": [
       "             num_feet      weight\n",
       "gender type                      \n",
       "F      cat         16  133.762818\n",
       "       dog          8   56.439581\n",
       "M      cat          6   61.961180\n",
       "       dog          6   55.379012"
      ]
     },
     "execution_count": 11,
     "metadata": {},
     "output_type": "execute_result"
    }
   ],
   "source": [
    "pets.pivot_table(index = ['gender', 'type'], aggfunc = 'sum')"
   ]
  },
  {
   "cell_type": "markdown",
   "id": "8c49226e",
   "metadata": {},
   "source": [
    "Note that we could have accomplished this with a groupby."
   ]
  },
  {
   "cell_type": "code",
   "execution_count": 12,
   "id": "0d452a97",
   "metadata": {},
   "outputs": [
    {
     "data": {
      "text/plain": [
       "[(('F', 'cat'),\n",
       "     num_feet     weight\n",
       "  0         4  20.236837\n",
       "  2         4  41.589539\n",
       "  6         4  37.143714\n",
       "  8         4  34.792727),\n",
       " (('F', 'dog'),\n",
       "     num_feet     weight\n",
       "  3         4  34.345957\n",
       "  7         4  22.093624),\n",
       " (('M', 'cat'),\n",
       "     num_feet     weight\n",
       "  5         4  42.184208\n",
       "  9         2  19.776972),\n",
       " (('M', 'dog'),\n",
       "     num_feet     weight\n",
       "  1         3  27.085906\n",
       "  4         3  28.293106)]"
      ]
     },
     "execution_count": 12,
     "metadata": {},
     "output_type": "execute_result"
    }
   ],
   "source": [
    "list(pets[['num_feet', 'weight']].groupby([pets['gender'], pets['type']]))"
   ]
  },
  {
   "cell_type": "code",
   "execution_count": 13,
   "id": "723fe870",
   "metadata": {},
   "outputs": [
    {
     "data": {
      "text/html": [
       "<div>\n",
       "<style scoped>\n",
       "    .dataframe tbody tr th:only-of-type {\n",
       "        vertical-align: middle;\n",
       "    }\n",
       "\n",
       "    .dataframe tbody tr th {\n",
       "        vertical-align: top;\n",
       "    }\n",
       "\n",
       "    .dataframe thead th {\n",
       "        text-align: right;\n",
       "    }\n",
       "</style>\n",
       "<table border=\"1\" class=\"dataframe\">\n",
       "  <thead>\n",
       "    <tr style=\"text-align: right;\">\n",
       "      <th></th>\n",
       "      <th></th>\n",
       "      <th>num_feet</th>\n",
       "      <th>weight</th>\n",
       "    </tr>\n",
       "    <tr>\n",
       "      <th>gender</th>\n",
       "      <th>type</th>\n",
       "      <th></th>\n",
       "      <th></th>\n",
       "    </tr>\n",
       "  </thead>\n",
       "  <tbody>\n",
       "    <tr>\n",
       "      <th rowspan=\"2\" valign=\"top\">F</th>\n",
       "      <th>cat</th>\n",
       "      <td>16</td>\n",
       "      <td>133.762818</td>\n",
       "    </tr>\n",
       "    <tr>\n",
       "      <th>dog</th>\n",
       "      <td>8</td>\n",
       "      <td>56.439581</td>\n",
       "    </tr>\n",
       "    <tr>\n",
       "      <th rowspan=\"2\" valign=\"top\">M</th>\n",
       "      <th>cat</th>\n",
       "      <td>6</td>\n",
       "      <td>61.961180</td>\n",
       "    </tr>\n",
       "    <tr>\n",
       "      <th>dog</th>\n",
       "      <td>6</td>\n",
       "      <td>55.379012</td>\n",
       "    </tr>\n",
       "  </tbody>\n",
       "</table>\n",
       "</div>"
      ],
      "text/plain": [
       "             num_feet      weight\n",
       "gender type                      \n",
       "F      cat         16  133.762818\n",
       "       dog          8   56.439581\n",
       "M      cat          6   61.961180\n",
       "       dog          6   55.379012"
      ]
     },
     "execution_count": 13,
     "metadata": {},
     "output_type": "execute_result"
    }
   ],
   "source": [
    "pets[['num_feet', 'weight']].groupby([pets['gender'], pets['type']]).sum()"
   ]
  },
  {
   "cell_type": "markdown",
   "id": "e053c2bd",
   "metadata": {},
   "source": [
    "$\\Box$"
   ]
  },
  {
   "cell_type": "code",
   "execution_count": null,
   "id": "636d0883",
   "metadata": {},
   "outputs": [],
   "source": []
  }
 ],
 "metadata": {
  "kernelspec": {
   "display_name": "Python 3 (ipykernel)",
   "language": "python",
   "name": "python3"
  },
  "language_info": {
   "codemirror_mode": {
    "name": "ipython",
    "version": 3
   },
   "file_extension": ".py",
   "mimetype": "text/x-python",
   "name": "python",
   "nbconvert_exporter": "python",
   "pygments_lexer": "ipython3",
   "version": "3.9.12"
  }
 },
 "nbformat": 4,
 "nbformat_minor": 5
}
