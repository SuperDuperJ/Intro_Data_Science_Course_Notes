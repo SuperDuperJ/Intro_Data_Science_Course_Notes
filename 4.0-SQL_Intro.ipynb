{
 "cells": [
  {
   "cell_type": "code",
   "execution_count": 1,
   "id": "dfa8998c",
   "metadata": {},
   "outputs": [],
   "source": [
    "import sqlite3\n",
    "import pandas as pd"
   ]
  },
  {
   "cell_type": "markdown",
   "id": "9e803455",
   "metadata": {},
   "source": [
    "### SQL\n",
    "\n",
    "SQL stands for *structured query language* and is the defacto language to know for working with *relational databases*.\n",
    "\n",
    "In this and the next notebook we will barely skim the surface of all that there is to know about relational databases and SQL.\n",
    "\n",
    "In this course, we will use Python magic commands to run SQL in our course Jupyter Notebooks.  To do this we need to make sure that we have the necessary software downloaded to our machines.  To get the SQL Magic commands to work on my machine, I had to run the following code.  You can do this in a Jupyter Notebook code cell.\n",
    "\n",
    "%pip install jupysql duckdb-engine --quiet\n",
    "\n",
    "Once you have this installed, we then start with the following command, which will allow us to use SQL Magic commands."
   ]
  },
  {
   "cell_type": "code",
   "execution_count": 3,
   "id": "bb526792",
   "metadata": {},
   "outputs": [
    {
     "name": "stdout",
     "output_type": "stream",
     "text": [
      "\u001b[33mThere's a new jupysql version available (0.10.5), you're running 0.10.3. To upgrade: pip install jupysql --upgrade\u001b[0m\n"
     ]
    }
   ],
   "source": [
    "%load_ext sql"
   ]
  },
  {
   "cell_type": "markdown",
   "id": "a256ea29",
   "metadata": {},
   "source": [
    "Now, we create a connection object that connects to the built-in sqlite3 database engine.  Once we instantiate a connection object, we create a cursor.  I believe (though I don't know for sure) that cursor's get their name since they act much the same as a cursor in a word processing application in that they keep track of where you are in the database. "
   ]
  },
  {
   "cell_type": "code",
   "execution_count": 4,
   "id": "ff85c6d6",
   "metadata": {},
   "outputs": [],
   "source": [
    "connection = sqlite3.connect(\"HR.db\")\n",
    "cursor = connection.cursor()"
   ]
  },
  {
   "cell_type": "markdown",
   "id": "0bfa219b",
   "metadata": {},
   "source": [
    "Now, we need to connect to magic SQL using sqlite3."
   ]
  },
  {
   "cell_type": "code",
   "execution_count": 5,
   "id": "b3bfe1ec",
   "metadata": {},
   "outputs": [
    {
     "data": {
      "text/html": [
       "<span style=\"None\">Connecting to &#x27;sqlite:///HR.db&#x27;</span>"
      ],
      "text/plain": [
       "Connecting to 'sqlite:///HR.db'"
      ]
     },
     "metadata": {},
     "output_type": "display_data"
    }
   ],
   "source": [
    "%sql sqlite:///HR.db"
   ]
  },
  {
   "cell_type": "code",
   "execution_count": 5,
   "id": "587273ec",
   "metadata": {},
   "outputs": [],
   "source": [
    "%config SqlMagic.displaylimit = 20"
   ]
  },
  {
   "cell_type": "markdown",
   "id": "b2afe469",
   "metadata": {},
   "source": [
    "#### SQL Magic Commands\n",
    "\n",
    "To run SQL commands in a Jupyter Notebook, we need to do one of two things:\n",
    "+ Start each line with %sql\n",
    "or\n",
    "+ Start a code block with %%sql\n",
    "\n",
    "Starting a code cell with %%sql, tells Python that we will be using SQL for the entire cell.\n",
    "\n",
    "#### Creating A Table\n",
    "\n",
    "We now create a table in our HR database.\n",
    "\n",
    "##### Example 1"
   ]
  },
  {
   "cell_type": "code",
   "execution_count": 6,
   "id": "3e93c8c4",
   "metadata": {},
   "outputs": [
    {
     "data": {
      "text/html": [
       "<span style=\"None\">Running query in &#x27;sqlite:///HR.db&#x27;</span>"
      ],
      "text/plain": [
       "Running query in 'sqlite:///HR.db'"
      ]
     },
     "metadata": {},
     "output_type": "display_data"
    },
    {
     "data": {
      "text/html": [
       "<span style=\"color: green\">10 rows affected.</span>"
      ],
      "text/plain": [
       "10 rows affected."
      ]
     },
     "metadata": {},
     "output_type": "display_data"
    },
    {
     "data": {
      "text/html": [
       "<table>\n",
       "    <thead>\n",
       "        <tr>\n",
       "        </tr>\n",
       "    </thead>\n",
       "    <tbody>\n",
       "    </tbody>\n",
       "</table>"
      ],
      "text/plain": [
       "++\n",
       "||\n",
       "++\n",
       "++"
      ]
     },
     "execution_count": 6,
     "metadata": {},
     "output_type": "execute_result"
    }
   ],
   "source": [
    "%%sql\n",
    "\n",
    "create table JOBS (\n",
    "    ID INT,\n",
    "    TITLE VARCHAR(50),\n",
    "    MIN_SALARY INT,\n",
    "    MAX_SALARY INT\n",
    ");\n",
    "\n",
    "insert into JOBS (ID, TITLE, MIN_SALARY, MAX_SALARY)\n",
    "VALUES\n",
    "(100, 'Sr. Architect', 60000, 100000),\n",
    "(200, 'Sr. Software Developer', 60000, 80000),\n",
    "(300, 'Sr. Designer', 60000, 80000),\n",
    "(400, 'Sr. Architect', 60000, 100000),\n",
    "(500, 'Sr. Software Developer', 60000, 80000),\n",
    "(600, 'Sr. Designer', 60000, 80000),\n",
    "(650, 'Sr. Architect', 60000, 100000),\n",
    "(660, 'Sr. Software Developer', 60000, 80000),\n",
    "(234, 'Sr. Designer', 60000, 80000),\n",
    "(220, 'Sr. Architect', 60000, 100000)"
   ]
  },
  {
   "cell_type": "markdown",
   "id": "d38b439d",
   "metadata": {},
   "source": [
    "$\\Box$"
   ]
  },
  {
   "cell_type": "markdown",
   "id": "b920c5e4",
   "metadata": {},
   "source": [
    "#### Select Statement\n",
    "\n",
    "##### Example 2\n",
    "\n",
    "The * means all.  Using the * is equivalent to writing out all column names."
   ]
  },
  {
   "cell_type": "code",
   "execution_count": 6,
   "id": "8d549615",
   "metadata": {},
   "outputs": [
    {
     "data": {
      "text/html": [
       "<span style=\"None\">Running query in &#x27;sqlite:///HR.db&#x27;</span>"
      ],
      "text/plain": [
       "Running query in 'sqlite:///HR.db'"
      ]
     },
     "metadata": {},
     "output_type": "display_data"
    },
    {
     "data": {
      "text/html": [
       "<table>\n",
       "    <thead>\n",
       "        <tr>\n",
       "            <th>ID</th>\n",
       "            <th>TITLE</th>\n",
       "            <th>MIN_SALARY</th>\n",
       "            <th>MAX_SALARY</th>\n",
       "        </tr>\n",
       "    </thead>\n",
       "    <tbody>\n",
       "        <tr>\n",
       "            <td>100</td>\n",
       "            <td>Sr. Architect</td>\n",
       "            <td>60000</td>\n",
       "            <td>100000</td>\n",
       "        </tr>\n",
       "        <tr>\n",
       "            <td>200</td>\n",
       "            <td>Sr. Software Developer</td>\n",
       "            <td>60000</td>\n",
       "            <td>80000</td>\n",
       "        </tr>\n",
       "        <tr>\n",
       "            <td>300</td>\n",
       "            <td>Data Engineer</td>\n",
       "            <td>60000</td>\n",
       "            <td>500000</td>\n",
       "        </tr>\n",
       "        <tr>\n",
       "            <td>400</td>\n",
       "            <td>Sr. Architect</td>\n",
       "            <td>60000</td>\n",
       "            <td>100000</td>\n",
       "        </tr>\n",
       "        <tr>\n",
       "            <td>500</td>\n",
       "            <td>Data Scientist</td>\n",
       "            <td>60000</td>\n",
       "            <td>250000</td>\n",
       "        </tr>\n",
       "        <tr>\n",
       "            <td>600</td>\n",
       "            <td>Data Scientist</td>\n",
       "            <td>60000</td>\n",
       "            <td>250000</td>\n",
       "        </tr>\n",
       "        <tr>\n",
       "            <td>650</td>\n",
       "            <td>Sr. Architect</td>\n",
       "            <td>60000</td>\n",
       "            <td>100000</td>\n",
       "        </tr>\n",
       "        <tr>\n",
       "            <td>660</td>\n",
       "            <td>Sr. Software Developer</td>\n",
       "            <td>60000</td>\n",
       "            <td>80000</td>\n",
       "        </tr>\n",
       "        <tr>\n",
       "            <td>234</td>\n",
       "            <td>Data Analyst</td>\n",
       "            <td>60000</td>\n",
       "            <td>150000</td>\n",
       "        </tr>\n",
       "        <tr>\n",
       "            <td>220</td>\n",
       "            <td>Sr. Architect</td>\n",
       "            <td>60000</td>\n",
       "            <td>100000</td>\n",
       "        </tr>\n",
       "    </tbody>\n",
       "</table>"
      ],
      "text/plain": [
       "+-----+------------------------+------------+------------+\n",
       "|  ID |         TITLE          | MIN_SALARY | MAX_SALARY |\n",
       "+-----+------------------------+------------+------------+\n",
       "| 100 |     Sr. Architect      |   60000    |   100000   |\n",
       "| 200 | Sr. Software Developer |   60000    |   80000    |\n",
       "| 300 |     Data Engineer      |   60000    |   500000   |\n",
       "| 400 |     Sr. Architect      |   60000    |   100000   |\n",
       "| 500 |     Data Scientist     |   60000    |   250000   |\n",
       "| 600 |     Data Scientist     |   60000    |   250000   |\n",
       "| 650 |     Sr. Architect      |   60000    |   100000   |\n",
       "| 660 | Sr. Software Developer |   60000    |   80000    |\n",
       "| 234 |      Data Analyst      |   60000    |   150000   |\n",
       "| 220 |     Sr. Architect      |   60000    |   100000   |\n",
       "+-----+------------------------+------------+------------+"
      ]
     },
     "execution_count": 6,
     "metadata": {},
     "output_type": "execute_result"
    }
   ],
   "source": [
    "%sql select * from jobs;"
   ]
  },
  {
   "cell_type": "markdown",
   "id": "58e674c2",
   "metadata": {},
   "source": [
    "When we write code to produce results from a relational database, the code is called a *query*."
   ]
  },
  {
   "cell_type": "markdown",
   "id": "0e7ec6b2",
   "metadata": {},
   "source": [
    "$\\Box$\n",
    "\n",
    "##### Example 3"
   ]
  },
  {
   "cell_type": "code",
   "execution_count": 7,
   "id": "04519a43",
   "metadata": {},
   "outputs": [
    {
     "data": {
      "text/html": [
       "<span style=\"None\">Running query in &#x27;sqlite:///HR.db&#x27;</span>"
      ],
      "text/plain": [
       "Running query in 'sqlite:///HR.db'"
      ]
     },
     "metadata": {},
     "output_type": "display_data"
    },
    {
     "data": {
      "text/html": [
       "<table>\n",
       "    <thead>\n",
       "        <tr>\n",
       "            <th>TITLE</th>\n",
       "            <th>MIN_SALARY</th>\n",
       "        </tr>\n",
       "    </thead>\n",
       "    <tbody>\n",
       "        <tr>\n",
       "            <td>Sr. Architect</td>\n",
       "            <td>60000</td>\n",
       "        </tr>\n",
       "        <tr>\n",
       "            <td>Sr. Software Developer</td>\n",
       "            <td>60000</td>\n",
       "        </tr>\n",
       "        <tr>\n",
       "            <td>Data Engineer</td>\n",
       "            <td>60000</td>\n",
       "        </tr>\n",
       "        <tr>\n",
       "            <td>Sr. Architect</td>\n",
       "            <td>60000</td>\n",
       "        </tr>\n",
       "        <tr>\n",
       "            <td>Data Scientist</td>\n",
       "            <td>60000</td>\n",
       "        </tr>\n",
       "        <tr>\n",
       "            <td>Data Scientist</td>\n",
       "            <td>60000</td>\n",
       "        </tr>\n",
       "        <tr>\n",
       "            <td>Sr. Architect</td>\n",
       "            <td>60000</td>\n",
       "        </tr>\n",
       "        <tr>\n",
       "            <td>Sr. Software Developer</td>\n",
       "            <td>60000</td>\n",
       "        </tr>\n",
       "        <tr>\n",
       "            <td>Data Analyst</td>\n",
       "            <td>60000</td>\n",
       "        </tr>\n",
       "        <tr>\n",
       "            <td>Sr. Architect</td>\n",
       "            <td>60000</td>\n",
       "        </tr>\n",
       "    </tbody>\n",
       "</table>"
      ],
      "text/plain": [
       "+------------------------+------------+\n",
       "|         TITLE          | MIN_SALARY |\n",
       "+------------------------+------------+\n",
       "|     Sr. Architect      |   60000    |\n",
       "| Sr. Software Developer |   60000    |\n",
       "|     Data Engineer      |   60000    |\n",
       "|     Sr. Architect      |   60000    |\n",
       "|     Data Scientist     |   60000    |\n",
       "|     Data Scientist     |   60000    |\n",
       "|     Sr. Architect      |   60000    |\n",
       "| Sr. Software Developer |   60000    |\n",
       "|      Data Analyst      |   60000    |\n",
       "|     Sr. Architect      |   60000    |\n",
       "+------------------------+------------+"
      ]
     },
     "execution_count": 7,
     "metadata": {},
     "output_type": "execute_result"
    }
   ],
   "source": [
    "%sql select TITLE, MIN_SALARY from jobs;"
   ]
  },
  {
   "cell_type": "markdown",
   "id": "81a77acc",
   "metadata": {},
   "source": [
    "$\\Box$\n",
    "\n",
    "#### The Where Clause\n",
    "\n",
    "##### Example 4"
   ]
  },
  {
   "cell_type": "code",
   "execution_count": 6,
   "id": "dd3efb1b",
   "metadata": {},
   "outputs": [
    {
     "data": {
      "text/html": [
       "<span style=\"None\">Running query in &#x27;sqlite:///HR.db&#x27;</span>"
      ],
      "text/plain": [
       "Running query in 'sqlite:///HR.db'"
      ]
     },
     "metadata": {},
     "output_type": "display_data"
    },
    {
     "data": {
      "text/html": [
       "<table>\n",
       "    <thead>\n",
       "        <tr>\n",
       "            <th>ID</th>\n",
       "            <th>TITLE</th>\n",
       "        </tr>\n",
       "    </thead>\n",
       "    <tbody>\n",
       "        <tr>\n",
       "            <td>100</td>\n",
       "            <td>Sr. Architect</td>\n",
       "        </tr>\n",
       "        <tr>\n",
       "            <td>300</td>\n",
       "            <td>Data Engineer</td>\n",
       "        </tr>\n",
       "        <tr>\n",
       "            <td>400</td>\n",
       "            <td>Sr. Architect</td>\n",
       "        </tr>\n",
       "        <tr>\n",
       "            <td>500</td>\n",
       "            <td>Data Scientist</td>\n",
       "        </tr>\n",
       "        <tr>\n",
       "            <td>600</td>\n",
       "            <td>Data Scientist</td>\n",
       "        </tr>\n",
       "        <tr>\n",
       "            <td>650</td>\n",
       "            <td>Sr. Architect</td>\n",
       "        </tr>\n",
       "        <tr>\n",
       "            <td>234</td>\n",
       "            <td>Data Analyst</td>\n",
       "        </tr>\n",
       "        <tr>\n",
       "            <td>220</td>\n",
       "            <td>Sr. Architect</td>\n",
       "        </tr>\n",
       "    </tbody>\n",
       "</table>"
      ],
      "text/plain": [
       "+-----+----------------+\n",
       "|  ID |     TITLE      |\n",
       "+-----+----------------+\n",
       "| 100 | Sr. Architect  |\n",
       "| 300 | Data Engineer  |\n",
       "| 400 | Sr. Architect  |\n",
       "| 500 | Data Scientist |\n",
       "| 600 | Data Scientist |\n",
       "| 650 | Sr. Architect  |\n",
       "| 234 |  Data Analyst  |\n",
       "| 220 | Sr. Architect  |\n",
       "+-----+----------------+"
      ]
     },
     "execution_count": 6,
     "metadata": {},
     "output_type": "execute_result"
    }
   ],
   "source": [
    "%sql select ID, TITLE from jobs where MAX_SALARY > 90000;"
   ]
  },
  {
   "cell_type": "markdown",
   "id": "28edacb0",
   "metadata": {},
   "source": [
    "$\\Box$\n",
    "\n",
    "Ok, our dataset is a little boring.  Lets change some rows using the UPDATE statement.\n",
    "\n",
    "##### Example 5"
   ]
  },
  {
   "cell_type": "code",
   "execution_count": 16,
   "id": "5fc41bc1",
   "metadata": {},
   "outputs": [
    {
     "data": {
      "text/html": [
       "<span style=\"None\">Running query in &#x27;sqlite:///HR.db&#x27;</span>"
      ],
      "text/plain": [
       "Running query in 'sqlite:///HR.db'"
      ]
     },
     "metadata": {},
     "output_type": "display_data"
    },
    {
     "data": {
      "text/html": [
       "<span style=\"color: green\">1 rows affected.</span>"
      ],
      "text/plain": [
       "1 rows affected."
      ]
     },
     "metadata": {},
     "output_type": "display_data"
    },
    {
     "data": {
      "text/html": [
       "<table>\n",
       "    <thead>\n",
       "        <tr>\n",
       "        </tr>\n",
       "    </thead>\n",
       "    <tbody>\n",
       "    </tbody>\n",
       "</table>"
      ],
      "text/plain": [
       "++\n",
       "||\n",
       "++\n",
       "++"
      ]
     },
     "execution_count": 16,
     "metadata": {},
     "output_type": "execute_result"
    }
   ],
   "source": [
    "%sql update jobs set title = 'Data Scientist', max_salary = '250000' where id = 500;"
   ]
  },
  {
   "cell_type": "code",
   "execution_count": 18,
   "id": "9a542fe3",
   "metadata": {},
   "outputs": [
    {
     "data": {
      "text/html": [
       "<span style=\"None\">Running query in &#x27;sqlite:///HR.db&#x27;</span>"
      ],
      "text/plain": [
       "Running query in 'sqlite:///HR.db'"
      ]
     },
     "metadata": {},
     "output_type": "display_data"
    },
    {
     "data": {
      "text/html": [
       "<span style=\"color: green\">1 rows affected.</span>"
      ],
      "text/plain": [
       "1 rows affected."
      ]
     },
     "metadata": {},
     "output_type": "display_data"
    },
    {
     "data": {
      "text/html": [
       "<table>\n",
       "    <thead>\n",
       "        <tr>\n",
       "        </tr>\n",
       "    </thead>\n",
       "    <tbody>\n",
       "    </tbody>\n",
       "</table>"
      ],
      "text/plain": [
       "++\n",
       "||\n",
       "++\n",
       "++"
      ]
     },
     "execution_count": 18,
     "metadata": {},
     "output_type": "execute_result"
    }
   ],
   "source": [
    "%sql update jobs set title = 'Data Scientist', max_salary = '250000' where id = 600;"
   ]
  },
  {
   "cell_type": "code",
   "execution_count": 19,
   "id": "2b9e963f",
   "metadata": {},
   "outputs": [
    {
     "data": {
      "text/html": [
       "<span style=\"None\">Running query in &#x27;sqlite:///HR.db&#x27;</span>"
      ],
      "text/plain": [
       "Running query in 'sqlite:///HR.db'"
      ]
     },
     "metadata": {},
     "output_type": "display_data"
    },
    {
     "data": {
      "text/html": [
       "<span style=\"color: green\">1 rows affected.</span>"
      ],
      "text/plain": [
       "1 rows affected."
      ]
     },
     "metadata": {},
     "output_type": "display_data"
    },
    {
     "data": {
      "text/html": [
       "<table>\n",
       "    <thead>\n",
       "        <tr>\n",
       "        </tr>\n",
       "    </thead>\n",
       "    <tbody>\n",
       "    </tbody>\n",
       "</table>"
      ],
      "text/plain": [
       "++\n",
       "||\n",
       "++\n",
       "++"
      ]
     },
     "execution_count": 19,
     "metadata": {},
     "output_type": "execute_result"
    }
   ],
   "source": [
    "%sql update jobs set title = 'Data Analyst', max_salary = '150000' where id = 234;"
   ]
  },
  {
   "cell_type": "code",
   "execution_count": 20,
   "id": "7dee596a",
   "metadata": {},
   "outputs": [
    {
     "data": {
      "text/html": [
       "<span style=\"None\">Running query in &#x27;sqlite:///HR.db&#x27;</span>"
      ],
      "text/plain": [
       "Running query in 'sqlite:///HR.db'"
      ]
     },
     "metadata": {},
     "output_type": "display_data"
    },
    {
     "data": {
      "text/html": [
       "<span style=\"color: green\">1 rows affected.</span>"
      ],
      "text/plain": [
       "1 rows affected."
      ]
     },
     "metadata": {},
     "output_type": "display_data"
    },
    {
     "data": {
      "text/html": [
       "<table>\n",
       "    <thead>\n",
       "        <tr>\n",
       "        </tr>\n",
       "    </thead>\n",
       "    <tbody>\n",
       "    </tbody>\n",
       "</table>"
      ],
      "text/plain": [
       "++\n",
       "||\n",
       "++\n",
       "++"
      ]
     },
     "execution_count": 20,
     "metadata": {},
     "output_type": "execute_result"
    }
   ],
   "source": [
    "%sql update jobs set title = 'Data Engineer', max_salary = '500000' where id = 300;"
   ]
  },
  {
   "cell_type": "code",
   "execution_count": 21,
   "id": "0371402d",
   "metadata": {},
   "outputs": [
    {
     "data": {
      "text/html": [
       "<span style=\"None\">Running query in &#x27;sqlite:///HR.db&#x27;</span>"
      ],
      "text/plain": [
       "Running query in 'sqlite:///HR.db'"
      ]
     },
     "metadata": {},
     "output_type": "display_data"
    },
    {
     "data": {
      "text/html": [
       "<table>\n",
       "    <thead>\n",
       "        <tr>\n",
       "            <th>ID</th>\n",
       "            <th>TITLE</th>\n",
       "            <th>MIN_SALARY</th>\n",
       "            <th>MAX_SALARY</th>\n",
       "        </tr>\n",
       "    </thead>\n",
       "    <tbody>\n",
       "        <tr>\n",
       "            <td>100</td>\n",
       "            <td>Sr. Architect</td>\n",
       "            <td>60000</td>\n",
       "            <td>100000</td>\n",
       "        </tr>\n",
       "        <tr>\n",
       "            <td>200</td>\n",
       "            <td>Sr. Software Developer</td>\n",
       "            <td>60000</td>\n",
       "            <td>80000</td>\n",
       "        </tr>\n",
       "        <tr>\n",
       "            <td>300</td>\n",
       "            <td>Data Engineer</td>\n",
       "            <td>60000</td>\n",
       "            <td>500000</td>\n",
       "        </tr>\n",
       "        <tr>\n",
       "            <td>400</td>\n",
       "            <td>Sr. Architect</td>\n",
       "            <td>60000</td>\n",
       "            <td>100000</td>\n",
       "        </tr>\n",
       "        <tr>\n",
       "            <td>500</td>\n",
       "            <td>Data Scientist</td>\n",
       "            <td>60000</td>\n",
       "            <td>250000</td>\n",
       "        </tr>\n",
       "        <tr>\n",
       "            <td>600</td>\n",
       "            <td>Data Scientist</td>\n",
       "            <td>60000</td>\n",
       "            <td>250000</td>\n",
       "        </tr>\n",
       "        <tr>\n",
       "            <td>650</td>\n",
       "            <td>Sr. Architect</td>\n",
       "            <td>60000</td>\n",
       "            <td>100000</td>\n",
       "        </tr>\n",
       "        <tr>\n",
       "            <td>660</td>\n",
       "            <td>Sr. Software Developer</td>\n",
       "            <td>60000</td>\n",
       "            <td>80000</td>\n",
       "        </tr>\n",
       "        <tr>\n",
       "            <td>234</td>\n",
       "            <td>Data Analyst</td>\n",
       "            <td>60000</td>\n",
       "            <td>150000</td>\n",
       "        </tr>\n",
       "        <tr>\n",
       "            <td>220</td>\n",
       "            <td>Sr. Architect</td>\n",
       "            <td>60000</td>\n",
       "            <td>100000</td>\n",
       "        </tr>\n",
       "    </tbody>\n",
       "</table>\n",
       "<span style=\"font-style:italic;text-align:center;\">Truncated to <a href=\"https://jupysql.ploomber.io/en/latest/api/configuration.html#displaylimit\">displaylimit</a> of 10.</span>"
      ],
      "text/plain": [
       "+-----+------------------------+------------+------------+\n",
       "|  ID |         TITLE          | MIN_SALARY | MAX_SALARY |\n",
       "+-----+------------------------+------------+------------+\n",
       "| 100 |     Sr. Architect      |   60000    |   100000   |\n",
       "| 200 | Sr. Software Developer |   60000    |   80000    |\n",
       "| 300 |     Data Engineer      |   60000    |   500000   |\n",
       "| 400 |     Sr. Architect      |   60000    |   100000   |\n",
       "| 500 |     Data Scientist     |   60000    |   250000   |\n",
       "| 600 |     Data Scientist     |   60000    |   250000   |\n",
       "| 650 |     Sr. Architect      |   60000    |   100000   |\n",
       "| 660 | Sr. Software Developer |   60000    |   80000    |\n",
       "| 234 |      Data Analyst      |   60000    |   150000   |\n",
       "| 220 |     Sr. Architect      |   60000    |   100000   |\n",
       "+-----+------------------------+------------+------------+\n",
       "Truncated to displaylimit of 10."
      ]
     },
     "execution_count": 21,
     "metadata": {},
     "output_type": "execute_result"
    }
   ],
   "source": [
    "%sql select * from jobs;"
   ]
  },
  {
   "cell_type": "markdown",
   "id": "d557842d",
   "metadata": {},
   "source": [
    "$\\Box$\n",
    "\n",
    "#### The Count Statement\n",
    "\n",
    "##### Example 6"
   ]
  },
  {
   "cell_type": "code",
   "execution_count": 9,
   "id": "222603db",
   "metadata": {},
   "outputs": [
    {
     "data": {
      "text/html": [
       "<span style=\"None\">Running query in &#x27;sqlite:///HR.db&#x27;</span>"
      ],
      "text/plain": [
       "Running query in 'sqlite:///HR.db'"
      ]
     },
     "metadata": {},
     "output_type": "display_data"
    },
    {
     "data": {
      "text/html": [
       "<table>\n",
       "    <thead>\n",
       "        <tr>\n",
       "            <th>num_rows</th>\n",
       "        </tr>\n",
       "    </thead>\n",
       "    <tbody>\n",
       "        <tr>\n",
       "            <td>10</td>\n",
       "        </tr>\n",
       "    </tbody>\n",
       "</table>"
      ],
      "text/plain": [
       "+----------+\n",
       "| num_rows |\n",
       "+----------+\n",
       "|    10    |\n",
       "+----------+"
      ]
     },
     "execution_count": 9,
     "metadata": {},
     "output_type": "execute_result"
    }
   ],
   "source": [
    "%sql select count(*) as 'num_rows' from jobs;"
   ]
  },
  {
   "cell_type": "markdown",
   "id": "d314b291",
   "metadata": {},
   "source": [
    "$\\Box$\n",
    "\n",
    "#### String Patterns\n",
    "\n",
    "We can use the LIKE keyword and the % sign as a wildcard sign to help look for patterns in a string.\n",
    "\n",
    "##### Example 7"
   ]
  },
  {
   "cell_type": "code",
   "execution_count": 10,
   "id": "8ca5d87d",
   "metadata": {},
   "outputs": [
    {
     "data": {
      "text/html": [
       "<span style=\"None\">Running query in &#x27;sqlite:///HR.db&#x27;</span>"
      ],
      "text/plain": [
       "Running query in 'sqlite:///HR.db'"
      ]
     },
     "metadata": {},
     "output_type": "display_data"
    },
    {
     "data": {
      "text/html": [
       "<table>\n",
       "    <thead>\n",
       "        <tr>\n",
       "            <th>ID</th>\n",
       "            <th>TITLE</th>\n",
       "            <th>MIN_SALARY</th>\n",
       "            <th>MAX_SALARY</th>\n",
       "        </tr>\n",
       "    </thead>\n",
       "    <tbody>\n",
       "        <tr>\n",
       "            <td>100</td>\n",
       "            <td>Sr. Architect</td>\n",
       "            <td>60000</td>\n",
       "            <td>100000</td>\n",
       "        </tr>\n",
       "        <tr>\n",
       "            <td>200</td>\n",
       "            <td>Sr. Software Developer</td>\n",
       "            <td>60000</td>\n",
       "            <td>80000</td>\n",
       "        </tr>\n",
       "        <tr>\n",
       "            <td>300</td>\n",
       "            <td>Data Engineer</td>\n",
       "            <td>60000</td>\n",
       "            <td>500000</td>\n",
       "        </tr>\n",
       "        <tr>\n",
       "            <td>400</td>\n",
       "            <td>Sr. Architect</td>\n",
       "            <td>60000</td>\n",
       "            <td>100000</td>\n",
       "        </tr>\n",
       "        <tr>\n",
       "            <td>500</td>\n",
       "            <td>Data Scientist</td>\n",
       "            <td>60000</td>\n",
       "            <td>250000</td>\n",
       "        </tr>\n",
       "        <tr>\n",
       "            <td>600</td>\n",
       "            <td>Data Scientist</td>\n",
       "            <td>60000</td>\n",
       "            <td>250000</td>\n",
       "        </tr>\n",
       "        <tr>\n",
       "            <td>650</td>\n",
       "            <td>Sr. Architect</td>\n",
       "            <td>60000</td>\n",
       "            <td>100000</td>\n",
       "        </tr>\n",
       "        <tr>\n",
       "            <td>660</td>\n",
       "            <td>Sr. Software Developer</td>\n",
       "            <td>60000</td>\n",
       "            <td>80000</td>\n",
       "        </tr>\n",
       "        <tr>\n",
       "            <td>234</td>\n",
       "            <td>Data Analyst</td>\n",
       "            <td>60000</td>\n",
       "            <td>150000</td>\n",
       "        </tr>\n",
       "        <tr>\n",
       "            <td>220</td>\n",
       "            <td>Sr. Architect</td>\n",
       "            <td>60000</td>\n",
       "            <td>100000</td>\n",
       "        </tr>\n",
       "    </tbody>\n",
       "</table>"
      ],
      "text/plain": [
       "+-----+------------------------+------------+------------+\n",
       "|  ID |         TITLE          | MIN_SALARY | MAX_SALARY |\n",
       "+-----+------------------------+------------+------------+\n",
       "| 100 |     Sr. Architect      |   60000    |   100000   |\n",
       "| 200 | Sr. Software Developer |   60000    |   80000    |\n",
       "| 300 |     Data Engineer      |   60000    |   500000   |\n",
       "| 400 |     Sr. Architect      |   60000    |   100000   |\n",
       "| 500 |     Data Scientist     |   60000    |   250000   |\n",
       "| 600 |     Data Scientist     |   60000    |   250000   |\n",
       "| 650 |     Sr. Architect      |   60000    |   100000   |\n",
       "| 660 | Sr. Software Developer |   60000    |   80000    |\n",
       "| 234 |      Data Analyst      |   60000    |   150000   |\n",
       "| 220 |     Sr. Architect      |   60000    |   100000   |\n",
       "+-----+------------------------+------------+------------+"
      ]
     },
     "execution_count": 10,
     "metadata": {},
     "output_type": "execute_result"
    }
   ],
   "source": [
    "%sql select * from jobs;"
   ]
  },
  {
   "cell_type": "markdown",
   "id": "83c5cb7e",
   "metadata": {},
   "source": [
    "Suppose that we want to select all titles that contain the word Architect."
   ]
  },
  {
   "cell_type": "code",
   "execution_count": 11,
   "id": "9231ef1e",
   "metadata": {},
   "outputs": [
    {
     "data": {
      "text/html": [
       "<span style=\"None\">Running query in &#x27;sqlite:///HR.db&#x27;</span>"
      ],
      "text/plain": [
       "Running query in 'sqlite:///HR.db'"
      ]
     },
     "metadata": {},
     "output_type": "display_data"
    },
    {
     "data": {
      "text/html": [
       "<table>\n",
       "    <thead>\n",
       "        <tr>\n",
       "            <th>TITLE</th>\n",
       "            <th>MAX_SALARY</th>\n",
       "        </tr>\n",
       "    </thead>\n",
       "    <tbody>\n",
       "        <tr>\n",
       "            <td>Sr. Architect</td>\n",
       "            <td>100000</td>\n",
       "        </tr>\n",
       "        <tr>\n",
       "            <td>Sr. Architect</td>\n",
       "            <td>100000</td>\n",
       "        </tr>\n",
       "        <tr>\n",
       "            <td>Sr. Architect</td>\n",
       "            <td>100000</td>\n",
       "        </tr>\n",
       "        <tr>\n",
       "            <td>Sr. Architect</td>\n",
       "            <td>100000</td>\n",
       "        </tr>\n",
       "    </tbody>\n",
       "</table>"
      ],
      "text/plain": [
       "+---------------+------------+\n",
       "|     TITLE     | MAX_SALARY |\n",
       "+---------------+------------+\n",
       "| Sr. Architect |   100000   |\n",
       "| Sr. Architect |   100000   |\n",
       "| Sr. Architect |   100000   |\n",
       "| Sr. Architect |   100000   |\n",
       "+---------------+------------+"
      ]
     },
     "execution_count": 11,
     "metadata": {},
     "output_type": "execute_result"
    }
   ],
   "source": [
    "%sql select title, max_salary from jobs where title like '%Architect';"
   ]
  },
  {
   "cell_type": "markdown",
   "id": "93415635",
   "metadata": {},
   "source": [
    "Maybe we are interested in jobs that have to do with data."
   ]
  },
  {
   "cell_type": "code",
   "execution_count": 12,
   "id": "d90980dc",
   "metadata": {},
   "outputs": [
    {
     "data": {
      "text/html": [
       "<span style=\"None\">Running query in &#x27;sqlite:///HR.db&#x27;</span>"
      ],
      "text/plain": [
       "Running query in 'sqlite:///HR.db'"
      ]
     },
     "metadata": {},
     "output_type": "display_data"
    },
    {
     "data": {
      "text/html": [
       "<table>\n",
       "    <thead>\n",
       "        <tr>\n",
       "            <th>TITLE</th>\n",
       "            <th>MAX_SALARY</th>\n",
       "        </tr>\n",
       "    </thead>\n",
       "    <tbody>\n",
       "        <tr>\n",
       "            <td>Data Engineer</td>\n",
       "            <td>500000</td>\n",
       "        </tr>\n",
       "        <tr>\n",
       "            <td>Data Scientist</td>\n",
       "            <td>250000</td>\n",
       "        </tr>\n",
       "        <tr>\n",
       "            <td>Data Scientist</td>\n",
       "            <td>250000</td>\n",
       "        </tr>\n",
       "        <tr>\n",
       "            <td>Data Analyst</td>\n",
       "            <td>150000</td>\n",
       "        </tr>\n",
       "    </tbody>\n",
       "</table>"
      ],
      "text/plain": [
       "+----------------+------------+\n",
       "|     TITLE      | MAX_SALARY |\n",
       "+----------------+------------+\n",
       "| Data Engineer  |   500000   |\n",
       "| Data Scientist |   250000   |\n",
       "| Data Scientist |   250000   |\n",
       "|  Data Analyst  |   150000   |\n",
       "+----------------+------------+"
      ]
     },
     "execution_count": 12,
     "metadata": {},
     "output_type": "execute_result"
    }
   ],
   "source": [
    "%sql select title, max_salary from jobs where title like 'data%';"
   ]
  },
  {
   "cell_type": "markdown",
   "id": "b6b4cc66",
   "metadata": {},
   "source": [
    "$\\Box$\n",
    "\n",
    "#### Order By\n",
    "\n",
    "We can write a query that returns a table ordered by a given criteria.\n",
    "\n",
    "##### Example 8"
   ]
  },
  {
   "cell_type": "code",
   "execution_count": 13,
   "id": "885c109d",
   "metadata": {},
   "outputs": [
    {
     "data": {
      "text/html": [
       "<span style=\"None\">Running query in &#x27;sqlite:///HR.db&#x27;</span>"
      ],
      "text/plain": [
       "Running query in 'sqlite:///HR.db'"
      ]
     },
     "metadata": {},
     "output_type": "display_data"
    },
    {
     "data": {
      "text/html": [
       "<table>\n",
       "    <thead>\n",
       "        <tr>\n",
       "            <th>ID</th>\n",
       "            <th>TITLE</th>\n",
       "            <th>MIN_SALARY</th>\n",
       "            <th>MAX_SALARY</th>\n",
       "        </tr>\n",
       "    </thead>\n",
       "    <tbody>\n",
       "        <tr>\n",
       "            <td>100</td>\n",
       "            <td>Sr. Architect</td>\n",
       "            <td>60000</td>\n",
       "            <td>100000</td>\n",
       "        </tr>\n",
       "        <tr>\n",
       "            <td>200</td>\n",
       "            <td>Sr. Software Developer</td>\n",
       "            <td>60000</td>\n",
       "            <td>80000</td>\n",
       "        </tr>\n",
       "        <tr>\n",
       "            <td>300</td>\n",
       "            <td>Data Engineer</td>\n",
       "            <td>60000</td>\n",
       "            <td>500000</td>\n",
       "        </tr>\n",
       "        <tr>\n",
       "            <td>400</td>\n",
       "            <td>Sr. Architect</td>\n",
       "            <td>60000</td>\n",
       "            <td>100000</td>\n",
       "        </tr>\n",
       "        <tr>\n",
       "            <td>500</td>\n",
       "            <td>Data Scientist</td>\n",
       "            <td>60000</td>\n",
       "            <td>250000</td>\n",
       "        </tr>\n",
       "        <tr>\n",
       "            <td>600</td>\n",
       "            <td>Data Scientist</td>\n",
       "            <td>60000</td>\n",
       "            <td>250000</td>\n",
       "        </tr>\n",
       "        <tr>\n",
       "            <td>650</td>\n",
       "            <td>Sr. Architect</td>\n",
       "            <td>60000</td>\n",
       "            <td>100000</td>\n",
       "        </tr>\n",
       "        <tr>\n",
       "            <td>660</td>\n",
       "            <td>Sr. Software Developer</td>\n",
       "            <td>60000</td>\n",
       "            <td>80000</td>\n",
       "        </tr>\n",
       "        <tr>\n",
       "            <td>234</td>\n",
       "            <td>Data Analyst</td>\n",
       "            <td>60000</td>\n",
       "            <td>150000</td>\n",
       "        </tr>\n",
       "        <tr>\n",
       "            <td>220</td>\n",
       "            <td>Sr. Architect</td>\n",
       "            <td>60000</td>\n",
       "            <td>100000</td>\n",
       "        </tr>\n",
       "    </tbody>\n",
       "</table>"
      ],
      "text/plain": [
       "+-----+------------------------+------------+------------+\n",
       "|  ID |         TITLE          | MIN_SALARY | MAX_SALARY |\n",
       "+-----+------------------------+------------+------------+\n",
       "| 100 |     Sr. Architect      |   60000    |   100000   |\n",
       "| 200 | Sr. Software Developer |   60000    |   80000    |\n",
       "| 300 |     Data Engineer      |   60000    |   500000   |\n",
       "| 400 |     Sr. Architect      |   60000    |   100000   |\n",
       "| 500 |     Data Scientist     |   60000    |   250000   |\n",
       "| 600 |     Data Scientist     |   60000    |   250000   |\n",
       "| 650 |     Sr. Architect      |   60000    |   100000   |\n",
       "| 660 | Sr. Software Developer |   60000    |   80000    |\n",
       "| 234 |      Data Analyst      |   60000    |   150000   |\n",
       "| 220 |     Sr. Architect      |   60000    |   100000   |\n",
       "+-----+------------------------+------------+------------+"
      ]
     },
     "execution_count": 13,
     "metadata": {},
     "output_type": "execute_result"
    }
   ],
   "source": [
    "%sql select * from jobs;"
   ]
  },
  {
   "cell_type": "code",
   "execution_count": 14,
   "id": "2c0623fe",
   "metadata": {},
   "outputs": [
    {
     "data": {
      "text/html": [
       "<span style=\"None\">Running query in &#x27;sqlite:///HR.db&#x27;</span>"
      ],
      "text/plain": [
       "Running query in 'sqlite:///HR.db'"
      ]
     },
     "metadata": {},
     "output_type": "display_data"
    },
    {
     "data": {
      "text/html": [
       "<table>\n",
       "    <thead>\n",
       "        <tr>\n",
       "            <th>ID</th>\n",
       "            <th>TITLE</th>\n",
       "            <th>MIN_SALARY</th>\n",
       "            <th>MAX_SALARY</th>\n",
       "        </tr>\n",
       "    </thead>\n",
       "    <tbody>\n",
       "        <tr>\n",
       "            <td>100</td>\n",
       "            <td>Sr. Architect</td>\n",
       "            <td>60000</td>\n",
       "            <td>100000</td>\n",
       "        </tr>\n",
       "        <tr>\n",
       "            <td>200</td>\n",
       "            <td>Sr. Software Developer</td>\n",
       "            <td>60000</td>\n",
       "            <td>80000</td>\n",
       "        </tr>\n",
       "        <tr>\n",
       "            <td>220</td>\n",
       "            <td>Sr. Architect</td>\n",
       "            <td>60000</td>\n",
       "            <td>100000</td>\n",
       "        </tr>\n",
       "        <tr>\n",
       "            <td>234</td>\n",
       "            <td>Data Analyst</td>\n",
       "            <td>60000</td>\n",
       "            <td>150000</td>\n",
       "        </tr>\n",
       "        <tr>\n",
       "            <td>300</td>\n",
       "            <td>Data Engineer</td>\n",
       "            <td>60000</td>\n",
       "            <td>500000</td>\n",
       "        </tr>\n",
       "        <tr>\n",
       "            <td>400</td>\n",
       "            <td>Sr. Architect</td>\n",
       "            <td>60000</td>\n",
       "            <td>100000</td>\n",
       "        </tr>\n",
       "        <tr>\n",
       "            <td>500</td>\n",
       "            <td>Data Scientist</td>\n",
       "            <td>60000</td>\n",
       "            <td>250000</td>\n",
       "        </tr>\n",
       "        <tr>\n",
       "            <td>600</td>\n",
       "            <td>Data Scientist</td>\n",
       "            <td>60000</td>\n",
       "            <td>250000</td>\n",
       "        </tr>\n",
       "        <tr>\n",
       "            <td>650</td>\n",
       "            <td>Sr. Architect</td>\n",
       "            <td>60000</td>\n",
       "            <td>100000</td>\n",
       "        </tr>\n",
       "        <tr>\n",
       "            <td>660</td>\n",
       "            <td>Sr. Software Developer</td>\n",
       "            <td>60000</td>\n",
       "            <td>80000</td>\n",
       "        </tr>\n",
       "    </tbody>\n",
       "</table>"
      ],
      "text/plain": [
       "+-----+------------------------+------------+------------+\n",
       "|  ID |         TITLE          | MIN_SALARY | MAX_SALARY |\n",
       "+-----+------------------------+------------+------------+\n",
       "| 100 |     Sr. Architect      |   60000    |   100000   |\n",
       "| 200 | Sr. Software Developer |   60000    |   80000    |\n",
       "| 220 |     Sr. Architect      |   60000    |   100000   |\n",
       "| 234 |      Data Analyst      |   60000    |   150000   |\n",
       "| 300 |     Data Engineer      |   60000    |   500000   |\n",
       "| 400 |     Sr. Architect      |   60000    |   100000   |\n",
       "| 500 |     Data Scientist     |   60000    |   250000   |\n",
       "| 600 |     Data Scientist     |   60000    |   250000   |\n",
       "| 650 |     Sr. Architect      |   60000    |   100000   |\n",
       "| 660 | Sr. Software Developer |   60000    |   80000    |\n",
       "+-----+------------------------+------------+------------+"
      ]
     },
     "execution_count": 14,
     "metadata": {},
     "output_type": "execute_result"
    }
   ],
   "source": [
    "%sql select * from jobs order by ID;"
   ]
  },
  {
   "cell_type": "markdown",
   "id": "a3bc9065",
   "metadata": {},
   "source": [
    "By default, ORDER BY orders in ascending order.  Using the DESC keyword, we can order in descending order."
   ]
  },
  {
   "cell_type": "code",
   "execution_count": 15,
   "id": "cb36fc80",
   "metadata": {},
   "outputs": [
    {
     "data": {
      "text/html": [
       "<span style=\"None\">Running query in &#x27;sqlite:///HR.db&#x27;</span>"
      ],
      "text/plain": [
       "Running query in 'sqlite:///HR.db'"
      ]
     },
     "metadata": {},
     "output_type": "display_data"
    },
    {
     "data": {
      "text/html": [
       "<table>\n",
       "    <thead>\n",
       "        <tr>\n",
       "            <th>ID</th>\n",
       "            <th>TITLE</th>\n",
       "            <th>MIN_SALARY</th>\n",
       "            <th>MAX_SALARY</th>\n",
       "        </tr>\n",
       "    </thead>\n",
       "    <tbody>\n",
       "        <tr>\n",
       "            <td>660</td>\n",
       "            <td>Sr. Software Developer</td>\n",
       "            <td>60000</td>\n",
       "            <td>80000</td>\n",
       "        </tr>\n",
       "        <tr>\n",
       "            <td>650</td>\n",
       "            <td>Sr. Architect</td>\n",
       "            <td>60000</td>\n",
       "            <td>100000</td>\n",
       "        </tr>\n",
       "        <tr>\n",
       "            <td>600</td>\n",
       "            <td>Data Scientist</td>\n",
       "            <td>60000</td>\n",
       "            <td>250000</td>\n",
       "        </tr>\n",
       "        <tr>\n",
       "            <td>500</td>\n",
       "            <td>Data Scientist</td>\n",
       "            <td>60000</td>\n",
       "            <td>250000</td>\n",
       "        </tr>\n",
       "        <tr>\n",
       "            <td>400</td>\n",
       "            <td>Sr. Architect</td>\n",
       "            <td>60000</td>\n",
       "            <td>100000</td>\n",
       "        </tr>\n",
       "        <tr>\n",
       "            <td>300</td>\n",
       "            <td>Data Engineer</td>\n",
       "            <td>60000</td>\n",
       "            <td>500000</td>\n",
       "        </tr>\n",
       "        <tr>\n",
       "            <td>234</td>\n",
       "            <td>Data Analyst</td>\n",
       "            <td>60000</td>\n",
       "            <td>150000</td>\n",
       "        </tr>\n",
       "        <tr>\n",
       "            <td>220</td>\n",
       "            <td>Sr. Architect</td>\n",
       "            <td>60000</td>\n",
       "            <td>100000</td>\n",
       "        </tr>\n",
       "        <tr>\n",
       "            <td>200</td>\n",
       "            <td>Sr. Software Developer</td>\n",
       "            <td>60000</td>\n",
       "            <td>80000</td>\n",
       "        </tr>\n",
       "        <tr>\n",
       "            <td>100</td>\n",
       "            <td>Sr. Architect</td>\n",
       "            <td>60000</td>\n",
       "            <td>100000</td>\n",
       "        </tr>\n",
       "    </tbody>\n",
       "</table>"
      ],
      "text/plain": [
       "+-----+------------------------+------------+------------+\n",
       "|  ID |         TITLE          | MIN_SALARY | MAX_SALARY |\n",
       "+-----+------------------------+------------+------------+\n",
       "| 660 | Sr. Software Developer |   60000    |   80000    |\n",
       "| 650 |     Sr. Architect      |   60000    |   100000   |\n",
       "| 600 |     Data Scientist     |   60000    |   250000   |\n",
       "| 500 |     Data Scientist     |   60000    |   250000   |\n",
       "| 400 |     Sr. Architect      |   60000    |   100000   |\n",
       "| 300 |     Data Engineer      |   60000    |   500000   |\n",
       "| 234 |      Data Analyst      |   60000    |   150000   |\n",
       "| 220 |     Sr. Architect      |   60000    |   100000   |\n",
       "| 200 | Sr. Software Developer |   60000    |   80000    |\n",
       "| 100 |     Sr. Architect      |   60000    |   100000   |\n",
       "+-----+------------------------+------------+------------+"
      ]
     },
     "execution_count": 15,
     "metadata": {},
     "output_type": "execute_result"
    }
   ],
   "source": [
    "%sql select * from jobs order by ID desc;"
   ]
  },
  {
   "cell_type": "markdown",
   "id": "74b55d3b",
   "metadata": {},
   "source": [
    "$\\Box$\n",
    "\n",
    "#### Group By\n",
    "\n",
    "SQL has a group by operation similar to Pandas.\n",
    "\n",
    "##### Example 9"
   ]
  },
  {
   "cell_type": "code",
   "execution_count": 10,
   "id": "31ade0d7",
   "metadata": {},
   "outputs": [
    {
     "data": {
      "text/html": [
       "<span style=\"None\">Running query in &#x27;sqlite:///HR.db&#x27;</span>"
      ],
      "text/plain": [
       "Running query in 'sqlite:///HR.db'"
      ]
     },
     "metadata": {},
     "output_type": "display_data"
    },
    {
     "data": {
      "text/html": [
       "<table>\n",
       "    <thead>\n",
       "        <tr>\n",
       "            <th>ID</th>\n",
       "            <th>TITLE</th>\n",
       "            <th>MIN_SALARY</th>\n",
       "            <th>MAX_SALARY</th>\n",
       "        </tr>\n",
       "    </thead>\n",
       "    <tbody>\n",
       "        <tr>\n",
       "            <td>100</td>\n",
       "            <td>Sr. Architect</td>\n",
       "            <td>60000</td>\n",
       "            <td>100000</td>\n",
       "        </tr>\n",
       "        <tr>\n",
       "            <td>200</td>\n",
       "            <td>Sr. Software Developer</td>\n",
       "            <td>60000</td>\n",
       "            <td>80000</td>\n",
       "        </tr>\n",
       "        <tr>\n",
       "            <td>300</td>\n",
       "            <td>Data Engineer</td>\n",
       "            <td>60000</td>\n",
       "            <td>500000</td>\n",
       "        </tr>\n",
       "        <tr>\n",
       "            <td>400</td>\n",
       "            <td>Sr. Architect</td>\n",
       "            <td>60000</td>\n",
       "            <td>100000</td>\n",
       "        </tr>\n",
       "        <tr>\n",
       "            <td>500</td>\n",
       "            <td>Data Scientist</td>\n",
       "            <td>60000</td>\n",
       "            <td>250000</td>\n",
       "        </tr>\n",
       "        <tr>\n",
       "            <td>600</td>\n",
       "            <td>Data Scientist</td>\n",
       "            <td>60000</td>\n",
       "            <td>250000</td>\n",
       "        </tr>\n",
       "        <tr>\n",
       "            <td>650</td>\n",
       "            <td>Sr. Architect</td>\n",
       "            <td>60000</td>\n",
       "            <td>100000</td>\n",
       "        </tr>\n",
       "        <tr>\n",
       "            <td>660</td>\n",
       "            <td>Sr. Software Developer</td>\n",
       "            <td>60000</td>\n",
       "            <td>80000</td>\n",
       "        </tr>\n",
       "        <tr>\n",
       "            <td>234</td>\n",
       "            <td>Data Analyst</td>\n",
       "            <td>60000</td>\n",
       "            <td>150000</td>\n",
       "        </tr>\n",
       "        <tr>\n",
       "            <td>220</td>\n",
       "            <td>Sr. Architect</td>\n",
       "            <td>60000</td>\n",
       "            <td>100000</td>\n",
       "        </tr>\n",
       "    </tbody>\n",
       "</table>\n",
       "<span style=\"font-style:italic;text-align:center;\">Truncated to <a href=\"https://jupysql.ploomber.io/en/latest/api/configuration.html#displaylimit\">displaylimit</a> of 10.</span>"
      ],
      "text/plain": [
       "+-----+------------------------+------------+------------+\n",
       "|  ID |         TITLE          | MIN_SALARY | MAX_SALARY |\n",
       "+-----+------------------------+------------+------------+\n",
       "| 100 |     Sr. Architect      |   60000    |   100000   |\n",
       "| 200 | Sr. Software Developer |   60000    |   80000    |\n",
       "| 300 |     Data Engineer      |   60000    |   500000   |\n",
       "| 400 |     Sr. Architect      |   60000    |   100000   |\n",
       "| 500 |     Data Scientist     |   60000    |   250000   |\n",
       "| 600 |     Data Scientist     |   60000    |   250000   |\n",
       "| 650 |     Sr. Architect      |   60000    |   100000   |\n",
       "| 660 | Sr. Software Developer |   60000    |   80000    |\n",
       "| 234 |      Data Analyst      |   60000    |   150000   |\n",
       "| 220 |     Sr. Architect      |   60000    |   100000   |\n",
       "+-----+------------------------+------------+------------+\n",
       "Truncated to displaylimit of 10."
      ]
     },
     "execution_count": 10,
     "metadata": {},
     "output_type": "execute_result"
    }
   ],
   "source": [
    "%sql select * from jobs;"
   ]
  },
  {
   "cell_type": "code",
   "execution_count": 16,
   "id": "b22a5435",
   "metadata": {},
   "outputs": [
    {
     "data": {
      "text/html": [
       "<span style=\"None\">Running query in &#x27;sqlite:///HR.db&#x27;</span>"
      ],
      "text/plain": [
       "Running query in 'sqlite:///HR.db'"
      ]
     },
     "metadata": {},
     "output_type": "display_data"
    },
    {
     "data": {
      "text/html": [
       "<table>\n",
       "    <thead>\n",
       "        <tr>\n",
       "            <th>TITLE</th>\n",
       "            <th>count(*)</th>\n",
       "        </tr>\n",
       "    </thead>\n",
       "    <tbody>\n",
       "        <tr>\n",
       "            <td>Data Analyst</td>\n",
       "            <td>1</td>\n",
       "        </tr>\n",
       "        <tr>\n",
       "            <td>Data Engineer</td>\n",
       "            <td>1</td>\n",
       "        </tr>\n",
       "        <tr>\n",
       "            <td>Data Scientist</td>\n",
       "            <td>2</td>\n",
       "        </tr>\n",
       "        <tr>\n",
       "            <td>Sr. Architect</td>\n",
       "            <td>4</td>\n",
       "        </tr>\n",
       "        <tr>\n",
       "            <td>Sr. Software Developer</td>\n",
       "            <td>2</td>\n",
       "        </tr>\n",
       "    </tbody>\n",
       "</table>"
      ],
      "text/plain": [
       "+------------------------+----------+\n",
       "|         TITLE          | count(*) |\n",
       "+------------------------+----------+\n",
       "|      Data Analyst      |    1     |\n",
       "|     Data Engineer      |    1     |\n",
       "|     Data Scientist     |    2     |\n",
       "|     Sr. Architect      |    4     |\n",
       "| Sr. Software Developer |    2     |\n",
       "+------------------------+----------+"
      ]
     },
     "execution_count": 16,
     "metadata": {},
     "output_type": "execute_result"
    }
   ],
   "source": [
    "%sql select TITLE, count(*) from jobs group by TITLE;"
   ]
  },
  {
   "cell_type": "markdown",
   "id": "d56116f2",
   "metadata": {},
   "source": [
    "In the table above, the count($*$) column could use another name.  We can fix this using an *alias*."
   ]
  },
  {
   "cell_type": "code",
   "execution_count": 17,
   "id": "68553d29",
   "metadata": {},
   "outputs": [
    {
     "data": {
      "text/html": [
       "<span style=\"None\">Running query in &#x27;sqlite:///HR.db&#x27;</span>"
      ],
      "text/plain": [
       "Running query in 'sqlite:///HR.db'"
      ]
     },
     "metadata": {},
     "output_type": "display_data"
    },
    {
     "data": {
      "text/html": [
       "<table>\n",
       "    <thead>\n",
       "        <tr>\n",
       "            <th>TITLE</th>\n",
       "            <th>num_employees</th>\n",
       "        </tr>\n",
       "    </thead>\n",
       "    <tbody>\n",
       "        <tr>\n",
       "            <td>Data Analyst</td>\n",
       "            <td>1</td>\n",
       "        </tr>\n",
       "        <tr>\n",
       "            <td>Data Engineer</td>\n",
       "            <td>1</td>\n",
       "        </tr>\n",
       "        <tr>\n",
       "            <td>Data Scientist</td>\n",
       "            <td>2</td>\n",
       "        </tr>\n",
       "        <tr>\n",
       "            <td>Sr. Architect</td>\n",
       "            <td>4</td>\n",
       "        </tr>\n",
       "        <tr>\n",
       "            <td>Sr. Software Developer</td>\n",
       "            <td>2</td>\n",
       "        </tr>\n",
       "    </tbody>\n",
       "</table>"
      ],
      "text/plain": [
       "+------------------------+---------------+\n",
       "|         TITLE          | num_employees |\n",
       "+------------------------+---------------+\n",
       "|      Data Analyst      |       1       |\n",
       "|     Data Engineer      |       1       |\n",
       "|     Data Scientist     |       2       |\n",
       "|     Sr. Architect      |       4       |\n",
       "| Sr. Software Developer |       2       |\n",
       "+------------------------+---------------+"
      ]
     },
     "execution_count": 17,
     "metadata": {},
     "output_type": "execute_result"
    }
   ],
   "source": [
    "%sql select TITLE, count(*) as 'num_employees' from jobs group by TITLE;"
   ]
  },
  {
   "cell_type": "markdown",
   "id": "12c01df9",
   "metadata": {},
   "source": [
    "There are many other functions we can use besides count.  These include AVG, SUM, MIN, MAX, ROUND, LENGTH, UCASE, and DISTINCT."
   ]
  },
  {
   "cell_type": "code",
   "execution_count": 19,
   "id": "7d34f40f",
   "metadata": {},
   "outputs": [
    {
     "data": {
      "text/html": [
       "<span style=\"None\">Running query in &#x27;sqlite:///HR.db&#x27;</span>"
      ],
      "text/plain": [
       "Running query in 'sqlite:///HR.db'"
      ]
     },
     "metadata": {},
     "output_type": "display_data"
    },
    {
     "data": {
      "text/html": [
       "<table>\n",
       "    <thead>\n",
       "        <tr>\n",
       "            <th>TITLE</th>\n",
       "            <th>average_salary</th>\n",
       "        </tr>\n",
       "    </thead>\n",
       "    <tbody>\n",
       "        <tr>\n",
       "            <td>Data Analyst</td>\n",
       "            <td>150000.0</td>\n",
       "        </tr>\n",
       "        <tr>\n",
       "            <td>Data Engineer</td>\n",
       "            <td>500000.0</td>\n",
       "        </tr>\n",
       "        <tr>\n",
       "            <td>Data Scientist</td>\n",
       "            <td>250000.0</td>\n",
       "        </tr>\n",
       "        <tr>\n",
       "            <td>Sr. Architect</td>\n",
       "            <td>100000.0</td>\n",
       "        </tr>\n",
       "        <tr>\n",
       "            <td>Sr. Software Developer</td>\n",
       "            <td>80000.0</td>\n",
       "        </tr>\n",
       "    </tbody>\n",
       "</table>"
      ],
      "text/plain": [
       "+------------------------+----------------+\n",
       "|         TITLE          | average_salary |\n",
       "+------------------------+----------------+\n",
       "|      Data Analyst      |    150000.0    |\n",
       "|     Data Engineer      |    500000.0    |\n",
       "|     Data Scientist     |    250000.0    |\n",
       "|     Sr. Architect      |    100000.0    |\n",
       "| Sr. Software Developer |    80000.0     |\n",
       "+------------------------+----------------+"
      ]
     },
     "execution_count": 19,
     "metadata": {},
     "output_type": "execute_result"
    }
   ],
   "source": [
    "%sql select TITLE, avg(MAX_SALARY) as 'average_salary' from jobs group by TITLE;"
   ]
  },
  {
   "cell_type": "markdown",
   "id": "b744ec8e",
   "metadata": {},
   "source": [
    "$\\Box$\n",
    "\n",
    "#### Implicit Joins\n",
    "\n",
    "Now that we have been introduced to SQL and relational databases, we begin to delve into a much deeper topic: Joins.  In this notebook, we will only look at implicit joins.  In the next notebook, we will look at explicit joins.\n",
    "\n",
    "A *join* is a way to combine information from two (or more) tables into one table.  Thus, we need another table in our database.  The code below accomplishes this task. "
   ]
  },
  {
   "cell_type": "code",
   "execution_count": 21,
   "id": "ea82093b",
   "metadata": {},
   "outputs": [],
   "source": [
    "employees = pd.read_csv('Employees.csv')\n",
    "employees.columns = ['emp_ID', 'first_name', 'last_name', 'SSN', 'birthday', 'sex', 'address', 'job_ID', 'salary', 'manager_ID', 'dep_ID']"
   ]
  },
  {
   "cell_type": "code",
   "execution_count": 24,
   "id": "2610b374",
   "metadata": {},
   "outputs": [
    {
     "data": {
      "text/plain": [
       "9"
      ]
     },
     "execution_count": 24,
     "metadata": {},
     "output_type": "execute_result"
    }
   ],
   "source": [
    "employees.to_sql('employees', connection, if_exists='replace', index=False,method=\"multi\")"
   ]
  },
  {
   "cell_type": "code",
   "execution_count": 20,
   "id": "566f0a6a",
   "metadata": {},
   "outputs": [
    {
     "data": {
      "text/html": [
       "<span style=\"None\">Running query in &#x27;sqlite:///HR.db&#x27;</span>"
      ],
      "text/plain": [
       "Running query in 'sqlite:///HR.db'"
      ]
     },
     "metadata": {},
     "output_type": "display_data"
    },
    {
     "data": {
      "text/html": [
       "<table>\n",
       "    <thead>\n",
       "        <tr>\n",
       "            <th>emp_ID</th>\n",
       "            <th>first_name</th>\n",
       "            <th>last_name</th>\n",
       "            <th>SSN</th>\n",
       "            <th>birthday</th>\n",
       "            <th>sex</th>\n",
       "            <th>address</th>\n",
       "            <th>job_ID</th>\n",
       "            <th>salary</th>\n",
       "            <th>manager_ID</th>\n",
       "            <th>dep_ID</th>\n",
       "        </tr>\n",
       "    </thead>\n",
       "    <tbody>\n",
       "        <tr>\n",
       "            <td>E1002</td>\n",
       "            <td>Alice</td>\n",
       "            <td>James</td>\n",
       "            <td>123457</td>\n",
       "            <td>1972-07-31</td>\n",
       "            <td>F</td>\n",
       "            <td>980 Berry ln, Elgin,IL</td>\n",
       "            <td>200</td>\n",
       "            <td>80000</td>\n",
       "            <td>30002</td>\n",
       "            <td>5</td>\n",
       "        </tr>\n",
       "        <tr>\n",
       "            <td>E1003</td>\n",
       "            <td>Steve</td>\n",
       "            <td>Wells</td>\n",
       "            <td>123458</td>\n",
       "            <td>1980-10-08</td>\n",
       "            <td>M</td>\n",
       "            <td>291 Springs, Gary,IL</td>\n",
       "            <td>300</td>\n",
       "            <td>50000</td>\n",
       "            <td>30002</td>\n",
       "            <td>5</td>\n",
       "        </tr>\n",
       "        <tr>\n",
       "            <td>E1004</td>\n",
       "            <td>Santosh</td>\n",
       "            <td>Kumar</td>\n",
       "            <td>123459</td>\n",
       "            <td>1985-07-20</td>\n",
       "            <td>M</td>\n",
       "            <td>511 Aurora Av, Aurora,IL</td>\n",
       "            <td>400</td>\n",
       "            <td>60000</td>\n",
       "            <td>30004</td>\n",
       "            <td>5</td>\n",
       "        </tr>\n",
       "        <tr>\n",
       "            <td>E1005</td>\n",
       "            <td>Ahmed</td>\n",
       "            <td>Hussain</td>\n",
       "            <td>123410</td>\n",
       "            <td>1981-04-01</td>\n",
       "            <td>M</td>\n",
       "            <td>216 Oak Tree, Geneva,IL</td>\n",
       "            <td>500</td>\n",
       "            <td>70000</td>\n",
       "            <td>30001</td>\n",
       "            <td>2</td>\n",
       "        </tr>\n",
       "        <tr>\n",
       "            <td>E1006</td>\n",
       "            <td>Nancy</td>\n",
       "            <td>Allen</td>\n",
       "            <td>123411</td>\n",
       "            <td>1978-06-02</td>\n",
       "            <td>F</td>\n",
       "            <td>111 Green Pl, Elgin,IL</td>\n",
       "            <td>600</td>\n",
       "            <td>90000</td>\n",
       "            <td>30001</td>\n",
       "            <td>2</td>\n",
       "        </tr>\n",
       "        <tr>\n",
       "            <td>E1007</td>\n",
       "            <td>Mary</td>\n",
       "            <td>Thomas</td>\n",
       "            <td>123412</td>\n",
       "            <td>1975-05-05</td>\n",
       "            <td>F</td>\n",
       "            <td>100 Rose Pl, Gary,IL</td>\n",
       "            <td>650</td>\n",
       "            <td>65000</td>\n",
       "            <td>30003</td>\n",
       "            <td>7</td>\n",
       "        </tr>\n",
       "        <tr>\n",
       "            <td>E1008</td>\n",
       "            <td>Bharath</td>\n",
       "            <td>Gupta</td>\n",
       "            <td>123413</td>\n",
       "            <td>1985-06-05</td>\n",
       "            <td>M</td>\n",
       "            <td>145 Berry Ln, Naperville,IL</td>\n",
       "            <td>660</td>\n",
       "            <td>65000</td>\n",
       "            <td>30003</td>\n",
       "            <td>7</td>\n",
       "        </tr>\n",
       "        <tr>\n",
       "            <td>E1009</td>\n",
       "            <td>Andrea</td>\n",
       "            <td>Jones</td>\n",
       "            <td>123414</td>\n",
       "            <td>1990-09-07</td>\n",
       "            <td>F</td>\n",
       "            <td>120 Fall Creek, Gary,IL</td>\n",
       "            <td>234</td>\n",
       "            <td>70000</td>\n",
       "            <td>30003</td>\n",
       "            <td>7</td>\n",
       "        </tr>\n",
       "        <tr>\n",
       "            <td>E1010</td>\n",
       "            <td>Ann</td>\n",
       "            <td>Jacob</td>\n",
       "            <td>123415</td>\n",
       "            <td>1982-03-30</td>\n",
       "            <td>F</td>\n",
       "            <td>111 Britany Springs,Elgin,IL</td>\n",
       "            <td>220</td>\n",
       "            <td>70000</td>\n",
       "            <td>30004</td>\n",
       "            <td>5</td>\n",
       "        </tr>\n",
       "    </tbody>\n",
       "</table>"
      ],
      "text/plain": [
       "+--------+------------+-----------+--------+------------+-----+------------------------------+--------+--------+------------+--------+\n",
       "| emp_ID | first_name | last_name |  SSN   |  birthday  | sex |           address            | job_ID | salary | manager_ID | dep_ID |\n",
       "+--------+------------+-----------+--------+------------+-----+------------------------------+--------+--------+------------+--------+\n",
       "| E1002  |   Alice    |   James   | 123457 | 1972-07-31 |  F  |    980 Berry ln, Elgin,IL    |  200   | 80000  |   30002    |   5    |\n",
       "| E1003  |   Steve    |   Wells   | 123458 | 1980-10-08 |  M  |     291 Springs, Gary,IL     |  300   | 50000  |   30002    |   5    |\n",
       "| E1004  |  Santosh   |   Kumar   | 123459 | 1985-07-20 |  M  |   511 Aurora Av, Aurora,IL   |  400   | 60000  |   30004    |   5    |\n",
       "| E1005  |   Ahmed    |  Hussain  | 123410 | 1981-04-01 |  M  |   216 Oak Tree, Geneva,IL    |  500   | 70000  |   30001    |   2    |\n",
       "| E1006  |   Nancy    |   Allen   | 123411 | 1978-06-02 |  F  |    111 Green Pl, Elgin,IL    |  600   | 90000  |   30001    |   2    |\n",
       "| E1007  |    Mary    |   Thomas  | 123412 | 1975-05-05 |  F  |     100 Rose Pl, Gary,IL     |  650   | 65000  |   30003    |   7    |\n",
       "| E1008  |  Bharath   |   Gupta   | 123413 | 1985-06-05 |  M  | 145 Berry Ln, Naperville,IL  |  660   | 65000  |   30003    |   7    |\n",
       "| E1009  |   Andrea   |   Jones   | 123414 | 1990-09-07 |  F  |   120 Fall Creek, Gary,IL    |  234   | 70000  |   30003    |   7    |\n",
       "| E1010  |    Ann     |   Jacob   | 123415 | 1982-03-30 |  F  | 111 Britany Springs,Elgin,IL |  220   | 70000  |   30004    |   5    |\n",
       "+--------+------------+-----------+--------+------------+-----+------------------------------+--------+--------+------------+--------+"
      ]
     },
     "execution_count": 20,
     "metadata": {},
     "output_type": "execute_result"
    }
   ],
   "source": [
    "%sql select * from employees;"
   ]
  },
  {
   "cell_type": "code",
   "execution_count": 21,
   "id": "d321ada4",
   "metadata": {},
   "outputs": [
    {
     "data": {
      "text/html": [
       "<span style=\"None\">Running query in &#x27;sqlite:///HR.db&#x27;</span>"
      ],
      "text/plain": [
       "Running query in 'sqlite:///HR.db'"
      ]
     },
     "metadata": {},
     "output_type": "display_data"
    },
    {
     "data": {
      "text/html": [
       "<table>\n",
       "    <thead>\n",
       "        <tr>\n",
       "            <th>ID</th>\n",
       "            <th>TITLE</th>\n",
       "            <th>MIN_SALARY</th>\n",
       "            <th>MAX_SALARY</th>\n",
       "        </tr>\n",
       "    </thead>\n",
       "    <tbody>\n",
       "        <tr>\n",
       "            <td>100</td>\n",
       "            <td>Sr. Architect</td>\n",
       "            <td>60000</td>\n",
       "            <td>100000</td>\n",
       "        </tr>\n",
       "        <tr>\n",
       "            <td>200</td>\n",
       "            <td>Sr. Software Developer</td>\n",
       "            <td>60000</td>\n",
       "            <td>80000</td>\n",
       "        </tr>\n",
       "        <tr>\n",
       "            <td>300</td>\n",
       "            <td>Data Engineer</td>\n",
       "            <td>60000</td>\n",
       "            <td>500000</td>\n",
       "        </tr>\n",
       "        <tr>\n",
       "            <td>400</td>\n",
       "            <td>Sr. Architect</td>\n",
       "            <td>60000</td>\n",
       "            <td>100000</td>\n",
       "        </tr>\n",
       "        <tr>\n",
       "            <td>500</td>\n",
       "            <td>Data Scientist</td>\n",
       "            <td>60000</td>\n",
       "            <td>250000</td>\n",
       "        </tr>\n",
       "        <tr>\n",
       "            <td>600</td>\n",
       "            <td>Data Scientist</td>\n",
       "            <td>60000</td>\n",
       "            <td>250000</td>\n",
       "        </tr>\n",
       "        <tr>\n",
       "            <td>650</td>\n",
       "            <td>Sr. Architect</td>\n",
       "            <td>60000</td>\n",
       "            <td>100000</td>\n",
       "        </tr>\n",
       "        <tr>\n",
       "            <td>660</td>\n",
       "            <td>Sr. Software Developer</td>\n",
       "            <td>60000</td>\n",
       "            <td>80000</td>\n",
       "        </tr>\n",
       "        <tr>\n",
       "            <td>234</td>\n",
       "            <td>Data Analyst</td>\n",
       "            <td>60000</td>\n",
       "            <td>150000</td>\n",
       "        </tr>\n",
       "        <tr>\n",
       "            <td>220</td>\n",
       "            <td>Sr. Architect</td>\n",
       "            <td>60000</td>\n",
       "            <td>100000</td>\n",
       "        </tr>\n",
       "    </tbody>\n",
       "</table>"
      ],
      "text/plain": [
       "+-----+------------------------+------------+------------+\n",
       "|  ID |         TITLE          | MIN_SALARY | MAX_SALARY |\n",
       "+-----+------------------------+------------+------------+\n",
       "| 100 |     Sr. Architect      |   60000    |   100000   |\n",
       "| 200 | Sr. Software Developer |   60000    |   80000    |\n",
       "| 300 |     Data Engineer      |   60000    |   500000   |\n",
       "| 400 |     Sr. Architect      |   60000    |   100000   |\n",
       "| 500 |     Data Scientist     |   60000    |   250000   |\n",
       "| 600 |     Data Scientist     |   60000    |   250000   |\n",
       "| 650 |     Sr. Architect      |   60000    |   100000   |\n",
       "| 660 | Sr. Software Developer |   60000    |   80000    |\n",
       "| 234 |      Data Analyst      |   60000    |   150000   |\n",
       "| 220 |     Sr. Architect      |   60000    |   100000   |\n",
       "+-----+------------------------+------------+------------+"
      ]
     },
     "execution_count": 21,
     "metadata": {},
     "output_type": "execute_result"
    }
   ],
   "source": [
    "%sql select * from jobs;"
   ]
  },
  {
   "cell_type": "markdown",
   "id": "026e179d",
   "metadata": {},
   "source": [
    "#### Implicit Cartesian Join\n",
    "\n",
    "The *Cartesian Product* of the sets $A = \\{1,2\\}$ and $B = \\{3,4\\}$ is the set $\\{(1,3),(1,4),(2,3),(2,4)\\}$.  Note that this product contains all possible first coordinates paired up with all possible second coordinates.\n",
    "\n",
    "In the same way, a *Cartesian Join* pairs up all rows in one table with all rows in the another table.\n",
    "\n",
    "##### Example 10"
   ]
  },
  {
   "cell_type": "code",
   "execution_count": 22,
   "id": "a6cc2945",
   "metadata": {},
   "outputs": [
    {
     "data": {
      "text/html": [
       "<span style=\"None\">Running query in &#x27;sqlite:///HR.db&#x27;</span>"
      ],
      "text/plain": [
       "Running query in 'sqlite:///HR.db'"
      ]
     },
     "metadata": {},
     "output_type": "display_data"
    },
    {
     "data": {
      "text/html": [
       "<table>\n",
       "    <thead>\n",
       "        <tr>\n",
       "            <th>first_name</th>\n",
       "            <th>last_name</th>\n",
       "            <th>TITLE</th>\n",
       "        </tr>\n",
       "    </thead>\n",
       "    <tbody>\n",
       "        <tr>\n",
       "            <td>Alice</td>\n",
       "            <td>James</td>\n",
       "            <td>Sr. Architect</td>\n",
       "        </tr>\n",
       "        <tr>\n",
       "            <td>Alice</td>\n",
       "            <td>James</td>\n",
       "            <td>Sr. Software Developer</td>\n",
       "        </tr>\n",
       "        <tr>\n",
       "            <td>Alice</td>\n",
       "            <td>James</td>\n",
       "            <td>Data Engineer</td>\n",
       "        </tr>\n",
       "        <tr>\n",
       "            <td>Alice</td>\n",
       "            <td>James</td>\n",
       "            <td>Sr. Architect</td>\n",
       "        </tr>\n",
       "        <tr>\n",
       "            <td>Alice</td>\n",
       "            <td>James</td>\n",
       "            <td>Data Scientist</td>\n",
       "        </tr>\n",
       "        <tr>\n",
       "            <td>Alice</td>\n",
       "            <td>James</td>\n",
       "            <td>Data Scientist</td>\n",
       "        </tr>\n",
       "        <tr>\n",
       "            <td>Alice</td>\n",
       "            <td>James</td>\n",
       "            <td>Sr. Architect</td>\n",
       "        </tr>\n",
       "        <tr>\n",
       "            <td>Alice</td>\n",
       "            <td>James</td>\n",
       "            <td>Sr. Software Developer</td>\n",
       "        </tr>\n",
       "        <tr>\n",
       "            <td>Alice</td>\n",
       "            <td>James</td>\n",
       "            <td>Data Analyst</td>\n",
       "        </tr>\n",
       "        <tr>\n",
       "            <td>Alice</td>\n",
       "            <td>James</td>\n",
       "            <td>Sr. Architect</td>\n",
       "        </tr>\n",
       "        <tr>\n",
       "            <td>Steve</td>\n",
       "            <td>Wells</td>\n",
       "            <td>Sr. Architect</td>\n",
       "        </tr>\n",
       "        <tr>\n",
       "            <td>Steve</td>\n",
       "            <td>Wells</td>\n",
       "            <td>Sr. Software Developer</td>\n",
       "        </tr>\n",
       "        <tr>\n",
       "            <td>Steve</td>\n",
       "            <td>Wells</td>\n",
       "            <td>Data Engineer</td>\n",
       "        </tr>\n",
       "        <tr>\n",
       "            <td>Steve</td>\n",
       "            <td>Wells</td>\n",
       "            <td>Sr. Architect</td>\n",
       "        </tr>\n",
       "        <tr>\n",
       "            <td>Steve</td>\n",
       "            <td>Wells</td>\n",
       "            <td>Data Scientist</td>\n",
       "        </tr>\n",
       "        <tr>\n",
       "            <td>Steve</td>\n",
       "            <td>Wells</td>\n",
       "            <td>Data Scientist</td>\n",
       "        </tr>\n",
       "        <tr>\n",
       "            <td>Steve</td>\n",
       "            <td>Wells</td>\n",
       "            <td>Sr. Architect</td>\n",
       "        </tr>\n",
       "        <tr>\n",
       "            <td>Steve</td>\n",
       "            <td>Wells</td>\n",
       "            <td>Sr. Software Developer</td>\n",
       "        </tr>\n",
       "        <tr>\n",
       "            <td>Steve</td>\n",
       "            <td>Wells</td>\n",
       "            <td>Data Analyst</td>\n",
       "        </tr>\n",
       "        <tr>\n",
       "            <td>Steve</td>\n",
       "            <td>Wells</td>\n",
       "            <td>Sr. Architect</td>\n",
       "        </tr>\n",
       "    </tbody>\n",
       "</table>\n",
       "<span style=\"font-style:italic;text-align:center;\">Truncated to <a href=\"https://jupysql.ploomber.io/en/latest/api/configuration.html#displaylimit\">displaylimit</a> of 20.</span>"
      ],
      "text/plain": [
       "+------------+-----------+------------------------+\n",
       "| first_name | last_name |         TITLE          |\n",
       "+------------+-----------+------------------------+\n",
       "|   Alice    |   James   |     Sr. Architect      |\n",
       "|   Alice    |   James   | Sr. Software Developer |\n",
       "|   Alice    |   James   |     Data Engineer      |\n",
       "|   Alice    |   James   |     Sr. Architect      |\n",
       "|   Alice    |   James   |     Data Scientist     |\n",
       "|   Alice    |   James   |     Data Scientist     |\n",
       "|   Alice    |   James   |     Sr. Architect      |\n",
       "|   Alice    |   James   | Sr. Software Developer |\n",
       "|   Alice    |   James   |      Data Analyst      |\n",
       "|   Alice    |   James   |     Sr. Architect      |\n",
       "|   Steve    |   Wells   |     Sr. Architect      |\n",
       "|   Steve    |   Wells   | Sr. Software Developer |\n",
       "|   Steve    |   Wells   |     Data Engineer      |\n",
       "|   Steve    |   Wells   |     Sr. Architect      |\n",
       "|   Steve    |   Wells   |     Data Scientist     |\n",
       "|   Steve    |   Wells   |     Data Scientist     |\n",
       "|   Steve    |   Wells   |     Sr. Architect      |\n",
       "|   Steve    |   Wells   | Sr. Software Developer |\n",
       "|   Steve    |   Wells   |      Data Analyst      |\n",
       "|   Steve    |   Wells   |     Sr. Architect      |\n",
       "+------------+-----------+------------------------+\n",
       "Truncated to displaylimit of 20."
      ]
     },
     "execution_count": 22,
     "metadata": {},
     "output_type": "execute_result"
    }
   ],
   "source": [
    "%sql select first_name, last_name, title from employees, jobs;"
   ]
  },
  {
   "cell_type": "markdown",
   "id": "64a0fef0",
   "metadata": {},
   "source": [
    "This is just the first 20 rows.  Since employees has 9 rows and jobs has 10 rows, the Cartesian Join of emplyees and jobs has 90 rows as the code below proves."
   ]
  },
  {
   "cell_type": "code",
   "execution_count": 23,
   "id": "13d551ea",
   "metadata": {},
   "outputs": [
    {
     "data": {
      "text/html": [
       "<span style=\"None\">Running query in &#x27;sqlite:///HR.db&#x27;</span>"
      ],
      "text/plain": [
       "Running query in 'sqlite:///HR.db'"
      ]
     },
     "metadata": {},
     "output_type": "display_data"
    },
    {
     "data": {
      "text/html": [
       "<table>\n",
       "    <thead>\n",
       "        <tr>\n",
       "            <th>count(*)</th>\n",
       "        </tr>\n",
       "    </thead>\n",
       "    <tbody>\n",
       "        <tr>\n",
       "            <td>90</td>\n",
       "        </tr>\n",
       "    </tbody>\n",
       "</table>"
      ],
      "text/plain": [
       "+----------+\n",
       "| count(*) |\n",
       "+----------+\n",
       "|    90    |\n",
       "+----------+"
      ]
     },
     "execution_count": 23,
     "metadata": {},
     "output_type": "execute_result"
    }
   ],
   "source": [
    "%sql select count(*) from employees, jobs;"
   ]
  },
  {
   "cell_type": "markdown",
   "id": "bb914a8d",
   "metadata": {},
   "source": [
    "The interesting and somewhat odd thing about the code\n",
    "\n",
    "select first_name, last_name, title from employees, jobs;\n",
    "\n",
    "is that we do not specify what tables first_name, last_name, and title come from.  SQL just figures this out for us.  Luckily, both the employees and jobs tables don't have any columns named the same.  I'm not sure what SQL would do in that case.\n",
    "\n",
    "The code below produces the same results, but is a little more specific about where the columns reside."
   ]
  },
  {
   "cell_type": "code",
   "execution_count": 24,
   "id": "ed8504a6",
   "metadata": {},
   "outputs": [
    {
     "data": {
      "text/html": [
       "<span style=\"None\">Running query in &#x27;sqlite:///HR.db&#x27;</span>"
      ],
      "text/plain": [
       "Running query in 'sqlite:///HR.db'"
      ]
     },
     "metadata": {},
     "output_type": "display_data"
    },
    {
     "data": {
      "text/html": [
       "<table>\n",
       "    <thead>\n",
       "        <tr>\n",
       "            <th>first_name</th>\n",
       "            <th>last_name</th>\n",
       "            <th>TITLE</th>\n",
       "        </tr>\n",
       "    </thead>\n",
       "    <tbody>\n",
       "        <tr>\n",
       "            <td>Alice</td>\n",
       "            <td>James</td>\n",
       "            <td>Sr. Architect</td>\n",
       "        </tr>\n",
       "        <tr>\n",
       "            <td>Alice</td>\n",
       "            <td>James</td>\n",
       "            <td>Sr. Software Developer</td>\n",
       "        </tr>\n",
       "        <tr>\n",
       "            <td>Alice</td>\n",
       "            <td>James</td>\n",
       "            <td>Data Engineer</td>\n",
       "        </tr>\n",
       "        <tr>\n",
       "            <td>Alice</td>\n",
       "            <td>James</td>\n",
       "            <td>Sr. Architect</td>\n",
       "        </tr>\n",
       "        <tr>\n",
       "            <td>Alice</td>\n",
       "            <td>James</td>\n",
       "            <td>Data Scientist</td>\n",
       "        </tr>\n",
       "        <tr>\n",
       "            <td>Alice</td>\n",
       "            <td>James</td>\n",
       "            <td>Data Scientist</td>\n",
       "        </tr>\n",
       "        <tr>\n",
       "            <td>Alice</td>\n",
       "            <td>James</td>\n",
       "            <td>Sr. Architect</td>\n",
       "        </tr>\n",
       "        <tr>\n",
       "            <td>Alice</td>\n",
       "            <td>James</td>\n",
       "            <td>Sr. Software Developer</td>\n",
       "        </tr>\n",
       "        <tr>\n",
       "            <td>Alice</td>\n",
       "            <td>James</td>\n",
       "            <td>Data Analyst</td>\n",
       "        </tr>\n",
       "        <tr>\n",
       "            <td>Alice</td>\n",
       "            <td>James</td>\n",
       "            <td>Sr. Architect</td>\n",
       "        </tr>\n",
       "        <tr>\n",
       "            <td>Steve</td>\n",
       "            <td>Wells</td>\n",
       "            <td>Sr. Architect</td>\n",
       "        </tr>\n",
       "        <tr>\n",
       "            <td>Steve</td>\n",
       "            <td>Wells</td>\n",
       "            <td>Sr. Software Developer</td>\n",
       "        </tr>\n",
       "        <tr>\n",
       "            <td>Steve</td>\n",
       "            <td>Wells</td>\n",
       "            <td>Data Engineer</td>\n",
       "        </tr>\n",
       "        <tr>\n",
       "            <td>Steve</td>\n",
       "            <td>Wells</td>\n",
       "            <td>Sr. Architect</td>\n",
       "        </tr>\n",
       "        <tr>\n",
       "            <td>Steve</td>\n",
       "            <td>Wells</td>\n",
       "            <td>Data Scientist</td>\n",
       "        </tr>\n",
       "        <tr>\n",
       "            <td>Steve</td>\n",
       "            <td>Wells</td>\n",
       "            <td>Data Scientist</td>\n",
       "        </tr>\n",
       "        <tr>\n",
       "            <td>Steve</td>\n",
       "            <td>Wells</td>\n",
       "            <td>Sr. Architect</td>\n",
       "        </tr>\n",
       "        <tr>\n",
       "            <td>Steve</td>\n",
       "            <td>Wells</td>\n",
       "            <td>Sr. Software Developer</td>\n",
       "        </tr>\n",
       "        <tr>\n",
       "            <td>Steve</td>\n",
       "            <td>Wells</td>\n",
       "            <td>Data Analyst</td>\n",
       "        </tr>\n",
       "        <tr>\n",
       "            <td>Steve</td>\n",
       "            <td>Wells</td>\n",
       "            <td>Sr. Architect</td>\n",
       "        </tr>\n",
       "    </tbody>\n",
       "</table>\n",
       "<span style=\"font-style:italic;text-align:center;\">Truncated to <a href=\"https://jupysql.ploomber.io/en/latest/api/configuration.html#displaylimit\">displaylimit</a> of 20.</span>"
      ],
      "text/plain": [
       "+------------+-----------+------------------------+\n",
       "| first_name | last_name |         TITLE          |\n",
       "+------------+-----------+------------------------+\n",
       "|   Alice    |   James   |     Sr. Architect      |\n",
       "|   Alice    |   James   | Sr. Software Developer |\n",
       "|   Alice    |   James   |     Data Engineer      |\n",
       "|   Alice    |   James   |     Sr. Architect      |\n",
       "|   Alice    |   James   |     Data Scientist     |\n",
       "|   Alice    |   James   |     Data Scientist     |\n",
       "|   Alice    |   James   |     Sr. Architect      |\n",
       "|   Alice    |   James   | Sr. Software Developer |\n",
       "|   Alice    |   James   |      Data Analyst      |\n",
       "|   Alice    |   James   |     Sr. Architect      |\n",
       "|   Steve    |   Wells   |     Sr. Architect      |\n",
       "|   Steve    |   Wells   | Sr. Software Developer |\n",
       "|   Steve    |   Wells   |     Data Engineer      |\n",
       "|   Steve    |   Wells   |     Sr. Architect      |\n",
       "|   Steve    |   Wells   |     Data Scientist     |\n",
       "|   Steve    |   Wells   |     Data Scientist     |\n",
       "|   Steve    |   Wells   |     Sr. Architect      |\n",
       "|   Steve    |   Wells   | Sr. Software Developer |\n",
       "|   Steve    |   Wells   |      Data Analyst      |\n",
       "|   Steve    |   Wells   |     Sr. Architect      |\n",
       "+------------+-----------+------------------------+\n",
       "Truncated to displaylimit of 20."
      ]
     },
     "execution_count": 24,
     "metadata": {},
     "output_type": "execute_result"
    }
   ],
   "source": [
    "%sql select E.first_name, E.last_name, J.title from employees E, jobs J;"
   ]
  },
  {
   "cell_type": "markdown",
   "id": "748d752e",
   "metadata": {},
   "source": [
    "$\\Box$\n",
    "\n",
    "#### Implicit Inner Join\n",
    "\n",
    "The reason that our Cartesian Join in Example 10 contains all possible ways to concatenate rows from employees and rows from jobs is that we did not specify how these two tables are connected.  Looking at both tables, we see that the job_ID column in employees has the same information as the ID column in jobs.\n",
    "\n",
    "In an *inner join* we specify the link, a *key*, that connects the info in one table to another. \n",
    "\n",
    "##### Example 11"
   ]
  },
  {
   "cell_type": "code",
   "execution_count": 12,
   "id": "a1623c49",
   "metadata": {},
   "outputs": [
    {
     "data": {
      "text/html": [
       "<span style=\"None\">Running query in &#x27;sqlite:///HR.db&#x27;</span>"
      ],
      "text/plain": [
       "Running query in 'sqlite:///HR.db'"
      ]
     },
     "metadata": {},
     "output_type": "display_data"
    },
    {
     "data": {
      "text/html": [
       "<table>\n",
       "    <thead>\n",
       "        <tr>\n",
       "            <th>first_name</th>\n",
       "            <th>last_name</th>\n",
       "            <th>TITLE</th>\n",
       "        </tr>\n",
       "    </thead>\n",
       "    <tbody>\n",
       "        <tr>\n",
       "            <td>Alice</td>\n",
       "            <td>James</td>\n",
       "            <td>Sr. Software Developer</td>\n",
       "        </tr>\n",
       "        <tr>\n",
       "            <td>Steve</td>\n",
       "            <td>Wells</td>\n",
       "            <td>Data Engineer</td>\n",
       "        </tr>\n",
       "        <tr>\n",
       "            <td>Santosh</td>\n",
       "            <td>Kumar</td>\n",
       "            <td>Sr. Architect</td>\n",
       "        </tr>\n",
       "        <tr>\n",
       "            <td>Ahmed</td>\n",
       "            <td>Hussain</td>\n",
       "            <td>Data Scientist</td>\n",
       "        </tr>\n",
       "        <tr>\n",
       "            <td>Nancy</td>\n",
       "            <td>Allen</td>\n",
       "            <td>Data Scientist</td>\n",
       "        </tr>\n",
       "        <tr>\n",
       "            <td>Mary</td>\n",
       "            <td>Thomas</td>\n",
       "            <td>Sr. Architect</td>\n",
       "        </tr>\n",
       "        <tr>\n",
       "            <td>Bharath</td>\n",
       "            <td>Gupta</td>\n",
       "            <td>Sr. Software Developer</td>\n",
       "        </tr>\n",
       "        <tr>\n",
       "            <td>Andrea</td>\n",
       "            <td>Jones</td>\n",
       "            <td>Data Analyst</td>\n",
       "        </tr>\n",
       "        <tr>\n",
       "            <td>Ann</td>\n",
       "            <td>Jacob</td>\n",
       "            <td>Sr. Architect</td>\n",
       "        </tr>\n",
       "    </tbody>\n",
       "</table>"
      ],
      "text/plain": [
       "+------------+-----------+------------------------+\n",
       "| first_name | last_name |         TITLE          |\n",
       "+------------+-----------+------------------------+\n",
       "|   Alice    |   James   | Sr. Software Developer |\n",
       "|   Steve    |   Wells   |     Data Engineer      |\n",
       "|  Santosh   |   Kumar   |     Sr. Architect      |\n",
       "|   Ahmed    |  Hussain  |     Data Scientist     |\n",
       "|   Nancy    |   Allen   |     Data Scientist     |\n",
       "|    Mary    |   Thomas  |     Sr. Architect      |\n",
       "|  Bharath   |   Gupta   | Sr. Software Developer |\n",
       "|   Andrea   |   Jones   |      Data Analyst      |\n",
       "|    Ann     |   Jacob   |     Sr. Architect      |\n",
       "+------------+-----------+------------------------+"
      ]
     },
     "execution_count": 12,
     "metadata": {},
     "output_type": "execute_result"
    }
   ],
   "source": [
    "%sql select E.first_name, E.last_name, J.title from employees E, jobs J where E.job_ID = J.ID;"
   ]
  },
  {
   "cell_type": "code",
   "execution_count": 13,
   "id": "7dd0c4c2",
   "metadata": {},
   "outputs": [
    {
     "data": {
      "text/html": [
       "<span style=\"None\">Running query in &#x27;sqlite:///HR.db&#x27;</span>"
      ],
      "text/plain": [
       "Running query in 'sqlite:///HR.db'"
      ]
     },
     "metadata": {},
     "output_type": "display_data"
    },
    {
     "data": {
      "text/html": [
       "<table>\n",
       "    <thead>\n",
       "        <tr>\n",
       "            <th>count(*)</th>\n",
       "        </tr>\n",
       "    </thead>\n",
       "    <tbody>\n",
       "        <tr>\n",
       "            <td>9</td>\n",
       "        </tr>\n",
       "    </tbody>\n",
       "</table>"
      ],
      "text/plain": [
       "+----------+\n",
       "| count(*) |\n",
       "+----------+\n",
       "|    9     |\n",
       "+----------+"
      ]
     },
     "execution_count": 13,
     "metadata": {},
     "output_type": "execute_result"
    }
   ],
   "source": [
    "%sql select count(*) from employees E, jobs J where E.job_ID = J.ID;"
   ]
  },
  {
   "cell_type": "markdown",
   "id": "e1770c6f",
   "metadata": {},
   "source": [
    "$\\Box$\n",
    "\n",
    "##### Exercise 1\n",
    "\n",
    "A new table is loaded into the HR database below."
   ]
  },
  {
   "cell_type": "code",
   "execution_count": 5,
   "id": "0fb4400e",
   "metadata": {},
   "outputs": [],
   "source": [
    "departments = pd.read_csv('Departments.csv')\n",
    "departments.columns = ['dep_ID', 'dep_name', 'manager_ID', 'location_ID']"
   ]
  },
  {
   "cell_type": "code",
   "execution_count": 6,
   "id": "ac9ba9d6",
   "metadata": {},
   "outputs": [
    {
     "data": {
      "text/plain": [
       "2"
      ]
     },
     "execution_count": 6,
     "metadata": {},
     "output_type": "execute_result"
    }
   ],
   "source": [
    "departments.to_sql('departments', connection, if_exists='replace', index=False,method=\"multi\")"
   ]
  },
  {
   "cell_type": "code",
   "execution_count": 11,
   "id": "2e87e85f",
   "metadata": {},
   "outputs": [
    {
     "data": {
      "text/html": [
       "<span style=\"None\">Running query in &#x27;sqlite:///HR.db&#x27;</span>"
      ],
      "text/plain": [
       "Running query in 'sqlite:///HR.db'"
      ]
     },
     "metadata": {},
     "output_type": "display_data"
    },
    {
     "data": {
      "text/html": [
       "<table>\n",
       "    <thead>\n",
       "        <tr>\n",
       "            <th>dep_ID</th>\n",
       "            <th>dep_name</th>\n",
       "            <th>manager_ID</th>\n",
       "            <th>location_ID</th>\n",
       "        </tr>\n",
       "    </thead>\n",
       "    <tbody>\n",
       "        <tr>\n",
       "            <td>5</td>\n",
       "            <td>Software Group</td>\n",
       "            <td>30002</td>\n",
       "            <td>L0002</td>\n",
       "        </tr>\n",
       "        <tr>\n",
       "            <td>7</td>\n",
       "            <td>Design Team</td>\n",
       "            <td>30003</td>\n",
       "            <td>L0003</td>\n",
       "        </tr>\n",
       "        <tr>\n",
       "            <td>2</td>\n",
       "            <td>Architect Group</td>\n",
       "            <td>300001</td>\n",
       "            <td>L0001</td>\n",
       "        </tr>\n",
       "    </tbody>\n",
       "</table>"
      ],
      "text/plain": [
       "+--------+-----------------+------------+-------------+\n",
       "| dep_ID |     dep_name    | manager_ID | location_ID |\n",
       "+--------+-----------------+------------+-------------+\n",
       "|   5    |  Software Group |   30002    |    L0002    |\n",
       "|   7    |   Design Team   |   30003    |    L0003    |\n",
       "|   2    | Architect Group |   300001   |    L0001    |\n",
       "+--------+-----------------+------------+-------------+"
      ]
     },
     "execution_count": 11,
     "metadata": {},
     "output_type": "execute_result"
    }
   ],
   "source": [
    "%sql select * from departments;"
   ]
  },
  {
   "cell_type": "markdown",
   "id": "eb844e99",
   "metadata": {},
   "source": [
    "Use an implicit inner join to display the first name, last name, and department that all employees work in."
   ]
  },
  {
   "cell_type": "code",
   "execution_count": null,
   "id": "09af3aaa",
   "metadata": {},
   "outputs": [],
   "source": []
  }
 ],
 "metadata": {
  "kernelspec": {
   "display_name": "Python 3 (ipykernel)",
   "language": "python",
   "name": "python3"
  },
  "language_info": {
   "codemirror_mode": {
    "name": "ipython",
    "version": 3
   },
   "file_extension": ".py",
   "mimetype": "text/x-python",
   "name": "python",
   "nbconvert_exporter": "python",
   "pygments_lexer": "ipython3",
   "version": "3.9.12"
  }
 },
 "nbformat": 4,
 "nbformat_minor": 5
}
