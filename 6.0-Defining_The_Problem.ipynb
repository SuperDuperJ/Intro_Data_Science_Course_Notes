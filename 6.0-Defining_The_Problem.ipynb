{
 "cells": [
  {
   "cell_type": "code",
   "execution_count": 1,
   "id": "6e2d1cbc",
   "metadata": {},
   "outputs": [],
   "source": [
    "import numpy as np\n",
    "from numpy import random\n",
    "import pandas as pd\n",
    "import matplotlib.pyplot as plt\n",
    "from sklearn import linear_model\n",
    "from sklearn.model_selection import train_test_split\n",
    "from sklearn.metrics import mean_squared_error\n",
    "from sklearn.linear_model import LinearRegression\n",
    "from sklearn.linear_model import SGDRegressor"
   ]
  },
  {
   "cell_type": "markdown",
   "id": "50b4d639",
   "metadata": {},
   "source": [
    "### Defining The Problem\n",
    "\n",
    "#### Set Up\n",
    "\n",
    "##### Example 1\n",
    "\n",
    "We have already seen the *House Votes* data set whose first five rows are given below."
   ]
  },
  {
   "cell_type": "code",
   "execution_count": 2,
   "id": "fb10dcaa",
   "metadata": {},
   "outputs": [
    {
     "data": {
      "text/html": [
       "<div>\n",
       "<style scoped>\n",
       "    .dataframe tbody tr th:only-of-type {\n",
       "        vertical-align: middle;\n",
       "    }\n",
       "\n",
       "    .dataframe tbody tr th {\n",
       "        vertical-align: top;\n",
       "    }\n",
       "\n",
       "    .dataframe thead th {\n",
       "        text-align: right;\n",
       "    }\n",
       "</style>\n",
       "<table border=\"1\" class=\"dataframe\">\n",
       "  <thead>\n",
       "    <tr style=\"text-align: right;\">\n",
       "      <th></th>\n",
       "      <th>f1</th>\n",
       "      <th>f2</th>\n",
       "      <th>f3</th>\n",
       "      <th>f4</th>\n",
       "      <th>f5</th>\n",
       "      <th>f6</th>\n",
       "      <th>f7</th>\n",
       "      <th>f8</th>\n",
       "      <th>f9</th>\n",
       "      <th>f10</th>\n",
       "      <th>f11</th>\n",
       "      <th>f12</th>\n",
       "      <th>f13</th>\n",
       "      <th>f14</th>\n",
       "      <th>f15</th>\n",
       "      <th>f16</th>\n",
       "      <th>Y</th>\n",
       "    </tr>\n",
       "  </thead>\n",
       "  <tbody>\n",
       "    <tr>\n",
       "      <th>0</th>\n",
       "      <td>0.0</td>\n",
       "      <td>1.0</td>\n",
       "      <td>0.0</td>\n",
       "      <td>1.0</td>\n",
       "      <td>1.0</td>\n",
       "      <td>1.0</td>\n",
       "      <td>0.0</td>\n",
       "      <td>0.0</td>\n",
       "      <td>0.0</td>\n",
       "      <td>1.0</td>\n",
       "      <td>0.0</td>\n",
       "      <td>1.0</td>\n",
       "      <td>1.0</td>\n",
       "      <td>1.0</td>\n",
       "      <td>0.0</td>\n",
       "      <td>1.0</td>\n",
       "      <td>0.0</td>\n",
       "    </tr>\n",
       "    <tr>\n",
       "      <th>1</th>\n",
       "      <td>0.0</td>\n",
       "      <td>1.0</td>\n",
       "      <td>0.0</td>\n",
       "      <td>1.0</td>\n",
       "      <td>1.0</td>\n",
       "      <td>1.0</td>\n",
       "      <td>0.0</td>\n",
       "      <td>0.0</td>\n",
       "      <td>0.0</td>\n",
       "      <td>0.0</td>\n",
       "      <td>0.0</td>\n",
       "      <td>1.0</td>\n",
       "      <td>1.0</td>\n",
       "      <td>1.0</td>\n",
       "      <td>0.0</td>\n",
       "      <td>1.0</td>\n",
       "      <td>0.0</td>\n",
       "    </tr>\n",
       "    <tr>\n",
       "      <th>2</th>\n",
       "      <td>0.0</td>\n",
       "      <td>1.0</td>\n",
       "      <td>1.0</td>\n",
       "      <td>0.0</td>\n",
       "      <td>1.0</td>\n",
       "      <td>1.0</td>\n",
       "      <td>0.0</td>\n",
       "      <td>0.0</td>\n",
       "      <td>0.0</td>\n",
       "      <td>0.0</td>\n",
       "      <td>1.0</td>\n",
       "      <td>0.0</td>\n",
       "      <td>1.0</td>\n",
       "      <td>1.0</td>\n",
       "      <td>0.0</td>\n",
       "      <td>0.0</td>\n",
       "      <td>1.0</td>\n",
       "    </tr>\n",
       "    <tr>\n",
       "      <th>3</th>\n",
       "      <td>0.0</td>\n",
       "      <td>1.0</td>\n",
       "      <td>1.0</td>\n",
       "      <td>0.0</td>\n",
       "      <td>1.0</td>\n",
       "      <td>1.0</td>\n",
       "      <td>0.0</td>\n",
       "      <td>0.0</td>\n",
       "      <td>0.0</td>\n",
       "      <td>0.0</td>\n",
       "      <td>1.0</td>\n",
       "      <td>0.0</td>\n",
       "      <td>1.0</td>\n",
       "      <td>0.0</td>\n",
       "      <td>0.0</td>\n",
       "      <td>1.0</td>\n",
       "      <td>1.0</td>\n",
       "    </tr>\n",
       "    <tr>\n",
       "      <th>4</th>\n",
       "      <td>1.0</td>\n",
       "      <td>1.0</td>\n",
       "      <td>1.0</td>\n",
       "      <td>0.0</td>\n",
       "      <td>1.0</td>\n",
       "      <td>1.0</td>\n",
       "      <td>0.0</td>\n",
       "      <td>0.0</td>\n",
       "      <td>0.0</td>\n",
       "      <td>0.0</td>\n",
       "      <td>1.0</td>\n",
       "      <td>0.0</td>\n",
       "      <td>1.0</td>\n",
       "      <td>1.0</td>\n",
       "      <td>1.0</td>\n",
       "      <td>1.0</td>\n",
       "      <td>1.0</td>\n",
       "    </tr>\n",
       "  </tbody>\n",
       "</table>\n",
       "</div>"
      ],
      "text/plain": [
       "    f1   f2   f3   f4   f5   f6   f7   f8   f9  f10  f11  f12  f13  f14  f15  \\\n",
       "0  0.0  1.0  0.0  1.0  1.0  1.0  0.0  0.0  0.0  1.0  0.0  1.0  1.0  1.0  0.0   \n",
       "1  0.0  1.0  0.0  1.0  1.0  1.0  0.0  0.0  0.0  0.0  0.0  1.0  1.0  1.0  0.0   \n",
       "2  0.0  1.0  1.0  0.0  1.0  1.0  0.0  0.0  0.0  0.0  1.0  0.0  1.0  1.0  0.0   \n",
       "3  0.0  1.0  1.0  0.0  1.0  1.0  0.0  0.0  0.0  0.0  1.0  0.0  1.0  0.0  0.0   \n",
       "4  1.0  1.0  1.0  0.0  1.0  1.0  0.0  0.0  0.0  0.0  1.0  0.0  1.0  1.0  1.0   \n",
       "\n",
       "   f16    Y  \n",
       "0  1.0  0.0  \n",
       "1  1.0  0.0  \n",
       "2  0.0  1.0  \n",
       "3  1.0  1.0  \n",
       "4  1.0  1.0  "
      ]
     },
     "execution_count": 2,
     "metadata": {},
     "output_type": "execute_result"
    }
   ],
   "source": [
    "data = pd.read_csv('house_votes_prepped.csv')\n",
    "data.head()"
   ]
  },
  {
   "cell_type": "markdown",
   "id": "7e8721e9",
   "metadata": {},
   "source": [
    "Note that the columns are given the names $f_1,f_2,f_3,...,f_{16}$, and $Y$.  \n",
    "\n",
    "The GOAL of Machine Learning is to use the *predictors* ($f_1,f_2,f_3,...,f_{16}$ in this case) to create a model that will accurately predict the *response* (the values in the Y column).  Other words for *predictor* are *feature* or *column*.\n",
    "\n",
    "$\\Box$\n",
    "\n",
    "In ML, we assume that there is an underlying structure (a function) in the form of a function $f(X)$, where $X=(f_1,f_2,...,f_{16})$, such that $f(X) = Y$. \n",
    "\n",
    "However, we DO NOT assume that $Y = f(X)$, since this would not accurately capture what often happens in real world applications.  In real world applications, there is *random noise* that clouds our understanding of the relationship between predictors and response.  We will use the symbol $\\epsilon$ to stand for this random noise.  We further assume that the distribution of $\\epsilon$ has mean 0. \n",
    "\n",
    "Thus, the relationship that we assume to exist between the predictors ($f_1,f_2,...,f_{16}$) and response ($Y$) is given by the equation $$Y=f(X)+ \\epsilon$$\n",
    "\n",
    "In general, given a dataset with predictors $X_1,X_2,...,X_p$ and response $Y$, we assume that there is a function $f$ such that $$Y = f(X)+\\epsilon$$ where $X=(X_1,X_2,...,X_p)$ and $\\epsilon$ has mean 0.  We call $\\epsilon$ the *irreducible* error.\n",
    "\n",
    "In real life applications, we will *never* be able to actually find the function $f(X)$.  Instead, we seek to approximate it by using the rows in our dataset to *learn* a function $\\hat{f}(X)$ such that $\\hat{f}\\approx f$.  Thus, our goal is to find $\\hat{f}$ such that $$Y\\approx \\hat{f}(X)$$\n",
    "\n",
    "There are two, broad categories of models used for machine learning: *parametric* and *non-parametric*.  Parametric models assume that the underlying structure to the relationship between the predictors and response has a particular form determined by *parameters*.  Non-parametric models do not assume that parameters determine $f$.\n",
    "\n",
    "In this class, we will only consider two parmetric models: *linear regression* and *logistic regression*.\n",
    "\n",
    "#### Learning Parameters\n",
    "\n",
    "##### Example 2\n",
    "\n",
    "So far in this class we have looked only at *binary classification* problems.  In this example, we look at a *regression* problem.  The goal in a regression problem is to predict a real number $y$ sucth that number $(-\\infty \\leq y \\leq \\infty)$ as opposed to a label (0 or 1).\n",
    "\n",
    "We begin by creating a simple dataset consisting of two columns $X$ (the predictor) and $Y$ (the response) such that there is a positive correlation between the value of $X$ and $Y$.  To simulate a real world situation and follow our underlying assumptions, we will introduce some random noise $\\epsilon$."
   ]
  },
  {
   "cell_type": "code",
   "execution_count": 3,
   "id": "3c09a1c1",
   "metadata": {},
   "outputs": [],
   "source": [
    "p = 2\n",
    "predictor = np.arange(1,10**p+1)\n",
    "noise = 5*np.random.normal(size = (10**p,))+10\n",
    "response = np.array([0.5*predictor[i]+1+noise[i] for i in range(10**p)])"
   ]
  },
  {
   "cell_type": "markdown",
   "id": "f05975eb",
   "metadata": {},
   "source": [
    "The graph of our data is given below."
   ]
  },
  {
   "cell_type": "code",
   "execution_count": 4,
   "id": "6a0e5ee5",
   "metadata": {},
   "outputs": [
    {
     "data": {
      "text/plain": [
       "<matplotlib.collections.PathCollection at 0x1e89eae9880>"
      ]
     },
     "execution_count": 4,
     "metadata": {},
     "output_type": "execute_result"
    },
    {
     "data": {
      "image/png": "[encoded data removed]",
      "text/plain": [
       "<Figure size 432x288 with 1 Axes>"
      ]
     },
     "metadata": {
      "needs_background": "light"
     },
     "output_type": "display_data"
    }
   ],
   "source": [
    "plt.scatter(predictor, response, color=\"blue\", linewidth=3)"
   ]
  },
  {
   "cell_type": "markdown",
   "id": "995a075d",
   "metadata": {},
   "source": [
    "As we can see, there is a positive correlation between the predictor ($X$) and the response ($Y$).  This tells us that *linear regression* might be a good technique to use to find $\\hat{f}$ such that $\\hat{f} \\approx f$.  In linear regression with just two columns (often called simple linear regression), we assume that $f(X) = \\beta_0+\\beta_1\\cdot X$ and use the data to approximate the slope $\\beta_1$ and y-intercept $\\beta_0$.  \n",
    "\n",
    "$\\beta_1$ and $\\beta_0$ are called the *parameters* of our assumed model $f(x)$.\n",
    "\n",
    "These approximate versions of the slope and y-intercept are denoted $\\hat{\\beta_1}$ and $\\hat{\\beta_0}$.  That is, $\\hat{\\beta_1}\\approx \\beta_1$ and $\\hat{\\beta_0}\\approx \\beta_0$. \n",
    "\n",
    "There are many ways to use our data to approximate $\\hat{\\beta_1}$ and $\\hat{\\beta_0}$.  In the spirit of Machine Learning, we will define a *loss function* (or error function) and use *gradient descent* to find values of $\\hat{\\beta_1}$ and $\\hat{\\beta_0}$ such that $\\hat{f}(X) = \\hat{\\beta_0}+\\hat{\\beta_1}X$ gives a good approximation of $Y$.  \n",
    "\n",
    "This [video](https://youtu.be/4PHI11lX11I?si=RvdIBoKLTtqaW0Xw) gives a good explanation of using gradient descent to approximate the slope and y-intercept for data consisting of two columns (predictor and response).\n",
    "\n",
    "To do this, we perform a train test split of the data."
   ]
  },
  {
   "cell_type": "code",
   "execution_count": 5,
   "id": "09854e86",
   "metadata": {},
   "outputs": [],
   "source": [
    "X_train,X_test,y_train,y_test=train_test_split(predictor, response, test_size=0.25, random_state=250)"
   ]
  },
  {
   "cell_type": "markdown",
   "id": "2a82061c",
   "metadata": {},
   "source": [
    "Instantiate the model object."
   ]
  },
  {
   "cell_type": "code",
   "execution_count": 6,
   "id": "7969cd1c",
   "metadata": {},
   "outputs": [],
   "source": [
    "model = LinearRegression()"
   ]
  },
  {
   "cell_type": "markdown",
   "id": "e6a90334",
   "metadata": {},
   "source": [
    "Train (fit) the model."
   ]
  },
  {
   "cell_type": "code",
   "execution_count": 7,
   "id": "2c873454",
   "metadata": {},
   "outputs": [
    {
     "data": {
      "text/html": [
       "<style>#sk-container-id-1 {color: black;}#sk-container-id-1 pre{padding: 0;}#sk-container-id-1 div.sk-toggleable {background-color: white;}#sk-container-id-1 label.sk-toggleable__label {cursor: pointer;display: block;width: 100%;margin-bottom: 0;padding: 0.3em;box-sizing: border-box;text-align: center;}#sk-container-id-1 label.sk-toggleable__label-arrow:before {content: \"▸\";float: left;margin-right: 0.25em;color: #696969;}#sk-container-id-1 label.sk-toggleable__label-arrow:hover:before {color: black;}#sk-container-id-1 div.sk-estimator:hover label.sk-toggleable__label-arrow:before {color: black;}#sk-container-id-1 div.sk-toggleable__content {max-height: 0;max-width: 0;overflow: hidden;text-align: left;background-color: #f0f8ff;}#sk-container-id-1 div.sk-toggleable__content pre {margin: 0.2em;color: black;border-radius: 0.25em;background-color: #f0f8ff;}#sk-container-id-1 input.sk-toggleable__control:checked~div.sk-toggleable__content {max-height: 200px;max-width: 100%;overflow: auto;}#sk-container-id-1 input.sk-toggleable__control:checked~label.sk-toggleable__label-arrow:before {content: \"▾\";}#sk-container-id-1 div.sk-estimator input.sk-toggleable__control:checked~label.sk-toggleable__label {background-color: #d4ebff;}#sk-container-id-1 div.sk-label input.sk-toggleable__control:checked~label.sk-toggleable__label {background-color: #d4ebff;}#sk-container-id-1 input.sk-hidden--visually {border: 0;clip: rect(1px 1px 1px 1px);clip: rect(1px, 1px, 1px, 1px);height: 1px;margin: -1px;overflow: hidden;padding: 0;position: absolute;width: 1px;}#sk-container-id-1 div.sk-estimator {font-family: monospace;background-color: #f0f8ff;border: 1px dotted black;border-radius: 0.25em;box-sizing: border-box;margin-bottom: 0.5em;}#sk-container-id-1 div.sk-estimator:hover {background-color: #d4ebff;}#sk-container-id-1 div.sk-parallel-item::after {content: \"\";width: 100%;border-bottom: 1px solid gray;flex-grow: 1;}#sk-container-id-1 div.sk-label:hover label.sk-toggleable__label {background-color: #d4ebff;}#sk-container-id-1 div.sk-serial::before {content: \"\";position: absolute;border-left: 1px solid gray;box-sizing: border-box;top: 0;bottom: 0;left: 50%;z-index: 0;}#sk-container-id-1 div.sk-serial {display: flex;flex-direction: column;align-items: center;background-color: white;padding-right: 0.2em;padding-left: 0.2em;position: relative;}#sk-container-id-1 div.sk-item {position: relative;z-index: 1;}#sk-container-id-1 div.sk-parallel {display: flex;align-items: stretch;justify-content: center;background-color: white;position: relative;}#sk-container-id-1 div.sk-item::before, #sk-container-id-1 div.sk-parallel-item::before {content: \"\";position: absolute;border-left: 1px solid gray;box-sizing: border-box;top: 0;bottom: 0;left: 50%;z-index: -1;}#sk-container-id-1 div.sk-parallel-item {display: flex;flex-direction: column;z-index: 1;position: relative;background-color: white;}#sk-container-id-1 div.sk-parallel-item:first-child::after {align-self: flex-end;width: 50%;}#sk-container-id-1 div.sk-parallel-item:last-child::after {align-self: flex-start;width: 50%;}#sk-container-id-1 div.sk-parallel-item:only-child::after {width: 0;}#sk-container-id-1 div.sk-dashed-wrapped {border: 1px dashed gray;margin: 0 0.4em 0.5em 0.4em;box-sizing: border-box;padding-bottom: 0.4em;background-color: white;}#sk-container-id-1 div.sk-label label {font-family: monospace;font-weight: bold;display: inline-block;line-height: 1.2em;}#sk-container-id-1 div.sk-label-container {text-align: center;}#sk-container-id-1 div.sk-container {/* jupyter's `normalize.less` sets `[hidden] { display: none; }` but bootstrap.min.css set `[hidden] { display: none !important; }` so we also need the `!important` here to be able to override the default hidden behavior on the sphinx rendered scikit-learn.org. See: https://github.com/scikit-learn/scikit-learn/issues/21755 */display: inline-block !important;position: relative;}#sk-container-id-1 div.sk-text-repr-fallback {display: none;}</style><div id=\"sk-container-id-1\" class=\"sk-top-container\"><div class=\"sk-text-repr-fallback\"><pre>LinearRegression()</pre><b>In a Jupyter environment, please rerun this cell to show the HTML representation or trust the notebook. <br />On GitHub, the HTML representation is unable to render, please try loading this page with nbviewer.org.</b></div><div class=\"sk-container\" hidden><div class=\"sk-item\"><div class=\"sk-estimator sk-toggleable\"><input class=\"sk-toggleable__control sk-hidden--visually\" id=\"sk-estimator-id-1\" type=\"checkbox\" checked><label for=\"sk-estimator-id-1\" class=\"sk-toggleable__label sk-toggleable__label-arrow\">LinearRegression</label><div class=\"sk-toggleable__content\"><pre>LinearRegression()</pre></div></div></div></div></div>"
      ],
      "text/plain": [
       "LinearRegression()"
      ]
     },
     "execution_count": 7,
     "metadata": {},
     "output_type": "execute_result"
    }
   ],
   "source": [
    "#Reshape X_train\n",
    "X_train = X_train.reshape(X_train.shape[0],1)\n",
    "model.fit(X_train, y_train)"
   ]
  },
  {
   "cell_type": "markdown",
   "id": "7d75c198",
   "metadata": {},
   "source": [
    "Make predictions to see how well our model performs."
   ]
  },
  {
   "cell_type": "code",
   "execution_count": 8,
   "id": "5714226f",
   "metadata": {},
   "outputs": [
    {
     "data": {
      "text/plain": [
       "18.45908140926336"
      ]
     },
     "execution_count": 8,
     "metadata": {},
     "output_type": "execute_result"
    }
   ],
   "source": [
    "y_pred = model.predict(X_test.reshape(-1,1))\n",
    "mean_squared_error(y_test, y_pred)"
   ]
  },
  {
   "cell_type": "markdown",
   "id": "56df89b2",
   "metadata": {},
   "source": [
    "We can use the *coef_* and *intercept_* attributes to get $\\hat{\\beta}_1$ and $\\hat{\\beta}_0$ for our model."
   ]
  },
  {
   "cell_type": "code",
   "execution_count": 11,
   "id": "88e5e7ee",
   "metadata": {},
   "outputs": [
    {
     "data": {
      "text/plain": [
       "0.5230823260754627"
      ]
     },
     "execution_count": 11,
     "metadata": {},
     "output_type": "execute_result"
    }
   ],
   "source": [
    "beta_hat_1 = model.coef_[0]\n",
    "beta_hat_1"
   ]
  },
  {
   "cell_type": "code",
   "execution_count": 12,
   "id": "2ac06825",
   "metadata": {},
   "outputs": [
    {
     "data": {
      "text/plain": [
       "9.615243195430985"
      ]
     },
     "execution_count": 12,
     "metadata": {},
     "output_type": "execute_result"
    }
   ],
   "source": [
    "beta_hat_0 = model.intercept_\n",
    "beta_hat_0"
   ]
  },
  {
   "cell_type": "markdown",
   "id": "9df627ab",
   "metadata": {},
   "source": [
    "Now, lets plot our model in red and compare it to our data."
   ]
  },
  {
   "cell_type": "code",
   "execution_count": 13,
   "id": "add350bf",
   "metadata": {},
   "outputs": [],
   "source": [
    "predicted_response = np.array([beta_hat_1*x+beta_hat_0 for x in predictor])"
   ]
  },
  {
   "cell_type": "code",
   "execution_count": 14,
   "id": "07c2f628",
   "metadata": {},
   "outputs": [
    {
     "data": {
      "text/plain": [
       "<matplotlib.collections.PathCollection at 0x1e89f384a00>"
      ]
     },
     "execution_count": 14,
     "metadata": {},
     "output_type": "execute_result"
    },
    {
     "data": {
      "image/png": "[encoded data removed]",
      "text/plain": [
       "<Figure size 432x288 with 1 Axes>"
      ]
     },
     "metadata": {
      "needs_background": "light"
     },
     "output_type": "display_data"
    }
   ],
   "source": [
    "plt.plot(predictor, predicted_response, color = \"red\", linewidth = 3)\n",
    "plt.scatter(predictor, response, color=\"blue\", linewidth=3)"
   ]
  },
  {
   "cell_type": "markdown",
   "id": "75451636",
   "metadata": {},
   "source": [
    "$\\Box$\n",
    "\n",
    "### Loss Function\n",
    "\n",
    "A *loss function* or (error function) measures how close a predicted value $\\hat{y}$ is to the actual value $y \\in Y$.  The basic idea for a loss function is:\n",
    "+ If $\\hat{y}$ is not very close to $y$, then the loss should be big.  \n",
    "+ If $\\hat{y}$ is close to $y$, then the loss should be small.  \n",
    "\n",
    "As we will see, the loss function is a function of the parameters for the model.  The graph of the loss function defines a surface in $\\mathbb{R}^n$.  We use *Gradient Descent* to find a minimum (bottom of a valley) on this surface defined by the loss function.  This minimum gives the parameters that minimize the loss (or error) between our predictions $\\hat{y}$ and $y$. \n",
    "\n",
    "##### Example 3: Loss Function for Example 2\n",
    "\n",
    "In linear regression the most commonly used loss function is the *Mean Squared Error* function.  This is typically written as $$\\text{MSE} = \\frac{1}{N}\\sum_{i=1}^N (y_i-\\hat{y}_i)^2$$ where the data set has $N$ data points.\n",
    "\n",
    "This form hides the fact that the MSE loss function is a function of the parameters $\\beta_0, \\beta_1,...,\\beta_p$.  To see this last fact, recall that in Example 2, we assumed our function $f$ to have the form $f(X) = \\beta_0+\\beta_1 X$.\n",
    "\n",
    "In Example 2 we had 100 data points of the form $(x_i,y_i)$.  Given values for $\\beta_0$ and $\\beta_1$, we can compute $\\hat{y}_i = \\beta_0+\\beta_1x_i$.\n",
    "\n",
    "Thus, MSE $= \\frac{1}{100}\\sum_{i=1}^{100} (y_i-\\hat{y}_i)^2$\n",
    "\n",
    "$= \\frac{1}{100}\\sum_{i=1}^{100} (y_i-(\\beta_0+\\beta_1x_i))^2$\n",
    "\n",
    "$= \\frac{1}{100} \\cdot ((y_1-(\\beta_0+\\beta_1x_1i))^2+(y_2-(\\beta_0+\\beta_1x_2))^2+...+(y_{100}-(\\beta_0+\\beta_1x_{100}))^2)$.\n",
    "\n",
    "In this last expression of the MSE, note that all of the $x_i$'s and $y_i$'s are fixed values.  \n",
    "\n",
    "Since the MSE for example 2 is a function of $\\beta_0$ and $\\beta_1$, we can replace MSE with $L(\\beta_0,\\beta_1)$ to obtain $$L(\\beta_0,\\beta_1) = \\frac{1}{100}\\sum_{i=1}^{100} (\\hat{y}_i-y_i)^2$$\n",
    "\n",
    "This shows that the loss function $L(\\beta_0,\\beta_1)$ is a function of two real numbers.  Thus, the graph of $L(\\beta_0,\\beta_1)$ is a 3D surface defined by the parameters $\\beta_0$ and $\\beta_1$.\n",
    "\n",
    "The function below implements $L(\\beta_0,\\beta_1)$."
   ]
  },
  {
   "cell_type": "code",
   "execution_count": 15,
   "id": "ea999b96",
   "metadata": {},
   "outputs": [],
   "source": [
    "def L(beta0, beta1):\n",
    "    y_pred = np.array([beta1*x+beta0 for x in X_train])\n",
    "    return mean_squared_error(y_pred, y_train)"
   ]
  },
  {
   "cell_type": "code",
   "execution_count": 16,
   "id": "a5cd43d7",
   "metadata": {},
   "outputs": [
    {
     "data": {
      "text/html": [
       "<div>\n",
       "<style scoped>\n",
       "    .dataframe tbody tr th:only-of-type {\n",
       "        vertical-align: middle;\n",
       "    }\n",
       "\n",
       "    .dataframe tbody tr th {\n",
       "        vertical-align: top;\n",
       "    }\n",
       "\n",
       "    .dataframe thead th {\n",
       "        text-align: right;\n",
       "    }\n",
       "</style>\n",
       "<table border=\"1\" class=\"dataframe\">\n",
       "  <thead>\n",
       "    <tr style=\"text-align: right;\">\n",
       "      <th></th>\n",
       "      <th>beta0</th>\n",
       "      <th>beta1</th>\n",
       "      <th>L(beta0, beta1)</th>\n",
       "    </tr>\n",
       "  </thead>\n",
       "  <tbody>\n",
       "    <tr>\n",
       "      <th>0</th>\n",
       "      <td>1.000000</td>\n",
       "      <td>1.000000</td>\n",
       "      <td>483.802773</td>\n",
       "    </tr>\n",
       "    <tr>\n",
       "      <th>1</th>\n",
       "      <td>10.000000</td>\n",
       "      <td>0.300000</td>\n",
       "      <td>194.034510</td>\n",
       "    </tr>\n",
       "    <tr>\n",
       "      <th>2</th>\n",
       "      <td>10.000000</td>\n",
       "      <td>0.400000</td>\n",
       "      <td>74.783308</td>\n",
       "    </tr>\n",
       "    <tr>\n",
       "      <th>3</th>\n",
       "      <td>10.000000</td>\n",
       "      <td>0.450000</td>\n",
       "      <td>41.858507</td>\n",
       "    </tr>\n",
       "    <tr>\n",
       "      <th>4</th>\n",
       "      <td>9.615243</td>\n",
       "      <td>0.523082</td>\n",
       "      <td>25.609715</td>\n",
       "    </tr>\n",
       "  </tbody>\n",
       "</table>\n",
       "</div>"
      ],
      "text/plain": [
       "       beta0     beta1  L(beta0, beta1)\n",
       "0   1.000000  1.000000       483.802773\n",
       "1  10.000000  0.300000       194.034510\n",
       "2  10.000000  0.400000        74.783308\n",
       "3  10.000000  0.450000        41.858507\n",
       "4   9.615243  0.523082        25.609715"
      ]
     },
     "execution_count": 16,
     "metadata": {},
     "output_type": "execute_result"
    }
   ],
   "source": [
    "loss = pd.DataFrame({'beta0':[1,10, 10,10,beta_hat_0], 'beta1':[1,0.3, 0.4,0.45, beta_hat_1]})\n",
    "loss['L(beta0, beta1)'] = loss[['beta0', 'beta1']].apply(lambda x: L(x[0], x[1]), axis = 1)\n",
    "loss"
   ]
  },
  {
   "cell_type": "markdown",
   "id": "e7ee7e5a",
   "metadata": {},
   "source": [
    "$\\Box$\n",
    "\n",
    "##### Example 4\n",
    "\n",
    "Now, we create a dataset and train a regression model using *multi-linear regression* to predict the values of $Y$."
   ]
  },
  {
   "cell_type": "code",
   "execution_count": 17,
   "id": "ed14e1de",
   "metadata": {},
   "outputs": [],
   "source": [
    "p = 4\n",
    "X_1 = np.random.normal(size = (10**p))\n",
    "X_2 = np.random.normal(size = (10**p))\n",
    "Y = X_1 + X_2"
   ]
  },
  {
   "cell_type": "markdown",
   "id": "ac57f145",
   "metadata": {},
   "source": [
    "The first five rows of our dataset is given below. "
   ]
  },
  {
   "cell_type": "code",
   "execution_count": 18,
   "id": "0f0b4844",
   "metadata": {},
   "outputs": [
    {
     "data": {
      "text/html": [
       "<div>\n",
       "<style scoped>\n",
       "    .dataframe tbody tr th:only-of-type {\n",
       "        vertical-align: middle;\n",
       "    }\n",
       "\n",
       "    .dataframe tbody tr th {\n",
       "        vertical-align: top;\n",
       "    }\n",
       "\n",
       "    .dataframe thead th {\n",
       "        text-align: right;\n",
       "    }\n",
       "</style>\n",
       "<table border=\"1\" class=\"dataframe\">\n",
       "  <thead>\n",
       "    <tr style=\"text-align: right;\">\n",
       "      <th></th>\n",
       "      <th>X1</th>\n",
       "      <th>X2</th>\n",
       "      <th>Y</th>\n",
       "    </tr>\n",
       "  </thead>\n",
       "  <tbody>\n",
       "    <tr>\n",
       "      <th>0</th>\n",
       "      <td>0.989897</td>\n",
       "      <td>0.415601</td>\n",
       "      <td>1.405497</td>\n",
       "    </tr>\n",
       "    <tr>\n",
       "      <th>1</th>\n",
       "      <td>-0.693837</td>\n",
       "      <td>-0.729824</td>\n",
       "      <td>-1.423661</td>\n",
       "    </tr>\n",
       "    <tr>\n",
       "      <th>2</th>\n",
       "      <td>-1.726997</td>\n",
       "      <td>-0.778337</td>\n",
       "      <td>-2.505334</td>\n",
       "    </tr>\n",
       "    <tr>\n",
       "      <th>3</th>\n",
       "      <td>1.943179</td>\n",
       "      <td>0.344894</td>\n",
       "      <td>2.288073</td>\n",
       "    </tr>\n",
       "    <tr>\n",
       "      <th>4</th>\n",
       "      <td>0.100053</td>\n",
       "      <td>0.350699</td>\n",
       "      <td>0.450752</td>\n",
       "    </tr>\n",
       "  </tbody>\n",
       "</table>\n",
       "</div>"
      ],
      "text/plain": [
       "         X1        X2         Y\n",
       "0  0.989897  0.415601  1.405497\n",
       "1 -0.693837 -0.729824 -1.423661\n",
       "2 -1.726997 -0.778337 -2.505334\n",
       "3  1.943179  0.344894  2.288073\n",
       "4  0.100053  0.350699  0.450752"
      ]
     },
     "execution_count": 18,
     "metadata": {},
     "output_type": "execute_result"
    }
   ],
   "source": [
    "pd.DataFrame({'X1':X_1, 'X2':X_2, 'Y':Y}).head()"
   ]
  },
  {
   "cell_type": "markdown",
   "id": "73f49932",
   "metadata": {},
   "source": [
    "We visualize the correlations below."
   ]
  },
  {
   "cell_type": "code",
   "execution_count": 19,
   "id": "8d44181b",
   "metadata": {},
   "outputs": [
    {
     "data": {
      "text/plain": [
       "<matplotlib.collections.PathCollection at 0x1e89fe3f700>"
      ]
     },
     "execution_count": 19,
     "metadata": {},
     "output_type": "execute_result"
    },
    {
     "data": {
      "image/png": "[encoded data removed]",
      "text/plain": [
       "<Figure size 432x288 with 1 Axes>"
      ]
     },
     "metadata": {
      "needs_background": "light"
     },
     "output_type": "display_data"
    }
   ],
   "source": [
    "plt.scatter(X_1, Y, color=\"blue\", linewidth=0.1)"
   ]
  },
  {
   "cell_type": "code",
   "execution_count": 20,
   "id": "2c0e92cd",
   "metadata": {},
   "outputs": [
    {
     "data": {
      "text/plain": [
       "<matplotlib.collections.PathCollection at 0x1e89fea7e80>"
      ]
     },
     "execution_count": 20,
     "metadata": {},
     "output_type": "execute_result"
    },
    {
     "data": {
      "image/png": "[encoded data removed]",
      "text/plain": [
       "<Figure size 432x288 with 1 Axes>"
      ]
     },
     "metadata": {
      "needs_background": "light"
     },
     "output_type": "display_data"
    }
   ],
   "source": [
    "plt.scatter(X_2, Y, color=\"blue\", linewidth=0.1)"
   ]
  },
  {
   "cell_type": "markdown",
   "id": "9a973ad4",
   "metadata": {},
   "source": [
    "Now, lets train the model.  Since there are two predictors ($X_1$ and $X_2$) this time and we have decided to use multi-linear regression, we assume that our model will have the form $$f(X) = \\beta_0+\\beta_1X_1+\\beta_2X_2$$ where $X = (X_1, X_2)$. \n",
    "\n",
    "Since $Y=f(X)$, we see that our function can be rewritten in the form $$Y -\\beta_1X_1-\\beta_2X_2 = \\beta_0$$  This shows that, instead of our model being a line (as was the case for one predictor), it is now a plane.  This makes sense since our data is three dimensional. \n",
    "\n",
    "To set up for using Sci-Kit Learn's SGDRegressor, we need to put $X_1$ and $X_2$ into one input matrix $X$."
   ]
  },
  {
   "cell_type": "code",
   "execution_count": 21,
   "id": "f790f3ad",
   "metadata": {},
   "outputs": [],
   "source": [
    "X = np.array([X_1, X_2])"
   ]
  },
  {
   "cell_type": "markdown",
   "id": "aa14689d",
   "metadata": {},
   "source": [
    "Unfortunately, this has the wrong shape.  We want two columns, not 10000."
   ]
  },
  {
   "cell_type": "code",
   "execution_count": 22,
   "id": "ad0e0826",
   "metadata": {},
   "outputs": [
    {
     "data": {
      "text/plain": [
       "(2, 10000)"
      ]
     },
     "execution_count": 22,
     "metadata": {},
     "output_type": "execute_result"
    }
   ],
   "source": [
    "X.shape"
   ]
  },
  {
   "cell_type": "markdown",
   "id": "53ff0f89",
   "metadata": {},
   "source": [
    "This is one of the many situations that the transpose operator helps a lot."
   ]
  },
  {
   "cell_type": "code",
   "execution_count": 23,
   "id": "bbc5ff3b",
   "metadata": {},
   "outputs": [],
   "source": [
    "X = X.T"
   ]
  },
  {
   "cell_type": "code",
   "execution_count": 24,
   "id": "2d0dd976",
   "metadata": {},
   "outputs": [
    {
     "data": {
      "text/plain": [
       "(10000, 2)"
      ]
     },
     "execution_count": 24,
     "metadata": {},
     "output_type": "execute_result"
    }
   ],
   "source": [
    "X.shape"
   ]
  },
  {
   "cell_type": "markdown",
   "id": "e4761822",
   "metadata": {},
   "source": [
    "Now, we are ready to train our model."
   ]
  },
  {
   "cell_type": "code",
   "execution_count": 25,
   "id": "803f6e84",
   "metadata": {},
   "outputs": [],
   "source": [
    "X_train,X_test,y_train,y_test=train_test_split(X, Y, test_size=0.25, random_state=250)"
   ]
  },
  {
   "cell_type": "code",
   "execution_count": 26,
   "id": "799d0e6f",
   "metadata": {},
   "outputs": [],
   "source": [
    "model = SGDRegressor(penalty = None)"
   ]
  },
  {
   "cell_type": "code",
   "execution_count": 27,
   "id": "b8317640",
   "metadata": {},
   "outputs": [
    {
     "data": {
      "text/html": [
       "<style>#sk-container-id-2 {color: black;}#sk-container-id-2 pre{padding: 0;}#sk-container-id-2 div.sk-toggleable {background-color: white;}#sk-container-id-2 label.sk-toggleable__label {cursor: pointer;display: block;width: 100%;margin-bottom: 0;padding: 0.3em;box-sizing: border-box;text-align: center;}#sk-container-id-2 label.sk-toggleable__label-arrow:before {content: \"▸\";float: left;margin-right: 0.25em;color: #696969;}#sk-container-id-2 label.sk-toggleable__label-arrow:hover:before {color: black;}#sk-container-id-2 div.sk-estimator:hover label.sk-toggleable__label-arrow:before {color: black;}#sk-container-id-2 div.sk-toggleable__content {max-height: 0;max-width: 0;overflow: hidden;text-align: left;background-color: #f0f8ff;}#sk-container-id-2 div.sk-toggleable__content pre {margin: 0.2em;color: black;border-radius: 0.25em;background-color: #f0f8ff;}#sk-container-id-2 input.sk-toggleable__control:checked~div.sk-toggleable__content {max-height: 200px;max-width: 100%;overflow: auto;}#sk-container-id-2 input.sk-toggleable__control:checked~label.sk-toggleable__label-arrow:before {content: \"▾\";}#sk-container-id-2 div.sk-estimator input.sk-toggleable__control:checked~label.sk-toggleable__label {background-color: #d4ebff;}#sk-container-id-2 div.sk-label input.sk-toggleable__control:checked~label.sk-toggleable__label {background-color: #d4ebff;}#sk-container-id-2 input.sk-hidden--visually {border: 0;clip: rect(1px 1px 1px 1px);clip: rect(1px, 1px, 1px, 1px);height: 1px;margin: -1px;overflow: hidden;padding: 0;position: absolute;width: 1px;}#sk-container-id-2 div.sk-estimator {font-family: monospace;background-color: #f0f8ff;border: 1px dotted black;border-radius: 0.25em;box-sizing: border-box;margin-bottom: 0.5em;}#sk-container-id-2 div.sk-estimator:hover {background-color: #d4ebff;}#sk-container-id-2 div.sk-parallel-item::after {content: \"\";width: 100%;border-bottom: 1px solid gray;flex-grow: 1;}#sk-container-id-2 div.sk-label:hover label.sk-toggleable__label {background-color: #d4ebff;}#sk-container-id-2 div.sk-serial::before {content: \"\";position: absolute;border-left: 1px solid gray;box-sizing: border-box;top: 0;bottom: 0;left: 50%;z-index: 0;}#sk-container-id-2 div.sk-serial {display: flex;flex-direction: column;align-items: center;background-color: white;padding-right: 0.2em;padding-left: 0.2em;position: relative;}#sk-container-id-2 div.sk-item {position: relative;z-index: 1;}#sk-container-id-2 div.sk-parallel {display: flex;align-items: stretch;justify-content: center;background-color: white;position: relative;}#sk-container-id-2 div.sk-item::before, #sk-container-id-2 div.sk-parallel-item::before {content: \"\";position: absolute;border-left: 1px solid gray;box-sizing: border-box;top: 0;bottom: 0;left: 50%;z-index: -1;}#sk-container-id-2 div.sk-parallel-item {display: flex;flex-direction: column;z-index: 1;position: relative;background-color: white;}#sk-container-id-2 div.sk-parallel-item:first-child::after {align-self: flex-end;width: 50%;}#sk-container-id-2 div.sk-parallel-item:last-child::after {align-self: flex-start;width: 50%;}#sk-container-id-2 div.sk-parallel-item:only-child::after {width: 0;}#sk-container-id-2 div.sk-dashed-wrapped {border: 1px dashed gray;margin: 0 0.4em 0.5em 0.4em;box-sizing: border-box;padding-bottom: 0.4em;background-color: white;}#sk-container-id-2 div.sk-label label {font-family: monospace;font-weight: bold;display: inline-block;line-height: 1.2em;}#sk-container-id-2 div.sk-label-container {text-align: center;}#sk-container-id-2 div.sk-container {/* jupyter's `normalize.less` sets `[hidden] { display: none; }` but bootstrap.min.css set `[hidden] { display: none !important; }` so we also need the `!important` here to be able to override the default hidden behavior on the sphinx rendered scikit-learn.org. See: https://github.com/scikit-learn/scikit-learn/issues/21755 */display: inline-block !important;position: relative;}#sk-container-id-2 div.sk-text-repr-fallback {display: none;}</style><div id=\"sk-container-id-2\" class=\"sk-top-container\"><div class=\"sk-text-repr-fallback\"><pre>SGDRegressor(penalty=None)</pre><b>In a Jupyter environment, please rerun this cell to show the HTML representation or trust the notebook. <br />On GitHub, the HTML representation is unable to render, please try loading this page with nbviewer.org.</b></div><div class=\"sk-container\" hidden><div class=\"sk-item\"><div class=\"sk-estimator sk-toggleable\"><input class=\"sk-toggleable__control sk-hidden--visually\" id=\"sk-estimator-id-2\" type=\"checkbox\" checked><label for=\"sk-estimator-id-2\" class=\"sk-toggleable__label sk-toggleable__label-arrow\">SGDRegressor</label><div class=\"sk-toggleable__content\"><pre>SGDRegressor(penalty=None)</pre></div></div></div></div></div>"
      ],
      "text/plain": [
       "SGDRegressor(penalty=None)"
      ]
     },
     "execution_count": 27,
     "metadata": {},
     "output_type": "execute_result"
    }
   ],
   "source": [
    "model.fit(X_train, y_train)"
   ]
  },
  {
   "cell_type": "code",
   "execution_count": 28,
   "id": "0e37e28c",
   "metadata": {},
   "outputs": [],
   "source": [
    "y_pred = model.predict(X_test)"
   ]
  },
  {
   "cell_type": "code",
   "execution_count": 29,
   "id": "37b09487",
   "metadata": {},
   "outputs": [
    {
     "data": {
      "text/plain": [
       "4.0382657151832715e-29"
      ]
     },
     "execution_count": 29,
     "metadata": {},
     "output_type": "execute_result"
    }
   ],
   "source": [
    "mean_squared_error(y_pred, y_test)"
   ]
  },
  {
   "cell_type": "code",
   "execution_count": 30,
   "id": "69825ce7",
   "metadata": {},
   "outputs": [
    {
     "data": {
      "text/plain": [
       "array([1., 1.])"
      ]
     },
     "execution_count": 30,
     "metadata": {},
     "output_type": "execute_result"
    }
   ],
   "source": [
    "model.coef_"
   ]
  },
  {
   "cell_type": "code",
   "execution_count": 31,
   "id": "22eed97f",
   "metadata": {},
   "outputs": [
    {
     "data": {
      "text/plain": [
       "array([-5.3732497e-17])"
      ]
     },
     "execution_count": 31,
     "metadata": {},
     "output_type": "execute_result"
    }
   ],
   "source": [
    "model.intercept_"
   ]
  },
  {
   "cell_type": "markdown",
   "id": "2888feb3",
   "metadata": {},
   "source": [
    "$\\Box$\n",
    "\n",
    "### Dot Product\n",
    "\n",
    "The *dot product* from Linear Algebra can be used to write the equation for multi-linear regression in a more compact form. \n",
    "\n",
    "#### Vectors\n",
    "\n",
    "The rows in the input matrices $X$ above are vectors.  \n",
    "\n",
    "In Vector Calculus, the notation for a vector $x$ is usually something like $$\\vec{x} = <x_1,x_2,...,x_n>$$\n",
    "\n",
    "However, in Linear Algebra, the notation for a vector $x$ is a column vector (an $N \\times 1$ matrix) like $$x = \\begin{pmatrix}\n",
    "    x_1 \\\\\n",
    "    x_2 \\\\\n",
    "    \\vdots \\\\\n",
    "    x_n \\\\\n",
    "\\end{pmatrix}$$\n",
    "\n",
    "#### Dot Product\n",
    "\n",
    "Given two vectors $x = <x_1,x_2,...,x_n> = \\begin{pmatrix}\n",
    "    x_1 \\\\\n",
    "    x_2 \\\\\n",
    "    \\vdots \\\\\n",
    "    x_n \\\\\n",
    "\\end{pmatrix}$ and $y = <y_1,y_2,...,y_n> = \\begin{pmatrix}\n",
    "    y_1 \\\\\n",
    "    y_2 \\\\\n",
    "    \\vdots \\\\\n",
    "    y_n \\\\\n",
    "\\end{pmatrix}$, the dot product is defined as $$x \\cdot y = <x_1,x_2,...,x_n>\\cdot <y_1,y_2,...,y_n> = \\begin{pmatrix}\n",
    "    x_1 x_2 \\dots x_n \\\\\n",
    "\\end{pmatrix}\\cdot \\begin{pmatrix}\n",
    "    y_1 \\\\\n",
    "    y_2 \\\\\n",
    "    \\vdots \\\\\n",
    "    y_n \\\\\n",
    "\\end{pmatrix} = x_1\\cdot y_1+x_2\\cdot y_2+...+x_n\\cdot y_n$$\n",
    "\n",
    "In Machine Learning literature, the Linear Algebra notation is the standard.  \n",
    "\n",
    "Using this notation, we can express the dot product of two vectors $x = \\begin{pmatrix}\n",
    "    x_1 \\\\\n",
    "    x_2 \\\\\n",
    "    \\vdots \\\\\n",
    "    x_n \\\\\n",
    "\\end{pmatrix}$ and $y = \\begin{pmatrix}\n",
    "    y_1 \\\\\n",
    "    y_2 \\\\\n",
    "    \\vdots \\\\\n",
    "    y_n \\\\\n",
    "\\end{pmatrix}$ as \n",
    "\n",
    "$$x^Ty = \\begin{pmatrix}\n",
    "    x_1 x_2 \\dots x_n \\\\\n",
    "\\end{pmatrix}\\cdot \\begin{pmatrix}\n",
    "    y_1 \\\\\n",
    "    y_2 \\\\\n",
    "    \\vdots \\\\\n",
    "    y_n \\\\\n",
    "\\end{pmatrix} = x_1\\cdot y_1+x_2\\cdot y_2+...+x_n\\cdot y_n$$\n",
    "\n",
    "#### Compact Notation\n",
    "\n",
    "With the notation above in hand, we can express our function $f$ from Example 3 as $$f(X) = \\beta_0+\\beta^TX$$ where $\\beta = \\begin{pmatrix}\n",
    "    \\beta_1 \\\\\n",
    "    \\beta_2 \\\\\n",
    "\\end{pmatrix}$ and $X = \\begin{pmatrix}\n",
    "    X_1 \\\\\n",
    "    X_2 \\\\\n",
    "\\end{pmatrix}$.\n",
    "\n",
    "The vector $\\beta = \\begin{pmatrix}\n",
    "    \\beta_1 \\\\\n",
    "    \\beta_2 \\\\\n",
    "\\end{pmatrix}$ is called a *parameter vector* since it contains parameters.  The standard symbol for the parameter vector is $\\theta$.  Thus, $f(X) = \\beta_0+\\theta^TX$.\n",
    "\n",
    "As yet another notational simplification, we can define $\\theta = \\begin{pmatrix}\n",
    "    \\beta_0 \\\\\n",
    "    \\beta_1 \\\\\n",
    "    \\beta_2 \\\\\n",
    "\\end{pmatrix}$ and $X = \\begin{pmatrix}\n",
    "    1 \\\\\n",
    "    X_1 \\\\\n",
    "    X_2 \\\\\n",
    "\\end{pmatrix}$ so that we have \n",
    "\n",
    "$$f(X) = \\theta^TX$$\n",
    "\n",
    "In general, the equation for multi-linear regression has the form $f(X) = \\beta_0+\\beta_1X_1+\\beta_2X_2+...+\\beta_nX_n$ which can be written as \n",
    "\n",
    "$$f(X) = \\theta^TX$$ where $\\theta = \\begin{pmatrix}\n",
    "    \\beta_0 \\\\\n",
    "    \\beta_1 \\\\\n",
    "    \\vdots \\\\\n",
    "    \\beta_n \\\\\n",
    "\\end{pmatrix}$ and $X = \\begin{pmatrix}\n",
    "    1 \\\\\n",
    "    X_1 \\\\\n",
    "    \\vdots \\\\\n",
    "    X_n \\\\\n",
    "\\end{pmatrix}$."
   ]
  },
  {
   "cell_type": "code",
   "execution_count": null,
   "id": "2e592aff",
   "metadata": {},
   "outputs": [],
   "source": []
  }
 ],
 "metadata": {
  "kernelspec": {
   "display_name": "Python 3 (ipykernel)",
   "language": "python",
   "name": "python3"
  },
  "language_info": {
   "codemirror_mode": {
    "name": "ipython",
    "version": 3
   },
   "file_extension": ".py",
   "mimetype": "text/x-python",
   "name": "python",
   "nbconvert_exporter": "python",
   "pygments_lexer": "ipython3",
   "version": "3.9.12"
  }
 },
 "nbformat": 4,
 "nbformat_minor": 5
}
