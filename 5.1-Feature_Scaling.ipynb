{
 "cells": [
  {
   "cell_type": "code",
   "execution_count": 206,
   "id": "31ea3e0a",
   "metadata": {},
   "outputs": [],
   "source": [
    "import numpy as np\n",
    "from numpy import random\n",
    "import pandas as pd\n",
    "import sklearn as skl\n",
    "from sklearn.neighbors import KNeighborsClassifier\n",
    "from sklearn.preprocessing import StandardScaler\n",
    "from sklearn import datasets"
   ]
  },
  {
   "cell_type": "markdown",
   "id": "e661604a",
   "metadata": {},
   "source": [
    "### Scaling Columns\n",
    "\n",
    "When a data scientist refers to *Scaling a column* in a dataset, they are reffering to any technique that changes each value in the column so that the distribution of the column has desired properties.  The most common scaling technique is *standardization*.  \n",
    "\n",
    "A column is standardized when we subtract the mean (of the column) and divide by the standard deviation (of the column) so that the column becomes approximately normally distributed with mean 0 and standard deviation 1.  \n",
    "\n",
    "##### Example 1"
   ]
  },
  {
   "cell_type": "code",
   "execution_count": 16,
   "id": "f0c9e810",
   "metadata": {},
   "outputs": [
    {
     "name": "stdout",
     "output_type": "stream",
     "text": [
      "Mean: 506.31, Standard Deviation: 300.0584174789969\n"
     ]
    }
   ],
   "source": [
    "column = np.random.choice(np.array(range(1000)), size = (10**2,))\n",
    "mean = column.mean()\n",
    "std = column.std()\n",
    "print(f'Mean: {mean}, Standard Deviation: {std}')"
   ]
  },
  {
   "cell_type": "code",
   "execution_count": 17,
   "id": "c588abbb",
   "metadata": {},
   "outputs": [
    {
     "name": "stdout",
     "output_type": "stream",
     "text": [
      "Mean: -3.219646771412954e-17, Standard Deviation: 1.0\n"
     ]
    }
   ],
   "source": [
    "column_standardized = (column - mean)/std\n",
    "print(f'Mean: {column_standardized.mean()}, Standard Deviation: {column_standardized.std()}')"
   ]
  },
  {
   "cell_type": "markdown",
   "id": "35939434",
   "metadata": {},
   "source": [
    "$\\Box$\n",
    "\n",
    "According to [this](https://medium.com/data-science-in-your-pocket/different-methods-to-scale-numerical-features-in-datasets-with-examples-and-codes-93f5d7e60877) article and [this](https://towardsdatascience.com/feature-engineering-for-machine-learning-3a5e293a5114#3abe) article, it is a good idea to scale columns because:\n",
    "+ Unscaled columns can adversely effect the training process.\n",
    "+ Models that depend on a distance measure (KNN, K-Means) assume that the data is standardized.\n",
    "+ Scaled columns can be compared better by a ML algorithm.\n",
    "\n",
    "#### Sci-Kit Learn Standard Scaler\n",
    "\n",
    "The sci-kit learn standard scaler implements *standardization* as defined above. This scaler is a *transform* in that it transforms the data.  The basic steps of a transform are:\n",
    "1. Instantiate the transformer object.\n",
    "2. Fit the transformer.\n",
    "3. Perform the transformation.\n",
    "\n",
    "##### Example 2"
   ]
  },
  {
   "cell_type": "code",
   "execution_count": 23,
   "id": "4360ba7e",
   "metadata": {},
   "outputs": [],
   "source": [
    "data = pd.DataFrame({'f1': 14*np.random.normal(size = (10,))+100, 'f2': 0.3*np.random.normal(size = (10,)), 'f3': 3.3*np.random.normal(size = (10,))+20, 'y': np.random.choice(np.array([0,1]), size = (10,))})"
   ]
  },
  {
   "cell_type": "markdown",
   "id": "6f73b0a7",
   "metadata": {},
   "source": [
    "The feature columns (f1, f2, f3) do not have mean 0 and standard deviation 1."
   ]
  },
  {
   "cell_type": "code",
   "execution_count": 25,
   "id": "f9ca4372",
   "metadata": {},
   "outputs": [
    {
     "data": {
      "text/plain": [
       "f1    101.568146\n",
       "f2     -0.030843\n",
       "f3     21.908736\n",
       "y       0.600000\n",
       "dtype: float64"
      ]
     },
     "execution_count": 25,
     "metadata": {},
     "output_type": "execute_result"
    }
   ],
   "source": [
    "data.mean(axis = 0)"
   ]
  },
  {
   "cell_type": "code",
   "execution_count": 26,
   "id": "569b91a0",
   "metadata": {},
   "outputs": [
    {
     "data": {
      "text/plain": [
       "f1    16.232565\n",
       "f2     0.470830\n",
       "f3     3.804731\n",
       "y      0.516398\n",
       "dtype: float64"
      ]
     },
     "execution_count": 26,
     "metadata": {},
     "output_type": "execute_result"
    }
   ],
   "source": [
    "data.std(axis = 0)"
   ]
  },
  {
   "cell_type": "markdown",
   "id": "a118212a",
   "metadata": {},
   "source": [
    "Specify the columns to scale."
   ]
  },
  {
   "cell_type": "code",
   "execution_count": 27,
   "id": "efa13378",
   "metadata": {},
   "outputs": [
    {
     "data": {
      "text/plain": [
       "['f1', 'f2', 'f3']"
      ]
     },
     "execution_count": 27,
     "metadata": {},
     "output_type": "execute_result"
    }
   ],
   "source": [
    "cols_to_scale = list(data.columns)\n",
    "cols_to_scale.remove('y')\n",
    "cols_to_scale"
   ]
  },
  {
   "cell_type": "markdown",
   "id": "3d324da9",
   "metadata": {},
   "source": [
    "Instantiate the transformer object."
   ]
  },
  {
   "cell_type": "code",
   "execution_count": 28,
   "id": "8e058c31",
   "metadata": {},
   "outputs": [],
   "source": [
    "scaler=StandardScaler()"
   ]
  },
  {
   "cell_type": "markdown",
   "id": "64f014a2",
   "metadata": {},
   "source": [
    "Fit and transform in one step using the *fit_transform* method."
   ]
  },
  {
   "cell_type": "code",
   "execution_count": 29,
   "id": "df7f67e7",
   "metadata": {},
   "outputs": [],
   "source": [
    "data[cols_to_scale] = scaler.fit_transform(data[cols_to_scale])"
   ]
  },
  {
   "cell_type": "markdown",
   "id": "80e03ebe",
   "metadata": {},
   "source": [
    "Now the feature columns have approximately mean 0 and standard deviation 1."
   ]
  },
  {
   "cell_type": "code",
   "execution_count": 31,
   "id": "e9b33887",
   "metadata": {},
   "outputs": [
    {
     "data": {
      "text/plain": [
       "f1   -1.998401e-16\n",
       "f2    1.110223e-17\n",
       "f3   -1.387779e-16\n",
       "dtype: float64"
      ]
     },
     "execution_count": 31,
     "metadata": {},
     "output_type": "execute_result"
    }
   ],
   "source": [
    "data[cols_to_scale].mean(axis = 0)"
   ]
  },
  {
   "cell_type": "code",
   "execution_count": 32,
   "id": "de79a537",
   "metadata": {},
   "outputs": [
    {
     "data": {
      "text/plain": [
       "f1    1.054093\n",
       "f2    1.054093\n",
       "f3    1.054093\n",
       "dtype: float64"
      ]
     },
     "execution_count": 32,
     "metadata": {},
     "output_type": "execute_result"
    }
   ],
   "source": [
    "data[cols_to_scale].std(axis = 0)"
   ]
  },
  {
   "cell_type": "markdown",
   "id": "6cb3f78b",
   "metadata": {},
   "source": [
    "$\\Box$\n",
    "\n",
    "##### Example 3\n",
    "\n",
    "In this example, we use the wine dataset."
   ]
  },
  {
   "cell_type": "code",
   "execution_count": 192,
   "id": "532ef314",
   "metadata": {},
   "outputs": [
    {
     "data": {
      "text/html": [
       "<div>\n",
       "<style scoped>\n",
       "    .dataframe tbody tr th:only-of-type {\n",
       "        vertical-align: middle;\n",
       "    }\n",
       "\n",
       "    .dataframe tbody tr th {\n",
       "        vertical-align: top;\n",
       "    }\n",
       "\n",
       "    .dataframe thead th {\n",
       "        text-align: right;\n",
       "    }\n",
       "</style>\n",
       "<table border=\"1\" class=\"dataframe\">\n",
       "  <thead>\n",
       "    <tr style=\"text-align: right;\">\n",
       "      <th></th>\n",
       "      <th>magnesium</th>\n",
       "      <th>ash</th>\n",
       "      <th>alcalinity_of_ash</th>\n",
       "      <th>target</th>\n",
       "    </tr>\n",
       "  </thead>\n",
       "  <tbody>\n",
       "    <tr>\n",
       "      <th>0</th>\n",
       "      <td>127.0</td>\n",
       "      <td>2.43</td>\n",
       "      <td>15.6</td>\n",
       "      <td>0.0</td>\n",
       "    </tr>\n",
       "    <tr>\n",
       "      <th>1</th>\n",
       "      <td>100.0</td>\n",
       "      <td>2.14</td>\n",
       "      <td>11.2</td>\n",
       "      <td>0.0</td>\n",
       "    </tr>\n",
       "    <tr>\n",
       "      <th>2</th>\n",
       "      <td>101.0</td>\n",
       "      <td>2.67</td>\n",
       "      <td>18.6</td>\n",
       "      <td>0.0</td>\n",
       "    </tr>\n",
       "    <tr>\n",
       "      <th>3</th>\n",
       "      <td>113.0</td>\n",
       "      <td>2.50</td>\n",
       "      <td>16.8</td>\n",
       "      <td>0.0</td>\n",
       "    </tr>\n",
       "    <tr>\n",
       "      <th>4</th>\n",
       "      <td>118.0</td>\n",
       "      <td>2.87</td>\n",
       "      <td>21.0</td>\n",
       "      <td>0.0</td>\n",
       "    </tr>\n",
       "  </tbody>\n",
       "</table>\n",
       "</div>"
      ],
      "text/plain": [
       "   magnesium   ash  alcalinity_of_ash  target\n",
       "0      127.0  2.43               15.6     0.0\n",
       "1      100.0  2.14               11.2     0.0\n",
       "2      101.0  2.67               18.6     0.0\n",
       "3      113.0  2.50               16.8     0.0\n",
       "4      118.0  2.87               21.0     0.0"
      ]
     },
     "execution_count": 192,
     "metadata": {},
     "output_type": "execute_result"
    }
   ],
   "source": [
    "wine = datasets.load_wine() \n",
    "wine = pd.DataFrame(\n",
    "    data=np.c_[wine['data'], wine['target']], \n",
    "    columns=wine['feature_names'] + ['target'] \n",
    ")\n",
    "wine = wine[['magnesium', 'ash', 'alcalinity_of_ash', 'target']]\n",
    "wine.head()"
   ]
  },
  {
   "cell_type": "markdown",
   "id": "ec1c15e5",
   "metadata": {},
   "source": [
    "The goal with this dataset is to predict which kind of wine a particular row contains the data for.  There are three classes: 0, 1, and 2.\n",
    "\n",
    "Notice that the means and standard deviations are wildly different between columns."
   ]
  },
  {
   "cell_type": "code",
   "execution_count": 193,
   "id": "980d1519",
   "metadata": {},
   "outputs": [
    {
     "data": {
      "text/plain": [
       "magnesium            99.741573\n",
       "ash                   2.366517\n",
       "alcalinity_of_ash    19.494944\n",
       "target                0.938202\n",
       "dtype: float64"
      ]
     },
     "execution_count": 193,
     "metadata": {},
     "output_type": "execute_result"
    }
   ],
   "source": [
    "wine.mean(axis = 0)"
   ]
  },
  {
   "cell_type": "code",
   "execution_count": 194,
   "id": "3fcadd4d",
   "metadata": {},
   "outputs": [
    {
     "data": {
      "text/plain": [
       "magnesium            14.282484\n",
       "ash                   0.274344\n",
       "alcalinity_of_ash     3.339564\n",
       "target                0.775035\n",
       "dtype: float64"
      ]
     },
     "execution_count": 194,
     "metadata": {},
     "output_type": "execute_result"
    }
   ],
   "source": [
    "wine.std(axis = 0)"
   ]
  },
  {
   "cell_type": "markdown",
   "id": "4d5d50e8",
   "metadata": {},
   "source": [
    "We train a K-Nearest Neighbors classifier and then check its performance on the unscaled data.\n",
    "\n",
    "To know that scaling is actually working, we need to perform the exact same train-test split for the unscaled data and the scaled data.  To accomplish this, we randomly select 25% of the indices in the wine dataset to select the test set. "
   ]
  },
  {
   "cell_type": "code",
   "execution_count": 195,
   "id": "35df5fc1",
   "metadata": {},
   "outputs": [],
   "source": [
    "test_indices = np.random.choice(np.arange(178), size = (45,), replace = False)"
   ]
  },
  {
   "cell_type": "markdown",
   "id": "bf484ec6",
   "metadata": {},
   "source": [
    "Create train and test sets."
   ]
  },
  {
   "cell_type": "code",
   "execution_count": 196,
   "id": "205c61a8",
   "metadata": {},
   "outputs": [],
   "source": [
    "train = wine.loc[[x for x in range(178) if x not in test_indices]]\n",
    "test = wine.loc[test_indices]"
   ]
  },
  {
   "cell_type": "code",
   "execution_count": 197,
   "id": "fdf9596a",
   "metadata": {},
   "outputs": [],
   "source": [
    "X_train = train.iloc[:, :-1]\n",
    "y_train = train.iloc[:, -1:].to_numpy().ravel()\n",
    "X_test = train.iloc[:, :-1]\n",
    "y_test = train.iloc[:, -1:].to_numpy().ravel()"
   ]
  },
  {
   "cell_type": "markdown",
   "id": "b988996c",
   "metadata": {},
   "source": [
    "Train the classifier."
   ]
  },
  {
   "cell_type": "code",
   "execution_count": 198,
   "id": "157edd4d",
   "metadata": {},
   "outputs": [
    {
     "data": {
      "text/plain": [
       "KNeighborsClassifier()"
      ]
     },
     "execution_count": 198,
     "metadata": {},
     "output_type": "execute_result"
    }
   ],
   "source": [
    "knn = KNeighborsClassifier() \n",
    "knn.fit(X_train, y_train) "
   ]
  },
  {
   "cell_type": "markdown",
   "id": "34387929",
   "metadata": {},
   "source": [
    "We now find the predicted y values for our test set."
   ]
  },
  {
   "cell_type": "code",
   "execution_count": 199,
   "id": "fec30f67",
   "metadata": {},
   "outputs": [],
   "source": [
    "y_pred = knn.predict(X_test)"
   ]
  },
  {
   "cell_type": "markdown",
   "id": "08abbfb7",
   "metadata": {},
   "source": [
    "And the accuracy is ..."
   ]
  },
  {
   "cell_type": "code",
   "execution_count": 200,
   "id": "094cf1c6",
   "metadata": {},
   "outputs": [
    {
     "data": {
      "text/plain": [
       "0.7443609022556391"
      ]
     },
     "execution_count": 200,
     "metadata": {},
     "output_type": "execute_result"
    }
   ],
   "source": [
    "(y_pred == y_test).sum()/len(y_pred)"
   ]
  },
  {
   "cell_type": "markdown",
   "id": "d1ad8102",
   "metadata": {},
   "source": [
    "Lets see what happens when we scale the columns first."
   ]
  },
  {
   "cell_type": "code",
   "execution_count": 201,
   "id": "252e0568",
   "metadata": {},
   "outputs": [
    {
     "data": {
      "text/plain": [
       "['magnesium', 'ash', 'alcalinity_of_ash']"
      ]
     },
     "execution_count": 201,
     "metadata": {},
     "output_type": "execute_result"
    }
   ],
   "source": [
    "cols_to_scale = list(wine.columns)\n",
    "cols_to_scale.remove('target')\n",
    "cols_to_scale"
   ]
  },
  {
   "cell_type": "code",
   "execution_count": 202,
   "id": "08282ffa",
   "metadata": {},
   "outputs": [],
   "source": [
    "scaler=StandardScaler()\n",
    "wine[cols_to_scale] = scaler.fit_transform(wine[cols_to_scale])"
   ]
  },
  {
   "cell_type": "code",
   "execution_count": 205,
   "id": "62163229",
   "metadata": {},
   "outputs": [
    {
     "data": {
      "text/plain": [
       "magnesium           -2.494883e-17\n",
       "ash                 -4.059175e-15\n",
       "alcalinity_of_ash   -7.110417e-17\n",
       "dtype: float64"
      ]
     },
     "execution_count": 205,
     "metadata": {},
     "output_type": "execute_result"
    }
   ],
   "source": [
    "wine[cols_to_scale].mean(axis = 0)"
   ]
  },
  {
   "cell_type": "code",
   "execution_count": 204,
   "id": "2ba697ac",
   "metadata": {},
   "outputs": [
    {
     "data": {
      "text/plain": [
       "magnesium            1.002821\n",
       "ash                  1.002821\n",
       "alcalinity_of_ash    1.002821\n",
       "dtype: float64"
      ]
     },
     "execution_count": 204,
     "metadata": {},
     "output_type": "execute_result"
    }
   ],
   "source": [
    "wine[cols_to_scale].std(axis = 0)"
   ]
  },
  {
   "cell_type": "markdown",
   "id": "d1a42ebe",
   "metadata": {},
   "source": [
    "We have the same train test split because we use the same test_indices. "
   ]
  },
  {
   "cell_type": "code",
   "execution_count": 187,
   "id": "5c74cdba",
   "metadata": {},
   "outputs": [],
   "source": [
    "train = wine.loc[[x for x in range(178) if x not in test_indices]]\n",
    "test = wine.loc[test_indices]"
   ]
  },
  {
   "cell_type": "code",
   "execution_count": 188,
   "id": "9e7b44cc",
   "metadata": {},
   "outputs": [],
   "source": [
    "X_train = train.iloc[:, :-1]\n",
    "y_train = train.iloc[:, -1:].to_numpy().ravel()\n",
    "X_test = train.iloc[:, :-1]\n",
    "y_test = train.iloc[:, -1:].to_numpy().ravel()"
   ]
  },
  {
   "cell_type": "code",
   "execution_count": 189,
   "id": "f4434bc9",
   "metadata": {},
   "outputs": [
    {
     "data": {
      "text/plain": [
       "KNeighborsClassifier()"
      ]
     },
     "execution_count": 189,
     "metadata": {},
     "output_type": "execute_result"
    }
   ],
   "source": [
    "knn = KNeighborsClassifier() \n",
    "knn.fit(X_train, y_train)"
   ]
  },
  {
   "cell_type": "code",
   "execution_count": 190,
   "id": "e7431e54",
   "metadata": {},
   "outputs": [],
   "source": [
    "y_pred = knn.predict(X_test)"
   ]
  },
  {
   "cell_type": "markdown",
   "id": "889f8dd4",
   "metadata": {},
   "source": [
    "The model performs better."
   ]
  },
  {
   "cell_type": "code",
   "execution_count": 191,
   "id": "fa867de3",
   "metadata": {},
   "outputs": [
    {
     "data": {
      "text/plain": [
       "0.8045112781954887"
      ]
     },
     "execution_count": 191,
     "metadata": {},
     "output_type": "execute_result"
    }
   ],
   "source": [
    "(y_pred == y_test).sum()/len(y_pred)"
   ]
  },
  {
   "cell_type": "markdown",
   "id": "52d4cfc9",
   "metadata": {},
   "source": [
    "$\\Box$"
   ]
  },
  {
   "cell_type": "code",
   "execution_count": null,
   "id": "216e1091",
   "metadata": {},
   "outputs": [],
   "source": []
  }
 ],
 "metadata": {
  "kernelspec": {
   "display_name": "Python 3 (ipykernel)",
   "language": "python",
   "name": "python3"
  },
  "language_info": {
   "codemirror_mode": {
    "name": "ipython",
    "version": 3
   },
   "file_extension": ".py",
   "mimetype": "text/x-python",
   "name": "python",
   "nbconvert_exporter": "python",
   "pygments_lexer": "ipython3",
   "version": "3.9.12"
  }
 },
 "nbformat": 4,
 "nbformat_minor": 5
}
