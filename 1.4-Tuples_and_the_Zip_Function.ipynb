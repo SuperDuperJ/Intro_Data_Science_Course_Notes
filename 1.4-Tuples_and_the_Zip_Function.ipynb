{
 "cells": [
  {
   "cell_type": "markdown",
   "id": "8d15765f",
   "metadata": {},
   "source": [
    "#### Tuples\n",
    "\n",
    "A *2-tuple* is an ordered pair like $(x,y)$.  A *3-tuple* is an ordered triple $(x,y,z)$.  *4-tuples*, *5-tuples*, etc are defined analagously.\n",
    "\n",
    "Tuples are a lot like lists, except that they are *immutable*.  This means that the elements in a tuple cannot be changed.  Lists are *mutable* meaning that the elements in a list can be changed.\n",
    "\n",
    "##### Example 1"
   ]
  },
  {
   "cell_type": "code",
   "execution_count": 1,
   "id": "cd0eebad",
   "metadata": {},
   "outputs": [
    {
     "data": {
      "text/plain": [
       "(2, 'word')"
      ]
     },
     "execution_count": 1,
     "metadata": {},
     "output_type": "execute_result"
    }
   ],
   "source": [
    "#A tuple\n",
    "tup = (2,'word')\n",
    "tup"
   ]
  },
  {
   "cell_type": "markdown",
   "id": "a0540b74",
   "metadata": {},
   "source": [
    "Tuples can be indexed in exactly the same way as lists."
   ]
  },
  {
   "cell_type": "code",
   "execution_count": 2,
   "id": "a85b10f1",
   "metadata": {},
   "outputs": [
    {
     "data": {
      "text/plain": [
       "2"
      ]
     },
     "execution_count": 2,
     "metadata": {},
     "output_type": "execute_result"
    }
   ],
   "source": [
    "tup[0]"
   ]
  },
  {
   "cell_type": "code",
   "execution_count": 3,
   "id": "7b5db0a6",
   "metadata": {},
   "outputs": [
    {
     "data": {
      "text/plain": [
       "'word'"
      ]
     },
     "execution_count": 3,
     "metadata": {},
     "output_type": "execute_result"
    }
   ],
   "source": [
    "tup[1]"
   ]
  },
  {
   "cell_type": "markdown",
   "id": "f4df8cfc",
   "metadata": {},
   "source": [
    "Since tuples are immutable, we cannot reassign the values of tup$[0]$ or tup$[1]$."
   ]
  },
  {
   "cell_type": "code",
   "execution_count": 4,
   "id": "684ca7bd",
   "metadata": {},
   "outputs": [
    {
     "ename": "TypeError",
     "evalue": "'tuple' object does not support item assignment",
     "output_type": "error",
     "traceback": [
      "\u001b[1;31m---------------------------------------------------------------------------\u001b[0m",
      "\u001b[1;31mTypeError\u001b[0m                                 Traceback (most recent call last)",
      "Input \u001b[1;32mIn [4]\u001b[0m, in \u001b[0;36m<cell line: 1>\u001b[1;34m()\u001b[0m\n\u001b[1;32m----> 1\u001b[0m tup[\u001b[38;5;241m1\u001b[39m]\u001b[38;5;241m=\u001b[39m\u001b[38;5;241m3\u001b[39m\n",
      "\u001b[1;31mTypeError\u001b[0m: 'tuple' object does not support item assignment"
     ]
    }
   ],
   "source": [
    "tup[1]=3"
   ]
  },
  {
   "cell_type": "markdown",
   "id": "6d876a0f",
   "metadata": {},
   "source": [
    "$\\Box$\n",
    "\n",
    "Even though tuples themselves are immutable, it is possible to have a tuple contain mutable elements.\n",
    "\n",
    "##### Example 2"
   ]
  },
  {
   "cell_type": "code",
   "execution_count": 1,
   "id": "3fc35f49",
   "metadata": {},
   "outputs": [
    {
     "data": {
      "text/plain": [
       "([1, 2], ['a', 'b'])"
      ]
     },
     "execution_count": 1,
     "metadata": {},
     "output_type": "execute_result"
    }
   ],
   "source": [
    "tup = ([1,2],['a','b'])\n",
    "tup"
   ]
  },
  {
   "cell_type": "code",
   "execution_count": 2,
   "id": "cb7caae1",
   "metadata": {},
   "outputs": [
    {
     "data": {
      "text/plain": [
       "([1, 3], ['a', 'b'])"
      ]
     },
     "execution_count": 2,
     "metadata": {},
     "output_type": "execute_result"
    }
   ],
   "source": [
    "tup[0][1]=3\n",
    "tup"
   ]
  },
  {
   "cell_type": "code",
   "execution_count": 3,
   "id": "b9cc0b77",
   "metadata": {},
   "outputs": [
    {
     "data": {
      "text/plain": [
       "([1, 3], ['a', 'b', 'e'])"
      ]
     },
     "execution_count": 3,
     "metadata": {},
     "output_type": "execute_result"
    }
   ],
   "source": [
    "tup[1].append('e')\n",
    "tup"
   ]
  },
  {
   "cell_type": "markdown",
   "id": "cca8fafc",
   "metadata": {},
   "source": [
    "$\\Box$\n",
    "\n",
    "You can add two tuples to make a new tuple, just like with lists.\n",
    "\n",
    "##### Example 3"
   ]
  },
  {
   "cell_type": "code",
   "execution_count": 1,
   "id": "35eece77",
   "metadata": {},
   "outputs": [
    {
     "data": {
      "text/plain": [
       "(1, 2, 3)"
      ]
     },
     "execution_count": 1,
     "metadata": {},
     "output_type": "execute_result"
    }
   ],
   "source": [
    "tup1 = (1,2,3)\n",
    "tup1"
   ]
  },
  {
   "cell_type": "code",
   "execution_count": 3,
   "id": "36cf538b",
   "metadata": {},
   "outputs": [
    {
     "data": {
      "text/plain": [
       "('a', 'b', 'c')"
      ]
     },
     "execution_count": 3,
     "metadata": {},
     "output_type": "execute_result"
    }
   ],
   "source": [
    "tup2 = ('a','b','c')\n",
    "tup2"
   ]
  },
  {
   "cell_type": "code",
   "execution_count": 4,
   "id": "92409479",
   "metadata": {},
   "outputs": [
    {
     "data": {
      "text/plain": [
       "(1, 2, 3, 'a', 'b', 'c')"
      ]
     },
     "execution_count": 4,
     "metadata": {},
     "output_type": "execute_result"
    }
   ],
   "source": [
    "tup1 + tup2"
   ]
  },
  {
   "cell_type": "markdown",
   "id": "b392828d",
   "metadata": {},
   "source": [
    "$\\Box$\n",
    "\n",
    "You can convert a list to a tuple using the *tuple* type function.\n",
    "\n",
    "##### Example 4"
   ]
  },
  {
   "cell_type": "code",
   "execution_count": 7,
   "id": "0ffb81b2",
   "metadata": {},
   "outputs": [
    {
     "data": {
      "text/plain": [
       "list"
      ]
     },
     "execution_count": 7,
     "metadata": {},
     "output_type": "execute_result"
    }
   ],
   "source": [
    "x = [1,2,5,9]\n",
    "type(x)"
   ]
  },
  {
   "cell_type": "code",
   "execution_count": 11,
   "id": "c9e30eb7",
   "metadata": {},
   "outputs": [
    {
     "data": {
      "text/plain": [
       "(1, 2, 5, 9)"
      ]
     },
     "execution_count": 11,
     "metadata": {},
     "output_type": "execute_result"
    }
   ],
   "source": [
    "y = tuple(x)\n",
    "y"
   ]
  },
  {
   "cell_type": "code",
   "execution_count": 12,
   "id": "801795b8",
   "metadata": {},
   "outputs": [
    {
     "data": {
      "text/plain": [
       "tuple"
      ]
     },
     "execution_count": 12,
     "metadata": {},
     "output_type": "execute_result"
    }
   ],
   "source": [
    "type(y)"
   ]
  },
  {
   "cell_type": "code",
   "execution_count": 13,
   "id": "3d7b5b47",
   "metadata": {},
   "outputs": [
    {
     "data": {
      "text/plain": [
       "list"
      ]
     },
     "execution_count": 13,
     "metadata": {},
     "output_type": "execute_result"
    }
   ],
   "source": [
    "type(x)"
   ]
  },
  {
   "cell_type": "markdown",
   "id": "22126f95",
   "metadata": {},
   "source": [
    "$\\Box$\n",
    "\n",
    "Tuples can be *unpacked*.\n",
    "\n",
    "##### Example 5"
   ]
  },
  {
   "cell_type": "code",
   "execution_count": 17,
   "id": "9aa0d743",
   "metadata": {},
   "outputs": [],
   "source": [
    "x,y,z = (1,2,3)"
   ]
  },
  {
   "cell_type": "code",
   "execution_count": 18,
   "id": "60a3c415",
   "metadata": {},
   "outputs": [
    {
     "data": {
      "text/plain": [
       "1"
      ]
     },
     "execution_count": 18,
     "metadata": {},
     "output_type": "execute_result"
    }
   ],
   "source": [
    "x"
   ]
  },
  {
   "cell_type": "code",
   "execution_count": 19,
   "id": "28ec5224",
   "metadata": {},
   "outputs": [
    {
     "data": {
      "text/plain": [
       "2"
      ]
     },
     "execution_count": 19,
     "metadata": {},
     "output_type": "execute_result"
    }
   ],
   "source": [
    "y"
   ]
  },
  {
   "cell_type": "code",
   "execution_count": 20,
   "id": "c161602c",
   "metadata": {},
   "outputs": [
    {
     "data": {
      "text/plain": [
       "3"
      ]
     },
     "execution_count": 20,
     "metadata": {},
     "output_type": "execute_result"
    }
   ],
   "source": [
    "z"
   ]
  },
  {
   "cell_type": "markdown",
   "id": "d11abecf",
   "metadata": {},
   "source": [
    "$\\Box$\n",
    "\n",
    "##### Exercise 1\n",
    "\n",
    "Write code so that the following function performs the way that its docstring indicates.  \n",
    "\n",
    "Examples: sum_terms($[(1,2),(3,4),(5,6)]$) should output (9,12).\n",
    "\n",
    "sum_terms($[(1,$'$a$'$),(2,$'$b$'$),(3,$'$c$'$)]$) should output (6,'abc')."
   ]
  },
  {
   "cell_type": "code",
   "execution_count": 64,
   "id": "f6ea130c",
   "metadata": {},
   "outputs": [],
   "source": [
    "def sum_terms(list_of_two_tuples):\n",
    "    \"\"\"\n",
    "    Parameters\n",
    "    ------------\n",
    "    list_of_two_tuples: list whose elements are 2-tuples of integers.\n",
    "    \n",
    "    Returns\n",
    "    ------------\n",
    "    2-tuple (x,y) where x is the sum of all 0 indexed elements and y is sum of all 1 indexed elements\n",
    "    \"\"\"  "
   ]
  },
  {
   "cell_type": "code",
   "execution_count": null,
   "id": "54e76539",
   "metadata": {},
   "outputs": [],
   "source": [
    "#Run this block to test your code\n",
    "import numpy as np\n",
    "\n",
    "if not np.allclose(sum_terms([(1,5),(2,3),(1,1),(10,20)]),(14,29),atol=1e-10):\n",
    "    print(\"Something is wrong with your code.\")\n",
    "elif not np.allclose(sum_terms([(1,5),(2,3),(3,1),(4,20)]),(10,29),atol=1e-10):\n",
    "    print(\"Something is wrong with your code.\")\n",
    "else:\n",
    "    print(\"All tests passed.\")"
   ]
  },
  {
   "cell_type": "markdown",
   "id": "4032a752",
   "metadata": {},
   "source": [
    "##### Example 6"
   ]
  },
  {
   "cell_type": "code",
   "execution_count": 5,
   "id": "88eb52bf",
   "metadata": {},
   "outputs": [
    {
     "name": "stdout",
     "output_type": "stream",
     "text": [
      "Brad Pitt gets a grade of B+ for his acting.\n",
      "Val Klimer gets a grade of A for his acting.\n",
      "Keanu Reeves gets a grade of C for his acting.\n"
     ]
    }
   ],
   "source": [
    "grades = [('Brad Pitt', 'B+'), ('Val Klimer', 'A'), ('Keanu Reeves', 'C') ]\n",
    "\n",
    "for x,y in grades:\n",
    "    print(f'{x} gets a grade of {y} for his acting.')"
   ]
  },
  {
   "cell_type": "markdown",
   "id": "e6eb5243",
   "metadata": {},
   "source": [
    "$\\Box$\n",
    "\n",
    "The *count* method returns the number of instances of an element in a tuple.\n",
    "\n",
    "##### Example 7"
   ]
  },
  {
   "cell_type": "code",
   "execution_count": 23,
   "id": "5b00a358",
   "metadata": {},
   "outputs": [
    {
     "data": {
      "text/plain": [
       "3"
      ]
     },
     "execution_count": 23,
     "metadata": {},
     "output_type": "execute_result"
    }
   ],
   "source": [
    "tup = ('a','b','c','b','b')\n",
    "tup.count('b')"
   ]
  },
  {
   "cell_type": "code",
   "execution_count": 24,
   "id": "fc19b26b",
   "metadata": {},
   "outputs": [
    {
     "data": {
      "text/plain": [
       "0"
      ]
     },
     "execution_count": 24,
     "metadata": {},
     "output_type": "execute_result"
    }
   ],
   "source": [
    "tup.count(5)"
   ]
  },
  {
   "cell_type": "markdown",
   "id": "dd5e339c",
   "metadata": {},
   "source": [
    "$\\Box$\n",
    "\n",
    "#### The Zip Function\n",
    "\n",
    "The *Zip* function takes two (or more) lists (or tuples) and creates a list of tuples with the first two elements (of each list) in one tuple, the second two elements in the second tuple, etc.\n",
    "\n",
    "##### Example 8"
   ]
  },
  {
   "cell_type": "code",
   "execution_count": 6,
   "id": "564b9464",
   "metadata": {},
   "outputs": [
    {
     "data": {
      "text/plain": [
       "[0, 1, 2, 3, 4]"
      ]
     },
     "execution_count": 6,
     "metadata": {},
     "output_type": "execute_result"
    }
   ],
   "source": [
    "list1 = list(range(5))\n",
    "list1"
   ]
  },
  {
   "cell_type": "code",
   "execution_count": 7,
   "id": "48ca4048",
   "metadata": {},
   "outputs": [
    {
     "data": {
      "text/plain": [
       "['a', 'b', 'c', 'd', 'e']"
      ]
     },
     "execution_count": 7,
     "metadata": {},
     "output_type": "execute_result"
    }
   ],
   "source": [
    "list2 = ['a','b','c','d','e']\n",
    "list2"
   ]
  },
  {
   "cell_type": "markdown",
   "id": "df8b7398",
   "metadata": {},
   "source": [
    "When list1 and list2 are zipped together, we get an address of where this list of tuples lives in computer memory."
   ]
  },
  {
   "cell_type": "code",
   "execution_count": 8,
   "id": "9aad829e",
   "metadata": {},
   "outputs": [
    {
     "data": {
      "text/plain": [
       "<zip at 0x125f4502700>"
      ]
     },
     "execution_count": 8,
     "metadata": {},
     "output_type": "execute_result"
    }
   ],
   "source": [
    "zipped = zip(list1,list2)\n",
    "zipped"
   ]
  },
  {
   "cell_type": "markdown",
   "id": "b23ac589",
   "metadata": {},
   "source": [
    "To see what we actually have in memory, use the list type function."
   ]
  },
  {
   "cell_type": "code",
   "execution_count": 9,
   "id": "3f3623e2",
   "metadata": {},
   "outputs": [
    {
     "data": {
      "text/plain": [
       "[(0, 'a'), (1, 'b'), (2, 'c'), (3, 'd'), (4, 'e')]"
      ]
     },
     "execution_count": 9,
     "metadata": {},
     "output_type": "execute_result"
    }
   ],
   "source": [
    "list(zipped)"
   ]
  },
  {
   "cell_type": "markdown",
   "id": "93d97526",
   "metadata": {},
   "source": [
    "$\\Box$\n",
    "\n",
    "Three lists can be zipped together as well.\n",
    "\n",
    "##### Example 9"
   ]
  },
  {
   "cell_type": "code",
   "execution_count": 10,
   "id": "df4f0876",
   "metadata": {},
   "outputs": [
    {
     "data": {
      "text/plain": [
       "['a', 'b', 'c', 'd', 'e']"
      ]
     },
     "execution_count": 10,
     "metadata": {},
     "output_type": "execute_result"
    }
   ],
   "source": [
    "list2"
   ]
  },
  {
   "cell_type": "code",
   "execution_count": 36,
   "id": "acef506b",
   "metadata": {},
   "outputs": [
    {
     "data": {
      "text/plain": [
       "['A', 'B', 'C', 'D', 'E']"
      ]
     },
     "execution_count": 36,
     "metadata": {},
     "output_type": "execute_result"
    }
   ],
   "source": [
    "list3 = [x.upper() for x in list2]\n",
    "list3"
   ]
  },
  {
   "cell_type": "code",
   "execution_count": 41,
   "id": "d43f976b",
   "metadata": {},
   "outputs": [
    {
     "data": {
      "text/plain": [
       "[('a', 0, 'A'), ('b', 1, 'B'), ('c', 2, 'C'), ('d', 3, 'D'), ('e', 4, 'E')]"
      ]
     },
     "execution_count": 41,
     "metadata": {},
     "output_type": "execute_result"
    }
   ],
   "source": [
    "newly_zipped = list(zip(list2, list1, list3))\n",
    "newly_zipped"
   ]
  },
  {
   "cell_type": "markdown",
   "id": "b3767e77",
   "metadata": {},
   "source": [
    "$\\Box$\n",
    "\n",
    "The *enumerate* function is a special case of zip.\n",
    "\n",
    "##### Example 10"
   ]
  },
  {
   "cell_type": "code",
   "execution_count": 57,
   "id": "d33879f9",
   "metadata": {},
   "outputs": [
    {
     "data": {
      "text/plain": [
       "<enumerate at 0x2af71172340>"
      ]
     },
     "execution_count": 57,
     "metadata": {},
     "output_type": "execute_result"
    }
   ],
   "source": [
    "B = ['bob', 'steve', 'tim']\n",
    "enumerate(B)"
   ]
  },
  {
   "cell_type": "code",
   "execution_count": 58,
   "id": "23bbef1b",
   "metadata": {},
   "outputs": [
    {
     "data": {
      "text/plain": [
       "[(0, 'bob'), (1, 'steve'), (2, 'tim')]"
      ]
     },
     "execution_count": 58,
     "metadata": {},
     "output_type": "execute_result"
    }
   ],
   "source": [
    "list(enumerate(B))"
   ]
  },
  {
   "cell_type": "code",
   "execution_count": 59,
   "id": "cba769e7",
   "metadata": {},
   "outputs": [
    {
     "data": {
      "text/plain": [
       "[(0, 'bob'), (1, 'steve'), (2, 'tim')]"
      ]
     },
     "execution_count": 59,
     "metadata": {},
     "output_type": "execute_result"
    }
   ],
   "source": [
    "list(zip(range(3),B))"
   ]
  },
  {
   "cell_type": "markdown",
   "id": "9c71c924",
   "metadata": {},
   "source": [
    "$\\Box$\n",
    "\n",
    "##### Exercise 2\n",
    "\n",
    "Write code so that the following function performs the way that its docstring indicates.  \n",
    "\n",
    "Examples: indices($[1,2,1,2,3,1]$, 1) should return (0,2,5).\n",
    "\n",
    "indices($[$'all', 'tall', 'ball', 'small', 'all'$]$, 'all') should return (0,4)."
   ]
  },
  {
   "cell_type": "code",
   "execution_count": 4,
   "id": "29700c6e",
   "metadata": {},
   "outputs": [],
   "source": [
    "def indices(some_list, element):\n",
    "    \"\"\"\n",
    "    Parameters\n",
    "    ------------\n",
    "    some_list: list\n",
    "    \n",
    "    element: an element in the list\n",
    "    \n",
    "    Returns\n",
    "    ------------\n",
    "    Tuple containing all indices (in order) for which element appears in some_list.\n",
    "    \"\"\" "
   ]
  },
  {
   "cell_type": "code",
   "execution_count": null,
   "id": "e43d7b49",
   "metadata": {},
   "outputs": [],
   "source": [
    "#Run this block to test your code\n",
    "import numpy as np\n",
    "\n",
    "if not np.allclose(indices([2,5,7,3,4,2,2,4,2],2),(0,5,6,8),atol=1e-10):\n",
    "    print(\"Something is wrong with your code.\")\n",
    "elif not np.allclose(indices(['a','s', 'w','s','s'],'s'),(1,3,4),atol=1e-10):\n",
    "    print(\"Something is wrong with your code.\")\n",
    "else:\n",
    "    print(\"All tests passed.\")"
   ]
  }
 ],
 "metadata": {
  "kernelspec": {
   "display_name": "Python 3 (ipykernel)",
   "language": "python",
   "name": "python3"
  },
  "language_info": {
   "codemirror_mode": {
    "name": "ipython",
    "version": 3
   },
   "file_extension": ".py",
   "mimetype": "text/x-python",
   "name": "python",
   "nbconvert_exporter": "python",
   "pygments_lexer": "ipython3",
   "version": "3.9.12"
  }
 },
 "nbformat": 4,
 "nbformat_minor": 5
}
