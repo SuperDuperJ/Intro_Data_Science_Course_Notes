{
 "cells": [
  {
   "cell_type": "markdown",
   "id": "c2f3c204",
   "metadata": {},
   "source": [
    "##### Exercise 1\n",
    "\n",
    "Write code so that the following function performs the way that its docstring indicates.\n",
    "\n",
    "Example: day_of_week(23) should return Saturday.\n",
    "\n",
    "day_of_week(15) should return Friday."
   ]
  },
  {
   "cell_type": "code",
   "execution_count": 8,
   "id": "ef5901b9",
   "metadata": {},
   "outputs": [],
   "source": [
    "def day_of_week(day):\n",
    "    \"\"\"\n",
    "    Parameters\n",
    "    -----------\n",
    "    day: int, the numeric day as in 12-day-2023.  For example, if the date is 12-25-2023, day is 25.\n",
    "    \n",
    "    Returns\n",
    "    -----------\n",
    "    String: The day of the week (Sunday, Monday, ... , Saturday) that 12-day-2023 falls on.\n",
    "    \"\"\"\n",
    "    if day%7 == 0:\n",
    "        return 'Thursday'\n",
    "    elif day%7 == 1:\n",
    "        return 'Friday'\n",
    "    elif day%7 == 2:\n",
    "        return 'Saturday'\n",
    "    elif day%7 == 3:\n",
    "        return 'Sunday'\n",
    "    elif day%7 == 4:\n",
    "        return 'Monday'\n",
    "    elif day%7 == 5:\n",
    "        return 'Tuesday'\n",
    "    else:\n",
    "        return 'Wednesday'    "
   ]
  },
  {
   "cell_type": "code",
   "execution_count": 9,
   "id": "5be114ca",
   "metadata": {},
   "outputs": [
    {
     "name": "stdout",
     "output_type": "stream",
     "text": [
      "All tests passed.\n"
     ]
    }
   ],
   "source": [
    "if day_of_week(25).lower() != 'monday':\n",
    "    print(\"Something is wrong with your code.\")\n",
    "elif day_of_week(5).lower() != 'tuesday':\n",
    "    print(\"Something is wrong with your code.\")\n",
    "else:\n",
    "    print(\"All tests passed.\")"
   ]
  },
  {
   "cell_type": "markdown",
   "id": "e092b987",
   "metadata": {},
   "source": [
    "##### Exercise 2\n",
    "\n",
    "Write code so that the following function performs the way that its docstring indicates.\n",
    "\n",
    "Example: least_common_multiple(2,3) should output 6.\n",
    "\n",
    "least_common_multiple(12,8) should output 24.\n",
    "\n",
    "------------\n",
    "\n",
    "So, what is the Least Common Multiple (LCM)?\n",
    "\n",
    "------------\n",
    "\n",
    "Sub-Example: Find the LCM of 2 and 3.\n",
    "\n",
    "Multiples of 2: 2, 4, 6, 8, 10, 12, ...\n",
    "\n",
    "Multiples of 3: 3, 6, 9, 12, 15,...\n",
    "\n",
    "Common Multiples of 2 and 3: 6, 12, 18, ...\n",
    "\n",
    "Least of the Common Multiples: 6\n",
    "\n",
    "LCM(2,3) = 6\n",
    "\n",
    "------------------\n",
    "\n",
    "Sub-Example: LCM(12,8) = ?\n",
    "\n",
    "Bigger of 12 and 8: 12\n",
    "\n",
    "Multiples of 12: 12, 24, 36, ...\n",
    "\n",
    "Smallest Multiple of 12 that 8 Divides Evenly Into: 24\n",
    "\n",
    "LCM(12,8) = 24"
   ]
  },
  {
   "cell_type": "code",
   "execution_count": 10,
   "id": "7963c7dd",
   "metadata": {},
   "outputs": [],
   "source": [
    "def least_common_multiple(A,B):\n",
    "    \"\"\"\n",
    "    Parameters\n",
    "    -----------\n",
    "    A: positive integer\n",
    "    B: positive integer\n",
    "    \n",
    "    Returns\n",
    "    -----------\n",
    "    Integer: The least common multiple of A and B.\n",
    "    \"\"\"\n",
    "    #Ensure A>=B\n",
    "    if A<B:\n",
    "        A, B = B, A\n",
    "    while A%B != 0:\n",
    "        A += A\n",
    "    return A"
   ]
  },
  {
   "cell_type": "code",
   "execution_count": 11,
   "id": "77bbdb91",
   "metadata": {},
   "outputs": [
    {
     "name": "stdout",
     "output_type": "stream",
     "text": [
      "All tests passed.\n"
     ]
    }
   ],
   "source": [
    "if least_common_multiple(2,3) != 6:\n",
    "    print(\"Something is wrong with your code.\")\n",
    "elif least_common_multiple(270, 192) != 8640:\n",
    "    print(\"Something is wrong with your code.\")\n",
    "else:\n",
    "    print(\"All tests passed.\")"
   ]
  },
  {
   "cell_type": "markdown",
   "id": "9ac3dead",
   "metadata": {},
   "source": [
    "##### Exercise 3\n",
    "\n",
    "Write code so that the following function performs the way that its docstring indicates.\n",
    "\n",
    "Example: two_product_problem([2,5,4,7,3], 6) should return (0,4) or (4,0).\n",
    "\n",
    "two_product_problem([2,5,4,7,3,9,10,23,15], 27) should return (4,5) or (5,4)."
   ]
  },
  {
   "cell_type": "code",
   "execution_count": 17,
   "id": "bc7b7cd3",
   "metadata": {},
   "outputs": [],
   "source": [
    "def two_product_problem(X, target):\n",
    "    \"\"\"\n",
    "    Parameters\n",
    "    -----------\n",
    "    X: list\n",
    "    target: integer\n",
    "    \n",
    "    Returns\n",
    "    -----------\n",
    "    tuple containing the indices of elements of X whose product is target, if they exist and (-1,-1) otherwise.\n",
    "    \"\"\"\n",
    "    D = {}\n",
    "    for x in X:\n",
    "        if int(target/x) in D:\n",
    "            print(D)\n",
    "            return D[target/x], X.index(x)\n",
    "        else:\n",
    "            D[x] = X.index(x)\n",
    "    return (-1,-1)"
   ]
  },
  {
   "cell_type": "code",
   "execution_count": 8,
   "id": "24ddd8fb",
   "metadata": {},
   "outputs": [
    {
     "data": {
      "text/plain": [
       "2"
      ]
     },
     "execution_count": 8,
     "metadata": {},
     "output_type": "execute_result"
    }
   ],
   "source": [
    "int(2.5)"
   ]
  },
  {
   "cell_type": "code",
   "execution_count": 20,
   "id": "40e2cf4a",
   "metadata": {},
   "outputs": [
    {
     "name": "stdout",
     "output_type": "stream",
     "text": [
      "{2: 0}\n",
      "{3: 4}\n",
      "All tests passed.\n"
     ]
    }
   ],
   "source": [
    "if two_product_problem([2,5,4,7,3], 6) != (0,4) and two_product_problem([2,5,4,7,3], 6) != (4,0):\n",
    "    print(\"Something is wrong with your code.\")\n",
    "elif two_product_problem([2,5,4,7,3,9,10,23,15], 27) != (4,5) and two_product_problem([2,5,4,7,3,9,10,23,15], 27) != (5,4):\n",
    "    print(\"Something is wrong with your code.\")\n",
    "else:\n",
    "    print(\"All tests passed.\")"
   ]
  },
  {
   "cell_type": "code",
   "execution_count": 19,
   "id": "ebc571e8",
   "metadata": {},
   "outputs": [],
   "source": [
    "#Solution 2\n",
    "def two_product_problem(X, target):\n",
    "    \"\"\"\n",
    "    Parameters\n",
    "    -----------\n",
    "    X: list\n",
    "    target: integer\n",
    "    \n",
    "    Returns\n",
    "    -----------\n",
    "    tuple containing the indices of elements of X whose product is target, if they exist and (-1,-1) otherwise.\n",
    "    \"\"\"\n",
    "    D = {}\n",
    "    for x in X:\n",
    "        if int(target/x) not in D:\n",
    "            if target%x == 0:\n",
    "                D[x] = X.index(x)\n",
    "        else: #int(target/x) in D\n",
    "            print(D)\n",
    "            return D[int(target/x)], X.index(x)\n",
    "    return (-1,-1)"
   ]
  },
  {
   "cell_type": "code",
   "execution_count": 47,
   "id": "1b163892",
   "metadata": {},
   "outputs": [
    {
     "name": "stdout",
     "output_type": "stream",
     "text": [
      "{1: 0, 25: 1, 5: 2}\n"
     ]
    },
    {
     "data": {
      "text/plain": [
       "(2, 5)"
      ]
     },
     "execution_count": 47,
     "metadata": {},
     "output_type": "execute_result"
    }
   ],
   "source": [
    "two_product_problem([1,25,5,3,7,10,15,50,2], 50)"
   ]
  },
  {
   "cell_type": "code",
   "execution_count": null,
   "id": "239d0fd5",
   "metadata": {},
   "outputs": [],
   "source": []
  }
 ],
 "metadata": {
  "kernelspec": {
   "display_name": "Python 3 (ipykernel)",
   "language": "python",
   "name": "python3"
  },
  "language_info": {
   "codemirror_mode": {
    "name": "ipython",
    "version": 3
   },
   "file_extension": ".py",
   "mimetype": "text/x-python",
   "name": "python",
   "nbconvert_exporter": "python",
   "pygments_lexer": "ipython3",
   "version": "3.9.12"
  }
 },
 "nbformat": 4,
 "nbformat_minor": 5
}
