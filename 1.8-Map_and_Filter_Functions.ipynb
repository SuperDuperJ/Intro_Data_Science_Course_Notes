{
 "cells": [
  {
   "cell_type": "markdown",
   "id": "bb2f3639",
   "metadata": {},
   "source": [
    "### Map Function\n",
    "\n",
    "The *map* function returns the range of a function acting on a given domain.\n",
    "\n",
    "##### Example 1"
   ]
  },
  {
   "cell_type": "code",
   "execution_count": 4,
   "id": "a8b65e23",
   "metadata": {},
   "outputs": [],
   "source": [
    "def f(x):\n",
    "    return x**2"
   ]
  },
  {
   "cell_type": "code",
   "execution_count": 5,
   "id": "1ffcad97",
   "metadata": {},
   "outputs": [
    {
     "data": {
      "text/plain": [
       "<map at 0x1e7b7697ee0>"
      ]
     },
     "execution_count": 5,
     "metadata": {},
     "output_type": "execute_result"
    }
   ],
   "source": [
    "map(f, range(11))"
   ]
  },
  {
   "cell_type": "code",
   "execution_count": 6,
   "id": "6098ccac",
   "metadata": {},
   "outputs": [
    {
     "data": {
      "text/plain": [
       "[0, 1, 4, 9, 16, 25, 36, 49, 64, 81, 100]"
      ]
     },
     "execution_count": 6,
     "metadata": {},
     "output_type": "execute_result"
    }
   ],
   "source": [
    "list(map(f, range(11)))"
   ]
  },
  {
   "cell_type": "markdown",
   "id": "eef1fb24",
   "metadata": {},
   "source": [
    "$\\Box$\n",
    "\n",
    "##### Example 2"
   ]
  },
  {
   "cell_type": "code",
   "execution_count": 7,
   "id": "4fc625b6",
   "metadata": {},
   "outputs": [],
   "source": [
    "def g(x):\n",
    "    return x.upper()"
   ]
  },
  {
   "cell_type": "code",
   "execution_count": 9,
   "id": "22974de4",
   "metadata": {},
   "outputs": [
    {
     "data": {
      "text/plain": [
       "['this', 'is', 'a', 'sentence', 'for', 'a', 'silly', 'example']"
      ]
     },
     "execution_count": 9,
     "metadata": {},
     "output_type": "execute_result"
    }
   ],
   "source": [
    "domain = 'this is a sentence for a silly example'.split(' ')\n",
    "domain"
   ]
  },
  {
   "cell_type": "code",
   "execution_count": 12,
   "id": "8ea2777b",
   "metadata": {},
   "outputs": [
    {
     "data": {
      "text/plain": [
       "['THIS', 'IS', 'A', 'SENTENCE', 'FOR', 'A', 'SILLY', 'EXAMPLE']"
      ]
     },
     "execution_count": 12,
     "metadata": {},
     "output_type": "execute_result"
    }
   ],
   "source": [
    "Y = list(map(g, domain))\n",
    "Y"
   ]
  },
  {
   "cell_type": "markdown",
   "id": "76efab00",
   "metadata": {},
   "source": [
    "We can use the *join* string method to put it all back together."
   ]
  },
  {
   "cell_type": "code",
   "execution_count": 13,
   "id": "d0209441",
   "metadata": {},
   "outputs": [
    {
     "data": {
      "text/plain": [
       "'THIS IS A SENTENCE FOR A SILLY EXAMPLE'"
      ]
     },
     "execution_count": 13,
     "metadata": {},
     "output_type": "execute_result"
    }
   ],
   "source": [
    "' '.join(Y)"
   ]
  },
  {
   "cell_type": "markdown",
   "id": "c12a0035",
   "metadata": {},
   "source": [
    "$\\Box$\n",
    "\n",
    "##### Exercise 1\n",
    "\n",
    "Write code so that the following function performs the way that its docstring indicates.\n",
    "\n",
    "Example: last_name('Jason Smith') should return 'Smith'.\n",
    "\n",
    "last_name('Larry Bird') should return 'Bird'.\n",
    "\n",
    "Note: You SHOULD NOT use the Map Function to do this.  This function will be used in Exercise 2."
   ]
  },
  {
   "cell_type": "code",
   "execution_count": null,
   "id": "42257f96",
   "metadata": {},
   "outputs": [],
   "source": [
    "def last_name(name):\n",
    "    \"\"\"\n",
    "    Parameters\n",
    "    -----------\n",
    "    name: string of the form 'First Last'.\n",
    "    \n",
    "    Returns\n",
    "    -----------\n",
    "    String: 'Last'\n",
    "    \"\"\""
   ]
  },
  {
   "cell_type": "code",
   "execution_count": null,
   "id": "baace1aa",
   "metadata": {},
   "outputs": [],
   "source": [
    "if last_name('Jason Smith') != 'Smith':\n",
    "    print(\"Something is wrong with your code.\")\n",
    "elif last_name('First Last') != 'Last':\n",
    "    print(\"Something is wrong with your code.\")\n",
    "else:\n",
    "    print(\"All tests passed.\")"
   ]
  },
  {
   "cell_type": "markdown",
   "id": "c85b1001",
   "metadata": {},
   "source": [
    "##### Exercise 2\n",
    "\n",
    "A domain is given below."
   ]
  },
  {
   "cell_type": "code",
   "execution_count": 14,
   "id": "5416ca00",
   "metadata": {},
   "outputs": [],
   "source": [
    "domain = ['Jason Smith', 'Brad Pitt', 'Lady Gaga', 'Jane Doe']"
   ]
  },
  {
   "cell_type": "markdown",
   "id": "a65a5064",
   "metadata": {},
   "source": [
    "Use a map function to map the domain using the last_name function from Exercise 1.  Display the results in a list."
   ]
  },
  {
   "cell_type": "code",
   "execution_count": null,
   "id": "e915293b",
   "metadata": {},
   "outputs": [],
   "source": []
  },
  {
   "cell_type": "markdown",
   "id": "a91645a6",
   "metadata": {},
   "source": [
    "##### Lambda Functions\n",
    "\n",
    "*Lambda* functions provide a way to define a function in a single line.  Lambda functions are very useful when using a function that takes another function as one of its parameters.\n",
    "\n",
    "Syntax for Lambda function: lambda x: f(x)\n",
    "\n",
    "Syntax for Lambda function with if condition: lambda x: f(x) if condition\n",
    "\n",
    "##### Example 3\n",
    "\n",
    "We can rewrite Example 1 in a single line."
   ]
  },
  {
   "cell_type": "code",
   "execution_count": 16,
   "id": "244f7e4a",
   "metadata": {},
   "outputs": [
    {
     "data": {
      "text/plain": [
       "[1, 4, 9, 16, 25, 36, 49, 64, 81, 100]"
      ]
     },
     "execution_count": 16,
     "metadata": {},
     "output_type": "execute_result"
    }
   ],
   "source": [
    "list(map(lambda x: x**2, range(1, 11)))"
   ]
  },
  {
   "cell_type": "markdown",
   "id": "cc62c52d",
   "metadata": {},
   "source": [
    "$\\Box$\n",
    "\n",
    "##### Example 4\n",
    "\n",
    "We rewrite Example 2 in a single line."
   ]
  },
  {
   "cell_type": "code",
   "execution_count": 17,
   "id": "6aecce37",
   "metadata": {},
   "outputs": [
    {
     "data": {
      "text/plain": [
       "['THIS', 'IS', 'A', 'SENTENCE', 'FOR', 'A', 'SILLY', 'EXAMPLE']"
      ]
     },
     "execution_count": 17,
     "metadata": {},
     "output_type": "execute_result"
    }
   ],
   "source": [
    "list(map(lambda x: x.upper(), 'this is a sentence for a silly example'.split(' ')))"
   ]
  },
  {
   "cell_type": "markdown",
   "id": "10bed50f",
   "metadata": {},
   "source": [
    "$\\Box$\n",
    "\n",
    "##### Exercise 3\n",
    "\n",
    "Redo Exercise 2 in a single line using a lambda function for the function parameter."
   ]
  },
  {
   "cell_type": "code",
   "execution_count": 18,
   "id": "fb3617cf",
   "metadata": {},
   "outputs": [],
   "source": [
    "domain = ['Jason Smith', 'Brad Pitt', 'Lady Gaga', 'Jane Doe']"
   ]
  },
  {
   "cell_type": "code",
   "execution_count": null,
   "id": "f79a9606",
   "metadata": {},
   "outputs": [],
   "source": []
  },
  {
   "cell_type": "markdown",
   "id": "c4d148c5",
   "metadata": {},
   "source": [
    "### Filter Function\n",
    "\n",
    "The *filter* function sifts through a domain to pull out only the elements that meet a condition given by a function.\n",
    "\n",
    "##### Example 5"
   ]
  },
  {
   "cell_type": "code",
   "execution_count": 22,
   "id": "e5aef3c7",
   "metadata": {},
   "outputs": [],
   "source": [
    "numbers = list(range(11))"
   ]
  },
  {
   "cell_type": "markdown",
   "id": "1273574d",
   "metadata": {},
   "source": [
    "We use the filter function to sift out all of the odd numbers."
   ]
  },
  {
   "cell_type": "code",
   "execution_count": 23,
   "id": "cb06772f",
   "metadata": {},
   "outputs": [],
   "source": [
    "odds = filter(lambda x: x%2==1, numbers)"
   ]
  },
  {
   "cell_type": "code",
   "execution_count": 24,
   "id": "119b5cfe",
   "metadata": {},
   "outputs": [
    {
     "data": {
      "text/plain": [
       "[1, 3, 5, 7, 9]"
      ]
     },
     "execution_count": 24,
     "metadata": {},
     "output_type": "execute_result"
    }
   ],
   "source": [
    "list(odds)"
   ]
  },
  {
   "cell_type": "markdown",
   "id": "9a2f99f4",
   "metadata": {},
   "source": [
    "$\\Box$\n",
    "\n",
    "##### Exercise 4\n",
    "\n",
    "Below a domain of words is given."
   ]
  },
  {
   "cell_type": "code",
   "execution_count": 25,
   "id": "1ff304c5",
   "metadata": {},
   "outputs": [],
   "source": [
    "words = ['apple', 'banana', 'cantalope', 'donut', 'eggs', 'apricot', 'artichoke']"
   ]
  },
  {
   "cell_type": "markdown",
   "id": "ccae4186",
   "metadata": {},
   "source": [
    "Use the filter function with a lambda function for the function parameter to filter out all words that begin with the letter 'a'.  Display your work as a list."
   ]
  },
  {
   "cell_type": "markdown",
   "id": "4384da70",
   "metadata": {},
   "source": [
    "##### Example 6: Another Solution for the Two-Sum Problem\n",
    "\n",
    "Two-Sum Problem: Given a list of integers and a target value, find the indices of two elements (of the given list) whose sum is the target.\n",
    "\n",
    "In the 1.7 notes, we saw two solutions to the Two-Sum Problem.  Below, we use the *map* and *filter* functions to give yet another solution to the Two-Sum Problem.\n",
    "\n",
    "The idea of this solution has five steps:\n",
    "\n",
    "    1. Use the zip function to create 2-tuples of the form (element, index).\n",
    "    2. Create a domain consisting of 2-tuples of the 2-tuples from step 1 above.  These will have the form \n",
    "    ((element1, index1), (element2, index2)).\n",
    "    3. Map the tuples in step 2 to 3-tuples of the form (element1+element2, index1, index2).\n",
    "    4. Filter out all tuples created in step 3 that have the form (target value, index1, index2).\n",
    "    5. The solution is X[1], X[2], where X is one of the tuples found in step 4.\n",
    "\n",
    "For this example we use x = [4,6,2,8,1,9,10,11] and target = 11.  One can see that there are four solutions: (2,5), (5,2), (6,4), and (4,6).\n",
    "\n",
    "##### Step 1"
   ]
  },
  {
   "cell_type": "code",
   "execution_count": 1,
   "id": "4aded07d",
   "metadata": {},
   "outputs": [],
   "source": [
    "x = [4,6,2,8,1,9,10,11]\n",
    "target = 11"
   ]
  },
  {
   "cell_type": "code",
   "execution_count": 2,
   "id": "f406c2f4",
   "metadata": {},
   "outputs": [
    {
     "data": {
      "text/plain": [
       "[(4, 0), (6, 1), (2, 2), (8, 3), (1, 4), (9, 5), (10, 6), (11, 7)]"
      ]
     },
     "execution_count": 2,
     "metadata": {},
     "output_type": "execute_result"
    }
   ],
   "source": [
    "elements_with_indices = list(zip(x,range(len(x))))\n",
    "elements_with_indices"
   ]
  },
  {
   "cell_type": "markdown",
   "id": "83837130",
   "metadata": {},
   "source": [
    "##### Step 2\n",
    "\n",
    "To create our domain, we need to create all pairs (x,y) where x, y in elements_with_indices.  Luckily, there is a tool for this: the [product function](https://docs.python.org/3/library/itertools.html#itertools.product) from the itertools library."
   ]
  },
  {
   "cell_type": "code",
   "execution_count": 3,
   "id": "63efb8fd",
   "metadata": {},
   "outputs": [],
   "source": [
    "from itertools import product"
   ]
  },
  {
   "cell_type": "code",
   "execution_count": 4,
   "id": "382bca8c",
   "metadata": {},
   "outputs": [
    {
     "data": {
      "text/plain": [
       "[((4, 0), (4, 0)),\n",
       " ((4, 0), (6, 1)),\n",
       " ((4, 0), (2, 2)),\n",
       " ((4, 0), (8, 3)),\n",
       " ((4, 0), (1, 4))]"
      ]
     },
     "execution_count": 4,
     "metadata": {},
     "output_type": "execute_result"
    }
   ],
   "source": [
    "domain = product(elements_with_indices, elements_with_indices)\n",
    "domain = list(domain)\n",
    "domain[:5]"
   ]
  },
  {
   "cell_type": "markdown",
   "id": "c3c9dad0",
   "metadata": {},
   "source": [
    "A single element in our domain looks like the following."
   ]
  },
  {
   "cell_type": "code",
   "execution_count": 5,
   "id": "d96a952d",
   "metadata": {},
   "outputs": [
    {
     "data": {
      "text/plain": [
       "((4, 0), (9, 5))"
      ]
     },
     "execution_count": 5,
     "metadata": {},
     "output_type": "execute_result"
    }
   ],
   "source": [
    "domain_element = domain[5]\n",
    "domain_element"
   ]
  },
  {
   "cell_type": "markdown",
   "id": "dcb03799",
   "metadata": {},
   "source": [
    "This single domain element is a 2-tuple.  The x-coordinate for this 2-tuple is itself a tuple, (4,0).  The 4 is 0th element of our original list and the 0 is its index in our original list.\n",
    "\n",
    "Similarly, the y-coordinate of domain_element is (9,5)."
   ]
  },
  {
   "cell_type": "markdown",
   "id": "7ab2e952",
   "metadata": {},
   "source": [
    "##### Step 3\n",
    "\n",
    "First, we define the function that will go into the *map* function."
   ]
  },
  {
   "cell_type": "code",
   "execution_count": 6,
   "id": "d910df8c",
   "metadata": {},
   "outputs": [],
   "source": [
    "def f(tup):\n",
    "    return (tup[0][0]+tup[1][0], tup[0][1], tup[1][1])"
   ]
  },
  {
   "cell_type": "markdown",
   "id": "7a8cf437",
   "metadata": {},
   "source": [
    "Now, lets test to see that f does what we want: f(((4,0), (9,5)))=(13,0,5)."
   ]
  },
  {
   "cell_type": "code",
   "execution_count": 7,
   "id": "498d9b6e",
   "metadata": {},
   "outputs": [
    {
     "data": {
      "text/plain": [
       "(13, 0, 5)"
      ]
     },
     "execution_count": 7,
     "metadata": {},
     "output_type": "execute_result"
    }
   ],
   "source": [
    "f(domain_element)"
   ]
  },
  {
   "cell_type": "markdown",
   "id": "84a703d4",
   "metadata": {},
   "source": [
    "Now, we put our function f and domain into the map function."
   ]
  },
  {
   "cell_type": "code",
   "execution_count": 8,
   "id": "2336eb88",
   "metadata": {},
   "outputs": [
    {
     "data": {
      "text/plain": [
       "[(8, 0, 0), (10, 0, 1), (6, 0, 2), (12, 0, 3), (5, 0, 4)]"
      ]
     },
     "execution_count": 8,
     "metadata": {},
     "output_type": "execute_result"
    }
   ],
   "source": [
    "ran = map(f, domain)\n",
    "ran = list(ran)\n",
    "ran[:5]"
   ]
  },
  {
   "cell_type": "code",
   "execution_count": 9,
   "id": "4f307def",
   "metadata": {},
   "outputs": [
    {
     "data": {
      "text/plain": [
       "[(8, 0, 0),\n",
       " (10, 0, 1),\n",
       " (6, 0, 2),\n",
       " (12, 0, 3),\n",
       " (5, 0, 4),\n",
       " (13, 0, 5),\n",
       " (14, 0, 6),\n",
       " (15, 0, 7),\n",
       " (10, 1, 0),\n",
       " (12, 1, 1),\n",
       " (8, 1, 2),\n",
       " (14, 1, 3),\n",
       " (7, 1, 4),\n",
       " (15, 1, 5),\n",
       " (16, 1, 6),\n",
       " (17, 1, 7),\n",
       " (6, 2, 0),\n",
       " (8, 2, 1),\n",
       " (4, 2, 2),\n",
       " (10, 2, 3),\n",
       " (3, 2, 4),\n",
       " (11, 2, 5),\n",
       " (12, 2, 6),\n",
       " (13, 2, 7),\n",
       " (12, 3, 0),\n",
       " (14, 3, 1),\n",
       " (10, 3, 2),\n",
       " (16, 3, 3),\n",
       " (9, 3, 4),\n",
       " (17, 3, 5),\n",
       " (18, 3, 6),\n",
       " (19, 3, 7),\n",
       " (5, 4, 0),\n",
       " (7, 4, 1),\n",
       " (3, 4, 2),\n",
       " (9, 4, 3),\n",
       " (2, 4, 4),\n",
       " (10, 4, 5),\n",
       " (11, 4, 6),\n",
       " (12, 4, 7),\n",
       " (13, 5, 0),\n",
       " (15, 5, 1),\n",
       " (11, 5, 2),\n",
       " (17, 5, 3),\n",
       " (10, 5, 4),\n",
       " (18, 5, 5),\n",
       " (19, 5, 6),\n",
       " (20, 5, 7),\n",
       " (14, 6, 0),\n",
       " (16, 6, 1),\n",
       " (12, 6, 2),\n",
       " (18, 6, 3),\n",
       " (11, 6, 4),\n",
       " (19, 6, 5),\n",
       " (20, 6, 6),\n",
       " (21, 6, 7),\n",
       " (15, 7, 0),\n",
       " (17, 7, 1),\n",
       " (13, 7, 2),\n",
       " (19, 7, 3),\n",
       " (12, 7, 4),\n",
       " (20, 7, 5),\n",
       " (21, 7, 6),\n",
       " (22, 7, 7)]"
      ]
     },
     "execution_count": 9,
     "metadata": {},
     "output_type": "execute_result"
    }
   ],
   "source": [
    "ran"
   ]
  },
  {
   "cell_type": "markdown",
   "id": "d4a090b6",
   "metadata": {},
   "source": [
    "##### Step 4"
   ]
  },
  {
   "cell_type": "code",
   "execution_count": 21,
   "id": "de50c623",
   "metadata": {},
   "outputs": [
    {
     "data": {
      "text/plain": [
       "[(11, 2, 5), (11, 4, 6), (11, 5, 2), (11, 6, 4)]"
      ]
     },
     "execution_count": 21,
     "metadata": {},
     "output_type": "execute_result"
    }
   ],
   "source": [
    "solutions = filter(lambda x: x[0] == target, ran)\n",
    "solutions = list(solutions)\n",
    "solutions"
   ]
  },
  {
   "cell_type": "markdown",
   "id": "e4e679d5",
   "metadata": {},
   "source": [
    "##### Step 5\n",
    "\n",
    "Any one of the four solutions in step 4 will work.  So, we just pick the 0th one."
   ]
  },
  {
   "cell_type": "code",
   "execution_count": 23,
   "id": "7aafce20",
   "metadata": {},
   "outputs": [
    {
     "data": {
      "text/plain": [
       "(11, 2, 5)"
      ]
     },
     "execution_count": 23,
     "metadata": {},
     "output_type": "execute_result"
    }
   ],
   "source": [
    "solution = solutions[0]\n",
    "solution"
   ]
  },
  {
   "cell_type": "markdown",
   "id": "c0df9b86",
   "metadata": {},
   "source": [
    "We just need to put the solution in the correct format."
   ]
  },
  {
   "cell_type": "code",
   "execution_count": 24,
   "id": "3dd2c5b8",
   "metadata": {},
   "outputs": [
    {
     "data": {
      "text/plain": [
       "(2, 5)"
      ]
     },
     "execution_count": 24,
     "metadata": {},
     "output_type": "execute_result"
    }
   ],
   "source": [
    "two_sum_solution = (solution[1], solution[2])\n",
    "two_sum_solution"
   ]
  },
  {
   "cell_type": "markdown",
   "id": "593a3676",
   "metadata": {},
   "source": [
    "$\\Box$"
   ]
  },
  {
   "cell_type": "code",
   "execution_count": null,
   "id": "a7b58960",
   "metadata": {},
   "outputs": [],
   "source": []
  }
 ],
 "metadata": {
  "kernelspec": {
   "display_name": "Python 3 (ipykernel)",
   "language": "python",
   "name": "python3"
  },
  "language_info": {
   "codemirror_mode": {
    "name": "ipython",
    "version": 3
   },
   "file_extension": ".py",
   "mimetype": "text/x-python",
   "name": "python",
   "nbconvert_exporter": "python",
   "pygments_lexer": "ipython3",
   "version": "3.9.12"
  }
 },
 "nbformat": 4,
 "nbformat_minor": 5
}
