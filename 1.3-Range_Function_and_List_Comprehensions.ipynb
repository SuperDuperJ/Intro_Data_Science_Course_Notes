{
 "cells": [
  {
   "cell_type": "markdown",
   "id": "253613e0",
   "metadata": {},
   "source": [
    "#### Range Functions\n",
    "In the previous lesson, we learned how to use for-loops to iterate over the elements of a list.  To do this, we used a *dummy variable* like number to stand for an arbitrary element in a list.  Another way to iterate over the elements in a list is to iterate over the indices.  The *range* function allows us to do just this.\n",
    "\n",
    "The range function returns a sequence of numbers.  The syntax for the range function is range(start, stop, step).  If the start and step parameters are omitted, then they are assumed to be start = 0 and step = 1.\n",
    "\n",
    "##### Example 1\n",
    "Simply executing the code below is not too illuminating."
   ]
  },
  {
   "cell_type": "code",
   "execution_count": 1,
   "id": "ecb81f52",
   "metadata": {},
   "outputs": [
    {
     "data": {
      "text/plain": [
       "range(0, 4)"
      ]
     },
     "execution_count": 1,
     "metadata": {},
     "output_type": "execute_result"
    }
   ],
   "source": [
    "range(0,4,1)"
   ]
  },
  {
   "cell_type": "markdown",
   "id": "522db3cc",
   "metadata": {},
   "source": [
    "When we use the *list* type function, we get a better picture of what the range function actually produces."
   ]
  },
  {
   "cell_type": "code",
   "execution_count": 2,
   "id": "3da6d035",
   "metadata": {},
   "outputs": [
    {
     "data": {
      "text/plain": [
       "[0, 1, 2, 3]"
      ]
     },
     "execution_count": 2,
     "metadata": {},
     "output_type": "execute_result"
    }
   ],
   "source": [
    "list(range(0,4,1))"
   ]
  },
  {
   "cell_type": "markdown",
   "id": "bd0e3871",
   "metadata": {},
   "source": [
    "The syntax for the range function is range(start, stop, step).  Notice that in this example, start = 0, stop = 4, and step = 1.  Now, try to see how these parameters produced $[0,1,2,3]$.\n",
    "\n",
    "start = 0 told the range function to start at 0 and the output $[0,1,2,3]$ actually starts at 0.\n",
    "\n",
    "stop = 4 told the range function to stop at 4-1 = 3 and the output $[0,1,2,3]$ actually stops at 3.\n",
    "\n",
    "step = 1 told the range function to increase from one term to the next by adding 1.\n",
    "\n",
    "$\\Box$\n",
    "\n",
    "##### Example 2"
   ]
  },
  {
   "cell_type": "code",
   "execution_count": 5,
   "id": "a9f7ce36",
   "metadata": {},
   "outputs": [
    {
     "data": {
      "text/plain": [
       "[2, 3, 4, 5, 6, 7]"
      ]
     },
     "execution_count": 5,
     "metadata": {},
     "output_type": "execute_result"
    }
   ],
   "source": [
    "list(range(2,8,1))"
   ]
  },
  {
   "cell_type": "markdown",
   "id": "23c15946",
   "metadata": {},
   "source": [
    "$\\Box$\n",
    "\n",
    "##### Example 3"
   ]
  },
  {
   "cell_type": "code",
   "execution_count": 6,
   "id": "7aa189aa",
   "metadata": {},
   "outputs": [
    {
     "data": {
      "text/plain": [
       "[0, 2, 4, 6, 8, 10]"
      ]
     },
     "execution_count": 6,
     "metadata": {},
     "output_type": "execute_result"
    }
   ],
   "source": [
    "list(range(0,11,2))"
   ]
  },
  {
   "cell_type": "markdown",
   "id": "6a547efc",
   "metadata": {},
   "source": [
    "$\\Box$\n",
    "\n",
    "##### Example 4\n",
    "How many multiples of 3 are there between 0 and 99?"
   ]
  },
  {
   "cell_type": "code",
   "execution_count": 10,
   "id": "f588bdf6",
   "metadata": {},
   "outputs": [
    {
     "data": {
      "text/plain": [
       "34"
      ]
     },
     "execution_count": 10,
     "metadata": {},
     "output_type": "execute_result"
    }
   ],
   "source": [
    "len(list(range(0,100,3)))"
   ]
  },
  {
   "cell_type": "markdown",
   "id": "eb3d778b",
   "metadata": {},
   "source": [
    "$\\Box$\n",
    "\n",
    "If the start parameter is omitted, it is assumed to be 0.  If the step parameter is omitted, it is assumed to be 1.\n",
    "\n",
    "##### Example 5"
   ]
  },
  {
   "cell_type": "code",
   "execution_count": 8,
   "id": "61bba0db",
   "metadata": {},
   "outputs": [
    {
     "data": {
      "text/plain": [
       "[0, 1, 2, 3, 4, 5, 6, 7, 8, 9]"
      ]
     },
     "execution_count": 8,
     "metadata": {},
     "output_type": "execute_result"
    }
   ],
   "source": [
    "list(range(0,10,1))"
   ]
  },
  {
   "cell_type": "code",
   "execution_count": 9,
   "id": "89825ff4",
   "metadata": {},
   "outputs": [
    {
     "data": {
      "text/plain": [
       "[0, 1, 2, 3, 4, 5, 6, 7, 8, 9]"
      ]
     },
     "execution_count": 9,
     "metadata": {},
     "output_type": "execute_result"
    }
   ],
   "source": [
    "list(range(10))"
   ]
  },
  {
   "cell_type": "markdown",
   "id": "84faff2b",
   "metadata": {},
   "source": [
    "$\\Box$\n",
    "\n",
    "##### Exercise 1\n",
    "Use the list type function and the range function, as above, to produce a list of all multiples of 4 between 16 and 104 inclusive.  Write your code in the code block below."
   ]
  },
  {
   "cell_type": "code",
   "execution_count": 1,
   "id": "a9bb2dba",
   "metadata": {},
   "outputs": [
    {
     "data": {
      "text/plain": [
       "[16,\n",
       " 20,\n",
       " 24,\n",
       " 28,\n",
       " 32,\n",
       " 36,\n",
       " 40,\n",
       " 44,\n",
       " 48,\n",
       " 52,\n",
       " 56,\n",
       " 60,\n",
       " 64,\n",
       " 68,\n",
       " 72,\n",
       " 76,\n",
       " 80,\n",
       " 84,\n",
       " 88,\n",
       " 92,\n",
       " 96,\n",
       " 100,\n",
       " 104]"
      ]
     },
     "execution_count": 1,
     "metadata": {},
     "output_type": "execute_result"
    }
   ],
   "source": [
    "list(range(16, 105, 4))"
   ]
  },
  {
   "cell_type": "markdown",
   "id": "8fa05c23",
   "metadata": {},
   "source": [
    "Range functions can count down as well.\n",
    "\n",
    "##### Example 6"
   ]
  },
  {
   "cell_type": "code",
   "execution_count": 2,
   "id": "397aa669",
   "metadata": {},
   "outputs": [
    {
     "data": {
      "text/plain": [
       "[10, 9, 8, 7, 6, 5, 4, 3, 2, 1, 0]"
      ]
     },
     "execution_count": 2,
     "metadata": {},
     "output_type": "execute_result"
    }
   ],
   "source": [
    "list(range(10,-1,-1))"
   ]
  },
  {
   "cell_type": "markdown",
   "id": "ab27da44",
   "metadata": {},
   "source": [
    "$\\Box$\n",
    "\n",
    "Range functions can also work with negative parameters.\n",
    "\n",
    "##### Example 7"
   ]
  },
  {
   "cell_type": "code",
   "execution_count": 15,
   "id": "785c73aa",
   "metadata": {},
   "outputs": [
    {
     "data": {
      "text/plain": [
       "[-10, -9, -8, -7, -6, -5, -4, -3, -2]"
      ]
     },
     "execution_count": 15,
     "metadata": {},
     "output_type": "execute_result"
    }
   ],
   "source": [
    "list(range(-10,-1,1))"
   ]
  },
  {
   "cell_type": "markdown",
   "id": "475de7e4",
   "metadata": {},
   "source": [
    "$\\Box$\n",
    "\n",
    "##### Exercise 2\n",
    "Use the list type function and the range function, as above, to produce the list given in Example 7, but in reversed order.  Write your code in the code block below."
   ]
  },
  {
   "cell_type": "markdown",
   "id": "116e9e5d",
   "metadata": {},
   "source": [
    "Why do we need the range function?"
   ]
  },
  {
   "cell_type": "code",
   "execution_count": 4,
   "id": "114eb4ab",
   "metadata": {},
   "outputs": [
    {
     "data": {
      "text/plain": [
       "[-2, -3, -4, -5, -6, -7, -8, -9, -10]"
      ]
     },
     "execution_count": 4,
     "metadata": {},
     "output_type": "execute_result"
    }
   ],
   "source": [
    "list(range(-2,-11,-1))"
   ]
  },
  {
   "cell_type": "code",
   "execution_count": 5,
   "id": "c41b9587",
   "metadata": {},
   "outputs": [
    {
     "name": "stdout",
     "output_type": "stream",
     "text": [
      "Jason Smith\n",
      "Drew Smith\n",
      "Oriana Smith\n"
     ]
    }
   ],
   "source": [
    "#Iterating over the elements\n",
    "x = ['Jason', 'Drew', 'Oriana']\n",
    "for word in x:\n",
    "    print(word +' Smith')"
   ]
  },
  {
   "cell_type": "code",
   "execution_count": 6,
   "id": "a9d2f091",
   "metadata": {},
   "outputs": [
    {
     "name": "stdout",
     "output_type": "stream",
     "text": [
      "Jason Smith\n",
      "Drew Smith\n",
      "Oriana Smith\n"
     ]
    }
   ],
   "source": [
    "#Iterating over the indices\n",
    "for i in range(3):\n",
    "    print(x[i]+' Smith')"
   ]
  },
  {
   "cell_type": "markdown",
   "id": "2715a46c",
   "metadata": {},
   "source": [
    "### List Comprehensions\n",
    "\n",
    "List comprehensions are a VERY convenient way to populate a list.\n",
    "\n",
    "##### Example 8\n",
    "Suppose that we have the list $[1,2,3,4,5]$ and we want the list of all squares $[1^2,2^2,3^2,4^2,5^2]=[1,4,9,16,25]$.\n",
    "\n",
    "One way to accomplish this is the following code."
   ]
  },
  {
   "cell_type": "code",
   "execution_count": 7,
   "id": "15559e18",
   "metadata": {},
   "outputs": [
    {
     "data": {
      "text/plain": [
       "[1, 4, 9, 16, 25]"
      ]
     },
     "execution_count": 7,
     "metadata": {},
     "output_type": "execute_result"
    }
   ],
   "source": [
    "#Given list\n",
    "x = [1,2,3,4,5]\n",
    "\n",
    "squares = []\n",
    "for number in x:\n",
    "    squares.append(number**2) #number**2 means number*number in Python\n",
    "squares"
   ]
  },
  {
   "cell_type": "markdown",
   "id": "b1aad045",
   "metadata": {},
   "source": [
    "A list comprehension allows us to do this in one line."
   ]
  },
  {
   "cell_type": "code",
   "execution_count": 8,
   "id": "f00b4999",
   "metadata": {},
   "outputs": [
    {
     "data": {
      "text/plain": [
       "[1, 4, 9, 16, 25]"
      ]
     },
     "execution_count": 8,
     "metadata": {},
     "output_type": "execute_result"
    }
   ],
   "source": [
    "squares = [number**2 for number in x]\n",
    "squares"
   ]
  },
  {
   "cell_type": "markdown",
   "id": "e25070e0",
   "metadata": {},
   "source": [
    "Syntax: $[$ f(x) for x in some_iterable $]$"
   ]
  },
  {
   "cell_type": "markdown",
   "id": "4e0a3c2f",
   "metadata": {},
   "source": [
    "$\\Box$"
   ]
  },
  {
   "cell_type": "markdown",
   "id": "86672991",
   "metadata": {},
   "source": [
    "##### Example 9\n",
    "\n",
    "Recall the extract_odds function from the previous lesson."
   ]
  },
  {
   "cell_type": "code",
   "execution_count": 5,
   "id": "7d9e31c4",
   "metadata": {},
   "outputs": [],
   "source": [
    "def extract_odds(some_list):\n",
    "    \"\"\"\n",
    "    Parameters\n",
    "    ------------\n",
    "    some_list: list of integers\n",
    "    \n",
    "    Returns\n",
    "    ------------\n",
    "    list containing all odd integers in some_list\n",
    "    \"\"\"\n",
    "    new_list = []\n",
    "    for number in some_list:\n",
    "        #Check if number is odd.\n",
    "        if number % 2 == 1:\n",
    "            new_list.append(number)\n",
    "    return new_list"
   ]
  },
  {
   "cell_type": "code",
   "execution_count": 7,
   "id": "6f92a1a8",
   "metadata": {},
   "outputs": [
    {
     "data": {
      "text/plain": [
       "[1, 3, 5, 7, 9]"
      ]
     },
     "execution_count": 7,
     "metadata": {},
     "output_type": "execute_result"
    }
   ],
   "source": [
    "extract_odds([1,2,3,4,5,6,7,8,9,10])"
   ]
  },
  {
   "cell_type": "markdown",
   "id": "e92059ba",
   "metadata": {},
   "source": [
    "We can use list comprehensions to shorten the code for the extract_odds function."
   ]
  },
  {
   "cell_type": "code",
   "execution_count": 8,
   "id": "892acca5",
   "metadata": {},
   "outputs": [],
   "source": [
    "def extract_odds_new(some_list):\n",
    "    return [number for number in some_list if number%2 ==1]"
   ]
  },
  {
   "cell_type": "code",
   "execution_count": 9,
   "id": "510772b6",
   "metadata": {},
   "outputs": [
    {
     "data": {
      "text/plain": [
       "[1, 3, 5, 7, 9]"
      ]
     },
     "execution_count": 9,
     "metadata": {},
     "output_type": "execute_result"
    }
   ],
   "source": [
    "extract_odds_new([1,2,3,4,5,6,7,8,9,10])"
   ]
  },
  {
   "cell_type": "markdown",
   "id": "4872eb3f",
   "metadata": {},
   "source": [
    "$\\Box$\n",
    "\n",
    "##### Exercise 3\n",
    "\n",
    "Write code so that the following function performs the way that its docstring indicates.  Your function should have only two lines of code.  "
   ]
  },
  {
   "cell_type": "code",
   "execution_count": null,
   "id": "8f66b8fd",
   "metadata": {},
   "outputs": [],
   "source": [
    "def extract_evens_new(some_list):\n",
    "    \"\"\"\n",
    "    Parameters\n",
    "    ------------\n",
    "    some_list: list of integers\n",
    "    \n",
    "    Returns\n",
    "    ------------\n",
    "    list containing all even integers in some_list\n",
    "    \"\"\"\n",
    "    "
   ]
  },
  {
   "cell_type": "code",
   "execution_count": null,
   "id": "9be80a8b",
   "metadata": {},
   "outputs": [],
   "source": [
    "#Run this block to test your code\n",
    "import numpy as np\n",
    "\n",
    "if not np.allclose(extract_evens_new([1,2,3,4,5]),[2,4],atol=1e-10):\n",
    "    print(\"Something is wrong with your code.\")\n",
    "elif not np.allclose(extract_evens_new([4,17,23,34,10,11,12]),[4,34,10,12],atol=1e-10):\n",
    "    print(\"Something is wrong with your code.\")\n",
    "else:\n",
    "    print(\"All tests passed.\")"
   ]
  },
  {
   "cell_type": "markdown",
   "id": "554eccb3",
   "metadata": {},
   "source": [
    "The syntax for a list comprehension is\n",
    "\n",
    "$[$expression(element) for element in some_list if condition$]$"
   ]
  },
  {
   "cell_type": "markdown",
   "id": "dc0f3fff",
   "metadata": {},
   "source": [
    "##### Example 9\n",
    "Suppose that we have the following list of unordered lists."
   ]
  },
  {
   "cell_type": "code",
   "execution_count": 10,
   "id": "559a93e2",
   "metadata": {},
   "outputs": [
    {
     "data": {
      "text/plain": [
       "[[2, 3, 1], [5, 2, 7], [8, 3, 0], [2, 7, 1], [10, 20, 30]]"
      ]
     },
     "execution_count": 10,
     "metadata": {},
     "output_type": "execute_result"
    }
   ],
   "source": [
    "X = [[2,3,1], [5,2,7], [8,3,0], [2,7,1], [10,20,30]]\n",
    "X"
   ]
  },
  {
   "cell_type": "markdown",
   "id": "4bfce667",
   "metadata": {},
   "source": [
    "Now, suppose that we want all of the lists in X to be sorted.  We can accomplish this with a list comprehension."
   ]
  },
  {
   "cell_type": "code",
   "execution_count": 13,
   "id": "45d667a3",
   "metadata": {},
   "outputs": [
    {
     "data": {
      "text/plain": [
       "[[1, 2, 3], [2, 5, 7], [0, 3, 8], [1, 2, 7], [10, 20, 30]]"
      ]
     },
     "execution_count": 13,
     "metadata": {},
     "output_type": "execute_result"
    }
   ],
   "source": [
    "Y = [sorted(x) for x in X]\n",
    "Y"
   ]
  },
  {
   "cell_type": "markdown",
   "id": "10d2fd7d",
   "metadata": {},
   "source": [
    "$\\Box$\n",
    "\n",
    "##### Exercise 4"
   ]
  },
  {
   "cell_type": "code",
   "execution_count": 14,
   "id": "6a693d36",
   "metadata": {},
   "outputs": [
    {
     "data": {
      "text/plain": [
       "[[3, 5, 7, 2],\n",
       " [1, 2],\n",
       " [3, 7, 9, 12],\n",
       " [23, 5, 2, 5, 7, 8, 9, 10],\n",
       " [1, 3, 5, 7, 9, 11, 13, 15, 17, 19, 21],\n",
       " [9, 2, 5, 1],\n",
       " [3, 5, 7, 2, 9, 8]]"
      ]
     },
     "execution_count": 14,
     "metadata": {},
     "output_type": "execute_result"
    }
   ],
   "source": [
    "X = [[3,5,7,2], [1,2], [3,7,9,12], [23,5,2,5,7,8,9,10], [1,3,5,7,9,11,13,15,17,19,21], [9,2,5,1],[3,5,7,2,9,8]]\n",
    "X"
   ]
  },
  {
   "cell_type": "markdown",
   "id": "bf44fe1f",
   "metadata": {},
   "source": [
    "Write a list comprehension to find the list that contains the length of each of the lists in X.  "
   ]
  },
  {
   "cell_type": "code",
   "execution_count": null,
   "id": "103c44c1",
   "metadata": {},
   "outputs": [],
   "source": []
  },
  {
   "cell_type": "markdown",
   "id": "e6d2e227",
   "metadata": {},
   "source": [
    "#### Mathematical Functions\n",
    "\n",
    "In Math, a function is a rule $f(x)$.  The user of a function can decide what the inputs are going to be. \n",
    "\n",
    "Common notation for a function $f(x)$ with input list $X$ and output list $Y$ is $f: X\\rightarrow Y$.\n",
    "\n",
    "##### Example 10\n",
    "\n",
    "Most students are familiar with the mathematical function $f(x)=x^2$ whose graph is a parabola opening upwards with vertex at $x=0$.  If the inputs to $f(x)=x^2$ are chosen to be $[1,2,3,4,5]$, then the outputs will be $[1^2,2^2,3^2,4^2,5^2]=[1,4,9,16,25]$.\n",
    "\n",
    "We can create the output Y of $f(x)$ with a list comprehension."
   ]
  },
  {
   "cell_type": "code",
   "execution_count": 1,
   "id": "5e4f71d5",
   "metadata": {},
   "outputs": [
    {
     "data": {
      "text/plain": [
       "[1, 4, 9, 16, 25]"
      ]
     },
     "execution_count": 1,
     "metadata": {},
     "output_type": "execute_result"
    }
   ],
   "source": [
    "Y = [x**2 for x in [1,2,3,4,5]]\n",
    "Y"
   ]
  },
  {
   "cell_type": "markdown",
   "id": "d83fe43b",
   "metadata": {},
   "source": [
    "$\\Box$\n",
    "\n",
    "##### Example 11\n",
    "In Example 4 we found that there are $34$ multiples of $3$ from $0$ to $99$.  Another way to see this is to count the number of output values for the Mathematical function $f(x)=3x$ with input $X = [0,1,2,3,...,31,32,33]$."
   ]
  },
  {
   "cell_type": "code",
   "execution_count": 3,
   "id": "3104d609",
   "metadata": {},
   "outputs": [
    {
     "data": {
      "text/plain": [
       "[0,\n",
       " 3,\n",
       " 6,\n",
       " 9,\n",
       " 12,\n",
       " 15,\n",
       " 18,\n",
       " 21,\n",
       " 24,\n",
       " 27,\n",
       " 30,\n",
       " 33,\n",
       " 36,\n",
       " 39,\n",
       " 42,\n",
       " 45,\n",
       " 48,\n",
       " 51,\n",
       " 54,\n",
       " 57,\n",
       " 60,\n",
       " 63,\n",
       " 66,\n",
       " 69,\n",
       " 72,\n",
       " 75,\n",
       " 78,\n",
       " 81,\n",
       " 84,\n",
       " 87,\n",
       " 90,\n",
       " 93,\n",
       " 96,\n",
       " 99]"
      ]
     },
     "execution_count": 3,
     "metadata": {},
     "output_type": "execute_result"
    }
   ],
   "source": [
    "Y = [3*x for x in range(34)]\n",
    "Y"
   ]
  },
  {
   "cell_type": "code",
   "execution_count": 4,
   "id": "a379d7e3",
   "metadata": {},
   "outputs": [
    {
     "data": {
      "text/plain": [
       "34"
      ]
     },
     "execution_count": 4,
     "metadata": {},
     "output_type": "execute_result"
    }
   ],
   "source": [
    "len(Y)"
   ]
  },
  {
   "cell_type": "markdown",
   "id": "57f8fea4",
   "metadata": {},
   "source": [
    "$\\Box$\n",
    "\n",
    "In computer science and data science, a function is often called a *mapping*.\n",
    "\n",
    "##### Example 12\n",
    "Later in the course we will be working with a data structure called a *data frame*.  For now, you can just think of a data frame as the Python version of an excel spreadsheet.\n",
    "\n",
    "In many cases, we will want to rename certain columns of a data frame.  To do this we will use a built-in function for data frames.  To use this built in *rename* function, we have to pass, as input to the function, data structures that contain lists of the new names.  In other words, we want to create a list of new names or take a list of strings and map them to another list of strings.\n",
    "\n",
    "Suppose that we have a data set with 9 columns and we want to rename them C1, C2, ... ,C9."
   ]
  },
  {
   "cell_type": "code",
   "execution_count": 2,
   "id": "59a53af6",
   "metadata": {},
   "outputs": [
    {
     "data": {
      "text/plain": [
       "['C1', 'C2', 'C3', 'C4', 'C5', 'C6', 'C7', 'C8', 'C9']"
      ]
     },
     "execution_count": 2,
     "metadata": {},
     "output_type": "execute_result"
    }
   ],
   "source": [
    "new_column_names = ['C'+str(x) for x in range(1,10)]\n",
    "new_column_names"
   ]
  },
  {
   "cell_type": "markdown",
   "id": "1a159984",
   "metadata": {},
   "source": [
    "$\\Box$\n",
    "\n",
    "##### Exercise 5\n",
    "Write a list comprehension that maps the elements in old_column_names below to a list (called new_column_names) that contains the strings in old_column_names converted to lower case.  Additionally, replace all spaces with the underscore character '_'."
   ]
  },
  {
   "cell_type": "code",
   "execution_count": 3,
   "id": "a9e15ee6",
   "metadata": {},
   "outputs": [],
   "source": [
    "old_column_names = ['Location','Address','Square Footage','Number of Owners','Number of Floors', 'Price']"
   ]
  },
  {
   "cell_type": "code",
   "execution_count": 5,
   "id": "3acdd7ce",
   "metadata": {},
   "outputs": [
    {
     "data": {
      "text/plain": [
       "[]"
      ]
     },
     "execution_count": 5,
     "metadata": {},
     "output_type": "execute_result"
    }
   ],
   "source": [
    "new_column_names = []\n",
    "new_column_names"
   ]
  },
  {
   "cell_type": "markdown",
   "id": "603db86d",
   "metadata": {},
   "source": [
    "##### Example 13\n",
    "A nice trick for creating a list of strings is the given below."
   ]
  },
  {
   "cell_type": "code",
   "execution_count": 6,
   "id": "c9d9c8d6",
   "metadata": {},
   "outputs": [
    {
     "data": {
      "text/plain": [
       "['col1', 'col2', 'col3', 'col4', 'col5']"
      ]
     },
     "execution_count": 6,
     "metadata": {},
     "output_type": "execute_result"
    }
   ],
   "source": [
    "'col1 col2 col3 col4 col5'.split(' ')"
   ]
  },
  {
   "cell_type": "markdown",
   "id": "4da9ae54",
   "metadata": {},
   "source": [
    "$\\Box$"
   ]
  },
  {
   "cell_type": "code",
   "execution_count": null,
   "id": "3898f1c1",
   "metadata": {},
   "outputs": [],
   "source": []
  }
 ],
 "metadata": {
  "kernelspec": {
   "display_name": "Python 3 (ipykernel)",
   "language": "python",
   "name": "python3"
  },
  "language_info": {
   "codemirror_mode": {
    "name": "ipython",
    "version": 3
   },
   "file_extension": ".py",
   "mimetype": "text/x-python",
   "name": "python",
   "nbconvert_exporter": "python",
   "pygments_lexer": "ipython3",
   "version": "3.9.12"
  }
 },
 "nbformat": 4,
 "nbformat_minor": 5
}
