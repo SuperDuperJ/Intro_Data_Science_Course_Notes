{
 "cells": [
  {
   "cell_type": "code",
   "execution_count": 1,
   "id": "206592cc",
   "metadata": {},
   "outputs": [],
   "source": [
    "import numpy as np\n",
    "from numpy import random\n",
    "import pandas as pd\n",
    "import matplotlib.pyplot as plt\n",
    "from sklearn.model_selection import train_test_split\n",
    "from sklearn.preprocessing import StandardScaler\n",
    "from sklearn.preprocessing import OrdinalEncoder\n",
    "from sklearn.metrics import confusion_matrix\n",
    "from sklearn.linear_model import SGDClassifier"
   ]
  },
  {
   "cell_type": "markdown",
   "id": "d31b247d",
   "metadata": {},
   "source": [
    "### Logistic Regression\n",
    "\n",
    "In the 6.0 notebook, we learned that the model for multi-linear regression has the form $f(X) = \\beta_0+\\beta_1X_1+\\beta_2X_2+...+\\beta_nX_n$ which can be written as \n",
    "\n",
    "$$f(X) = \\theta^TX$$ where $\\theta = \\begin{pmatrix}\n",
    "    \\beta_0 \\\\\n",
    "    \\beta_1 \\\\\n",
    "    \\vdots \\\\\n",
    "    \\beta_n \\\\\n",
    "\\end{pmatrix}$ and $X = \\begin{pmatrix}\n",
    "    1 \\\\\n",
    "    X_1 \\\\\n",
    "    \\vdots \\\\\n",
    "    X_n \\\\\n",
    "\\end{pmatrix}$.  This is an example of a *regression* model: given a row $x_i=(x_{i1}, x_{i2},...,x_{in},y_i)$ in our dataset, linear regression gives a numerical prediction $\\hat{y}_i$ for the actual value $y_i$.\n",
    "\n",
    "*Logistic Regression* is an example of a *classification* model: given a row $x_i=(x_{i1}, x_{i2},...,x_{in},y_i =0$ or $1)$ in our dataset, logistic regression gives a probability $\\hat{y}_i$ that $y_i = 1$.\n",
    "\n",
    "The model for logistic regression has the form $f(X) = \\frac{1}{1+e^{-(\\beta_0+\\beta_1X_1+\\beta_2X_2+...+\\beta_nX_n)}}$ which can be written more compactly as \n",
    "\n",
    "$$f(X) = \\frac{1}{1+e^{-\\theta^TX}}$$ where $\\theta = \\begin{pmatrix}\n",
    "    \\beta_0 \\\\\n",
    "    \\beta_1 \\\\\n",
    "    \\vdots \\\\\n",
    "    \\beta_n \\\\\n",
    "\\end{pmatrix}$ and $X = \\begin{pmatrix}\n",
    "    1 \\\\\n",
    "    X_1 \\\\\n",
    "    \\vdots \\\\\n",
    "    X_n \\\\\n",
    "\\end{pmatrix}$.\n",
    "\n",
    "The thing to notice here is that $f(X)$ can be written as a *composition*:\n",
    "\n",
    "$$f(X) = (\\frac{1}{1+e^{-x}}) \\circ (\\theta^TX)$$\n",
    "\n",
    "The function $y = \\frac{1}{1+e^{-x}}$ is called the *sigmoid* function and is commonly denoted $\\sigma(x) = \\frac{1}{1+e^{-x}}$.  The graph of $\\sigma(x)$ is given below."
   ]
  },
  {
   "cell_type": "code",
   "execution_count": 2,
   "id": "a39440cb",
   "metadata": {},
   "outputs": [],
   "source": [
    "def sigmoid(x):\n",
    "    return 1/(1+np.exp(-x))"
   ]
  },
  {
   "cell_type": "code",
   "execution_count": 3,
   "id": "e88cb323",
   "metadata": {},
   "outputs": [
    {
     "data": {
      "text/plain": [
       "[<matplotlib.lines.Line2D at 0x27a0030bd00>]"
      ]
     },
     "execution_count": 3,
     "metadata": {},
     "output_type": "execute_result"
    },
    {
     "data": {
      "image/png": "[encoded data removed]",
      "text/plain": [
       "<Figure size 432x288 with 1 Axes>"
      ]
     },
     "metadata": {
      "needs_background": "light"
     },
     "output_type": "display_data"
    }
   ],
   "source": [
    "Xs = np.linspace(-8, 8, num = 100)\n",
    "plt.plot(Xs, np.array([sigmoid(x) for x in Xs]))"
   ]
  },
  {
   "cell_type": "markdown",
   "id": "30996648",
   "metadata": {},
   "source": [
    "$\\sigma(x)$ basically forces $\\theta^TX = \\beta_0+\\beta_1X_1+\\beta_2X_2+...+\\beta_nX_n$ to be a probability since $0 \\leq \\sigma(\\theta^TX) \\leq 1$.\n",
    "\n",
    "#### Loss Function\n",
    "\n",
    "The loss function for logistic regression is the *binary cross entropy* loss function given below.\n",
    "\n",
    "$$L_{BCE} = -\\frac{1}{N}\\sum_{i=1}^N (y_i\\log(\\hat{y}_i)+(1-y_i)\\log(1-\\hat{y}_i))$$\n",
    "\n",
    "**Derivation**: Given a row in the dataset $x_i=(x_{i1}, x_{i2},...,x_{in},y_i)$, the output of logistic regression $f(x_i)=\\hat{y}_i$ is the probability that $y_i$ is 1.  We can think of this probability $\\hat{y}_i$ as the *conditional probability* $P(y_i=1|x_i) = \\hat{y}_i$.  \n",
    "\n",
    "This probability can be expressed as \n",
    "\n",
    "$$P(y=1|x) = \\hat{y}^y(1-\\hat{y})^{1-y}$$\n",
    "\n",
    "where we have removed the subscripts for clarity.  This makes sense since $y = y_i = 0$ or $1$.\n",
    "\n",
    "If $y = 0$, then $P(y=1|x) = \\hat{y}^y(1-\\hat{y})^{1-y} = \\hat{y}^0(1-\\hat{y})^{1-0} = 1\\cdot (1-\\hat{y})^1 = (1-\\hat{y}) =$ the probability that $y \\neq 1$.\n",
    "\n",
    "If $y = 1$, then $P(y=1|x) = \\hat{y}^y(1-\\hat{y})^{1-y} = \\hat{y}^1(1-\\hat{y})^{1-1} = \\hat{y}\\cdot (1-\\hat{y})^0 = \\hat{y}\\cdot 1 = \\hat{y} =$ the probability that $y = 1$.\n",
    "\n",
    "Now, if we were to take all of these expressions $\\hat{y}^y(1-\\hat{y})^{1-y}$ for each of the $N$ rows in our dataset, sum them up, and divide by $N$ to get \n",
    "\n",
    "$$L_{Incorrect} = \\frac{1}{N}\\sum_{i=1}^N \\hat{y}^y(1-\\hat{y})^{1-y} \\text{,}$$\n",
    "\n",
    "this function would do *exactly the opposite* of what we want it to do.  We want a loss function to output low values for correct classifications and output high values for incorrect classifications.  However, $\\hat{y}^y(1-\\hat{y})^{1-y}$ is big when the classification is correct and small when the classification is incorrect.\n",
    "\n",
    "We could try negating the terms to get the function \n",
    "\n",
    "$$L_{Incorrect} = -\\frac{1}{N}\\sum_{i=1}^N \\hat{y}^y(1-\\hat{y})^{1-y} \\text{,}$$\n",
    "\n",
    "but this doesn't work either, since this function is always negative. To fix this, we take the $-\\log(x)$ to get  \n",
    "\n",
    "$-\\log(P(y=1|x))$\n",
    "\n",
    "$ = -\\log(\\hat{y}^y(1-\\hat{y})^{1-y})$\n",
    "\n",
    "$ = -(\\log(\\hat{y}^y)+\\log((1-\\hat{y})^{1-y}))$\n",
    "\n",
    "$ = -(y\\log(\\hat{y})+(1-y)\\log(1-\\hat{y})$.\n",
    "\n",
    "This works, since $0\\leq P(y=1|x) \\leq 1 \\Rightarrow -\\log(P(y=1|x))\\geq 0$ and $-\\log(x)$ is a one-to-one function.\n",
    "\n",
    "Now, taking all of these expressions $-(y\\log(\\hat{y})+(1-y)\\log(1-\\hat{y})$ for each of the $N$ rows in our dataset, summing them up, and dividing by $N$ we get the binary cross entropy loss function\n",
    "\n",
    "$$L_{BCE} = -\\frac{1}{N}\\sum_{i=1}^N (y_i\\log(\\hat{y}_i)+(1-y_i)\\log(1-\\hat{y}_i))$$\n",
    "\n",
    "##### Example 1\n",
    "\n",
    "We create a logistic regression model for the Social Network Ads dataset.  The goal is to predict if a user purchased and add or not."
   ]
  },
  {
   "cell_type": "code",
   "execution_count": 2,
   "id": "cb10358e",
   "metadata": {},
   "outputs": [],
   "source": [
    "data = pd.read_csv('Social_Network_Ads.csv')"
   ]
  },
  {
   "cell_type": "code",
   "execution_count": 3,
   "id": "0717cc99",
   "metadata": {},
   "outputs": [
    {
     "data": {
      "text/html": [
       "<div>\n",
       "<style scoped>\n",
       "    .dataframe tbody tr th:only-of-type {\n",
       "        vertical-align: middle;\n",
       "    }\n",
       "\n",
       "    .dataframe tbody tr th {\n",
       "        vertical-align: top;\n",
       "    }\n",
       "\n",
       "    .dataframe thead th {\n",
       "        text-align: right;\n",
       "    }\n",
       "</style>\n",
       "<table border=\"1\" class=\"dataframe\">\n",
       "  <thead>\n",
       "    <tr style=\"text-align: right;\">\n",
       "      <th></th>\n",
       "      <th>User ID</th>\n",
       "      <th>Gender</th>\n",
       "      <th>Age</th>\n",
       "      <th>EstimatedSalary</th>\n",
       "      <th>Purchased</th>\n",
       "    </tr>\n",
       "  </thead>\n",
       "  <tbody>\n",
       "    <tr>\n",
       "      <th>0</th>\n",
       "      <td>15624510</td>\n",
       "      <td>Male</td>\n",
       "      <td>19</td>\n",
       "      <td>19000</td>\n",
       "      <td>0</td>\n",
       "    </tr>\n",
       "    <tr>\n",
       "      <th>1</th>\n",
       "      <td>15810944</td>\n",
       "      <td>Male</td>\n",
       "      <td>35</td>\n",
       "      <td>20000</td>\n",
       "      <td>0</td>\n",
       "    </tr>\n",
       "    <tr>\n",
       "      <th>2</th>\n",
       "      <td>15668575</td>\n",
       "      <td>Female</td>\n",
       "      <td>26</td>\n",
       "      <td>43000</td>\n",
       "      <td>0</td>\n",
       "    </tr>\n",
       "    <tr>\n",
       "      <th>3</th>\n",
       "      <td>15603246</td>\n",
       "      <td>Female</td>\n",
       "      <td>27</td>\n",
       "      <td>57000</td>\n",
       "      <td>0</td>\n",
       "    </tr>\n",
       "    <tr>\n",
       "      <th>4</th>\n",
       "      <td>15804002</td>\n",
       "      <td>Male</td>\n",
       "      <td>19</td>\n",
       "      <td>76000</td>\n",
       "      <td>0</td>\n",
       "    </tr>\n",
       "  </tbody>\n",
       "</table>\n",
       "</div>"
      ],
      "text/plain": [
       "    User ID  Gender  Age  EstimatedSalary  Purchased\n",
       "0  15624510    Male   19            19000          0\n",
       "1  15810944    Male   35            20000          0\n",
       "2  15668575  Female   26            43000          0\n",
       "3  15603246  Female   27            57000          0\n",
       "4  15804002    Male   19            76000          0"
      ]
     },
     "execution_count": 3,
     "metadata": {},
     "output_type": "execute_result"
    }
   ],
   "source": [
    "data.head()"
   ]
  },
  {
   "cell_type": "code",
   "execution_count": 4,
   "id": "1a3c43af",
   "metadata": {},
   "outputs": [],
   "source": [
    "data = data.drop(columns = ['User ID'])"
   ]
  },
  {
   "cell_type": "code",
   "execution_count": 5,
   "id": "2fbeb763",
   "metadata": {},
   "outputs": [
    {
     "data": {
      "text/html": [
       "<div>\n",
       "<style scoped>\n",
       "    .dataframe tbody tr th:only-of-type {\n",
       "        vertical-align: middle;\n",
       "    }\n",
       "\n",
       "    .dataframe tbody tr th {\n",
       "        vertical-align: top;\n",
       "    }\n",
       "\n",
       "    .dataframe thead th {\n",
       "        text-align: right;\n",
       "    }\n",
       "</style>\n",
       "<table border=\"1\" class=\"dataframe\">\n",
       "  <thead>\n",
       "    <tr style=\"text-align: right;\">\n",
       "      <th></th>\n",
       "      <th>Gender</th>\n",
       "      <th>Age</th>\n",
       "      <th>EstimatedSalary</th>\n",
       "      <th>Purchased</th>\n",
       "    </tr>\n",
       "  </thead>\n",
       "  <tbody>\n",
       "    <tr>\n",
       "      <th>0</th>\n",
       "      <td>Male</td>\n",
       "      <td>19</td>\n",
       "      <td>19000</td>\n",
       "      <td>0</td>\n",
       "    </tr>\n",
       "    <tr>\n",
       "      <th>1</th>\n",
       "      <td>Male</td>\n",
       "      <td>35</td>\n",
       "      <td>20000</td>\n",
       "      <td>0</td>\n",
       "    </tr>\n",
       "    <tr>\n",
       "      <th>2</th>\n",
       "      <td>Female</td>\n",
       "      <td>26</td>\n",
       "      <td>43000</td>\n",
       "      <td>0</td>\n",
       "    </tr>\n",
       "    <tr>\n",
       "      <th>3</th>\n",
       "      <td>Female</td>\n",
       "      <td>27</td>\n",
       "      <td>57000</td>\n",
       "      <td>0</td>\n",
       "    </tr>\n",
       "    <tr>\n",
       "      <th>4</th>\n",
       "      <td>Male</td>\n",
       "      <td>19</td>\n",
       "      <td>76000</td>\n",
       "      <td>0</td>\n",
       "    </tr>\n",
       "  </tbody>\n",
       "</table>\n",
       "</div>"
      ],
      "text/plain": [
       "   Gender  Age  EstimatedSalary  Purchased\n",
       "0    Male   19            19000          0\n",
       "1    Male   35            20000          0\n",
       "2  Female   26            43000          0\n",
       "3  Female   27            57000          0\n",
       "4    Male   19            76000          0"
      ]
     },
     "execution_count": 5,
     "metadata": {},
     "output_type": "execute_result"
    }
   ],
   "source": [
    "data.head()"
   ]
  },
  {
   "cell_type": "code",
   "execution_count": 6,
   "id": "8d94ee3d",
   "metadata": {},
   "outputs": [],
   "source": [
    "data = data.rename(columns = {'Gender':'gender', 'Age':'age', 'EstimatedSalary':'salary', 'Purchased':'y'})"
   ]
  },
  {
   "cell_type": "code",
   "execution_count": 7,
   "id": "7410c4e4",
   "metadata": {},
   "outputs": [
    {
     "data": {
      "text/html": [
       "<div>\n",
       "<style scoped>\n",
       "    .dataframe tbody tr th:only-of-type {\n",
       "        vertical-align: middle;\n",
       "    }\n",
       "\n",
       "    .dataframe tbody tr th {\n",
       "        vertical-align: top;\n",
       "    }\n",
       "\n",
       "    .dataframe thead th {\n",
       "        text-align: right;\n",
       "    }\n",
       "</style>\n",
       "<table border=\"1\" class=\"dataframe\">\n",
       "  <thead>\n",
       "    <tr style=\"text-align: right;\">\n",
       "      <th></th>\n",
       "      <th>gender</th>\n",
       "      <th>age</th>\n",
       "      <th>salary</th>\n",
       "      <th>y</th>\n",
       "    </tr>\n",
       "  </thead>\n",
       "  <tbody>\n",
       "    <tr>\n",
       "      <th>0</th>\n",
       "      <td>Male</td>\n",
       "      <td>19</td>\n",
       "      <td>19000</td>\n",
       "      <td>0</td>\n",
       "    </tr>\n",
       "    <tr>\n",
       "      <th>1</th>\n",
       "      <td>Male</td>\n",
       "      <td>35</td>\n",
       "      <td>20000</td>\n",
       "      <td>0</td>\n",
       "    </tr>\n",
       "    <tr>\n",
       "      <th>2</th>\n",
       "      <td>Female</td>\n",
       "      <td>26</td>\n",
       "      <td>43000</td>\n",
       "      <td>0</td>\n",
       "    </tr>\n",
       "    <tr>\n",
       "      <th>3</th>\n",
       "      <td>Female</td>\n",
       "      <td>27</td>\n",
       "      <td>57000</td>\n",
       "      <td>0</td>\n",
       "    </tr>\n",
       "    <tr>\n",
       "      <th>4</th>\n",
       "      <td>Male</td>\n",
       "      <td>19</td>\n",
       "      <td>76000</td>\n",
       "      <td>0</td>\n",
       "    </tr>\n",
       "  </tbody>\n",
       "</table>\n",
       "</div>"
      ],
      "text/plain": [
       "   gender  age  salary  y\n",
       "0    Male   19   19000  0\n",
       "1    Male   35   20000  0\n",
       "2  Female   26   43000  0\n",
       "3  Female   27   57000  0\n",
       "4    Male   19   76000  0"
      ]
     },
     "execution_count": 7,
     "metadata": {},
     "output_type": "execute_result"
    }
   ],
   "source": [
    "data.head()"
   ]
  },
  {
   "cell_type": "markdown",
   "id": "e8b16522",
   "metadata": {},
   "source": [
    "##### Feature Scaling"
   ]
  },
  {
   "cell_type": "code",
   "execution_count": 8,
   "id": "a10e3643",
   "metadata": {},
   "outputs": [],
   "source": [
    "cols_to_scale = ['age', 'salary']"
   ]
  },
  {
   "cell_type": "code",
   "execution_count": 9,
   "id": "04bc25f3",
   "metadata": {},
   "outputs": [],
   "source": [
    "scaler=StandardScaler()\n",
    "data[cols_to_scale] = scaler.fit_transform(data[cols_to_scale])"
   ]
  },
  {
   "cell_type": "code",
   "execution_count": 10,
   "id": "01aaf699",
   "metadata": {},
   "outputs": [
    {
     "data": {
      "text/plain": [
       "age      -2.331468e-16\n",
       "salary   -1.193490e-17\n",
       "dtype: float64"
      ]
     },
     "execution_count": 10,
     "metadata": {},
     "output_type": "execute_result"
    }
   ],
   "source": [
    "data[cols_to_scale].mean()"
   ]
  },
  {
   "cell_type": "code",
   "execution_count": 11,
   "id": "16fe82a4",
   "metadata": {},
   "outputs": [
    {
     "data": {
      "text/plain": [
       "age       1.001252\n",
       "salary    1.001252\n",
       "dtype: float64"
      ]
     },
     "execution_count": 11,
     "metadata": {},
     "output_type": "execute_result"
    }
   ],
   "source": [
    "data[cols_to_scale].std()"
   ]
  },
  {
   "cell_type": "markdown",
   "id": "a943ce7b",
   "metadata": {},
   "source": [
    "##### Encode Categorical Data"
   ]
  },
  {
   "cell_type": "code",
   "execution_count": 12,
   "id": "a5cc773a",
   "metadata": {},
   "outputs": [],
   "source": [
    "data['gender'] = data.gender.apply(lambda x: 1 if x == 'Male' else 0)"
   ]
  },
  {
   "cell_type": "code",
   "execution_count": 13,
   "id": "9c782a62",
   "metadata": {},
   "outputs": [
    {
     "data": {
      "text/html": [
       "<div>\n",
       "<style scoped>\n",
       "    .dataframe tbody tr th:only-of-type {\n",
       "        vertical-align: middle;\n",
       "    }\n",
       "\n",
       "    .dataframe tbody tr th {\n",
       "        vertical-align: top;\n",
       "    }\n",
       "\n",
       "    .dataframe thead th {\n",
       "        text-align: right;\n",
       "    }\n",
       "</style>\n",
       "<table border=\"1\" class=\"dataframe\">\n",
       "  <thead>\n",
       "    <tr style=\"text-align: right;\">\n",
       "      <th></th>\n",
       "      <th>gender</th>\n",
       "      <th>age</th>\n",
       "      <th>salary</th>\n",
       "      <th>y</th>\n",
       "    </tr>\n",
       "  </thead>\n",
       "  <tbody>\n",
       "    <tr>\n",
       "      <th>0</th>\n",
       "      <td>1</td>\n",
       "      <td>-1.781797</td>\n",
       "      <td>-1.490046</td>\n",
       "      <td>0</td>\n",
       "    </tr>\n",
       "    <tr>\n",
       "      <th>1</th>\n",
       "      <td>1</td>\n",
       "      <td>-0.253587</td>\n",
       "      <td>-1.460681</td>\n",
       "      <td>0</td>\n",
       "    </tr>\n",
       "    <tr>\n",
       "      <th>2</th>\n",
       "      <td>0</td>\n",
       "      <td>-1.113206</td>\n",
       "      <td>-0.785290</td>\n",
       "      <td>0</td>\n",
       "    </tr>\n",
       "    <tr>\n",
       "      <th>3</th>\n",
       "      <td>0</td>\n",
       "      <td>-1.017692</td>\n",
       "      <td>-0.374182</td>\n",
       "      <td>0</td>\n",
       "    </tr>\n",
       "    <tr>\n",
       "      <th>4</th>\n",
       "      <td>1</td>\n",
       "      <td>-1.781797</td>\n",
       "      <td>0.183751</td>\n",
       "      <td>0</td>\n",
       "    </tr>\n",
       "  </tbody>\n",
       "</table>\n",
       "</div>"
      ],
      "text/plain": [
       "   gender       age    salary  y\n",
       "0       1 -1.781797 -1.490046  0\n",
       "1       1 -0.253587 -1.460681  0\n",
       "2       0 -1.113206 -0.785290  0\n",
       "3       0 -1.017692 -0.374182  0\n",
       "4       1 -1.781797  0.183751  0"
      ]
     },
     "execution_count": 13,
     "metadata": {},
     "output_type": "execute_result"
    }
   ],
   "source": [
    "data.head()"
   ]
  },
  {
   "cell_type": "markdown",
   "id": "d4883236",
   "metadata": {},
   "source": [
    "##### Baseline"
   ]
  },
  {
   "cell_type": "code",
   "execution_count": 14,
   "id": "c1ca47f0",
   "metadata": {},
   "outputs": [
    {
     "data": {
      "text/plain": [
       "0    257\n",
       "1    143\n",
       "Name: y, dtype: int64"
      ]
     },
     "execution_count": 14,
     "metadata": {},
     "output_type": "execute_result"
    }
   ],
   "source": [
    "data['y'].value_counts()"
   ]
  },
  {
   "cell_type": "code",
   "execution_count": 15,
   "id": "807fce98",
   "metadata": {},
   "outputs": [
    {
     "data": {
      "text/plain": [
       "0.6425"
      ]
     },
     "execution_count": 15,
     "metadata": {},
     "output_type": "execute_result"
    }
   ],
   "source": [
    "(data['y']==0).sum()/data.shape[0]"
   ]
  },
  {
   "cell_type": "markdown",
   "id": "beca3919",
   "metadata": {},
   "source": [
    "##### Create the Model"
   ]
  },
  {
   "cell_type": "code",
   "execution_count": 16,
   "id": "25ed55b6",
   "metadata": {},
   "outputs": [],
   "source": [
    "X = data.iloc[:, :-1].to_numpy()\n",
    "y = data.iloc[:, -1:].to_numpy().ravel()"
   ]
  },
  {
   "cell_type": "code",
   "execution_count": 17,
   "id": "3e561f61",
   "metadata": {},
   "outputs": [],
   "source": [
    "X_train,X_test,y_train,y_test=train_test_split(X, y, test_size=0.25, random_state=250)"
   ]
  },
  {
   "cell_type": "markdown",
   "id": "24a2275c",
   "metadata": {},
   "source": [
    "We use Sci-Kit Learn's SGDClassifier class.  Documentation can be found [here](https://scikit-learn.org/stable/modules/generated/sklearn.linear_model.SGDClassifier.html#sklearn.linear_model.SGDClassifier).\n",
    "\n",
    "The SGD stands for Stochastic Gradient Descent.\n",
    "\n",
    "Many parameters are passed to the instantiation of our SGDClassifier object below.  \n",
    "\n",
    "Parameters explained:\n",
    "+ loss = 'log_loss': this specifies which loss function to use.  When using 'log_loss' SGDClassifier is a logistic regression model.\n",
    "+ penalty = None: this specifies which type of regularization to use.  We will cover regularization later in the class.\n",
    "+ max_iter = 1000: this specifies the number of times that the entire training set is used (epoch).\n",
    "+ tol = 1e-3: tolerance used for gradient descent.\n",
    "+ learning_rate = 'constant': learning rate for gradient descent.  If set to 'constant', then the learning rate does not change throughout gradient descent.  Other options are specified in the documentation.\n",
    "+ eta0 = 0.01: the initial learning rate.  If learning_rate = 'constant', this is the learning rate.  "
   ]
  },
  {
   "cell_type": "code",
   "execution_count": 32,
   "id": "f91a08dc",
   "metadata": {},
   "outputs": [],
   "source": [
    "model = SGDClassifier(loss = 'log_loss', penalty = None, max_iter = 1000, tol = 1e-3, learning_rate = 'constant', eta0 = 0.01) "
   ]
  },
  {
   "cell_type": "code",
   "execution_count": 33,
   "id": "0b48db4e",
   "metadata": {},
   "outputs": [
    {
     "data": {
      "text/html": [
       "<style>#sk-container-id-3 {color: black;}#sk-container-id-3 pre{padding: 0;}#sk-container-id-3 div.sk-toggleable {background-color: white;}#sk-container-id-3 label.sk-toggleable__label {cursor: pointer;display: block;width: 100%;margin-bottom: 0;padding: 0.3em;box-sizing: border-box;text-align: center;}#sk-container-id-3 label.sk-toggleable__label-arrow:before {content: \"▸\";float: left;margin-right: 0.25em;color: #696969;}#sk-container-id-3 label.sk-toggleable__label-arrow:hover:before {color: black;}#sk-container-id-3 div.sk-estimator:hover label.sk-toggleable__label-arrow:before {color: black;}#sk-container-id-3 div.sk-toggleable__content {max-height: 0;max-width: 0;overflow: hidden;text-align: left;background-color: #f0f8ff;}#sk-container-id-3 div.sk-toggleable__content pre {margin: 0.2em;color: black;border-radius: 0.25em;background-color: #f0f8ff;}#sk-container-id-3 input.sk-toggleable__control:checked~div.sk-toggleable__content {max-height: 200px;max-width: 100%;overflow: auto;}#sk-container-id-3 input.sk-toggleable__control:checked~label.sk-toggleable__label-arrow:before {content: \"▾\";}#sk-container-id-3 div.sk-estimator input.sk-toggleable__control:checked~label.sk-toggleable__label {background-color: #d4ebff;}#sk-container-id-3 div.sk-label input.sk-toggleable__control:checked~label.sk-toggleable__label {background-color: #d4ebff;}#sk-container-id-3 input.sk-hidden--visually {border: 0;clip: rect(1px 1px 1px 1px);clip: rect(1px, 1px, 1px, 1px);height: 1px;margin: -1px;overflow: hidden;padding: 0;position: absolute;width: 1px;}#sk-container-id-3 div.sk-estimator {font-family: monospace;background-color: #f0f8ff;border: 1px dotted black;border-radius: 0.25em;box-sizing: border-box;margin-bottom: 0.5em;}#sk-container-id-3 div.sk-estimator:hover {background-color: #d4ebff;}#sk-container-id-3 div.sk-parallel-item::after {content: \"\";width: 100%;border-bottom: 1px solid gray;flex-grow: 1;}#sk-container-id-3 div.sk-label:hover label.sk-toggleable__label {background-color: #d4ebff;}#sk-container-id-3 div.sk-serial::before {content: \"\";position: absolute;border-left: 1px solid gray;box-sizing: border-box;top: 0;bottom: 0;left: 50%;z-index: 0;}#sk-container-id-3 div.sk-serial {display: flex;flex-direction: column;align-items: center;background-color: white;padding-right: 0.2em;padding-left: 0.2em;position: relative;}#sk-container-id-3 div.sk-item {position: relative;z-index: 1;}#sk-container-id-3 div.sk-parallel {display: flex;align-items: stretch;justify-content: center;background-color: white;position: relative;}#sk-container-id-3 div.sk-item::before, #sk-container-id-3 div.sk-parallel-item::before {content: \"\";position: absolute;border-left: 1px solid gray;box-sizing: border-box;top: 0;bottom: 0;left: 50%;z-index: -1;}#sk-container-id-3 div.sk-parallel-item {display: flex;flex-direction: column;z-index: 1;position: relative;background-color: white;}#sk-container-id-3 div.sk-parallel-item:first-child::after {align-self: flex-end;width: 50%;}#sk-container-id-3 div.sk-parallel-item:last-child::after {align-self: flex-start;width: 50%;}#sk-container-id-3 div.sk-parallel-item:only-child::after {width: 0;}#sk-container-id-3 div.sk-dashed-wrapped {border: 1px dashed gray;margin: 0 0.4em 0.5em 0.4em;box-sizing: border-box;padding-bottom: 0.4em;background-color: white;}#sk-container-id-3 div.sk-label label {font-family: monospace;font-weight: bold;display: inline-block;line-height: 1.2em;}#sk-container-id-3 div.sk-label-container {text-align: center;}#sk-container-id-3 div.sk-container {/* jupyter's `normalize.less` sets `[hidden] { display: none; }` but bootstrap.min.css set `[hidden] { display: none !important; }` so we also need the `!important` here to be able to override the default hidden behavior on the sphinx rendered scikit-learn.org. See: https://github.com/scikit-learn/scikit-learn/issues/21755 */display: inline-block !important;position: relative;}#sk-container-id-3 div.sk-text-repr-fallback {display: none;}</style><div id=\"sk-container-id-3\" class=\"sk-top-container\"><div class=\"sk-text-repr-fallback\"><pre>SGDClassifier(eta0=0.01, learning_rate=&#x27;constant&#x27;, loss=&#x27;log_loss&#x27;,\n",
       "              penalty=None)</pre><b>In a Jupyter environment, please rerun this cell to show the HTML representation or trust the notebook. <br />On GitHub, the HTML representation is unable to render, please try loading this page with nbviewer.org.</b></div><div class=\"sk-container\" hidden><div class=\"sk-item\"><div class=\"sk-estimator sk-toggleable\"><input class=\"sk-toggleable__control sk-hidden--visually\" id=\"sk-estimator-id-3\" type=\"checkbox\" checked><label for=\"sk-estimator-id-3\" class=\"sk-toggleable__label sk-toggleable__label-arrow\">SGDClassifier</label><div class=\"sk-toggleable__content\"><pre>SGDClassifier(eta0=0.01, learning_rate=&#x27;constant&#x27;, loss=&#x27;log_loss&#x27;,\n",
       "              penalty=None)</pre></div></div></div></div></div>"
      ],
      "text/plain": [
       "SGDClassifier(eta0=0.01, learning_rate='constant', loss='log_loss',\n",
       "              penalty=None)"
      ]
     },
     "execution_count": 33,
     "metadata": {},
     "output_type": "execute_result"
    }
   ],
   "source": [
    "model.fit(X_train,y_train)"
   ]
  },
  {
   "cell_type": "code",
   "execution_count": 34,
   "id": "06a921a0",
   "metadata": {},
   "outputs": [],
   "source": [
    "y_pred = model.predict(X_test)"
   ]
  },
  {
   "cell_type": "code",
   "execution_count": 35,
   "id": "b76d1aba",
   "metadata": {},
   "outputs": [
    {
     "data": {
      "text/plain": [
       "array([[50,  8],\n",
       "       [ 8, 34]], dtype=int64)"
      ]
     },
     "execution_count": 35,
     "metadata": {},
     "output_type": "execute_result"
    }
   ],
   "source": [
    "confusion_matrix(y_test, y_pred)"
   ]
  },
  {
   "cell_type": "code",
   "execution_count": 36,
   "id": "824f32db",
   "metadata": {},
   "outputs": [],
   "source": [
    "#Use H. Indexing to make look nice\n",
    "tn, fp, fn, tp = confusion_matrix(y_test, y_pred).ravel()"
   ]
  },
  {
   "cell_type": "code",
   "execution_count": 37,
   "id": "c3636822",
   "metadata": {},
   "outputs": [
    {
     "data": {
      "text/plain": [
       "(50, 8, 8, 34)"
      ]
     },
     "execution_count": 37,
     "metadata": {},
     "output_type": "execute_result"
    }
   ],
   "source": [
    "tn, fp, fn, tp"
   ]
  },
  {
   "cell_type": "markdown",
   "id": "62c3ed41",
   "metadata": {},
   "source": [
    "##### Accuracy\n",
    "\n",
    "Accuracy $= \\frac{TP+TN}{TP+TN+FP+FN}$"
   ]
  },
  {
   "cell_type": "code",
   "execution_count": 38,
   "id": "6515c898",
   "metadata": {},
   "outputs": [
    {
     "data": {
      "text/plain": [
       "0.84"
      ]
     },
     "execution_count": 38,
     "metadata": {},
     "output_type": "execute_result"
    }
   ],
   "source": [
    "(tp+tn)/(tp+tn+fp+fn)"
   ]
  },
  {
   "cell_type": "markdown",
   "id": "78b8c0e2",
   "metadata": {},
   "source": [
    "Another way to compute this using NumPy arrays is given below."
   ]
  },
  {
   "cell_type": "code",
   "execution_count": 39,
   "id": "2e37c6ba",
   "metadata": {},
   "outputs": [
    {
     "data": {
      "text/plain": [
       "0.84"
      ]
     },
     "execution_count": 39,
     "metadata": {},
     "output_type": "execute_result"
    }
   ],
   "source": [
    "(y_pred==y_test).sum()/len(y_pred)"
   ]
  },
  {
   "cell_type": "markdown",
   "id": "59d6319f",
   "metadata": {},
   "source": [
    "##### Precision\n",
    "\n",
    "Precision $= \\frac{TP}{TP+FP}$"
   ]
  },
  {
   "cell_type": "code",
   "execution_count": 40,
   "id": "b26aab9e",
   "metadata": {},
   "outputs": [
    {
     "data": {
      "text/plain": [
       "0.8095238095238095"
      ]
     },
     "execution_count": 40,
     "metadata": {},
     "output_type": "execute_result"
    }
   ],
   "source": [
    "tp/(tp+fp)"
   ]
  },
  {
   "cell_type": "code",
   "execution_count": 41,
   "id": "54139620",
   "metadata": {},
   "outputs": [
    {
     "data": {
      "text/plain": [
       "8"
      ]
     },
     "execution_count": 41,
     "metadata": {},
     "output_type": "execute_result"
    }
   ],
   "source": [
    "fp"
   ]
  },
  {
   "cell_type": "markdown",
   "id": "19afd12d",
   "metadata": {},
   "source": [
    "##### Recall\n",
    "\n",
    "Recall $= \\frac{TP}{TP+FN}$"
   ]
  },
  {
   "cell_type": "code",
   "execution_count": 42,
   "id": "fd322b83",
   "metadata": {},
   "outputs": [
    {
     "data": {
      "text/plain": [
       "0.8095238095238095"
      ]
     },
     "execution_count": 42,
     "metadata": {},
     "output_type": "execute_result"
    }
   ],
   "source": [
    "tp/(tp+fn)"
   ]
  },
  {
   "cell_type": "code",
   "execution_count": 43,
   "id": "263fd2b9",
   "metadata": {},
   "outputs": [
    {
     "data": {
      "text/plain": [
       "8"
      ]
     },
     "execution_count": 43,
     "metadata": {},
     "output_type": "execute_result"
    }
   ],
   "source": [
    "fn"
   ]
  },
  {
   "cell_type": "markdown",
   "id": "60f4a3ac",
   "metadata": {},
   "source": [
    "$\\Box$\n",
    "\n",
    "##### Example 2\n",
    "\n",
    "Re-run Example 1 but do not do scaling and see how the model does."
   ]
  },
  {
   "cell_type": "code",
   "execution_count": null,
   "id": "a8ad361d",
   "metadata": {},
   "outputs": [],
   "source": []
  }
 ],
 "metadata": {
  "kernelspec": {
   "display_name": "Python 3 (ipykernel)",
   "language": "python",
   "name": "python3"
  },
  "language_info": {
   "codemirror_mode": {
    "name": "ipython",
    "version": 3
   },
   "file_extension": ".py",
   "mimetype": "text/x-python",
   "name": "python",
   "nbconvert_exporter": "python",
   "pygments_lexer": "ipython3",
   "version": "3.9.12"
  }
 },
 "nbformat": 4,
 "nbformat_minor": 5
}
