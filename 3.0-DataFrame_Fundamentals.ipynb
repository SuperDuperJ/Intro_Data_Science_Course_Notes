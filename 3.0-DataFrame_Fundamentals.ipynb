{
 "cells": [
  {
   "cell_type": "code",
   "execution_count": 1,
   "id": "27e36f74",
   "metadata": {},
   "outputs": [],
   "source": [
    "import numpy as np\n",
    "from numpy import random\n",
    "import pandas as pd\n",
    "from sklearn import datasets"
   ]
  },
  {
   "cell_type": "markdown",
   "id": "d32a5512",
   "metadata": {},
   "source": [
    "### Series\n",
    "\n",
    "A Pandas *DataFrame* object can be thought of as multiple Pandas *Series* objects that have a shared index.  So, we start our study of DataFrames with a quick study of Series.\n",
    "\n",
    "A *Series* can be thought of as an array that is equiped with an index.\n",
    "\n",
    "##### Example 1"
   ]
  },
  {
   "cell_type": "code",
   "execution_count": 2,
   "id": "c91b91d0",
   "metadata": {},
   "outputs": [
    {
     "data": {
      "text/plain": [
       "0    50\n",
       "1    40\n",
       "2    30\n",
       "3    20\n",
       "4    10\n",
       "dtype: int64"
      ]
     },
     "execution_count": 2,
     "metadata": {},
     "output_type": "execute_result"
    }
   ],
   "source": [
    "S = pd.Series([50,40,30,20,10])\n",
    "S"
   ]
  },
  {
   "cell_type": "markdown",
   "id": "85c696b8",
   "metadata": {},
   "source": [
    "Since we did not specify and index, our series S defined one by default.  The index is the values 0, 1, 2, 3, 4.\n",
    "\n",
    "We can index the elements in our series using their index value."
   ]
  },
  {
   "cell_type": "code",
   "execution_count": 3,
   "id": "bec24796",
   "metadata": {},
   "outputs": [
    {
     "data": {
      "text/plain": [
       "40"
      ]
     },
     "execution_count": 3,
     "metadata": {},
     "output_type": "execute_result"
    }
   ],
   "source": [
    "S[1]"
   ]
  },
  {
   "cell_type": "markdown",
   "id": "0d788ba1",
   "metadata": {},
   "source": [
    "In this regard, a series is a lot like a dictionary or a mapping.\n",
    "\n",
    "Thinking of S as a list of scores in a gradebook, we can reindex our series with some names by updating the *index* attribute."
   ]
  },
  {
   "cell_type": "code",
   "execution_count": 4,
   "id": "7a99fd4e",
   "metadata": {},
   "outputs": [],
   "source": [
    "S.index = ['Adam', 'Bob', 'Carole', 'Dani', 'Ella']"
   ]
  },
  {
   "cell_type": "code",
   "execution_count": 5,
   "id": "60c0c29e",
   "metadata": {},
   "outputs": [
    {
     "data": {
      "text/plain": [
       "Adam      50\n",
       "Bob       40\n",
       "Carole    30\n",
       "Dani      20\n",
       "Ella      10\n",
       "dtype: int64"
      ]
     },
     "execution_count": 5,
     "metadata": {},
     "output_type": "execute_result"
    }
   ],
   "source": [
    "S"
   ]
  },
  {
   "cell_type": "markdown",
   "id": "7ecf1303",
   "metadata": {},
   "source": [
    "With the *values* attribute, we get an array of the scores."
   ]
  },
  {
   "cell_type": "code",
   "execution_count": 6,
   "id": "e63ac6bb",
   "metadata": {},
   "outputs": [
    {
     "data": {
      "text/plain": [
       "array([50, 40, 30, 20, 10], dtype=int64)"
      ]
     },
     "execution_count": 6,
     "metadata": {},
     "output_type": "execute_result"
    }
   ],
   "source": [
    "S.values"
   ]
  },
  {
   "cell_type": "markdown",
   "id": "74a9ac1e",
   "metadata": {},
   "source": [
    "We can easily add 10 points to everyone's score."
   ]
  },
  {
   "cell_type": "code",
   "execution_count": 7,
   "id": "8a84d870",
   "metadata": {},
   "outputs": [
    {
     "data": {
      "text/plain": [
       "Adam      60\n",
       "Bob       50\n",
       "Carole    40\n",
       "Dani      30\n",
       "Ella      20\n",
       "dtype: int64"
      ]
     },
     "execution_count": 7,
     "metadata": {},
     "output_type": "execute_result"
    }
   ],
   "source": [
    "S = S+10\n",
    "S"
   ]
  },
  {
   "cell_type": "markdown",
   "id": "dbc15a72",
   "metadata": {},
   "source": [
    "We can also select all rows with scores above 30."
   ]
  },
  {
   "cell_type": "code",
   "execution_count": 8,
   "id": "ab12f76a",
   "metadata": {},
   "outputs": [
    {
     "data": {
      "text/plain": [
       "Adam      60\n",
       "Bob       50\n",
       "Carole    40\n",
       "dtype: int64"
      ]
     },
     "execution_count": 8,
     "metadata": {},
     "output_type": "execute_result"
    }
   ],
   "source": [
    "S[S>30]"
   ]
  },
  {
   "cell_type": "markdown",
   "id": "6fe9792e",
   "metadata": {},
   "source": [
    "Suppose we have scores for another test, with the names (index) in a different order..."
   ]
  },
  {
   "cell_type": "code",
   "execution_count": 9,
   "id": "520a22fe",
   "metadata": {},
   "outputs": [
    {
     "data": {
      "text/plain": [
       "Bob       40\n",
       "Ella      30\n",
       "Carole    20\n",
       "Adam      10\n",
       "Dani       0\n",
       "dtype: int64"
      ]
     },
     "execution_count": 9,
     "metadata": {},
     "output_type": "execute_result"
    }
   ],
   "source": [
    "T = pd.Series([40,30,20,10,0], index = ['Bob', 'Ella', 'Carole', 'Adam', 'Dani'])\n",
    "T"
   ]
  },
  {
   "cell_type": "markdown",
   "id": "a6c291bd",
   "metadata": {},
   "source": [
    "... And we want get a total for the scores.  No need to reorder things.  The index takes care of it."
   ]
  },
  {
   "cell_type": "code",
   "execution_count": 10,
   "id": "525f73ca",
   "metadata": {},
   "outputs": [
    {
     "data": {
      "text/plain": [
       "Adam      70\n",
       "Bob       90\n",
       "Carole    60\n",
       "Dani      30\n",
       "Ella      50\n",
       "dtype: int64"
      ]
     },
     "execution_count": 10,
     "metadata": {},
     "output_type": "execute_result"
    }
   ],
   "source": [
    "Total = S+T\n",
    "Total"
   ]
  },
  {
   "cell_type": "markdown",
   "id": "5bd0d9d0",
   "metadata": {},
   "source": [
    "$\\Box$\n",
    "\n",
    "### DataFrame\n",
    "\n",
    "#### Creating DataFrames\n",
    "\n",
    "There are many ways to create a DataFrame.  Aside from transforming a data format (like a .csv file) into a DataFrame, there are two main Methods:\n",
    "\n",
    "+ Using a dictionary of equal-length lists or NumPy arrays\n",
    "+ Using a NumPy array and defining an index and column names\n",
    "\n",
    "##### Example 2"
   ]
  },
  {
   "cell_type": "code",
   "execution_count": 11,
   "id": "5bbe8fe2",
   "metadata": {},
   "outputs": [
    {
     "data": {
      "text/plain": [
       "array([[69.40112698, 83.45008473, 65.59059255],\n",
       "       [83.74212467, 64.06124131, 71.0839083 ],\n",
       "       [64.84775288, 66.47601022, 70.2915463 ],\n",
       "       [82.95348388, 69.82434606, 72.61430299],\n",
       "       [57.99074223, 81.41162092, 60.12029386]])"
      ]
     },
     "execution_count": 11,
     "metadata": {},
     "output_type": "execute_result"
    }
   ],
   "source": [
    "player_stats_array = np.random.normal(size = (5,3))\n",
    "player_stats_array = 10*player_stats_array+70\n",
    "player_stats_array"
   ]
  },
  {
   "cell_type": "code",
   "execution_count": 12,
   "id": "bc0f6bf0",
   "metadata": {},
   "outputs": [
    {
     "data": {
      "text/html": [
       "<div>\n",
       "<style scoped>\n",
       "    .dataframe tbody tr th:only-of-type {\n",
       "        vertical-align: middle;\n",
       "    }\n",
       "\n",
       "    .dataframe tbody tr th {\n",
       "        vertical-align: top;\n",
       "    }\n",
       "\n",
       "    .dataframe thead th {\n",
       "        text-align: right;\n",
       "    }\n",
       "</style>\n",
       "<table border=\"1\" class=\"dataframe\">\n",
       "  <thead>\n",
       "    <tr style=\"text-align: right;\">\n",
       "      <th></th>\n",
       "      <th>free_throws</th>\n",
       "      <th>shooting</th>\n",
       "      <th>3_ball</th>\n",
       "    </tr>\n",
       "  </thead>\n",
       "  <tbody>\n",
       "    <tr>\n",
       "      <th>LeBron</th>\n",
       "      <td>69.401127</td>\n",
       "      <td>83.450085</td>\n",
       "      <td>65.590593</td>\n",
       "    </tr>\n",
       "    <tr>\n",
       "      <th>Larry</th>\n",
       "      <td>83.742125</td>\n",
       "      <td>64.061241</td>\n",
       "      <td>71.083908</td>\n",
       "    </tr>\n",
       "    <tr>\n",
       "      <th>Michael</th>\n",
       "      <td>64.847753</td>\n",
       "      <td>66.476010</td>\n",
       "      <td>70.291546</td>\n",
       "    </tr>\n",
       "    <tr>\n",
       "      <th>Yannis</th>\n",
       "      <td>82.953484</td>\n",
       "      <td>69.824346</td>\n",
       "      <td>72.614303</td>\n",
       "    </tr>\n",
       "    <tr>\n",
       "      <th>Steph</th>\n",
       "      <td>57.990742</td>\n",
       "      <td>81.411621</td>\n",
       "      <td>60.120294</td>\n",
       "    </tr>\n",
       "  </tbody>\n",
       "</table>\n",
       "</div>"
      ],
      "text/plain": [
       "         free_throws   shooting     3_ball\n",
       "LeBron     69.401127  83.450085  65.590593\n",
       "Larry      83.742125  64.061241  71.083908\n",
       "Michael    64.847753  66.476010  70.291546\n",
       "Yannis     82.953484  69.824346  72.614303\n",
       "Steph      57.990742  81.411621  60.120294"
      ]
     },
     "execution_count": 12,
     "metadata": {},
     "output_type": "execute_result"
    }
   ],
   "source": [
    "player_stats = pd.DataFrame(player_stats_array, index = ['LeBron', 'Larry', 'Michael', 'Yannis', 'Steph'], columns = ['free_throws', 'shooting', '3_ball'])\n",
    "player_stats"
   ]
  },
  {
   "cell_type": "markdown",
   "id": "62148dec",
   "metadata": {},
   "source": [
    "We can get the shape of our DataFrame using the *shape* attribute."
   ]
  },
  {
   "cell_type": "code",
   "execution_count": 13,
   "id": "67c02ac8",
   "metadata": {},
   "outputs": [
    {
     "data": {
      "text/plain": [
       "(5, 3)"
      ]
     },
     "execution_count": 13,
     "metadata": {},
     "output_type": "execute_result"
    }
   ],
   "source": [
    "player_stats.shape"
   ]
  },
  {
   "cell_type": "markdown",
   "id": "757bf7c5",
   "metadata": {},
   "source": [
    "$\\Box$\n",
    "\n",
    "##### Example 3"
   ]
  },
  {
   "cell_type": "code",
   "execution_count": 14,
   "id": "e2c8140d",
   "metadata": {},
   "outputs": [],
   "source": [
    "gradebook_dict = {'Name': ['Adam', 'Bob', 'Carole', 'Dani', 'Ella'], 'HW': [30, 40, 20, 30, 40], 'Quiz1': [10, 5, 20, 15, 20], 'Exam1': [95.2, 56.5, 75.8, 62.0, 99.7]}\n",
    "\n",
    "gradebook = pd.DataFrame(gradebook_dict)"
   ]
  },
  {
   "cell_type": "code",
   "execution_count": 15,
   "id": "a610a60a",
   "metadata": {},
   "outputs": [
    {
     "data": {
      "text/html": [
       "<div>\n",
       "<style scoped>\n",
       "    .dataframe tbody tr th:only-of-type {\n",
       "        vertical-align: middle;\n",
       "    }\n",
       "\n",
       "    .dataframe tbody tr th {\n",
       "        vertical-align: top;\n",
       "    }\n",
       "\n",
       "    .dataframe thead th {\n",
       "        text-align: right;\n",
       "    }\n",
       "</style>\n",
       "<table border=\"1\" class=\"dataframe\">\n",
       "  <thead>\n",
       "    <tr style=\"text-align: right;\">\n",
       "      <th></th>\n",
       "      <th>Name</th>\n",
       "      <th>HW</th>\n",
       "      <th>Quiz1</th>\n",
       "      <th>Exam1</th>\n",
       "    </tr>\n",
       "  </thead>\n",
       "  <tbody>\n",
       "    <tr>\n",
       "      <th>0</th>\n",
       "      <td>Adam</td>\n",
       "      <td>30</td>\n",
       "      <td>10</td>\n",
       "      <td>95.2</td>\n",
       "    </tr>\n",
       "    <tr>\n",
       "      <th>1</th>\n",
       "      <td>Bob</td>\n",
       "      <td>40</td>\n",
       "      <td>5</td>\n",
       "      <td>56.5</td>\n",
       "    </tr>\n",
       "    <tr>\n",
       "      <th>2</th>\n",
       "      <td>Carole</td>\n",
       "      <td>20</td>\n",
       "      <td>20</td>\n",
       "      <td>75.8</td>\n",
       "    </tr>\n",
       "    <tr>\n",
       "      <th>3</th>\n",
       "      <td>Dani</td>\n",
       "      <td>30</td>\n",
       "      <td>15</td>\n",
       "      <td>62.0</td>\n",
       "    </tr>\n",
       "    <tr>\n",
       "      <th>4</th>\n",
       "      <td>Ella</td>\n",
       "      <td>40</td>\n",
       "      <td>20</td>\n",
       "      <td>99.7</td>\n",
       "    </tr>\n",
       "  </tbody>\n",
       "</table>\n",
       "</div>"
      ],
      "text/plain": [
       "     Name  HW  Quiz1  Exam1\n",
       "0    Adam  30     10   95.2\n",
       "1     Bob  40      5   56.5\n",
       "2  Carole  20     20   75.8\n",
       "3    Dani  30     15   62.0\n",
       "4    Ella  40     20   99.7"
      ]
     },
     "execution_count": 15,
     "metadata": {},
     "output_type": "execute_result"
    }
   ],
   "source": [
    "gradebook"
   ]
  },
  {
   "cell_type": "code",
   "execution_count": 16,
   "id": "cc3af49f",
   "metadata": {},
   "outputs": [
    {
     "data": {
      "text/plain": [
       "(5, 4)"
      ]
     },
     "execution_count": 16,
     "metadata": {},
     "output_type": "execute_result"
    }
   ],
   "source": [
    "gradebook.shape"
   ]
  },
  {
   "cell_type": "markdown",
   "id": "a7ec3f66",
   "metadata": {},
   "source": [
    "$\\Box$\n",
    "\n",
    "#### Selecting Columns\n",
    "\n",
    "We can select a single column from our gradebook DataFrame.  A Series is returned.\n",
    "\n",
    "##### Example 4"
   ]
  },
  {
   "cell_type": "code",
   "execution_count": 17,
   "id": "914fd127",
   "metadata": {},
   "outputs": [
    {
     "data": {
      "text/plain": [
       "0    95.2\n",
       "1    56.5\n",
       "2    75.8\n",
       "3    62.0\n",
       "4    99.7\n",
       "Name: Exam1, dtype: float64"
      ]
     },
     "execution_count": 17,
     "metadata": {},
     "output_type": "execute_result"
    }
   ],
   "source": [
    "gradebook['Exam1']"
   ]
  },
  {
   "cell_type": "code",
   "execution_count": 18,
   "id": "6b46f8d0",
   "metadata": {},
   "outputs": [
    {
     "data": {
      "text/plain": [
       "0    95.2\n",
       "1    56.5\n",
       "2    75.8\n",
       "3    62.0\n",
       "4    99.7\n",
       "Name: Exam1, dtype: float64"
      ]
     },
     "execution_count": 18,
     "metadata": {},
     "output_type": "execute_result"
    }
   ],
   "source": [
    "gradebook.Exam1"
   ]
  },
  {
   "cell_type": "code",
   "execution_count": 19,
   "id": "d4f48084",
   "metadata": {},
   "outputs": [
    {
     "data": {
      "text/plain": [
       "pandas.core.series.Series"
      ]
     },
     "execution_count": 19,
     "metadata": {},
     "output_type": "execute_result"
    }
   ],
   "source": [
    "type(gradebook['Exam1'])"
   ]
  },
  {
   "cell_type": "markdown",
   "id": "ce8c6bef",
   "metadata": {},
   "source": [
    "$\\Box$\n",
    "\n",
    "##### Example 5\n",
    "\n",
    "We can select multiple columns by passing a list of column names."
   ]
  },
  {
   "cell_type": "code",
   "execution_count": 20,
   "id": "6cdf766f",
   "metadata": {},
   "outputs": [
    {
     "data": {
      "text/html": [
       "<div>\n",
       "<style scoped>\n",
       "    .dataframe tbody tr th:only-of-type {\n",
       "        vertical-align: middle;\n",
       "    }\n",
       "\n",
       "    .dataframe tbody tr th {\n",
       "        vertical-align: top;\n",
       "    }\n",
       "\n",
       "    .dataframe thead th {\n",
       "        text-align: right;\n",
       "    }\n",
       "</style>\n",
       "<table border=\"1\" class=\"dataframe\">\n",
       "  <thead>\n",
       "    <tr style=\"text-align: right;\">\n",
       "      <th></th>\n",
       "      <th>Quiz1</th>\n",
       "      <th>Exam1</th>\n",
       "    </tr>\n",
       "  </thead>\n",
       "  <tbody>\n",
       "    <tr>\n",
       "      <th>0</th>\n",
       "      <td>10</td>\n",
       "      <td>95.2</td>\n",
       "    </tr>\n",
       "    <tr>\n",
       "      <th>1</th>\n",
       "      <td>5</td>\n",
       "      <td>56.5</td>\n",
       "    </tr>\n",
       "    <tr>\n",
       "      <th>2</th>\n",
       "      <td>20</td>\n",
       "      <td>75.8</td>\n",
       "    </tr>\n",
       "    <tr>\n",
       "      <th>3</th>\n",
       "      <td>15</td>\n",
       "      <td>62.0</td>\n",
       "    </tr>\n",
       "    <tr>\n",
       "      <th>4</th>\n",
       "      <td>20</td>\n",
       "      <td>99.7</td>\n",
       "    </tr>\n",
       "  </tbody>\n",
       "</table>\n",
       "</div>"
      ],
      "text/plain": [
       "   Quiz1  Exam1\n",
       "0     10   95.2\n",
       "1      5   56.5\n",
       "2     20   75.8\n",
       "3     15   62.0\n",
       "4     20   99.7"
      ]
     },
     "execution_count": 20,
     "metadata": {},
     "output_type": "execute_result"
    }
   ],
   "source": [
    "gradebook[['Quiz1', 'Exam1']]"
   ]
  },
  {
   "cell_type": "markdown",
   "id": "94858392",
   "metadata": {},
   "source": [
    "$\\Box$\n",
    "\n",
    "### Selecting Pieces of a DataFrame\n",
    "\n",
    "#### Conditional Selection\n",
    "\n",
    "Using a condition that evaluates to True or False, we can select pieces of a DataFrame.\n",
    "\n",
    "##### Example 6\n",
    "\n",
    "Suppose we want to select all rows that got a passing score on Exam 1."
   ]
  },
  {
   "cell_type": "code",
   "execution_count": 21,
   "id": "54aceafd",
   "metadata": {},
   "outputs": [
    {
     "data": {
      "text/html": [
       "<div>\n",
       "<style scoped>\n",
       "    .dataframe tbody tr th:only-of-type {\n",
       "        vertical-align: middle;\n",
       "    }\n",
       "\n",
       "    .dataframe tbody tr th {\n",
       "        vertical-align: top;\n",
       "    }\n",
       "\n",
       "    .dataframe thead th {\n",
       "        text-align: right;\n",
       "    }\n",
       "</style>\n",
       "<table border=\"1\" class=\"dataframe\">\n",
       "  <thead>\n",
       "    <tr style=\"text-align: right;\">\n",
       "      <th></th>\n",
       "      <th>Name</th>\n",
       "      <th>HW</th>\n",
       "      <th>Quiz1</th>\n",
       "      <th>Exam1</th>\n",
       "    </tr>\n",
       "  </thead>\n",
       "  <tbody>\n",
       "    <tr>\n",
       "      <th>0</th>\n",
       "      <td>Adam</td>\n",
       "      <td>30</td>\n",
       "      <td>10</td>\n",
       "      <td>95.2</td>\n",
       "    </tr>\n",
       "    <tr>\n",
       "      <th>1</th>\n",
       "      <td>Bob</td>\n",
       "      <td>40</td>\n",
       "      <td>5</td>\n",
       "      <td>56.5</td>\n",
       "    </tr>\n",
       "    <tr>\n",
       "      <th>2</th>\n",
       "      <td>Carole</td>\n",
       "      <td>20</td>\n",
       "      <td>20</td>\n",
       "      <td>75.8</td>\n",
       "    </tr>\n",
       "    <tr>\n",
       "      <th>3</th>\n",
       "      <td>Dani</td>\n",
       "      <td>30</td>\n",
       "      <td>15</td>\n",
       "      <td>62.0</td>\n",
       "    </tr>\n",
       "    <tr>\n",
       "      <th>4</th>\n",
       "      <td>Ella</td>\n",
       "      <td>40</td>\n",
       "      <td>20</td>\n",
       "      <td>99.7</td>\n",
       "    </tr>\n",
       "  </tbody>\n",
       "</table>\n",
       "</div>"
      ],
      "text/plain": [
       "     Name  HW  Quiz1  Exam1\n",
       "0    Adam  30     10   95.2\n",
       "1     Bob  40      5   56.5\n",
       "2  Carole  20     20   75.8\n",
       "3    Dani  30     15   62.0\n",
       "4    Ella  40     20   99.7"
      ]
     },
     "execution_count": 21,
     "metadata": {},
     "output_type": "execute_result"
    }
   ],
   "source": [
    "gradebook"
   ]
  },
  {
   "cell_type": "code",
   "execution_count": 5,
   "id": "636a37d9",
   "metadata": {},
   "outputs": [
    {
     "data": {
      "text/html": [
       "<div>\n",
       "<style scoped>\n",
       "    .dataframe tbody tr th:only-of-type {\n",
       "        vertical-align: middle;\n",
       "    }\n",
       "\n",
       "    .dataframe tbody tr th {\n",
       "        vertical-align: top;\n",
       "    }\n",
       "\n",
       "    .dataframe thead th {\n",
       "        text-align: right;\n",
       "    }\n",
       "</style>\n",
       "<table border=\"1\" class=\"dataframe\">\n",
       "  <thead>\n",
       "    <tr style=\"text-align: right;\">\n",
       "      <th></th>\n",
       "      <th>Name</th>\n",
       "      <th>HW</th>\n",
       "      <th>Quiz1</th>\n",
       "      <th>Exam1</th>\n",
       "    </tr>\n",
       "  </thead>\n",
       "  <tbody>\n",
       "    <tr>\n",
       "      <th>0</th>\n",
       "      <td>Adam</td>\n",
       "      <td>30</td>\n",
       "      <td>10</td>\n",
       "      <td>95.2</td>\n",
       "    </tr>\n",
       "    <tr>\n",
       "      <th>2</th>\n",
       "      <td>Carole</td>\n",
       "      <td>20</td>\n",
       "      <td>20</td>\n",
       "      <td>75.8</td>\n",
       "    </tr>\n",
       "    <tr>\n",
       "      <th>4</th>\n",
       "      <td>Ella</td>\n",
       "      <td>40</td>\n",
       "      <td>20</td>\n",
       "      <td>99.7</td>\n",
       "    </tr>\n",
       "  </tbody>\n",
       "</table>\n",
       "</div>"
      ],
      "text/plain": [
       "     Name  HW  Quiz1  Exam1\n",
       "0    Adam  30     10   95.2\n",
       "2  Carole  20     20   75.8\n",
       "4    Ella  40     20   99.7"
      ]
     },
     "execution_count": 5,
     "metadata": {},
     "output_type": "execute_result"
    }
   ],
   "source": [
    "gradebook[gradebook['Exam1']>=70.0]"
   ]
  },
  {
   "cell_type": "markdown",
   "id": "8184a75c",
   "metadata": {},
   "source": [
    "This is a new DataFrame.  So, if we just want the names of these students who passed Exam 1, we can select them similarly to what we did in Example 4. "
   ]
  },
  {
   "cell_type": "code",
   "execution_count": 14,
   "id": "38933e4a",
   "metadata": {},
   "outputs": [
    {
     "data": {
      "text/plain": [
       "0      Adam\n",
       "2    Carole\n",
       "4      Ella\n",
       "Name: Name, dtype: object"
      ]
     },
     "execution_count": 14,
     "metadata": {},
     "output_type": "execute_result"
    }
   ],
   "source": [
    "gradebook[gradebook['Exam1']>=70.0]['Name']"
   ]
  },
  {
   "cell_type": "markdown",
   "id": "2929cf8f",
   "metadata": {},
   "source": [
    "What if we want all rows that got a passing score on Exam 1 and a score of 20 on Quiz 1?\n",
    "\n",
    "In this case we need to be a little careful.\n",
    "\n",
    "We need parenthesis around each logical condition and we need to use the bitwise and operator &."
   ]
  },
  {
   "cell_type": "code",
   "execution_count": 11,
   "id": "632aa3f9",
   "metadata": {},
   "outputs": [
    {
     "data": {
      "text/html": [
       "<div>\n",
       "<style scoped>\n",
       "    .dataframe tbody tr th:only-of-type {\n",
       "        vertical-align: middle;\n",
       "    }\n",
       "\n",
       "    .dataframe tbody tr th {\n",
       "        vertical-align: top;\n",
       "    }\n",
       "\n",
       "    .dataframe thead th {\n",
       "        text-align: right;\n",
       "    }\n",
       "</style>\n",
       "<table border=\"1\" class=\"dataframe\">\n",
       "  <thead>\n",
       "    <tr style=\"text-align: right;\">\n",
       "      <th></th>\n",
       "      <th>Name</th>\n",
       "      <th>HW</th>\n",
       "      <th>Quiz1</th>\n",
       "      <th>Exam1</th>\n",
       "    </tr>\n",
       "  </thead>\n",
       "  <tbody>\n",
       "    <tr>\n",
       "      <th>2</th>\n",
       "      <td>Carole</td>\n",
       "      <td>20</td>\n",
       "      <td>20</td>\n",
       "      <td>75.8</td>\n",
       "    </tr>\n",
       "    <tr>\n",
       "      <th>4</th>\n",
       "      <td>Ella</td>\n",
       "      <td>40</td>\n",
       "      <td>20</td>\n",
       "      <td>99.7</td>\n",
       "    </tr>\n",
       "  </tbody>\n",
       "</table>\n",
       "</div>"
      ],
      "text/plain": [
       "     Name  HW  Quiz1  Exam1\n",
       "2  Carole  20     20   75.8\n",
       "4    Ella  40     20   99.7"
      ]
     },
     "execution_count": 11,
     "metadata": {},
     "output_type": "execute_result"
    }
   ],
   "source": [
    "gradebook[(gradebook['Exam1']>=70.0) & (gradebook['Quiz1']==20)]"
   ]
  },
  {
   "cell_type": "markdown",
   "id": "ab3f5efc",
   "metadata": {},
   "source": [
    "Or works similarly.  The bitwise or operator is the |. "
   ]
  },
  {
   "cell_type": "code",
   "execution_count": 15,
   "id": "8f78f104",
   "metadata": {},
   "outputs": [
    {
     "data": {
      "text/html": [
       "<div>\n",
       "<style scoped>\n",
       "    .dataframe tbody tr th:only-of-type {\n",
       "        vertical-align: middle;\n",
       "    }\n",
       "\n",
       "    .dataframe tbody tr th {\n",
       "        vertical-align: top;\n",
       "    }\n",
       "\n",
       "    .dataframe thead th {\n",
       "        text-align: right;\n",
       "    }\n",
       "</style>\n",
       "<table border=\"1\" class=\"dataframe\">\n",
       "  <thead>\n",
       "    <tr style=\"text-align: right;\">\n",
       "      <th></th>\n",
       "      <th>Name</th>\n",
       "      <th>HW</th>\n",
       "      <th>Quiz1</th>\n",
       "      <th>Exam1</th>\n",
       "    </tr>\n",
       "  </thead>\n",
       "  <tbody>\n",
       "    <tr>\n",
       "      <th>0</th>\n",
       "      <td>Adam</td>\n",
       "      <td>30</td>\n",
       "      <td>10</td>\n",
       "      <td>95.2</td>\n",
       "    </tr>\n",
       "    <tr>\n",
       "      <th>2</th>\n",
       "      <td>Carole</td>\n",
       "      <td>20</td>\n",
       "      <td>20</td>\n",
       "      <td>75.8</td>\n",
       "    </tr>\n",
       "    <tr>\n",
       "      <th>4</th>\n",
       "      <td>Ella</td>\n",
       "      <td>40</td>\n",
       "      <td>20</td>\n",
       "      <td>99.7</td>\n",
       "    </tr>\n",
       "  </tbody>\n",
       "</table>\n",
       "</div>"
      ],
      "text/plain": [
       "     Name  HW  Quiz1  Exam1\n",
       "0    Adam  30     10   95.2\n",
       "2  Carole  20     20   75.8\n",
       "4    Ella  40     20   99.7"
      ]
     },
     "execution_count": 15,
     "metadata": {},
     "output_type": "execute_result"
    }
   ],
   "source": [
    "gradebook[(gradebook['Exam1']>=70.0) | (gradebook['Quiz1']==20)]"
   ]
  },
  {
   "cell_type": "markdown",
   "id": "6c5faae8",
   "metadata": {},
   "source": [
    "Using the *isin* method, we can select all rows for which it is true that a value in the selected column is in a given list."
   ]
  },
  {
   "cell_type": "code",
   "execution_count": 22,
   "id": "27316ee2",
   "metadata": {},
   "outputs": [
    {
     "data": {
      "text/html": [
       "<div>\n",
       "<style scoped>\n",
       "    .dataframe tbody tr th:only-of-type {\n",
       "        vertical-align: middle;\n",
       "    }\n",
       "\n",
       "    .dataframe tbody tr th {\n",
       "        vertical-align: top;\n",
       "    }\n",
       "\n",
       "    .dataframe thead th {\n",
       "        text-align: right;\n",
       "    }\n",
       "</style>\n",
       "<table border=\"1\" class=\"dataframe\">\n",
       "  <thead>\n",
       "    <tr style=\"text-align: right;\">\n",
       "      <th></th>\n",
       "      <th>Name</th>\n",
       "      <th>HW</th>\n",
       "      <th>Quiz1</th>\n",
       "      <th>Exam1</th>\n",
       "    </tr>\n",
       "  </thead>\n",
       "  <tbody>\n",
       "    <tr>\n",
       "      <th>0</th>\n",
       "      <td>Adam</td>\n",
       "      <td>30</td>\n",
       "      <td>10</td>\n",
       "      <td>95.2</td>\n",
       "    </tr>\n",
       "    <tr>\n",
       "      <th>1</th>\n",
       "      <td>Bob</td>\n",
       "      <td>40</td>\n",
       "      <td>5</td>\n",
       "      <td>56.5</td>\n",
       "    </tr>\n",
       "    <tr>\n",
       "      <th>2</th>\n",
       "      <td>Carole</td>\n",
       "      <td>20</td>\n",
       "      <td>20</td>\n",
       "      <td>75.8</td>\n",
       "    </tr>\n",
       "    <tr>\n",
       "      <th>3</th>\n",
       "      <td>Dani</td>\n",
       "      <td>30</td>\n",
       "      <td>15</td>\n",
       "      <td>62.0</td>\n",
       "    </tr>\n",
       "    <tr>\n",
       "      <th>4</th>\n",
       "      <td>Ella</td>\n",
       "      <td>40</td>\n",
       "      <td>20</td>\n",
       "      <td>99.7</td>\n",
       "    </tr>\n",
       "  </tbody>\n",
       "</table>\n",
       "</div>"
      ],
      "text/plain": [
       "     Name  HW  Quiz1  Exam1\n",
       "0    Adam  30     10   95.2\n",
       "1     Bob  40      5   56.5\n",
       "2  Carole  20     20   75.8\n",
       "3    Dani  30     15   62.0\n",
       "4    Ella  40     20   99.7"
      ]
     },
     "execution_count": 22,
     "metadata": {},
     "output_type": "execute_result"
    }
   ],
   "source": [
    "gradebook"
   ]
  },
  {
   "cell_type": "code",
   "execution_count": 43,
   "id": "2402a331",
   "metadata": {},
   "outputs": [
    {
     "data": {
      "text/html": [
       "<div>\n",
       "<style scoped>\n",
       "    .dataframe tbody tr th:only-of-type {\n",
       "        vertical-align: middle;\n",
       "    }\n",
       "\n",
       "    .dataframe tbody tr th {\n",
       "        vertical-align: top;\n",
       "    }\n",
       "\n",
       "    .dataframe thead th {\n",
       "        text-align: right;\n",
       "    }\n",
       "</style>\n",
       "<table border=\"1\" class=\"dataframe\">\n",
       "  <thead>\n",
       "    <tr style=\"text-align: right;\">\n",
       "      <th></th>\n",
       "      <th>Name</th>\n",
       "      <th>HW</th>\n",
       "      <th>Quiz1</th>\n",
       "      <th>Exam1</th>\n",
       "    </tr>\n",
       "  </thead>\n",
       "  <tbody>\n",
       "    <tr>\n",
       "      <th>0</th>\n",
       "      <td>Adam</td>\n",
       "      <td>30</td>\n",
       "      <td>10</td>\n",
       "      <td>95.2</td>\n",
       "    </tr>\n",
       "    <tr>\n",
       "      <th>2</th>\n",
       "      <td>Carole</td>\n",
       "      <td>20</td>\n",
       "      <td>20</td>\n",
       "      <td>75.8</td>\n",
       "    </tr>\n",
       "    <tr>\n",
       "      <th>4</th>\n",
       "      <td>Ella</td>\n",
       "      <td>40</td>\n",
       "      <td>20</td>\n",
       "      <td>99.7</td>\n",
       "    </tr>\n",
       "  </tbody>\n",
       "</table>\n",
       "</div>"
      ],
      "text/plain": [
       "     Name  HW  Quiz1  Exam1\n",
       "0    Adam  30     10   95.2\n",
       "2  Carole  20     20   75.8\n",
       "4    Ella  40     20   99.7"
      ]
     },
     "execution_count": 43,
     "metadata": {},
     "output_type": "execute_result"
    }
   ],
   "source": [
    "gradebook[gradebook['Quiz1'].isin([10,20])]"
   ]
  },
  {
   "cell_type": "markdown",
   "id": "239c5e0c",
   "metadata": {},
   "source": [
    "$\\Box$\n",
    "\n",
    "#### Loc and iLoc\n",
    "\n",
    "The *loc* and *iloc* methods allow for rows and columns to be selected using syntax similar to that of NumPy.\n",
    "\n",
    "iloc allows for indexing using integers.\n",
    "\n",
    "##### Example 7"
   ]
  },
  {
   "cell_type": "code",
   "execution_count": 23,
   "id": "f36bde8d",
   "metadata": {},
   "outputs": [
    {
     "data": {
      "text/html": [
       "<div>\n",
       "<style scoped>\n",
       "    .dataframe tbody tr th:only-of-type {\n",
       "        vertical-align: middle;\n",
       "    }\n",
       "\n",
       "    .dataframe tbody tr th {\n",
       "        vertical-align: top;\n",
       "    }\n",
       "\n",
       "    .dataframe thead th {\n",
       "        text-align: right;\n",
       "    }\n",
       "</style>\n",
       "<table border=\"1\" class=\"dataframe\">\n",
       "  <thead>\n",
       "    <tr style=\"text-align: right;\">\n",
       "      <th></th>\n",
       "      <th>Name</th>\n",
       "      <th>HW</th>\n",
       "      <th>Quiz1</th>\n",
       "      <th>Exam1</th>\n",
       "    </tr>\n",
       "  </thead>\n",
       "  <tbody>\n",
       "    <tr>\n",
       "      <th>0</th>\n",
       "      <td>Adam</td>\n",
       "      <td>30</td>\n",
       "      <td>10</td>\n",
       "      <td>95.2</td>\n",
       "    </tr>\n",
       "    <tr>\n",
       "      <th>1</th>\n",
       "      <td>Bob</td>\n",
       "      <td>40</td>\n",
       "      <td>5</td>\n",
       "      <td>56.5</td>\n",
       "    </tr>\n",
       "    <tr>\n",
       "      <th>2</th>\n",
       "      <td>Carole</td>\n",
       "      <td>20</td>\n",
       "      <td>20</td>\n",
       "      <td>75.8</td>\n",
       "    </tr>\n",
       "    <tr>\n",
       "      <th>3</th>\n",
       "      <td>Dani</td>\n",
       "      <td>30</td>\n",
       "      <td>15</td>\n",
       "      <td>62.0</td>\n",
       "    </tr>\n",
       "    <tr>\n",
       "      <th>4</th>\n",
       "      <td>Ella</td>\n",
       "      <td>40</td>\n",
       "      <td>20</td>\n",
       "      <td>99.7</td>\n",
       "    </tr>\n",
       "  </tbody>\n",
       "</table>\n",
       "</div>"
      ],
      "text/plain": [
       "     Name  HW  Quiz1  Exam1\n",
       "0    Adam  30     10   95.2\n",
       "1     Bob  40      5   56.5\n",
       "2  Carole  20     20   75.8\n",
       "3    Dani  30     15   62.0\n",
       "4    Ella  40     20   99.7"
      ]
     },
     "execution_count": 23,
     "metadata": {},
     "output_type": "execute_result"
    }
   ],
   "source": [
    "#Recall our gradebook\n",
    "gradebook"
   ]
  },
  {
   "cell_type": "code",
   "execution_count": 24,
   "id": "5ace3425",
   "metadata": {},
   "outputs": [
    {
     "data": {
      "text/html": [
       "<div>\n",
       "<style scoped>\n",
       "    .dataframe tbody tr th:only-of-type {\n",
       "        vertical-align: middle;\n",
       "    }\n",
       "\n",
       "    .dataframe tbody tr th {\n",
       "        vertical-align: top;\n",
       "    }\n",
       "\n",
       "    .dataframe thead th {\n",
       "        text-align: right;\n",
       "    }\n",
       "</style>\n",
       "<table border=\"1\" class=\"dataframe\">\n",
       "  <thead>\n",
       "    <tr style=\"text-align: right;\">\n",
       "      <th></th>\n",
       "      <th>Quiz1</th>\n",
       "      <th>Exam1</th>\n",
       "    </tr>\n",
       "  </thead>\n",
       "  <tbody>\n",
       "    <tr>\n",
       "      <th>1</th>\n",
       "      <td>5</td>\n",
       "      <td>56.5</td>\n",
       "    </tr>\n",
       "    <tr>\n",
       "      <th>2</th>\n",
       "      <td>20</td>\n",
       "      <td>75.8</td>\n",
       "    </tr>\n",
       "    <tr>\n",
       "      <th>3</th>\n",
       "      <td>15</td>\n",
       "      <td>62.0</td>\n",
       "    </tr>\n",
       "  </tbody>\n",
       "</table>\n",
       "</div>"
      ],
      "text/plain": [
       "   Quiz1  Exam1\n",
       "1      5   56.5\n",
       "2     20   75.8\n",
       "3     15   62.0"
      ]
     },
     "execution_count": 24,
     "metadata": {},
     "output_type": "execute_result"
    }
   ],
   "source": [
    "gradebook.iloc[1:4, 2:4]"
   ]
  },
  {
   "cell_type": "code",
   "execution_count": 25,
   "id": "dbbb093f",
   "metadata": {},
   "outputs": [
    {
     "data": {
      "text/html": [
       "<div>\n",
       "<style scoped>\n",
       "    .dataframe tbody tr th:only-of-type {\n",
       "        vertical-align: middle;\n",
       "    }\n",
       "\n",
       "    .dataframe tbody tr th {\n",
       "        vertical-align: top;\n",
       "    }\n",
       "\n",
       "    .dataframe thead th {\n",
       "        text-align: right;\n",
       "    }\n",
       "</style>\n",
       "<table border=\"1\" class=\"dataframe\">\n",
       "  <thead>\n",
       "    <tr style=\"text-align: right;\">\n",
       "      <th></th>\n",
       "      <th>HW</th>\n",
       "      <th>Quiz1</th>\n",
       "      <th>Exam1</th>\n",
       "    </tr>\n",
       "  </thead>\n",
       "  <tbody>\n",
       "    <tr>\n",
       "      <th>0</th>\n",
       "      <td>30</td>\n",
       "      <td>10</td>\n",
       "      <td>95.2</td>\n",
       "    </tr>\n",
       "    <tr>\n",
       "      <th>1</th>\n",
       "      <td>40</td>\n",
       "      <td>5</td>\n",
       "      <td>56.5</td>\n",
       "    </tr>\n",
       "    <tr>\n",
       "      <th>2</th>\n",
       "      <td>20</td>\n",
       "      <td>20</td>\n",
       "      <td>75.8</td>\n",
       "    </tr>\n",
       "    <tr>\n",
       "      <th>3</th>\n",
       "      <td>30</td>\n",
       "      <td>15</td>\n",
       "      <td>62.0</td>\n",
       "    </tr>\n",
       "    <tr>\n",
       "      <th>4</th>\n",
       "      <td>40</td>\n",
       "      <td>20</td>\n",
       "      <td>99.7</td>\n",
       "    </tr>\n",
       "  </tbody>\n",
       "</table>\n",
       "</div>"
      ],
      "text/plain": [
       "   HW  Quiz1  Exam1\n",
       "0  30     10   95.2\n",
       "1  40      5   56.5\n",
       "2  20     20   75.8\n",
       "3  30     15   62.0\n",
       "4  40     20   99.7"
      ]
     },
     "execution_count": 25,
     "metadata": {},
     "output_type": "execute_result"
    }
   ],
   "source": [
    "gradebook.iloc[:, 1:]"
   ]
  },
  {
   "cell_type": "markdown",
   "id": "7aed637b",
   "metadata": {},
   "source": [
    "We can index with lists of integers."
   ]
  },
  {
   "cell_type": "code",
   "execution_count": 26,
   "id": "576262c9",
   "metadata": {},
   "outputs": [
    {
     "data": {
      "text/html": [
       "<div>\n",
       "<style scoped>\n",
       "    .dataframe tbody tr th:only-of-type {\n",
       "        vertical-align: middle;\n",
       "    }\n",
       "\n",
       "    .dataframe tbody tr th {\n",
       "        vertical-align: top;\n",
       "    }\n",
       "\n",
       "    .dataframe thead th {\n",
       "        text-align: right;\n",
       "    }\n",
       "</style>\n",
       "<table border=\"1\" class=\"dataframe\">\n",
       "  <thead>\n",
       "    <tr style=\"text-align: right;\">\n",
       "      <th></th>\n",
       "      <th>Name</th>\n",
       "      <th>Exam1</th>\n",
       "    </tr>\n",
       "  </thead>\n",
       "  <tbody>\n",
       "    <tr>\n",
       "      <th>1</th>\n",
       "      <td>Bob</td>\n",
       "      <td>56.5</td>\n",
       "    </tr>\n",
       "    <tr>\n",
       "      <th>3</th>\n",
       "      <td>Dani</td>\n",
       "      <td>62.0</td>\n",
       "    </tr>\n",
       "    <tr>\n",
       "      <th>4</th>\n",
       "      <td>Ella</td>\n",
       "      <td>99.7</td>\n",
       "    </tr>\n",
       "  </tbody>\n",
       "</table>\n",
       "</div>"
      ],
      "text/plain": [
       "   Name  Exam1\n",
       "1   Bob   56.5\n",
       "3  Dani   62.0\n",
       "4  Ella   99.7"
      ]
     },
     "execution_count": 26,
     "metadata": {},
     "output_type": "execute_result"
    }
   ],
   "source": [
    "gradebook.iloc[[1,3,4], [0,3]]"
   ]
  },
  {
   "cell_type": "markdown",
   "id": "41cad8a8",
   "metadata": {},
   "source": [
    "These indexing methods can be mixed."
   ]
  },
  {
   "cell_type": "code",
   "execution_count": 27,
   "id": "0c116f82",
   "metadata": {},
   "outputs": [
    {
     "data": {
      "text/html": [
       "<div>\n",
       "<style scoped>\n",
       "    .dataframe tbody tr th:only-of-type {\n",
       "        vertical-align: middle;\n",
       "    }\n",
       "\n",
       "    .dataframe tbody tr th {\n",
       "        vertical-align: top;\n",
       "    }\n",
       "\n",
       "    .dataframe thead th {\n",
       "        text-align: right;\n",
       "    }\n",
       "</style>\n",
       "<table border=\"1\" class=\"dataframe\">\n",
       "  <thead>\n",
       "    <tr style=\"text-align: right;\">\n",
       "      <th></th>\n",
       "      <th>HW</th>\n",
       "      <th>Quiz1</th>\n",
       "    </tr>\n",
       "  </thead>\n",
       "  <tbody>\n",
       "    <tr>\n",
       "      <th>1</th>\n",
       "      <td>40</td>\n",
       "      <td>5</td>\n",
       "    </tr>\n",
       "    <tr>\n",
       "      <th>3</th>\n",
       "      <td>30</td>\n",
       "      <td>15</td>\n",
       "    </tr>\n",
       "  </tbody>\n",
       "</table>\n",
       "</div>"
      ],
      "text/plain": [
       "   HW  Quiz1\n",
       "1  40      5\n",
       "3  30     15"
      ]
     },
     "execution_count": 27,
     "metadata": {},
     "output_type": "execute_result"
    }
   ],
   "source": [
    "gradebook.iloc[[1,3], 1:3]"
   ]
  },
  {
   "cell_type": "markdown",
   "id": "c91b3ecf",
   "metadata": {},
   "source": [
    "$\\Box$\n",
    "\n",
    "loc allows for the use of index and column names to be used for selection.\n",
    "\n",
    "##### Example 8"
   ]
  },
  {
   "cell_type": "code",
   "execution_count": 29,
   "id": "4cefd12a",
   "metadata": {},
   "outputs": [
    {
     "data": {
      "text/html": [
       "<div>\n",
       "<style scoped>\n",
       "    .dataframe tbody tr th:only-of-type {\n",
       "        vertical-align: middle;\n",
       "    }\n",
       "\n",
       "    .dataframe tbody tr th {\n",
       "        vertical-align: top;\n",
       "    }\n",
       "\n",
       "    .dataframe thead th {\n",
       "        text-align: right;\n",
       "    }\n",
       "</style>\n",
       "<table border=\"1\" class=\"dataframe\">\n",
       "  <thead>\n",
       "    <tr style=\"text-align: right;\">\n",
       "      <th></th>\n",
       "      <th>free_throws</th>\n",
       "      <th>shooting</th>\n",
       "      <th>3_ball</th>\n",
       "    </tr>\n",
       "  </thead>\n",
       "  <tbody>\n",
       "    <tr>\n",
       "      <th>LeBron</th>\n",
       "      <td>69.307742</td>\n",
       "      <td>58.958324</td>\n",
       "      <td>65.230476</td>\n",
       "    </tr>\n",
       "    <tr>\n",
       "      <th>Larry</th>\n",
       "      <td>72.480016</td>\n",
       "      <td>54.496955</td>\n",
       "      <td>76.881494</td>\n",
       "    </tr>\n",
       "    <tr>\n",
       "      <th>Michael</th>\n",
       "      <td>74.143069</td>\n",
       "      <td>75.365891</td>\n",
       "      <td>78.601131</td>\n",
       "    </tr>\n",
       "    <tr>\n",
       "      <th>Yannis</th>\n",
       "      <td>87.861423</td>\n",
       "      <td>53.475637</td>\n",
       "      <td>66.978120</td>\n",
       "    </tr>\n",
       "    <tr>\n",
       "      <th>Steph</th>\n",
       "      <td>79.644420</td>\n",
       "      <td>70.276917</td>\n",
       "      <td>62.552278</td>\n",
       "    </tr>\n",
       "  </tbody>\n",
       "</table>\n",
       "</div>"
      ],
      "text/plain": [
       "         free_throws   shooting     3_ball\n",
       "LeBron     69.307742  58.958324  65.230476\n",
       "Larry      72.480016  54.496955  76.881494\n",
       "Michael    74.143069  75.365891  78.601131\n",
       "Yannis     87.861423  53.475637  66.978120\n",
       "Steph      79.644420  70.276917  62.552278"
      ]
     },
     "execution_count": 29,
     "metadata": {},
     "output_type": "execute_result"
    }
   ],
   "source": [
    "#Recall player_stats\n",
    "player_stats"
   ]
  },
  {
   "cell_type": "code",
   "execution_count": 34,
   "id": "7d906d79",
   "metadata": {},
   "outputs": [
    {
     "data": {
      "text/plain": [
       "free_throws    72.480016\n",
       "shooting       54.496955\n",
       "3_ball         76.881494\n",
       "Name: Larry, dtype: float64"
      ]
     },
     "execution_count": 34,
     "metadata": {},
     "output_type": "execute_result"
    }
   ],
   "source": [
    "player_stats.loc['Larry']"
   ]
  },
  {
   "cell_type": "code",
   "execution_count": 36,
   "id": "74fb7406",
   "metadata": {},
   "outputs": [
    {
     "data": {
      "text/html": [
       "<div>\n",
       "<style scoped>\n",
       "    .dataframe tbody tr th:only-of-type {\n",
       "        vertical-align: middle;\n",
       "    }\n",
       "\n",
       "    .dataframe tbody tr th {\n",
       "        vertical-align: top;\n",
       "    }\n",
       "\n",
       "    .dataframe thead th {\n",
       "        text-align: right;\n",
       "    }\n",
       "</style>\n",
       "<table border=\"1\" class=\"dataframe\">\n",
       "  <thead>\n",
       "    <tr style=\"text-align: right;\">\n",
       "      <th></th>\n",
       "      <th>free_throws</th>\n",
       "      <th>shooting</th>\n",
       "      <th>3_ball</th>\n",
       "    </tr>\n",
       "  </thead>\n",
       "  <tbody>\n",
       "    <tr>\n",
       "      <th>Larry</th>\n",
       "      <td>72.480016</td>\n",
       "      <td>54.496955</td>\n",
       "      <td>76.881494</td>\n",
       "    </tr>\n",
       "    <tr>\n",
       "      <th>Steph</th>\n",
       "      <td>79.644420</td>\n",
       "      <td>70.276917</td>\n",
       "      <td>62.552278</td>\n",
       "    </tr>\n",
       "  </tbody>\n",
       "</table>\n",
       "</div>"
      ],
      "text/plain": [
       "       free_throws   shooting     3_ball\n",
       "Larry    72.480016  54.496955  76.881494\n",
       "Steph    79.644420  70.276917  62.552278"
      ]
     },
     "execution_count": 36,
     "metadata": {},
     "output_type": "execute_result"
    }
   ],
   "source": [
    "player_stats.loc[['Larry','Steph']]"
   ]
  },
  {
   "cell_type": "code",
   "execution_count": 38,
   "id": "615b1908",
   "metadata": {},
   "outputs": [
    {
     "data": {
      "text/plain": [
       "LeBron     69.307742\n",
       "Larry      72.480016\n",
       "Michael    74.143069\n",
       "Yannis     87.861423\n",
       "Steph      79.644420\n",
       "Name: free_throws, dtype: float64"
      ]
     },
     "execution_count": 38,
     "metadata": {},
     "output_type": "execute_result"
    }
   ],
   "source": [
    "player_stats.loc[:, 'free_throws']"
   ]
  },
  {
   "cell_type": "code",
   "execution_count": 39,
   "id": "081c99d1",
   "metadata": {},
   "outputs": [
    {
     "data": {
      "text/html": [
       "<div>\n",
       "<style scoped>\n",
       "    .dataframe tbody tr th:only-of-type {\n",
       "        vertical-align: middle;\n",
       "    }\n",
       "\n",
       "    .dataframe tbody tr th {\n",
       "        vertical-align: top;\n",
       "    }\n",
       "\n",
       "    .dataframe thead th {\n",
       "        text-align: right;\n",
       "    }\n",
       "</style>\n",
       "<table border=\"1\" class=\"dataframe\">\n",
       "  <thead>\n",
       "    <tr style=\"text-align: right;\">\n",
       "      <th></th>\n",
       "      <th>free_throws</th>\n",
       "      <th>3_ball</th>\n",
       "    </tr>\n",
       "  </thead>\n",
       "  <tbody>\n",
       "    <tr>\n",
       "      <th>LeBron</th>\n",
       "      <td>69.307742</td>\n",
       "      <td>65.230476</td>\n",
       "    </tr>\n",
       "    <tr>\n",
       "      <th>Larry</th>\n",
       "      <td>72.480016</td>\n",
       "      <td>76.881494</td>\n",
       "    </tr>\n",
       "    <tr>\n",
       "      <th>Michael</th>\n",
       "      <td>74.143069</td>\n",
       "      <td>78.601131</td>\n",
       "    </tr>\n",
       "    <tr>\n",
       "      <th>Yannis</th>\n",
       "      <td>87.861423</td>\n",
       "      <td>66.978120</td>\n",
       "    </tr>\n",
       "    <tr>\n",
       "      <th>Steph</th>\n",
       "      <td>79.644420</td>\n",
       "      <td>62.552278</td>\n",
       "    </tr>\n",
       "  </tbody>\n",
       "</table>\n",
       "</div>"
      ],
      "text/plain": [
       "         free_throws     3_ball\n",
       "LeBron     69.307742  65.230476\n",
       "Larry      72.480016  76.881494\n",
       "Michael    74.143069  78.601131\n",
       "Yannis     87.861423  66.978120\n",
       "Steph      79.644420  62.552278"
      ]
     },
     "execution_count": 39,
     "metadata": {},
     "output_type": "execute_result"
    }
   ],
   "source": [
    "player_stats.loc[:, ['free_throws', '3_ball']]"
   ]
  },
  {
   "cell_type": "markdown",
   "id": "a212f505",
   "metadata": {},
   "source": [
    "$\\Box$\n",
    "\n",
    "The *head* and *tail* methods are equivalent to using loc or iloc to access the beginning or end of a DataFrame.  \n",
    "\n",
    "Since head and tail access the first or last five rows by default, we need a dataset bigger than the ones defined above.  Lets load our old friend, the Iris Dataset.\n",
    "\n",
    "##### Example 9"
   ]
  },
  {
   "cell_type": "code",
   "execution_count": 28,
   "id": "194a44b8",
   "metadata": {},
   "outputs": [],
   "source": [
    "#Load Iris Dataset\n",
    "iris = pd.DataFrame(datasets.load_iris().data, columns = ['sepal_length', 'sepal_width', 'petal_length', 'petal_width'])"
   ]
  },
  {
   "cell_type": "code",
   "execution_count": 36,
   "id": "f0729382",
   "metadata": {},
   "outputs": [
    {
     "data": {
      "text/html": [
       "<div>\n",
       "<style scoped>\n",
       "    .dataframe tbody tr th:only-of-type {\n",
       "        vertical-align: middle;\n",
       "    }\n",
       "\n",
       "    .dataframe tbody tr th {\n",
       "        vertical-align: top;\n",
       "    }\n",
       "\n",
       "    .dataframe thead th {\n",
       "        text-align: right;\n",
       "    }\n",
       "</style>\n",
       "<table border=\"1\" class=\"dataframe\">\n",
       "  <thead>\n",
       "    <tr style=\"text-align: right;\">\n",
       "      <th></th>\n",
       "      <th>sepal_length</th>\n",
       "      <th>sepal_width</th>\n",
       "      <th>petal_length</th>\n",
       "      <th>petal_width</th>\n",
       "    </tr>\n",
       "  </thead>\n",
       "  <tbody>\n",
       "    <tr>\n",
       "      <th>0</th>\n",
       "      <td>5.1</td>\n",
       "      <td>3.5</td>\n",
       "      <td>1.4</td>\n",
       "      <td>0.2</td>\n",
       "    </tr>\n",
       "    <tr>\n",
       "      <th>1</th>\n",
       "      <td>4.9</td>\n",
       "      <td>3.0</td>\n",
       "      <td>1.4</td>\n",
       "      <td>0.2</td>\n",
       "    </tr>\n",
       "    <tr>\n",
       "      <th>2</th>\n",
       "      <td>4.7</td>\n",
       "      <td>3.2</td>\n",
       "      <td>1.3</td>\n",
       "      <td>0.2</td>\n",
       "    </tr>\n",
       "    <tr>\n",
       "      <th>3</th>\n",
       "      <td>4.6</td>\n",
       "      <td>3.1</td>\n",
       "      <td>1.5</td>\n",
       "      <td>0.2</td>\n",
       "    </tr>\n",
       "    <tr>\n",
       "      <th>4</th>\n",
       "      <td>5.0</td>\n",
       "      <td>3.6</td>\n",
       "      <td>1.4</td>\n",
       "      <td>0.2</td>\n",
       "    </tr>\n",
       "  </tbody>\n",
       "</table>\n",
       "</div>"
      ],
      "text/plain": [
       "   sepal_length  sepal_width  petal_length  petal_width\n",
       "0           5.1          3.5           1.4          0.2\n",
       "1           4.9          3.0           1.4          0.2\n",
       "2           4.7          3.2           1.3          0.2\n",
       "3           4.6          3.1           1.5          0.2\n",
       "4           5.0          3.6           1.4          0.2"
      ]
     },
     "execution_count": 36,
     "metadata": {},
     "output_type": "execute_result"
    }
   ],
   "source": [
    "iris.head()"
   ]
  },
  {
   "cell_type": "code",
   "execution_count": 30,
   "id": "7d9b3516",
   "metadata": {},
   "outputs": [
    {
     "data": {
      "text/html": [
       "<div>\n",
       "<style scoped>\n",
       "    .dataframe tbody tr th:only-of-type {\n",
       "        vertical-align: middle;\n",
       "    }\n",
       "\n",
       "    .dataframe tbody tr th {\n",
       "        vertical-align: top;\n",
       "    }\n",
       "\n",
       "    .dataframe thead th {\n",
       "        text-align: right;\n",
       "    }\n",
       "</style>\n",
       "<table border=\"1\" class=\"dataframe\">\n",
       "  <thead>\n",
       "    <tr style=\"text-align: right;\">\n",
       "      <th></th>\n",
       "      <th>sepal_length</th>\n",
       "      <th>sepal_width</th>\n",
       "      <th>petal_length</th>\n",
       "      <th>petal_width</th>\n",
       "    </tr>\n",
       "  </thead>\n",
       "  <tbody>\n",
       "    <tr>\n",
       "      <th>145</th>\n",
       "      <td>6.7</td>\n",
       "      <td>3.0</td>\n",
       "      <td>5.2</td>\n",
       "      <td>2.3</td>\n",
       "    </tr>\n",
       "    <tr>\n",
       "      <th>146</th>\n",
       "      <td>6.3</td>\n",
       "      <td>2.5</td>\n",
       "      <td>5.0</td>\n",
       "      <td>1.9</td>\n",
       "    </tr>\n",
       "    <tr>\n",
       "      <th>147</th>\n",
       "      <td>6.5</td>\n",
       "      <td>3.0</td>\n",
       "      <td>5.2</td>\n",
       "      <td>2.0</td>\n",
       "    </tr>\n",
       "    <tr>\n",
       "      <th>148</th>\n",
       "      <td>6.2</td>\n",
       "      <td>3.4</td>\n",
       "      <td>5.4</td>\n",
       "      <td>2.3</td>\n",
       "    </tr>\n",
       "    <tr>\n",
       "      <th>149</th>\n",
       "      <td>5.9</td>\n",
       "      <td>3.0</td>\n",
       "      <td>5.1</td>\n",
       "      <td>1.8</td>\n",
       "    </tr>\n",
       "  </tbody>\n",
       "</table>\n",
       "</div>"
      ],
      "text/plain": [
       "     sepal_length  sepal_width  petal_length  petal_width\n",
       "145           6.7          3.0           5.2          2.3\n",
       "146           6.3          2.5           5.0          1.9\n",
       "147           6.5          3.0           5.2          2.0\n",
       "148           6.2          3.4           5.4          2.3\n",
       "149           5.9          3.0           5.1          1.8"
      ]
     },
     "execution_count": 30,
     "metadata": {},
     "output_type": "execute_result"
    }
   ],
   "source": [
    "iris.tail()"
   ]
  },
  {
   "cell_type": "markdown",
   "id": "1b7f26ac",
   "metadata": {},
   "source": [
    "$\\Box$"
   ]
  },
  {
   "cell_type": "markdown",
   "id": "b549903f",
   "metadata": {},
   "source": [
    "### Sorting\n",
    "\n",
    "We can sort a column or multiple columns in a DataFrame using the *sort_values* method.\n",
    "\n",
    "##### Example 10\n",
    "\n",
    "Suppose that we want to sort the Iris Dataset by sorting the values in the sepal_width column."
   ]
  },
  {
   "cell_type": "code",
   "execution_count": 17,
   "id": "f6577a22",
   "metadata": {},
   "outputs": [
    {
     "data": {
      "text/html": [
       "<div>\n",
       "<style scoped>\n",
       "    .dataframe tbody tr th:only-of-type {\n",
       "        vertical-align: middle;\n",
       "    }\n",
       "\n",
       "    .dataframe tbody tr th {\n",
       "        vertical-align: top;\n",
       "    }\n",
       "\n",
       "    .dataframe thead th {\n",
       "        text-align: right;\n",
       "    }\n",
       "</style>\n",
       "<table border=\"1\" class=\"dataframe\">\n",
       "  <thead>\n",
       "    <tr style=\"text-align: right;\">\n",
       "      <th></th>\n",
       "      <th>sepal_length</th>\n",
       "      <th>sepal_width</th>\n",
       "      <th>petal_length</th>\n",
       "      <th>petal_width</th>\n",
       "    </tr>\n",
       "  </thead>\n",
       "  <tbody>\n",
       "    <tr>\n",
       "      <th>13</th>\n",
       "      <td>4.3</td>\n",
       "      <td>3.0</td>\n",
       "      <td>1.1</td>\n",
       "      <td>0.1</td>\n",
       "    </tr>\n",
       "    <tr>\n",
       "      <th>42</th>\n",
       "      <td>4.4</td>\n",
       "      <td>3.2</td>\n",
       "      <td>1.3</td>\n",
       "      <td>0.2</td>\n",
       "    </tr>\n",
       "    <tr>\n",
       "      <th>38</th>\n",
       "      <td>4.4</td>\n",
       "      <td>3.0</td>\n",
       "      <td>1.3</td>\n",
       "      <td>0.2</td>\n",
       "    </tr>\n",
       "    <tr>\n",
       "      <th>8</th>\n",
       "      <td>4.4</td>\n",
       "      <td>2.9</td>\n",
       "      <td>1.4</td>\n",
       "      <td>0.2</td>\n",
       "    </tr>\n",
       "    <tr>\n",
       "      <th>41</th>\n",
       "      <td>4.5</td>\n",
       "      <td>2.3</td>\n",
       "      <td>1.3</td>\n",
       "      <td>0.3</td>\n",
       "    </tr>\n",
       "  </tbody>\n",
       "</table>\n",
       "</div>"
      ],
      "text/plain": [
       "    sepal_length  sepal_width  petal_length  petal_width\n",
       "13           4.3          3.0           1.1          0.1\n",
       "42           4.4          3.2           1.3          0.2\n",
       "38           4.4          3.0           1.3          0.2\n",
       "8            4.4          2.9           1.4          0.2\n",
       "41           4.5          2.3           1.3          0.3"
      ]
     },
     "execution_count": 17,
     "metadata": {},
     "output_type": "execute_result"
    }
   ],
   "source": [
    "iris.sort_values(by = ['sepal_length']).head()"
   ]
  },
  {
   "cell_type": "markdown",
   "id": "31b20d71",
   "metadata": {},
   "source": [
    "By default, sort_values sorts in ascending order.  To sort in descending order, pass the *ascending = False* parameter."
   ]
  },
  {
   "cell_type": "code",
   "execution_count": 39,
   "id": "bfa2fcda",
   "metadata": {},
   "outputs": [
    {
     "data": {
      "text/html": [
       "<div>\n",
       "<style scoped>\n",
       "    .dataframe tbody tr th:only-of-type {\n",
       "        vertical-align: middle;\n",
       "    }\n",
       "\n",
       "    .dataframe tbody tr th {\n",
       "        vertical-align: top;\n",
       "    }\n",
       "\n",
       "    .dataframe thead th {\n",
       "        text-align: right;\n",
       "    }\n",
       "</style>\n",
       "<table border=\"1\" class=\"dataframe\">\n",
       "  <thead>\n",
       "    <tr style=\"text-align: right;\">\n",
       "      <th></th>\n",
       "      <th>sepal_length</th>\n",
       "      <th>sepal_width</th>\n",
       "      <th>petal_length</th>\n",
       "      <th>petal_width</th>\n",
       "    </tr>\n",
       "  </thead>\n",
       "  <tbody>\n",
       "    <tr>\n",
       "      <th>131</th>\n",
       "      <td>7.9</td>\n",
       "      <td>3.8</td>\n",
       "      <td>6.4</td>\n",
       "      <td>2.0</td>\n",
       "    </tr>\n",
       "    <tr>\n",
       "      <th>135</th>\n",
       "      <td>7.7</td>\n",
       "      <td>3.0</td>\n",
       "      <td>6.1</td>\n",
       "      <td>2.3</td>\n",
       "    </tr>\n",
       "    <tr>\n",
       "      <th>122</th>\n",
       "      <td>7.7</td>\n",
       "      <td>2.8</td>\n",
       "      <td>6.7</td>\n",
       "      <td>2.0</td>\n",
       "    </tr>\n",
       "    <tr>\n",
       "      <th>117</th>\n",
       "      <td>7.7</td>\n",
       "      <td>3.8</td>\n",
       "      <td>6.7</td>\n",
       "      <td>2.2</td>\n",
       "    </tr>\n",
       "    <tr>\n",
       "      <th>118</th>\n",
       "      <td>7.7</td>\n",
       "      <td>2.6</td>\n",
       "      <td>6.9</td>\n",
       "      <td>2.3</td>\n",
       "    </tr>\n",
       "  </tbody>\n",
       "</table>\n",
       "</div>"
      ],
      "text/plain": [
       "     sepal_length  sepal_width  petal_length  petal_width\n",
       "131           7.9          3.8           6.4          2.0\n",
       "135           7.7          3.0           6.1          2.3\n",
       "122           7.7          2.8           6.7          2.0\n",
       "117           7.7          3.8           6.7          2.2\n",
       "118           7.7          2.6           6.9          2.3"
      ]
     },
     "execution_count": 39,
     "metadata": {},
     "output_type": "execute_result"
    }
   ],
   "source": [
    "iris.sort_values(by = ['sepal_length'], ascending = False).head()"
   ]
  },
  {
   "cell_type": "markdown",
   "id": "df092b0f",
   "metadata": {},
   "source": [
    "$\\Box$\n",
    "\n",
    "### DataFrame Arithmetic\n",
    "\n",
    "Arithmetic with DataFrames and Series is much the same as it is with NumPy ndarrays, provided the DataFrames used have the same index and the same columns. \n",
    "\n",
    "##### Example 11"
   ]
  },
  {
   "cell_type": "code",
   "execution_count": 37,
   "id": "58ca4ed0",
   "metadata": {},
   "outputs": [
    {
     "data": {
      "text/html": [
       "<div>\n",
       "<style scoped>\n",
       "    .dataframe tbody tr th:only-of-type {\n",
       "        vertical-align: middle;\n",
       "    }\n",
       "\n",
       "    .dataframe tbody tr th {\n",
       "        vertical-align: top;\n",
       "    }\n",
       "\n",
       "    .dataframe thead th {\n",
       "        text-align: right;\n",
       "    }\n",
       "</style>\n",
       "<table border=\"1\" class=\"dataframe\">\n",
       "  <thead>\n",
       "    <tr style=\"text-align: right;\">\n",
       "      <th></th>\n",
       "      <th>A</th>\n",
       "      <th>B</th>\n",
       "      <th>C</th>\n",
       "    </tr>\n",
       "  </thead>\n",
       "  <tbody>\n",
       "    <tr>\n",
       "      <th>0</th>\n",
       "      <td>1</td>\n",
       "      <td>5</td>\n",
       "      <td>1</td>\n",
       "    </tr>\n",
       "    <tr>\n",
       "      <th>1</th>\n",
       "      <td>2</td>\n",
       "      <td>6</td>\n",
       "      <td>1</td>\n",
       "    </tr>\n",
       "    <tr>\n",
       "      <th>2</th>\n",
       "      <td>3</td>\n",
       "      <td>7</td>\n",
       "      <td>1</td>\n",
       "    </tr>\n",
       "    <tr>\n",
       "      <th>3</th>\n",
       "      <td>4</td>\n",
       "      <td>8</td>\n",
       "      <td>1</td>\n",
       "    </tr>\n",
       "  </tbody>\n",
       "</table>\n",
       "</div>"
      ],
      "text/plain": [
       "   A  B  C\n",
       "0  1  5  1\n",
       "1  2  6  1\n",
       "2  3  7  1\n",
       "3  4  8  1"
      ]
     },
     "execution_count": 37,
     "metadata": {},
     "output_type": "execute_result"
    }
   ],
   "source": [
    "df1 = pd.DataFrame({'A':[1,2,3,4], 'B':[5,6,7,8], 'C': [1,1,1,1]})\n",
    "df2 = pd.DataFrame({'A':[1,1,1,1], 'B':[2,2,2,2], 'C': [5,5,5,5]})\n",
    "df1"
   ]
  },
  {
   "cell_type": "code",
   "execution_count": 38,
   "id": "156ddc57",
   "metadata": {},
   "outputs": [
    {
     "data": {
      "text/html": [
       "<div>\n",
       "<style scoped>\n",
       "    .dataframe tbody tr th:only-of-type {\n",
       "        vertical-align: middle;\n",
       "    }\n",
       "\n",
       "    .dataframe tbody tr th {\n",
       "        vertical-align: top;\n",
       "    }\n",
       "\n",
       "    .dataframe thead th {\n",
       "        text-align: right;\n",
       "    }\n",
       "</style>\n",
       "<table border=\"1\" class=\"dataframe\">\n",
       "  <thead>\n",
       "    <tr style=\"text-align: right;\">\n",
       "      <th></th>\n",
       "      <th>A</th>\n",
       "      <th>B</th>\n",
       "      <th>C</th>\n",
       "    </tr>\n",
       "  </thead>\n",
       "  <tbody>\n",
       "    <tr>\n",
       "      <th>0</th>\n",
       "      <td>1</td>\n",
       "      <td>2</td>\n",
       "      <td>5</td>\n",
       "    </tr>\n",
       "    <tr>\n",
       "      <th>1</th>\n",
       "      <td>1</td>\n",
       "      <td>2</td>\n",
       "      <td>5</td>\n",
       "    </tr>\n",
       "    <tr>\n",
       "      <th>2</th>\n",
       "      <td>1</td>\n",
       "      <td>2</td>\n",
       "      <td>5</td>\n",
       "    </tr>\n",
       "    <tr>\n",
       "      <th>3</th>\n",
       "      <td>1</td>\n",
       "      <td>2</td>\n",
       "      <td>5</td>\n",
       "    </tr>\n",
       "  </tbody>\n",
       "</table>\n",
       "</div>"
      ],
      "text/plain": [
       "   A  B  C\n",
       "0  1  2  5\n",
       "1  1  2  5\n",
       "2  1  2  5\n",
       "3  1  2  5"
      ]
     },
     "execution_count": 38,
     "metadata": {},
     "output_type": "execute_result"
    }
   ],
   "source": [
    "df2"
   ]
  },
  {
   "cell_type": "code",
   "execution_count": 39,
   "id": "293e9278",
   "metadata": {},
   "outputs": [
    {
     "data": {
      "text/html": [
       "<div>\n",
       "<style scoped>\n",
       "    .dataframe tbody tr th:only-of-type {\n",
       "        vertical-align: middle;\n",
       "    }\n",
       "\n",
       "    .dataframe tbody tr th {\n",
       "        vertical-align: top;\n",
       "    }\n",
       "\n",
       "    .dataframe thead th {\n",
       "        text-align: right;\n",
       "    }\n",
       "</style>\n",
       "<table border=\"1\" class=\"dataframe\">\n",
       "  <thead>\n",
       "    <tr style=\"text-align: right;\">\n",
       "      <th></th>\n",
       "      <th>A</th>\n",
       "      <th>B</th>\n",
       "      <th>C</th>\n",
       "    </tr>\n",
       "  </thead>\n",
       "  <tbody>\n",
       "    <tr>\n",
       "      <th>0</th>\n",
       "      <td>2</td>\n",
       "      <td>7</td>\n",
       "      <td>6</td>\n",
       "    </tr>\n",
       "    <tr>\n",
       "      <th>1</th>\n",
       "      <td>3</td>\n",
       "      <td>8</td>\n",
       "      <td>6</td>\n",
       "    </tr>\n",
       "    <tr>\n",
       "      <th>2</th>\n",
       "      <td>4</td>\n",
       "      <td>9</td>\n",
       "      <td>6</td>\n",
       "    </tr>\n",
       "    <tr>\n",
       "      <th>3</th>\n",
       "      <td>5</td>\n",
       "      <td>10</td>\n",
       "      <td>6</td>\n",
       "    </tr>\n",
       "  </tbody>\n",
       "</table>\n",
       "</div>"
      ],
      "text/plain": [
       "   A   B  C\n",
       "0  2   7  6\n",
       "1  3   8  6\n",
       "2  4   9  6\n",
       "3  5  10  6"
      ]
     },
     "execution_count": 39,
     "metadata": {},
     "output_type": "execute_result"
    }
   ],
   "source": [
    "df1 + df2"
   ]
  },
  {
   "cell_type": "code",
   "execution_count": 40,
   "id": "95785345",
   "metadata": {},
   "outputs": [
    {
     "data": {
      "text/html": [
       "<div>\n",
       "<style scoped>\n",
       "    .dataframe tbody tr th:only-of-type {\n",
       "        vertical-align: middle;\n",
       "    }\n",
       "\n",
       "    .dataframe tbody tr th {\n",
       "        vertical-align: top;\n",
       "    }\n",
       "\n",
       "    .dataframe thead th {\n",
       "        text-align: right;\n",
       "    }\n",
       "</style>\n",
       "<table border=\"1\" class=\"dataframe\">\n",
       "  <thead>\n",
       "    <tr style=\"text-align: right;\">\n",
       "      <th></th>\n",
       "      <th>A</th>\n",
       "      <th>B</th>\n",
       "      <th>C</th>\n",
       "    </tr>\n",
       "  </thead>\n",
       "  <tbody>\n",
       "    <tr>\n",
       "      <th>0</th>\n",
       "      <td>1</td>\n",
       "      <td>10</td>\n",
       "      <td>5</td>\n",
       "    </tr>\n",
       "    <tr>\n",
       "      <th>1</th>\n",
       "      <td>2</td>\n",
       "      <td>12</td>\n",
       "      <td>5</td>\n",
       "    </tr>\n",
       "    <tr>\n",
       "      <th>2</th>\n",
       "      <td>3</td>\n",
       "      <td>14</td>\n",
       "      <td>5</td>\n",
       "    </tr>\n",
       "    <tr>\n",
       "      <th>3</th>\n",
       "      <td>4</td>\n",
       "      <td>16</td>\n",
       "      <td>5</td>\n",
       "    </tr>\n",
       "  </tbody>\n",
       "</table>\n",
       "</div>"
      ],
      "text/plain": [
       "   A   B  C\n",
       "0  1  10  5\n",
       "1  2  12  5\n",
       "2  3  14  5\n",
       "3  4  16  5"
      ]
     },
     "execution_count": 40,
     "metadata": {},
     "output_type": "execute_result"
    }
   ],
   "source": [
    "df1*df2"
   ]
  },
  {
   "cell_type": "markdown",
   "id": "bcf1d6ab",
   "metadata": {},
   "source": [
    "$\\Box$\n",
    "\n",
    "When the index's don't match up, a NaN value is produced.  NaN stands for *not a number*.\n",
    "\n",
    "##### Example 12\n",
    "\n",
    "Note that *to_numpy()* converts a Pandas DataFrame to a NumPy ndarray."
   ]
  },
  {
   "cell_type": "code",
   "execution_count": 41,
   "id": "475a05d8",
   "metadata": {},
   "outputs": [
    {
     "data": {
      "text/html": [
       "<div>\n",
       "<style scoped>\n",
       "    .dataframe tbody tr th:only-of-type {\n",
       "        vertical-align: middle;\n",
       "    }\n",
       "\n",
       "    .dataframe tbody tr th {\n",
       "        vertical-align: top;\n",
       "    }\n",
       "\n",
       "    .dataframe thead th {\n",
       "        text-align: right;\n",
       "    }\n",
       "</style>\n",
       "<table border=\"1\" class=\"dataframe\">\n",
       "  <thead>\n",
       "    <tr style=\"text-align: right;\">\n",
       "      <th></th>\n",
       "      <th>A</th>\n",
       "      <th>B</th>\n",
       "      <th>C</th>\n",
       "    </tr>\n",
       "  </thead>\n",
       "  <tbody>\n",
       "    <tr>\n",
       "      <th>0</th>\n",
       "      <td>1</td>\n",
       "      <td>5</td>\n",
       "      <td>1</td>\n",
       "    </tr>\n",
       "    <tr>\n",
       "      <th>1</th>\n",
       "      <td>2</td>\n",
       "      <td>6</td>\n",
       "      <td>1</td>\n",
       "    </tr>\n",
       "    <tr>\n",
       "      <th>2</th>\n",
       "      <td>3</td>\n",
       "      <td>7</td>\n",
       "      <td>1</td>\n",
       "    </tr>\n",
       "    <tr>\n",
       "      <th>3</th>\n",
       "      <td>4</td>\n",
       "      <td>8</td>\n",
       "      <td>1</td>\n",
       "    </tr>\n",
       "  </tbody>\n",
       "</table>\n",
       "</div>"
      ],
      "text/plain": [
       "   A  B  C\n",
       "0  1  5  1\n",
       "1  2  6  1\n",
       "2  3  7  1\n",
       "3  4  8  1"
      ]
     },
     "execution_count": 41,
     "metadata": {},
     "output_type": "execute_result"
    }
   ],
   "source": [
    "df1"
   ]
  },
  {
   "cell_type": "code",
   "execution_count": 42,
   "id": "10a409bd",
   "metadata": {},
   "outputs": [
    {
     "data": {
      "text/html": [
       "<div>\n",
       "<style scoped>\n",
       "    .dataframe tbody tr th:only-of-type {\n",
       "        vertical-align: middle;\n",
       "    }\n",
       "\n",
       "    .dataframe tbody tr th {\n",
       "        vertical-align: top;\n",
       "    }\n",
       "\n",
       "    .dataframe thead th {\n",
       "        text-align: right;\n",
       "    }\n",
       "</style>\n",
       "<table border=\"1\" class=\"dataframe\">\n",
       "  <thead>\n",
       "    <tr style=\"text-align: right;\">\n",
       "      <th></th>\n",
       "      <th>A</th>\n",
       "      <th>B</th>\n",
       "      <th>C</th>\n",
       "    </tr>\n",
       "  </thead>\n",
       "  <tbody>\n",
       "    <tr>\n",
       "      <th>1</th>\n",
       "      <td>1</td>\n",
       "      <td>2</td>\n",
       "      <td>5</td>\n",
       "    </tr>\n",
       "    <tr>\n",
       "      <th>2</th>\n",
       "      <td>1</td>\n",
       "      <td>2</td>\n",
       "      <td>5</td>\n",
       "    </tr>\n",
       "    <tr>\n",
       "      <th>3</th>\n",
       "      <td>1</td>\n",
       "      <td>2</td>\n",
       "      <td>5</td>\n",
       "    </tr>\n",
       "    <tr>\n",
       "      <th>4</th>\n",
       "      <td>1</td>\n",
       "      <td>2</td>\n",
       "      <td>5</td>\n",
       "    </tr>\n",
       "  </tbody>\n",
       "</table>\n",
       "</div>"
      ],
      "text/plain": [
       "   A  B  C\n",
       "1  1  2  5\n",
       "2  1  2  5\n",
       "3  1  2  5\n",
       "4  1  2  5"
      ]
     },
     "execution_count": 42,
     "metadata": {},
     "output_type": "execute_result"
    }
   ],
   "source": [
    "df3 = pd.DataFrame(df2.to_numpy(), index = range(1,5), columns = df1.columns)\n",
    "df3"
   ]
  },
  {
   "cell_type": "code",
   "execution_count": 43,
   "id": "d1bf22bf",
   "metadata": {},
   "outputs": [
    {
     "data": {
      "text/html": [
       "<div>\n",
       "<style scoped>\n",
       "    .dataframe tbody tr th:only-of-type {\n",
       "        vertical-align: middle;\n",
       "    }\n",
       "\n",
       "    .dataframe tbody tr th {\n",
       "        vertical-align: top;\n",
       "    }\n",
       "\n",
       "    .dataframe thead th {\n",
       "        text-align: right;\n",
       "    }\n",
       "</style>\n",
       "<table border=\"1\" class=\"dataframe\">\n",
       "  <thead>\n",
       "    <tr style=\"text-align: right;\">\n",
       "      <th></th>\n",
       "      <th>A</th>\n",
       "      <th>B</th>\n",
       "      <th>C</th>\n",
       "    </tr>\n",
       "  </thead>\n",
       "  <tbody>\n",
       "    <tr>\n",
       "      <th>0</th>\n",
       "      <td>NaN</td>\n",
       "      <td>NaN</td>\n",
       "      <td>NaN</td>\n",
       "    </tr>\n",
       "    <tr>\n",
       "      <th>1</th>\n",
       "      <td>3.0</td>\n",
       "      <td>8.0</td>\n",
       "      <td>6.0</td>\n",
       "    </tr>\n",
       "    <tr>\n",
       "      <th>2</th>\n",
       "      <td>4.0</td>\n",
       "      <td>9.0</td>\n",
       "      <td>6.0</td>\n",
       "    </tr>\n",
       "    <tr>\n",
       "      <th>3</th>\n",
       "      <td>5.0</td>\n",
       "      <td>10.0</td>\n",
       "      <td>6.0</td>\n",
       "    </tr>\n",
       "    <tr>\n",
       "      <th>4</th>\n",
       "      <td>NaN</td>\n",
       "      <td>NaN</td>\n",
       "      <td>NaN</td>\n",
       "    </tr>\n",
       "  </tbody>\n",
       "</table>\n",
       "</div>"
      ],
      "text/plain": [
       "     A     B    C\n",
       "0  NaN   NaN  NaN\n",
       "1  3.0   8.0  6.0\n",
       "2  4.0   9.0  6.0\n",
       "3  5.0  10.0  6.0\n",
       "4  NaN   NaN  NaN"
      ]
     },
     "execution_count": 43,
     "metadata": {},
     "output_type": "execute_result"
    }
   ],
   "source": [
    "df1 + df3"
   ]
  },
  {
   "cell_type": "markdown",
   "id": "355bbc99",
   "metadata": {},
   "source": [
    "$\\Box$\n",
    "\n",
    "When the column names don't match a similar thing happens.\n",
    "\n",
    "##### Example 13"
   ]
  },
  {
   "cell_type": "code",
   "execution_count": 44,
   "id": "e4e25191",
   "metadata": {},
   "outputs": [
    {
     "data": {
      "text/html": [
       "<div>\n",
       "<style scoped>\n",
       "    .dataframe tbody tr th:only-of-type {\n",
       "        vertical-align: middle;\n",
       "    }\n",
       "\n",
       "    .dataframe tbody tr th {\n",
       "        vertical-align: top;\n",
       "    }\n",
       "\n",
       "    .dataframe thead th {\n",
       "        text-align: right;\n",
       "    }\n",
       "</style>\n",
       "<table border=\"1\" class=\"dataframe\">\n",
       "  <thead>\n",
       "    <tr style=\"text-align: right;\">\n",
       "      <th></th>\n",
       "      <th>A</th>\n",
       "      <th>B</th>\n",
       "      <th>C</th>\n",
       "    </tr>\n",
       "  </thead>\n",
       "  <tbody>\n",
       "    <tr>\n",
       "      <th>0</th>\n",
       "      <td>1</td>\n",
       "      <td>5</td>\n",
       "      <td>1</td>\n",
       "    </tr>\n",
       "    <tr>\n",
       "      <th>1</th>\n",
       "      <td>2</td>\n",
       "      <td>6</td>\n",
       "      <td>1</td>\n",
       "    </tr>\n",
       "    <tr>\n",
       "      <th>2</th>\n",
       "      <td>3</td>\n",
       "      <td>7</td>\n",
       "      <td>1</td>\n",
       "    </tr>\n",
       "    <tr>\n",
       "      <th>3</th>\n",
       "      <td>4</td>\n",
       "      <td>8</td>\n",
       "      <td>1</td>\n",
       "    </tr>\n",
       "  </tbody>\n",
       "</table>\n",
       "</div>"
      ],
      "text/plain": [
       "   A  B  C\n",
       "0  1  5  1\n",
       "1  2  6  1\n",
       "2  3  7  1\n",
       "3  4  8  1"
      ]
     },
     "execution_count": 44,
     "metadata": {},
     "output_type": "execute_result"
    }
   ],
   "source": [
    "df1"
   ]
  },
  {
   "cell_type": "code",
   "execution_count": 45,
   "id": "ad371af6",
   "metadata": {},
   "outputs": [
    {
     "data": {
      "text/html": [
       "<div>\n",
       "<style scoped>\n",
       "    .dataframe tbody tr th:only-of-type {\n",
       "        vertical-align: middle;\n",
       "    }\n",
       "\n",
       "    .dataframe tbody tr th {\n",
       "        vertical-align: top;\n",
       "    }\n",
       "\n",
       "    .dataframe thead th {\n",
       "        text-align: right;\n",
       "    }\n",
       "</style>\n",
       "<table border=\"1\" class=\"dataframe\">\n",
       "  <thead>\n",
       "    <tr style=\"text-align: right;\">\n",
       "      <th></th>\n",
       "      <th>A</th>\n",
       "      <th>D</th>\n",
       "      <th>C</th>\n",
       "    </tr>\n",
       "  </thead>\n",
       "  <tbody>\n",
       "    <tr>\n",
       "      <th>0</th>\n",
       "      <td>1</td>\n",
       "      <td>5</td>\n",
       "      <td>1</td>\n",
       "    </tr>\n",
       "    <tr>\n",
       "      <th>1</th>\n",
       "      <td>2</td>\n",
       "      <td>6</td>\n",
       "      <td>1</td>\n",
       "    </tr>\n",
       "    <tr>\n",
       "      <th>2</th>\n",
       "      <td>3</td>\n",
       "      <td>7</td>\n",
       "      <td>1</td>\n",
       "    </tr>\n",
       "    <tr>\n",
       "      <th>3</th>\n",
       "      <td>4</td>\n",
       "      <td>8</td>\n",
       "      <td>1</td>\n",
       "    </tr>\n",
       "  </tbody>\n",
       "</table>\n",
       "</div>"
      ],
      "text/plain": [
       "   A  D  C\n",
       "0  1  5  1\n",
       "1  2  6  1\n",
       "2  3  7  1\n",
       "3  4  8  1"
      ]
     },
     "execution_count": 45,
     "metadata": {},
     "output_type": "execute_result"
    }
   ],
   "source": [
    "df4 = pd.DataFrame(df1.to_numpy())\n",
    "df4.columns = ['A', 'D', 'C']\n",
    "df4"
   ]
  },
  {
   "cell_type": "code",
   "execution_count": 46,
   "id": "41efbfd0",
   "metadata": {},
   "outputs": [
    {
     "data": {
      "text/html": [
       "<div>\n",
       "<style scoped>\n",
       "    .dataframe tbody tr th:only-of-type {\n",
       "        vertical-align: middle;\n",
       "    }\n",
       "\n",
       "    .dataframe tbody tr th {\n",
       "        vertical-align: top;\n",
       "    }\n",
       "\n",
       "    .dataframe thead th {\n",
       "        text-align: right;\n",
       "    }\n",
       "</style>\n",
       "<table border=\"1\" class=\"dataframe\">\n",
       "  <thead>\n",
       "    <tr style=\"text-align: right;\">\n",
       "      <th></th>\n",
       "      <th>A</th>\n",
       "      <th>B</th>\n",
       "      <th>C</th>\n",
       "      <th>D</th>\n",
       "    </tr>\n",
       "  </thead>\n",
       "  <tbody>\n",
       "    <tr>\n",
       "      <th>0</th>\n",
       "      <td>2</td>\n",
       "      <td>NaN</td>\n",
       "      <td>2</td>\n",
       "      <td>NaN</td>\n",
       "    </tr>\n",
       "    <tr>\n",
       "      <th>1</th>\n",
       "      <td>4</td>\n",
       "      <td>NaN</td>\n",
       "      <td>2</td>\n",
       "      <td>NaN</td>\n",
       "    </tr>\n",
       "    <tr>\n",
       "      <th>2</th>\n",
       "      <td>6</td>\n",
       "      <td>NaN</td>\n",
       "      <td>2</td>\n",
       "      <td>NaN</td>\n",
       "    </tr>\n",
       "    <tr>\n",
       "      <th>3</th>\n",
       "      <td>8</td>\n",
       "      <td>NaN</td>\n",
       "      <td>2</td>\n",
       "      <td>NaN</td>\n",
       "    </tr>\n",
       "  </tbody>\n",
       "</table>\n",
       "</div>"
      ],
      "text/plain": [
       "   A   B  C   D\n",
       "0  2 NaN  2 NaN\n",
       "1  4 NaN  2 NaN\n",
       "2  6 NaN  2 NaN\n",
       "3  8 NaN  2 NaN"
      ]
     },
     "execution_count": 46,
     "metadata": {},
     "output_type": "execute_result"
    }
   ],
   "source": [
    "df1 + df4"
   ]
  },
  {
   "cell_type": "code",
   "execution_count": 47,
   "id": "84112632",
   "metadata": {},
   "outputs": [
    {
     "data": {
      "text/html": [
       "<div>\n",
       "<style scoped>\n",
       "    .dataframe tbody tr th:only-of-type {\n",
       "        vertical-align: middle;\n",
       "    }\n",
       "\n",
       "    .dataframe tbody tr th {\n",
       "        vertical-align: top;\n",
       "    }\n",
       "\n",
       "    .dataframe thead th {\n",
       "        text-align: right;\n",
       "    }\n",
       "</style>\n",
       "<table border=\"1\" class=\"dataframe\">\n",
       "  <thead>\n",
       "    <tr style=\"text-align: right;\">\n",
       "      <th></th>\n",
       "      <th>A</th>\n",
       "      <th>B</th>\n",
       "      <th>C</th>\n",
       "      <th>D</th>\n",
       "    </tr>\n",
       "  </thead>\n",
       "  <tbody>\n",
       "    <tr>\n",
       "      <th>0</th>\n",
       "      <td>1</td>\n",
       "      <td>NaN</td>\n",
       "      <td>1</td>\n",
       "      <td>NaN</td>\n",
       "    </tr>\n",
       "    <tr>\n",
       "      <th>1</th>\n",
       "      <td>4</td>\n",
       "      <td>NaN</td>\n",
       "      <td>1</td>\n",
       "      <td>NaN</td>\n",
       "    </tr>\n",
       "    <tr>\n",
       "      <th>2</th>\n",
       "      <td>9</td>\n",
       "      <td>NaN</td>\n",
       "      <td>1</td>\n",
       "      <td>NaN</td>\n",
       "    </tr>\n",
       "    <tr>\n",
       "      <th>3</th>\n",
       "      <td>16</td>\n",
       "      <td>NaN</td>\n",
       "      <td>1</td>\n",
       "      <td>NaN</td>\n",
       "    </tr>\n",
       "  </tbody>\n",
       "</table>\n",
       "</div>"
      ],
      "text/plain": [
       "    A   B  C   D\n",
       "0   1 NaN  1 NaN\n",
       "1   4 NaN  1 NaN\n",
       "2   9 NaN  1 NaN\n",
       "3  16 NaN  1 NaN"
      ]
     },
     "execution_count": 47,
     "metadata": {},
     "output_type": "execute_result"
    }
   ],
   "source": [
    "df1*df4"
   ]
  },
  {
   "cell_type": "markdown",
   "id": "8e903687",
   "metadata": {},
   "source": [
    "$\\Box$\n",
    "\n",
    "### Reduction Methods\n",
    "\n",
    "We can apply NumPy style Ufuncs to columns in a DataFrame.  \n",
    "\n",
    "##### Example 14\n",
    "\n",
    "Suppose that we want to know the average for Exam 1."
   ]
  },
  {
   "cell_type": "code",
   "execution_count": 48,
   "id": "f482568e",
   "metadata": {},
   "outputs": [
    {
     "data": {
      "text/plain": [
       "77.84"
      ]
     },
     "execution_count": 48,
     "metadata": {},
     "output_type": "execute_result"
    }
   ],
   "source": [
    "gradebook['Exam1'].mean()"
   ]
  },
  {
   "cell_type": "markdown",
   "id": "21d82f61",
   "metadata": {},
   "source": [
    "It's natural to want to know the high and low scores."
   ]
  },
  {
   "cell_type": "code",
   "execution_count": 106,
   "id": "434362ec",
   "metadata": {},
   "outputs": [
    {
     "data": {
      "text/plain": [
       "99.7"
      ]
     },
     "execution_count": 106,
     "metadata": {},
     "output_type": "execute_result"
    }
   ],
   "source": [
    "gradebook['Exam1'].max()"
   ]
  },
  {
   "cell_type": "code",
   "execution_count": 107,
   "id": "eab71d56",
   "metadata": {},
   "outputs": [
    {
     "data": {
      "text/plain": [
       "56.5"
      ]
     },
     "execution_count": 107,
     "metadata": {},
     "output_type": "execute_result"
    }
   ],
   "source": [
    "gradebook['Exam1'].min()"
   ]
  },
  {
   "cell_type": "markdown",
   "id": "0b1d5594",
   "metadata": {},
   "source": [
    "$\\Box$\n",
    "\n",
    "##### Example 15"
   ]
  },
  {
   "cell_type": "code",
   "execution_count": 111,
   "id": "59e94752",
   "metadata": {},
   "outputs": [
    {
     "data": {
      "text/html": [
       "<div>\n",
       "<style scoped>\n",
       "    .dataframe tbody tr th:only-of-type {\n",
       "        vertical-align: middle;\n",
       "    }\n",
       "\n",
       "    .dataframe tbody tr th {\n",
       "        vertical-align: top;\n",
       "    }\n",
       "\n",
       "    .dataframe thead th {\n",
       "        text-align: right;\n",
       "    }\n",
       "</style>\n",
       "<table border=\"1\" class=\"dataframe\">\n",
       "  <thead>\n",
       "    <tr style=\"text-align: right;\">\n",
       "      <th></th>\n",
       "      <th>free_throws</th>\n",
       "      <th>shooting</th>\n",
       "      <th>3_ball</th>\n",
       "    </tr>\n",
       "  </thead>\n",
       "  <tbody>\n",
       "    <tr>\n",
       "      <th>LeBron</th>\n",
       "      <td>60.098218</td>\n",
       "      <td>87.253434</td>\n",
       "      <td>82.619776</td>\n",
       "    </tr>\n",
       "    <tr>\n",
       "      <th>Larry</th>\n",
       "      <td>71.966202</td>\n",
       "      <td>61.174673</td>\n",
       "      <td>89.819636</td>\n",
       "    </tr>\n",
       "    <tr>\n",
       "      <th>Michael</th>\n",
       "      <td>67.729748</td>\n",
       "      <td>67.580134</td>\n",
       "      <td>66.034485</td>\n",
       "    </tr>\n",
       "    <tr>\n",
       "      <th>Yannis</th>\n",
       "      <td>67.489296</td>\n",
       "      <td>76.160558</td>\n",
       "      <td>74.379625</td>\n",
       "    </tr>\n",
       "    <tr>\n",
       "      <th>Steph</th>\n",
       "      <td>72.187066</td>\n",
       "      <td>77.970777</td>\n",
       "      <td>70.066925</td>\n",
       "    </tr>\n",
       "  </tbody>\n",
       "</table>\n",
       "</div>"
      ],
      "text/plain": [
       "         free_throws   shooting     3_ball\n",
       "LeBron     60.098218  87.253434  82.619776\n",
       "Larry      71.966202  61.174673  89.819636\n",
       "Michael    67.729748  67.580134  66.034485\n",
       "Yannis     67.489296  76.160558  74.379625\n",
       "Steph      72.187066  77.970777  70.066925"
      ]
     },
     "execution_count": 111,
     "metadata": {},
     "output_type": "execute_result"
    }
   ],
   "source": [
    "player_stats"
   ]
  },
  {
   "cell_type": "markdown",
   "id": "07952b57",
   "metadata": {},
   "source": [
    "By default, the *sum* method (and other similar NumPy ndarray methods) is applied along axis = 0.  A series is returned."
   ]
  },
  {
   "cell_type": "code",
   "execution_count": 113,
   "id": "75889f13",
   "metadata": {},
   "outputs": [
    {
     "data": {
      "text/plain": [
       "free_throws    339.470530\n",
       "shooting       370.139577\n",
       "3_ball         382.920447\n",
       "dtype: float64"
      ]
     },
     "execution_count": 113,
     "metadata": {},
     "output_type": "execute_result"
    }
   ],
   "source": [
    "player_stats.sum()"
   ]
  },
  {
   "cell_type": "code",
   "execution_count": 114,
   "id": "ba1c10c9",
   "metadata": {},
   "outputs": [
    {
     "data": {
      "text/plain": [
       "LeBron     229.971428\n",
       "Larry      222.960511\n",
       "Michael    201.344367\n",
       "Yannis     218.029479\n",
       "Steph      220.224768\n",
       "dtype: float64"
      ]
     },
     "execution_count": 114,
     "metadata": {},
     "output_type": "execute_result"
    }
   ],
   "source": [
    "player_stats.sum(axis = 1)"
   ]
  },
  {
   "cell_type": "markdown",
   "id": "8320ff28",
   "metadata": {},
   "source": [
    "We may want to know the average, amoungst all players, for each of the categories."
   ]
  },
  {
   "cell_type": "code",
   "execution_count": 115,
   "id": "e871eb1d",
   "metadata": {},
   "outputs": [
    {
     "data": {
      "text/plain": [
       "free_throws    67.894106\n",
       "shooting       74.027915\n",
       "3_ball         76.584089\n",
       "dtype: float64"
      ]
     },
     "execution_count": 115,
     "metadata": {},
     "output_type": "execute_result"
    }
   ],
   "source": [
    "player_stats.mean(axis = 0)"
   ]
  },
  {
   "cell_type": "markdown",
   "id": "0edf33ba",
   "metadata": {},
   "source": [
    "$\\Box$\n",
    "\n",
    "### Creating New Columns\n",
    "\n",
    "##### Example 16\n",
    "\n",
    "Suppose we want to add a label column to the Iris Dataset."
   ]
  },
  {
   "cell_type": "code",
   "execution_count": 50,
   "id": "a53ae381",
   "metadata": {},
   "outputs": [
    {
     "data": {
      "text/html": [
       "<div>\n",
       "<style scoped>\n",
       "    .dataframe tbody tr th:only-of-type {\n",
       "        vertical-align: middle;\n",
       "    }\n",
       "\n",
       "    .dataframe tbody tr th {\n",
       "        vertical-align: top;\n",
       "    }\n",
       "\n",
       "    .dataframe thead th {\n",
       "        text-align: right;\n",
       "    }\n",
       "</style>\n",
       "<table border=\"1\" class=\"dataframe\">\n",
       "  <thead>\n",
       "    <tr style=\"text-align: right;\">\n",
       "      <th></th>\n",
       "      <th>sepal_length</th>\n",
       "      <th>sepal_width</th>\n",
       "      <th>petal_length</th>\n",
       "      <th>petal_width</th>\n",
       "    </tr>\n",
       "  </thead>\n",
       "  <tbody>\n",
       "    <tr>\n",
       "      <th>45</th>\n",
       "      <td>4.8</td>\n",
       "      <td>3.0</td>\n",
       "      <td>1.4</td>\n",
       "      <td>0.3</td>\n",
       "    </tr>\n",
       "    <tr>\n",
       "      <th>46</th>\n",
       "      <td>5.1</td>\n",
       "      <td>3.8</td>\n",
       "      <td>1.6</td>\n",
       "      <td>0.2</td>\n",
       "    </tr>\n",
       "    <tr>\n",
       "      <th>47</th>\n",
       "      <td>4.6</td>\n",
       "      <td>3.2</td>\n",
       "      <td>1.4</td>\n",
       "      <td>0.2</td>\n",
       "    </tr>\n",
       "    <tr>\n",
       "      <th>48</th>\n",
       "      <td>5.3</td>\n",
       "      <td>3.7</td>\n",
       "      <td>1.5</td>\n",
       "      <td>0.2</td>\n",
       "    </tr>\n",
       "    <tr>\n",
       "      <th>49</th>\n",
       "      <td>5.0</td>\n",
       "      <td>3.3</td>\n",
       "      <td>1.4</td>\n",
       "      <td>0.2</td>\n",
       "    </tr>\n",
       "    <tr>\n",
       "      <th>50</th>\n",
       "      <td>7.0</td>\n",
       "      <td>3.2</td>\n",
       "      <td>4.7</td>\n",
       "      <td>1.4</td>\n",
       "    </tr>\n",
       "    <tr>\n",
       "      <th>51</th>\n",
       "      <td>6.4</td>\n",
       "      <td>3.2</td>\n",
       "      <td>4.5</td>\n",
       "      <td>1.5</td>\n",
       "    </tr>\n",
       "    <tr>\n",
       "      <th>52</th>\n",
       "      <td>6.9</td>\n",
       "      <td>3.1</td>\n",
       "      <td>4.9</td>\n",
       "      <td>1.5</td>\n",
       "    </tr>\n",
       "    <tr>\n",
       "      <th>53</th>\n",
       "      <td>5.5</td>\n",
       "      <td>2.3</td>\n",
       "      <td>4.0</td>\n",
       "      <td>1.3</td>\n",
       "    </tr>\n",
       "    <tr>\n",
       "      <th>54</th>\n",
       "      <td>6.5</td>\n",
       "      <td>2.8</td>\n",
       "      <td>4.6</td>\n",
       "      <td>1.5</td>\n",
       "    </tr>\n",
       "  </tbody>\n",
       "</table>\n",
       "</div>"
      ],
      "text/plain": [
       "    sepal_length  sepal_width  petal_length  petal_width\n",
       "45           4.8          3.0           1.4          0.3\n",
       "46           5.1          3.8           1.6          0.2\n",
       "47           4.6          3.2           1.4          0.2\n",
       "48           5.3          3.7           1.5          0.2\n",
       "49           5.0          3.3           1.4          0.2\n",
       "50           7.0          3.2           4.7          1.4\n",
       "51           6.4          3.2           4.5          1.5\n",
       "52           6.9          3.1           4.9          1.5\n",
       "53           5.5          2.3           4.0          1.3\n",
       "54           6.5          2.8           4.6          1.5"
      ]
     },
     "execution_count": 50,
     "metadata": {},
     "output_type": "execute_result"
    }
   ],
   "source": [
    "iris.iloc[45:55]"
   ]
  },
  {
   "cell_type": "code",
   "execution_count": 51,
   "id": "080d6d74",
   "metadata": {},
   "outputs": [
    {
     "data": {
      "text/plain": [
       "array([0, 0, 0, 0, 0, 1, 1, 1, 1, 1])"
      ]
     },
     "execution_count": 51,
     "metadata": {},
     "output_type": "execute_result"
    }
   ],
   "source": [
    "labels = datasets.load_iris().target\n",
    "labels[45:55]"
   ]
  },
  {
   "cell_type": "code",
   "execution_count": 52,
   "id": "db9d9cf9",
   "metadata": {},
   "outputs": [
    {
     "data": {
      "text/plain": [
       "numpy.ndarray"
      ]
     },
     "execution_count": 52,
     "metadata": {},
     "output_type": "execute_result"
    }
   ],
   "source": [
    "type(labels)"
   ]
  },
  {
   "cell_type": "markdown",
   "id": "750b0390",
   "metadata": {},
   "source": [
    "The following syntax illustrates how to accomplish this task."
   ]
  },
  {
   "cell_type": "code",
   "execution_count": 53,
   "id": "db682989",
   "metadata": {},
   "outputs": [],
   "source": [
    "iris['label'] = labels"
   ]
  },
  {
   "cell_type": "code",
   "execution_count": 54,
   "id": "557d05bb",
   "metadata": {},
   "outputs": [
    {
     "data": {
      "text/html": [
       "<div>\n",
       "<style scoped>\n",
       "    .dataframe tbody tr th:only-of-type {\n",
       "        vertical-align: middle;\n",
       "    }\n",
       "\n",
       "    .dataframe tbody tr th {\n",
       "        vertical-align: top;\n",
       "    }\n",
       "\n",
       "    .dataframe thead th {\n",
       "        text-align: right;\n",
       "    }\n",
       "</style>\n",
       "<table border=\"1\" class=\"dataframe\">\n",
       "  <thead>\n",
       "    <tr style=\"text-align: right;\">\n",
       "      <th></th>\n",
       "      <th>sepal_length</th>\n",
       "      <th>sepal_width</th>\n",
       "      <th>petal_length</th>\n",
       "      <th>petal_width</th>\n",
       "      <th>label</th>\n",
       "    </tr>\n",
       "  </thead>\n",
       "  <tbody>\n",
       "    <tr>\n",
       "      <th>0</th>\n",
       "      <td>5.1</td>\n",
       "      <td>3.5</td>\n",
       "      <td>1.4</td>\n",
       "      <td>0.2</td>\n",
       "      <td>0</td>\n",
       "    </tr>\n",
       "    <tr>\n",
       "      <th>1</th>\n",
       "      <td>4.9</td>\n",
       "      <td>3.0</td>\n",
       "      <td>1.4</td>\n",
       "      <td>0.2</td>\n",
       "      <td>0</td>\n",
       "    </tr>\n",
       "    <tr>\n",
       "      <th>2</th>\n",
       "      <td>4.7</td>\n",
       "      <td>3.2</td>\n",
       "      <td>1.3</td>\n",
       "      <td>0.2</td>\n",
       "      <td>0</td>\n",
       "    </tr>\n",
       "    <tr>\n",
       "      <th>3</th>\n",
       "      <td>4.6</td>\n",
       "      <td>3.1</td>\n",
       "      <td>1.5</td>\n",
       "      <td>0.2</td>\n",
       "      <td>0</td>\n",
       "    </tr>\n",
       "    <tr>\n",
       "      <th>4</th>\n",
       "      <td>5.0</td>\n",
       "      <td>3.6</td>\n",
       "      <td>1.4</td>\n",
       "      <td>0.2</td>\n",
       "      <td>0</td>\n",
       "    </tr>\n",
       "  </tbody>\n",
       "</table>\n",
       "</div>"
      ],
      "text/plain": [
       "   sepal_length  sepal_width  petal_length  petal_width  label\n",
       "0           5.1          3.5           1.4          0.2      0\n",
       "1           4.9          3.0           1.4          0.2      0\n",
       "2           4.7          3.2           1.3          0.2      0\n",
       "3           4.6          3.1           1.5          0.2      0\n",
       "4           5.0          3.6           1.4          0.2      0"
      ]
     },
     "execution_count": 54,
     "metadata": {},
     "output_type": "execute_result"
    }
   ],
   "source": [
    "iris.head()"
   ]
  },
  {
   "cell_type": "markdown",
   "id": "719cb861",
   "metadata": {},
   "source": [
    "$\\Box$\n",
    "\n",
    "##### Example 17\n",
    "\n",
    "Suppose we wanted to add a new column to the gradebook populated with 0's."
   ]
  },
  {
   "cell_type": "code",
   "execution_count": 55,
   "id": "174e3b42",
   "metadata": {},
   "outputs": [],
   "source": [
    "gradebook['Exam2'] = 0.0"
   ]
  },
  {
   "cell_type": "code",
   "execution_count": 56,
   "id": "855a3cba",
   "metadata": {},
   "outputs": [
    {
     "data": {
      "text/html": [
       "<div>\n",
       "<style scoped>\n",
       "    .dataframe tbody tr th:only-of-type {\n",
       "        vertical-align: middle;\n",
       "    }\n",
       "\n",
       "    .dataframe tbody tr th {\n",
       "        vertical-align: top;\n",
       "    }\n",
       "\n",
       "    .dataframe thead th {\n",
       "        text-align: right;\n",
       "    }\n",
       "</style>\n",
       "<table border=\"1\" class=\"dataframe\">\n",
       "  <thead>\n",
       "    <tr style=\"text-align: right;\">\n",
       "      <th></th>\n",
       "      <th>Name</th>\n",
       "      <th>HW</th>\n",
       "      <th>Quiz1</th>\n",
       "      <th>Exam1</th>\n",
       "      <th>Exam2</th>\n",
       "    </tr>\n",
       "  </thead>\n",
       "  <tbody>\n",
       "    <tr>\n",
       "      <th>0</th>\n",
       "      <td>Adam</td>\n",
       "      <td>30</td>\n",
       "      <td>10</td>\n",
       "      <td>95.2</td>\n",
       "      <td>0.0</td>\n",
       "    </tr>\n",
       "    <tr>\n",
       "      <th>1</th>\n",
       "      <td>Bob</td>\n",
       "      <td>40</td>\n",
       "      <td>5</td>\n",
       "      <td>56.5</td>\n",
       "      <td>0.0</td>\n",
       "    </tr>\n",
       "    <tr>\n",
       "      <th>2</th>\n",
       "      <td>Carole</td>\n",
       "      <td>20</td>\n",
       "      <td>20</td>\n",
       "      <td>75.8</td>\n",
       "      <td>0.0</td>\n",
       "    </tr>\n",
       "    <tr>\n",
       "      <th>3</th>\n",
       "      <td>Dani</td>\n",
       "      <td>30</td>\n",
       "      <td>15</td>\n",
       "      <td>62.0</td>\n",
       "      <td>0.0</td>\n",
       "    </tr>\n",
       "    <tr>\n",
       "      <th>4</th>\n",
       "      <td>Ella</td>\n",
       "      <td>40</td>\n",
       "      <td>20</td>\n",
       "      <td>99.7</td>\n",
       "      <td>0.0</td>\n",
       "    </tr>\n",
       "  </tbody>\n",
       "</table>\n",
       "</div>"
      ],
      "text/plain": [
       "     Name  HW  Quiz1  Exam1  Exam2\n",
       "0    Adam  30     10   95.2    0.0\n",
       "1     Bob  40      5   56.5    0.0\n",
       "2  Carole  20     20   75.8    0.0\n",
       "3    Dani  30     15   62.0    0.0\n",
       "4    Ella  40     20   99.7    0.0"
      ]
     },
     "execution_count": 56,
     "metadata": {},
     "output_type": "execute_result"
    }
   ],
   "source": [
    "gradebook"
   ]
  },
  {
   "cell_type": "markdown",
   "id": "9a6cb198",
   "metadata": {},
   "source": [
    "Now, lets add some scores to Exam 2."
   ]
  },
  {
   "cell_type": "code",
   "execution_count": 59,
   "id": "9d7046db",
   "metadata": {},
   "outputs": [],
   "source": [
    "gradebook['Exam3'] = np.array([88.5, 35.7, 78.2, 91.4, 77.5])"
   ]
  },
  {
   "cell_type": "code",
   "execution_count": 60,
   "id": "4d3d910f",
   "metadata": {},
   "outputs": [
    {
     "data": {
      "text/html": [
       "<div>\n",
       "<style scoped>\n",
       "    .dataframe tbody tr th:only-of-type {\n",
       "        vertical-align: middle;\n",
       "    }\n",
       "\n",
       "    .dataframe tbody tr th {\n",
       "        vertical-align: top;\n",
       "    }\n",
       "\n",
       "    .dataframe thead th {\n",
       "        text-align: right;\n",
       "    }\n",
       "</style>\n",
       "<table border=\"1\" class=\"dataframe\">\n",
       "  <thead>\n",
       "    <tr style=\"text-align: right;\">\n",
       "      <th></th>\n",
       "      <th>Name</th>\n",
       "      <th>HW</th>\n",
       "      <th>Quiz1</th>\n",
       "      <th>Exam1</th>\n",
       "      <th>Exam2</th>\n",
       "      <th>Exam3</th>\n",
       "    </tr>\n",
       "  </thead>\n",
       "  <tbody>\n",
       "    <tr>\n",
       "      <th>0</th>\n",
       "      <td>Adam</td>\n",
       "      <td>30</td>\n",
       "      <td>10</td>\n",
       "      <td>95.2</td>\n",
       "      <td>88.5</td>\n",
       "      <td>88.5</td>\n",
       "    </tr>\n",
       "    <tr>\n",
       "      <th>1</th>\n",
       "      <td>Bob</td>\n",
       "      <td>40</td>\n",
       "      <td>5</td>\n",
       "      <td>56.5</td>\n",
       "      <td>35.7</td>\n",
       "      <td>35.7</td>\n",
       "    </tr>\n",
       "    <tr>\n",
       "      <th>2</th>\n",
       "      <td>Carole</td>\n",
       "      <td>20</td>\n",
       "      <td>20</td>\n",
       "      <td>75.8</td>\n",
       "      <td>78.2</td>\n",
       "      <td>78.2</td>\n",
       "    </tr>\n",
       "    <tr>\n",
       "      <th>3</th>\n",
       "      <td>Dani</td>\n",
       "      <td>30</td>\n",
       "      <td>15</td>\n",
       "      <td>62.0</td>\n",
       "      <td>91.4</td>\n",
       "      <td>91.4</td>\n",
       "    </tr>\n",
       "    <tr>\n",
       "      <th>4</th>\n",
       "      <td>Ella</td>\n",
       "      <td>40</td>\n",
       "      <td>20</td>\n",
       "      <td>99.7</td>\n",
       "      <td>77.5</td>\n",
       "      <td>77.5</td>\n",
       "    </tr>\n",
       "  </tbody>\n",
       "</table>\n",
       "</div>"
      ],
      "text/plain": [
       "     Name  HW  Quiz1  Exam1  Exam2  Exam3\n",
       "0    Adam  30     10   95.2   88.5   88.5\n",
       "1     Bob  40      5   56.5   35.7   35.7\n",
       "2  Carole  20     20   75.8   78.2   78.2\n",
       "3    Dani  30     15   62.0   91.4   91.4\n",
       "4    Ella  40     20   99.7   77.5   77.5"
      ]
     },
     "execution_count": 60,
     "metadata": {},
     "output_type": "execute_result"
    }
   ],
   "source": [
    "gradebook"
   ]
  },
  {
   "cell_type": "markdown",
   "id": "8de3db89",
   "metadata": {},
   "source": [
    "$\\Box$\n",
    "\n",
    "##### Example 18\n",
    "\n",
    "Now, lets add a column for Quiz 2."
   ]
  },
  {
   "cell_type": "code",
   "execution_count": 61,
   "id": "fd659b4a",
   "metadata": {},
   "outputs": [],
   "source": [
    "gradebook['Quiz2'] = [10,20,30,40,50]"
   ]
  },
  {
   "cell_type": "code",
   "execution_count": 62,
   "id": "9b83e271",
   "metadata": {},
   "outputs": [
    {
     "data": {
      "text/html": [
       "<div>\n",
       "<style scoped>\n",
       "    .dataframe tbody tr th:only-of-type {\n",
       "        vertical-align: middle;\n",
       "    }\n",
       "\n",
       "    .dataframe tbody tr th {\n",
       "        vertical-align: top;\n",
       "    }\n",
       "\n",
       "    .dataframe thead th {\n",
       "        text-align: right;\n",
       "    }\n",
       "</style>\n",
       "<table border=\"1\" class=\"dataframe\">\n",
       "  <thead>\n",
       "    <tr style=\"text-align: right;\">\n",
       "      <th></th>\n",
       "      <th>Name</th>\n",
       "      <th>HW</th>\n",
       "      <th>Quiz1</th>\n",
       "      <th>Exam1</th>\n",
       "      <th>Exam2</th>\n",
       "      <th>Exam3</th>\n",
       "      <th>Quiz2</th>\n",
       "    </tr>\n",
       "  </thead>\n",
       "  <tbody>\n",
       "    <tr>\n",
       "      <th>0</th>\n",
       "      <td>Adam</td>\n",
       "      <td>30</td>\n",
       "      <td>10</td>\n",
       "      <td>95.2</td>\n",
       "      <td>88.5</td>\n",
       "      <td>88.5</td>\n",
       "      <td>10</td>\n",
       "    </tr>\n",
       "    <tr>\n",
       "      <th>1</th>\n",
       "      <td>Bob</td>\n",
       "      <td>40</td>\n",
       "      <td>5</td>\n",
       "      <td>56.5</td>\n",
       "      <td>35.7</td>\n",
       "      <td>35.7</td>\n",
       "      <td>20</td>\n",
       "    </tr>\n",
       "    <tr>\n",
       "      <th>2</th>\n",
       "      <td>Carole</td>\n",
       "      <td>20</td>\n",
       "      <td>20</td>\n",
       "      <td>75.8</td>\n",
       "      <td>78.2</td>\n",
       "      <td>78.2</td>\n",
       "      <td>30</td>\n",
       "    </tr>\n",
       "    <tr>\n",
       "      <th>3</th>\n",
       "      <td>Dani</td>\n",
       "      <td>30</td>\n",
       "      <td>15</td>\n",
       "      <td>62.0</td>\n",
       "      <td>91.4</td>\n",
       "      <td>91.4</td>\n",
       "      <td>40</td>\n",
       "    </tr>\n",
       "    <tr>\n",
       "      <th>4</th>\n",
       "      <td>Ella</td>\n",
       "      <td>40</td>\n",
       "      <td>20</td>\n",
       "      <td>99.7</td>\n",
       "      <td>77.5</td>\n",
       "      <td>77.5</td>\n",
       "      <td>50</td>\n",
       "    </tr>\n",
       "  </tbody>\n",
       "</table>\n",
       "</div>"
      ],
      "text/plain": [
       "     Name  HW  Quiz1  Exam1  Exam2  Exam3  Quiz2\n",
       "0    Adam  30     10   95.2   88.5   88.5     10\n",
       "1     Bob  40      5   56.5   35.7   35.7     20\n",
       "2  Carole  20     20   75.8   78.2   78.2     30\n",
       "3    Dani  30     15   62.0   91.4   91.4     40\n",
       "4    Ella  40     20   99.7   77.5   77.5     50"
      ]
     },
     "execution_count": 62,
     "metadata": {},
     "output_type": "execute_result"
    }
   ],
   "source": [
    "gradebook"
   ]
  },
  {
   "cell_type": "markdown",
   "id": "ea3e9866",
   "metadata": {},
   "source": [
    "$\\Box$\n",
    "\n",
    "##### Example 18\n",
    "\n",
    "Suppose we want to create a total column for the gradebook that sums Quiz 1 and Quiz 2."
   ]
  },
  {
   "cell_type": "code",
   "execution_count": 63,
   "id": "2e12dce2",
   "metadata": {},
   "outputs": [
    {
     "data": {
      "text/plain": [
       "0    10\n",
       "1     5\n",
       "2    20\n",
       "3    15\n",
       "4    20\n",
       "Name: Quiz1, dtype: int64"
      ]
     },
     "execution_count": 63,
     "metadata": {},
     "output_type": "execute_result"
    }
   ],
   "source": [
    "gradebook['Quiz1']"
   ]
  },
  {
   "cell_type": "code",
   "execution_count": 64,
   "id": "9c432c0c",
   "metadata": {},
   "outputs": [
    {
     "data": {
      "text/plain": [
       "0    10\n",
       "1    20\n",
       "2    30\n",
       "3    40\n",
       "4    50\n",
       "Name: Quiz2, dtype: int64"
      ]
     },
     "execution_count": 64,
     "metadata": {},
     "output_type": "execute_result"
    }
   ],
   "source": [
    "gradebook['Quiz2']"
   ]
  },
  {
   "cell_type": "code",
   "execution_count": 65,
   "id": "f2ad9bf6",
   "metadata": {},
   "outputs": [],
   "source": [
    "gradebook['Quiz_Total'] = gradebook['Quiz1']+gradebook['Quiz2']"
   ]
  },
  {
   "cell_type": "code",
   "execution_count": 66,
   "id": "ecdcaa7a",
   "metadata": {},
   "outputs": [
    {
     "data": {
      "text/html": [
       "<div>\n",
       "<style scoped>\n",
       "    .dataframe tbody tr th:only-of-type {\n",
       "        vertical-align: middle;\n",
       "    }\n",
       "\n",
       "    .dataframe tbody tr th {\n",
       "        vertical-align: top;\n",
       "    }\n",
       "\n",
       "    .dataframe thead th {\n",
       "        text-align: right;\n",
       "    }\n",
       "</style>\n",
       "<table border=\"1\" class=\"dataframe\">\n",
       "  <thead>\n",
       "    <tr style=\"text-align: right;\">\n",
       "      <th></th>\n",
       "      <th>Name</th>\n",
       "      <th>HW</th>\n",
       "      <th>Quiz1</th>\n",
       "      <th>Exam1</th>\n",
       "      <th>Exam2</th>\n",
       "      <th>Exam3</th>\n",
       "      <th>Quiz2</th>\n",
       "      <th>Quiz_Total</th>\n",
       "    </tr>\n",
       "  </thead>\n",
       "  <tbody>\n",
       "    <tr>\n",
       "      <th>0</th>\n",
       "      <td>Adam</td>\n",
       "      <td>30</td>\n",
       "      <td>10</td>\n",
       "      <td>95.2</td>\n",
       "      <td>88.5</td>\n",
       "      <td>88.5</td>\n",
       "      <td>10</td>\n",
       "      <td>20</td>\n",
       "    </tr>\n",
       "    <tr>\n",
       "      <th>1</th>\n",
       "      <td>Bob</td>\n",
       "      <td>40</td>\n",
       "      <td>5</td>\n",
       "      <td>56.5</td>\n",
       "      <td>35.7</td>\n",
       "      <td>35.7</td>\n",
       "      <td>20</td>\n",
       "      <td>25</td>\n",
       "    </tr>\n",
       "    <tr>\n",
       "      <th>2</th>\n",
       "      <td>Carole</td>\n",
       "      <td>20</td>\n",
       "      <td>20</td>\n",
       "      <td>75.8</td>\n",
       "      <td>78.2</td>\n",
       "      <td>78.2</td>\n",
       "      <td>30</td>\n",
       "      <td>50</td>\n",
       "    </tr>\n",
       "    <tr>\n",
       "      <th>3</th>\n",
       "      <td>Dani</td>\n",
       "      <td>30</td>\n",
       "      <td>15</td>\n",
       "      <td>62.0</td>\n",
       "      <td>91.4</td>\n",
       "      <td>91.4</td>\n",
       "      <td>40</td>\n",
       "      <td>55</td>\n",
       "    </tr>\n",
       "    <tr>\n",
       "      <th>4</th>\n",
       "      <td>Ella</td>\n",
       "      <td>40</td>\n",
       "      <td>20</td>\n",
       "      <td>99.7</td>\n",
       "      <td>77.5</td>\n",
       "      <td>77.5</td>\n",
       "      <td>50</td>\n",
       "      <td>70</td>\n",
       "    </tr>\n",
       "  </tbody>\n",
       "</table>\n",
       "</div>"
      ],
      "text/plain": [
       "     Name  HW  Quiz1  Exam1  Exam2  Exam3  Quiz2  Quiz_Total\n",
       "0    Adam  30     10   95.2   88.5   88.5     10          20\n",
       "1     Bob  40      5   56.5   35.7   35.7     20          25\n",
       "2  Carole  20     20   75.8   78.2   78.2     30          50\n",
       "3    Dani  30     15   62.0   91.4   91.4     40          55\n",
       "4    Ella  40     20   99.7   77.5   77.5     50          70"
      ]
     },
     "execution_count": 66,
     "metadata": {},
     "output_type": "execute_result"
    }
   ],
   "source": [
    "gradebook"
   ]
  },
  {
   "cell_type": "markdown",
   "id": "49aab7c7",
   "metadata": {},
   "source": [
    "$\\Box$\n",
    "\n",
    "#### Apply\n",
    "\n",
    "The *apply* method acts on a column (or multiple columns) in a DataFrame.  It takes a function as a parameter.\n",
    "\n",
    "##### Example 19\n",
    "\n",
    "Suppose that we want to add a binary column to the gradebook to indicate if a student is passing or not.  Further suppose that our criteria is a passing grade on Exam 1."
   ]
  },
  {
   "cell_type": "code",
   "execution_count": 67,
   "id": "29345fe6",
   "metadata": {},
   "outputs": [],
   "source": [
    "gradebook['passing'] = gradebook.Exam1.apply(lambda x: 1 if x >= 70.0 else 0)"
   ]
  },
  {
   "cell_type": "code",
   "execution_count": 68,
   "id": "8c262a81",
   "metadata": {},
   "outputs": [
    {
     "data": {
      "text/html": [
       "<div>\n",
       "<style scoped>\n",
       "    .dataframe tbody tr th:only-of-type {\n",
       "        vertical-align: middle;\n",
       "    }\n",
       "\n",
       "    .dataframe tbody tr th {\n",
       "        vertical-align: top;\n",
       "    }\n",
       "\n",
       "    .dataframe thead th {\n",
       "        text-align: right;\n",
       "    }\n",
       "</style>\n",
       "<table border=\"1\" class=\"dataframe\">\n",
       "  <thead>\n",
       "    <tr style=\"text-align: right;\">\n",
       "      <th></th>\n",
       "      <th>Name</th>\n",
       "      <th>HW</th>\n",
       "      <th>Quiz1</th>\n",
       "      <th>Exam1</th>\n",
       "      <th>Exam2</th>\n",
       "      <th>Exam3</th>\n",
       "      <th>Quiz2</th>\n",
       "      <th>Quiz_Total</th>\n",
       "      <th>passing</th>\n",
       "    </tr>\n",
       "  </thead>\n",
       "  <tbody>\n",
       "    <tr>\n",
       "      <th>0</th>\n",
       "      <td>Adam</td>\n",
       "      <td>30</td>\n",
       "      <td>10</td>\n",
       "      <td>95.2</td>\n",
       "      <td>88.5</td>\n",
       "      <td>88.5</td>\n",
       "      <td>10</td>\n",
       "      <td>20</td>\n",
       "      <td>1</td>\n",
       "    </tr>\n",
       "    <tr>\n",
       "      <th>1</th>\n",
       "      <td>Bob</td>\n",
       "      <td>40</td>\n",
       "      <td>5</td>\n",
       "      <td>56.5</td>\n",
       "      <td>35.7</td>\n",
       "      <td>35.7</td>\n",
       "      <td>20</td>\n",
       "      <td>25</td>\n",
       "      <td>0</td>\n",
       "    </tr>\n",
       "    <tr>\n",
       "      <th>2</th>\n",
       "      <td>Carole</td>\n",
       "      <td>20</td>\n",
       "      <td>20</td>\n",
       "      <td>75.8</td>\n",
       "      <td>78.2</td>\n",
       "      <td>78.2</td>\n",
       "      <td>30</td>\n",
       "      <td>50</td>\n",
       "      <td>1</td>\n",
       "    </tr>\n",
       "    <tr>\n",
       "      <th>3</th>\n",
       "      <td>Dani</td>\n",
       "      <td>30</td>\n",
       "      <td>15</td>\n",
       "      <td>62.0</td>\n",
       "      <td>91.4</td>\n",
       "      <td>91.4</td>\n",
       "      <td>40</td>\n",
       "      <td>55</td>\n",
       "      <td>0</td>\n",
       "    </tr>\n",
       "    <tr>\n",
       "      <th>4</th>\n",
       "      <td>Ella</td>\n",
       "      <td>40</td>\n",
       "      <td>20</td>\n",
       "      <td>99.7</td>\n",
       "      <td>77.5</td>\n",
       "      <td>77.5</td>\n",
       "      <td>50</td>\n",
       "      <td>70</td>\n",
       "      <td>1</td>\n",
       "    </tr>\n",
       "  </tbody>\n",
       "</table>\n",
       "</div>"
      ],
      "text/plain": [
       "     Name  HW  Quiz1  Exam1  Exam2  Exam3  Quiz2  Quiz_Total  passing\n",
       "0    Adam  30     10   95.2   88.5   88.5     10          20        1\n",
       "1     Bob  40      5   56.5   35.7   35.7     20          25        0\n",
       "2  Carole  20     20   75.8   78.2   78.2     30          50        1\n",
       "3    Dani  30     15   62.0   91.4   91.4     40          55        0\n",
       "4    Ella  40     20   99.7   77.5   77.5     50          70        1"
      ]
     },
     "execution_count": 68,
     "metadata": {},
     "output_type": "execute_result"
    }
   ],
   "source": [
    "gradebook"
   ]
  },
  {
   "cell_type": "markdown",
   "id": "85894e37",
   "metadata": {},
   "source": [
    "$\\Box$\n",
    "\n",
    "Using apply on multiple columns requires that we select multiple columns and pass an axis argument.\n",
    "\n",
    "##### Example 20"
   ]
  },
  {
   "cell_type": "code",
   "execution_count": 73,
   "id": "26372a70",
   "metadata": {},
   "outputs": [],
   "source": [
    "gradebook['Exam_Total'] = gradebook[['Exam1', 'Exam2', 'Exam3']].apply(lambda x: x.sum(), axis = 1)"
   ]
  },
  {
   "cell_type": "code",
   "execution_count": 74,
   "id": "dcf81158",
   "metadata": {},
   "outputs": [
    {
     "data": {
      "text/html": [
       "<div>\n",
       "<style scoped>\n",
       "    .dataframe tbody tr th:only-of-type {\n",
       "        vertical-align: middle;\n",
       "    }\n",
       "\n",
       "    .dataframe tbody tr th {\n",
       "        vertical-align: top;\n",
       "    }\n",
       "\n",
       "    .dataframe thead th {\n",
       "        text-align: right;\n",
       "    }\n",
       "</style>\n",
       "<table border=\"1\" class=\"dataframe\">\n",
       "  <thead>\n",
       "    <tr style=\"text-align: right;\">\n",
       "      <th></th>\n",
       "      <th>Name</th>\n",
       "      <th>HW</th>\n",
       "      <th>Quiz1</th>\n",
       "      <th>Exam1</th>\n",
       "      <th>Exam2</th>\n",
       "      <th>Exam3</th>\n",
       "      <th>Quiz2</th>\n",
       "      <th>Quiz_Total</th>\n",
       "      <th>passing</th>\n",
       "      <th>Exam_Total</th>\n",
       "    </tr>\n",
       "  </thead>\n",
       "  <tbody>\n",
       "    <tr>\n",
       "      <th>0</th>\n",
       "      <td>Adam</td>\n",
       "      <td>30</td>\n",
       "      <td>10</td>\n",
       "      <td>95.2</td>\n",
       "      <td>88.5</td>\n",
       "      <td>88.5</td>\n",
       "      <td>10</td>\n",
       "      <td>20</td>\n",
       "      <td>1</td>\n",
       "      <td>272.2</td>\n",
       "    </tr>\n",
       "    <tr>\n",
       "      <th>1</th>\n",
       "      <td>Bob</td>\n",
       "      <td>40</td>\n",
       "      <td>5</td>\n",
       "      <td>56.5</td>\n",
       "      <td>35.7</td>\n",
       "      <td>35.7</td>\n",
       "      <td>20</td>\n",
       "      <td>25</td>\n",
       "      <td>0</td>\n",
       "      <td>127.9</td>\n",
       "    </tr>\n",
       "    <tr>\n",
       "      <th>2</th>\n",
       "      <td>Carole</td>\n",
       "      <td>20</td>\n",
       "      <td>20</td>\n",
       "      <td>75.8</td>\n",
       "      <td>78.2</td>\n",
       "      <td>78.2</td>\n",
       "      <td>30</td>\n",
       "      <td>50</td>\n",
       "      <td>1</td>\n",
       "      <td>232.2</td>\n",
       "    </tr>\n",
       "    <tr>\n",
       "      <th>3</th>\n",
       "      <td>Dani</td>\n",
       "      <td>30</td>\n",
       "      <td>15</td>\n",
       "      <td>62.0</td>\n",
       "      <td>91.4</td>\n",
       "      <td>91.4</td>\n",
       "      <td>40</td>\n",
       "      <td>55</td>\n",
       "      <td>0</td>\n",
       "      <td>244.8</td>\n",
       "    </tr>\n",
       "    <tr>\n",
       "      <th>4</th>\n",
       "      <td>Ella</td>\n",
       "      <td>40</td>\n",
       "      <td>20</td>\n",
       "      <td>99.7</td>\n",
       "      <td>77.5</td>\n",
       "      <td>77.5</td>\n",
       "      <td>50</td>\n",
       "      <td>70</td>\n",
       "      <td>1</td>\n",
       "      <td>254.7</td>\n",
       "    </tr>\n",
       "  </tbody>\n",
       "</table>\n",
       "</div>"
      ],
      "text/plain": [
       "     Name  HW  Quiz1  Exam1  Exam2  Exam3  Quiz2  Quiz_Total  passing  \\\n",
       "0    Adam  30     10   95.2   88.5   88.5     10          20        1   \n",
       "1     Bob  40      5   56.5   35.7   35.7     20          25        0   \n",
       "2  Carole  20     20   75.8   78.2   78.2     30          50        1   \n",
       "3    Dani  30     15   62.0   91.4   91.4     40          55        0   \n",
       "4    Ella  40     20   99.7   77.5   77.5     50          70        1   \n",
       "\n",
       "   Exam_Total  \n",
       "0       272.2  \n",
       "1       127.9  \n",
       "2       232.2  \n",
       "3       244.8  \n",
       "4       254.7  "
      ]
     },
     "execution_count": 74,
     "metadata": {},
     "output_type": "execute_result"
    }
   ],
   "source": [
    "gradebook"
   ]
  },
  {
   "cell_type": "markdown",
   "id": "4a9c6336",
   "metadata": {},
   "source": [
    "$\\Box$\n",
    "\n",
    "### Reorder Columns\n",
    "\n",
    "The gradebook columns look out of order.  Lets reorder them.\n",
    "\n",
    "##### Example 21"
   ]
  },
  {
   "cell_type": "code",
   "execution_count": 75,
   "id": "a63d1525",
   "metadata": {},
   "outputs": [
    {
     "data": {
      "text/plain": [
       "['Name',\n",
       " 'HW',\n",
       " 'Quiz1',\n",
       " 'Exam1',\n",
       " 'Exam2',\n",
       " 'Exam3',\n",
       " 'Quiz2',\n",
       " 'Quiz_Total',\n",
       " 'passing',\n",
       " 'Exam_Total']"
      ]
     },
     "execution_count": 75,
     "metadata": {},
     "output_type": "execute_result"
    }
   ],
   "source": [
    "list(gradebook.columns)"
   ]
  },
  {
   "cell_type": "code",
   "execution_count": 76,
   "id": "c13fde46",
   "metadata": {},
   "outputs": [
    {
     "data": {
      "text/html": [
       "<div>\n",
       "<style scoped>\n",
       "    .dataframe tbody tr th:only-of-type {\n",
       "        vertical-align: middle;\n",
       "    }\n",
       "\n",
       "    .dataframe tbody tr th {\n",
       "        vertical-align: top;\n",
       "    }\n",
       "\n",
       "    .dataframe thead th {\n",
       "        text-align: right;\n",
       "    }\n",
       "</style>\n",
       "<table border=\"1\" class=\"dataframe\">\n",
       "  <thead>\n",
       "    <tr style=\"text-align: right;\">\n",
       "      <th></th>\n",
       "      <th>Name</th>\n",
       "      <th>HW</th>\n",
       "      <th>Quiz1</th>\n",
       "      <th>Quiz2</th>\n",
       "      <th>Exam1</th>\n",
       "      <th>Exam2</th>\n",
       "      <th>Exam3</th>\n",
       "      <th>Quiz_Total</th>\n",
       "      <th>Exam_Total</th>\n",
       "      <th>passing</th>\n",
       "    </tr>\n",
       "  </thead>\n",
       "  <tbody>\n",
       "    <tr>\n",
       "      <th>0</th>\n",
       "      <td>Adam</td>\n",
       "      <td>30</td>\n",
       "      <td>10</td>\n",
       "      <td>10</td>\n",
       "      <td>95.2</td>\n",
       "      <td>88.5</td>\n",
       "      <td>88.5</td>\n",
       "      <td>20</td>\n",
       "      <td>272.2</td>\n",
       "      <td>1</td>\n",
       "    </tr>\n",
       "    <tr>\n",
       "      <th>1</th>\n",
       "      <td>Bob</td>\n",
       "      <td>40</td>\n",
       "      <td>5</td>\n",
       "      <td>20</td>\n",
       "      <td>56.5</td>\n",
       "      <td>35.7</td>\n",
       "      <td>35.7</td>\n",
       "      <td>25</td>\n",
       "      <td>127.9</td>\n",
       "      <td>0</td>\n",
       "    </tr>\n",
       "    <tr>\n",
       "      <th>2</th>\n",
       "      <td>Carole</td>\n",
       "      <td>20</td>\n",
       "      <td>20</td>\n",
       "      <td>30</td>\n",
       "      <td>75.8</td>\n",
       "      <td>78.2</td>\n",
       "      <td>78.2</td>\n",
       "      <td>50</td>\n",
       "      <td>232.2</td>\n",
       "      <td>1</td>\n",
       "    </tr>\n",
       "    <tr>\n",
       "      <th>3</th>\n",
       "      <td>Dani</td>\n",
       "      <td>30</td>\n",
       "      <td>15</td>\n",
       "      <td>40</td>\n",
       "      <td>62.0</td>\n",
       "      <td>91.4</td>\n",
       "      <td>91.4</td>\n",
       "      <td>55</td>\n",
       "      <td>244.8</td>\n",
       "      <td>0</td>\n",
       "    </tr>\n",
       "    <tr>\n",
       "      <th>4</th>\n",
       "      <td>Ella</td>\n",
       "      <td>40</td>\n",
       "      <td>20</td>\n",
       "      <td>50</td>\n",
       "      <td>99.7</td>\n",
       "      <td>77.5</td>\n",
       "      <td>77.5</td>\n",
       "      <td>70</td>\n",
       "      <td>254.7</td>\n",
       "      <td>1</td>\n",
       "    </tr>\n",
       "  </tbody>\n",
       "</table>\n",
       "</div>"
      ],
      "text/plain": [
       "     Name  HW  Quiz1  Quiz2  Exam1  Exam2  Exam3  Quiz_Total  Exam_Total  \\\n",
       "0    Adam  30     10     10   95.2   88.5   88.5          20       272.2   \n",
       "1     Bob  40      5     20   56.5   35.7   35.7          25       127.9   \n",
       "2  Carole  20     20     30   75.8   78.2   78.2          50       232.2   \n",
       "3    Dani  30     15     40   62.0   91.4   91.4          55       244.8   \n",
       "4    Ella  40     20     50   99.7   77.5   77.5          70       254.7   \n",
       "\n",
       "   passing  \n",
       "0        1  \n",
       "1        0  \n",
       "2        1  \n",
       "3        0  \n",
       "4        1  "
      ]
     },
     "execution_count": 76,
     "metadata": {},
     "output_type": "execute_result"
    }
   ],
   "source": [
    "gradebook = gradebook[['Name', 'HW', 'Quiz1','Quiz2','Exam1','Exam2', 'Exam3', 'Quiz_Total', 'Exam_Total', 'passing']]\n",
    "gradebook"
   ]
  },
  {
   "cell_type": "markdown",
   "id": "7ef854d3",
   "metadata": {},
   "source": [
    "$\\Box$\n",
    "\n",
    "The above example worked because the list of column names is small.  How could we reorder the columns when the number of columns is large?\n",
    "\n",
    "##### Example 22\n",
    "\n",
    "Lets exchange the positions of the HW and passing columns."
   ]
  },
  {
   "cell_type": "code",
   "execution_count": 77,
   "id": "1a3cefe9",
   "metadata": {},
   "outputs": [],
   "source": [
    "cols = list(gradebook.columns)"
   ]
  },
  {
   "cell_type": "code",
   "execution_count": 78,
   "id": "31780d04",
   "metadata": {},
   "outputs": [
    {
     "data": {
      "text/plain": [
       "['Name',\n",
       " 'HW',\n",
       " 'Quiz1',\n",
       " 'Quiz2',\n",
       " 'Exam1',\n",
       " 'Exam2',\n",
       " 'Exam3',\n",
       " 'Quiz_Total',\n",
       " 'Exam_Total',\n",
       " 'passing']"
      ]
     },
     "execution_count": 78,
     "metadata": {},
     "output_type": "execute_result"
    }
   ],
   "source": [
    "cols"
   ]
  },
  {
   "cell_type": "markdown",
   "id": "d9b16801",
   "metadata": {},
   "source": [
    "This problem comes down to changing the positions of the elements 'HW' and 'passing' in the cols list.\n",
    "\n",
    "We can get the indices of these elements using the *index* method."
   ]
  },
  {
   "cell_type": "code",
   "execution_count": 81,
   "id": "9d8f7397",
   "metadata": {},
   "outputs": [
    {
     "data": {
      "text/plain": [
       "1"
      ]
     },
     "execution_count": 81,
     "metadata": {},
     "output_type": "execute_result"
    }
   ],
   "source": [
    "HW_index = cols.index('HW')\n",
    "HW_index"
   ]
  },
  {
   "cell_type": "code",
   "execution_count": 82,
   "id": "54821714",
   "metadata": {},
   "outputs": [
    {
     "data": {
      "text/plain": [
       "9"
      ]
     },
     "execution_count": 82,
     "metadata": {},
     "output_type": "execute_result"
    }
   ],
   "source": [
    "passing_index = cols.index('passing')\n",
    "passing_index"
   ]
  },
  {
   "cell_type": "markdown",
   "id": "4ad636dc",
   "metadata": {},
   "source": [
    "Using 2-tuples, we can swap easily."
   ]
  },
  {
   "cell_type": "code",
   "execution_count": 83,
   "id": "6e9634da",
   "metadata": {},
   "outputs": [],
   "source": [
    "cols[HW_index], cols[passing_index] = 'passing', 'HW'"
   ]
  },
  {
   "cell_type": "code",
   "execution_count": 84,
   "id": "cd09d716",
   "metadata": {},
   "outputs": [
    {
     "data": {
      "text/html": [
       "<div>\n",
       "<style scoped>\n",
       "    .dataframe tbody tr th:only-of-type {\n",
       "        vertical-align: middle;\n",
       "    }\n",
       "\n",
       "    .dataframe tbody tr th {\n",
       "        vertical-align: top;\n",
       "    }\n",
       "\n",
       "    .dataframe thead th {\n",
       "        text-align: right;\n",
       "    }\n",
       "</style>\n",
       "<table border=\"1\" class=\"dataframe\">\n",
       "  <thead>\n",
       "    <tr style=\"text-align: right;\">\n",
       "      <th></th>\n",
       "      <th>Name</th>\n",
       "      <th>passing</th>\n",
       "      <th>Quiz1</th>\n",
       "      <th>Quiz2</th>\n",
       "      <th>Exam1</th>\n",
       "      <th>Exam2</th>\n",
       "      <th>Exam3</th>\n",
       "      <th>Quiz_Total</th>\n",
       "      <th>Exam_Total</th>\n",
       "      <th>HW</th>\n",
       "    </tr>\n",
       "  </thead>\n",
       "  <tbody>\n",
       "    <tr>\n",
       "      <th>0</th>\n",
       "      <td>Adam</td>\n",
       "      <td>1</td>\n",
       "      <td>10</td>\n",
       "      <td>10</td>\n",
       "      <td>95.2</td>\n",
       "      <td>88.5</td>\n",
       "      <td>88.5</td>\n",
       "      <td>20</td>\n",
       "      <td>272.2</td>\n",
       "      <td>30</td>\n",
       "    </tr>\n",
       "    <tr>\n",
       "      <th>1</th>\n",
       "      <td>Bob</td>\n",
       "      <td>0</td>\n",
       "      <td>5</td>\n",
       "      <td>20</td>\n",
       "      <td>56.5</td>\n",
       "      <td>35.7</td>\n",
       "      <td>35.7</td>\n",
       "      <td>25</td>\n",
       "      <td>127.9</td>\n",
       "      <td>40</td>\n",
       "    </tr>\n",
       "    <tr>\n",
       "      <th>2</th>\n",
       "      <td>Carole</td>\n",
       "      <td>1</td>\n",
       "      <td>20</td>\n",
       "      <td>30</td>\n",
       "      <td>75.8</td>\n",
       "      <td>78.2</td>\n",
       "      <td>78.2</td>\n",
       "      <td>50</td>\n",
       "      <td>232.2</td>\n",
       "      <td>20</td>\n",
       "    </tr>\n",
       "    <tr>\n",
       "      <th>3</th>\n",
       "      <td>Dani</td>\n",
       "      <td>0</td>\n",
       "      <td>15</td>\n",
       "      <td>40</td>\n",
       "      <td>62.0</td>\n",
       "      <td>91.4</td>\n",
       "      <td>91.4</td>\n",
       "      <td>55</td>\n",
       "      <td>244.8</td>\n",
       "      <td>30</td>\n",
       "    </tr>\n",
       "    <tr>\n",
       "      <th>4</th>\n",
       "      <td>Ella</td>\n",
       "      <td>1</td>\n",
       "      <td>20</td>\n",
       "      <td>50</td>\n",
       "      <td>99.7</td>\n",
       "      <td>77.5</td>\n",
       "      <td>77.5</td>\n",
       "      <td>70</td>\n",
       "      <td>254.7</td>\n",
       "      <td>40</td>\n",
       "    </tr>\n",
       "  </tbody>\n",
       "</table>\n",
       "</div>"
      ],
      "text/plain": [
       "     Name  passing  Quiz1  Quiz2  Exam1  Exam2  Exam3  Quiz_Total  Exam_Total  \\\n",
       "0    Adam        1     10     10   95.2   88.5   88.5          20       272.2   \n",
       "1     Bob        0      5     20   56.5   35.7   35.7          25       127.9   \n",
       "2  Carole        1     20     30   75.8   78.2   78.2          50       232.2   \n",
       "3    Dani        0     15     40   62.0   91.4   91.4          55       244.8   \n",
       "4    Ella        1     20     50   99.7   77.5   77.5          70       254.7   \n",
       "\n",
       "   HW  \n",
       "0  30  \n",
       "1  40  \n",
       "2  20  \n",
       "3  30  \n",
       "4  40  "
      ]
     },
     "execution_count": 84,
     "metadata": {},
     "output_type": "execute_result"
    }
   ],
   "source": [
    "gradebook = gradebook[cols]\n",
    "gradebook"
   ]
  },
  {
   "cell_type": "markdown",
   "id": "1a527e7f",
   "metadata": {},
   "source": [
    "$\\Box$\n",
    "\n",
    "### Dropping Columns\n",
    "\n",
    "The *drop* method allows us to drop unwanted columns.\n",
    "\n",
    "##### Example 23\n",
    "\n",
    "The passing column is not necessary any longer.  Lets drop it."
   ]
  },
  {
   "cell_type": "code",
   "execution_count": 85,
   "id": "96ad0095",
   "metadata": {},
   "outputs": [
    {
     "data": {
      "text/html": [
       "<div>\n",
       "<style scoped>\n",
       "    .dataframe tbody tr th:only-of-type {\n",
       "        vertical-align: middle;\n",
       "    }\n",
       "\n",
       "    .dataframe tbody tr th {\n",
       "        vertical-align: top;\n",
       "    }\n",
       "\n",
       "    .dataframe thead th {\n",
       "        text-align: right;\n",
       "    }\n",
       "</style>\n",
       "<table border=\"1\" class=\"dataframe\">\n",
       "  <thead>\n",
       "    <tr style=\"text-align: right;\">\n",
       "      <th></th>\n",
       "      <th>Name</th>\n",
       "      <th>Quiz1</th>\n",
       "      <th>Quiz2</th>\n",
       "      <th>Exam1</th>\n",
       "      <th>Exam2</th>\n",
       "      <th>Exam3</th>\n",
       "      <th>Quiz_Total</th>\n",
       "      <th>Exam_Total</th>\n",
       "      <th>HW</th>\n",
       "    </tr>\n",
       "  </thead>\n",
       "  <tbody>\n",
       "    <tr>\n",
       "      <th>0</th>\n",
       "      <td>Adam</td>\n",
       "      <td>10</td>\n",
       "      <td>10</td>\n",
       "      <td>95.2</td>\n",
       "      <td>88.5</td>\n",
       "      <td>88.5</td>\n",
       "      <td>20</td>\n",
       "      <td>272.2</td>\n",
       "      <td>30</td>\n",
       "    </tr>\n",
       "    <tr>\n",
       "      <th>1</th>\n",
       "      <td>Bob</td>\n",
       "      <td>5</td>\n",
       "      <td>20</td>\n",
       "      <td>56.5</td>\n",
       "      <td>35.7</td>\n",
       "      <td>35.7</td>\n",
       "      <td>25</td>\n",
       "      <td>127.9</td>\n",
       "      <td>40</td>\n",
       "    </tr>\n",
       "    <tr>\n",
       "      <th>2</th>\n",
       "      <td>Carole</td>\n",
       "      <td>20</td>\n",
       "      <td>30</td>\n",
       "      <td>75.8</td>\n",
       "      <td>78.2</td>\n",
       "      <td>78.2</td>\n",
       "      <td>50</td>\n",
       "      <td>232.2</td>\n",
       "      <td>20</td>\n",
       "    </tr>\n",
       "    <tr>\n",
       "      <th>3</th>\n",
       "      <td>Dani</td>\n",
       "      <td>15</td>\n",
       "      <td>40</td>\n",
       "      <td>62.0</td>\n",
       "      <td>91.4</td>\n",
       "      <td>91.4</td>\n",
       "      <td>55</td>\n",
       "      <td>244.8</td>\n",
       "      <td>30</td>\n",
       "    </tr>\n",
       "    <tr>\n",
       "      <th>4</th>\n",
       "      <td>Ella</td>\n",
       "      <td>20</td>\n",
       "      <td>50</td>\n",
       "      <td>99.7</td>\n",
       "      <td>77.5</td>\n",
       "      <td>77.5</td>\n",
       "      <td>70</td>\n",
       "      <td>254.7</td>\n",
       "      <td>40</td>\n",
       "    </tr>\n",
       "  </tbody>\n",
       "</table>\n",
       "</div>"
      ],
      "text/plain": [
       "     Name  Quiz1  Quiz2  Exam1  Exam2  Exam3  Quiz_Total  Exam_Total  HW\n",
       "0    Adam     10     10   95.2   88.5   88.5          20       272.2  30\n",
       "1     Bob      5     20   56.5   35.7   35.7          25       127.9  40\n",
       "2  Carole     20     30   75.8   78.2   78.2          50       232.2  20\n",
       "3    Dani     15     40   62.0   91.4   91.4          55       244.8  30\n",
       "4    Ella     20     50   99.7   77.5   77.5          70       254.7  40"
      ]
     },
     "execution_count": 85,
     "metadata": {},
     "output_type": "execute_result"
    }
   ],
   "source": [
    "gradebook = gradebook.drop(columns = ['passing'])\n",
    "gradebook"
   ]
  },
  {
   "cell_type": "markdown",
   "id": "dde462e8",
   "metadata": {},
   "source": [
    "$\\Box$\n",
    "\n",
    "### Renaming Columns\n",
    "\n",
    "We can use the *rename* method to rename columns.  To tell rename what to rename and what to rename it as, we use a dictionary with key value pairs of the form \n",
    "\n",
    "columns['old_name'] = 'new_name'\n",
    "\n",
    "##### Example 24\n",
    "\n",
    "Lets rename Quiz1 as Quiz_1 and Quiz2 as Quiz_2."
   ]
  },
  {
   "cell_type": "code",
   "execution_count": 86,
   "id": "6ac2bea4",
   "metadata": {},
   "outputs": [
    {
     "data": {
      "text/html": [
       "<div>\n",
       "<style scoped>\n",
       "    .dataframe tbody tr th:only-of-type {\n",
       "        vertical-align: middle;\n",
       "    }\n",
       "\n",
       "    .dataframe tbody tr th {\n",
       "        vertical-align: top;\n",
       "    }\n",
       "\n",
       "    .dataframe thead th {\n",
       "        text-align: right;\n",
       "    }\n",
       "</style>\n",
       "<table border=\"1\" class=\"dataframe\">\n",
       "  <thead>\n",
       "    <tr style=\"text-align: right;\">\n",
       "      <th></th>\n",
       "      <th>Name</th>\n",
       "      <th>Quiz_1</th>\n",
       "      <th>Quiz_2</th>\n",
       "      <th>Exam1</th>\n",
       "      <th>Exam2</th>\n",
       "      <th>Exam3</th>\n",
       "      <th>Quiz_Total</th>\n",
       "      <th>Exam_Total</th>\n",
       "      <th>HW</th>\n",
       "    </tr>\n",
       "  </thead>\n",
       "  <tbody>\n",
       "    <tr>\n",
       "      <th>0</th>\n",
       "      <td>Adam</td>\n",
       "      <td>10</td>\n",
       "      <td>10</td>\n",
       "      <td>95.2</td>\n",
       "      <td>88.5</td>\n",
       "      <td>88.5</td>\n",
       "      <td>20</td>\n",
       "      <td>272.2</td>\n",
       "      <td>30</td>\n",
       "    </tr>\n",
       "    <tr>\n",
       "      <th>1</th>\n",
       "      <td>Bob</td>\n",
       "      <td>5</td>\n",
       "      <td>20</td>\n",
       "      <td>56.5</td>\n",
       "      <td>35.7</td>\n",
       "      <td>35.7</td>\n",
       "      <td>25</td>\n",
       "      <td>127.9</td>\n",
       "      <td>40</td>\n",
       "    </tr>\n",
       "    <tr>\n",
       "      <th>2</th>\n",
       "      <td>Carole</td>\n",
       "      <td>20</td>\n",
       "      <td>30</td>\n",
       "      <td>75.8</td>\n",
       "      <td>78.2</td>\n",
       "      <td>78.2</td>\n",
       "      <td>50</td>\n",
       "      <td>232.2</td>\n",
       "      <td>20</td>\n",
       "    </tr>\n",
       "    <tr>\n",
       "      <th>3</th>\n",
       "      <td>Dani</td>\n",
       "      <td>15</td>\n",
       "      <td>40</td>\n",
       "      <td>62.0</td>\n",
       "      <td>91.4</td>\n",
       "      <td>91.4</td>\n",
       "      <td>55</td>\n",
       "      <td>244.8</td>\n",
       "      <td>30</td>\n",
       "    </tr>\n",
       "    <tr>\n",
       "      <th>4</th>\n",
       "      <td>Ella</td>\n",
       "      <td>20</td>\n",
       "      <td>50</td>\n",
       "      <td>99.7</td>\n",
       "      <td>77.5</td>\n",
       "      <td>77.5</td>\n",
       "      <td>70</td>\n",
       "      <td>254.7</td>\n",
       "      <td>40</td>\n",
       "    </tr>\n",
       "  </tbody>\n",
       "</table>\n",
       "</div>"
      ],
      "text/plain": [
       "     Name  Quiz_1  Quiz_2  Exam1  Exam2  Exam3  Quiz_Total  Exam_Total  HW\n",
       "0    Adam      10      10   95.2   88.5   88.5          20       272.2  30\n",
       "1     Bob       5      20   56.5   35.7   35.7          25       127.9  40\n",
       "2  Carole      20      30   75.8   78.2   78.2          50       232.2  20\n",
       "3    Dani      15      40   62.0   91.4   91.4          55       244.8  30\n",
       "4    Ella      20      50   99.7   77.5   77.5          70       254.7  40"
      ]
     },
     "execution_count": 86,
     "metadata": {},
     "output_type": "execute_result"
    }
   ],
   "source": [
    "gradebook = gradebook.rename(columns = {'Quiz1':'Quiz_1', 'Quiz2':'Quiz_2'})\n",
    "gradebook"
   ]
  },
  {
   "cell_type": "markdown",
   "id": "ba76d92b",
   "metadata": {},
   "source": [
    "$\\Box$\n",
    "\n",
    "### Set Index\n",
    "\n",
    "We may want to turn a column into the index.  This is accomplished with the *set_index* method.\n",
    "\n",
    "##### Example 25\n",
    "\n",
    "It makes sense that the Name column be our index for the gradebook."
   ]
  },
  {
   "cell_type": "code",
   "execution_count": 87,
   "id": "5110ce74",
   "metadata": {},
   "outputs": [
    {
     "data": {
      "text/html": [
       "<div>\n",
       "<style scoped>\n",
       "    .dataframe tbody tr th:only-of-type {\n",
       "        vertical-align: middle;\n",
       "    }\n",
       "\n",
       "    .dataframe tbody tr th {\n",
       "        vertical-align: top;\n",
       "    }\n",
       "\n",
       "    .dataframe thead th {\n",
       "        text-align: right;\n",
       "    }\n",
       "</style>\n",
       "<table border=\"1\" class=\"dataframe\">\n",
       "  <thead>\n",
       "    <tr style=\"text-align: right;\">\n",
       "      <th></th>\n",
       "      <th>Name</th>\n",
       "      <th>Quiz_1</th>\n",
       "      <th>Quiz_2</th>\n",
       "      <th>Exam1</th>\n",
       "      <th>Exam2</th>\n",
       "      <th>Exam3</th>\n",
       "      <th>Quiz_Total</th>\n",
       "      <th>Exam_Total</th>\n",
       "      <th>HW</th>\n",
       "    </tr>\n",
       "  </thead>\n",
       "  <tbody>\n",
       "    <tr>\n",
       "      <th>0</th>\n",
       "      <td>Adam</td>\n",
       "      <td>10</td>\n",
       "      <td>10</td>\n",
       "      <td>95.2</td>\n",
       "      <td>88.5</td>\n",
       "      <td>88.5</td>\n",
       "      <td>20</td>\n",
       "      <td>272.2</td>\n",
       "      <td>30</td>\n",
       "    </tr>\n",
       "    <tr>\n",
       "      <th>1</th>\n",
       "      <td>Bob</td>\n",
       "      <td>5</td>\n",
       "      <td>20</td>\n",
       "      <td>56.5</td>\n",
       "      <td>35.7</td>\n",
       "      <td>35.7</td>\n",
       "      <td>25</td>\n",
       "      <td>127.9</td>\n",
       "      <td>40</td>\n",
       "    </tr>\n",
       "    <tr>\n",
       "      <th>2</th>\n",
       "      <td>Carole</td>\n",
       "      <td>20</td>\n",
       "      <td>30</td>\n",
       "      <td>75.8</td>\n",
       "      <td>78.2</td>\n",
       "      <td>78.2</td>\n",
       "      <td>50</td>\n",
       "      <td>232.2</td>\n",
       "      <td>20</td>\n",
       "    </tr>\n",
       "    <tr>\n",
       "      <th>3</th>\n",
       "      <td>Dani</td>\n",
       "      <td>15</td>\n",
       "      <td>40</td>\n",
       "      <td>62.0</td>\n",
       "      <td>91.4</td>\n",
       "      <td>91.4</td>\n",
       "      <td>55</td>\n",
       "      <td>244.8</td>\n",
       "      <td>30</td>\n",
       "    </tr>\n",
       "    <tr>\n",
       "      <th>4</th>\n",
       "      <td>Ella</td>\n",
       "      <td>20</td>\n",
       "      <td>50</td>\n",
       "      <td>99.7</td>\n",
       "      <td>77.5</td>\n",
       "      <td>77.5</td>\n",
       "      <td>70</td>\n",
       "      <td>254.7</td>\n",
       "      <td>40</td>\n",
       "    </tr>\n",
       "  </tbody>\n",
       "</table>\n",
       "</div>"
      ],
      "text/plain": [
       "     Name  Quiz_1  Quiz_2  Exam1  Exam2  Exam3  Quiz_Total  Exam_Total  HW\n",
       "0    Adam      10      10   95.2   88.5   88.5          20       272.2  30\n",
       "1     Bob       5      20   56.5   35.7   35.7          25       127.9  40\n",
       "2  Carole      20      30   75.8   78.2   78.2          50       232.2  20\n",
       "3    Dani      15      40   62.0   91.4   91.4          55       244.8  30\n",
       "4    Ella      20      50   99.7   77.5   77.5          70       254.7  40"
      ]
     },
     "execution_count": 87,
     "metadata": {},
     "output_type": "execute_result"
    }
   ],
   "source": [
    "gradebook"
   ]
  },
  {
   "cell_type": "code",
   "execution_count": 88,
   "id": "7c8f9aa0",
   "metadata": {},
   "outputs": [
    {
     "data": {
      "text/html": [
       "<div>\n",
       "<style scoped>\n",
       "    .dataframe tbody tr th:only-of-type {\n",
       "        vertical-align: middle;\n",
       "    }\n",
       "\n",
       "    .dataframe tbody tr th {\n",
       "        vertical-align: top;\n",
       "    }\n",
       "\n",
       "    .dataframe thead th {\n",
       "        text-align: right;\n",
       "    }\n",
       "</style>\n",
       "<table border=\"1\" class=\"dataframe\">\n",
       "  <thead>\n",
       "    <tr style=\"text-align: right;\">\n",
       "      <th></th>\n",
       "      <th>Quiz_1</th>\n",
       "      <th>Quiz_2</th>\n",
       "      <th>Exam1</th>\n",
       "      <th>Exam2</th>\n",
       "      <th>Exam3</th>\n",
       "      <th>Quiz_Total</th>\n",
       "      <th>Exam_Total</th>\n",
       "      <th>HW</th>\n",
       "    </tr>\n",
       "    <tr>\n",
       "      <th>Name</th>\n",
       "      <th></th>\n",
       "      <th></th>\n",
       "      <th></th>\n",
       "      <th></th>\n",
       "      <th></th>\n",
       "      <th></th>\n",
       "      <th></th>\n",
       "      <th></th>\n",
       "    </tr>\n",
       "  </thead>\n",
       "  <tbody>\n",
       "    <tr>\n",
       "      <th>Adam</th>\n",
       "      <td>10</td>\n",
       "      <td>10</td>\n",
       "      <td>95.2</td>\n",
       "      <td>88.5</td>\n",
       "      <td>88.5</td>\n",
       "      <td>20</td>\n",
       "      <td>272.2</td>\n",
       "      <td>30</td>\n",
       "    </tr>\n",
       "    <tr>\n",
       "      <th>Bob</th>\n",
       "      <td>5</td>\n",
       "      <td>20</td>\n",
       "      <td>56.5</td>\n",
       "      <td>35.7</td>\n",
       "      <td>35.7</td>\n",
       "      <td>25</td>\n",
       "      <td>127.9</td>\n",
       "      <td>40</td>\n",
       "    </tr>\n",
       "    <tr>\n",
       "      <th>Carole</th>\n",
       "      <td>20</td>\n",
       "      <td>30</td>\n",
       "      <td>75.8</td>\n",
       "      <td>78.2</td>\n",
       "      <td>78.2</td>\n",
       "      <td>50</td>\n",
       "      <td>232.2</td>\n",
       "      <td>20</td>\n",
       "    </tr>\n",
       "    <tr>\n",
       "      <th>Dani</th>\n",
       "      <td>15</td>\n",
       "      <td>40</td>\n",
       "      <td>62.0</td>\n",
       "      <td>91.4</td>\n",
       "      <td>91.4</td>\n",
       "      <td>55</td>\n",
       "      <td>244.8</td>\n",
       "      <td>30</td>\n",
       "    </tr>\n",
       "    <tr>\n",
       "      <th>Ella</th>\n",
       "      <td>20</td>\n",
       "      <td>50</td>\n",
       "      <td>99.7</td>\n",
       "      <td>77.5</td>\n",
       "      <td>77.5</td>\n",
       "      <td>70</td>\n",
       "      <td>254.7</td>\n",
       "      <td>40</td>\n",
       "    </tr>\n",
       "  </tbody>\n",
       "</table>\n",
       "</div>"
      ],
      "text/plain": [
       "        Quiz_1  Quiz_2  Exam1  Exam2  Exam3  Quiz_Total  Exam_Total  HW\n",
       "Name                                                                   \n",
       "Adam        10      10   95.2   88.5   88.5          20       272.2  30\n",
       "Bob          5      20   56.5   35.7   35.7          25       127.9  40\n",
       "Carole      20      30   75.8   78.2   78.2          50       232.2  20\n",
       "Dani        15      40   62.0   91.4   91.4          55       244.8  30\n",
       "Ella        20      50   99.7   77.5   77.5          70       254.7  40"
      ]
     },
     "execution_count": 88,
     "metadata": {},
     "output_type": "execute_result"
    }
   ],
   "source": [
    "gradebook = gradebook.set_index('Name')\n",
    "gradebook"
   ]
  },
  {
   "cell_type": "markdown",
   "id": "7820a9d0",
   "metadata": {},
   "source": [
    "$\\Box$\n",
    "\n",
    "#### Loading Data From a CSV File\n",
    "\n",
    "The Pandas *read_csv* function reads a .csv file into a DataFrame.\n",
    "\n",
    "##### Example 26"
   ]
  },
  {
   "cell_type": "code",
   "execution_count": 2,
   "id": "314005df",
   "metadata": {},
   "outputs": [],
   "source": [
    "census = pd.read_csv('ChicagoCensusData.csv')"
   ]
  },
  {
   "cell_type": "code",
   "execution_count": 3,
   "id": "cb5dbe2a",
   "metadata": {},
   "outputs": [
    {
     "data": {
      "text/html": [
       "<div>\n",
       "<style scoped>\n",
       "    .dataframe tbody tr th:only-of-type {\n",
       "        vertical-align: middle;\n",
       "    }\n",
       "\n",
       "    .dataframe tbody tr th {\n",
       "        vertical-align: top;\n",
       "    }\n",
       "\n",
       "    .dataframe thead th {\n",
       "        text-align: right;\n",
       "    }\n",
       "</style>\n",
       "<table border=\"1\" class=\"dataframe\">\n",
       "  <thead>\n",
       "    <tr style=\"text-align: right;\">\n",
       "      <th></th>\n",
       "      <th>COMMUNITY_AREA_NUMBER</th>\n",
       "      <th>COMMUNITY_AREA_NAME</th>\n",
       "      <th>PERCENT_OF_HOUSING_CROWDED</th>\n",
       "      <th>PERCENT_HOUSEHOLDS_BELOW_POVERTY</th>\n",
       "      <th>PERCENT_AGED_16__UNEMPLOYED</th>\n",
       "      <th>PERCENT_AGED_25__WITHOUT_HIGH_SCHOOL_DIPLOMA</th>\n",
       "      <th>PERCENT_AGED_UNDER_18_OR_OVER_64</th>\n",
       "      <th>PER_CAPITA_INCOME</th>\n",
       "      <th>HARDSHIP_INDEX</th>\n",
       "    </tr>\n",
       "  </thead>\n",
       "  <tbody>\n",
       "    <tr>\n",
       "      <th>0</th>\n",
       "      <td>1.0</td>\n",
       "      <td>Rogers Park</td>\n",
       "      <td>7.7</td>\n",
       "      <td>23.6</td>\n",
       "      <td>8.7</td>\n",
       "      <td>18.2</td>\n",
       "      <td>27.5</td>\n",
       "      <td>23939</td>\n",
       "      <td>39.0</td>\n",
       "    </tr>\n",
       "    <tr>\n",
       "      <th>1</th>\n",
       "      <td>2.0</td>\n",
       "      <td>West Ridge</td>\n",
       "      <td>7.8</td>\n",
       "      <td>17.2</td>\n",
       "      <td>8.8</td>\n",
       "      <td>20.8</td>\n",
       "      <td>38.5</td>\n",
       "      <td>23040</td>\n",
       "      <td>46.0</td>\n",
       "    </tr>\n",
       "    <tr>\n",
       "      <th>2</th>\n",
       "      <td>3.0</td>\n",
       "      <td>Uptown</td>\n",
       "      <td>3.8</td>\n",
       "      <td>24.0</td>\n",
       "      <td>8.9</td>\n",
       "      <td>11.8</td>\n",
       "      <td>22.2</td>\n",
       "      <td>35787</td>\n",
       "      <td>20.0</td>\n",
       "    </tr>\n",
       "    <tr>\n",
       "      <th>3</th>\n",
       "      <td>4.0</td>\n",
       "      <td>Lincoln Square</td>\n",
       "      <td>3.4</td>\n",
       "      <td>10.9</td>\n",
       "      <td>8.2</td>\n",
       "      <td>13.4</td>\n",
       "      <td>25.5</td>\n",
       "      <td>37524</td>\n",
       "      <td>17.0</td>\n",
       "    </tr>\n",
       "    <tr>\n",
       "      <th>4</th>\n",
       "      <td>5.0</td>\n",
       "      <td>North Center</td>\n",
       "      <td>0.3</td>\n",
       "      <td>7.5</td>\n",
       "      <td>5.2</td>\n",
       "      <td>4.5</td>\n",
       "      <td>26.2</td>\n",
       "      <td>57123</td>\n",
       "      <td>6.0</td>\n",
       "    </tr>\n",
       "  </tbody>\n",
       "</table>\n",
       "</div>"
      ],
      "text/plain": [
       "   COMMUNITY_AREA_NUMBER COMMUNITY_AREA_NAME  PERCENT_OF_HOUSING_CROWDED  \\\n",
       "0                    1.0         Rogers Park                         7.7   \n",
       "1                    2.0          West Ridge                         7.8   \n",
       "2                    3.0              Uptown                         3.8   \n",
       "3                    4.0      Lincoln Square                         3.4   \n",
       "4                    5.0        North Center                         0.3   \n",
       "\n",
       "   PERCENT_HOUSEHOLDS_BELOW_POVERTY  PERCENT_AGED_16__UNEMPLOYED  \\\n",
       "0                              23.6                          8.7   \n",
       "1                              17.2                          8.8   \n",
       "2                              24.0                          8.9   \n",
       "3                              10.9                          8.2   \n",
       "4                               7.5                          5.2   \n",
       "\n",
       "   PERCENT_AGED_25__WITHOUT_HIGH_SCHOOL_DIPLOMA  \\\n",
       "0                                          18.2   \n",
       "1                                          20.8   \n",
       "2                                          11.8   \n",
       "3                                          13.4   \n",
       "4                                           4.5   \n",
       "\n",
       "   PERCENT_AGED_UNDER_18_OR_OVER_64  PER_CAPITA_INCOME  HARDSHIP_INDEX  \n",
       "0                              27.5              23939            39.0  \n",
       "1                              38.5              23040            46.0  \n",
       "2                              22.2              35787            20.0  \n",
       "3                              25.5              37524            17.0  \n",
       "4                              26.2              57123             6.0  "
      ]
     },
     "execution_count": 3,
     "metadata": {},
     "output_type": "execute_result"
    }
   ],
   "source": [
    "census.head()"
   ]
  },
  {
   "cell_type": "markdown",
   "id": "c035264b",
   "metadata": {},
   "source": [
    "$\\Box$\n",
    "\n",
    "##### Exercise 1\n",
    "\n",
    "In this exercise we use the census dataset that was loaded in Example 26.\n",
    "\n",
    "Perform the following actions on the census dataset:\n",
    "1. Drop the COMMUNITY_AREA_NUMBER column.\n",
    "2. Rename the remaining columns so that their names are easier to use.\n",
    "3. Add a binary column named 'makes_over_50K' that has a 1 if the value of PER_CAPITA_INCOME is greater than 50000 and 0, otherwise.\n",
    "4. Turn the COMMUNITY_AREA_NAME column into the index.\n",
    "5. Display your results using the *head* method."
   ]
  },
  {
   "cell_type": "code",
   "execution_count": null,
   "id": "5984552d",
   "metadata": {},
   "outputs": [],
   "source": []
  },
  {
   "cell_type": "markdown",
   "id": "e46e405f",
   "metadata": {},
   "source": [
    "##### Exercise 2\n",
    "\n",
    "In this exercise you will use the census dataset that you cleaned in Exercise 1.\n",
    "\n",
    "Display a new DataFrame of shape (5,2) such that the second column contains the top 5 values in the 'HARDSHIP_INDEX' column  and the first column has the 'COMMUNITY_AREA_NAME' associated with the hardship index in the second column.   "
   ]
  },
  {
   "cell_type": "code",
   "execution_count": null,
   "id": "87f2f9be",
   "metadata": {},
   "outputs": [],
   "source": []
  }
 ],
 "metadata": {
  "kernelspec": {
   "display_name": "Python 3 (ipykernel)",
   "language": "python",
   "name": "python3"
  },
  "language_info": {
   "codemirror_mode": {
    "name": "ipython",
    "version": 3
   },
   "file_extension": ".py",
   "mimetype": "text/x-python",
   "name": "python",
   "nbconvert_exporter": "python",
   "pygments_lexer": "ipython3",
   "version": "3.9.12"
  }
 },
 "nbformat": 4,
 "nbformat_minor": 5
}
