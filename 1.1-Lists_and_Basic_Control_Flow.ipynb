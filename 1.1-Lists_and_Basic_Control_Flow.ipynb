{
 "cells": [
  {
   "cell_type": "markdown",
   "id": "c3f04770",
   "metadata": {},
   "source": [
    "### Lists\n",
    "\n",
    "In the previous notebook, we learned about *scalar* (or single value) data types.  Today, we learn about a non-scalar data type, the list.\n",
    "\n",
    "#### Example 1"
   ]
  },
  {
   "cell_type": "code",
   "execution_count": 1,
   "id": "95d49aae",
   "metadata": {},
   "outputs": [
    {
     "data": {
      "text/plain": [
       "[2, 5, 20, 50, 101]"
      ]
     },
     "execution_count": 1,
     "metadata": {},
     "output_type": "execute_result"
    }
   ],
   "source": [
    "x = [2,5,20,50,101]\n",
    "x"
   ]
  },
  {
   "cell_type": "markdown",
   "id": "5f83c818",
   "metadata": {},
   "source": [
    "The above list has been given the name 'x'.  x contains the five *elements* 2, 5, 20, 50, and 101.  We can access the elements of a list using a particular element's *index*.\n",
    "\n",
    "The index of the first element (2 in this case) is 0.  The index of the second element (5 in this case) is 1. The index of the third element (20 in this case) is 20.  "
   ]
  },
  {
   "cell_type": "code",
   "execution_count": 2,
   "id": "37fbc4f2",
   "metadata": {},
   "outputs": [
    {
     "data": {
      "text/plain": [
       "2"
      ]
     },
     "execution_count": 2,
     "metadata": {},
     "output_type": "execute_result"
    }
   ],
   "source": [
    "x[0]"
   ]
  },
  {
   "cell_type": "code",
   "execution_count": 3,
   "id": "186f6cd8",
   "metadata": {},
   "outputs": [
    {
     "data": {
      "text/plain": [
       "5"
      ]
     },
     "execution_count": 3,
     "metadata": {},
     "output_type": "execute_result"
    }
   ],
   "source": [
    "x[1]"
   ]
  },
  {
   "cell_type": "code",
   "execution_count": 4,
   "id": "b874479a",
   "metadata": {},
   "outputs": [
    {
     "data": {
      "text/plain": [
       "20"
      ]
     },
     "execution_count": 4,
     "metadata": {},
     "output_type": "execute_result"
    }
   ],
   "source": [
    "x[2]"
   ]
  },
  {
   "cell_type": "markdown",
   "id": "c9f6904c",
   "metadata": {},
   "source": [
    "Negative values can also be used to index the value of a list."
   ]
  },
  {
   "cell_type": "code",
   "execution_count": 13,
   "id": "07fe1ca8",
   "metadata": {},
   "outputs": [
    {
     "data": {
      "text/plain": [
       "101"
      ]
     },
     "execution_count": 13,
     "metadata": {},
     "output_type": "execute_result"
    }
   ],
   "source": [
    "x[-1]"
   ]
  },
  {
   "cell_type": "code",
   "execution_count": 14,
   "id": "dfc5c70b",
   "metadata": {},
   "outputs": [
    {
     "data": {
      "text/plain": [
       "50"
      ]
     },
     "execution_count": 14,
     "metadata": {},
     "output_type": "execute_result"
    }
   ],
   "source": [
    "x[-2]"
   ]
  },
  {
   "cell_type": "markdown",
   "id": "358ab59c",
   "metadata": {},
   "source": [
    "$\\Box$"
   ]
  },
  {
   "cell_type": "markdown",
   "id": "2d88cbed",
   "metadata": {},
   "source": [
    "#### Slicing a List"
   ]
  },
  {
   "cell_type": "markdown",
   "id": "ca35ac8a",
   "metadata": {},
   "source": [
    "We can access a piece or *slice* of a list using *slice notation*.  To select the piece of x that looks like $[5,20,50]$, we use the syntax $x[1:4]$. \n",
    "\n",
    "#### Example 2"
   ]
  },
  {
   "cell_type": "code",
   "execution_count": 5,
   "id": "59fd9acd",
   "metadata": {},
   "outputs": [
    {
     "data": {
      "text/plain": [
       "[2, 5, 20, 50, 101]"
      ]
     },
     "execution_count": 5,
     "metadata": {},
     "output_type": "execute_result"
    }
   ],
   "source": [
    "#Recall x from above.\n",
    "x"
   ]
  },
  {
   "cell_type": "code",
   "execution_count": 6,
   "id": "fd8376c8",
   "metadata": {},
   "outputs": [
    {
     "data": {
      "text/plain": [
       "[5, 20, 50]"
      ]
     },
     "execution_count": 6,
     "metadata": {},
     "output_type": "execute_result"
    }
   ],
   "source": [
    "x[1:4]"
   ]
  },
  {
   "cell_type": "markdown",
   "id": "56e439cd",
   "metadata": {},
   "source": [
    "The first index (1 in this case) indicates that the slice starts at index 1.  The second index (4 in this case) indicates that the slice should end at index 4-1 or 3.  It may seem weird that the second index is one greater than what we want, but there are many computational benefits to this."
   ]
  },
  {
   "cell_type": "code",
   "execution_count": 8,
   "id": "19595369",
   "metadata": {},
   "outputs": [
    {
     "data": {
      "text/plain": [
       "[2, 5, 20, 50, 101]"
      ]
     },
     "execution_count": 8,
     "metadata": {},
     "output_type": "execute_result"
    }
   ],
   "source": [
    "x[0:5]"
   ]
  },
  {
   "cell_type": "code",
   "execution_count": 10,
   "id": "682612ab",
   "metadata": {},
   "outputs": [
    {
     "data": {
      "text/plain": [
       "[2, 5, 20, 50, 101]"
      ]
     },
     "execution_count": 10,
     "metadata": {},
     "output_type": "execute_result"
    }
   ],
   "source": [
    "x[0:100]"
   ]
  },
  {
   "cell_type": "markdown",
   "id": "49e85c66",
   "metadata": {},
   "source": [
    "Negative indices are allowed with slices.   "
   ]
  },
  {
   "cell_type": "code",
   "execution_count": 25,
   "id": "636f6539",
   "metadata": {},
   "outputs": [
    {
     "data": {
      "text/plain": [
       "[20, 50]"
      ]
     },
     "execution_count": 25,
     "metadata": {},
     "output_type": "execute_result"
    }
   ],
   "source": [
    "x[-3:-1]"
   ]
  },
  {
   "cell_type": "markdown",
   "id": "2972ea60",
   "metadata": {},
   "source": [
    "Important: a slice of a list is a new list."
   ]
  },
  {
   "cell_type": "code",
   "execution_count": 11,
   "id": "3b1ca380",
   "metadata": {},
   "outputs": [
    {
     "data": {
      "text/plain": [
       "[2, 5, 20, 50, 101]"
      ]
     },
     "execution_count": 11,
     "metadata": {},
     "output_type": "execute_result"
    }
   ],
   "source": [
    "#Recall x\n",
    "x"
   ]
  },
  {
   "cell_type": "code",
   "execution_count": 12,
   "id": "e702df81",
   "metadata": {},
   "outputs": [
    {
     "data": {
      "text/plain": [
       "[5, 20, 50]"
      ]
     },
     "execution_count": 12,
     "metadata": {},
     "output_type": "execute_result"
    }
   ],
   "source": [
    "y=x[1:4]\n",
    "y"
   ]
  },
  {
   "cell_type": "markdown",
   "id": "56b1d337",
   "metadata": {},
   "source": [
    "5 has index 1 in x but index 0 in y."
   ]
  },
  {
   "cell_type": "code",
   "execution_count": 28,
   "id": "b1b68694",
   "metadata": {},
   "outputs": [
    {
     "data": {
      "text/plain": [
       "5"
      ]
     },
     "execution_count": 28,
     "metadata": {},
     "output_type": "execute_result"
    }
   ],
   "source": [
    "x[1]"
   ]
  },
  {
   "cell_type": "code",
   "execution_count": 29,
   "id": "b1f2559c",
   "metadata": {},
   "outputs": [
    {
     "data": {
      "text/plain": [
       "5"
      ]
     },
     "execution_count": 29,
     "metadata": {},
     "output_type": "execute_result"
    }
   ],
   "source": [
    "y[0]"
   ]
  },
  {
   "cell_type": "markdown",
   "id": "92a7d9e3",
   "metadata": {},
   "source": [
    "$\\Box$"
   ]
  },
  {
   "cell_type": "markdown",
   "id": "111f4f6b",
   "metadata": {},
   "source": [
    "#### Adding and Removing Elements \n",
    "\n",
    "#### Example 3"
   ]
  },
  {
   "cell_type": "code",
   "execution_count": 5,
   "id": "883c13b0",
   "metadata": {},
   "outputs": [
    {
     "data": {
      "text/plain": [
       "[10, 20, 30, 40]"
      ]
     },
     "execution_count": 5,
     "metadata": {},
     "output_type": "execute_result"
    }
   ],
   "source": [
    "z = [10,20,30,40]\n",
    "z"
   ]
  },
  {
   "cell_type": "markdown",
   "id": "5b5ee5b5",
   "metadata": {},
   "source": [
    "Elements are added to the end of a list using the *append* function."
   ]
  },
  {
   "cell_type": "code",
   "execution_count": 7,
   "id": "e9810a91",
   "metadata": {},
   "outputs": [
    {
     "data": {
      "text/plain": [
       "[10, 20, 30, 40, 50, 25]"
      ]
     },
     "execution_count": 7,
     "metadata": {},
     "output_type": "execute_result"
    }
   ],
   "source": [
    "z.append(25)\n",
    "z"
   ]
  },
  {
   "cell_type": "markdown",
   "id": "cfac13e1",
   "metadata": {},
   "source": [
    "Elements can be removed from a list using the *pop* function.  Note that the index of element that is to be \"popped\" must be *passed* to the pop function."
   ]
  },
  {
   "cell_type": "code",
   "execution_count": 8,
   "id": "30168ec8",
   "metadata": {},
   "outputs": [
    {
     "data": {
      "text/plain": [
       "[10, 20, 40, 50, 25]"
      ]
     },
     "execution_count": 8,
     "metadata": {},
     "output_type": "execute_result"
    }
   ],
   "source": [
    "z.pop(2)\n",
    "z"
   ]
  },
  {
   "cell_type": "markdown",
   "id": "a70799b9",
   "metadata": {},
   "source": [
    "If no index is *passed* to the pop function, then the last element in the list (index -1) is popped. "
   ]
  },
  {
   "cell_type": "code",
   "execution_count": 10,
   "id": "11144426",
   "metadata": {},
   "outputs": [
    {
     "data": {
      "text/plain": [
       "[10, 20, 40]"
      ]
     },
     "execution_count": 10,
     "metadata": {},
     "output_type": "execute_result"
    }
   ],
   "source": [
    "z.pop()\n",
    "z"
   ]
  },
  {
   "cell_type": "markdown",
   "id": "42ccc345",
   "metadata": {},
   "source": [
    "pop also returns the element that has been removed."
   ]
  },
  {
   "cell_type": "code",
   "execution_count": 11,
   "id": "23fcc960",
   "metadata": {},
   "outputs": [
    {
     "name": "stdout",
     "output_type": "stream",
     "text": [
      "[10, 40]\n"
     ]
    },
    {
     "data": {
      "text/plain": [
       "20"
      ]
     },
     "execution_count": 11,
     "metadata": {},
     "output_type": "execute_result"
    }
   ],
   "source": [
    "a=z.pop(1)\n",
    "print(z)\n",
    "a"
   ]
  },
  {
   "cell_type": "markdown",
   "id": "6b27e0d9",
   "metadata": {},
   "source": [
    "$\\Box$"
   ]
  },
  {
   "cell_type": "markdown",
   "id": "425ad182",
   "metadata": {},
   "source": [
    "#### Sorting a List\n",
    "\n",
    "Lists can be sorted using the *sort* and *sorted* functions.\n",
    "\n",
    "#### Example 4\n",
    "The sort function."
   ]
  },
  {
   "cell_type": "code",
   "execution_count": 12,
   "id": "cc3303b8",
   "metadata": {},
   "outputs": [
    {
     "data": {
      "text/plain": [
       "[1, 5, 3, 4, 2]"
      ]
     },
     "execution_count": 12,
     "metadata": {},
     "output_type": "execute_result"
    }
   ],
   "source": [
    "a = [1,5,3,4,2]\n",
    "a"
   ]
  },
  {
   "cell_type": "code",
   "execution_count": 13,
   "id": "70473fbc",
   "metadata": {},
   "outputs": [
    {
     "data": {
      "text/plain": [
       "[1, 2, 3, 4, 5]"
      ]
     },
     "execution_count": 13,
     "metadata": {},
     "output_type": "execute_result"
    }
   ],
   "source": [
    "a.sort()\n",
    "a"
   ]
  },
  {
   "cell_type": "markdown",
   "id": "b0ce9dff",
   "metadata": {},
   "source": [
    "Note that the list a was sorted in increasing order.  To sort in decending order, the argument *reverse = True* must be passed to the sort function."
   ]
  },
  {
   "cell_type": "code",
   "execution_count": 49,
   "id": "6851171f",
   "metadata": {},
   "outputs": [
    {
     "data": {
      "text/plain": [
       "[5, 4, 3, 2, 1]"
      ]
     },
     "execution_count": 49,
     "metadata": {},
     "output_type": "execute_result"
    }
   ],
   "source": [
    "a.sort(reverse = True)\n",
    "a"
   ]
  },
  {
   "cell_type": "markdown",
   "id": "219c107a",
   "metadata": {},
   "source": [
    "$\\Box$"
   ]
  },
  {
   "cell_type": "markdown",
   "id": "e61b7ac5",
   "metadata": {},
   "source": [
    "#### Example 5\n",
    "The sorted function."
   ]
  },
  {
   "cell_type": "code",
   "execution_count": 15,
   "id": "3ee40856",
   "metadata": {},
   "outputs": [
    {
     "data": {
      "text/plain": [
       "[2, 8, 3, 9, 4]"
      ]
     },
     "execution_count": 15,
     "metadata": {},
     "output_type": "execute_result"
    }
   ],
   "source": [
    "b = [2,8,3,9,4]\n",
    "b"
   ]
  },
  {
   "cell_type": "code",
   "execution_count": 16,
   "id": "14b8f6c7",
   "metadata": {},
   "outputs": [
    {
     "data": {
      "text/plain": [
       "[2, 3, 4, 8, 9]"
      ]
     },
     "execution_count": 16,
     "metadata": {},
     "output_type": "execute_result"
    }
   ],
   "source": [
    "c = sorted(b)\n",
    "c"
   ]
  },
  {
   "cell_type": "code",
   "execution_count": 17,
   "id": "c2ddc1fe",
   "metadata": {},
   "outputs": [
    {
     "data": {
      "text/plain": [
       "[2, 8, 3, 9, 4]"
      ]
     },
     "execution_count": 17,
     "metadata": {},
     "output_type": "execute_result"
    }
   ],
   "source": [
    "b"
   ]
  },
  {
   "cell_type": "markdown",
   "id": "2e945e3d",
   "metadata": {},
   "source": [
    "$\\Box$"
   ]
  },
  {
   "cell_type": "markdown",
   "id": "b7cff8ac",
   "metadata": {},
   "source": [
    "##### Why are there two sort functions?\n",
    "Sort sorts a list *in-place*, meaning that the original list itself is sorted.  Sorted does not sort in-place, meaning that a new sorted list is created.  "
   ]
  },
  {
   "cell_type": "markdown",
   "id": "c651ca47",
   "metadata": {},
   "source": [
    "#### Combining Lists"
   ]
  },
  {
   "cell_type": "markdown",
   "id": "c92abf21",
   "metadata": {},
   "source": [
    "Lists can be combined using the '+' symbol.\n",
    "\n",
    "#### Example 6"
   ]
  },
  {
   "cell_type": "code",
   "execution_count": 18,
   "id": "ddd2af18",
   "metadata": {},
   "outputs": [],
   "source": [
    "a = [1,2,3,4,5]\n",
    "b = [-1,-2,3,7,10]"
   ]
  },
  {
   "cell_type": "code",
   "execution_count": 19,
   "id": "2c1a95fe",
   "metadata": {},
   "outputs": [
    {
     "data": {
      "text/plain": [
       "[1, 2, 3, 4, 5, -1, -2, 3, 7, 10]"
      ]
     },
     "execution_count": 19,
     "metadata": {},
     "output_type": "execute_result"
    }
   ],
   "source": [
    "a+b"
   ]
  },
  {
   "cell_type": "code",
   "execution_count": 20,
   "id": "f843a216",
   "metadata": {},
   "outputs": [
    {
     "data": {
      "text/plain": [
       "[-2, -1, 1, 2, 3, 3, 4, 5, 7, 10]"
      ]
     },
     "execution_count": 20,
     "metadata": {},
     "output_type": "execute_result"
    }
   ],
   "source": [
    "c=a+b\n",
    "c.sort()\n",
    "c"
   ]
  },
  {
   "cell_type": "markdown",
   "id": "de99a2b7",
   "metadata": {},
   "source": [
    "$\\Box$"
   ]
  },
  {
   "cell_type": "markdown",
   "id": "9c83b478",
   "metadata": {},
   "source": [
    "#### Computing Length"
   ]
  },
  {
   "cell_type": "markdown",
   "id": "4ee8fd05",
   "metadata": {},
   "source": [
    "#### Example 7\n",
    "\n",
    "The length of a list is the number of elements in the list.  To compute the length of a list, use the *len* function."
   ]
  },
  {
   "cell_type": "code",
   "execution_count": 55,
   "id": "59ea6574",
   "metadata": {},
   "outputs": [
    {
     "data": {
      "text/plain": [
       "[2, 6, 1, 3, -10, -1.5, 100]"
      ]
     },
     "execution_count": 55,
     "metadata": {},
     "output_type": "execute_result"
    }
   ],
   "source": [
    "d = [2,6,1,3,-10,-1.5,100]\n",
    "d"
   ]
  },
  {
   "cell_type": "code",
   "execution_count": 56,
   "id": "dfed6642",
   "metadata": {},
   "outputs": [
    {
     "data": {
      "text/plain": [
       "7"
      ]
     },
     "execution_count": 56,
     "metadata": {},
     "output_type": "execute_result"
    }
   ],
   "source": [
    "len(d)"
   ]
  },
  {
   "cell_type": "markdown",
   "id": "26cb4a71",
   "metadata": {},
   "source": [
    "$\\Box$"
   ]
  },
  {
   "cell_type": "markdown",
   "id": "a58ce477",
   "metadata": {},
   "source": [
    "#### Exercise 1\n",
    "Write code so that the following function performs the way that its docstring indicates.\n",
    "\n",
    "Note: You may want to read/study the entire notebook and then come back to work on the exercises.\n",
    "\n",
    "Examples: flip_flop($[1,2,3,4]$) should return $[3,4,1,2]$.\n",
    "\n",
    "flip_flop($[2,5,3,20,9,10]$) should return $[20,9,10,2,5,3]$."
   ]
  },
  {
   "cell_type": "code",
   "execution_count": 3,
   "id": "4a54d361",
   "metadata": {},
   "outputs": [],
   "source": [
    "def flip_flop(some_list):\n",
    "    \"\"\"\n",
    "    Parameters\n",
    "    -----------\n",
    "    some_list: list object with even length.\n",
    "    \n",
    "    Returns\n",
    "    -----------\n",
    "    The second half of a list concatenated to the first half of the same list.\n",
    "    \"\"\"\n",
    "    #Uncomment the line below and finish this function.\n",
    "    #middle_index = int(len(some_list)/2)"
   ]
  },
  {
   "cell_type": "markdown",
   "id": "74b93cf5",
   "metadata": {},
   "source": [
    "##### Test Your Code\n",
    "Run the following code block to see if your function is working correctly."
   ]
  },
  {
   "cell_type": "code",
   "execution_count": null,
   "id": "67119c7a",
   "metadata": {},
   "outputs": [],
   "source": [
    "import numpy as np\n",
    "\n",
    "if not np.allclose(flip_flop([2,5,3,20,9,10]),[20, 9, 10, 2, 5, 3],atol=1e-10):\n",
    "    print(\"Something is wrong with your code.\")\n",
    "elif not np.allclose(flip_flop([1,2,3,4,5,6,7,8,9,10]),[6,7,8,9,10,1,2,3,4,5],atol=1e-10):\n",
    "    print(\"Something is wrong with your code.\")\n",
    "else:\n",
    "    print(\"All tests passed.\")"
   ]
  },
  {
   "cell_type": "markdown",
   "id": "26fb0d5e",
   "metadata": {},
   "source": [
    "#### Exercise 2\n",
    "Write code so that the following function performs the way that its docstring indicates.\n",
    "\n",
    "Example: replace_second($[1,2,3,4,5]$, 10) should return $[1,2,10,4,5]$."
   ]
  },
  {
   "cell_type": "code",
   "execution_count": 2,
   "id": "a924dddf",
   "metadata": {},
   "outputs": [],
   "source": [
    "def replace_second(some_list, value):\n",
    "    \"\"\"\n",
    "    Replaces the element with index 2 with value.\n",
    "    \n",
    "    Parameters\n",
    "    -----------\n",
    "    some_list: list object with length >= 3.\n",
    "    value: integer\n",
    "    \n",
    "    Returns\n",
    "    -----------\n",
    "    some_list with some_list[2] = value.\n",
    "    \"\"\""
   ]
  },
  {
   "cell_type": "markdown",
   "id": "202f30f2",
   "metadata": {},
   "source": [
    "##### Test Your Code\n",
    "Run the following code block to see if your function is working correctly."
   ]
  },
  {
   "cell_type": "code",
   "execution_count": null,
   "id": "d363bc29",
   "metadata": {},
   "outputs": [],
   "source": [
    "import numpy as np\n",
    "\n",
    "if not np.allclose(replace_second([2,5,3,20,9,10], 7),[2,5,7,20,9,10],atol=1e-10):\n",
    "    print(\"Something is wrong with your code.\")\n",
    "elif not np.allclose(replace_second([1,2,3,4,5,6,7,8,9,10],100),[1,2,100,4,5,6,7,8,9,10],atol=1e-10):\n",
    "    print(\"Something is wrong with your code.\")\n",
    "else:\n",
    "    print(\"All tests passed.\")"
   ]
  },
  {
   "cell_type": "markdown",
   "id": "82d870e3",
   "metadata": {},
   "source": [
    "#### The *in* Keyword\n",
    "\n",
    "We can use the *in* keyword to determine if an element is in a list.\n",
    "\n",
    "##### Example 8"
   ]
  },
  {
   "cell_type": "code",
   "execution_count": 1,
   "id": "7b3661ce",
   "metadata": {},
   "outputs": [
    {
     "data": {
      "text/plain": [
       "[1, 3, 4, 5]"
      ]
     },
     "execution_count": 1,
     "metadata": {},
     "output_type": "execute_result"
    }
   ],
   "source": [
    "x = [1,3,4,5]\n",
    "x"
   ]
  },
  {
   "cell_type": "code",
   "execution_count": 2,
   "id": "f0d74ac7",
   "metadata": {},
   "outputs": [
    {
     "data": {
      "text/plain": [
       "True"
      ]
     },
     "execution_count": 2,
     "metadata": {},
     "output_type": "execute_result"
    }
   ],
   "source": [
    "3 in x"
   ]
  },
  {
   "cell_type": "code",
   "execution_count": 3,
   "id": "77638ea9",
   "metadata": {},
   "outputs": [
    {
     "data": {
      "text/plain": [
       "False"
      ]
     },
     "execution_count": 3,
     "metadata": {},
     "output_type": "execute_result"
    }
   ],
   "source": [
    "2 in x"
   ]
  },
  {
   "cell_type": "markdown",
   "id": "fa21b1e4",
   "metadata": {},
   "source": [
    "$\\Box$\n",
    "\n",
    "### Basic Control Flow\n",
    "\n",
    "It is often the case that we want one piece of a computer program to run at one time and another piece to run at a different time.  Control Flow allows us to do this."
   ]
  },
  {
   "cell_type": "markdown",
   "id": "99f44fb4",
   "metadata": {},
   "source": [
    "#### Example 9\n",
    "\n",
    "The following function takes as input an integer ($0,\\pm1, \\pm2,...$) and tells us if the integer is negative or not.  \n",
    "\n",
    "Don't worry about the structure of the code just yet, we'll get to that later.  For now, just realize that it wouldn't make a whole lot of sense to have both of the statements 'That is a negative integer.' and 'That number is not negative.' print for all integers.  Certainly, it's not true that an integer is both negative and not negative at the same time.\n",
    "\n",
    "So, we want one of 'That is a negative integer.' or 'That number is not negative.' to print but not both.  Control Flow allows us to do this."
   ]
  },
  {
   "cell_type": "code",
   "execution_count": 57,
   "id": "8eb95945",
   "metadata": {},
   "outputs": [],
   "source": [
    "def negative_or_not(x)\n",
    "    if x<0:\n",
    "        print('That is a negative integer.')\n",
    "    else:\n",
    "        print('That number is not negative.')"
   ]
  },
  {
   "cell_type": "code",
   "execution_count": 58,
   "id": "16fc19c5",
   "metadata": {},
   "outputs": [
    {
     "name": "stdout",
     "output_type": "stream",
     "text": [
      "That number is not negative.\n"
     ]
    }
   ],
   "source": [
    "negative_or_not(10)"
   ]
  },
  {
   "cell_type": "code",
   "execution_count": 59,
   "id": "20de71c9",
   "metadata": {},
   "outputs": [
    {
     "name": "stdout",
     "output_type": "stream",
     "text": [
      "That is a negative integer.\n"
     ]
    }
   ],
   "source": [
    "negative_or_not(-8)"
   ]
  },
  {
   "cell_type": "markdown",
   "id": "ea8cda63",
   "metadata": {},
   "source": [
    "$\\Box$"
   ]
  },
  {
   "cell_type": "markdown",
   "id": "aa699588",
   "metadata": {},
   "source": [
    "#### If/Else Statements\n",
    "\n",
    "The code inside the negative_or_not function follows the standard *if then, else* structure.  \n",
    "\n",
    "##### if/else statement\n",
    "\n",
    "Given a condition that evaluates to either True or False,\n",
    "\n",
    "if (condition is True):\n",
    "\n",
    "    execute (run) the code here\n",
    "    \n",
    "else: \n",
    "\n",
    "    execute (run) the code here instead\n",
    "    \n",
    "In the negative_or_not function the condition is: x<0.  Notice that this condition is either True or False for every integer.  \n",
    "\n",
    "When we run negative_or_not(-8), $x=-8$ and the condition $-8<0$ is True.  So, the code *print('That is a negative integer.')* is executed and the code under the else is ignored.\n",
    "\n",
    "When we run negative_or_not(10), $x=10$ and the condition $10<0$ is False.  So, the code *print('That is a negative integer.')* is ignored and the code under the else *print('That number is not negative.')* is executed."
   ]
  },
  {
   "cell_type": "markdown",
   "id": "325b03a2",
   "metadata": {},
   "source": [
    "#### Example 10 \n",
    "\n",
    "Suppose that we wanted to create a function with the following specifications.\n",
    "\n",
    "Input: a list\n",
    "\n",
    "Output: True if the last element in the inputted list is positive and False otherwise.\n",
    "\n",
    "The following function accomplishes this task."
   ]
  },
  {
   "cell_type": "code",
   "execution_count": 22,
   "id": "296e46ba",
   "metadata": {},
   "outputs": [],
   "source": [
    "def last_element_positive(some_list):\n",
    "    \"\"\"\n",
    "    Parameters\n",
    "    ------------\n",
    "    some_list: list object.\n",
    "    \n",
    "    Returns\n",
    "    ------------\n",
    "    True if the last element in some_list is positive and False otherwise.\n",
    "    \"\"\"\n",
    "    if some_list[-1] > 0:\n",
    "        return True\n",
    "    else:\n",
    "        return False"
   ]
  },
  {
   "cell_type": "code",
   "execution_count": null,
   "id": "9e1de1e9",
   "metadata": {},
   "outputs": [],
   "source": [
    "def last_element_positive(some_list):\n",
    "    \"\"\"\n",
    "    Parameters\n",
    "    ------------\n",
    "    some_list: list object.\n",
    "    \n",
    "    Returns\n",
    "    ------------\n",
    "    True if the last element in some_list is positive and False otherwise.\n",
    "    \"\"\"\n",
    "    answer = False\n",
    "    if some_list[-1] > 0:\n",
    "        answer = True\n",
    "    return answer"
   ]
  },
  {
   "cell_type": "markdown",
   "id": "9d2f1bda",
   "metadata": {},
   "source": [
    "The condition here is some_list$[-1]>0$.  Recall from above that for a list, list$[-1]$ references the last element in the list.  "
   ]
  },
  {
   "cell_type": "code",
   "execution_count": 61,
   "id": "6aafa545",
   "metadata": {},
   "outputs": [
    {
     "data": {
      "text/plain": [
       "[1, 5, 20, 50, 101]"
      ]
     },
     "execution_count": 61,
     "metadata": {},
     "output_type": "execute_result"
    }
   ],
   "source": [
    "#Recall x, defined above\n",
    "x"
   ]
  },
  {
   "cell_type": "code",
   "execution_count": 23,
   "id": "e99eeb23",
   "metadata": {},
   "outputs": [
    {
     "data": {
      "text/plain": [
       "True"
      ]
     },
     "execution_count": 23,
     "metadata": {},
     "output_type": "execute_result"
    }
   ],
   "source": [
    "last_element_positive(x)"
   ]
  },
  {
   "cell_type": "markdown",
   "id": "59aba081",
   "metadata": {},
   "source": [
    "When last_element_positive is called on the list x above, x takes the place of some_list in our definition of last_element_positive.  Since the last element of x is positive, the code under the if statement is executed and the code under the else is ignored."
   ]
  },
  {
   "cell_type": "code",
   "execution_count": 25,
   "id": "22c860be",
   "metadata": {},
   "outputs": [
    {
     "data": {
      "text/plain": [
       "[2, 4, 3, -5, -17]"
      ]
     },
     "execution_count": 25,
     "metadata": {},
     "output_type": "execute_result"
    }
   ],
   "source": [
    "#A new list\n",
    "v = [2,4,3,-5,-17]\n",
    "v"
   ]
  },
  {
   "cell_type": "code",
   "execution_count": 64,
   "id": "6e35e889",
   "metadata": {},
   "outputs": [
    {
     "data": {
      "text/plain": [
       "False"
      ]
     },
     "execution_count": 64,
     "metadata": {},
     "output_type": "execute_result"
    }
   ],
   "source": [
    "last_element_positive(v)"
   ]
  },
  {
   "cell_type": "markdown",
   "id": "4456f221",
   "metadata": {},
   "source": [
    "When last_element_positive is called on the list v above, v takes the place of some_list in our definition of last_element_positive.  Since the last element of v is negative, the code under the if statement is ignored and the code under the else is executed.\n",
    "\n",
    "$\\Box$"
   ]
  },
  {
   "cell_type": "markdown",
   "id": "d7f9d98e",
   "metadata": {},
   "source": [
    "#### For Loops\n",
    "\n",
    "For loops are for iterating over a list (or technically any iterable-more on this later).\n",
    "\n",
    "#### Example 11"
   ]
  },
  {
   "cell_type": "code",
   "execution_count": 31,
   "id": "fc4adb8b",
   "metadata": {},
   "outputs": [
    {
     "data": {
      "text/plain": [
       "[2, 4, 3, -5, -17, 10]"
      ]
     },
     "execution_count": 31,
     "metadata": {},
     "output_type": "execute_result"
    }
   ],
   "source": [
    "#Recall v from above\n",
    "v.append(10)\n",
    "v"
   ]
  },
  {
   "cell_type": "code",
   "execution_count": 30,
   "id": "c6ee47d8",
   "metadata": {},
   "outputs": [
    {
     "name": "stdout",
     "output_type": "stream",
     "text": [
      "2\n",
      "4\n",
      "3\n",
      "-5\n",
      "-17\n"
     ]
    }
   ],
   "source": [
    "for x in v:\n",
    "    print(x)"
   ]
  },
  {
   "cell_type": "markdown",
   "id": "bb4e6ee9",
   "metadata": {},
   "source": [
    "The for loop above executes the code under the for loop statement once for each number in v.  There is nothing sacred about the word 'number'.    "
   ]
  },
  {
   "cell_type": "code",
   "execution_count": 68,
   "id": "1df591fd",
   "metadata": {},
   "outputs": [
    {
     "name": "stdout",
     "output_type": "stream",
     "text": [
      "2\n",
      "4\n",
      "3\n",
      "-5\n",
      "-17\n"
     ]
    }
   ],
   "source": [
    "for u in v:\n",
    "    print(u)"
   ]
  },
  {
   "cell_type": "markdown",
   "id": "714618f8",
   "metadata": {},
   "source": [
    "It is even possible to have the execution statement have little to do with the numbers in v."
   ]
  },
  {
   "cell_type": "code",
   "execution_count": 32,
   "id": "ae90ea39",
   "metadata": {},
   "outputs": [
    {
     "name": "stdout",
     "output_type": "stream",
     "text": [
      "Jason is cool.\n",
      "Jason is cool.\n",
      "Jason is cool.\n",
      "Jason is cool.\n",
      "Jason is cool.\n",
      "Jason is cool.\n"
     ]
    }
   ],
   "source": [
    "for u in v:\n",
    "    print('Jason is cool.')"
   ]
  },
  {
   "cell_type": "markdown",
   "id": "b6356f33",
   "metadata": {},
   "source": [
    "Note that the sentence 'Jason is cool.' is printed 5 times, once for each of the 5 elements in v.\n",
    "\n",
    "$\\Box$\n",
    "\n",
    "#### Putting It All Together"
   ]
  },
  {
   "cell_type": "markdown",
   "id": "d478a89b",
   "metadata": {},
   "source": [
    "#### Example 12"
   ]
  },
  {
   "cell_type": "code",
   "execution_count": 33,
   "id": "abfdcf81",
   "metadata": {},
   "outputs": [
    {
     "data": {
      "text/plain": [
       "[1, -3, 2, 5, -7, -9, 10]"
      ]
     },
     "execution_count": 33,
     "metadata": {},
     "output_type": "execute_result"
    }
   ],
   "source": [
    "#A list\n",
    "j = [1,-3,2,5,-7,-9,10]\n",
    "j"
   ]
  },
  {
   "cell_type": "code",
   "execution_count": 35,
   "id": "5f53bbc5",
   "metadata": {},
   "outputs": [
    {
     "data": {
      "text/plain": [
       "[1, 2, 5, 10]"
      ]
     },
     "execution_count": 35,
     "metadata": {},
     "output_type": "execute_result"
    }
   ],
   "source": [
    "new_list = []\n",
    "for number in j:\n",
    "    if number>0:\n",
    "        new_list.append(number)\n",
    "        \n",
    "new_list"
   ]
  },
  {
   "cell_type": "markdown",
   "id": "b6d7f647",
   "metadata": {},
   "source": [
    "Note that there is no 'else' part of the if/else statement.  This just means that the code for the 'else' part is essentially *do nothing*.\n",
    "\n",
    "$\\Box$"
   ]
  },
  {
   "cell_type": "markdown",
   "id": "fc679f20",
   "metadata": {},
   "source": [
    "#### Example 13: Extract Odds Function\n",
    "\n",
    "Example: extract_odds($[2,3,1,8,23,100]$) should return $[3,1,23]$.\n",
    "\n",
    "To extract all odds from a list of integers, we need a way to tell if an integer is even or odd.  To accomplish this, we use the modulus operator: %.  The modulus operator returns the remainder when the integer on the left is divided by the integer on the right.\n",
    "\n",
    "Examples: 5%3 = 2, since the remainder when dividing 5 by 3 is 2.  \n",
    "\n",
    "100%21 = 16, since the remainder when dividing 100 by 21 is 16.\n",
    "\n",
    "To determine if an integer is even or odd, we divide by 2.\n",
    "\n",
    "Examples: 5%2 = 1, 11%2 = 1, 17%2 = 1, 10%2 = 0, 100%2 = 0.\n",
    "\n",
    "This shows us a nice condition that evaluates to True or False: number%2 == 1."
   ]
  },
  {
   "cell_type": "code",
   "execution_count": 36,
   "id": "16d22d43",
   "metadata": {},
   "outputs": [],
   "source": [
    "def extract_odds(some_list):\n",
    "    \"\"\"\n",
    "    Parameters\n",
    "    ------------\n",
    "    some_list: list of integers\n",
    "    \n",
    "    Returns\n",
    "    ------------\n",
    "    list containing all odd integers in some_list\n",
    "    \"\"\"\n",
    "    new_list = []\n",
    "    for number in some_list:\n",
    "        #Check if number is odd.\n",
    "        if number % 2 == 1:\n",
    "            new_list.append(number)\n",
    "    return new_list"
   ]
  },
  {
   "cell_type": "code",
   "execution_count": 37,
   "id": "41b7252e",
   "metadata": {},
   "outputs": [
    {
     "data": {
      "text/plain": [
       "[3, 1, 23]"
      ]
     },
     "execution_count": 37,
     "metadata": {},
     "output_type": "execute_result"
    }
   ],
   "source": [
    "extract_odds([2,3,1,8,23,100])"
   ]
  },
  {
   "cell_type": "code",
   "execution_count": 38,
   "id": "a72b989f",
   "metadata": {},
   "outputs": [
    {
     "data": {
      "text/plain": [
       "[]"
      ]
     },
     "execution_count": 38,
     "metadata": {},
     "output_type": "execute_result"
    }
   ],
   "source": [
    "extract_odds([2,4,6,8,10])"
   ]
  },
  {
   "cell_type": "code",
   "execution_count": 39,
   "id": "80f81cd3",
   "metadata": {},
   "outputs": [
    {
     "data": {
      "text/plain": [
       "[1, 3, 5, 7, 9]"
      ]
     },
     "execution_count": 39,
     "metadata": {},
     "output_type": "execute_result"
    }
   ],
   "source": [
    "extract_odds([1,3,5,7,9])"
   ]
  },
  {
   "cell_type": "markdown",
   "id": "504b1e90",
   "metadata": {},
   "source": [
    "$\\Box$"
   ]
  },
  {
   "cell_type": "markdown",
   "id": "38dcc45f",
   "metadata": {},
   "source": [
    "#### Exercise 3\n",
    "Write code so that the following function performs the way that its docstring indicates.\n",
    "\n",
    "Note: You need to delete the 'pass' statement."
   ]
  },
  {
   "cell_type": "code",
   "execution_count": 73,
   "id": "6106984d",
   "metadata": {},
   "outputs": [],
   "source": [
    "def extract_negatives(some_list):\n",
    "    \"\"\"\n",
    "    Parameters\n",
    "    ----------\n",
    "    some_list: list of integers\n",
    "    \n",
    "    Returns\n",
    "    ----------\n",
    "    list\n",
    "        list containing all negative elements of some_list.\n",
    "    \"\"\"\n",
    "    new_list = []\n",
    "    for number in some_list:\n",
    "### Your Code Here ###\n",
    "        pass\n",
    "\n",
    "######################\n",
    "\n",
    "    return new_list"
   ]
  },
  {
   "cell_type": "code",
   "execution_count": null,
   "id": "ec8f11d6",
   "metadata": {},
   "outputs": [],
   "source": [
    "#Run this block to test your code\n",
    "import numpy as np\n",
    "\n",
    "if not np.allclose(extract_negatives([2,-5,-3,20,9,-10]),[-5,-3,-10],atol=1e-10):\n",
    "    print(\"Something is wrong with your code.\")\n",
    "elif not np.allclose(extract_negatives([1,-2,3,-4,5,-6,7,-8,9,-10]),[-2,-4,-6,-8,-10],atol=1e-10):\n",
    "    print(\"Something is wrong with your code.\")\n",
    "else:\n",
    "    print(\"All tests passed.\")"
   ]
  },
  {
   "cell_type": "markdown",
   "id": "d382bc3f",
   "metadata": {},
   "source": [
    "#### Exercise 4\n",
    "Write code so that the following function performs the way that its docstring indicates.\n",
    "\n",
    "Examples: extract_evens($[1,2,3,4]$) should return $[2,4]$.\n",
    "\n",
    "extract_evens($[2,7,8,9,50]$) should return $[2,8,50]$."
   ]
  },
  {
   "cell_type": "code",
   "execution_count": null,
   "id": "d9ae9524",
   "metadata": {},
   "outputs": [],
   "source": [
    "def extract_evens(some_list):\n",
    "    \"\"\"\n",
    "    Parameters\n",
    "    -----------\n",
    "    some_list: list\n",
    "    \n",
    "    Returns\n",
    "    -----------\n",
    "    list containing all even integers in some_list.\n",
    "    \"\"\""
   ]
  },
  {
   "cell_type": "code",
   "execution_count": null,
   "id": "4def6c3d",
   "metadata": {},
   "outputs": [],
   "source": [
    "#Run this block to test your code\n",
    "import numpy as np\n",
    "\n",
    "if not np.allclose(extract_evens([1,2,3,4,5]),[2,4],atol=1e-10):\n",
    "    print(\"Something is wrong with your code.\")\n",
    "elif not np.allclose(extract_evens([4,17,23,34,10,11,12]),[4,34,10,12],atol=1e-10):\n",
    "    print(\"Something is wrong with your code.\")\n",
    "else:\n",
    "    print(\"All tests passed.\")"
   ]
  },
  {
   "cell_type": "markdown",
   "id": "b686bc96",
   "metadata": {},
   "source": [
    "##### Example 14: Summing the Elements of a List"
   ]
  },
  {
   "cell_type": "code",
   "execution_count": 3,
   "id": "b64fce3b",
   "metadata": {},
   "outputs": [
    {
     "data": {
      "text/plain": [
       "[1, 2, 3, 4]"
      ]
     },
     "execution_count": 3,
     "metadata": {},
     "output_type": "execute_result"
    }
   ],
   "source": [
    "#A list\n",
    "x = [1,2,3,4]\n",
    "x"
   ]
  },
  {
   "cell_type": "code",
   "execution_count": 4,
   "id": "549b13b5",
   "metadata": {},
   "outputs": [
    {
     "data": {
      "text/plain": [
       "10"
      ]
     },
     "execution_count": 4,
     "metadata": {},
     "output_type": "execute_result"
    }
   ],
   "source": [
    "total = 0\n",
    "for num in x:\n",
    "    total = total + num\n",
    "\n",
    "total"
   ]
  },
  {
   "cell_type": "markdown",
   "id": "61999927",
   "metadata": {},
   "source": [
    "Recall that = in programming is not = in math.  The usual = for math is == in programming.  In programming = means *assignment*.  So, in the code above, total = total + num, adds num to the total and assigns this new number to the variable total.\n",
    "\n",
    "In the first iteration of the for-loop, total = 0 and num = 1.  So, total is reassigned the value 0+1 or 1.\n",
    "\n",
    "In the second iteration of the for-loop, total = 1 and num = 2.  So, total is reassigned the value 1+2 or 3.\n",
    "\n",
    "--------\n",
    "\n",
    "In Python, it is possible to shorten the code \n",
    "\n",
    "total = total + num \n",
    "\n",
    "with the code\n",
    "\n",
    "total += num.\n",
    "\n",
    "In other words, total += num is shorthand for total = total + num.  *=, -=, and /= are defined similarly."
   ]
  },
  {
   "cell_type": "markdown",
   "id": "eef8cd4e",
   "metadata": {},
   "source": [
    "#### Exercise 5\n",
    "Write code so that the following function performs the way that its docstring indicates.\n",
    "\n",
    "Examples: product($[2,3,4]$) should return $24$.\n",
    "\n",
    "product($[-1,4,3.5,0.25]$) should return $-3.5$."
   ]
  },
  {
   "cell_type": "code",
   "execution_count": 12,
   "id": "1544715a",
   "metadata": {},
   "outputs": [],
   "source": [
    "def product(some_list):\n",
    "    \"\"\"\n",
    "    Parameters\n",
    "    -----------\n",
    "    some_list: list of integers or floats\n",
    "    \n",
    "    Returns\n",
    "    -----------\n",
    "    int: the product of all elements in some_list\n",
    "    \"\"\""
   ]
  },
  {
   "cell_type": "code",
   "execution_count": null,
   "id": "4cd2d990",
   "metadata": {},
   "outputs": [],
   "source": [
    "#Run this block to test your code\n",
    "import numpy as np\n",
    "\n",
    "if not np.allclose(product([1,2,3,4,5]),120,atol=1e-10):\n",
    "    print(\"Something is wrong with your code.\")\n",
    "elif not np.allclose(product([-1,4,3.5,0.25]),-3.5,atol=1e-10):\n",
    "    print(\"Something is wrong with your code.\")\n",
    "else:\n",
    "    print(\"All tests passed.\")"
   ]
  }
 ],
 "metadata": {
  "kernelspec": {
   "display_name": "Python 3 (ipykernel)",
   "language": "python",
   "name": "python3"
  },
  "language_info": {
   "codemirror_mode": {
    "name": "ipython",
    "version": 3
   },
   "file_extension": ".py",
   "mimetype": "text/x-python",
   "name": "python",
   "nbconvert_exporter": "python",
   "pygments_lexer": "ipython3",
   "version": "3.9.12"
  }
 },
 "nbformat": 4,
 "nbformat_minor": 5
}
