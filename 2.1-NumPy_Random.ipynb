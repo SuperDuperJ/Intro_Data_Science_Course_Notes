{
 "cells": [
  {
   "cell_type": "code",
   "execution_count": 2,
   "id": "f0bab7ec",
   "metadata": {},
   "outputs": [],
   "source": [
    "import numpy as np"
   ]
  },
  {
   "cell_type": "markdown",
   "id": "f9c8b6a9",
   "metadata": {},
   "source": [
    "### NumPy Random Library\n",
    "\n",
    "*numpy.random* provides a lot of functions for producing ndarrays whose entries are psuedorandomly generated.  A list of some of these functions is provided in Table 4-8 of our course text.\n",
    "\n",
    "A few examples will be given here, but we will mainly use this library to produce good examples in later notebooks.\n",
    "\n",
    "##### Randint\n",
    "\n",
    "*np.random.randint* can be used to produce a random integer or array of integers in a given interval.  \n",
    "\n",
    "syntax: np.random.randint(low, high, size, dtype) where high, size, and dtype are optional.\n",
    "\n",
    "##### Example 1\n",
    "\n",
    "Below we have low=0 and high=5 but do not specify the shape or dtype.  The low parameter specifies the lowest possible value and the high paramenter specifies that the highest possible value can be high-1. "
   ]
  },
  {
   "cell_type": "code",
   "execution_count": 3,
   "id": "462c2f60",
   "metadata": {},
   "outputs": [
    {
     "name": "stdout",
     "output_type": "stream",
     "text": [
      "2\n",
      "3\n",
      "3\n",
      "4\n",
      "2\n",
      "3\n",
      "2\n",
      "3\n",
      "0\n",
      "3\n"
     ]
    }
   ],
   "source": [
    "for i in range(10):\n",
    "    print(np.random.randint(0,5))"
   ]
  },
  {
   "cell_type": "markdown",
   "id": "480c8f95",
   "metadata": {},
   "source": [
    "$\\Box$\n",
    "\n",
    "If we specify a size, then an ndarray of that shape with random entries will be produced.\n",
    "\n",
    "##### Example 2"
   ]
  },
  {
   "cell_type": "code",
   "execution_count": 4,
   "id": "a49f8788",
   "metadata": {},
   "outputs": [
    {
     "data": {
      "text/plain": [
       "array([[8, 2, 6, 2, 1, 9, 9, 1, 6, 4],\n",
       "       [0, 4, 4, 7, 9, 1, 6, 3, 3, 4],\n",
       "       [3, 0, 7, 2, 9, 4, 4, 5, 4, 3],\n",
       "       [8, 2, 2, 9, 7, 6, 6, 7, 7, 4],\n",
       "       [9, 9, 2, 1, 4, 1, 1, 7, 1, 7],\n",
       "       [7, 4, 8, 1, 7, 0, 5, 7, 4, 4],\n",
       "       [8, 5, 1, 9, 0, 4, 7, 8, 2, 4],\n",
       "       [8, 5, 6, 8, 1, 4, 8, 3, 5, 6],\n",
       "       [8, 7, 5, 5, 0, 7, 9, 1, 9, 6],\n",
       "       [8, 5, 7, 2, 6, 2, 6, 9, 6, 7]])"
      ]
     },
     "execution_count": 4,
     "metadata": {},
     "output_type": "execute_result"
    }
   ],
   "source": [
    "np.random.randint(0, 10, size = (10,10))"
   ]
  },
  {
   "cell_type": "markdown",
   "id": "11f0df90",
   "metadata": {},
   "source": [
    "$\\Box$\n",
    "\n",
    "If the high parameter is omitted, then the low parameter acts like the high parameter.\n",
    "\n",
    "##### Example 3"
   ]
  },
  {
   "cell_type": "code",
   "execution_count": 5,
   "id": "505f4fa2",
   "metadata": {},
   "outputs": [
    {
     "name": "stdout",
     "output_type": "stream",
     "text": [
      "3\n",
      "1\n",
      "1\n",
      "2\n",
      "0\n",
      "0\n",
      "0\n",
      "3\n",
      "3\n",
      "2\n"
     ]
    }
   ],
   "source": [
    "for i in range(10):\n",
    "    print(np.random.randint(5))"
   ]
  },
  {
   "cell_type": "markdown",
   "id": "c9379362",
   "metadata": {},
   "source": [
    "$\\Box$\n",
    "\n",
    "##### np.random.normal\n",
    "\n",
    "The *np.random.normal* function draws samples from a normal Gaussian distribution.\n",
    "\n",
    "Syntax: np.random.normal(loc, scale, size) where loc = mean, scale = standard deviation, and size = shape of ndarray produced.  Each of these parameters is optional.\n",
    "\n",
    "Default Values: loc = 0, scale = 1, size = (1,1)\n",
    "\n",
    "##### Example 4\n",
    "\n",
    "If no parameters are passed, a single number drawn from a standard normal Gaussian distribution is produced."
   ]
  },
  {
   "cell_type": "code",
   "execution_count": 15,
   "id": "838c4fe1",
   "metadata": {},
   "outputs": [
    {
     "data": {
      "text/plain": [
       "-0.8658140521256352"
      ]
     },
     "execution_count": 15,
     "metadata": {},
     "output_type": "execute_result"
    }
   ],
   "source": [
    "np.random.normal()"
   ]
  },
  {
   "cell_type": "markdown",
   "id": "4745df07",
   "metadata": {},
   "source": [
    "$\\Box$\n",
    "\n",
    "##### Example 5"
   ]
  },
  {
   "cell_type": "code",
   "execution_count": 16,
   "id": "1553e55f",
   "metadata": {},
   "outputs": [
    {
     "data": {
      "text/plain": [
       "array([[-0.78711451,  0.53710227, -1.22527062,  0.14990396, -1.3329778 ],\n",
       "       [-0.02173956,  1.04477124,  0.83099261, -0.31733918,  0.57460186],\n",
       "       [-1.14693668, -1.34739183, -1.58854097,  0.64333605, -0.40309351],\n",
       "       [ 0.32696808,  1.1003641 , -0.14796221,  1.45843068,  0.39054166]])"
      ]
     },
     "execution_count": 16,
     "metadata": {},
     "output_type": "execute_result"
    }
   ],
   "source": [
    "np.random.normal(size = (4,5))"
   ]
  },
  {
   "cell_type": "markdown",
   "id": "07c07783",
   "metadata": {},
   "source": [
    "$\\Box$"
   ]
  },
  {
   "cell_type": "code",
   "execution_count": null,
   "id": "f36aa4e5",
   "metadata": {},
   "outputs": [],
   "source": []
  }
 ],
 "metadata": {
  "kernelspec": {
   "display_name": "Python 3 (ipykernel)",
   "language": "python",
   "name": "python3"
  },
  "language_info": {
   "codemirror_mode": {
    "name": "ipython",
    "version": 3
   },
   "file_extension": ".py",
   "mimetype": "text/x-python",
   "name": "python",
   "nbconvert_exporter": "python",
   "pygments_lexer": "ipython3",
   "version": "3.9.12"
  }
 },
 "nbformat": 4,
 "nbformat_minor": 5
}
