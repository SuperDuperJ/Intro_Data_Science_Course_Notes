{
 "cells": [
  {
   "cell_type": "markdown",
   "id": "5d65e437",
   "metadata": {},
   "source": [
    "### Strings\n",
    "\n",
    "Single alphabetic symbols like 'a' or 'B' or '.' are called *characters*.  The empty space ' ' is also a character.  There are many more things that can be characters, but we do not need to focus on this in this class.\n",
    "\n",
    "A sequence of characters is called a *string*.\n",
    "\n",
    "To define a *string literal* in Python, we can use single or double quotes.\n",
    "\n",
    "##### Example 1"
   ]
  },
  {
   "cell_type": "code",
   "execution_count": 1,
   "id": "5bcb1352",
   "metadata": {},
   "outputs": [
    {
     "data": {
      "text/plain": [
       "'Hello world.'"
      ]
     },
     "execution_count": 1,
     "metadata": {},
     "output_type": "execute_result"
    }
   ],
   "source": [
    "#A string\n",
    "'Hello world.'"
   ]
  },
  {
   "cell_type": "markdown",
   "id": "9f45a58c",
   "metadata": {},
   "source": [
    "$\\Box$\n",
    "\n",
    "Strings act a lot like lists.  We can index and slice them.  The length of a string is the number of characters (remember that the space is considered a character) in the string.  Strings can be concatenated using the '+' symbol.\n",
    "\n",
    "##### Example 2"
   ]
  },
  {
   "cell_type": "code",
   "execution_count": 14,
   "id": "25e9215e",
   "metadata": {},
   "outputs": [
    {
     "data": {
      "text/plain": [
       "'Programming is fun.'"
      ]
     },
     "execution_count": 14,
     "metadata": {},
     "output_type": "execute_result"
    }
   ],
   "source": [
    "#A string\n",
    "x = 'Programming is fun.'\n",
    "x"
   ]
  },
  {
   "cell_type": "code",
   "execution_count": 23,
   "id": "306bca51",
   "metadata": {},
   "outputs": [
    {
     "data": {
      "text/plain": [
       "'P'"
      ]
     },
     "execution_count": 23,
     "metadata": {},
     "output_type": "execute_result"
    }
   ],
   "source": [
    "x[0]"
   ]
  },
  {
   "cell_type": "code",
   "execution_count": 24,
   "id": "61f27664",
   "metadata": {},
   "outputs": [
    {
     "data": {
      "text/plain": [
       "'r'"
      ]
     },
     "execution_count": 24,
     "metadata": {},
     "output_type": "execute_result"
    }
   ],
   "source": [
    "x[1]"
   ]
  },
  {
   "cell_type": "code",
   "execution_count": 2,
   "id": "c86f342f",
   "metadata": {},
   "outputs": [
    {
     "data": {
      "text/plain": [
       "19"
      ]
     },
     "execution_count": 2,
     "metadata": {},
     "output_type": "execute_result"
    }
   ],
   "source": [
    "len(x)"
   ]
  },
  {
   "cell_type": "code",
   "execution_count": 25,
   "id": "7624b089",
   "metadata": {},
   "outputs": [
    {
     "data": {
      "text/plain": [
       "'.'"
      ]
     },
     "execution_count": 25,
     "metadata": {},
     "output_type": "execute_result"
    }
   ],
   "source": [
    "x[len(x)-1]"
   ]
  },
  {
   "cell_type": "code",
   "execution_count": 26,
   "id": "b7d972f6",
   "metadata": {},
   "outputs": [
    {
     "data": {
      "text/plain": [
       "'is fun.'"
      ]
     },
     "execution_count": 26,
     "metadata": {},
     "output_type": "execute_result"
    }
   ],
   "source": [
    "x[12:]"
   ]
  },
  {
   "cell_type": "code",
   "execution_count": 3,
   "id": "af98c1f3",
   "metadata": {},
   "outputs": [
    {
     "data": {
      "text/plain": [
       "'Programmin'"
      ]
     },
     "execution_count": 3,
     "metadata": {},
     "output_type": "execute_result"
    }
   ],
   "source": [
    "x[0:10]"
   ]
  },
  {
   "cell_type": "code",
   "execution_count": 28,
   "id": "b08b726a",
   "metadata": {},
   "outputs": [
    {
     "data": {
      "text/plain": [
       "'  It is also lucrative.'"
      ]
     },
     "execution_count": 28,
     "metadata": {},
     "output_type": "execute_result"
    }
   ],
   "source": [
    "#Another string\n",
    "y = '  It is also lucrative.'\n",
    "y"
   ]
  },
  {
   "cell_type": "code",
   "execution_count": 29,
   "id": "36e9e4b8",
   "metadata": {},
   "outputs": [
    {
     "data": {
      "text/plain": [
       "'Programming is fun.  It is also lucrative.'"
      ]
     },
     "execution_count": 29,
     "metadata": {},
     "output_type": "execute_result"
    }
   ],
   "source": [
    "x+y"
   ]
  },
  {
   "cell_type": "code",
   "execution_count": 16,
   "id": "9eb88ac1",
   "metadata": {},
   "outputs": [
    {
     "data": {
      "text/plain": [
       "'Programming is fun.'"
      ]
     },
     "execution_count": 16,
     "metadata": {},
     "output_type": "execute_result"
    }
   ],
   "source": [
    "x"
   ]
  },
  {
   "cell_type": "code",
   "execution_count": 17,
   "id": "40244ff1",
   "metadata": {},
   "outputs": [
    {
     "data": {
      "text/plain": [
       "['P',\n",
       " 'r',\n",
       " 'o',\n",
       " 'g',\n",
       " 'r',\n",
       " 'a',\n",
       " 'm',\n",
       " 'm',\n",
       " 'i',\n",
       " 'n',\n",
       " 'g',\n",
       " ' ',\n",
       " 'i',\n",
       " 's',\n",
       " ' ',\n",
       " 'f',\n",
       " 'u',\n",
       " 'n',\n",
       " '.']"
      ]
     },
     "execution_count": 17,
     "metadata": {},
     "output_type": "execute_result"
    }
   ],
   "source": [
    "y=list(x)\n",
    "y"
   ]
  },
  {
   "cell_type": "code",
   "execution_count": 18,
   "id": "b23c82fe",
   "metadata": {},
   "outputs": [],
   "source": [
    "y[0]='p'"
   ]
  },
  {
   "cell_type": "code",
   "execution_count": 19,
   "id": "5379a545",
   "metadata": {},
   "outputs": [
    {
     "data": {
      "text/plain": [
       "'programming is fun.'"
      ]
     },
     "execution_count": 19,
     "metadata": {},
     "output_type": "execute_result"
    }
   ],
   "source": [
    "string = ''\n",
    "for x in y:\n",
    "    string+=x\n",
    "string    "
   ]
  },
  {
   "cell_type": "code",
   "execution_count": 20,
   "id": "e2fd9d21",
   "metadata": {},
   "outputs": [
    {
     "data": {
      "text/plain": [
       "int"
      ]
     },
     "execution_count": 20,
     "metadata": {},
     "output_type": "execute_result"
    }
   ],
   "source": [
    "type(1)"
   ]
  },
  {
   "cell_type": "code",
   "execution_count": 21,
   "id": "b1a85b6f",
   "metadata": {},
   "outputs": [
    {
     "data": {
      "text/plain": [
       "'1'"
      ]
     },
     "execution_count": 21,
     "metadata": {},
     "output_type": "execute_result"
    }
   ],
   "source": [
    "str(1)"
   ]
  },
  {
   "cell_type": "code",
   "execution_count": 23,
   "id": "5495b019",
   "metadata": {},
   "outputs": [
    {
     "data": {
      "text/plain": [
       "'variable1'"
      ]
     },
     "execution_count": 23,
     "metadata": {},
     "output_type": "execute_result"
    }
   ],
   "source": [
    "'variable'+str(1)"
   ]
  },
  {
   "cell_type": "markdown",
   "id": "ec723408",
   "metadata": {},
   "source": [
    "$\\Box$\n",
    "\n",
    "One major difference between strings and lists is that strings are *immutable* while lists are *mutable*.  This means that you cannot change a string but you can change a list.\n",
    "\n",
    "##### Example 3"
   ]
  },
  {
   "cell_type": "code",
   "execution_count": 4,
   "id": "15bb4e6c",
   "metadata": {},
   "outputs": [
    {
     "data": {
      "text/plain": [
       "'P'"
      ]
     },
     "execution_count": 4,
     "metadata": {},
     "output_type": "execute_result"
    }
   ],
   "source": [
    "x[0]"
   ]
  },
  {
   "cell_type": "code",
   "execution_count": 5,
   "id": "419a12e4",
   "metadata": {},
   "outputs": [
    {
     "ename": "TypeError",
     "evalue": "'str' object does not support item assignment",
     "output_type": "error",
     "traceback": [
      "\u001b[1;31m---------------------------------------------------------------------------\u001b[0m",
      "\u001b[1;31mTypeError\u001b[0m                                 Traceback (most recent call last)",
      "Input \u001b[1;32mIn [5]\u001b[0m, in \u001b[0;36m<cell line: 1>\u001b[1;34m()\u001b[0m\n\u001b[1;32m----> 1\u001b[0m x[\u001b[38;5;241m0\u001b[39m] \u001b[38;5;241m=\u001b[39m \u001b[38;5;124m'\u001b[39m\u001b[38;5;124mp\u001b[39m\u001b[38;5;124m'\u001b[39m\n",
      "\u001b[1;31mTypeError\u001b[0m: 'str' object does not support item assignment"
     ]
    }
   ],
   "source": [
    "x[0] = 'p'"
   ]
  },
  {
   "cell_type": "markdown",
   "id": "07598065",
   "metadata": {},
   "source": [
    "You can define a longer string using triple quotes.\n",
    "\n",
    "##### Example 4"
   ]
  },
  {
   "cell_type": "code",
   "execution_count": 6,
   "id": "9f3d26da",
   "metadata": {},
   "outputs": [
    {
     "data": {
      "text/plain": [
       "'This is a longer string. All work and no play makes jack is a dull boy.  jack is a good boy.  jack is a good boy.'"
      ]
     },
     "execution_count": 6,
     "metadata": {},
     "output_type": "execute_result"
    }
   ],
   "source": [
    "'''This is a longer string. All work and no play makes jack is a dull boy.  jack is a good boy.  jack is a good boy.'''"
   ]
  },
  {
   "cell_type": "markdown",
   "id": "ad657a68",
   "metadata": {},
   "source": [
    "$\\Box$\n",
    "\n",
    "We can use the *in* keyword to determine if a string has a character in it.\n",
    "\n",
    "##### Example 5"
   ]
  },
  {
   "cell_type": "code",
   "execution_count": 24,
   "id": "fdfe7914",
   "metadata": {},
   "outputs": [],
   "source": [
    "string = 'A dog eats his meal.'"
   ]
  },
  {
   "cell_type": "code",
   "execution_count": 25,
   "id": "4a847371",
   "metadata": {},
   "outputs": [
    {
     "data": {
      "text/plain": [
       "True"
      ]
     },
     "execution_count": 25,
     "metadata": {},
     "output_type": "execute_result"
    }
   ],
   "source": [
    "'o' in string"
   ]
  },
  {
   "cell_type": "code",
   "execution_count": 26,
   "id": "b74ae01b",
   "metadata": {},
   "outputs": [
    {
     "data": {
      "text/plain": [
       "False"
      ]
     },
     "execution_count": 26,
     "metadata": {},
     "output_type": "execute_result"
    }
   ],
   "source": [
    "'z' in string"
   ]
  },
  {
   "cell_type": "markdown",
   "id": "b441d756",
   "metadata": {},
   "source": [
    "$\\Box$"
   ]
  },
  {
   "cell_type": "markdown",
   "id": "04e30ea7",
   "metadata": {},
   "source": [
    "##### Exercise 1\n",
    "\n",
    "Write code so that the following function performs the way that its docstring indicates.\n",
    "\n",
    "Example: num_vowels('apple') should return 2.\n",
    "\n",
    "num_vowels('A dog eats his meal') should return 7.\n",
    "\n",
    "Note: For this exercise, we will assume that the only vowels are a, e, i, o, u."
   ]
  },
  {
   "cell_type": "code",
   "execution_count": 6,
   "id": "57f2677a",
   "metadata": {},
   "outputs": [],
   "source": [
    "def num_vowels(some_string):\n",
    "    \"\"\"\n",
    "    Parameters\n",
    "    -----------\n",
    "    some_string: string\n",
    "    \n",
    "    Returns\n",
    "    -----------\n",
    "    The number of vowels in some_string.\n",
    "    \"\"\"\n",
    "    count = 0\n",
    "    vowels = ['a','e','i','o','u','A','E','I','O','U']\n",
    "    "
   ]
  },
  {
   "cell_type": "code",
   "execution_count": null,
   "id": "7c0f8f50",
   "metadata": {},
   "outputs": [],
   "source": [
    "if num_vowels('apple') != 2:\n",
    "    print(\"Something is wrong with your code.\")\n",
    "elif num_vowels('aAee wwiiooww rruuxxss') != 10:\n",
    "    print(\"Something is wrong with your code.\")\n",
    "else:\n",
    "    print(\"All tests passed.\")"
   ]
  },
  {
   "cell_type": "code",
   "execution_count": 42,
   "id": "fa77382f",
   "metadata": {},
   "outputs": [
    {
     "name": "stdout",
     "output_type": "stream",
     "text": [
      "h\n",
      "e\n",
      "y\n",
      " \n",
      "y\n",
      "o\n",
      "u\n",
      "!\n"
     ]
    }
   ],
   "source": [
    "some_string = 'hey you!'\n",
    "for x in some_string:\n",
    "    print(x)"
   ]
  },
  {
   "cell_type": "markdown",
   "id": "3c778ae9",
   "metadata": {},
   "source": [
    "### String Methods\n",
    "\n",
    "There are many useful string methods that come standard with Python.  We will only cover a few here.\n",
    "\n",
    "##### Split\n",
    "The *split* string method returns a list containing all pieces of the string split up by a passed parameter.\n",
    "\n",
    "##### Example 5"
   ]
  },
  {
   "cell_type": "code",
   "execution_count": 27,
   "id": "bd1e8496",
   "metadata": {},
   "outputs": [
    {
     "data": {
      "text/plain": [
       "'programming is fun and interesting.'"
      ]
     },
     "execution_count": 27,
     "metadata": {},
     "output_type": "execute_result"
    }
   ],
   "source": [
    "#A string\n",
    "x = 'programming is fun and interesting.'\n",
    "x"
   ]
  },
  {
   "cell_type": "markdown",
   "id": "68b1a85f",
   "metadata": {},
   "source": [
    "Now, we split x using the space character."
   ]
  },
  {
   "cell_type": "code",
   "execution_count": 28,
   "id": "43390ea9",
   "metadata": {},
   "outputs": [
    {
     "data": {
      "text/plain": [
       "['programming', 'is', 'fun', 'and', 'interesting.']"
      ]
     },
     "execution_count": 28,
     "metadata": {},
     "output_type": "execute_result"
    }
   ],
   "source": [
    "x.split(' ')"
   ]
  },
  {
   "cell_type": "markdown",
   "id": "b59325fe",
   "metadata": {},
   "source": [
    "Now, we split x using the character 'a'."
   ]
  },
  {
   "cell_type": "code",
   "execution_count": 29,
   "id": "600d4783",
   "metadata": {},
   "outputs": [
    {
     "data": {
      "text/plain": [
       "['progr', 'mming is fun ', 'nd interesting.']"
      ]
     },
     "execution_count": 29,
     "metadata": {},
     "output_type": "execute_result"
    }
   ],
   "source": [
    "x.split('a')"
   ]
  },
  {
   "cell_type": "markdown",
   "id": "a5e8790d",
   "metadata": {},
   "source": [
    "We can split using a string."
   ]
  },
  {
   "cell_type": "code",
   "execution_count": 30,
   "id": "1f65fc7b",
   "metadata": {},
   "outputs": [
    {
     "data": {
      "text/plain": [
       "['programm', 'g is fun and ', 'terest', 'g.']"
      ]
     },
     "execution_count": 30,
     "metadata": {},
     "output_type": "execute_result"
    }
   ],
   "source": [
    "x.split('in')"
   ]
  },
  {
   "cell_type": "code",
   "execution_count": null,
   "id": "6bd9f0bb",
   "metadata": {},
   "outputs": [],
   "source": [
    "['ID', 'address', 'price']"
   ]
  },
  {
   "cell_type": "code",
   "execution_count": 31,
   "id": "a4deda07",
   "metadata": {},
   "outputs": [
    {
     "data": {
      "text/plain": [
       "['ID', 'address', 'price']"
      ]
     },
     "execution_count": 31,
     "metadata": {},
     "output_type": "execute_result"
    }
   ],
   "source": [
    "'ID address price'.split(' ')"
   ]
  },
  {
   "cell_type": "markdown",
   "id": "04f2b7aa",
   "metadata": {},
   "source": [
    "$\\Box$\n",
    "\n",
    "##### Example 6\n",
    "This example illustrates the use of += with strings."
   ]
  },
  {
   "cell_type": "code",
   "execution_count": 33,
   "id": "fd4c82c2",
   "metadata": {},
   "outputs": [
    {
     "data": {
      "text/plain": [
       "'Some useful Data Science libraries are Numpy, Pandas, and Sci-Kit Learn.'"
      ]
     },
     "execution_count": 33,
     "metadata": {},
     "output_type": "execute_result"
    }
   ],
   "source": [
    "#A string\n",
    "b = 'Some useful Data Science libraries are Numpy, Pandas, and Sci-Kit Learn.'\n",
    "b"
   ]
  },
  {
   "cell_type": "code",
   "execution_count": 34,
   "id": "74e39565",
   "metadata": {},
   "outputs": [
    {
     "data": {
      "text/plain": [
       "['Some',\n",
       " 'useful',\n",
       " 'Data',\n",
       " 'Science',\n",
       " 'libraries',\n",
       " 'are',\n",
       " 'Numpy,',\n",
       " 'Pandas,',\n",
       " 'and',\n",
       " 'Sci-Kit',\n",
       " 'Learn.']"
      ]
     },
     "execution_count": 34,
     "metadata": {},
     "output_type": "execute_result"
    }
   ],
   "source": [
    "c = b.split(' ')\n",
    "c"
   ]
  },
  {
   "cell_type": "code",
   "execution_count": 40,
   "id": "ce52024f",
   "metadata": {},
   "outputs": [
    {
     "data": {
      "text/plain": [
       "'Some useful Data Science libraries are Numpy, Pandas, and Sci-Kit Learn.'"
      ]
     },
     "execution_count": 40,
     "metadata": {},
     "output_type": "execute_result"
    }
   ],
   "source": [
    "sentence = ''\n",
    "for word in c:\n",
    "    sentence+=word + ' '\n",
    "sentence = sentence[0: len(sentence)-1]\n",
    "sentence"
   ]
  },
  {
   "cell_type": "markdown",
   "id": "e0c457ac",
   "metadata": {},
   "source": [
    "$\\Box$\n",
    "\n",
    "##### Replace\n",
    "The string method *replace* replaces all occurances of one sub-string with another.\n",
    "\n",
    "##### Example 7"
   ]
  },
  {
   "cell_type": "code",
   "execution_count": 36,
   "id": "950f8d98",
   "metadata": {},
   "outputs": [
    {
     "data": {
      "text/plain": [
       "'programming is fun and interesting.'"
      ]
     },
     "execution_count": 36,
     "metadata": {},
     "output_type": "execute_result"
    }
   ],
   "source": [
    "#Recall x from above\n",
    "x"
   ]
  },
  {
   "cell_type": "code",
   "execution_count": 35,
   "id": "0c32e1cb",
   "metadata": {},
   "outputs": [
    {
     "data": {
      "text/plain": [
       "'math is fun and interesting.'"
      ]
     },
     "execution_count": 35,
     "metadata": {},
     "output_type": "execute_result"
    }
   ],
   "source": [
    "a = x.replace('programming', 'math')\n",
    "a"
   ]
  },
  {
   "cell_type": "markdown",
   "id": "22581b9a",
   "metadata": {},
   "source": [
    "Keep in mind that the original string x has not changed.  This makes sense since strings are immutable.  Thus, strings cannot be modified *in-place*."
   ]
  },
  {
   "cell_type": "code",
   "execution_count": 39,
   "id": "9d0fc51b",
   "metadata": {},
   "outputs": [
    {
     "data": {
      "text/plain": [
       "'programming is fun and interesting.'"
      ]
     },
     "execution_count": 39,
     "metadata": {},
     "output_type": "execute_result"
    }
   ],
   "source": [
    "x"
   ]
  },
  {
   "cell_type": "markdown",
   "id": "2ddba922",
   "metadata": {},
   "source": [
    "$\\Box$\n",
    "\n",
    "\n",
    "##### Lower and Upper\n",
    "The *lower* and *upper* string methods convert all characters to lower or upper case.\n",
    "\n",
    "##### Example 8"
   ]
  },
  {
   "cell_type": "code",
   "execution_count": 37,
   "id": "4c2eb90c",
   "metadata": {},
   "outputs": [
    {
     "data": {
      "text/plain": [
       "'programming is fun and interesting.'"
      ]
     },
     "execution_count": 37,
     "metadata": {},
     "output_type": "execute_result"
    }
   ],
   "source": [
    "#recall x\n",
    "x"
   ]
  },
  {
   "cell_type": "code",
   "execution_count": 40,
   "id": "d6f63dd4",
   "metadata": {},
   "outputs": [
    {
     "data": {
      "text/plain": [
       "'PROGRAMMING IS FUN AND INTERESTING.'"
      ]
     },
     "execution_count": 40,
     "metadata": {},
     "output_type": "execute_result"
    }
   ],
   "source": [
    "x.upper()"
   ]
  },
  {
   "cell_type": "markdown",
   "id": "a01ccae3",
   "metadata": {},
   "source": [
    "$\\Box$\n",
    "\n",
    "##### Exercise 2\n",
    "Write code so that the following function performs the way that its docstring indicates.\n",
    "\n",
    "Example: ends_to_upper('programming is fun and interesting.') should return 'PROGRAMMING is fun and INTERESTING.'"
   ]
  },
  {
   "cell_type": "code",
   "execution_count": 7,
   "id": "a93854ca",
   "metadata": {},
   "outputs": [],
   "source": [
    "def ends_to_upper(some_string):\n",
    "    \"\"\"\n",
    "    Parameters\n",
    "    -----------\n",
    "    some_string: string\n",
    "    \n",
    "    Returns\n",
    "    -----------\n",
    "    some_string with first and last words in all caps.\n",
    "    \"\"\""
   ]
  },
  {
   "cell_type": "markdown",
   "id": "31ce8db4",
   "metadata": {},
   "source": [
    "##### Test Your Code\n",
    "Run the following code block to see if your function is working correctly."
   ]
  },
  {
   "cell_type": "code",
   "execution_count": null,
   "id": "6936ea1c",
   "metadata": {},
   "outputs": [],
   "source": [
    "if not ends_to_upper('first second third')=='FIRST second THIRD':\n",
    "    print(\"Something is wrong with your code.\")\n",
    "elif not ends_to_upper('i like math')=='I like MATH':\n",
    "    print(\"Something is wrong with your code.\")\n",
    "else:\n",
    "    print(\"All tests passed.\")"
   ]
  },
  {
   "cell_type": "markdown",
   "id": "04ff0b96",
   "metadata": {},
   "source": [
    "##### Join\n",
    "\n",
    "Given a string, the *join* method puts that string in between each element in a list of strings.\n",
    "\n",
    "##### Example 9"
   ]
  },
  {
   "cell_type": "code",
   "execution_count": 9,
   "id": "de19c163",
   "metadata": {},
   "outputs": [
    {
     "data": {
      "text/plain": [
       "['Some',\n",
       " 'useful',\n",
       " 'Data',\n",
       " 'Science',\n",
       " 'libraries',\n",
       " 'are',\n",
       " 'Numpy,',\n",
       " 'Pandas,',\n",
       " 'and',\n",
       " 'Sci-Kit',\n",
       " 'Learn.']"
      ]
     },
     "execution_count": 9,
     "metadata": {},
     "output_type": "execute_result"
    }
   ],
   "source": [
    "#Recall c\n",
    "c"
   ]
  },
  {
   "cell_type": "code",
   "execution_count": 10,
   "id": "0812e1cb",
   "metadata": {},
   "outputs": [
    {
     "data": {
      "text/plain": [
       "'Some useful Data Science libraries are Numpy, Pandas, and Sci-Kit Learn.'"
      ]
     },
     "execution_count": 10,
     "metadata": {},
     "output_type": "execute_result"
    }
   ],
   "source": [
    "' '.join(c)"
   ]
  },
  {
   "cell_type": "code",
   "execution_count": 11,
   "id": "69646101",
   "metadata": {},
   "outputs": [
    {
     "data": {
      "text/plain": [
       "'SomeAAAusefulAAADataAAAScienceAAAlibrariesAAAareAAANumpy,AAAPandas,AAAandAAASci-KitAAALearn.'"
      ]
     },
     "execution_count": 11,
     "metadata": {},
     "output_type": "execute_result"
    }
   ],
   "source": [
    "'AAA'.join(c)"
   ]
  },
  {
   "cell_type": "markdown",
   "id": "4eb50c4c",
   "metadata": {},
   "source": [
    "$\\Box$\n",
    "\n",
    "### String Formatting\n",
    "\n",
    "Consider the following string:\n",
    "\n",
    "\"Dan Smith got 90% on the Math 111 Exam.\"\n",
    "\n",
    "Now, imagine how much of a pain it would be to have to retype this for every student in a Math 111 class.  The *format* string method allows us to create a string template that can be modified to take different values for student_name and score.\n",
    "\n",
    "##### Example 10"
   ]
  },
  {
   "cell_type": "code",
   "execution_count": 12,
   "id": "2647927a",
   "metadata": {},
   "outputs": [],
   "source": [
    "#First create the template\n",
    "template = \"{0:s} got {1:d}% on the Math 111 Exam.\""
   ]
  },
  {
   "cell_type": "code",
   "execution_count": 13,
   "id": "50f2ca93",
   "metadata": {},
   "outputs": [
    {
     "data": {
      "text/plain": [
       "'Dan Smith got 90% on the Math 111 Exam.'"
      ]
     },
     "execution_count": 13,
     "metadata": {},
     "output_type": "execute_result"
    }
   ],
   "source": [
    "#Now put in Dan Smith's grade of 90%\n",
    "template.format('Dan Smith', 90)"
   ]
  },
  {
   "cell_type": "code",
   "execution_count": 14,
   "id": "894a187b",
   "metadata": {},
   "outputs": [
    {
     "data": {
      "text/plain": [
       "'Spiderman got 70% on the Math 111 Exam.'"
      ]
     },
     "execution_count": 14,
     "metadata": {},
     "output_type": "execute_result"
    }
   ],
   "source": [
    "#Now put in Spiderman's grade of 70%.  He must have been crimefighting instead of studying\n",
    "template.format('Spiderman', 70)"
   ]
  },
  {
   "cell_type": "markdown",
   "id": "794d973e",
   "metadata": {},
   "source": [
    "{0:s} indicates that the 0th argument is a string.\n",
    "\n",
    "{1:d} indicates that the 1st argument is an integer.\n",
    "\n",
    "$\\Box$\n",
    "\n",
    "##### Example 11\n",
    "{0: .1f} indicates that the 0th argument is a float rounded to one decimal place."
   ]
  },
  {
   "cell_type": "code",
   "execution_count": 17,
   "id": "3e3fa980",
   "metadata": {},
   "outputs": [
    {
     "data": {
      "text/plain": [
       "' 99.27 rounded to one decimal place is 99.3.'"
      ]
     },
     "execution_count": 17,
     "metadata": {},
     "output_type": "execute_result"
    }
   ],
   "source": [
    "'{0: .2f} rounded to one decimal place is{1: .1f}.'.format(99.27, 99.27)"
   ]
  },
  {
   "cell_type": "code",
   "execution_count": 18,
   "id": "784b3770",
   "metadata": {},
   "outputs": [
    {
     "data": {
      "text/plain": [
       "' 55.72 rounded to one decimal place is 55.7.'"
      ]
     },
     "execution_count": 18,
     "metadata": {},
     "output_type": "execute_result"
    }
   ],
   "source": [
    "'{0: .2f} rounded to one decimal place is{1: .1f}.'.format(55.72, 55.72)"
   ]
  },
  {
   "cell_type": "markdown",
   "id": "1dcaaae7",
   "metadata": {},
   "source": [
    "$\\Box$\n",
    "\n",
    "##### Exercise 3\n",
    "Write code so that the following function performs the way that its docstring indicates.\n",
    "\n",
    "Example: weather_report($[[$'hot',99.27$]$, $[$'cloudy', 55.72$]]$) should return \n",
    "$[$'It was hot today and the temp was 99.3 farenheight.', 'It was cloudy today and the temp was 55.7 farenheight.'$]$"
   ]
  },
  {
   "cell_type": "code",
   "execution_count": null,
   "id": "cd9c4786",
   "metadata": {},
   "outputs": [],
   "source": [
    "def weather_report(list_of_lists):\n",
    "    \"\"\"\n",
    "    Parameters\n",
    "    -----------\n",
    "    list_of_lists: a list containing 2-element lists.  The 2-element lists have the form [weather_description, temperature]\n",
    "    \n",
    "    Returns\n",
    "    -----------\n",
    "    list of strings.  Each string should say 'It was weather_description today and the temp was temperature farenheight.'\n",
    "    \"\"\"    "
   ]
  },
  {
   "cell_type": "code",
   "execution_count": null,
   "id": "59e8de3f",
   "metadata": {},
   "outputs": [],
   "source": [
    "if not weather_report( [['hot',99.27 ], ['cloudy', 55.72 ]]) ==['It was hot today and the temp was 99.3 farenheight.', 'It was cloudy today and the temp was 55.7 farenheight.' ]:\n",
    "    print(\"Something is wrong with your code.\")\n",
    "else:\n",
    "    print(\"All tests passed.\")"
   ]
  },
  {
   "cell_type": "markdown",
   "id": "af4d4248",
   "metadata": {},
   "source": [
    "#### f Strings\n",
    "\n",
    "f strings work similar to string.format.  \n",
    "\n",
    "##### Example 12"
   ]
  },
  {
   "cell_type": "code",
   "execution_count": 1,
   "id": "1fd074f5",
   "metadata": {},
   "outputs": [
    {
     "data": {
      "text/plain": [
       "'2 is an integer.'"
      ]
     },
     "execution_count": 1,
     "metadata": {},
     "output_type": "execute_result"
    }
   ],
   "source": [
    "x = 2\n",
    "f'{x} is an integer.'"
   ]
  },
  {
   "cell_type": "markdown",
   "id": "e46ee067",
   "metadata": {},
   "source": [
    "$\\Box$\n",
    "\n",
    "##### Example 13"
   ]
  },
  {
   "cell_type": "code",
   "execution_count": 4,
   "id": "b4032ab8",
   "metadata": {},
   "outputs": [
    {
     "name": "stdout",
     "output_type": "stream",
     "text": [
      "That animal was a dog\n",
      "That animal was a cat\n",
      "That animal was a fish\n"
     ]
    }
   ],
   "source": [
    "for word in ['dog', 'cat', 'fish']:\n",
    "    print(f'That animal was a {word}')"
   ]
  },
  {
   "cell_type": "markdown",
   "id": "35e59cf6",
   "metadata": {},
   "source": [
    "$\\Box$\n",
    "\n",
    "##### Example 14"
   ]
  },
  {
   "cell_type": "code",
   "execution_count": 5,
   "id": "e970ac5e",
   "metadata": {},
   "outputs": [
    {
     "name": "stdout",
     "output_type": "stream",
     "text": [
      "0 is a number and a is a letter.\n",
      "1 is a number and b is a letter.\n",
      "2 is a number and c is a letter.\n"
     ]
    }
   ],
   "source": [
    "for (x,y) in [(0,'a'), (1,'b'), (2,'c')]:\n",
    "    print(f'{x} is a number and {y} is a letter.')"
   ]
  },
  {
   "cell_type": "markdown",
   "id": "a38b0844",
   "metadata": {},
   "source": [
    "$\\Box$"
   ]
  },
  {
   "cell_type": "code",
   "execution_count": null,
   "id": "05822db6",
   "metadata": {},
   "outputs": [],
   "source": []
  }
 ],
 "metadata": {
  "kernelspec": {
   "display_name": "Python 3 (ipykernel)",
   "language": "python",
   "name": "python3"
  },
  "language_info": {
   "codemirror_mode": {
    "name": "ipython",
    "version": 3
   },
   "file_extension": ".py",
   "mimetype": "text/x-python",
   "name": "python",
   "nbconvert_exporter": "python",
   "pygments_lexer": "ipython3",
   "version": "3.9.12"
  }
 },
 "nbformat": 4,
 "nbformat_minor": 5
}
