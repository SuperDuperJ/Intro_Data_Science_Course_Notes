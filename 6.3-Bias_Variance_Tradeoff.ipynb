{
 "cells": [
  {
   "cell_type": "code",
   "execution_count": 1,
   "id": "a8d0fafa",
   "metadata": {},
   "outputs": [],
   "source": [
    "import numpy as np\n",
    "from numpy import random\n",
    "import pandas as pd\n",
    "import matplotlib.pyplot as plt\n",
    "from sklearn.preprocessing import PolynomialFeatures\n",
    "from sklearn.linear_model import LinearRegression\n",
    "from sklearn.model_selection import train_test_split"
   ]
  },
  {
   "cell_type": "markdown",
   "id": "c21918a7",
   "metadata": {},
   "source": [
    "### The Bias Variance Tradeoff\n",
    "\n",
    "Recall from 6.0 that in Machine Learning problems we assume the existence of function $f$ such that \n",
    "\n",
    "$$Y = f(X)+\\epsilon$$\n",
    "\n",
    "where $X = (X_1,X_2,...,X_N)$.  We use the training data to create $\\hat{f}$ such that $\\hat{f} \\approx f$.\n",
    "\n",
    "#### Bias\n",
    "\n",
    "Intuitively, *bias* refers to the inability of a $\\hat{f}$ to capture the true relationship given in $f$."
   ]
  },
  {
   "cell_type": "code",
   "execution_count": 2,
   "id": "2675db90",
   "metadata": {},
   "outputs": [],
   "source": [
    "def poly_data(jump, up, down):\n",
    "    X = np.linspace(-3, 3, num = 10**2)\n",
    "    y = np.array([X[i]**3-3*X[i]+2+noise[i] for i in range(10**2)])\n",
    "    for i in up:\n",
    "        y[i] = y[i] + jump\n",
    "    for i in down:\n",
    "        y[i] = y[i] - jump\n",
    "    return X, y"
   ]
  },
  {
   "cell_type": "code",
   "execution_count": 3,
   "id": "2f93161a",
   "metadata": {},
   "outputs": [],
   "source": [
    "noise = 2.5*np.random.normal(size = (10**2,))+2"
   ]
  },
  {
   "cell_type": "markdown",
   "id": "ed2d3b78",
   "metadata": {},
   "source": [
    "##### Example 1\n",
    "\n",
    "Consider the following data set consisting of a single predictor $X$ and response $Y$."
   ]
  },
  {
   "cell_type": "code",
   "execution_count": 4,
   "id": "dd9e419f",
   "metadata": {},
   "outputs": [],
   "source": [
    "X, y = poly_data(0, [0,2,4], [93, 95, 98])"
   ]
  },
  {
   "cell_type": "code",
   "execution_count": 5,
   "id": "7640f063",
   "metadata": {},
   "outputs": [],
   "source": [
    "data = pd.DataFrame(np.array([X, y]).T, columns = ['X', 'y'])"
   ]
  },
  {
   "cell_type": "code",
   "execution_count": 6,
   "id": "352cfb82",
   "metadata": {},
   "outputs": [
    {
     "data": {
      "text/html": [
       "<div>\n",
       "<style scoped>\n",
       "    .dataframe tbody tr th:only-of-type {\n",
       "        vertical-align: middle;\n",
       "    }\n",
       "\n",
       "    .dataframe tbody tr th {\n",
       "        vertical-align: top;\n",
       "    }\n",
       "\n",
       "    .dataframe thead th {\n",
       "        text-align: right;\n",
       "    }\n",
       "</style>\n",
       "<table border=\"1\" class=\"dataframe\">\n",
       "  <thead>\n",
       "    <tr style=\"text-align: right;\">\n",
       "      <th></th>\n",
       "      <th>X</th>\n",
       "      <th>y</th>\n",
       "    </tr>\n",
       "  </thead>\n",
       "  <tbody>\n",
       "    <tr>\n",
       "      <th>0</th>\n",
       "      <td>-3.000000</td>\n",
       "      <td>-14.252325</td>\n",
       "    </tr>\n",
       "    <tr>\n",
       "      <th>1</th>\n",
       "      <td>-2.939394</td>\n",
       "      <td>-7.753771</td>\n",
       "    </tr>\n",
       "    <tr>\n",
       "      <th>2</th>\n",
       "      <td>-2.878788</td>\n",
       "      <td>-8.571495</td>\n",
       "    </tr>\n",
       "    <tr>\n",
       "      <th>3</th>\n",
       "      <td>-2.818182</td>\n",
       "      <td>-11.455088</td>\n",
       "    </tr>\n",
       "    <tr>\n",
       "      <th>4</th>\n",
       "      <td>-2.757576</td>\n",
       "      <td>-5.697848</td>\n",
       "    </tr>\n",
       "  </tbody>\n",
       "</table>\n",
       "</div>"
      ],
      "text/plain": [
       "          X          y\n",
       "0 -3.000000 -14.252325\n",
       "1 -2.939394  -7.753771\n",
       "2 -2.878788  -8.571495\n",
       "3 -2.818182 -11.455088\n",
       "4 -2.757576  -5.697848"
      ]
     },
     "execution_count": 6,
     "metadata": {},
     "output_type": "execute_result"
    }
   ],
   "source": [
    "data.head()"
   ]
  },
  {
   "cell_type": "code",
   "execution_count": 7,
   "id": "93f18f1a",
   "metadata": {},
   "outputs": [
    {
     "data": {
      "text/plain": [
       "<matplotlib.collections.PathCollection at 0x2787c2997c0>"
      ]
     },
     "execution_count": 7,
     "metadata": {},
     "output_type": "execute_result"
    },
    {
     "data": {
      "image/png": "[encoded data removed]",
      "text/plain": [
       "<Figure size 432x288 with 1 Axes>"
      ]
     },
     "metadata": {
      "needs_background": "light"
     },
     "output_type": "display_data"
    }
   ],
   "source": [
    "plt.scatter(X, y, color=\"blue\", linewidth=2)"
   ]
  },
  {
   "cell_type": "markdown",
   "id": "85372b95",
   "metadata": {},
   "source": [
    "We train a linear model for this dataset."
   ]
  },
  {
   "cell_type": "code",
   "execution_count": 8,
   "id": "6ba0cd9e",
   "metadata": {},
   "outputs": [],
   "source": [
    "X_train,X_test,y_train,y_test=train_test_split(X.reshape(-1,1), y, test_size=0.25, random_state=250)"
   ]
  },
  {
   "cell_type": "code",
   "execution_count": 9,
   "id": "595ccba2",
   "metadata": {},
   "outputs": [],
   "source": [
    "model = LinearRegression()\n",
    "model.fit(X_train, y_train)\n",
    "y_pred = model.predict(X_test)"
   ]
  },
  {
   "cell_type": "code",
   "execution_count": 10,
   "id": "25db8f7d",
   "metadata": {},
   "outputs": [],
   "source": [
    "beta_hat_0 = model.intercept_"
   ]
  },
  {
   "cell_type": "code",
   "execution_count": 11,
   "id": "6fe3a187",
   "metadata": {},
   "outputs": [],
   "source": [
    "beta_hat_1 = model.coef_[0]"
   ]
  },
  {
   "cell_type": "code",
   "execution_count": 12,
   "id": "1d9bc878",
   "metadata": {},
   "outputs": [],
   "source": [
    "poly = PolynomialFeatures(degree=3, include_bias=False)\n",
    "poly_features = poly.fit_transform(X_train)\n",
    "model2 = LinearRegression()\n",
    "model2.fit(poly_features, y_train)\n",
    "y_pred2 = model2.predict(poly_features)"
   ]
  },
  {
   "cell_type": "code",
   "execution_count": 13,
   "id": "590a715a",
   "metadata": {},
   "outputs": [
    {
     "data": {
      "text/plain": [
       "[<matplotlib.lines.Line2D at 0x2787ca53fd0>]"
      ]
     },
     "execution_count": 13,
     "metadata": {},
     "output_type": "execute_result"
    },
    {
     "data": {
      "image/png": "[encoded data removed]",
      "text/plain": [
       "<Figure size 432x288 with 1 Axes>"
      ]
     },
     "metadata": {
      "needs_background": "light"
     },
     "output_type": "display_data"
    }
   ],
   "source": [
    "plt.scatter(X, y, color=\"blue\", linewidth=2)\n",
    "predicted_responses = np.array([beta_hat_1*x+beta_hat_0 for x in X])\n",
    "plt.plot(X, predicted_responses, color = \"red\")"
   ]
  },
  {
   "cell_type": "markdown",
   "id": "a6e019cc",
   "metadata": {},
   "source": [
    "A one can see, our model does not capture the true relationship.\n",
    "\n",
    "This is an example of a biased model.\n",
    "\n",
    "$\\Box$\n",
    "\n",
    "#### Variance\n",
    "\n",
    "A model is said to have high *variance* when its fit varies greatly from one training set to the next.\n",
    "\n",
    "##### Example 2"
   ]
  },
  {
   "cell_type": "code",
   "execution_count": 14,
   "id": "78bc5ccb",
   "metadata": {},
   "outputs": [],
   "source": [
    "X, y = poly_data(20, [0,2,4], [45, 47, 49, 51, 93, 95, 98])"
   ]
  },
  {
   "cell_type": "code",
   "execution_count": 15,
   "id": "3925a3f1",
   "metadata": {},
   "outputs": [],
   "source": [
    "data = pd.DataFrame(np.array([X, y]).T, columns = ['X', 'y'])"
   ]
  },
  {
   "cell_type": "code",
   "execution_count": 16,
   "id": "80dec7e4",
   "metadata": {},
   "outputs": [
    {
     "data": {
      "text/plain": [
       "<matplotlib.collections.PathCollection at 0x2787cace340>"
      ]
     },
     "execution_count": 16,
     "metadata": {},
     "output_type": "execute_result"
    },
    {
     "data": {
      "image/png": "[encoded data removed]",
      "text/plain": [
       "<Figure size 432x288 with 1 Axes>"
      ]
     },
     "metadata": {
      "needs_background": "light"
     },
     "output_type": "display_data"
    }
   ],
   "source": [
    "plt.scatter(X, y, color=\"blue\", linewidth=2)"
   ]
  },
  {
   "cell_type": "markdown",
   "id": "cc2d090c",
   "metadata": {},
   "source": [
    "We train a polynomial model of degree 7 for our data."
   ]
  },
  {
   "cell_type": "code",
   "execution_count": 17,
   "id": "7d349711",
   "metadata": {},
   "outputs": [],
   "source": [
    "train_indices_1 = list(np.random.choice(np.arange(5, 46), size = (35,), replace = False))+list(np.random.choice(np.arange(51, 93), size = (30,), replace = False))+[0,1,2,4,46,48,50,93,95,98]\n",
    "train_indices_2 = list(np.random.choice(np.arange(5, 46), size = (35,), replace = False))+list(np.random.choice(np.arange(51, 93), size = (30,), replace = False))+[1,3,45, 47, 49, 51,94,96,97,99]"
   ]
  },
  {
   "cell_type": "code",
   "execution_count": 18,
   "id": "cdd46d2e",
   "metadata": {},
   "outputs": [],
   "source": [
    "X_train_1 = data.iloc[train_indices_1, :1].to_numpy()\n",
    "y_train_1 = data.iloc[train_indices_1, 1:2].to_numpy().ravel()\n",
    "X_train_2 = data.iloc[train_indices_2, :1].to_numpy()\n",
    "y_train_2 = data.iloc[train_indices_2, 1:2].to_numpy().ravel()"
   ]
  },
  {
   "cell_type": "code",
   "execution_count": 19,
   "id": "bf7b380b",
   "metadata": {},
   "outputs": [],
   "source": [
    "poly = PolynomialFeatures(degree=7, include_bias=False)"
   ]
  },
  {
   "cell_type": "code",
   "execution_count": 20,
   "id": "7f4ead47",
   "metadata": {},
   "outputs": [],
   "source": [
    "poly_features1 = poly.fit_transform(X_train_1)\n",
    "poly_features2 = poly.fit_transform(X_train_2)"
   ]
  },
  {
   "cell_type": "code",
   "execution_count": 22,
   "id": "b04a9493",
   "metadata": {},
   "outputs": [],
   "source": [
    "poly_reg_model1 = LinearRegression()\n",
    "poly_reg_model2 = LinearRegression()"
   ]
  },
  {
   "cell_type": "code",
   "execution_count": 23,
   "id": "d4eeed26",
   "metadata": {},
   "outputs": [
    {
     "data": {
      "text/html": [
       "<style>#sk-container-id-1 {color: black;}#sk-container-id-1 pre{padding: 0;}#sk-container-id-1 div.sk-toggleable {background-color: white;}#sk-container-id-1 label.sk-toggleable__label {cursor: pointer;display: block;width: 100%;margin-bottom: 0;padding: 0.3em;box-sizing: border-box;text-align: center;}#sk-container-id-1 label.sk-toggleable__label-arrow:before {content: \"▸\";float: left;margin-right: 0.25em;color: #696969;}#sk-container-id-1 label.sk-toggleable__label-arrow:hover:before {color: black;}#sk-container-id-1 div.sk-estimator:hover label.sk-toggleable__label-arrow:before {color: black;}#sk-container-id-1 div.sk-toggleable__content {max-height: 0;max-width: 0;overflow: hidden;text-align: left;background-color: #f0f8ff;}#sk-container-id-1 div.sk-toggleable__content pre {margin: 0.2em;color: black;border-radius: 0.25em;background-color: #f0f8ff;}#sk-container-id-1 input.sk-toggleable__control:checked~div.sk-toggleable__content {max-height: 200px;max-width: 100%;overflow: auto;}#sk-container-id-1 input.sk-toggleable__control:checked~label.sk-toggleable__label-arrow:before {content: \"▾\";}#sk-container-id-1 div.sk-estimator input.sk-toggleable__control:checked~label.sk-toggleable__label {background-color: #d4ebff;}#sk-container-id-1 div.sk-label input.sk-toggleable__control:checked~label.sk-toggleable__label {background-color: #d4ebff;}#sk-container-id-1 input.sk-hidden--visually {border: 0;clip: rect(1px 1px 1px 1px);clip: rect(1px, 1px, 1px, 1px);height: 1px;margin: -1px;overflow: hidden;padding: 0;position: absolute;width: 1px;}#sk-container-id-1 div.sk-estimator {font-family: monospace;background-color: #f0f8ff;border: 1px dotted black;border-radius: 0.25em;box-sizing: border-box;margin-bottom: 0.5em;}#sk-container-id-1 div.sk-estimator:hover {background-color: #d4ebff;}#sk-container-id-1 div.sk-parallel-item::after {content: \"\";width: 100%;border-bottom: 1px solid gray;flex-grow: 1;}#sk-container-id-1 div.sk-label:hover label.sk-toggleable__label {background-color: #d4ebff;}#sk-container-id-1 div.sk-serial::before {content: \"\";position: absolute;border-left: 1px solid gray;box-sizing: border-box;top: 0;bottom: 0;left: 50%;z-index: 0;}#sk-container-id-1 div.sk-serial {display: flex;flex-direction: column;align-items: center;background-color: white;padding-right: 0.2em;padding-left: 0.2em;position: relative;}#sk-container-id-1 div.sk-item {position: relative;z-index: 1;}#sk-container-id-1 div.sk-parallel {display: flex;align-items: stretch;justify-content: center;background-color: white;position: relative;}#sk-container-id-1 div.sk-item::before, #sk-container-id-1 div.sk-parallel-item::before {content: \"\";position: absolute;border-left: 1px solid gray;box-sizing: border-box;top: 0;bottom: 0;left: 50%;z-index: -1;}#sk-container-id-1 div.sk-parallel-item {display: flex;flex-direction: column;z-index: 1;position: relative;background-color: white;}#sk-container-id-1 div.sk-parallel-item:first-child::after {align-self: flex-end;width: 50%;}#sk-container-id-1 div.sk-parallel-item:last-child::after {align-self: flex-start;width: 50%;}#sk-container-id-1 div.sk-parallel-item:only-child::after {width: 0;}#sk-container-id-1 div.sk-dashed-wrapped {border: 1px dashed gray;margin: 0 0.4em 0.5em 0.4em;box-sizing: border-box;padding-bottom: 0.4em;background-color: white;}#sk-container-id-1 div.sk-label label {font-family: monospace;font-weight: bold;display: inline-block;line-height: 1.2em;}#sk-container-id-1 div.sk-label-container {text-align: center;}#sk-container-id-1 div.sk-container {/* jupyter's `normalize.less` sets `[hidden] { display: none; }` but bootstrap.min.css set `[hidden] { display: none !important; }` so we also need the `!important` here to be able to override the default hidden behavior on the sphinx rendered scikit-learn.org. See: https://github.com/scikit-learn/scikit-learn/issues/21755 */display: inline-block !important;position: relative;}#sk-container-id-1 div.sk-text-repr-fallback {display: none;}</style><div id=\"sk-container-id-1\" class=\"sk-top-container\"><div class=\"sk-text-repr-fallback\"><pre>LinearRegression()</pre><b>In a Jupyter environment, please rerun this cell to show the HTML representation or trust the notebook. <br />On GitHub, the HTML representation is unable to render, please try loading this page with nbviewer.org.</b></div><div class=\"sk-container\" hidden><div class=\"sk-item\"><div class=\"sk-estimator sk-toggleable\"><input class=\"sk-toggleable__control sk-hidden--visually\" id=\"sk-estimator-id-1\" type=\"checkbox\" checked><label for=\"sk-estimator-id-1\" class=\"sk-toggleable__label sk-toggleable__label-arrow\">LinearRegression</label><div class=\"sk-toggleable__content\"><pre>LinearRegression()</pre></div></div></div></div></div>"
      ],
      "text/plain": [
       "LinearRegression()"
      ]
     },
     "execution_count": 23,
     "metadata": {},
     "output_type": "execute_result"
    }
   ],
   "source": [
    "poly_reg_model1.fit(poly_features1, y_train_1)\n",
    "poly_reg_model2.fit(poly_features2, y_train_2)"
   ]
  },
  {
   "cell_type": "code",
   "execution_count": 24,
   "id": "12e211e8",
   "metadata": {},
   "outputs": [],
   "source": [
    "cept1 = poly_reg_model1.intercept_\n",
    "cept2 = poly_reg_model2.intercept_"
   ]
  },
  {
   "cell_type": "code",
   "execution_count": 25,
   "id": "dfbb2048",
   "metadata": {},
   "outputs": [],
   "source": [
    "coef1 = list(poly_reg_model1.coef_)\n",
    "coef2 = list(poly_reg_model2.coef_)"
   ]
  },
  {
   "cell_type": "code",
   "execution_count": 26,
   "id": "317e05cb",
   "metadata": {},
   "outputs": [
    {
     "data": {
      "text/plain": [
       "[<matplotlib.lines.Line2D at 0x2787cb4fa00>]"
      ]
     },
     "execution_count": 26,
     "metadata": {},
     "output_type": "execute_result"
    },
    {
     "data": {
      "image/png": "[encoded data removed]",
      "text/plain": [
       "<Figure size 432x288 with 1 Axes>"
      ]
     },
     "metadata": {
      "needs_background": "light"
     },
     "output_type": "display_data"
    }
   ],
   "source": [
    "plt.scatter(X, y, color=\"blue\", linewidth=2)\n",
    "predicted_responses1 = np.array([cept1 + np.dot([x,x**2,x**3,x**4,x**5,x**6,x**7], coef1) for x in X])\n",
    "predicted_responses2 = np.array([cept2 + np.dot([x,x**2,x**3,x**4,x**5,x**6,x**7], coef2) for x in X])\n",
    "plt.plot(X, predicted_responses1, color = \"red\")\n",
    "plt.plot(X, predicted_responses2, color = \"green\")"
   ]
  },
  {
   "cell_type": "markdown",
   "id": "d62c55bb",
   "metadata": {},
   "source": [
    "As we can see, our two models fit the data very differently.\n",
    "\n",
    "$\\Box$\n",
    "\n",
    "#### Bias-Variance Tradeoff\n",
    "\n",
    "Looking back at Example 1, we see that our model has low variance (why?).  Our models in Example 2 have low bias.  Examples 1 and 2 together form an example of the *Bias-Variance Tradeoff*.\n",
    "\n",
    "See [this](https://www.geeksforgeeks.org/ml-bias-variance-trade-off/) article for a nice graph of this tradeoff.\n",
    "\n",
    "#### Overfitting\n",
    "\n",
    "When a model has high variance, it is said to *overfit* the data.  Overfitting is an issue because the model will not *generalize* well to new data.\n",
    "\n",
    "##### Example 3"
   ]
  },
  {
   "cell_type": "code",
   "execution_count": 27,
   "id": "6f849ce7",
   "metadata": {},
   "outputs": [],
   "source": [
    "X, y = poly_data(20, [0,2,4], [45, 47, 49, 51, 93, 95, 98])"
   ]
  },
  {
   "cell_type": "code",
   "execution_count": 28,
   "id": "64ac6cb0",
   "metadata": {},
   "outputs": [],
   "source": [
    "X_train,X_test,y_train,y_test=train_test_split(X.reshape(-1,1), y, test_size=0.25, random_state=250)"
   ]
  },
  {
   "cell_type": "code",
   "execution_count": 29,
   "id": "24ac0bbf",
   "metadata": {},
   "outputs": [],
   "source": [
    "poly = PolynomialFeatures(degree=4, include_bias=False)"
   ]
  },
  {
   "cell_type": "code",
   "execution_count": 30,
   "id": "f01283e6",
   "metadata": {},
   "outputs": [
    {
     "data": {
      "text/html": [
       "<style>#sk-container-id-2 {color: black;}#sk-container-id-2 pre{padding: 0;}#sk-container-id-2 div.sk-toggleable {background-color: white;}#sk-container-id-2 label.sk-toggleable__label {cursor: pointer;display: block;width: 100%;margin-bottom: 0;padding: 0.3em;box-sizing: border-box;text-align: center;}#sk-container-id-2 label.sk-toggleable__label-arrow:before {content: \"▸\";float: left;margin-right: 0.25em;color: #696969;}#sk-container-id-2 label.sk-toggleable__label-arrow:hover:before {color: black;}#sk-container-id-2 div.sk-estimator:hover label.sk-toggleable__label-arrow:before {color: black;}#sk-container-id-2 div.sk-toggleable__content {max-height: 0;max-width: 0;overflow: hidden;text-align: left;background-color: #f0f8ff;}#sk-container-id-2 div.sk-toggleable__content pre {margin: 0.2em;color: black;border-radius: 0.25em;background-color: #f0f8ff;}#sk-container-id-2 input.sk-toggleable__control:checked~div.sk-toggleable__content {max-height: 200px;max-width: 100%;overflow: auto;}#sk-container-id-2 input.sk-toggleable__control:checked~label.sk-toggleable__label-arrow:before {content: \"▾\";}#sk-container-id-2 div.sk-estimator input.sk-toggleable__control:checked~label.sk-toggleable__label {background-color: #d4ebff;}#sk-container-id-2 div.sk-label input.sk-toggleable__control:checked~label.sk-toggleable__label {background-color: #d4ebff;}#sk-container-id-2 input.sk-hidden--visually {border: 0;clip: rect(1px 1px 1px 1px);clip: rect(1px, 1px, 1px, 1px);height: 1px;margin: -1px;overflow: hidden;padding: 0;position: absolute;width: 1px;}#sk-container-id-2 div.sk-estimator {font-family: monospace;background-color: #f0f8ff;border: 1px dotted black;border-radius: 0.25em;box-sizing: border-box;margin-bottom: 0.5em;}#sk-container-id-2 div.sk-estimator:hover {background-color: #d4ebff;}#sk-container-id-2 div.sk-parallel-item::after {content: \"\";width: 100%;border-bottom: 1px solid gray;flex-grow: 1;}#sk-container-id-2 div.sk-label:hover label.sk-toggleable__label {background-color: #d4ebff;}#sk-container-id-2 div.sk-serial::before {content: \"\";position: absolute;border-left: 1px solid gray;box-sizing: border-box;top: 0;bottom: 0;left: 50%;z-index: 0;}#sk-container-id-2 div.sk-serial {display: flex;flex-direction: column;align-items: center;background-color: white;padding-right: 0.2em;padding-left: 0.2em;position: relative;}#sk-container-id-2 div.sk-item {position: relative;z-index: 1;}#sk-container-id-2 div.sk-parallel {display: flex;align-items: stretch;justify-content: center;background-color: white;position: relative;}#sk-container-id-2 div.sk-item::before, #sk-container-id-2 div.sk-parallel-item::before {content: \"\";position: absolute;border-left: 1px solid gray;box-sizing: border-box;top: 0;bottom: 0;left: 50%;z-index: -1;}#sk-container-id-2 div.sk-parallel-item {display: flex;flex-direction: column;z-index: 1;position: relative;background-color: white;}#sk-container-id-2 div.sk-parallel-item:first-child::after {align-self: flex-end;width: 50%;}#sk-container-id-2 div.sk-parallel-item:last-child::after {align-self: flex-start;width: 50%;}#sk-container-id-2 div.sk-parallel-item:only-child::after {width: 0;}#sk-container-id-2 div.sk-dashed-wrapped {border: 1px dashed gray;margin: 0 0.4em 0.5em 0.4em;box-sizing: border-box;padding-bottom: 0.4em;background-color: white;}#sk-container-id-2 div.sk-label label {font-family: monospace;font-weight: bold;display: inline-block;line-height: 1.2em;}#sk-container-id-2 div.sk-label-container {text-align: center;}#sk-container-id-2 div.sk-container {/* jupyter's `normalize.less` sets `[hidden] { display: none; }` but bootstrap.min.css set `[hidden] { display: none !important; }` so we also need the `!important` here to be able to override the default hidden behavior on the sphinx rendered scikit-learn.org. See: https://github.com/scikit-learn/scikit-learn/issues/21755 */display: inline-block !important;position: relative;}#sk-container-id-2 div.sk-text-repr-fallback {display: none;}</style><div id=\"sk-container-id-2\" class=\"sk-top-container\"><div class=\"sk-text-repr-fallback\"><pre>LinearRegression()</pre><b>In a Jupyter environment, please rerun this cell to show the HTML representation or trust the notebook. <br />On GitHub, the HTML representation is unable to render, please try loading this page with nbviewer.org.</b></div><div class=\"sk-container\" hidden><div class=\"sk-item\"><div class=\"sk-estimator sk-toggleable\"><input class=\"sk-toggleable__control sk-hidden--visually\" id=\"sk-estimator-id-2\" type=\"checkbox\" checked><label for=\"sk-estimator-id-2\" class=\"sk-toggleable__label sk-toggleable__label-arrow\">LinearRegression</label><div class=\"sk-toggleable__content\"><pre>LinearRegression()</pre></div></div></div></div></div>"
      ],
      "text/plain": [
       "LinearRegression()"
      ]
     },
     "execution_count": 30,
     "metadata": {},
     "output_type": "execute_result"
    }
   ],
   "source": [
    "poly_features = poly.fit_transform(X_train)\n",
    "poly_reg_model = LinearRegression()\n",
    "poly_reg_model.fit(poly_features, y_train)"
   ]
  },
  {
   "cell_type": "code",
   "execution_count": 31,
   "id": "39139060",
   "metadata": {},
   "outputs": [],
   "source": [
    "cept = poly_reg_model.intercept_\n",
    "coef = list(poly_reg_model.coef_)"
   ]
  },
  {
   "cell_type": "code",
   "execution_count": 32,
   "id": "218e271d",
   "metadata": {},
   "outputs": [
    {
     "data": {
      "text/plain": [
       "[<matplotlib.lines.Line2D at 0x2787cbc22e0>]"
      ]
     },
     "execution_count": 32,
     "metadata": {},
     "output_type": "execute_result"
    },
    {
     "data": {
      "image/png": "[encoded data removed]",
      "text/plain": [
       "<Figure size 432x288 with 1 Axes>"
      ]
     },
     "metadata": {
      "needs_background": "light"
     },
     "output_type": "display_data"
    }
   ],
   "source": [
    "plt.scatter(X, y, color=\"blue\", linewidth=2)\n",
    "predicted_responses1 = np.array([cept1 + np.dot([x,x**2,x**3,x**4,x**5,x**6,x**7], coef1) for x in X])\n",
    "predicted_responses2 = np.array([cept2 + np.dot([x,x**2,x**3,x**4,x**5,x**6,x**7], coef2) for x in X])\n",
    "predicted_responses = np.array([cept + np.dot([x,x**2,x**3,x**4], coef) for x in X])\n",
    "plt.plot(X, predicted_responses1, color = \"red\")\n",
    "plt.plot(X, predicted_responses2, color = \"green\")\n",
    "plt.plot(X, predicted_responses, color = \"brown\")"
   ]
  },
  {
   "cell_type": "code",
   "execution_count": null,
   "id": "4825217d",
   "metadata": {},
   "outputs": [],
   "source": []
  },
  {
   "cell_type": "code",
   "execution_count": null,
   "id": "c97d9dac",
   "metadata": {},
   "outputs": [],
   "source": []
  }
 ],
 "metadata": {
  "kernelspec": {
   "display_name": "Python 3 (ipykernel)",
   "language": "python",
   "name": "python3"
  },
  "language_info": {
   "codemirror_mode": {
    "name": "ipython",
    "version": 3
   },
   "file_extension": ".py",
   "mimetype": "text/x-python",
   "name": "python",
   "nbconvert_exporter": "python",
   "pygments_lexer": "ipython3",
   "version": "3.9.12"
  }
 },
 "nbformat": 4,
 "nbformat_minor": 5
}
