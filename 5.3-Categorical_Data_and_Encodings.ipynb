{
 "cells": [
  {
   "cell_type": "code",
   "execution_count": 1,
   "id": "0c7b56bf",
   "metadata": {},
   "outputs": [],
   "source": [
    "import numpy as np\n",
    "import pandas as pd\n",
    "from sklearn.preprocessing import OneHotEncoder\n",
    "from sklearn.model_selection import train_test_split\n",
    "from sklearn.impute import SimpleImputer\n",
    "from sklearn.preprocessing import OrdinalEncoder\n",
    "from sklearn.tree import DecisionTreeClassifier\n",
    "from sklearn.linear_model import LogisticRegression\n",
    "import matplotlib.pyplot as plt\n",
    "import seaborn as sns"
   ]
  },
  {
   "cell_type": "markdown",
   "id": "53ef8b63",
   "metadata": {},
   "source": [
    "### Categorical Data and Encodings\n",
    "\n",
    "#### Types of Data\n",
    "\n",
    "Data can be grouped into two broad categories that can be further divided into sub-catagories:\n",
    "+ Quantitative Data-A quantity\n",
    "    + Discrete Data-Number of students in a class, etc.\n",
    "    + Continuous Data-Heights of adult males, etc.\n",
    "        + Note that the data in a column is considered to be a sample from a continuous distribution.\n",
    "+ Qualitative Data-A quality\n",
    "    + Nominal Data-Hair color (brown, blonde, red, etc.)\n",
    "    + Ordinal Data-Grades (A, B, C, etc.)\n",
    "\n",
    "So far in this class, we have been mainly working with Quantitative data.  Today, we study Qualitative Data.\n",
    "\n",
    "Qualitative Data describes a quality, such as color, that cannot be represented with a number.  Some qualitative data has an implicit order and some qualitative data does not.\n",
    "\n",
    "Qualitative Data without an implicit order is called *Nominal*.\n",
    "\n",
    "Qualitative Data with an implicit order is called *Ordinal*.\n",
    "\n",
    "##### Example 1\n",
    "\n",
    "We look at the Car Acceptability dataset which contains all categorical data.  The goal with this dataset is to predict whether or not a particular row is for a car that is acceptable or not."
   ]
  },
  {
   "cell_type": "code",
   "execution_count": 3,
   "id": "6d95b820",
   "metadata": {},
   "outputs": [],
   "source": [
    "data = pd.read_csv('car.csv')"
   ]
  },
  {
   "cell_type": "code",
   "execution_count": 4,
   "id": "4e6ad7b7",
   "metadata": {},
   "outputs": [
    {
     "data": {
      "text/html": [
       "<div>\n",
       "<style scoped>\n",
       "    .dataframe tbody tr th:only-of-type {\n",
       "        vertical-align: middle;\n",
       "    }\n",
       "\n",
       "    .dataframe tbody tr th {\n",
       "        vertical-align: top;\n",
       "    }\n",
       "\n",
       "    .dataframe thead th {\n",
       "        text-align: right;\n",
       "    }\n",
       "</style>\n",
       "<table border=\"1\" class=\"dataframe\">\n",
       "  <thead>\n",
       "    <tr style=\"text-align: right;\">\n",
       "      <th></th>\n",
       "      <th>Buying_Price</th>\n",
       "      <th>Maintenance_Price</th>\n",
       "      <th>No_of_Doors</th>\n",
       "      <th>Person_Capacity</th>\n",
       "      <th>Size_of_Luggage</th>\n",
       "      <th>Safety</th>\n",
       "      <th>Car_Acceptability</th>\n",
       "    </tr>\n",
       "  </thead>\n",
       "  <tbody>\n",
       "    <tr>\n",
       "      <th>0</th>\n",
       "      <td>vhigh</td>\n",
       "      <td>vhigh</td>\n",
       "      <td>2</td>\n",
       "      <td>2</td>\n",
       "      <td>small</td>\n",
       "      <td>low</td>\n",
       "      <td>unacc</td>\n",
       "    </tr>\n",
       "    <tr>\n",
       "      <th>1</th>\n",
       "      <td>vhigh</td>\n",
       "      <td>vhigh</td>\n",
       "      <td>2</td>\n",
       "      <td>2</td>\n",
       "      <td>small</td>\n",
       "      <td>med</td>\n",
       "      <td>unacc</td>\n",
       "    </tr>\n",
       "    <tr>\n",
       "      <th>2</th>\n",
       "      <td>vhigh</td>\n",
       "      <td>vhigh</td>\n",
       "      <td>2</td>\n",
       "      <td>2</td>\n",
       "      <td>small</td>\n",
       "      <td>high</td>\n",
       "      <td>unacc</td>\n",
       "    </tr>\n",
       "    <tr>\n",
       "      <th>3</th>\n",
       "      <td>vhigh</td>\n",
       "      <td>vhigh</td>\n",
       "      <td>2</td>\n",
       "      <td>2</td>\n",
       "      <td>med</td>\n",
       "      <td>low</td>\n",
       "      <td>unacc</td>\n",
       "    </tr>\n",
       "    <tr>\n",
       "      <th>4</th>\n",
       "      <td>vhigh</td>\n",
       "      <td>vhigh</td>\n",
       "      <td>2</td>\n",
       "      <td>2</td>\n",
       "      <td>med</td>\n",
       "      <td>med</td>\n",
       "      <td>unacc</td>\n",
       "    </tr>\n",
       "  </tbody>\n",
       "</table>\n",
       "</div>"
      ],
      "text/plain": [
       "  Buying_Price Maintenance_Price No_of_Doors Person_Capacity Size_of_Luggage  \\\n",
       "0        vhigh             vhigh           2               2           small   \n",
       "1        vhigh             vhigh           2               2           small   \n",
       "2        vhigh             vhigh           2               2           small   \n",
       "3        vhigh             vhigh           2               2             med   \n",
       "4        vhigh             vhigh           2               2             med   \n",
       "\n",
       "  Safety Car_Acceptability  \n",
       "0    low             unacc  \n",
       "1    med             unacc  \n",
       "2   high             unacc  \n",
       "3    low             unacc  \n",
       "4    med             unacc  "
      ]
     },
     "execution_count": 4,
     "metadata": {},
     "output_type": "execute_result"
    }
   ],
   "source": [
    "data.head()"
   ]
  },
  {
   "cell_type": "markdown",
   "id": "60346ec3",
   "metadata": {},
   "source": [
    "Using the *value_counts* method we can view the distribution of categorical labels in the columns."
   ]
  },
  {
   "cell_type": "code",
   "execution_count": 6,
   "id": "4650532f",
   "metadata": {},
   "outputs": [
    {
     "name": "stdout",
     "output_type": "stream",
     "text": [
      "Buying_Price\n",
      "vhigh    432\n",
      "high     432\n",
      "med      432\n",
      "low      432\n",
      "Name: Buying_Price, dtype: int64\n",
      "-----------------------------------------\n",
      "Maintenance_Price\n",
      "vhigh    432\n",
      "high     432\n",
      "med      432\n",
      "low      432\n",
      "Name: Maintenance_Price, dtype: int64\n",
      "-----------------------------------------\n",
      "No_of_Doors\n",
      "2        432\n",
      "3        432\n",
      "4        432\n",
      "5more    432\n",
      "Name: No_of_Doors, dtype: int64\n",
      "-----------------------------------------\n",
      "Person_Capacity\n",
      "2       576\n",
      "4       576\n",
      "more    576\n",
      "Name: Person_Capacity, dtype: int64\n",
      "-----------------------------------------\n",
      "Size_of_Luggage\n",
      "small    576\n",
      "med      576\n",
      "big      576\n",
      "Name: Size_of_Luggage, dtype: int64\n",
      "-----------------------------------------\n",
      "Safety\n",
      "low     576\n",
      "med     576\n",
      "high    576\n",
      "Name: Safety, dtype: int64\n",
      "-----------------------------------------\n",
      "Car_Acceptability\n",
      "unacc    1210\n",
      "acc       384\n",
      "good       69\n",
      "vgood      65\n",
      "Name: Car_Acceptability, dtype: int64\n",
      "-----------------------------------------\n"
     ]
    }
   ],
   "source": [
    "for col in list(data.columns):\n",
    "    print(col)\n",
    "    print(data[col].value_counts())\n",
    "    print('-----------------------------------------')"
   ]
  },
  {
   "cell_type": "markdown",
   "id": "1cdfd804",
   "metadata": {},
   "source": [
    "Which columns contain Nominal and which contain Ordinal Categorical data?\n",
    "\n",
    "$\\Box$\n",
    "\n",
    "### Encodings\n",
    "\n",
    "Machine Learning algorithms cannot make sense of categoical data.  Thus, we need a way to transform categorical data into numbers so that ML algorithms can use them.\n",
    "\n",
    "*Encodings* are a way to transform catgorical data into discrete quantitative data.  \n",
    "\n",
    "#### One-Hot Encoding\n",
    "\n",
    "The *one-hot encoding* scheme essentially transforms a categorical column into a column of binary vectors.\n",
    "\n",
    "The Sci-kit Learn one-hot encoder implements this idea.  Check out the [user guide](https://scikit-learn.org/stable/data_transforms.html). \n",
    "\n",
    "##### Example 2\n",
    "\n",
    "We continue to work with the Car Acceptability dataset.  \n",
    "\n",
    "First, we rename columns and modify the label column."
   ]
  },
  {
   "cell_type": "code",
   "execution_count": 5,
   "id": "28cc244b",
   "metadata": {},
   "outputs": [],
   "source": [
    "data = data.rename(columns = {'Buying_Price':'buy$',\n",
    " 'Maintenance_Price':'maintain$',\n",
    " 'No_of_Doors':\"num_doors\",\n",
    " 'Person_Capacity':'num_seats',\n",
    " 'Size_of_Luggage':'luggage',\n",
    " 'Safety':'safety',\n",
    " 'Car_Acceptability':'label'})"
   ]
  },
  {
   "cell_type": "code",
   "execution_count": 6,
   "id": "1158bd6f",
   "metadata": {},
   "outputs": [],
   "source": [
    "data['label'] = data.label.apply(lambda x: 0 if x == 'unacc' else 1)"
   ]
  },
  {
   "cell_type": "code",
   "execution_count": 7,
   "id": "49c8bde6",
   "metadata": {},
   "outputs": [
    {
     "data": {
      "text/html": [
       "<div>\n",
       "<style scoped>\n",
       "    .dataframe tbody tr th:only-of-type {\n",
       "        vertical-align: middle;\n",
       "    }\n",
       "\n",
       "    .dataframe tbody tr th {\n",
       "        vertical-align: top;\n",
       "    }\n",
       "\n",
       "    .dataframe thead th {\n",
       "        text-align: right;\n",
       "    }\n",
       "</style>\n",
       "<table border=\"1\" class=\"dataframe\">\n",
       "  <thead>\n",
       "    <tr style=\"text-align: right;\">\n",
       "      <th></th>\n",
       "      <th>buy$</th>\n",
       "      <th>maintain$</th>\n",
       "      <th>num_doors</th>\n",
       "      <th>num_seats</th>\n",
       "      <th>luggage</th>\n",
       "      <th>safety</th>\n",
       "      <th>label</th>\n",
       "    </tr>\n",
       "  </thead>\n",
       "  <tbody>\n",
       "    <tr>\n",
       "      <th>0</th>\n",
       "      <td>vhigh</td>\n",
       "      <td>vhigh</td>\n",
       "      <td>2</td>\n",
       "      <td>2</td>\n",
       "      <td>small</td>\n",
       "      <td>low</td>\n",
       "      <td>0</td>\n",
       "    </tr>\n",
       "    <tr>\n",
       "      <th>1</th>\n",
       "      <td>vhigh</td>\n",
       "      <td>vhigh</td>\n",
       "      <td>2</td>\n",
       "      <td>2</td>\n",
       "      <td>small</td>\n",
       "      <td>med</td>\n",
       "      <td>0</td>\n",
       "    </tr>\n",
       "    <tr>\n",
       "      <th>2</th>\n",
       "      <td>vhigh</td>\n",
       "      <td>vhigh</td>\n",
       "      <td>2</td>\n",
       "      <td>2</td>\n",
       "      <td>small</td>\n",
       "      <td>high</td>\n",
       "      <td>0</td>\n",
       "    </tr>\n",
       "    <tr>\n",
       "      <th>3</th>\n",
       "      <td>vhigh</td>\n",
       "      <td>vhigh</td>\n",
       "      <td>2</td>\n",
       "      <td>2</td>\n",
       "      <td>med</td>\n",
       "      <td>low</td>\n",
       "      <td>0</td>\n",
       "    </tr>\n",
       "    <tr>\n",
       "      <th>4</th>\n",
       "      <td>vhigh</td>\n",
       "      <td>vhigh</td>\n",
       "      <td>2</td>\n",
       "      <td>2</td>\n",
       "      <td>med</td>\n",
       "      <td>med</td>\n",
       "      <td>0</td>\n",
       "    </tr>\n",
       "  </tbody>\n",
       "</table>\n",
       "</div>"
      ],
      "text/plain": [
       "    buy$ maintain$ num_doors num_seats luggage safety  label\n",
       "0  vhigh     vhigh         2         2   small    low      0\n",
       "1  vhigh     vhigh         2         2   small    med      0\n",
       "2  vhigh     vhigh         2         2   small   high      0\n",
       "3  vhigh     vhigh         2         2     med    low      0\n",
       "4  vhigh     vhigh         2         2     med    med      0"
      ]
     },
     "execution_count": 7,
     "metadata": {},
     "output_type": "execute_result"
    }
   ],
   "source": [
    "data.head()"
   ]
  },
  {
   "cell_type": "markdown",
   "id": "c49f006e",
   "metadata": {},
   "source": [
    "To make this example simpler, we look only at one column."
   ]
  },
  {
   "cell_type": "code",
   "execution_count": 20,
   "id": "90c73069",
   "metadata": {},
   "outputs": [
    {
     "data": {
      "text/html": [
       "<div>\n",
       "<style scoped>\n",
       "    .dataframe tbody tr th:only-of-type {\n",
       "        vertical-align: middle;\n",
       "    }\n",
       "\n",
       "    .dataframe tbody tr th {\n",
       "        vertical-align: top;\n",
       "    }\n",
       "\n",
       "    .dataframe thead th {\n",
       "        text-align: right;\n",
       "    }\n",
       "</style>\n",
       "<table border=\"1\" class=\"dataframe\">\n",
       "  <thead>\n",
       "    <tr style=\"text-align: right;\">\n",
       "      <th></th>\n",
       "      <th>luggage</th>\n",
       "      <th>label</th>\n",
       "    </tr>\n",
       "  </thead>\n",
       "  <tbody>\n",
       "    <tr>\n",
       "      <th>0</th>\n",
       "      <td>small</td>\n",
       "      <td>1</td>\n",
       "    </tr>\n",
       "    <tr>\n",
       "      <th>1</th>\n",
       "      <td>small</td>\n",
       "      <td>1</td>\n",
       "    </tr>\n",
       "    <tr>\n",
       "      <th>2</th>\n",
       "      <td>small</td>\n",
       "      <td>1</td>\n",
       "    </tr>\n",
       "    <tr>\n",
       "      <th>3</th>\n",
       "      <td>med</td>\n",
       "      <td>1</td>\n",
       "    </tr>\n",
       "    <tr>\n",
       "      <th>4</th>\n",
       "      <td>med</td>\n",
       "      <td>1</td>\n",
       "    </tr>\n",
       "  </tbody>\n",
       "</table>\n",
       "</div>"
      ],
      "text/plain": [
       "  luggage  label\n",
       "0   small      1\n",
       "1   small      1\n",
       "2   small      1\n",
       "3     med      1\n",
       "4     med      1"
      ]
     },
     "execution_count": 20,
     "metadata": {},
     "output_type": "execute_result"
    }
   ],
   "source": [
    "example = data[['luggage', 'label']]\n",
    "example.head()"
   ]
  },
  {
   "cell_type": "markdown",
   "id": "9b8b6e90",
   "metadata": {},
   "source": [
    "##### Step 1: Prep for the Transform\n",
    "\n",
    "Value_counts helps to see what the different labels are."
   ]
  },
  {
   "cell_type": "code",
   "execution_count": 21,
   "id": "1c3e152d",
   "metadata": {},
   "outputs": [
    {
     "data": {
      "text/plain": [
       "small    576\n",
       "med      576\n",
       "big      576\n",
       "Name: luggage, dtype: int64"
      ]
     },
     "execution_count": 21,
     "metadata": {},
     "output_type": "execute_result"
    }
   ],
   "source": [
    "example['luggage'].value_counts()"
   ]
  },
  {
   "cell_type": "markdown",
   "id": "bad85cd3",
   "metadata": {},
   "source": [
    "We make a list of labels."
   ]
  },
  {
   "cell_type": "code",
   "execution_count": 22,
   "id": "29e2bed8",
   "metadata": {},
   "outputs": [
    {
     "data": {
      "text/plain": [
       "['big', 'small', 'med']"
      ]
     },
     "execution_count": 22,
     "metadata": {},
     "output_type": "execute_result"
    }
   ],
   "source": [
    "sizes = list(set(example['luggage'].to_numpy()))\n",
    "sizes"
   ]
  },
  {
   "cell_type": "markdown",
   "id": "02466163",
   "metadata": {},
   "source": [
    "Construct input array X.  Sci-Kit Learn likes NumPy arrays, but I think a DataFrame will likely work too."
   ]
  },
  {
   "cell_type": "code",
   "execution_count": 23,
   "id": "c1b827b9",
   "metadata": {},
   "outputs": [],
   "source": [
    "X = example['luggage'].to_numpy().reshape(-1,1)"
   ]
  },
  {
   "cell_type": "markdown",
   "id": "384f5db1",
   "metadata": {},
   "source": [
    "Note that X has a weird shape."
   ]
  },
  {
   "cell_type": "code",
   "execution_count": 24,
   "id": "1bb4d04c",
   "metadata": {},
   "outputs": [
    {
     "data": {
      "text/plain": [
       "array([['small'],\n",
       "       ['small'],\n",
       "       ['small'],\n",
       "       ...,\n",
       "       ['big'],\n",
       "       ['big'],\n",
       "       ['big']], dtype=object)"
      ]
     },
     "execution_count": 24,
     "metadata": {},
     "output_type": "execute_result"
    }
   ],
   "source": [
    "X"
   ]
  },
  {
   "cell_type": "markdown",
   "id": "3cb042dd",
   "metadata": {},
   "source": [
    "##### Step 2: Transform the Data\n",
    "\n",
    "Instatiate and fit."
   ]
  },
  {
   "cell_type": "code",
   "execution_count": 25,
   "id": "b5ab904c",
   "metadata": {},
   "outputs": [
    {
     "data": {
      "text/plain": [
       "OneHotEncoder(categories=[['big', 'small', 'med']])"
      ]
     },
     "execution_count": 25,
     "metadata": {},
     "output_type": "execute_result"
    }
   ],
   "source": [
    "enc = OneHotEncoder(categories = [sizes])\n",
    "enc.fit(X)"
   ]
  },
  {
   "cell_type": "markdown",
   "id": "9a61d21d",
   "metadata": {},
   "source": [
    "Transform."
   ]
  },
  {
   "cell_type": "code",
   "execution_count": 26,
   "id": "05d45677",
   "metadata": {},
   "outputs": [],
   "source": [
    "Y = enc.transform(X).toarray()"
   ]
  },
  {
   "cell_type": "markdown",
   "id": "13037b3f",
   "metadata": {},
   "source": [
    "Display the results."
   ]
  },
  {
   "cell_type": "code",
   "execution_count": 27,
   "id": "884eb211",
   "metadata": {},
   "outputs": [],
   "source": [
    "df = pd.DataFrame(Y, columns = sizes)"
   ]
  },
  {
   "cell_type": "code",
   "execution_count": 28,
   "id": "63ca9d81",
   "metadata": {},
   "outputs": [],
   "source": [
    "df['luggage'] = example['luggage']\n",
    "df = df[['luggage']+sizes]"
   ]
  },
  {
   "cell_type": "code",
   "execution_count": 29,
   "id": "097366bd",
   "metadata": {},
   "outputs": [
    {
     "data": {
      "text/html": [
       "<div>\n",
       "<style scoped>\n",
       "    .dataframe tbody tr th:only-of-type {\n",
       "        vertical-align: middle;\n",
       "    }\n",
       "\n",
       "    .dataframe tbody tr th {\n",
       "        vertical-align: top;\n",
       "    }\n",
       "\n",
       "    .dataframe thead th {\n",
       "        text-align: right;\n",
       "    }\n",
       "</style>\n",
       "<table border=\"1\" class=\"dataframe\">\n",
       "  <thead>\n",
       "    <tr style=\"text-align: right;\">\n",
       "      <th></th>\n",
       "      <th>luggage</th>\n",
       "      <th>big</th>\n",
       "      <th>small</th>\n",
       "      <th>med</th>\n",
       "    </tr>\n",
       "  </thead>\n",
       "  <tbody>\n",
       "    <tr>\n",
       "      <th>0</th>\n",
       "      <td>small</td>\n",
       "      <td>0.0</td>\n",
       "      <td>1.0</td>\n",
       "      <td>0.0</td>\n",
       "    </tr>\n",
       "    <tr>\n",
       "      <th>1</th>\n",
       "      <td>small</td>\n",
       "      <td>0.0</td>\n",
       "      <td>1.0</td>\n",
       "      <td>0.0</td>\n",
       "    </tr>\n",
       "    <tr>\n",
       "      <th>2</th>\n",
       "      <td>small</td>\n",
       "      <td>0.0</td>\n",
       "      <td>1.0</td>\n",
       "      <td>0.0</td>\n",
       "    </tr>\n",
       "    <tr>\n",
       "      <th>3</th>\n",
       "      <td>med</td>\n",
       "      <td>0.0</td>\n",
       "      <td>0.0</td>\n",
       "      <td>1.0</td>\n",
       "    </tr>\n",
       "    <tr>\n",
       "      <th>4</th>\n",
       "      <td>med</td>\n",
       "      <td>0.0</td>\n",
       "      <td>0.0</td>\n",
       "      <td>1.0</td>\n",
       "    </tr>\n",
       "    <tr>\n",
       "      <th>5</th>\n",
       "      <td>med</td>\n",
       "      <td>0.0</td>\n",
       "      <td>0.0</td>\n",
       "      <td>1.0</td>\n",
       "    </tr>\n",
       "    <tr>\n",
       "      <th>6</th>\n",
       "      <td>big</td>\n",
       "      <td>1.0</td>\n",
       "      <td>0.0</td>\n",
       "      <td>0.0</td>\n",
       "    </tr>\n",
       "    <tr>\n",
       "      <th>7</th>\n",
       "      <td>big</td>\n",
       "      <td>1.0</td>\n",
       "      <td>0.0</td>\n",
       "      <td>0.0</td>\n",
       "    </tr>\n",
       "    <tr>\n",
       "      <th>8</th>\n",
       "      <td>big</td>\n",
       "      <td>1.0</td>\n",
       "      <td>0.0</td>\n",
       "      <td>0.0</td>\n",
       "    </tr>\n",
       "    <tr>\n",
       "      <th>9</th>\n",
       "      <td>small</td>\n",
       "      <td>0.0</td>\n",
       "      <td>1.0</td>\n",
       "      <td>0.0</td>\n",
       "    </tr>\n",
       "  </tbody>\n",
       "</table>\n",
       "</div>"
      ],
      "text/plain": [
       "  luggage  big  small  med\n",
       "0   small  0.0    1.0  0.0\n",
       "1   small  0.0    1.0  0.0\n",
       "2   small  0.0    1.0  0.0\n",
       "3     med  0.0    0.0  1.0\n",
       "4     med  0.0    0.0  1.0\n",
       "5     med  0.0    0.0  1.0\n",
       "6     big  1.0    0.0  0.0\n",
       "7     big  1.0    0.0  0.0\n",
       "8     big  1.0    0.0  0.0\n",
       "9   small  0.0    1.0  0.0"
      ]
     },
     "execution_count": 29,
     "metadata": {},
     "output_type": "execute_result"
    }
   ],
   "source": [
    "df.head(10)"
   ]
  },
  {
   "cell_type": "markdown",
   "id": "808e67ba",
   "metadata": {},
   "source": [
    "$\\Box$\n",
    "\n",
    "##### Example 3\n",
    "\n",
    "Now, we perform the encoding on the entire dataset and train a descision tree classifier.\n",
    "\n",
    "Visualize and determine a baseline."
   ]
  },
  {
   "cell_type": "code",
   "execution_count": 47,
   "id": "2e03d98a",
   "metadata": {},
   "outputs": [
    {
     "data": {
      "image/png": "[encoded data removed]",
      "text/plain": [
       "<Figure size 432x288 with 1 Axes>"
      ]
     },
     "metadata": {
      "needs_background": "light"
     },
     "output_type": "display_data"
    }
   ],
   "source": [
    "#0 = unacceptable, 1 = acceptable\n",
    "ax = sns.countplot(x=\"label\", data=data)"
   ]
  },
  {
   "cell_type": "markdown",
   "id": "31e65dcc",
   "metadata": {},
   "source": [
    "##### Baseline"
   ]
  },
  {
   "cell_type": "code",
   "execution_count": 48,
   "id": "35c589d5",
   "metadata": {},
   "outputs": [
    {
     "data": {
      "text/plain": [
       "0.7002314814814815"
      ]
     },
     "execution_count": 48,
     "metadata": {},
     "output_type": "execute_result"
    }
   ],
   "source": [
    "(data['label']==0).sum()/data.shape[0]"
   ]
  },
  {
   "cell_type": "markdown",
   "id": "00f14f93",
   "metadata": {},
   "source": [
    "##### Step 1: Prep"
   ]
  },
  {
   "cell_type": "code",
   "execution_count": 49,
   "id": "4923c876",
   "metadata": {},
   "outputs": [],
   "source": [
    "#Create categories\n",
    "buy_amount = list(set(data['buy$'].to_numpy()))\n",
    "maintain_amount = list(set(data['maintain$'].to_numpy()))\n",
    "doors = list(set(data['num_doors'].to_numpy()))\n",
    "seats = list(set(data['num_seats'].to_numpy()))\n",
    "luggage_sizes = list(set(data['luggage'].to_numpy()))\n",
    "ratings = list(set(data['safety'].to_numpy()))"
   ]
  },
  {
   "cell_type": "code",
   "execution_count": 50,
   "id": "baab03ee",
   "metadata": {},
   "outputs": [],
   "source": [
    "X = data.iloc[:, :-1].to_numpy()\n",
    "y = data['label'].to_numpy()"
   ]
  },
  {
   "cell_type": "markdown",
   "id": "9e0d0d94",
   "metadata": {},
   "source": [
    "##### Step 2: Transform"
   ]
  },
  {
   "cell_type": "code",
   "execution_count": 51,
   "id": "2838018e",
   "metadata": {},
   "outputs": [],
   "source": [
    "one_hot = OneHotEncoder(categories=[buy_amount, maintain_amount, doors, seats, luggage_sizes, ratings])"
   ]
  },
  {
   "cell_type": "code",
   "execution_count": 52,
   "id": "afcfe1f6",
   "metadata": {},
   "outputs": [
    {
     "data": {
      "text/plain": [
       "OneHotEncoder(categories=[['vhigh', 'high', 'med', 'low'],\n",
       "                          ['vhigh', 'high', 'med', 'low'],\n",
       "                          ['3', '2', '5more', '4'], ['2', 'more', '4'],\n",
       "                          ['big', 'small', 'med'], ['high', 'med', 'low']])"
      ]
     },
     "execution_count": 52,
     "metadata": {},
     "output_type": "execute_result"
    }
   ],
   "source": [
    "one_hot.fit(X)"
   ]
  },
  {
   "cell_type": "code",
   "execution_count": 53,
   "id": "cfb48e92",
   "metadata": {},
   "outputs": [],
   "source": [
    "X = one_hot.transform(X).toarray()"
   ]
  },
  {
   "cell_type": "code",
   "execution_count": 54,
   "id": "f78a7271",
   "metadata": {},
   "outputs": [
    {
     "data": {
      "text/plain": [
       "array([[1., 0., 0., ..., 0., 0., 1.],\n",
       "       [1., 0., 0., ..., 0., 1., 0.],\n",
       "       [1., 0., 0., ..., 1., 0., 0.],\n",
       "       ...,\n",
       "       [0., 0., 0., ..., 0., 0., 1.],\n",
       "       [0., 0., 0., ..., 0., 1., 0.],\n",
       "       [0., 0., 0., ..., 1., 0., 0.]])"
      ]
     },
     "execution_count": 54,
     "metadata": {},
     "output_type": "execute_result"
    }
   ],
   "source": [
    "X"
   ]
  },
  {
   "cell_type": "markdown",
   "id": "d68f7a68",
   "metadata": {},
   "source": [
    "##### Step 3: Training"
   ]
  },
  {
   "cell_type": "code",
   "execution_count": 55,
   "id": "6349bfa3",
   "metadata": {},
   "outputs": [],
   "source": [
    "X_train,X_test,y_train,y_test=train_test_split(X, y, test_size=0.25, random_state=250)"
   ]
  },
  {
   "cell_type": "markdown",
   "id": "5ca52791",
   "metadata": {},
   "source": [
    "Instatiate and fit."
   ]
  },
  {
   "cell_type": "code",
   "execution_count": 56,
   "id": "b1c99b3f",
   "metadata": {},
   "outputs": [
    {
     "data": {
      "text/plain": [
       "DecisionTreeClassifier()"
      ]
     },
     "execution_count": 56,
     "metadata": {},
     "output_type": "execute_result"
    }
   ],
   "source": [
    "decisionTree=DecisionTreeClassifier()\n",
    "decisionTree.fit(X_train, y_train)"
   ]
  },
  {
   "cell_type": "markdown",
   "id": "b6ee0e7f",
   "metadata": {},
   "source": [
    "Predict."
   ]
  },
  {
   "cell_type": "code",
   "execution_count": 57,
   "id": "758e8a88",
   "metadata": {},
   "outputs": [],
   "source": [
    "y_pred=decisionTree.predict(X_test)"
   ]
  },
  {
   "cell_type": "markdown",
   "id": "979be886",
   "metadata": {},
   "source": [
    "Accuracy."
   ]
  },
  {
   "cell_type": "code",
   "execution_count": 58,
   "id": "6bd85b97",
   "metadata": {},
   "outputs": [
    {
     "data": {
      "text/plain": [
       "0.9768518518518519"
      ]
     },
     "execution_count": 58,
     "metadata": {},
     "output_type": "execute_result"
    }
   ],
   "source": [
    "(y_pred==y_test).sum()/len(y_test)"
   ]
  },
  {
   "cell_type": "code",
   "execution_count": 59,
   "id": "fe2a5bae",
   "metadata": {},
   "outputs": [
    {
     "data": {
      "text/plain": [
       "51"
      ]
     },
     "execution_count": 59,
     "metadata": {},
     "output_type": "execute_result"
    }
   ],
   "source": [
    "decisionTree.get_n_leaves()"
   ]
  },
  {
   "cell_type": "markdown",
   "id": "83faae12",
   "metadata": {},
   "source": [
    "$\\Box$\n",
    "\n",
    "#### Ordinal Encoding\n",
    "\n",
    "We have seen ordinal encoding in the Imputation Notebook.\n",
    "\n",
    "The Sci-Kit Learn Ordinal Encoder transforms a categorical column into a column containing ordinal data.\n",
    "\n",
    "##### Example 4"
   ]
  },
  {
   "cell_type": "code",
   "execution_count": 8,
   "id": "adc750f4",
   "metadata": {},
   "outputs": [
    {
     "data": {
      "text/html": [
       "<div>\n",
       "<style scoped>\n",
       "    .dataframe tbody tr th:only-of-type {\n",
       "        vertical-align: middle;\n",
       "    }\n",
       "\n",
       "    .dataframe tbody tr th {\n",
       "        vertical-align: top;\n",
       "    }\n",
       "\n",
       "    .dataframe thead th {\n",
       "        text-align: right;\n",
       "    }\n",
       "</style>\n",
       "<table border=\"1\" class=\"dataframe\">\n",
       "  <thead>\n",
       "    <tr style=\"text-align: right;\">\n",
       "      <th></th>\n",
       "      <th>buy$</th>\n",
       "      <th>maintain$</th>\n",
       "      <th>num_doors</th>\n",
       "      <th>num_seats</th>\n",
       "      <th>luggage</th>\n",
       "      <th>safety</th>\n",
       "      <th>label</th>\n",
       "    </tr>\n",
       "  </thead>\n",
       "  <tbody>\n",
       "    <tr>\n",
       "      <th>0</th>\n",
       "      <td>vhigh</td>\n",
       "      <td>vhigh</td>\n",
       "      <td>2</td>\n",
       "      <td>2</td>\n",
       "      <td>small</td>\n",
       "      <td>low</td>\n",
       "      <td>0</td>\n",
       "    </tr>\n",
       "    <tr>\n",
       "      <th>1</th>\n",
       "      <td>vhigh</td>\n",
       "      <td>vhigh</td>\n",
       "      <td>2</td>\n",
       "      <td>2</td>\n",
       "      <td>small</td>\n",
       "      <td>med</td>\n",
       "      <td>0</td>\n",
       "    </tr>\n",
       "    <tr>\n",
       "      <th>2</th>\n",
       "      <td>vhigh</td>\n",
       "      <td>vhigh</td>\n",
       "      <td>2</td>\n",
       "      <td>2</td>\n",
       "      <td>small</td>\n",
       "      <td>high</td>\n",
       "      <td>0</td>\n",
       "    </tr>\n",
       "    <tr>\n",
       "      <th>3</th>\n",
       "      <td>vhigh</td>\n",
       "      <td>vhigh</td>\n",
       "      <td>2</td>\n",
       "      <td>2</td>\n",
       "      <td>med</td>\n",
       "      <td>low</td>\n",
       "      <td>0</td>\n",
       "    </tr>\n",
       "    <tr>\n",
       "      <th>4</th>\n",
       "      <td>vhigh</td>\n",
       "      <td>vhigh</td>\n",
       "      <td>2</td>\n",
       "      <td>2</td>\n",
       "      <td>med</td>\n",
       "      <td>med</td>\n",
       "      <td>0</td>\n",
       "    </tr>\n",
       "  </tbody>\n",
       "</table>\n",
       "</div>"
      ],
      "text/plain": [
       "    buy$ maintain$ num_doors num_seats luggage safety  label\n",
       "0  vhigh     vhigh         2         2   small    low      0\n",
       "1  vhigh     vhigh         2         2   small    med      0\n",
       "2  vhigh     vhigh         2         2   small   high      0\n",
       "3  vhigh     vhigh         2         2     med    low      0\n",
       "4  vhigh     vhigh         2         2     med    med      0"
      ]
     },
     "execution_count": 8,
     "metadata": {},
     "output_type": "execute_result"
    }
   ],
   "source": [
    "data.head()"
   ]
  },
  {
   "cell_type": "code",
   "execution_count": 9,
   "id": "97909670",
   "metadata": {},
   "outputs": [],
   "source": [
    "ord_ex = data[['num_doors', 'label']]"
   ]
  },
  {
   "cell_type": "code",
   "execution_count": 10,
   "id": "4c9e0856",
   "metadata": {},
   "outputs": [
    {
     "data": {
      "text/html": [
       "<div>\n",
       "<style scoped>\n",
       "    .dataframe tbody tr th:only-of-type {\n",
       "        vertical-align: middle;\n",
       "    }\n",
       "\n",
       "    .dataframe tbody tr th {\n",
       "        vertical-align: top;\n",
       "    }\n",
       "\n",
       "    .dataframe thead th {\n",
       "        text-align: right;\n",
       "    }\n",
       "</style>\n",
       "<table border=\"1\" class=\"dataframe\">\n",
       "  <thead>\n",
       "    <tr style=\"text-align: right;\">\n",
       "      <th></th>\n",
       "      <th>num_doors</th>\n",
       "      <th>label</th>\n",
       "    </tr>\n",
       "  </thead>\n",
       "  <tbody>\n",
       "    <tr>\n",
       "      <th>0</th>\n",
       "      <td>2</td>\n",
       "      <td>0</td>\n",
       "    </tr>\n",
       "    <tr>\n",
       "      <th>1</th>\n",
       "      <td>2</td>\n",
       "      <td>0</td>\n",
       "    </tr>\n",
       "    <tr>\n",
       "      <th>2</th>\n",
       "      <td>2</td>\n",
       "      <td>0</td>\n",
       "    </tr>\n",
       "    <tr>\n",
       "      <th>3</th>\n",
       "      <td>2</td>\n",
       "      <td>0</td>\n",
       "    </tr>\n",
       "    <tr>\n",
       "      <th>4</th>\n",
       "      <td>2</td>\n",
       "      <td>0</td>\n",
       "    </tr>\n",
       "  </tbody>\n",
       "</table>\n",
       "</div>"
      ],
      "text/plain": [
       "  num_doors  label\n",
       "0         2      0\n",
       "1         2      0\n",
       "2         2      0\n",
       "3         2      0\n",
       "4         2      0"
      ]
     },
     "execution_count": 10,
     "metadata": {},
     "output_type": "execute_result"
    }
   ],
   "source": [
    "ord_ex.head()"
   ]
  },
  {
   "cell_type": "code",
   "execution_count": 30,
   "id": "3b4ee057",
   "metadata": {},
   "outputs": [
    {
     "data": {
      "text/plain": [
       "['2', '3', '4', '5more']"
      ]
     },
     "execution_count": 30,
     "metadata": {},
     "output_type": "execute_result"
    }
   ],
   "source": [
    "doors = ['2', '3', '4', '5more']\n",
    "doors"
   ]
  },
  {
   "cell_type": "code",
   "execution_count": 31,
   "id": "2bce7316",
   "metadata": {},
   "outputs": [],
   "source": [
    "X = ord_ex['num_doors'].to_numpy().reshape(-1,1)"
   ]
  },
  {
   "cell_type": "code",
   "execution_count": 32,
   "id": "cbccdefb",
   "metadata": {},
   "outputs": [
    {
     "data": {
      "text/plain": [
       "OrdinalEncoder(categories=[['2', '3', '4', '5more']])"
      ]
     },
     "execution_count": 32,
     "metadata": {},
     "output_type": "execute_result"
    }
   ],
   "source": [
    "ord_enc = OrdinalEncoder(categories = [doors])\n",
    "ord_enc.fit(X)"
   ]
  },
  {
   "cell_type": "code",
   "execution_count": 33,
   "id": "64f8a3d3",
   "metadata": {},
   "outputs": [],
   "source": [
    "Y = ord_enc.transform(X)"
   ]
  },
  {
   "cell_type": "code",
   "execution_count": 34,
   "id": "dfb1e8e5",
   "metadata": {},
   "outputs": [],
   "source": [
    "df1 = pd.DataFrame(Y, columns = ['num_doors_after_encoding'])"
   ]
  },
  {
   "cell_type": "code",
   "execution_count": 35,
   "id": "64d41b5f",
   "metadata": {},
   "outputs": [],
   "source": [
    "df1['num_doors_before_encoding'] = data['num_doors']"
   ]
  },
  {
   "cell_type": "code",
   "execution_count": 37,
   "id": "866e72f3",
   "metadata": {},
   "outputs": [],
   "source": [
    "df1 = df1[['num_doors_before_encoding', 'num_doors_after_encoding']]"
   ]
  },
  {
   "cell_type": "code",
   "execution_count": 38,
   "id": "fad10c09",
   "metadata": {},
   "outputs": [
    {
     "data": {
      "text/html": [
       "<div>\n",
       "<style scoped>\n",
       "    .dataframe tbody tr th:only-of-type {\n",
       "        vertical-align: middle;\n",
       "    }\n",
       "\n",
       "    .dataframe tbody tr th {\n",
       "        vertical-align: top;\n",
       "    }\n",
       "\n",
       "    .dataframe thead th {\n",
       "        text-align: right;\n",
       "    }\n",
       "</style>\n",
       "<table border=\"1\" class=\"dataframe\">\n",
       "  <thead>\n",
       "    <tr style=\"text-align: right;\">\n",
       "      <th></th>\n",
       "      <th>num_doors_before_encoding</th>\n",
       "      <th>num_doors_after_encoding</th>\n",
       "    </tr>\n",
       "  </thead>\n",
       "  <tbody>\n",
       "    <tr>\n",
       "      <th>0</th>\n",
       "      <td>2</td>\n",
       "      <td>0.0</td>\n",
       "    </tr>\n",
       "    <tr>\n",
       "      <th>1</th>\n",
       "      <td>2</td>\n",
       "      <td>0.0</td>\n",
       "    </tr>\n",
       "    <tr>\n",
       "      <th>2</th>\n",
       "      <td>2</td>\n",
       "      <td>0.0</td>\n",
       "    </tr>\n",
       "    <tr>\n",
       "      <th>3</th>\n",
       "      <td>2</td>\n",
       "      <td>0.0</td>\n",
       "    </tr>\n",
       "    <tr>\n",
       "      <th>4</th>\n",
       "      <td>2</td>\n",
       "      <td>0.0</td>\n",
       "    </tr>\n",
       "  </tbody>\n",
       "</table>\n",
       "</div>"
      ],
      "text/plain": [
       "  num_doors_before_encoding  num_doors_after_encoding\n",
       "0                         2                       0.0\n",
       "1                         2                       0.0\n",
       "2                         2                       0.0\n",
       "3                         2                       0.0\n",
       "4                         2                       0.0"
      ]
     },
     "execution_count": 38,
     "metadata": {},
     "output_type": "execute_result"
    }
   ],
   "source": [
    "df1.head()"
   ]
  },
  {
   "cell_type": "markdown",
   "id": "0f18f491",
   "metadata": {},
   "source": [
    "$\\Box$"
   ]
  },
  {
   "cell_type": "code",
   "execution_count": null,
   "id": "1c163abb",
   "metadata": {},
   "outputs": [],
   "source": []
  }
 ],
 "metadata": {
  "kernelspec": {
   "display_name": "Python 3 (ipykernel)",
   "language": "python",
   "name": "python3"
  },
  "language_info": {
   "codemirror_mode": {
    "name": "ipython",
    "version": 3
   },
   "file_extension": ".py",
   "mimetype": "text/x-python",
   "name": "python",
   "nbconvert_exporter": "python",
   "pygments_lexer": "ipython3",
   "version": "3.9.12"
  }
 },
 "nbformat": 4,
 "nbformat_minor": 5
}
