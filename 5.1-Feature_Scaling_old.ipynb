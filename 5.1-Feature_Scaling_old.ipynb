{
 "cells": [
  {
   "cell_type": "code",
   "execution_count": 1,
   "id": "a2449ab6",
   "metadata": {},
   "outputs": [],
   "source": [
    "import numpy as np\n",
    "from numpy import random\n",
    "import pandas as pd\n",
    "import sklearn as skl\n",
    "from sklearn.model_selection import train_test_split\n",
    "from sklearn.linear_model import LogisticRegression\n",
    "from sklearn.neighbors import KNeighborsClassifier\n",
    "from sklearn.preprocessing import StandardScaler\n",
    "from sklearn import datasets\n",
    "import seaborn as sns\n",
    "import matplotlib.pyplot as plt"
   ]
  },
  {
   "cell_type": "markdown",
   "id": "77ad24c9",
   "metadata": {},
   "source": [
    "### Feature Scaling\n",
    "\n"
   ]
  },
  {
   "cell_type": "code",
   "execution_count": 10,
   "id": "644986ce",
   "metadata": {},
   "outputs": [],
   "source": [
    "X = pd.DataFrame({'f1': 2*np.random.normal(size = (10**3,))+3, 'f2': 3*np.random.normal(size = (10**3,))+5,'f3': 5*np.random.normal(size = (10**3,))+10,'f4': 10*np.random.normal(size = (10**3,))+5,'f5': 50*np.random.normal(size = (10**3,))+30,})"
   ]
  },
  {
   "cell_type": "code",
   "execution_count": 11,
   "id": "df7e7ac2",
   "metadata": {},
   "outputs": [
    {
     "data": {
      "text/html": [
       "<div>\n",
       "<style scoped>\n",
       "    .dataframe tbody tr th:only-of-type {\n",
       "        vertical-align: middle;\n",
       "    }\n",
       "\n",
       "    .dataframe tbody tr th {\n",
       "        vertical-align: top;\n",
       "    }\n",
       "\n",
       "    .dataframe thead th {\n",
       "        text-align: right;\n",
       "    }\n",
       "</style>\n",
       "<table border=\"1\" class=\"dataframe\">\n",
       "  <thead>\n",
       "    <tr style=\"text-align: right;\">\n",
       "      <th></th>\n",
       "      <th>f1</th>\n",
       "      <th>f2</th>\n",
       "      <th>f3</th>\n",
       "      <th>f4</th>\n",
       "      <th>f5</th>\n",
       "    </tr>\n",
       "  </thead>\n",
       "  <tbody>\n",
       "    <tr>\n",
       "      <th>0</th>\n",
       "      <td>3.693314</td>\n",
       "      <td>3.918857</td>\n",
       "      <td>9.129043</td>\n",
       "      <td>8.061029</td>\n",
       "      <td>-34.393827</td>\n",
       "    </tr>\n",
       "    <tr>\n",
       "      <th>1</th>\n",
       "      <td>1.155110</td>\n",
       "      <td>5.654521</td>\n",
       "      <td>1.745544</td>\n",
       "      <td>7.736260</td>\n",
       "      <td>-73.630791</td>\n",
       "    </tr>\n",
       "    <tr>\n",
       "      <th>2</th>\n",
       "      <td>2.545163</td>\n",
       "      <td>3.587949</td>\n",
       "      <td>8.459221</td>\n",
       "      <td>15.036354</td>\n",
       "      <td>23.860423</td>\n",
       "    </tr>\n",
       "    <tr>\n",
       "      <th>3</th>\n",
       "      <td>0.693873</td>\n",
       "      <td>4.652788</td>\n",
       "      <td>9.976994</td>\n",
       "      <td>26.335342</td>\n",
       "      <td>97.578245</td>\n",
       "    </tr>\n",
       "    <tr>\n",
       "      <th>4</th>\n",
       "      <td>1.615275</td>\n",
       "      <td>4.430624</td>\n",
       "      <td>15.488691</td>\n",
       "      <td>-1.848418</td>\n",
       "      <td>55.213248</td>\n",
       "    </tr>\n",
       "  </tbody>\n",
       "</table>\n",
       "</div>"
      ],
      "text/plain": [
       "         f1        f2         f3         f4         f5\n",
       "0  3.693314  3.918857   9.129043   8.061029 -34.393827\n",
       "1  1.155110  5.654521   1.745544   7.736260 -73.630791\n",
       "2  2.545163  3.587949   8.459221  15.036354  23.860423\n",
       "3  0.693873  4.652788   9.976994  26.335342  97.578245\n",
       "4  1.615275  4.430624  15.488691  -1.848418  55.213248"
      ]
     },
     "execution_count": 11,
     "metadata": {},
     "output_type": "execute_result"
    }
   ],
   "source": [
    "X.head()"
   ]
  },
  {
   "cell_type": "code",
   "execution_count": 12,
   "id": "4cf60754",
   "metadata": {},
   "outputs": [
    {
     "data": {
      "text/plain": [
       "f1     3.020633\n",
       "f2     5.103718\n",
       "f3     9.727689\n",
       "f4     5.085123\n",
       "f5    30.086514\n",
       "dtype: float64"
      ]
     },
     "execution_count": 12,
     "metadata": {},
     "output_type": "execute_result"
    }
   ],
   "source": [
    "X.mean(axis = 0)"
   ]
  },
  {
   "cell_type": "code",
   "execution_count": 13,
   "id": "78be0b70",
   "metadata": {},
   "outputs": [
    {
     "data": {
      "text/plain": [
       "f1     1.923529\n",
       "f2     2.946259\n",
       "f3     4.965038\n",
       "f4    10.160869\n",
       "f5    50.110602\n",
       "dtype: float64"
      ]
     },
     "execution_count": 13,
     "metadata": {},
     "output_type": "execute_result"
    }
   ],
   "source": [
    "X.std(axis = 0)"
   ]
  },
  {
   "cell_type": "code",
   "execution_count": 14,
   "id": "e251d551",
   "metadata": {},
   "outputs": [],
   "source": [
    "y = np.random.choice(np.array([0,1]), size = (10**3,))"
   ]
  },
  {
   "cell_type": "code",
   "execution_count": 16,
   "id": "3694da83",
   "metadata": {},
   "outputs": [
    {
     "data": {
      "text/plain": [
       "0.491"
      ]
     },
     "execution_count": 16,
     "metadata": {},
     "output_type": "execute_result"
    }
   ],
   "source": [
    "(y==1).sum()/10**3"
   ]
  },
  {
   "cell_type": "code",
   "execution_count": null,
   "id": "d59ed4b5",
   "metadata": {},
   "outputs": [],
   "source": []
  },
  {
   "cell_type": "code",
   "execution_count": 22,
   "id": "f72dfd3b",
   "metadata": {},
   "outputs": [],
   "source": [
    "scaler=StandardScaler()"
   ]
  },
  {
   "cell_type": "code",
   "execution_count": 23,
   "id": "9808c287",
   "metadata": {},
   "outputs": [
    {
     "data": {
      "text/plain": [
       "['f1', 'f2', 'f3', 'f4', 'f5']"
      ]
     },
     "execution_count": 23,
     "metadata": {},
     "output_type": "execute_result"
    }
   ],
   "source": [
    "cols_to_scale = list(X.columns)\n",
    "cols_to_scale"
   ]
  },
  {
   "cell_type": "code",
   "execution_count": 30,
   "id": "95228a74",
   "metadata": {},
   "outputs": [],
   "source": [
    "X = scaler.fit_transform(X)"
   ]
  },
  {
   "cell_type": "code",
   "execution_count": 34,
   "id": "cf87fb3a",
   "metadata": {},
   "outputs": [
    {
     "data": {
      "text/plain": [
       "numpy.ndarray"
      ]
     },
     "execution_count": 34,
     "metadata": {},
     "output_type": "execute_result"
    }
   ],
   "source": [
    "type(X)"
   ]
  },
  {
   "cell_type": "code",
   "execution_count": 25,
   "id": "f360f5f1",
   "metadata": {},
   "outputs": [],
   "source": [
    "X_train, X_test, y_train, y_test = train_test_split(X, y, test_size=0.25)"
   ]
  },
  {
   "cell_type": "code",
   "execution_count": 26,
   "id": "6ffee090",
   "metadata": {},
   "outputs": [],
   "source": [
    "classifier = LogisticRegression(penalty = 'none')"
   ]
  },
  {
   "cell_type": "code",
   "execution_count": 27,
   "id": "a5549d5a",
   "metadata": {},
   "outputs": [
    {
     "data": {
      "text/plain": [
       "LogisticRegression(penalty='none')"
      ]
     },
     "execution_count": 27,
     "metadata": {},
     "output_type": "execute_result"
    }
   ],
   "source": [
    "classifier.fit(X_train,y_train)"
   ]
  },
  {
   "cell_type": "code",
   "execution_count": 28,
   "id": "12be0b55",
   "metadata": {},
   "outputs": [],
   "source": [
    "y_pred = classifier.predict(X_test)"
   ]
  },
  {
   "cell_type": "code",
   "execution_count": 29,
   "id": "9c0fe8b8",
   "metadata": {},
   "outputs": [
    {
     "data": {
      "text/plain": [
       "0.532"
      ]
     },
     "execution_count": 29,
     "metadata": {},
     "output_type": "execute_result"
    }
   ],
   "source": [
    "(y_pred == y_test).sum()/len(y_pred)"
   ]
  },
  {
   "cell_type": "code",
   "execution_count": 35,
   "id": "2eb70350",
   "metadata": {},
   "outputs": [],
   "source": [
    "#sns.pairplot()"
   ]
  },
  {
   "cell_type": "markdown",
   "id": "650e9a5a",
   "metadata": {},
   "source": [
    "---------------------------------"
   ]
  },
  {
   "cell_type": "code",
   "execution_count": 2,
   "id": "178fa5c2",
   "metadata": {},
   "outputs": [],
   "source": [
    "data = pd.read_csv('binary_iris.csv')"
   ]
  },
  {
   "cell_type": "code",
   "execution_count": 3,
   "id": "8813648b",
   "metadata": {},
   "outputs": [],
   "source": [
    "data = data.sample(n = data.shape[0]).reset_index().drop(columns = ['index'])"
   ]
  },
  {
   "cell_type": "code",
   "execution_count": 4,
   "id": "b429fa0f",
   "metadata": {},
   "outputs": [
    {
     "data": {
      "text/html": [
       "<div>\n",
       "<style scoped>\n",
       "    .dataframe tbody tr th:only-of-type {\n",
       "        vertical-align: middle;\n",
       "    }\n",
       "\n",
       "    .dataframe tbody tr th {\n",
       "        vertical-align: top;\n",
       "    }\n",
       "\n",
       "    .dataframe thead th {\n",
       "        text-align: right;\n",
       "    }\n",
       "</style>\n",
       "<table border=\"1\" class=\"dataframe\">\n",
       "  <thead>\n",
       "    <tr style=\"text-align: right;\">\n",
       "      <th></th>\n",
       "      <th>sepal_length</th>\n",
       "      <th>sepal_width</th>\n",
       "      <th>petal_length</th>\n",
       "      <th>petal_width</th>\n",
       "      <th>label</th>\n",
       "    </tr>\n",
       "  </thead>\n",
       "  <tbody>\n",
       "    <tr>\n",
       "      <th>0</th>\n",
       "      <td>6.4</td>\n",
       "      <td>2.8</td>\n",
       "      <td>5.6</td>\n",
       "      <td>2.2</td>\n",
       "      <td>1</td>\n",
       "    </tr>\n",
       "    <tr>\n",
       "      <th>1</th>\n",
       "      <td>6.3</td>\n",
       "      <td>2.5</td>\n",
       "      <td>5.0</td>\n",
       "      <td>1.9</td>\n",
       "      <td>1</td>\n",
       "    </tr>\n",
       "    <tr>\n",
       "      <th>2</th>\n",
       "      <td>5.8</td>\n",
       "      <td>2.7</td>\n",
       "      <td>3.9</td>\n",
       "      <td>1.2</td>\n",
       "      <td>0</td>\n",
       "    </tr>\n",
       "    <tr>\n",
       "      <th>3</th>\n",
       "      <td>5.6</td>\n",
       "      <td>3.0</td>\n",
       "      <td>4.5</td>\n",
       "      <td>1.5</td>\n",
       "      <td>0</td>\n",
       "    </tr>\n",
       "    <tr>\n",
       "      <th>4</th>\n",
       "      <td>6.4</td>\n",
       "      <td>2.8</td>\n",
       "      <td>5.6</td>\n",
       "      <td>2.1</td>\n",
       "      <td>1</td>\n",
       "    </tr>\n",
       "  </tbody>\n",
       "</table>\n",
       "</div>"
      ],
      "text/plain": [
       "   sepal_length  sepal_width  petal_length  petal_width  label\n",
       "0           6.4          2.8           5.6          2.2      1\n",
       "1           6.3          2.5           5.0          1.9      1\n",
       "2           5.8          2.7           3.9          1.2      0\n",
       "3           5.6          3.0           4.5          1.5      0\n",
       "4           6.4          2.8           5.6          2.1      1"
      ]
     },
     "execution_count": 4,
     "metadata": {},
     "output_type": "execute_result"
    }
   ],
   "source": [
    "data.head()"
   ]
  },
  {
   "cell_type": "code",
   "execution_count": 14,
   "id": "66d4cba1",
   "metadata": {},
   "outputs": [],
   "source": [
    "iris = datasets.load_iris()\n",
    "data = pd.DataFrame(iris.data, columns = ['sepal_length', 'sepal_width', 'petal_length', 'petal_width'])\n",
    "data['Label'] = iris.target"
   ]
  },
  {
   "cell_type": "code",
   "execution_count": 15,
   "id": "33499b65",
   "metadata": {},
   "outputs": [
    {
     "data": {
      "text/plain": [
       "['sepal_length', 'sepal_width', 'petal_length', 'petal_width']"
      ]
     },
     "execution_count": 15,
     "metadata": {},
     "output_type": "execute_result"
    }
   ],
   "source": [
    "cols_to_scale = list(data.columns)\n",
    "cols_to_scale.remove('Label')\n",
    "cols_to_scale"
   ]
  },
  {
   "cell_type": "code",
   "execution_count": 16,
   "id": "1e882a4c",
   "metadata": {},
   "outputs": [],
   "source": [
    "\n",
    "scaler=StandardScaler()"
   ]
  },
  {
   "cell_type": "code",
   "execution_count": 17,
   "id": "f9c55b59",
   "metadata": {},
   "outputs": [],
   "source": [
    "#weather[scaled_cols]=scaler.fit_transform(weather[scaled_cols])\n",
    "data[cols_to_scale] = scaler.fit_transform(data[cols_to_scale])"
   ]
  },
  {
   "cell_type": "code",
   "execution_count": 18,
   "id": "fd91f11c",
   "metadata": {},
   "outputs": [
    {
     "data": {
      "text/plain": [
       "sepal_length    1.003350\n",
       "sepal_width     1.003350\n",
       "petal_length    1.003350\n",
       "petal_width     1.003350\n",
       "Label           0.819232\n",
       "dtype: float64"
      ]
     },
     "execution_count": 18,
     "metadata": {},
     "output_type": "execute_result"
    }
   ],
   "source": [
    "data.std(axis = 0)"
   ]
  },
  {
   "cell_type": "code",
   "execution_count": null,
   "id": "cc426280",
   "metadata": {},
   "outputs": [],
   "source": []
  },
  {
   "cell_type": "code",
   "execution_count": 19,
   "id": "fcab0a4f",
   "metadata": {},
   "outputs": [],
   "source": [
    "X = data.iloc[:, :-1]\n",
    "y = data.iloc[:, -1:].to_numpy().ravel()"
   ]
  },
  {
   "cell_type": "code",
   "execution_count": 20,
   "id": "dcc7fa2c",
   "metadata": {},
   "outputs": [],
   "source": [
    "X_train, X_test, y_train, y_test = train_test_split(X, y, test_size=0.25)"
   ]
  },
  {
   "cell_type": "code",
   "execution_count": 21,
   "id": "9d6409bd",
   "metadata": {},
   "outputs": [],
   "source": [
    "classifier = LogisticRegression()"
   ]
  },
  {
   "cell_type": "code",
   "execution_count": 22,
   "id": "f5372375",
   "metadata": {},
   "outputs": [
    {
     "data": {
      "text/plain": [
       "LogisticRegression()"
      ]
     },
     "execution_count": 22,
     "metadata": {},
     "output_type": "execute_result"
    }
   ],
   "source": [
    "classifier.fit(X_train,y_train)"
   ]
  },
  {
   "cell_type": "code",
   "execution_count": 23,
   "id": "2c5c7096",
   "metadata": {},
   "outputs": [],
   "source": [
    "y_pred = classifier.predict(X_test)"
   ]
  },
  {
   "cell_type": "code",
   "execution_count": 24,
   "id": "26494c46",
   "metadata": {},
   "outputs": [
    {
     "data": {
      "text/plain": [
       "0.9736842105263158"
      ]
     },
     "execution_count": 24,
     "metadata": {},
     "output_type": "execute_result"
    }
   ],
   "source": [
    "y_pred = classifier.predict(X_test)\n",
    "(y_pred == y_test).sum()/len(y_pred)"
   ]
  },
  {
   "cell_type": "code",
   "execution_count": 83,
   "id": "7d63ac52",
   "metadata": {},
   "outputs": [
    {
     "data": {
      "text/plain": [
       "sepal_length    5.843333\n",
       "sepal_width     3.057333\n",
       "petal_length    3.758000\n",
       "petal_width     1.199333\n",
       "Label           1.000000\n",
       "dtype: float64"
      ]
     },
     "execution_count": 83,
     "metadata": {},
     "output_type": "execute_result"
    }
   ],
   "source": [
    "data.mean(axis = 0)"
   ]
  },
  {
   "cell_type": "code",
   "execution_count": 84,
   "id": "9126cdc8",
   "metadata": {},
   "outputs": [
    {
     "data": {
      "text/plain": [
       "sepal_length    0.828066\n",
       "sepal_width     0.435866\n",
       "petal_length    1.765298\n",
       "petal_width     0.762238\n",
       "Label           0.819232\n",
       "dtype: float64"
      ]
     },
     "execution_count": 84,
     "metadata": {},
     "output_type": "execute_result"
    }
   ],
   "source": [
    "data.std(axis = 0)"
   ]
  },
  {
   "cell_type": "markdown",
   "id": "39c7be6a",
   "metadata": {},
   "source": [
    "--------------------------------"
   ]
  },
  {
   "cell_type": "code",
   "execution_count": 85,
   "id": "4ff5a4c6",
   "metadata": {},
   "outputs": [],
   "source": [
    "#data0 = pd.DataFrame({'f1': 1*np.random.normal(size = (500,))+0, 'f2': 1*np.random.normal(size = (500,))+0, 'f3': 1*np.random.normal(size = (500,))+8, 'y': [0 for x in range(500)]})"
   ]
  },
  {
   "cell_type": "code",
   "execution_count": 215,
   "id": "f2ab8da1",
   "metadata": {},
   "outputs": [],
   "source": [
    "data0 = pd.DataFrame({'f1': 1*np.random.normal(size = (500,))+100, 'f2': 0.3*np.random.normal(size = (500,))+2.3, 'f3': 1*np.random.normal(size = (500,))+40})\n",
    "data = pd.DataFrame({'f1': 14*np.random.normal(size = (500,))+100, 'f2': 0.3*np.random.normal(size = (500,))+2.3, 'f3': 3.3*np.random.normal(size = (500,))+20})\n"
   ]
  },
  {
   "cell_type": "code",
   "execution_count": 216,
   "id": "f620eb88",
   "metadata": {},
   "outputs": [],
   "source": [
    "#data = pd.concat([data0, data1], axis = 0)"
   ]
  },
  {
   "cell_type": "code",
   "execution_count": 217,
   "id": "c1067b1a",
   "metadata": {},
   "outputs": [],
   "source": [
    "data['y'] = np.random.choice(np.array([0,1,2]), size = (500,))"
   ]
  },
  {
   "cell_type": "code",
   "execution_count": 218,
   "id": "c530e922",
   "metadata": {},
   "outputs": [],
   "source": [
    "data = data.sample(n = data.shape[0]).reset_index().drop(columns = ['index'])"
   ]
  },
  {
   "cell_type": "code",
   "execution_count": null,
   "id": "1a68cf62",
   "metadata": {},
   "outputs": [],
   "source": []
  },
  {
   "cell_type": "code",
   "execution_count": 220,
   "id": "6ee1fa87",
   "metadata": {},
   "outputs": [],
   "source": [
    "X = data.iloc[:, :-1]\n",
    "y = data.iloc[:, -1:].to_numpy().ravel()"
   ]
  },
  {
   "cell_type": "code",
   "execution_count": 223,
   "id": "67bbd445",
   "metadata": {},
   "outputs": [],
   "source": [
    "X_train, X_test, y_train, y_test = train_test_split(X, y) "
   ]
  },
  {
   "cell_type": "code",
   "execution_count": 224,
   "id": "5b612520",
   "metadata": {},
   "outputs": [
    {
     "data": {
      "text/plain": [
       "KNeighborsClassifier()"
      ]
     },
     "execution_count": 224,
     "metadata": {},
     "output_type": "execute_result"
    }
   ],
   "source": [
    "X_train, X_test, y_train, y_test = train_test_split(X, y) \n",
    "knn = KNeighborsClassifier() \n",
    "knn.fit(X_train, y_train)"
   ]
  },
  {
   "cell_type": "code",
   "execution_count": 225,
   "id": "14988b46",
   "metadata": {},
   "outputs": [
    {
     "data": {
      "text/plain": [
       "0.352"
      ]
     },
     "execution_count": 225,
     "metadata": {},
     "output_type": "execute_result"
    }
   ],
   "source": [
    "y_pred = knn.predict(X_test)\n",
    "(y_pred == y_test).sum()/len(y_pred)"
   ]
  },
  {
   "cell_type": "code",
   "execution_count": 202,
   "id": "50379d6a",
   "metadata": {},
   "outputs": [],
   "source": [
    "scaler=StandardScaler()"
   ]
  },
  {
   "cell_type": "code",
   "execution_count": 203,
   "id": "1473d6eb",
   "metadata": {},
   "outputs": [],
   "source": [
    "X_scaled = scaler.fit_transform(X)"
   ]
  },
  {
   "cell_type": "code",
   "execution_count": null,
   "id": "1159b649",
   "metadata": {},
   "outputs": [],
   "source": []
  },
  {
   "cell_type": "code",
   "execution_count": 204,
   "id": "6ab1f44e",
   "metadata": {},
   "outputs": [
    {
     "data": {
      "text/plain": [
       "f1    1.452172e-16\n",
       "f2    1.429891e-15\n",
       "f3   -3.406164e-16\n",
       "y     4.880000e-01\n",
       "dtype: float64"
      ]
     },
     "execution_count": 204,
     "metadata": {},
     "output_type": "execute_result"
    }
   ],
   "source": [
    "data.mean(axis = 0)"
   ]
  },
  {
   "cell_type": "code",
   "execution_count": 205,
   "id": "574ce3d6",
   "metadata": {},
   "outputs": [
    {
     "data": {
      "text/plain": [
       "f1    1.001002\n",
       "f2    1.001002\n",
       "f3    1.001002\n",
       "y     0.500357\n",
       "dtype: float64"
      ]
     },
     "execution_count": 205,
     "metadata": {},
     "output_type": "execute_result"
    }
   ],
   "source": [
    "data.std(axis = 0)"
   ]
  },
  {
   "cell_type": "code",
   "execution_count": 207,
   "id": "9f188f3a",
   "metadata": {},
   "outputs": [
    {
     "data": {
      "text/plain": [
       "KNeighborsClassifier()"
      ]
     },
     "execution_count": 207,
     "metadata": {},
     "output_type": "execute_result"
    }
   ],
   "source": [
    "X_train, X_test, y_train, y_test = train_test_split(X, y) \n",
    "knn = KNeighborsClassifier() \n",
    "knn.fit(X_train, y_train)"
   ]
  },
  {
   "cell_type": "code",
   "execution_count": 209,
   "id": "c7d8b1d0",
   "metadata": {},
   "outputs": [
    {
     "data": {
      "text/plain": [
       "0.472"
      ]
     },
     "execution_count": 209,
     "metadata": {},
     "output_type": "execute_result"
    }
   ],
   "source": [
    "y_pred = knn.predict(X_test)\n",
    "(y_pred == y_test).sum()/len(y_pred)"
   ]
  },
  {
   "cell_type": "code",
   "execution_count": null,
   "id": "e1ff1c26",
   "metadata": {},
   "outputs": [],
   "source": []
  },
  {
   "cell_type": "code",
   "execution_count": null,
   "id": "642506ac",
   "metadata": {},
   "outputs": [],
   "source": []
  },
  {
   "cell_type": "code",
   "execution_count": null,
   "id": "23022ab1",
   "metadata": {},
   "outputs": [],
   "source": []
  },
  {
   "cell_type": "code",
   "execution_count": 66,
   "id": "9a4d7314",
   "metadata": {},
   "outputs": [],
   "source": [
    "data['f1'] = 50*data['f1']+100\n",
    "data['f2'] = 1*data['f2']-100"
   ]
  },
  {
   "cell_type": "code",
   "execution_count": null,
   "id": "5e74b806",
   "metadata": {},
   "outputs": [],
   "source": []
  },
  {
   "cell_type": "code",
   "execution_count": null,
   "id": "b1315628",
   "metadata": {},
   "outputs": [],
   "source": []
  },
  {
   "cell_type": "code",
   "execution_count": null,
   "id": "7f693655",
   "metadata": {},
   "outputs": [],
   "source": []
  },
  {
   "cell_type": "code",
   "execution_count": 88,
   "id": "f3606272",
   "metadata": {},
   "outputs": [
    {
     "data": {
      "text/plain": [
       "<matplotlib.legend.Legend at 0x1f9d87a26a0>"
      ]
     },
     "execution_count": 88,
     "metadata": {},
     "output_type": "execute_result"
    },
    {
     "data": {
      "image/png": "[encoded data removed]",
      "text/plain": [
       "<Figure size 864x720 with 2 Axes>"
      ]
     },
     "metadata": {
      "needs_background": "light"
     },
     "output_type": "display_data"
    }
   ],
   "source": [
    "f1 = 'f1'\n",
    "f2 = 'f2'\n",
    "\n",
    "fig=plt.figure(figsize=(12,10))\n",
    "ax1=fig.add_subplot(2,1,1)\n",
    "ax2=fig.add_subplot(2,1,2)\n",
    "\n",
    "data[data[\"y\"]==0]['f1'].plot.hist(ax=ax1, edgecolor=\"black\", bins=50, alpha=1.0, color=\"b\", label='0')\n",
    "data[data[\"y\"]==1]['f1'].plot.hist(ax=ax1, edgecolor=\"black\", bins=50, alpha=0.6, color=\"g\", label='1')\n",
    "\n",
    "data[data[\"y\"]==0]['f2'].plot.hist(ax=ax2, edgecolor=\"black\", bins=50, alpha=1.0, color=\"b\", label='0')\n",
    "data[data[\"y\"]==1]['f2'].plot.hist(ax=ax2, edgecolor=\"black\", bins=50, alpha=0.6, color=\"g\", label='1')\n",
    "\n",
    "ax1.legend()\n",
    "ax2.legend()"
   ]
  },
  {
   "cell_type": "code",
   "execution_count": null,
   "id": "37325730",
   "metadata": {},
   "outputs": [],
   "source": []
  }
 ],
 "metadata": {
  "kernelspec": {
   "display_name": "Python 3 (ipykernel)",
   "language": "python",
   "name": "python3"
  },
  "language_info": {
   "codemirror_mode": {
    "name": "ipython",
    "version": 3
   },
   "file_extension": ".py",
   "mimetype": "text/x-python",
   "name": "python",
   "nbconvert_exporter": "python",
   "pygments_lexer": "ipython3",
   "version": "3.9.12"
  }
 },
 "nbformat": 4,
 "nbformat_minor": 5
}
