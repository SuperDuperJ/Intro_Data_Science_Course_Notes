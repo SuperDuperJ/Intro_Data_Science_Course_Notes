{
 "cells": [
  {
   "cell_type": "markdown",
   "id": "93c94121",
   "metadata": {},
   "source": [
    "### Dictionaries\n",
    "\n",
    "A *dictionary* is a collection of key-value pairs.  A dictionary in Python is called a *dict*.\n",
    "\n",
    "##### Example 1"
   ]
  },
  {
   "cell_type": "code",
   "execution_count": 1,
   "id": "6e79152f",
   "metadata": {},
   "outputs": [
    {
     "data": {
      "text/plain": [
       "{'a': 2, 'b': [1, 2, 3], 'c': (4, 5, 6), 'd': 'Oregon Tech'}"
      ]
     },
     "execution_count": 1,
     "metadata": {},
     "output_type": "execute_result"
    }
   ],
   "source": [
    "my_dict = {'a' : 2, 'b' : [1,2,3], 'c' : (4,5,6), 'd' : 'Oregon Tech'}\n",
    "my_dict"
   ]
  },
  {
   "cell_type": "markdown",
   "id": "a8aa54da",
   "metadata": {},
   "source": [
    "We can use a key to access its associated value."
   ]
  },
  {
   "cell_type": "code",
   "execution_count": 2,
   "id": "f49a83df",
   "metadata": {},
   "outputs": [
    {
     "data": {
      "text/plain": [
       "2"
      ]
     },
     "execution_count": 2,
     "metadata": {},
     "output_type": "execute_result"
    }
   ],
   "source": [
    "my_dict['a']"
   ]
  },
  {
   "cell_type": "code",
   "execution_count": 3,
   "id": "208dead7",
   "metadata": {},
   "outputs": [
    {
     "data": {
      "text/plain": [
       "[1, 2, 3]"
      ]
     },
     "execution_count": 3,
     "metadata": {},
     "output_type": "execute_result"
    }
   ],
   "source": [
    "my_dict['b']"
   ]
  },
  {
   "cell_type": "markdown",
   "id": "87256fcc",
   "metadata": {},
   "source": [
    "The *keys* and *values* methods each return a list containing all keys and values."
   ]
  },
  {
   "cell_type": "code",
   "execution_count": 4,
   "id": "5563f126",
   "metadata": {},
   "outputs": [
    {
     "data": {
      "text/plain": [
       "dict_keys(['a', 'b', 'c', 'd'])"
      ]
     },
     "execution_count": 4,
     "metadata": {},
     "output_type": "execute_result"
    }
   ],
   "source": [
    "my_dict.keys()"
   ]
  },
  {
   "cell_type": "code",
   "execution_count": 5,
   "id": "f22b49de",
   "metadata": {},
   "outputs": [
    {
     "data": {
      "text/plain": [
       "dict_values([2, [1, 2, 3], (4, 5, 6), 'Oregon Tech'])"
      ]
     },
     "execution_count": 5,
     "metadata": {},
     "output_type": "execute_result"
    }
   ],
   "source": [
    "my_dict.values()"
   ]
  },
  {
   "cell_type": "markdown",
   "id": "255a96d1",
   "metadata": {},
   "source": [
    "A key-value pair can be added to a dict using syntax similar to function notation $f(x)=y$. "
   ]
  },
  {
   "cell_type": "code",
   "execution_count": 6,
   "id": "c851d8d7",
   "metadata": {},
   "outputs": [
    {
     "data": {
      "text/plain": [
       "{'a': 2, 'b': [1, 2, 3], 'c': (4, 5, 6), 'd': 'Oregon Tech'}"
      ]
     },
     "execution_count": 6,
     "metadata": {},
     "output_type": "execute_result"
    }
   ],
   "source": [
    "my_dict"
   ]
  },
  {
   "cell_type": "code",
   "execution_count": 7,
   "id": "5d5b338a",
   "metadata": {},
   "outputs": [],
   "source": [
    "my_dict['e'] = 5.85"
   ]
  },
  {
   "cell_type": "code",
   "execution_count": 8,
   "id": "cea68cd5",
   "metadata": {},
   "outputs": [
    {
     "data": {
      "text/plain": [
       "{'a': 2, 'b': [1, 2, 3], 'c': (4, 5, 6), 'd': 'Oregon Tech', 'e': 5.85}"
      ]
     },
     "execution_count": 8,
     "metadata": {},
     "output_type": "execute_result"
    }
   ],
   "source": [
    "my_dict"
   ]
  },
  {
   "cell_type": "markdown",
   "id": "8bb1cdcc",
   "metadata": {},
   "source": [
    "We can use the methods for the values as we normally would."
   ]
  },
  {
   "cell_type": "code",
   "execution_count": 2,
   "id": "32a5c696",
   "metadata": {},
   "outputs": [
    {
     "data": {
      "text/plain": [
       "{'a': 2, 'b': [1, 2, 3, 4], 'c': (4, 5, 6), 'd': 'Oregon Tech'}"
      ]
     },
     "execution_count": 2,
     "metadata": {},
     "output_type": "execute_result"
    }
   ],
   "source": [
    "my_dict['b'].append(4)\n",
    "my_dict"
   ]
  },
  {
   "cell_type": "code",
   "execution_count": 3,
   "id": "0855d30b",
   "metadata": {},
   "outputs": [
    {
     "data": {
      "text/plain": [
       "{'a': 2, 'b': [1, 2, 3, 4], 'c': (4, 5, 6), 'd': 'Oregon Tech is awesome!'}"
      ]
     },
     "execution_count": 3,
     "metadata": {},
     "output_type": "execute_result"
    }
   ],
   "source": [
    "my_dict['d'] += ' is awesome!'\n",
    "my_dict"
   ]
  },
  {
   "cell_type": "markdown",
   "id": "f98ebdca",
   "metadata": {},
   "source": [
    "$\\Box$\n",
    "\n",
    "#### Deleting Key-Value Pairs\n",
    "\n",
    "Both the *del* keyword and the *pop* method can be used to delete key-value pairs from a dictionary.  The difference is that pop returns the value and deletes the key.\n",
    "\n",
    "##### Example 2"
   ]
  },
  {
   "cell_type": "code",
   "execution_count": 14,
   "id": "fc9ad545",
   "metadata": {},
   "outputs": [
    {
     "data": {
      "text/plain": [
       "{1: 'one', 2: 'two', 3: 'three', 4: 'four', 5: 'five'}"
      ]
     },
     "execution_count": 14,
     "metadata": {},
     "output_type": "execute_result"
    }
   ],
   "source": [
    "numbers = {1:'one', 2:'two', 3:'three', 4:'four', 5:'five'}\n",
    "numbers"
   ]
  },
  {
   "cell_type": "code",
   "execution_count": 11,
   "id": "d6d84f01",
   "metadata": {},
   "outputs": [],
   "source": [
    "del numbers[2]"
   ]
  },
  {
   "cell_type": "code",
   "execution_count": 12,
   "id": "09adc0be",
   "metadata": {},
   "outputs": [
    {
     "data": {
      "text/plain": [
       "{1: 'one', 3: 'three', 4: 'four', 5: 'five'}"
      ]
     },
     "execution_count": 12,
     "metadata": {},
     "output_type": "execute_result"
    }
   ],
   "source": [
    "numbers"
   ]
  },
  {
   "cell_type": "code",
   "execution_count": 16,
   "id": "f10a766f",
   "metadata": {},
   "outputs": [
    {
     "ename": "KeyError",
     "evalue": "2",
     "output_type": "error",
     "traceback": [
      "\u001b[1;31m---------------------------------------------------------------------------\u001b[0m",
      "\u001b[1;31mKeyError\u001b[0m                                  Traceback (most recent call last)",
      "Input \u001b[1;32mIn [16]\u001b[0m, in \u001b[0;36m<cell line: 1>\u001b[1;34m()\u001b[0m\n\u001b[1;32m----> 1\u001b[0m \u001b[43mnumbers\u001b[49m\u001b[38;5;241;43m.\u001b[39;49m\u001b[43mpop\u001b[49m\u001b[43m(\u001b[49m\u001b[38;5;241;43m2\u001b[39;49m\u001b[43m)\u001b[49m\n",
      "\u001b[1;31mKeyError\u001b[0m: 2"
     ]
    }
   ],
   "source": [
    "numbers.pop(2)"
   ]
  },
  {
   "cell_type": "code",
   "execution_count": 6,
   "id": "4ca83f45",
   "metadata": {},
   "outputs": [
    {
     "data": {
      "text/plain": [
       "{1: 'one', 3: 'three', 5: 'five'}"
      ]
     },
     "execution_count": 6,
     "metadata": {},
     "output_type": "execute_result"
    }
   ],
   "source": [
    "numbers"
   ]
  },
  {
   "cell_type": "markdown",
   "id": "065a1da6",
   "metadata": {},
   "source": [
    "$\\Box$\n",
    "\n",
    "A common way to create a dict is to use the zip or enumerate functions and the *dict type function*. \n",
    "\n",
    "##### Example 3"
   ]
  },
  {
   "cell_type": "code",
   "execution_count": 17,
   "id": "c135aea0",
   "metadata": {},
   "outputs": [
    {
     "data": {
      "text/plain": [
       "['a', 'b', 'c', 'd', 'e']"
      ]
     },
     "execution_count": 17,
     "metadata": {},
     "output_type": "execute_result"
    }
   ],
   "source": [
    "letters = 'a b c d e'.split(' ')\n",
    "letters"
   ]
  },
  {
   "cell_type": "code",
   "execution_count": 18,
   "id": "e3458cb4",
   "metadata": {},
   "outputs": [
    {
     "data": {
      "text/plain": [
       "['all', 'bats', 'can', 'dive', 'easily']"
      ]
     },
     "execution_count": 18,
     "metadata": {},
     "output_type": "execute_result"
    }
   ],
   "source": [
    "words = 'all bats can dive easily'.split(' ')\n",
    "words"
   ]
  },
  {
   "cell_type": "code",
   "execution_count": 20,
   "id": "e5e5f69d",
   "metadata": {},
   "outputs": [
    {
     "data": {
      "text/plain": [
       "[('a', 'all'), ('b', 'bats'), ('c', 'can'), ('d', 'dive'), ('e', 'easily')]"
      ]
     },
     "execution_count": 20,
     "metadata": {},
     "output_type": "execute_result"
    }
   ],
   "source": [
    "list(zip(letters,words))"
   ]
  },
  {
   "cell_type": "code",
   "execution_count": 13,
   "id": "365874c0",
   "metadata": {},
   "outputs": [
    {
     "data": {
      "text/plain": [
       "{'a': 'all', 'b': 'bats', 'c': 'can', 'd': 'dive', 'e': 'easily'}"
      ]
     },
     "execution_count": 13,
     "metadata": {},
     "output_type": "execute_result"
    }
   ],
   "source": [
    "dict(zip(letters, words))"
   ]
  },
  {
   "cell_type": "markdown",
   "id": "90995c20",
   "metadata": {},
   "source": [
    "$\\Box$\n",
    "\n",
    "##### Exercise 1\n",
    "Write code so that the following function performs the way that its docstring indicates.\n",
    "\n",
    "Examples: swap({1: 'one', 3: 'three', 5: 'five'}) returns {'one': 1, 'three': 3, 'five': 5}."
   ]
  },
  {
   "cell_type": "code",
   "execution_count": 32,
   "id": "edb92a68",
   "metadata": {},
   "outputs": [],
   "source": [
    "def swap(some_dict):\n",
    "    \"\"\"\n",
    "    Parameters\n",
    "    -----------\n",
    "    some_dict: dict\n",
    "    \n",
    "    Returns\n",
    "    -----------\n",
    "    A new dict, say new_dict, where new_dict.keys() = some_dict.values() and new_dict.values() = some_dict.keys()\n",
    "    \"\"\"    "
   ]
  },
  {
   "cell_type": "markdown",
   "id": "7012a6ef",
   "metadata": {},
   "source": [
    "Test your code by running the cell below."
   ]
  },
  {
   "cell_type": "code",
   "execution_count": null,
   "id": "6ea71638",
   "metadata": {},
   "outputs": [],
   "source": [
    "list1 = 'aa bb cc dd ee'.split(' ')\n",
    "list2 = 'AA BB CC DD EE'.split(' ')\n",
    "\n",
    "dict1 = dict(zip(range(5),list1))\n",
    "dict2 = dict(zip(list1, range(5)))\n",
    "dict3 = dict(zip(list1,list2))\n",
    "dict4 = dict(zip(list2,list1))\n",
    "\n",
    "if not swap(dict1)==dict2:\n",
    "    print(\"Something is wrong with your code.\")\n",
    "elif not swap(dict3)==dict4:\n",
    "    print(\"Something is wrong with your code.\")\n",
    "else:\n",
    "    print(\"All tests passed.\")"
   ]
  },
  {
   "cell_type": "markdown",
   "id": "bd5525da",
   "metadata": {},
   "source": [
    "$\\Box$\n",
    "\n",
    "### Using the *in* Keyword\n",
    "\n",
    "The *in* keyword can be used to check if a key has a key-value pair in a dict.\n",
    "\n",
    "##### Example 4"
   ]
  },
  {
   "cell_type": "code",
   "execution_count": 21,
   "id": "9b9c7b3b",
   "metadata": {},
   "outputs": [
    {
     "data": {
      "text/plain": [
       "{1: 'one', 3: 'three', 4: 'four', 5: 'five'}"
      ]
     },
     "execution_count": 21,
     "metadata": {},
     "output_type": "execute_result"
    }
   ],
   "source": [
    "numbers"
   ]
  },
  {
   "cell_type": "code",
   "execution_count": 23,
   "id": "b3d65161",
   "metadata": {},
   "outputs": [
    {
     "data": {
      "text/plain": [
       "True"
      ]
     },
     "execution_count": 23,
     "metadata": {},
     "output_type": "execute_result"
    }
   ],
   "source": [
    "1 in numbers"
   ]
  },
  {
   "cell_type": "code",
   "execution_count": 24,
   "id": "ca21b86d",
   "metadata": {},
   "outputs": [
    {
     "data": {
      "text/plain": [
       "False"
      ]
     },
     "execution_count": 24,
     "metadata": {},
     "output_type": "execute_result"
    }
   ],
   "source": [
    "2 in numbers"
   ]
  },
  {
   "cell_type": "code",
   "execution_count": 27,
   "id": "4d6fac9c",
   "metadata": {},
   "outputs": [
    {
     "data": {
      "text/plain": [
       "False"
      ]
     },
     "execution_count": 27,
     "metadata": {},
     "output_type": "execute_result"
    }
   ],
   "source": [
    "'one' in numbers"
   ]
  },
  {
   "cell_type": "markdown",
   "id": "d4f02d71",
   "metadata": {},
   "source": [
    "$\\Box$\n",
    "\n",
    "A common use of the *in* and *not* keywords is to add key-value pairs to a dictionary.\n",
    "\n",
    "##### Example 5"
   ]
  },
  {
   "cell_type": "code",
   "execution_count": 31,
   "id": "f0378c51",
   "metadata": {},
   "outputs": [
    {
     "data": {
      "text/plain": [
       "{1: 'one', 3: 'three', 4: 'four', 5: 'five'}"
      ]
     },
     "execution_count": 31,
     "metadata": {},
     "output_type": "execute_result"
    }
   ],
   "source": [
    "numbers"
   ]
  },
  {
   "cell_type": "code",
   "execution_count": 29,
   "id": "92eac8f6",
   "metadata": {},
   "outputs": [
    {
     "data": {
      "text/plain": [
       "['zero', 'one', 'two', 'three', 'four', 'five']"
      ]
     },
     "execution_count": 29,
     "metadata": {},
     "output_type": "execute_result"
    }
   ],
   "source": [
    "'zero one two three four five'.split(' ')"
   ]
  },
  {
   "cell_type": "code",
   "execution_count": 32,
   "id": "cc2cbf0c",
   "metadata": {},
   "outputs": [
    {
     "data": {
      "text/plain": [
       "{1: 'one', 3: 'three', 4: 'four', 5: 'five', 0: 'zero', 2: 'two'}"
      ]
     },
     "execution_count": 32,
     "metadata": {},
     "output_type": "execute_result"
    }
   ],
   "source": [
    "for x,y in zip(range(6),'zero one two three four five'.split(' ')):\n",
    "    if x not in numbers:\n",
    "        numbers[x] = y\n",
    "numbers"
   ]
  },
  {
   "cell_type": "markdown",
   "id": "b430d0c0",
   "metadata": {},
   "source": [
    "$\\Box$\n",
    "\n",
    "The next example is based on the example in McKinney 2e, page 63.\n",
    "\n",
    "##### Example 6\n",
    "\n",
    "Given a list of words, say word_list, we are going to create a dictionary whose keys are the first letters of the words in word_list and the values are lists containing all words that begin with the letter that is the key."
   ]
  },
  {
   "cell_type": "code",
   "execution_count": 36,
   "id": "c20ed9ce",
   "metadata": {},
   "outputs": [
    {
     "data": {
      "text/plain": [
       "{'c': ['can', 'capable', 'car', 'common'], 'z': ['zoo', 'zip'], 'b': ['brown']}"
      ]
     },
     "execution_count": 36,
     "metadata": {},
     "output_type": "execute_result"
    }
   ],
   "source": [
    "word_list = ['can', 'capable', 'zoo', 'zip', 'car', 'brown', 'common']\n",
    "\n",
    "dict_by_letter = {}\n",
    "\n",
    "for word in word_list:\n",
    "    if word[0] in dict_by_letter:\n",
    "        dict_by_letter[word[0]].append(word)\n",
    "    else:\n",
    "        dict_by_letter[word[0]] = [word]\n",
    "\n",
    "dict_by_letter"
   ]
  },
  {
   "cell_type": "markdown",
   "id": "ba3b410e",
   "metadata": {},
   "source": [
    "$\\Box$\n",
    "\n",
    "##### Exercise 2\n",
    "\n",
    "Write code so that the following function performs the way that its docstring indicates.\n",
    "\n",
    "Examples: by_length($[$'a', 'dog', 'went', 'to', 'the', 'dogpark', 'and', 'was', 'excited'$]$) should return\n",
    "\n",
    "{1:$[$'a'$]$, 2:$[$'to'$]$, 3:$[$'dog', 'the', 'and', 'was'$]$, 4:$[$'went'$]$, 7:$[$'dogpark','excited'$]$}"
   ]
  },
  {
   "cell_type": "code",
   "execution_count": null,
   "id": "0fc39d27",
   "metadata": {},
   "outputs": [],
   "source": [
    "def by_length(string_list):\n",
    "    \"\"\"\n",
    "    Parameters\n",
    "    -----------\n",
    "    string_list: list of strings\n",
    "    \n",
    "    Returns\n",
    "    -----------\n",
    "    A dict whose keys are the length of words in string_list and values are all words in string_list that have \n",
    "    the key length.\n",
    "    \"\"\""
   ]
  },
  {
   "cell_type": "code",
   "execution_count": null,
   "id": "254fa90d",
   "metadata": {},
   "outputs": [],
   "source": [
    "if by_length('a dog went to the dogpark and was excited'.split(' ')) != {1: ['a'],3: ['dog', 'the', 'and', 'was'],4: ['went'],2: ['to'],7: ['dogpark', 'excited']}:\n",
    "    print(\"Something is wrong with your code.\")\n",
    "else:\n",
    "    print(\"All tests passed.\")"
   ]
  },
  {
   "cell_type": "markdown",
   "id": "539c55e2",
   "metadata": {},
   "source": [
    "### Dict Comprehensions\n",
    "\n",
    "Dicts can be constructed using a comprehension similar to that of lists.\n",
    "\n",
    "The syntax for a dict comprehension is $\\{$ *key-expression* : *value-expression* for *value* in *collection* $\\}$.\n",
    "\n",
    "As with list comprehensions, an if condition can be added.\n",
    "\n",
    "##### Example 7"
   ]
  },
  {
   "cell_type": "code",
   "execution_count": 33,
   "id": "792132ab",
   "metadata": {},
   "outputs": [],
   "source": [
    "some_string = 'I went outside to get some fresh air.'\n",
    "\n",
    "index_of_words = {index : word for (index, word) in enumerate(some_string.split(' '))}"
   ]
  },
  {
   "cell_type": "code",
   "execution_count": 36,
   "id": "2c96abf8",
   "metadata": {},
   "outputs": [
    {
     "data": {
      "text/plain": [
       "[(0, 'I'),\n",
       " (1, 'went'),\n",
       " (2, 'outside'),\n",
       " (3, 'to'),\n",
       " (4, 'get'),\n",
       " (5, 'some'),\n",
       " (6, 'fresh'),\n",
       " (7, 'air.')]"
      ]
     },
     "execution_count": 36,
     "metadata": {},
     "output_type": "execute_result"
    }
   ],
   "source": [
    "list(enumerate(some_string.split(' ')))"
   ]
  },
  {
   "cell_type": "code",
   "execution_count": 2,
   "id": "bbe5adbc",
   "metadata": {},
   "outputs": [
    {
     "data": {
      "text/plain": [
       "'went'"
      ]
     },
     "execution_count": 2,
     "metadata": {},
     "output_type": "execute_result"
    }
   ],
   "source": [
    "index_of_words[1]"
   ]
  },
  {
   "cell_type": "code",
   "execution_count": 3,
   "id": "efe6e8dc",
   "metadata": {},
   "outputs": [
    {
     "data": {
      "text/plain": [
       "'get'"
      ]
     },
     "execution_count": 3,
     "metadata": {},
     "output_type": "execute_result"
    }
   ],
   "source": [
    "index_of_words[4]"
   ]
  },
  {
   "cell_type": "markdown",
   "id": "bdda449a",
   "metadata": {},
   "source": [
    "$\\Box$"
   ]
  },
  {
   "cell_type": "code",
   "execution_count": null,
   "id": "b2a65e46",
   "metadata": {},
   "outputs": [],
   "source": []
  }
 ],
 "metadata": {
  "kernelspec": {
   "display_name": "Python 3 (ipykernel)",
   "language": "python",
   "name": "python3"
  },
  "language_info": {
   "codemirror_mode": {
    "name": "ipython",
    "version": 3
   },
   "file_extension": ".py",
   "mimetype": "text/x-python",
   "name": "python",
   "nbconvert_exporter": "python",
   "pygments_lexer": "ipython3",
   "version": "3.9.12"
  }
 },
 "nbformat": 4,
 "nbformat_minor": 5
}
